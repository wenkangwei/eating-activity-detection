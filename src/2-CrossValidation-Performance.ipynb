{
 "cells": [
  {
   "cell_type": "code",
   "execution_count": 1,
   "metadata": {},
   "outputs": [],
   "source": [
    "# from packages import *\n",
    "import sys\n",
    "import numpy as np\n",
    "from numpy.random import seed\n",
    "### imports\n",
    "import os\n",
    "os.environ['TF_CPP_MIN_LOG_LEVEL'] = '3' # Turn off TensorFlow logging\n",
    "import tensorflow as tf\n",
    "\n",
    "import numpy as np\n",
    "import pandas as pd\n",
    "import torch\n",
    "import sklearn\n",
    "import seaborn as sns\n",
    "import matplotlib.pyplot as plt\n",
    "%matplotlib inline\n",
    "import random\n",
    "#from sklearn.metrics import classification_report, confusion_matrix\n",
    "from datetime import datetime\n",
    "import loadfile\n",
    "import addons\n",
    "\n",
    "import keras\n",
    "from tensorflow.keras.models import Sequential\n",
    "from tensorflow.keras.layers import Dense, Dropout, Flatten, Reshape, Activation\n",
    "from tensorflow.keras.layers import Conv1D, MaxPooling1D, GlobalAveragePooling1D, Input, add\n",
    "# from tensorflow.keras.utils import np_utils\n",
    "from tensorflow.keras.regularizers import l1\n",
    "from tensorflow.keras.models import load_model, save_model, Model\n",
    "\n",
    "\n",
    "from dataset import create_train_test_file_list, Person_MealsDataset, balance_data_indices\n",
    "from utils import *\n",
    "from model import *\n"
   ]
  },
  {
   "cell_type": "code",
   "execution_count": 2,
   "metadata": {},
   "outputs": [],
   "source": [
    "from dataset import *\n",
    "from hysteresis_threshold import *\n",
    "from cross_validation import *\n",
    "from train_model import *"
   ]
  },
  {
   "cell_type": "code",
   "execution_count": 3,
   "metadata": {},
   "outputs": [],
   "source": [
    "\n",
    "shimmer_global_mean = [-0.012359981,-0.0051663737,0.011612018,\n",
    "                        0.05796114,0.1477952,-0.034395125 ]\n",
    "\n",
    "shimmer_global_stddev = [0.05756385,0.040893298,0.043825723,\n",
    "                        17.199743,15.311142,21.229317 ]\n",
    "\n",
    "shimmer_trended_mean = [-0.000002,-0.000002,-0.000000,\n",
    "                0.058144,0.147621,-0.033260 ]\n",
    "\n",
    "shimmer_trended_stddev = [0.037592,0.034135,0.032263,\n",
    "                17.209038,15.321441,21.242532 ]\n",
    "\n",
    "all_zero_means = [0,0,0,0,0,0]\n",
    "\n",
    "meanvals = all_zero_means\n",
    "stdvals = shimmer_trended_stddev\n",
    "\n",
    "\n",
    "random_seed  = 1000\n",
    "\n"
   ]
  },
  {
   "cell_type": "code",
   "execution_count": 4,
   "metadata": {},
   "outputs": [],
   "source": [
    "def seed_everything(seed= 1000):\n",
    "    np.random.seed(seed)\n",
    "    random.seed(seed)\n",
    "    tf.random.set_seed(seed)\n",
    "    os.environ['PYTHONHASHSEED'] = str(seed)\n",
    "    torch.manual_seed(seed)\n",
    "    torch.cuda.manual_seed(seed)\n",
    "    torch.backends.cudnn.deterministic = True\n",
    "    torch.backends.cudnn.benchmark = True\n",
    "    \n",
    "seed_everything(seed= random_seed)  "
   ]
  },
  {
   "cell_type": "code",
   "execution_count": 5,
   "metadata": {},
   "outputs": [],
   "source": [
    "def acti_model(input_shape):\n",
    "        \n",
    "        model = Sequential()\n",
    "        \n",
    "        model.add(Conv1D(10, 44, strides=2,activation='relu', input_shape=input_shape))\n",
    "        model.add(Conv1D(10, 20, strides=2, activation='relu',kernel_regularizer=tf.keras.regularizers.l1(0.01)))\n",
    "        model.add(Conv1D(10, 4, strides=2, activation='relu',kernel_regularizer=tf.keras.regularizers.l1(0.01)))\n",
    "        model.add(GlobalAveragePooling1D())\n",
    "        model.add(Dense(200, activation='relu'))\n",
    "        model.add(Dense(1, activation='sigmoid'))\n",
    "        return model\n"
   ]
  },
  {
   "cell_type": "code",
   "execution_count": 6,
   "metadata": {},
   "outputs": [],
   "source": [
    "# name_ls = [\"tianyi\",\"james\"]\n",
    "# for name in name_ls:\n",
    "#     create_train_test_file_list(file_name= \"all_files_list.txt\",person_name =name,\n",
    "#                          out_path = \"../data-file-indices/\",root_path= \"../\",\n",
    "#                          test_ratio = 0.2, print_flag = True, shuffle=True, random_state=random_seed)"
   ]
  },
  {
   "cell_type": "code",
   "execution_count": 6,
   "metadata": {},
   "outputs": [
    {
     "data": {
      "text/html": [
       "<div>\n",
       "<style scoped>\n",
       "    .dataframe tbody tr th:only-of-type {\n",
       "        vertical-align: middle;\n",
       "    }\n",
       "\n",
       "    .dataframe tbody tr th {\n",
       "        vertical-align: top;\n",
       "    }\n",
       "\n",
       "    .dataframe thead th {\n",
       "        text-align: right;\n",
       "    }\n",
       "</style>\n",
       "<table border=\"1\" class=\"dataframe\">\n",
       "  <thead>\n",
       "    <tr style=\"text-align: right;\">\n",
       "      <th></th>\n",
       "      <th>dataset</th>\n",
       "      <th>Days</th>\n",
       "      <th>Total Hours</th>\n",
       "      <th>Meal Counts</th>\n",
       "      <th>Average Meal Counts Per Day</th>\n",
       "      <th>Average Hours Per Meal</th>\n",
       "      <th>Eating Hours</th>\n",
       "      <th>No Eating Hours</th>\n",
       "      <th>Balance Ratio(no_eat/eat)</th>\n",
       "    </tr>\n",
       "  </thead>\n",
       "  <tbody>\n",
       "    <tr>\n",
       "      <th>0</th>\n",
       "      <td>wenkanw</td>\n",
       "      <td>17</td>\n",
       "      <td>129.2</td>\n",
       "      <td>32</td>\n",
       "      <td>1.9</td>\n",
       "      <td>0.2</td>\n",
       "      <td>7.7</td>\n",
       "      <td>121.5</td>\n",
       "      <td>15.8</td>\n",
       "    </tr>\n",
       "    <tr>\n",
       "      <th>1</th>\n",
       "      <td>adam</td>\n",
       "      <td>14</td>\n",
       "      <td>125.6</td>\n",
       "      <td>26</td>\n",
       "      <td>1.9</td>\n",
       "      <td>0.1</td>\n",
       "      <td>3.3</td>\n",
       "      <td>122.3</td>\n",
       "      <td>37.1</td>\n",
       "    </tr>\n",
       "    <tr>\n",
       "      <th>2</th>\n",
       "      <td>lawler</td>\n",
       "      <td>23</td>\n",
       "      <td>167.2</td>\n",
       "      <td>60</td>\n",
       "      <td>2.6</td>\n",
       "      <td>0.1</td>\n",
       "      <td>7.6</td>\n",
       "      <td>159.6</td>\n",
       "      <td>21</td>\n",
       "    </tr>\n",
       "    <tr>\n",
       "      <th>3</th>\n",
       "      <td>shaurya</td>\n",
       "      <td>13</td>\n",
       "      <td>134</td>\n",
       "      <td>38</td>\n",
       "      <td>2.9</td>\n",
       "      <td>0.2</td>\n",
       "      <td>9.3</td>\n",
       "      <td>124.7</td>\n",
       "      <td>13.4</td>\n",
       "    </tr>\n",
       "    <tr>\n",
       "      <th>4</th>\n",
       "      <td>tianyi</td>\n",
       "      <td>14</td>\n",
       "      <td>127.8</td>\n",
       "      <td>20</td>\n",
       "      <td>1.4</td>\n",
       "      <td>0.3</td>\n",
       "      <td>5.9</td>\n",
       "      <td>121.9</td>\n",
       "      <td>20.7</td>\n",
       "    </tr>\n",
       "    <tr>\n",
       "      <th>5</th>\n",
       "      <td>james</td>\n",
       "      <td>12</td>\n",
       "      <td>144.8</td>\n",
       "      <td>26</td>\n",
       "      <td>2.2</td>\n",
       "      <td>0.3</td>\n",
       "      <td>7</td>\n",
       "      <td>137.8</td>\n",
       "      <td>19.7</td>\n",
       "    </tr>\n",
       "    <tr>\n",
       "      <th>6</th>\n",
       "      <td>total</td>\n",
       "      <td>93</td>\n",
       "      <td>828.6</td>\n",
       "      <td>202</td>\n",
       "      <td>2.2</td>\n",
       "      <td>0.2</td>\n",
       "      <td>40.8</td>\n",
       "      <td>787.8</td>\n",
       "      <td>19.3</td>\n",
       "    </tr>\n",
       "    <tr>\n",
       "      <th>7</th>\n",
       "      <td>average</td>\n",
       "      <td>15.5</td>\n",
       "      <td>138.1</td>\n",
       "      <td>33.7</td>\n",
       "      <td>2.2</td>\n",
       "      <td>0.2</td>\n",
       "      <td>6.8</td>\n",
       "      <td>131.3</td>\n",
       "      <td>19.3</td>\n",
       "    </tr>\n",
       "  </tbody>\n",
       "</table>\n",
       "</div>"
      ],
      "text/plain": [
       "   dataset  Days Total Hours Meal Counts Average Meal Counts Per Day  \\\n",
       "0  wenkanw    17       129.2          32                         1.9   \n",
       "1     adam    14       125.6          26                         1.9   \n",
       "2   lawler    23       167.2          60                         2.6   \n",
       "3  shaurya    13         134          38                         2.9   \n",
       "4   tianyi    14       127.8          20                         1.4   \n",
       "5    james    12       144.8          26                         2.2   \n",
       "6    total    93       828.6         202                         2.2   \n",
       "7  average  15.5       138.1        33.7                         2.2   \n",
       "\n",
       "  Average Hours Per Meal Eating Hours No Eating Hours  \\\n",
       "0                    0.2          7.7           121.5   \n",
       "1                    0.1          3.3           122.3   \n",
       "2                    0.1          7.6           159.6   \n",
       "3                    0.2          9.3           124.7   \n",
       "4                    0.3          5.9           121.9   \n",
       "5                    0.3            7           137.8   \n",
       "6                    0.2         40.8           787.8   \n",
       "7                    0.2          6.8           131.3   \n",
       "\n",
       "  Balance Ratio(no_eat/eat)  \n",
       "0                      15.8  \n",
       "1                      37.1  \n",
       "2                        21  \n",
       "3                      13.4  \n",
       "4                      20.7  \n",
       "5                      19.7  \n",
       "6                      19.3  \n",
       "7                      19.3  "
      ]
     },
     "execution_count": 6,
     "metadata": {},
     "output_type": "execute_result"
    }
   ],
   "source": [
    "name_ls = [\"wenkanw\",'adam',\"lawler\",\"shaurya\",\"tianyi\",\"james\"]\n",
    "dataset_info = get_dataset_info(names= name_ls)\n",
    "dataset_info"
   ]
  },
  {
   "cell_type": "code",
   "execution_count": 7,
   "metadata": {},
   "outputs": [
    {
     "data": {
      "text/plain": [
       "19.3"
      ]
     },
     "execution_count": 7,
     "metadata": {},
     "output_type": "execute_result"
    }
   ],
   "source": [
    "balance_ratio = dataset_info[dataset_info[\"dataset\"]==\"total\"]['Balance Ratio(no_eat/eat)'].values[0]\n",
    "balance_ratio"
   ]
  },
  {
   "cell_type": "code",
   "execution_count": 9,
   "metadata": {},
   "outputs": [],
   "source": [
    "dataset_info.to_csv(\"../results/dataset_info.csv\",index=False)"
   ]
  },
  {
   "cell_type": "code",
   "execution_count": null,
   "metadata": {},
   "outputs": [],
   "source": []
  },
  {
   "cell_type": "markdown",
   "metadata": {},
   "source": [
    "# 2. Train group model if necessary"
   ]
  },
  {
   "cell_type": "code",
   "execution_count": 10,
   "metadata": {},
   "outputs": [],
   "source": [
    "# person=\"CAD\"\n",
    "# winmin= 6\n",
    "# stridesec = 15\n",
    "# win_size = 15*winmin*60\n",
    "# model_g = acti_model(input_shape =(win_size,6) )\n",
    "# model_g.compile(loss='binary_crossentropy',\n",
    "#                 optimizer='adam', metrics=['accuracy'])\n",
    "# perf_df_g, model_ls_g, hist_ls_g = train_models(model_g,win_ls = [winmin],EPOCHS = 20,stridesec = stridesec,model_name=\"test\",name = person,split_day=False)\n"
   ]
  },
  {
   "cell_type": "code",
   "execution_count": null,
   "metadata": {},
   "outputs": [],
   "source": []
  },
  {
   "cell_type": "markdown",
   "metadata": {},
   "source": [
    "# 3. Cross validation with Group Parameters"
   ]
  },
  {
   "cell_type": "code",
   "execution_count": 22,
   "metadata": {
    "scrolled": true
   },
   "outputs": [
    {
     "name": "stderr",
     "output_type": "stream",
     "text": [
      "/home/wenkanw/.conda/envs/mlenv/lib/python3.8/site-packages/sklearn/model_selection/_split.py:293: FutureWarning: Setting a random_state has no effect since shuffle is False. This will raise an error in 0.24. You should leave random_state to its default (None), or set shuffle=True.\n",
      "  warnings.warn(\n"
     ]
    },
    {
     "name": "stdout",
     "output_type": "stream",
     "text": [
      "Loading Dataset ...\n",
      "Loading File:  ../data/IndividualData/wenkanw-data/11-14-20/11-14-20.shm\n",
      "Loading File:  ../data/IndividualData/wenkanw-data/10-13-20/10-13-20.shm\n",
      "Loading File:  ../data/IndividualData/wenkanw-data/10-9-20/10-10-20.shm\n",
      "Loading File:  ../data/IndividualData/wenkanw-data/11-21-20/Dinner/Dinner.shm\n",
      "Loading File:  ../data/IndividualData/wenkanw-data/9-17-20/9-17-20.shm\n",
      "Loading File:  ../data/IndividualData/wenkanw-data/9-29-20/9-29-20.shm\n",
      "Loading File:  ../data/IndividualData/wenkanw-data/11-22-20/Lunch/Lunch.shm\n",
      "Loading File:  ../data/IndividualData/wenkanw-data/11-21-20/lunch/lunch.shm\n",
      "Loading File:  ../data/IndividualData/wenkanw-data/10-9-20/10-9-20.shm\n",
      "Loading File:  ../data/IndividualData/wenkanw-data/11-18-20/11-18-20.shm\n",
      "Loading File:  ../data/IndividualData/wenkanw-data/10-14-20/10-14-20.shm\n",
      "Loading File:  ../data/IndividualData/wenkanw-data/10-12-20/10-12-20.shm\n",
      "Loading File:  ../data/IndividualData/wenkanw-data/11-16-20/11-16-20.shm\n",
      "Loading File:  ../data/IndividualData/wenkanw-data/9-27-20/9-27-20.shm\n",
      "Loading File:  ../data/IndividualData/wenkanw-data/10-3-20/10-3-20.shm\n",
      "Loading File:  ../data/IndividualData/wenkanw-data/10-10-20/10-10-20.shm\n",
      "Loading File:  ../data/IndividualData/wenkanw-data/11-22-20/Dinner/Dinner.shm\n",
      "Fold: 0 Train on days:  [ 4  5  6  7  8  9 10 11 12 13 14 15 16] Test on days:  [0 1 2 3]\n",
      "Train set size: 6630, with 3315 positive samples and 3315 negative samples\n",
      "Test set size: 1658, with 829 positive samples and 829 negative samples\n",
      "Train on :  3315 positive samples,  3315  negative samples\n",
      "Testing on :  829 positive samples,  829  negative samples\n",
      "Testing on :  1318 positive samples,  21291  negative samples\n"
     ]
    },
    {
     "name": "stderr",
     "output_type": "stream",
     "text": [
      "100%|██████████| 4/4 [00:00<00:00, 224.14it/s]\n",
      "100%|██████████| 4/4 [00:00<00:00, 226.83it/s]\n"
     ]
    },
    {
     "name": "stdout",
     "output_type": "stream",
     "text": [
      "Segmentation Completed. \n",
      "total_meal: 32 TP:  6 FP:  3 FN:  1\n",
      "Segmentation Completed. \n",
      "total_meal: 32 TP:  3 FP:  2 FN:  4\n",
      "Fold: 1 Train on days:  [ 0  1  2  3  8  9 10 11 12 13 14 15 16] Test on days:  [4 5 6 7]\n",
      "Train set size: 7209, with 3604 positive samples and 3605 negative samples\n",
      "Test set size: 1803, with 902 positive samples and 901 negative samples\n",
      "Train on :  3604 positive samples,  3605  negative samples\n",
      "Testing on :  902 positive samples,  901  negative samples\n",
      "Testing on :  956 positive samples,  14209  negative samples\n"
     ]
    },
    {
     "name": "stderr",
     "output_type": "stream",
     "text": [
      "100%|██████████| 4/4 [00:00<00:00, 399.65it/s]\n",
      "100%|██████████| 4/4 [00:00<00:00, 420.79it/s]\n"
     ]
    },
    {
     "name": "stdout",
     "output_type": "stream",
     "text": [
      "Segmentation Completed. \n",
      "total_meal: 32 TP:  7 FP:  2 FN:  0\n",
      "Segmentation Completed. \n",
      "total_meal: 32 TP:  4 FP:  1 FN:  3\n",
      "Fold: 2 Train on days:  [ 0  1  2  3  4  5  6  7 11 12 13 14 15 16] Test on days:  [ 8  9 10]\n",
      "Train set size: 7222, with 3611 positive samples and 3611 negative samples\n",
      "Test set size: 1806, with 903 positive samples and 903 negative samples\n",
      "Train on :  3611 positive samples,  3611  negative samples\n",
      "Testing on :  903 positive samples,  903  negative samples\n",
      "Testing on :  948 positive samples,  21106  negative samples\n"
     ]
    },
    {
     "name": "stderr",
     "output_type": "stream",
     "text": [
      "100%|██████████| 3/3 [00:00<00:00, 235.38it/s]\n",
      "100%|██████████| 3/3 [00:00<00:00, 234.46it/s]\n"
     ]
    },
    {
     "name": "stdout",
     "output_type": "stream",
     "text": [
      "Segmentation Completed. \n",
      "total_meal: 32 TP:  6 FP:  10 FN:  0\n",
      "Segmentation Completed. \n",
      "total_meal: 32 TP:  5 FP:  3 FN:  1\n",
      "Fold: 3 Train on days:  [ 0  1  2  3  4  5  6  7  8  9 10 14 15 16] Test on days:  [11 12 13]\n",
      "Train set size: 6971, with 3485 positive samples and 3486 negative samples\n",
      "Test set size: 1743, with 872 positive samples and 871 negative samples\n",
      "Train on :  3485 positive samples,  3486  negative samples\n",
      "Testing on :  872 positive samples,  871  negative samples\n",
      "Testing on :  1105 positive samples,  16007  negative samples\n"
     ]
    },
    {
     "name": "stderr",
     "output_type": "stream",
     "text": [
      "100%|██████████| 3/3 [00:00<00:00, 293.97it/s]\n",
      "100%|██████████| 3/3 [00:00<00:00, 305.45it/s]\n"
     ]
    },
    {
     "name": "stdout",
     "output_type": "stream",
     "text": [
      "Segmentation Completed. \n",
      "total_meal: 32 TP:  7 FP:  3 FN:  0\n",
      "Segmentation Completed. \n",
      "total_meal: 32 TP:  5 FP:  0 FN:  2\n",
      "Fold: 4 Train on days:  [ 0  1  2  3  4  5  6  7  8  9 10 11 12 13] Test on days:  [14 15 16]\n",
      "Train set size: 6923, with 3461 positive samples and 3462 negative samples\n",
      "Test set size: 1731, with 866 positive samples and 865 negative samples\n",
      "Train on :  3461 positive samples,  3462  negative samples\n",
      "Testing on :  866 positive samples,  865  negative samples\n",
      "Testing on :  1135 positive samples,  13705  negative samples\n"
     ]
    },
    {
     "name": "stderr",
     "output_type": "stream",
     "text": [
      "100%|██████████| 3/3 [00:00<00:00, 306.77it/s]\n",
      "100%|██████████| 3/3 [00:00<00:00, 334.34it/s]\n"
     ]
    },
    {
     "name": "stdout",
     "output_type": "stream",
     "text": [
      "Segmentation Completed. \n",
      "total_meal: 32 TP:  5 FP:  1 FN:  0\n",
      "Segmentation Completed. \n",
      "total_meal: 32 TP:  3 FP:  0 FN:  2\n",
      "Loading Dataset ...\n",
      "Loading File:  ../data/IndividualData/adam-data/12-01-2020/12-01-2020.shm\n",
      "Loading File:  ../data/IndividualData/adam-data/11-24-2020/11-24-2020.shm\n",
      "Loading File:  ../data/IndividualData/adam-data/11-30-2020/11-30-2020.shm\n",
      "Loading File:  ../data/IndividualData/adam-data/09-22-2020/09-22-2020.shm\n",
      "Loading File:  ../data/IndividualData/adam-data/12-03-2020/12-03-2020.shm\n",
      "Loading File:  ../data/IndividualData/adam-data/12-11-2020/12-11-2020.shm\n",
      "Loading File:  ../data/IndividualData/adam-data/11-25-2020/11-25-2020.shm\n",
      "Loading File:  ../data/IndividualData/adam-data/12-08-2020/12-08-2020.shm\n",
      "Loading File:  ../data/IndividualData/adam-data/12-07-2020/12-07-2020.shm\n",
      "Loading File:  ../data/IndividualData/adam-data/11-26-2020/11-26-2020.shm\n",
      "Loading File:  ../data/IndividualData/adam-data/12-02-2020/12-02-2020.shm\n",
      "Loading File:  ../data/IndividualData/adam-data/12-04-2020/12-04-2020.shm\n",
      "Loading File:  ../data/IndividualData/adam-data/12-09-2020/12-09-2020.shm\n",
      "Loading File:  ../data/IndividualData/adam-data/12-10-2020/12-10-2020.shm\n",
      "Fold: 0 Train on days:  [ 3  4  5  6  7  8  9 10 11 12 13] Test on days:  [0 1 2]\n",
      "Train set size: 2536, with 1268 positive samples and 1268 negative samples\n",
      "Test set size: 634, with 317 positive samples and 317 negative samples\n",
      "Train on :  1268 positive samples,  1268  negative samples\n",
      "Testing on :  317 positive samples,  317  negative samples\n",
      "Testing on :  646 positive samples,  22120  negative samples\n"
     ]
    },
    {
     "name": "stderr",
     "output_type": "stream",
     "text": [
      "100%|██████████| 3/3 [00:00<00:00, 228.75it/s]\n",
      "100%|██████████| 3/3 [00:00<00:00, 225.31it/s]\n"
     ]
    },
    {
     "name": "stdout",
     "output_type": "stream",
     "text": [
      "Segmentation Completed. \n",
      "total_meal: 26 TP:  6 FP:  0 FN:  0\n",
      "Segmentation Completed. \n",
      "total_meal: 26 TP:  6 FP:  0 FN:  0\n",
      "Fold: 1 Train on days:  [ 0  1  2  6  7  8  9 10 11 12 13] Test on days:  [3 4 5]\n",
      "Train set size: 3008, with 1504 positive samples and 1504 negative samples\n",
      "Test set size: 752, with 376 positive samples and 376 negative samples\n",
      "Train on :  1504 positive samples,  1504  negative samples\n",
      "Testing on :  376 positive samples,  376  negative samples\n",
      "Testing on :  351 positive samples,  13121  negative samples\n"
     ]
    },
    {
     "name": "stderr",
     "output_type": "stream",
     "text": [
      "100%|██████████| 3/3 [00:00<00:00, 347.90it/s]\n",
      "100%|██████████| 3/3 [00:00<00:00, 367.17it/s]\n"
     ]
    },
    {
     "name": "stdout",
     "output_type": "stream",
     "text": [
      "Segmentation Completed. \n",
      "total_meal: 26 TP:  4 FP:  2 FN:  0\n",
      "Segmentation Completed. \n",
      "total_meal: 26 TP:  4 FP:  5 FN:  0\n",
      "Fold: 2 Train on days:  [ 0  1  2  3  4  5  9 10 11 12 13] Test on days:  [6 7 8]\n",
      "Train set size: 2892, with 1446 positive samples and 1446 negative samples\n",
      "Test set size: 724, with 362 positive samples and 362 negative samples\n",
      "Train on :  1446 positive samples,  1446  negative samples\n",
      "Testing on :  362 positive samples,  362  negative samples\n",
      "Testing on :  423 positive samples,  19063  negative samples\n"
     ]
    },
    {
     "name": "stderr",
     "output_type": "stream",
     "text": [
      "100%|██████████| 3/3 [00:00<00:00, 242.17it/s]\n",
      "100%|██████████| 3/3 [00:00<00:00, 275.28it/s]\n"
     ]
    },
    {
     "name": "stdout",
     "output_type": "stream",
     "text": [
      "Segmentation Completed. \n",
      "total_meal: 26 TP:  5 FP:  1 FN:  1\n",
      "Segmentation Completed. \n",
      "total_meal: 26 TP:  5 FP:  2 FN:  1\n",
      "Fold: 3 Train on days:  [ 0  1  2  3  4  5  6  7  8 12 13] Test on days:  [ 9 10 11]\n",
      "Train set size: 3051, with 1525 positive samples and 1526 negative samples\n",
      "Test set size: 763, with 382 positive samples and 381 negative samples\n",
      "Train on :  1525 positive samples,  1526  negative samples\n",
      "Testing on :  382 positive samples,  381  negative samples\n",
      "Testing on :  324 positive samples,  16527  negative samples\n"
     ]
    },
    {
     "name": "stderr",
     "output_type": "stream",
     "text": [
      "100%|██████████| 3/3 [00:00<00:00, 291.04it/s]\n",
      "100%|██████████| 3/3 [00:00<00:00, 310.73it/s]\n"
     ]
    },
    {
     "name": "stdout",
     "output_type": "stream",
     "text": [
      "Segmentation Completed. \n",
      "total_meal: 26 TP:  4 FP:  6 FN:  1\n",
      "Segmentation Completed. \n",
      "total_meal: 26 TP:  4 FP:  1 FN:  1\n",
      "Fold: 4 Train on days:  [ 0  1  2  3  4  5  6  7  8  9 10 11] Test on days:  [12 13]\n",
      "Train set size: 2790, with 1395 positive samples and 1395 negative samples\n",
      "Test set size: 698, with 349 positive samples and 349 negative samples\n",
      "Train on :  1395 positive samples,  1395  negative samples\n",
      "Testing on :  349 positive samples,  349  negative samples\n",
      "Testing on :  487 positive samples,  16366  negative samples\n"
     ]
    },
    {
     "name": "stderr",
     "output_type": "stream",
     "text": [
      "100%|██████████| 2/2 [00:00<00:00, 201.07it/s]\n",
      "100%|██████████| 2/2 [00:00<00:00, 212.64it/s]\n"
     ]
    },
    {
     "name": "stdout",
     "output_type": "stream",
     "text": [
      "Segmentation Completed. \n",
      "total_meal: 26 TP:  5 FP:  1 FN:  0\n",
      "Segmentation Completed. \n",
      "total_meal: 26 TP:  5 FP:  0 FN:  0\n",
      "Loading Dataset ...\n",
      "Loading File:  ../data/IndividualData/lawler-data/10.19/10.19.shm\n",
      "Loading File:  ../data/IndividualData/lawler-data/11.14/11.14.shm\n",
      "Loading File:  ../data/IndividualData/lawler-data/10.10/10.10.shm\n",
      "Loading File:  ../data/IndividualData/lawler-data/11.2/11.2.shm\n",
      "Loading File:  ../data/IndividualData/lawler-data/10.8/10.8.shm\n",
      "Loading File:  ../data/IndividualData/lawler-data/11.15/11.15.shm\n",
      "Loading File:  ../data/IndividualData/lawler-data/10.14/10.14.shm\n",
      "Loading File:  ../data/IndividualData/lawler-data/9.23/9.23_13hr.shm\n",
      "Loading File:  ../data/IndividualData/lawler-data/10.12/10.12.shm\n",
      "Loading File:  ../data/IndividualData/lawler-data/11.11/11.11.shm\n",
      "Loading File:  ../data/IndividualData/lawler-data/11.4/11.4.shm\n",
      "Loading File:  ../data/IndividualData/lawler-data/9.25/9.25_1-46.shm\n",
      "Loading File:  ../data/IndividualData/lawler-data/10.6/10.6.shm\n",
      "Loading File:  ../data/IndividualData/lawler-data/10.4/10.4.shm\n",
      "Loading File:  ../data/IndividualData/lawler-data/10.28/10.28.shm\n",
      "Loading File:  ../data/IndividualData/lawler-data/11.3/11.3.shm\n",
      "Loading File:  ../data/IndividualData/lawler-data/10.20/evening_2hr_20min/10.20.shm\n",
      "Loading File:  ../data/IndividualData/lawler-data/10.26/10.26.shm\n",
      "Loading File:  ../data/IndividualData/lawler-data/10.31/10.31.shm\n",
      "Loading File:  ../data/IndividualData/lawler-data/10.31/evening-2hr_goodDinnerTemplate_CFAmeal/10.31.shm\n",
      "Loading File:  ../data/IndividualData/lawler-data/10.21/10.21.shm\n",
      "Loading File:  ../data/IndividualData/lawler-data/10.16/10.16.shm\n",
      "Loading File:  ../data/IndividualData/lawler-data/10.20/afternoon_2hr33min/10.20.shm\n",
      "Fold: 0 Train on days:  [ 5  6  7  8  9 10 11 12 13 14 15 16 17 18 19 20 21 22] Test on days:  [0 1 2 3 4]\n",
      "Train set size: 6892, with 3446 positive samples and 3446 negative samples\n",
      "Test set size: 1724, with 862 positive samples and 862 negative samples\n",
      "Train on :  3446 positive samples,  3446  negative samples\n",
      "Testing on :  862 positive samples,  862  negative samples\n",
      "Testing on :  922 positive samples,  28334  negative samples\n"
     ]
    },
    {
     "name": "stderr",
     "output_type": "stream",
     "text": [
      "100%|██████████| 5/5 [00:00<00:00, 282.21it/s]\n",
      "100%|██████████| 5/5 [00:00<00:00, 264.42it/s]\n"
     ]
    },
    {
     "name": "stdout",
     "output_type": "stream",
     "text": [
      "Segmentation Completed. \n",
      "total_meal: 60 TP:  7 FP:  7 FN:  6\n",
      "Segmentation Completed. \n",
      "total_meal: 60 TP:  5 FP:  15 FN:  8\n",
      "Fold: 1 Train on days:  [ 0  1  2  3  4 10 11 12 13 14 15 16 17 18 19 20 21 22] Test on days:  [5 6 7 8 9]\n",
      "Train set size: 5915, with 2957 positive samples and 2958 negative samples\n",
      "Test set size: 1479, with 740 positive samples and 739 negative samples\n",
      "Train on :  2957 positive samples,  2958  negative samples\n",
      "Testing on :  740 positive samples,  739  negative samples\n",
      "Testing on :  1533 positive samples,  35087  negative samples\n"
     ]
    },
    {
     "name": "stderr",
     "output_type": "stream",
     "text": [
      "100%|██████████| 5/5 [00:00<00:00, 217.33it/s]\n",
      "100%|██████████| 5/5 [00:00<00:00, 219.15it/s]\n"
     ]
    },
    {
     "name": "stdout",
     "output_type": "stream",
     "text": [
      "Segmentation Completed. \n",
      "total_meal: 60 TP:  9 FP:  19 FN:  4\n",
      "Segmentation Completed. \n",
      "total_meal: 60 TP:  2 FP:  13 FN:  11\n",
      "Fold: 2 Train on days:  [ 0  1  2  3  4  5  6  7  8  9 15 16 17 18 19 20 21 22] Test on days:  [10 11 12 13 14]\n",
      "Train set size: 7139, with 3569 positive samples and 3570 negative samples\n",
      "Test set size: 1785, with 893 positive samples and 892 negative samples\n",
      "Train on :  3569 positive samples,  3570  negative samples\n",
      "Testing on :  893 positive samples,  892  negative samples\n",
      "Testing on :  768 positive samples,  18814  negative samples\n"
     ]
    },
    {
     "name": "stderr",
     "output_type": "stream",
     "text": [
      "100%|██████████| 5/5 [00:00<00:00, 392.36it/s]\n",
      "100%|██████████| 5/5 [00:00<00:00, 406.39it/s]\n"
     ]
    },
    {
     "name": "stdout",
     "output_type": "stream",
     "text": [
      "Segmentation Completed. \n",
      "total_meal: 60 TP:  7 FP:  9 FN:  3\n",
      "Segmentation Completed. \n",
      "total_meal: 60 TP:  2 FP:  10 FN:  8\n",
      "Fold: 3 Train on days:  [ 0  1  2  3  4  5  6  7  8  9 10 11 12 13 14 19 20 21 22] Test on days:  [15 16 17 18]\n",
      "Train set size: 6206, with 3103 positive samples and 3103 negative samples\n",
      "Test set size: 1552, with 776 positive samples and 776 negative samples\n",
      "Train on :  3103 positive samples,  3103  negative samples\n",
      "Testing on :  776 positive samples,  776  negative samples\n",
      "Testing on :  1351 positive samples,  17858  negative samples\n"
     ]
    },
    {
     "name": "stderr",
     "output_type": "stream",
     "text": [
      "100%|██████████| 4/4 [00:00<00:00, 331.96it/s]\n",
      "100%|██████████| 4/4 [00:00<00:00, 342.75it/s]\n"
     ]
    },
    {
     "name": "stdout",
     "output_type": "stream",
     "text": [
      "Segmentation Completed. \n",
      "total_meal: 60 TP:  12 FP:  6 FN:  1\n",
      "Segmentation Completed. \n",
      "total_meal: 60 TP:  7 FP:  6 FN:  6\n",
      "Fold: 4 Train on days:  [ 0  1  2  3  4  5  6  7  8  9 10 11 12 13 14 15 16 17 18] Test on days:  [19 20 21 22]\n",
      "Train set size: 7318, with 3659 positive samples and 3659 negative samples\n",
      "Test set size: 1830, with 915 positive samples and 915 negative samples\n",
      "Train on :  3659 positive samples,  3659  negative samples\n",
      "Testing on :  915 positive samples,  915  negative samples\n",
      "Testing on :  656 positive samples,  13442  negative samples\n"
     ]
    },
    {
     "name": "stderr",
     "output_type": "stream",
     "text": [
      "100%|██████████| 4/4 [00:00<00:00, 439.34it/s]\n",
      "100%|██████████| 4/4 [00:00<00:00, 441.78it/s]\n"
     ]
    },
    {
     "name": "stdout",
     "output_type": "stream",
     "text": [
      "Segmentation Completed. \n",
      "total_meal: 60 TP:  5 FP:  7 FN:  6\n",
      "Segmentation Completed. \n",
      "total_meal: 60 TP:  4 FP:  8 FN:  7\n",
      "Loading Dataset ...\n",
      "Loading File:  ../data/IndividualData/shaurya-data/12.3.2020/Consensys Exported Data.shm\n",
      "Loading File:  ../data/IndividualData/shaurya-data/11.15.2020/Data.shm\n",
      "Loading File:  ../data/IndividualData/shaurya-data/10.22.2020/Data.shm\n",
      "Loading File:  ../data/IndividualData/shaurya-data/1.16.2021/Consensys Exported Data.shm\n",
      "Loading File:  ../data/IndividualData/shaurya-data/1.10.2021/Consensys Exported Data.shm\n",
      "Loading File:  ../data/IndividualData/shaurya-data/10.25.2020/Data.shm\n",
      "Loading File:  ../data/IndividualData/shaurya-data/11.1.2020/Data.shm\n",
      "Loading File:  ../data/IndividualData/shaurya-data/11.18.2020/Data.shm\n",
      "Loading File:  ../data/IndividualData/shaurya-data/11.17.2020/Data.shm\n",
      "Loading File:  ../data/IndividualData/shaurya-data/1.13.2021/Consensys Exported Data.shm\n",
      "Loading File:  ../data/IndividualData/shaurya-data/1.11.2021/Consensys Exported Data.shm\n",
      "Loading File:  ../data/IndividualData/shaurya-data/1.12.2021/Consensys Exported Data.shm\n",
      "Loading File:  ../data/IndividualData/shaurya-data/1.19.2021/Consensys Exported Data.shm\n",
      "Fold: 0 Train on days:  [ 3  4  5  6  7  8  9 10 11 12] Test on days:  [0 1 2]\n",
      "Train set size: 7873, with 3936 positive samples and 3937 negative samples\n",
      "Test set size: 1969, with 985 positive samples and 984 negative samples\n",
      "Train on :  3936 positive samples,  3937  negative samples\n",
      "Testing on :  985 positive samples,  984  negative samples\n",
      "Testing on :  1714 positive samples,  21815  negative samples\n"
     ]
    },
    {
     "name": "stderr",
     "output_type": "stream",
     "text": [
      "100%|██████████| 3/3 [00:00<00:00, 129.53it/s]\n",
      "100%|██████████| 3/3 [00:00<00:00, 222.96it/s]\n"
     ]
    },
    {
     "name": "stdout",
     "output_type": "stream",
     "text": [
      "Segmentation Completed. \n",
      "total_meal: 38 TP:  6 FP:  12 FN:  2\n",
      "Segmentation Completed. \n",
      "total_meal: 38 TP:  7 FP:  8 FN:  1\n",
      "Fold: 1 Train on days:  [ 0  1  2  6  7  8  9 10 11 12] Test on days:  [3 4 5]\n",
      "Train set size: 8523, with 4261 positive samples and 4262 negative samples\n",
      "Test set size: 2131, with 1066 positive samples and 1065 negative samples\n",
      "Train on :  4261 positive samples,  4262  negative samples\n",
      "Testing on :  1066 positive samples,  1065  negative samples\n",
      "Testing on :  1308 positive samples,  19774  negative samples\n"
     ]
    },
    {
     "name": "stderr",
     "output_type": "stream",
     "text": [
      "100%|██████████| 3/3 [00:00<00:00, 173.35it/s]\n",
      "100%|██████████| 3/3 [00:00<00:00, 184.63it/s]\n"
     ]
    },
    {
     "name": "stdout",
     "output_type": "stream",
     "text": [
      "Segmentation Completed. \n",
      "total_meal: 38 TP:  8 FP:  9 FN:  1\n",
      "Segmentation Completed. \n",
      "total_meal: 38 TP:  7 FP:  5 FN:  2\n",
      "Fold: 2 Train on days:  [ 0  1  2  3  4  5  9 10 11 12] Test on days:  [6 7 8]\n",
      "Train set size: 8411, with 4205 positive samples and 4206 negative samples\n",
      "Test set size: 2103, with 1052 positive samples and 1051 negative samples\n",
      "Train on :  4205 positive samples,  4206  negative samples\n",
      "Testing on :  1052 positive samples,  1051  negative samples\n",
      "Testing on :  1378 positive samples,  22864  negative samples\n"
     ]
    },
    {
     "name": "stderr",
     "output_type": "stream",
     "text": [
      "100%|██████████| 3/3 [00:00<00:00, 161.05it/s]\n",
      "100%|██████████| 3/3 [00:00<00:00, 166.10it/s]\n"
     ]
    },
    {
     "name": "stdout",
     "output_type": "stream",
     "text": [
      "Segmentation Completed. \n",
      "total_meal: 38 TP:  9 FP:  13 FN:  0\n",
      "Segmentation Completed. \n",
      "total_meal: 38 TP:  9 FP:  5 FN:  0\n",
      "Fold: 3 Train on days:  [ 0  1  2  3  4  5  6  7  8 11 12] Test on days:  [ 9 10]\n",
      "Train set size: 8438, with 4219 positive samples and 4219 negative samples\n",
      "Test set size: 2110, with 1055 positive samples and 1055 negative samples\n",
      "Train on :  4219 positive samples,  4219  negative samples\n",
      "Testing on :  1055 positive samples,  1055  negative samples\n",
      "Testing on :  1361 positive samples,  12770  negative samples\n"
     ]
    },
    {
     "name": "stderr",
     "output_type": "stream",
     "text": [
      "100%|██████████| 2/2 [00:00<00:00, 206.23it/s]\n",
      "100%|██████████| 2/2 [00:00<00:00, 233.93it/s]\n"
     ]
    },
    {
     "name": "stdout",
     "output_type": "stream",
     "text": [
      "Segmentation Completed. \n",
      "total_meal: 38 TP:  4 FP:  5 FN:  2\n",
      "Segmentation Completed. \n",
      "total_meal: 38 TP:  5 FP:  3 FN:  1\n",
      "Fold: 4 Train on days:  [ 0  1  2  3  4  5  6  7  8  9 10] Test on days:  [11 12]\n",
      "Train set size: 9217, with 4608 positive samples and 4609 negative samples\n",
      "Test set size: 2305, with 1153 positive samples and 1152 negative samples\n",
      "Train on :  4608 positive samples,  4609  negative samples\n",
      "Testing on :  1153 positive samples,  1152  negative samples\n",
      "Testing on :  874 positive samples,  11729  negative samples\n"
     ]
    },
    {
     "name": "stderr",
     "output_type": "stream",
     "text": [
      "100%|██████████| 2/2 [00:00<00:00, 243.68it/s]\n",
      "100%|██████████| 2/2 [00:00<00:00, 237.61it/s]"
     ]
    },
    {
     "name": "stdout",
     "output_type": "stream",
     "text": [
      "Segmentation Completed. \n",
      "total_meal: 38 TP:  2 FP:  12 FN:  4\n",
      "Segmentation Completed. \n",
      "total_meal: 38 TP:  2 FP:  4 FN:  4\n",
      "CPU times: user 25min 6s, sys: 1min 2s, total: 26min 8s\n",
      "Wall time: 15min 33s\n"
     ]
    },
    {
     "name": "stderr",
     "output_type": "stream",
     "text": [
      "\n"
     ]
    }
   ],
   "source": [
    "\n",
    "hy_threshold = {'wenkanw':[0.8,0.3], 'adam':[0.8,0.3],'lawler':[0.8,0.3], 'shaurya':[0.8,0.3]}\n",
    "\n",
    "%time meal_info, time_perf1,episode_perf1 = cross_validation_metrics(balance_ratio= balance_ratio, model_arch = acti_model, fold_num = 5, winmin=6, stridesec = 5, \\\n",
    "                                                             names= [\"wenkanw\",\"adam\",\"lawler\",\"shaurya\"],model_name= \"acti_model\", \\\n",
    "                                                             random_seed=random_seed,  test_balance=False, re_train =False, \\\n",
    "                                                             test_CAD=False, metrics =['time','episode'], load_data =True, ind_threshold =hy_threshold)\n",
    "\n",
    "episode_perf1 = pd.merge(left=meal_info,right=episode_perf1,on=\"dataset\")"
   ]
  },
  {
   "cell_type": "code",
   "execution_count": 23,
   "metadata": {},
   "outputs": [
    {
     "name": "stderr",
     "output_type": "stream",
     "text": [
      "<ipython-input-16-7c20ec5f775e>:54: SettingWithCopyWarning: \n",
      "A value is trying to be set on a copy of a slice from a DataFrame.\n",
      "Try using .loc[row_indexer,col_indexer] = value instead\n",
      "\n",
      "See the caveats in the documentation: https://pandas.pydata.org/pandas-docs/stable/user_guide/indexing.html#returning-a-view-versus-a-copy\n",
      "  result_df[key] = result_df[key].values.round(round_decimal)\n"
     ]
    },
    {
     "data": {
      "text/html": [
       "<div>\n",
       "<style scoped>\n",
       "    .dataframe tbody tr th:only-of-type {\n",
       "        vertical-align: middle;\n",
       "    }\n",
       "\n",
       "    .dataframe tbody tr th {\n",
       "        vertical-align: top;\n",
       "    }\n",
       "\n",
       "    .dataframe thead th {\n",
       "        text-align: right;\n",
       "    }\n",
       "</style>\n",
       "<table border=\"1\" class=\"dataframe\">\n",
       "  <thead>\n",
       "    <tr style=\"text-align: right;\">\n",
       "      <th></th>\n",
       "      <th>dataset</th>\n",
       "      <th>Days</th>\n",
       "      <th>Meal_Hours</th>\n",
       "      <th>Meal_Counts</th>\n",
       "      <th>win(sec)</th>\n",
       "      <th>TPR: Individual-Model</th>\n",
       "      <th>TPR: GroupModel</th>\n",
       "      <th>FP/TP: Individual-Model</th>\n",
       "      <th>FP/TP: GroupModel</th>\n",
       "      <th>TP: Individual-Model</th>\n",
       "      <th>TP: GroupModel</th>\n",
       "      <th>FP: Individual-Model</th>\n",
       "      <th>FP: GroupModel</th>\n",
       "      <th>FN: Individual-Model</th>\n",
       "      <th>FN: GroupModel</th>\n",
       "    </tr>\n",
       "  </thead>\n",
       "  <tbody>\n",
       "    <tr>\n",
       "      <th>0</th>\n",
       "      <td>wenkanw</td>\n",
       "      <td>17</td>\n",
       "      <td>7</td>\n",
       "      <td>32</td>\n",
       "      <td>360</td>\n",
       "      <td>0.969</td>\n",
       "      <td>0.625</td>\n",
       "      <td>0.613</td>\n",
       "      <td>0.3</td>\n",
       "      <td>31</td>\n",
       "      <td>20</td>\n",
       "      <td>19</td>\n",
       "      <td>6</td>\n",
       "      <td>1</td>\n",
       "      <td>12</td>\n",
       "    </tr>\n",
       "    <tr>\n",
       "      <th>1</th>\n",
       "      <td>adam</td>\n",
       "      <td>14</td>\n",
       "      <td>3</td>\n",
       "      <td>26</td>\n",
       "      <td>360</td>\n",
       "      <td>0.923</td>\n",
       "      <td>0.923</td>\n",
       "      <td>0.417</td>\n",
       "      <td>0.333</td>\n",
       "      <td>24</td>\n",
       "      <td>24</td>\n",
       "      <td>10</td>\n",
       "      <td>8</td>\n",
       "      <td>2</td>\n",
       "      <td>2</td>\n",
       "    </tr>\n",
       "    <tr>\n",
       "      <th>2</th>\n",
       "      <td>lawler</td>\n",
       "      <td>23</td>\n",
       "      <td>7</td>\n",
       "      <td>60</td>\n",
       "      <td>360</td>\n",
       "      <td>0.667</td>\n",
       "      <td>0.333</td>\n",
       "      <td>1.2</td>\n",
       "      <td>2.6</td>\n",
       "      <td>40</td>\n",
       "      <td>20</td>\n",
       "      <td>48</td>\n",
       "      <td>52</td>\n",
       "      <td>20</td>\n",
       "      <td>40</td>\n",
       "    </tr>\n",
       "    <tr>\n",
       "      <th>3</th>\n",
       "      <td>shaurya</td>\n",
       "      <td>13</td>\n",
       "      <td>9</td>\n",
       "      <td>38</td>\n",
       "      <td>360</td>\n",
       "      <td>0.763</td>\n",
       "      <td>0.789</td>\n",
       "      <td>1.759</td>\n",
       "      <td>0.833</td>\n",
       "      <td>29</td>\n",
       "      <td>30</td>\n",
       "      <td>51</td>\n",
       "      <td>25</td>\n",
       "      <td>9</td>\n",
       "      <td>8</td>\n",
       "    </tr>\n",
       "    <tr>\n",
       "      <th>4</th>\n",
       "      <td>average performance</td>\n",
       "      <td>-</td>\n",
       "      <td>-</td>\n",
       "      <td>-</td>\n",
       "      <td>-</td>\n",
       "      <td>0.83</td>\n",
       "      <td>0.668</td>\n",
       "      <td>0.997</td>\n",
       "      <td>1.016</td>\n",
       "      <td>31</td>\n",
       "      <td>23.5</td>\n",
       "      <td>32</td>\n",
       "      <td>22.75</td>\n",
       "      <td>8</td>\n",
       "      <td>15.5</td>\n",
       "    </tr>\n",
       "  </tbody>\n",
       "</table>\n",
       "</div>"
      ],
      "text/plain": [
       "               dataset Days Meal_Hours Meal_Counts win(sec)  \\\n",
       "0              wenkanw   17          7          32      360   \n",
       "1                 adam   14          3          26      360   \n",
       "2               lawler   23          7          60      360   \n",
       "3              shaurya   13          9          38      360   \n",
       "4  average performance    -          -           -        -   \n",
       "\n",
       "  TPR: Individual-Model TPR: GroupModel FP/TP: Individual-Model  \\\n",
       "0                 0.969           0.625                   0.613   \n",
       "1                 0.923           0.923                   0.417   \n",
       "2                 0.667           0.333                     1.2   \n",
       "3                 0.763           0.789                   1.759   \n",
       "4                  0.83           0.668                   0.997   \n",
       "\n",
       "  FP/TP: GroupModel TP: Individual-Model TP: GroupModel FP: Individual-Model  \\\n",
       "0               0.3                   31             20                   19   \n",
       "1             0.333                   24             24                   10   \n",
       "2               2.6                   40             20                   48   \n",
       "3             0.833                   29             30                   51   \n",
       "4             1.016                   31           23.5                   32   \n",
       "\n",
       "  FP: GroupModel FN: Individual-Model FN: GroupModel  \n",
       "0              6                    1             12  \n",
       "1              8                    2              2  \n",
       "2             52                   20             40  \n",
       "3             25                    9              8  \n",
       "4          22.75                    8           15.5  "
      ]
     },
     "execution_count": 23,
     "metadata": {},
     "output_type": "execute_result"
    }
   ],
   "source": [
    "## double check result\n",
    "print_episode_metrics(episode_perf1)"
   ]
  },
  {
   "cell_type": "code",
   "execution_count": 24,
   "metadata": {},
   "outputs": [
    {
     "data": {
      "text/html": [
       "<div>\n",
       "<style scoped>\n",
       "    .dataframe tbody tr th:only-of-type {\n",
       "        vertical-align: middle;\n",
       "    }\n",
       "\n",
       "    .dataframe tbody tr th {\n",
       "        vertical-align: top;\n",
       "    }\n",
       "\n",
       "    .dataframe thead th {\n",
       "        text-align: right;\n",
       "    }\n",
       "</style>\n",
       "<table border=\"1\" class=\"dataframe\">\n",
       "  <thead>\n",
       "    <tr style=\"text-align: right;\">\n",
       "      <th></th>\n",
       "      <th>dataset</th>\n",
       "      <th>win(sec)</th>\n",
       "      <th>WAcc: GroupModel</th>\n",
       "      <th>WAcc2: GroupModel</th>\n",
       "      <th>WAcc: Individual-Model</th>\n",
       "      <th>WAcc2: Individual-Model</th>\n",
       "      <th>F1: GroupModel</th>\n",
       "      <th>F1: Individual-Model</th>\n",
       "      <th>Precision: GroupModel</th>\n",
       "      <th>Precision: Individual-Model</th>\n",
       "      <th>Recall: GroupModel</th>\n",
       "      <th>Recall: Individual-Model</th>\n",
       "      <th>Acc: GroupModel</th>\n",
       "      <th>Acc: Individual-Model</th>\n",
       "    </tr>\n",
       "  </thead>\n",
       "  <tbody>\n",
       "    <tr>\n",
       "      <th>0</th>\n",
       "      <td>wenkanw</td>\n",
       "      <td>360</td>\n",
       "      <td>0.779</td>\n",
       "      <td>0.761</td>\n",
       "      <td>0.9</td>\n",
       "      <td>0.892</td>\n",
       "      <td>0.423</td>\n",
       "      <td>0.639</td>\n",
       "      <td>0.319</td>\n",
       "      <td>0.52</td>\n",
       "      <td>0.649</td>\n",
       "      <td>0.853</td>\n",
       "      <td>0.893</td>\n",
       "      <td>0.942</td>\n",
       "    </tr>\n",
       "    <tr>\n",
       "      <th>1</th>\n",
       "      <td>adam</td>\n",
       "      <td>360</td>\n",
       "      <td>0.956</td>\n",
       "      <td>0.947</td>\n",
       "      <td>0.959</td>\n",
       "      <td>0.961</td>\n",
       "      <td>0.433</td>\n",
       "      <td>0.625</td>\n",
       "      <td>0.284</td>\n",
       "      <td>0.484</td>\n",
       "      <td>0.983</td>\n",
       "      <td>0.949</td>\n",
       "      <td>0.931</td>\n",
       "      <td>0.968</td>\n",
       "    </tr>\n",
       "    <tr>\n",
       "      <th>2</th>\n",
       "      <td>lawler</td>\n",
       "      <td>360</td>\n",
       "      <td>0.605</td>\n",
       "      <td>0.615</td>\n",
       "      <td>0.721</td>\n",
       "      <td>0.728</td>\n",
       "      <td>0.132</td>\n",
       "      <td>0.258</td>\n",
       "      <td>0.076</td>\n",
       "      <td>0.166</td>\n",
       "      <td>0.494</td>\n",
       "      <td>0.578</td>\n",
       "      <td>0.707</td>\n",
       "      <td>0.851</td>\n",
       "    </tr>\n",
       "    <tr>\n",
       "      <th>3</th>\n",
       "      <td>shaurya</td>\n",
       "      <td>360</td>\n",
       "      <td>0.759</td>\n",
       "      <td>0.733</td>\n",
       "      <td>0.766</td>\n",
       "      <td>0.743</td>\n",
       "      <td>0.409</td>\n",
       "      <td>0.402</td>\n",
       "      <td>0.308</td>\n",
       "      <td>0.295</td>\n",
       "      <td>0.624</td>\n",
       "      <td>0.654</td>\n",
       "      <td>0.874</td>\n",
       "      <td>0.862</td>\n",
       "    </tr>\n",
       "    <tr>\n",
       "      <th>4</th>\n",
       "      <td>average performance</td>\n",
       "      <td>-</td>\n",
       "      <td>0.775</td>\n",
       "      <td>0.764</td>\n",
       "      <td>0.836</td>\n",
       "      <td>0.831</td>\n",
       "      <td>0.349</td>\n",
       "      <td>0.481</td>\n",
       "      <td>0.247</td>\n",
       "      <td>0.366</td>\n",
       "      <td>0.688</td>\n",
       "      <td>0.758</td>\n",
       "      <td>0.851</td>\n",
       "      <td>0.906</td>\n",
       "    </tr>\n",
       "  </tbody>\n",
       "</table>\n",
       "</div>"
      ],
      "text/plain": [
       "               dataset win(sec) WAcc: GroupModel WAcc2: GroupModel  \\\n",
       "0              wenkanw      360            0.779             0.761   \n",
       "1                 adam      360            0.956             0.947   \n",
       "2               lawler      360            0.605             0.615   \n",
       "3              shaurya      360            0.759             0.733   \n",
       "4  average performance        -            0.775             0.764   \n",
       "\n",
       "  WAcc: Individual-Model WAcc2: Individual-Model F1: GroupModel  \\\n",
       "0                    0.9                   0.892          0.423   \n",
       "1                  0.959                   0.961          0.433   \n",
       "2                  0.721                   0.728          0.132   \n",
       "3                  0.766                   0.743          0.409   \n",
       "4                  0.836                   0.831          0.349   \n",
       "\n",
       "  F1: Individual-Model Precision: GroupModel Precision: Individual-Model  \\\n",
       "0                0.639                 0.319                        0.52   \n",
       "1                0.625                 0.284                       0.484   \n",
       "2                0.258                 0.076                       0.166   \n",
       "3                0.402                 0.308                       0.295   \n",
       "4                0.481                 0.247                       0.366   \n",
       "\n",
       "  Recall: GroupModel Recall: Individual-Model Acc: GroupModel  \\\n",
       "0              0.649                    0.853           0.893   \n",
       "1              0.983                    0.949           0.931   \n",
       "2              0.494                    0.578           0.707   \n",
       "3              0.624                    0.654           0.874   \n",
       "4              0.688                    0.758           0.851   \n",
       "\n",
       "  Acc: Individual-Model  \n",
       "0                 0.942  \n",
       "1                 0.968  \n",
       "2                 0.851  \n",
       "3                 0.862  \n",
       "4                 0.906  "
      ]
     },
     "execution_count": 24,
     "metadata": {},
     "output_type": "execute_result"
    }
   ],
   "source": [
    "print_time_metrics(time_perf1)"
   ]
  },
  {
   "cell_type": "code",
   "execution_count": null,
   "metadata": {},
   "outputs": [],
   "source": []
  },
  {
   "cell_type": "code",
   "execution_count": null,
   "metadata": {},
   "outputs": [],
   "source": []
  },
  {
   "cell_type": "code",
   "execution_count": 25,
   "metadata": {},
   "outputs": [
    {
     "name": "stderr",
     "output_type": "stream",
     "text": [
      "/home/wenkanw/Thesis-Research/src/metrics.py:256: SettingWithCopyWarning: \n",
      "A value is trying to be set on a copy of a slice from a DataFrame.\n",
      "Try using .loc[row_indexer,col_indexer] = value instead\n",
      "\n",
      "See the caveats in the documentation: https://pandas.pydata.org/pandas-docs/stable/user_guide/indexing.html#returning-a-view-versus-a-copy\n",
      "  result_df[key] = result_df[key].values.round(round_decimal)\n"
     ]
    },
    {
     "data": {
      "text/html": [
       "<div>\n",
       "<style scoped>\n",
       "    .dataframe tbody tr th:only-of-type {\n",
       "        vertical-align: middle;\n",
       "    }\n",
       "\n",
       "    .dataframe tbody tr th {\n",
       "        vertical-align: top;\n",
       "    }\n",
       "\n",
       "    .dataframe thead th {\n",
       "        text-align: right;\n",
       "    }\n",
       "</style>\n",
       "<table border=\"1\" class=\"dataframe\">\n",
       "  <thead>\n",
       "    <tr style=\"text-align: right;\">\n",
       "      <th></th>\n",
       "      <th>dataset</th>\n",
       "      <th>Days</th>\n",
       "      <th>Meal_Hours</th>\n",
       "      <th>Meal_Counts</th>\n",
       "      <th>win(sec)</th>\n",
       "      <th>TPR: Individual-Model</th>\n",
       "      <th>TPR: GroupModel</th>\n",
       "      <th>FP/TP: Individual-Model</th>\n",
       "      <th>FP/TP: GroupModel</th>\n",
       "      <th>TP: Individual-Model</th>\n",
       "      <th>TP: GroupModel</th>\n",
       "      <th>FP: Individual-Model</th>\n",
       "      <th>FP: GroupModel</th>\n",
       "      <th>FN: Individual-Model</th>\n",
       "      <th>FN: GroupModel</th>\n",
       "    </tr>\n",
       "  </thead>\n",
       "  <tbody>\n",
       "    <tr>\n",
       "      <th>0</th>\n",
       "      <td>wenkanw</td>\n",
       "      <td>17</td>\n",
       "      <td>7</td>\n",
       "      <td>32</td>\n",
       "      <td>360</td>\n",
       "      <td>0.969</td>\n",
       "      <td>0.625</td>\n",
       "      <td>0.613</td>\n",
       "      <td>0.3</td>\n",
       "      <td>31</td>\n",
       "      <td>20</td>\n",
       "      <td>19</td>\n",
       "      <td>6</td>\n",
       "      <td>1</td>\n",
       "      <td>12</td>\n",
       "    </tr>\n",
       "    <tr>\n",
       "      <th>1</th>\n",
       "      <td>adam</td>\n",
       "      <td>14</td>\n",
       "      <td>3</td>\n",
       "      <td>26</td>\n",
       "      <td>360</td>\n",
       "      <td>0.923</td>\n",
       "      <td>0.923</td>\n",
       "      <td>0.417</td>\n",
       "      <td>0.333</td>\n",
       "      <td>24</td>\n",
       "      <td>24</td>\n",
       "      <td>10</td>\n",
       "      <td>8</td>\n",
       "      <td>2</td>\n",
       "      <td>2</td>\n",
       "    </tr>\n",
       "    <tr>\n",
       "      <th>2</th>\n",
       "      <td>lawler</td>\n",
       "      <td>23</td>\n",
       "      <td>7</td>\n",
       "      <td>60</td>\n",
       "      <td>360</td>\n",
       "      <td>0.667</td>\n",
       "      <td>0.333</td>\n",
       "      <td>1.2</td>\n",
       "      <td>2.6</td>\n",
       "      <td>40</td>\n",
       "      <td>20</td>\n",
       "      <td>48</td>\n",
       "      <td>52</td>\n",
       "      <td>20</td>\n",
       "      <td>40</td>\n",
       "    </tr>\n",
       "    <tr>\n",
       "      <th>3</th>\n",
       "      <td>shaurya</td>\n",
       "      <td>13</td>\n",
       "      <td>9</td>\n",
       "      <td>38</td>\n",
       "      <td>360</td>\n",
       "      <td>0.763</td>\n",
       "      <td>0.789</td>\n",
       "      <td>1.759</td>\n",
       "      <td>0.833</td>\n",
       "      <td>29</td>\n",
       "      <td>30</td>\n",
       "      <td>51</td>\n",
       "      <td>25</td>\n",
       "      <td>9</td>\n",
       "      <td>8</td>\n",
       "    </tr>\n",
       "    <tr>\n",
       "      <th>4</th>\n",
       "      <td>average performance</td>\n",
       "      <td>-</td>\n",
       "      <td>-</td>\n",
       "      <td>-</td>\n",
       "      <td>-</td>\n",
       "      <td>0.83</td>\n",
       "      <td>0.668</td>\n",
       "      <td>0.997</td>\n",
       "      <td>1.016</td>\n",
       "      <td>31</td>\n",
       "      <td>23.5</td>\n",
       "      <td>32</td>\n",
       "      <td>22.75</td>\n",
       "      <td>8</td>\n",
       "      <td>15.5</td>\n",
       "    </tr>\n",
       "  </tbody>\n",
       "</table>\n",
       "</div>"
      ],
      "text/plain": [
       "               dataset Days Meal_Hours Meal_Counts win(sec)  \\\n",
       "0              wenkanw   17          7          32      360   \n",
       "1                 adam   14          3          26      360   \n",
       "2               lawler   23          7          60      360   \n",
       "3              shaurya   13          9          38      360   \n",
       "4  average performance    -          -           -        -   \n",
       "\n",
       "  TPR: Individual-Model TPR: GroupModel FP/TP: Individual-Model  \\\n",
       "0                 0.969           0.625                   0.613   \n",
       "1                 0.923           0.923                   0.417   \n",
       "2                 0.667           0.333                     1.2   \n",
       "3                 0.763           0.789                   1.759   \n",
       "4                  0.83           0.668                   0.997   \n",
       "\n",
       "  FP/TP: GroupModel TP: Individual-Model TP: GroupModel FP: Individual-Model  \\\n",
       "0               0.3                   31             20                   19   \n",
       "1             0.333                   24             24                   10   \n",
       "2               2.6                   40             20                   48   \n",
       "3             0.833                   29             30                   51   \n",
       "4             1.016                   31           23.5                   32   \n",
       "\n",
       "  FP: GroupModel FN: Individual-Model FN: GroupModel  \n",
       "0              6                    1             12  \n",
       "1              8                    2              2  \n",
       "2             52                   20             40  \n",
       "3             25                    9              8  \n",
       "4          22.75                    8           15.5  "
      ]
     },
     "execution_count": 25,
     "metadata": {},
     "output_type": "execute_result"
    }
   ],
   "source": [
    "episode_comparison_perf = print_episode_metrics(episode_perf1)\n",
    "episode_comparison_perf "
   ]
  },
  {
   "cell_type": "code",
   "execution_count": 26,
   "metadata": {},
   "outputs": [
    {
     "data": {
      "text/html": [
       "<div>\n",
       "<style scoped>\n",
       "    .dataframe tbody tr th:only-of-type {\n",
       "        vertical-align: middle;\n",
       "    }\n",
       "\n",
       "    .dataframe tbody tr th {\n",
       "        vertical-align: top;\n",
       "    }\n",
       "\n",
       "    .dataframe thead th {\n",
       "        text-align: right;\n",
       "    }\n",
       "</style>\n",
       "<table border=\"1\" class=\"dataframe\">\n",
       "  <thead>\n",
       "    <tr style=\"text-align: right;\">\n",
       "      <th></th>\n",
       "      <th>dataset</th>\n",
       "      <th>win(sec)</th>\n",
       "      <th>WAcc: GroupModel</th>\n",
       "      <th>WAcc2: GroupModel</th>\n",
       "      <th>WAcc: Individual-Model</th>\n",
       "      <th>WAcc2: Individual-Model</th>\n",
       "      <th>F1: GroupModel</th>\n",
       "      <th>F1: Individual-Model</th>\n",
       "      <th>Precision: GroupModel</th>\n",
       "      <th>Precision: Individual-Model</th>\n",
       "      <th>Recall: GroupModel</th>\n",
       "      <th>Recall: Individual-Model</th>\n",
       "      <th>Acc: GroupModel</th>\n",
       "      <th>Acc: Individual-Model</th>\n",
       "    </tr>\n",
       "  </thead>\n",
       "  <tbody>\n",
       "    <tr>\n",
       "      <th>0</th>\n",
       "      <td>wenkanw</td>\n",
       "      <td>360</td>\n",
       "      <td>0.779</td>\n",
       "      <td>0.762</td>\n",
       "      <td>0.9</td>\n",
       "      <td>0.893</td>\n",
       "      <td>0.423</td>\n",
       "      <td>0.639</td>\n",
       "      <td>0.319</td>\n",
       "      <td>0.52</td>\n",
       "      <td>0.649</td>\n",
       "      <td>0.853</td>\n",
       "      <td>0.893</td>\n",
       "      <td>0.942</td>\n",
       "    </tr>\n",
       "    <tr>\n",
       "      <th>1</th>\n",
       "      <td>adam</td>\n",
       "      <td>360</td>\n",
       "      <td>0.956</td>\n",
       "      <td>0.947</td>\n",
       "      <td>0.959</td>\n",
       "      <td>0.961</td>\n",
       "      <td>0.433</td>\n",
       "      <td>0.625</td>\n",
       "      <td>0.284</td>\n",
       "      <td>0.484</td>\n",
       "      <td>0.983</td>\n",
       "      <td>0.949</td>\n",
       "      <td>0.931</td>\n",
       "      <td>0.968</td>\n",
       "    </tr>\n",
       "    <tr>\n",
       "      <th>2</th>\n",
       "      <td>lawler</td>\n",
       "      <td>360</td>\n",
       "      <td>0.605</td>\n",
       "      <td>0.616</td>\n",
       "      <td>0.721</td>\n",
       "      <td>0.729</td>\n",
       "      <td>0.132</td>\n",
       "      <td>0.258</td>\n",
       "      <td>0.076</td>\n",
       "      <td>0.166</td>\n",
       "      <td>0.494</td>\n",
       "      <td>0.578</td>\n",
       "      <td>0.707</td>\n",
       "      <td>0.851</td>\n",
       "    </tr>\n",
       "    <tr>\n",
       "      <th>3</th>\n",
       "      <td>shaurya</td>\n",
       "      <td>360</td>\n",
       "      <td>0.759</td>\n",
       "      <td>0.734</td>\n",
       "      <td>0.766</td>\n",
       "      <td>0.744</td>\n",
       "      <td>0.409</td>\n",
       "      <td>0.402</td>\n",
       "      <td>0.308</td>\n",
       "      <td>0.295</td>\n",
       "      <td>0.624</td>\n",
       "      <td>0.654</td>\n",
       "      <td>0.874</td>\n",
       "      <td>0.862</td>\n",
       "    </tr>\n",
       "    <tr>\n",
       "      <th>4</th>\n",
       "      <td>average performance</td>\n",
       "      <td>-</td>\n",
       "      <td>0.775</td>\n",
       "      <td>0.765</td>\n",
       "      <td>0.836</td>\n",
       "      <td>0.832</td>\n",
       "      <td>0.349</td>\n",
       "      <td>0.481</td>\n",
       "      <td>0.247</td>\n",
       "      <td>0.366</td>\n",
       "      <td>0.688</td>\n",
       "      <td>0.758</td>\n",
       "      <td>0.851</td>\n",
       "      <td>0.906</td>\n",
       "    </tr>\n",
       "  </tbody>\n",
       "</table>\n",
       "</div>"
      ],
      "text/plain": [
       "               dataset win(sec) WAcc: GroupModel WAcc2: GroupModel  \\\n",
       "0              wenkanw      360            0.779             0.762   \n",
       "1                 adam      360            0.956             0.947   \n",
       "2               lawler      360            0.605             0.616   \n",
       "3              shaurya      360            0.759             0.734   \n",
       "4  average performance        -            0.775             0.765   \n",
       "\n",
       "  WAcc: Individual-Model WAcc2: Individual-Model F1: GroupModel  \\\n",
       "0                    0.9                   0.893          0.423   \n",
       "1                  0.959                   0.961          0.433   \n",
       "2                  0.721                   0.729          0.132   \n",
       "3                  0.766                   0.744          0.409   \n",
       "4                  0.836                   0.832          0.349   \n",
       "\n",
       "  F1: Individual-Model Precision: GroupModel Precision: Individual-Model  \\\n",
       "0                0.639                 0.319                        0.52   \n",
       "1                0.625                 0.284                       0.484   \n",
       "2                0.258                 0.076                       0.166   \n",
       "3                0.402                 0.308                       0.295   \n",
       "4                0.481                 0.247                       0.366   \n",
       "\n",
       "  Recall: GroupModel Recall: Individual-Model Acc: GroupModel  \\\n",
       "0              0.649                    0.853           0.893   \n",
       "1              0.983                    0.949           0.931   \n",
       "2              0.494                    0.578           0.707   \n",
       "3              0.624                    0.654           0.874   \n",
       "4              0.688                    0.758           0.851   \n",
       "\n",
       "  Acc: Individual-Model  \n",
       "0                 0.942  \n",
       "1                 0.968  \n",
       "2                 0.851  \n",
       "3                 0.862  \n",
       "4                 0.906  "
      ]
     },
     "execution_count": 26,
     "metadata": {},
     "output_type": "execute_result"
    }
   ],
   "source": [
    "\n",
    "time_comparison_perf = print_time_metrics(time_perf1)\n",
    "time_comparison_perf"
   ]
  },
  {
   "cell_type": "code",
   "execution_count": 27,
   "metadata": {},
   "outputs": [],
   "source": [
    "save_path = \"../results/\"\n",
    "time_comparison_perf.to_csv(save_path+\"time_metrics/updated_cv_fold5_time_metrics.csv\",index=False)\n",
    "episode_comparison_perf.to_csv(save_path+\"episode_metrics/updated_cv_fold5_episode_metrics.csv\",index=False)"
   ]
  },
  {
   "cell_type": "markdown",
   "metadata": {},
   "source": [
    "# Update data"
   ]
  },
  {
   "cell_type": "code",
   "execution_count": 11,
   "metadata": {},
   "outputs": [],
   "source": [
    "save_path = \"../results/\"\n",
    "time_comparison_perf = pd.read_csv(save_path+\"time_metrics/updated_cv_fold5_time_metrics.csv\")\n",
    "episode_comparison_perf = pd.read_csv(save_path+\"episode_metrics/updated_cv_fold5_episode_metrics.csv\")"
   ]
  },
  {
   "cell_type": "code",
   "execution_count": 25,
   "metadata": {
    "scrolled": true
   },
   "outputs": [
    {
     "name": "stderr",
     "output_type": "stream",
     "text": [
      "/home/wenkanw/.conda/envs/mlenv/lib/python3.8/site-packages/sklearn/model_selection/_split.py:293: FutureWarning: Setting a random_state has no effect since shuffle is False. This will raise an error in 0.24. You should leave random_state to its default (None), or set shuffle=True.\n",
      "  warnings.warn(\n"
     ]
    },
    {
     "name": "stdout",
     "output_type": "stream",
     "text": [
      "Loading Dataset ...\n",
      "Loading File:  ../data/IndividualData/tianyi-data/1-18-21/Shimmer-Data.shm\n",
      "Loading File:  ../data/IndividualData/tianyi-data/2-3-21/Shimmer-Data.shm\n",
      "Loading File:  ../data/IndividualData/tianyi-data/1-25-21/Shimmer-Data.shm\n",
      "Loading File:  ../data/IndividualData/tianyi-data/1-19-21/Shimmer-Data.shm\n",
      "Loading File:  ../data/IndividualData/tianyi-data/1-26-21/Shimmer-Data.shm\n",
      "Loading File:  ../data/IndividualData/tianyi-data/1-20-21/Shimmer-Data.shm\n",
      "Loading File:  ../data/IndividualData/tianyi-data/1-31-21/Shimmer-Data.shm\n",
      "Loading File:  ../data/IndividualData/tianyi-data/1-16-21/Shimmer-Data.shm\n",
      "Loading File:  ../data/IndividualData/tianyi-data/1-27-21/Shimmer-Data.shm\n",
      "Loading File:  ../data/IndividualData/tianyi-data/1-14-21/Shimmer-Data.shm\n",
      "Loading File:  ../data/IndividualData/tianyi-data/2-2-21/Shimmer-Data.shm\n",
      "Loading File:  ../data/IndividualData/tianyi-data/1-28-21/Shimmer-Data.shm\n",
      "Loading File:  ../data/IndividualData/tianyi-data/1-22-21/Shimmer-Data.shm\n",
      "Loading File:  ../data/IndividualData/tianyi-data/1-17-21/Shimmer-Data.shm\n",
      "Fold: 0 Train on days:  [ 3  4  5  6  7  8  9 10 11 12 13] Test on days:  [0 1 2]\n",
      "Train set size: 5016, with 2508 positive samples and 2508 negative samples\n",
      "Test set size: 1254, with 627 positive samples and 627 negative samples\n",
      "Train on :  2508 positive samples,  2508  negative samples\n",
      "Testing on :  627 positive samples,  627  negative samples\n",
      "Testing on :  1116 positive samples,  20852  negative samples\n"
     ]
    },
    {
     "name": "stderr",
     "output_type": "stream",
     "text": [
      "100%|██████████| 3/3 [00:00<00:00, 219.46it/s]\n",
      "100%|██████████| 3/3 [00:00<00:00, 227.02it/s]\n"
     ]
    },
    {
     "name": "stdout",
     "output_type": "stream",
     "text": [
      "Segmentation Completed. \n",
      "total_meal: 20 TP:  3 FP:  4 FN:  2\n",
      "Segmentation Completed. \n",
      "total_meal: 20 TP:  3 FP:  3 FN:  2\n",
      "Fold: 1 Train on days:  [ 0  1  2  6  7  8  9 10 11 12 13] Test on days:  [3 4 5]\n",
      "Train set size: 5630, with 2815 positive samples and 2815 negative samples\n",
      "Test set size: 1408, with 704 positive samples and 704 negative samples\n",
      "Train on :  2815 positive samples,  2815  negative samples\n",
      "Testing on :  704 positive samples,  704  negative samples\n",
      "Testing on :  732 positive samples,  19579  negative samples\n"
     ]
    },
    {
     "name": "stderr",
     "output_type": "stream",
     "text": [
      "100%|██████████| 3/3 [00:00<00:00, 186.75it/s]\n",
      "100%|██████████| 3/3 [00:00<00:00, 278.72it/s]\n"
     ]
    },
    {
     "name": "stdout",
     "output_type": "stream",
     "text": [
      "Segmentation Completed. \n",
      "total_meal: 20 TP:  3 FP:  4 FN:  0\n",
      "Segmentation Completed. \n",
      "total_meal: 20 TP:  3 FP:  5 FN:  0\n",
      "Fold: 2 Train on days:  [ 0  1  2  3  4  5  9 10 11 12 13] Test on days:  [6 7 8]\n",
      "Train set size: 5380, with 2690 positive samples and 2690 negative samples\n",
      "Test set size: 1346, with 673 positive samples and 673 negative samples\n",
      "Train on :  2690 positive samples,  2690  negative samples\n",
      "Testing on :  673 positive samples,  673  negative samples\n",
      "Testing on :  888 positive samples,  15243  negative samples\n"
     ]
    },
    {
     "name": "stderr",
     "output_type": "stream",
     "text": [
      "100%|██████████| 3/3 [00:00<00:00, 299.75it/s]\n",
      "100%|██████████| 3/3 [00:00<00:00, 331.44it/s]\n"
     ]
    },
    {
     "name": "stdout",
     "output_type": "stream",
     "text": [
      "Segmentation Completed. \n",
      "total_meal: 20 TP:  3 FP:  12 FN:  2\n",
      "Segmentation Completed. \n",
      "total_meal: 20 TP:  3 FP:  6 FN:  2\n",
      "Fold: 3 Train on days:  [ 0  1  2  3  4  5  6  7  8 12 13] Test on days:  [ 9 10 11]\n",
      "Train set size: 5148, with 2574 positive samples and 2574 negative samples\n",
      "Test set size: 1288, with 644 positive samples and 644 negative samples\n",
      "Train on :  2574 positive samples,  2574  negative samples\n",
      "Testing on :  644 positive samples,  644  negative samples\n",
      "Testing on :  1033 positive samples,  18544  negative samples\n"
     ]
    },
    {
     "name": "stderr",
     "output_type": "stream",
     "text": [
      "100%|██████████| 3/3 [00:00<00:00, 260.56it/s]\n",
      "100%|██████████| 3/3 [00:00<00:00, 269.77it/s]\n"
     ]
    },
    {
     "name": "stdout",
     "output_type": "stream",
     "text": [
      "Segmentation Completed. \n",
      "total_meal: 20 TP:  0 FP:  2 FN:  4\n",
      "Segmentation Completed. \n",
      "total_meal: 20 TP:  3 FP:  3 FN:  1\n",
      "Fold: 4 Train on days:  [ 0  1  2  3  4  5  6  7  8  9 10 11] Test on days:  [12 13]\n",
      "Train set size: 6030, with 3015 positive samples and 3015 negative samples\n",
      "Test set size: 1508, with 754 positive samples and 754 negative samples\n",
      "Train on :  3015 positive samples,  3015  negative samples\n",
      "Testing on :  754 positive samples,  754  negative samples\n",
      "Testing on :  482 positive samples,  12531  negative samples\n"
     ]
    },
    {
     "name": "stderr",
     "output_type": "stream",
     "text": [
      "100%|██████████| 2/2 [00:00<00:00, 251.07it/s]\n",
      "100%|██████████| 2/2 [00:00<00:00, 279.17it/s]\n"
     ]
    },
    {
     "name": "stdout",
     "output_type": "stream",
     "text": [
      "Segmentation Completed. \n",
      "total_meal: 20 TP:  3 FP:  4 FN:  0\n",
      "Segmentation Completed. \n",
      "total_meal: 20 TP:  3 FP:  2 FN:  0\n",
      "Loading Dataset ...\n",
      "Loading File:  ../data/IndividualData/james-data/02-03-2021/Day13.shm\n",
      "Loading File:  ../data/IndividualData/james-data/02-02-2021/Day12.shm\n",
      "Loading File:  ../data/IndividualData/james-data/02-01-2021/Day11.shm\n",
      "Loading File:  ../data/IndividualData/james-data/1-30-2021/Day9.shm\n",
      "Loading File:  ../data/IndividualData/james-data/1-26-2021/Day5.shm\n",
      "Loading File:  ../data/IndividualData/james-data/1-25-2021/Day4.shm\n",
      "Loading File:  ../data/IndividualData/james-data/1-29-2021/Day8.shm\n",
      "Loading File:  ../data/IndividualData/james-data/1-24-2021/Day3.shm\n",
      "Loading File:  ../data/IndividualData/james-data/02-04-2021/Day14.shm\n",
      "Loading File:  ../data/IndividualData/james-data/1-31-2021/Day10.shm\n",
      "Loading File:  ../data/IndividualData/james-data/1-27-2021/Day6.shm\n",
      "Loading File:  ../data/IndividualData/james-data/1-28-2021/Day7.shm\n",
      "Fold: 0 Train on days:  [ 3  4  5  6  7  8  9 10 11] Test on days:  [0 1 2]\n",
      "Train set size: 5969, with 2984 positive samples and 2985 negative samples\n",
      "Test set size: 1493, with 747 positive samples and 746 negative samples\n",
      "Train on :  2984 positive samples,  2985  negative samples\n",
      "Testing on :  747 positive samples,  746  negative samples\n",
      "Testing on :  1298 positive samples,  23617  negative samples\n"
     ]
    },
    {
     "name": "stderr",
     "output_type": "stream",
     "text": [
      "100%|██████████| 3/3 [00:00<00:00, 156.77it/s]\n",
      "100%|██████████| 3/3 [00:00<00:00, 163.17it/s]\n"
     ]
    },
    {
     "name": "stdout",
     "output_type": "stream",
     "text": [
      "Segmentation Completed. \n",
      "total_meal: 26 TP:  6 FP:  15 FN:  0\n",
      "Segmentation Completed. \n",
      "total_meal: 26 TP:  5 FP:  14 FN:  1\n",
      "Fold: 1 Train on days:  [ 0  1  2  6  7  8  9 10 11] Test on days:  [3 4 5]\n",
      "Train set size: 5648, with 2824 positive samples and 2824 negative samples\n",
      "Test set size: 1412, with 706 positive samples and 706 negative samples\n",
      "Train on :  2824 positive samples,  2824  negative samples\n",
      "Testing on :  706 positive samples,  706  negative samples\n",
      "Testing on :  1499 positive samples,  24187  negative samples\n"
     ]
    },
    {
     "name": "stderr",
     "output_type": "stream",
     "text": [
      "100%|██████████| 3/3 [00:00<00:00, 214.57it/s]\n",
      "100%|██████████| 3/3 [00:00<00:00, 236.69it/s]\n"
     ]
    },
    {
     "name": "stdout",
     "output_type": "stream",
     "text": [
      "Segmentation Completed. \n",
      "total_meal: 26 TP:  7 FP:  17 FN:  0\n",
      "Segmentation Completed. \n",
      "total_meal: 26 TP:  6 FP:  10 FN:  1\n",
      "Fold: 2 Train on days:  [ 0  1  2  3  4  5  8  9 10 11] Test on days:  [6 7]\n",
      "Train set size: 6529, with 3264 positive samples and 3265 negative samples\n",
      "Test set size: 1633, with 817 positive samples and 816 negative samples\n",
      "Train on :  3264 positive samples,  3265  negative samples\n",
      "Testing on :  817 positive samples,  816  negative samples\n",
      "Testing on :  948 positive samples,  16735  negative samples\n"
     ]
    },
    {
     "name": "stderr",
     "output_type": "stream",
     "text": [
      "100%|██████████| 2/2 [00:00<00:00, 233.77it/s]\n",
      "100%|██████████| 2/2 [00:00<00:00, 257.89it/s]\n"
     ]
    },
    {
     "name": "stdout",
     "output_type": "stream",
     "text": [
      "Segmentation Completed. \n",
      "total_meal: 26 TP:  4 FP:  3 FN:  0\n",
      "Segmentation Completed. \n",
      "total_meal: 26 TP:  4 FP:  5 FN:  0\n",
      "Fold: 3 Train on days:  [ 0  1  2  3  4  5  6  7 10 11] Test on days:  [8 9]\n",
      "Train set size: 7297, with 3648 positive samples and 3649 negative samples\n",
      "Test set size: 1825, with 913 positive samples and 912 negative samples\n",
      "Train on :  3648 positive samples,  3649  negative samples\n",
      "Testing on :  913 positive samples,  912  negative samples\n",
      "Testing on :  468 positive samples,  17177  negative samples\n"
     ]
    },
    {
     "name": "stderr",
     "output_type": "stream",
     "text": [
      "100%|██████████| 2/2 [00:00<00:00, 252.58it/s]\n",
      "100%|██████████| 2/2 [00:00<00:00, 262.01it/s]\n"
     ]
    },
    {
     "name": "stdout",
     "output_type": "stream",
     "text": [
      "Segmentation Completed. \n",
      "total_meal: 26 TP:  3 FP:  5 FN:  0\n",
      "Segmentation Completed. \n",
      "total_meal: 26 TP:  3 FP:  4 FN:  0\n",
      "Fold: 4 Train on days:  [0 1 2 3 4 5 6 7 8 9] Test on days:  [10 11]\n",
      "Train set size: 6740, with 3370 positive samples and 3370 negative samples\n",
      "Test set size: 1686, with 843 positive samples and 843 negative samples\n",
      "Train on :  3370 positive samples,  3370  negative samples\n",
      "Testing on :  843 positive samples,  843  negative samples\n",
      "Testing on :  816 positive samples,  16650  negative samples\n"
     ]
    },
    {
     "name": "stderr",
     "output_type": "stream",
     "text": [
      "100%|██████████| 2/2 [00:00<00:00, 235.20it/s]\n",
      "100%|██████████| 2/2 [00:00<00:00, 263.84it/s]"
     ]
    },
    {
     "name": "stdout",
     "output_type": "stream",
     "text": [
      "Segmentation Completed. \n",
      "total_meal: 26 TP:  4 FP:  10 FN:  2\n",
      "Segmentation Completed. \n",
      "total_meal: 26 TP:  5 FP:  6 FN:  1\n",
      "CPU times: user 11min 6s, sys: 29.4 s, total: 11min 35s\n",
      "Wall time: 6min 58s\n"
     ]
    },
    {
     "name": "stderr",
     "output_type": "stream",
     "text": [
      "\n"
     ]
    }
   ],
   "source": [
    "\n",
    "hy_threshold = {'wenkanw':[0.8,0.3], 'adam':[0.8,0.3],'lawler':[0.8,0.3], 'shaurya':[0.8,0.3],'tianyi':[0.8,0.3],'james':[0.8,0.3]}\n",
    "\n",
    "%time meal_info, time_perf2,episode_perf2 = cross_validation_metrics(balance_ratio= balance_ratio, model_arch = acti_model, fold_num = 5, winmin=6, stridesec = 5, \\\n",
    "                                                             names= [\"tianyi\",\"james\"],model_name= \"acti_model\", \\\n",
    "                                                             random_seed=random_seed,  test_balance=False, re_train =False, \\\n",
    "                                                             test_CAD=False, metrics =['time','episode'], load_data =True, ind_threshold =hy_threshold)\n",
    "\n",
    "episode_perf2 = pd.merge(left=meal_info,right=episode_perf2,on=\"dataset\")"
   ]
  },
  {
   "cell_type": "code",
   "execution_count": null,
   "metadata": {},
   "outputs": [],
   "source": []
  },
  {
   "cell_type": "code",
   "execution_count": 13,
   "metadata": {},
   "outputs": [
    {
     "data": {
      "text/html": [
       "<div>\n",
       "<style scoped>\n",
       "    .dataframe tbody tr th:only-of-type {\n",
       "        vertical-align: middle;\n",
       "    }\n",
       "\n",
       "    .dataframe tbody tr th {\n",
       "        vertical-align: top;\n",
       "    }\n",
       "\n",
       "    .dataframe thead th {\n",
       "        text-align: right;\n",
       "    }\n",
       "</style>\n",
       "<table border=\"1\" class=\"dataframe\">\n",
       "  <thead>\n",
       "    <tr style=\"text-align: right;\">\n",
       "      <th></th>\n",
       "      <th>dataset</th>\n",
       "      <th>win(sec)</th>\n",
       "      <th>WAcc: GroupModel</th>\n",
       "      <th>WAcc2: GroupModel</th>\n",
       "      <th>Recall: GroupModel</th>\n",
       "      <th>Precision: GroupModel</th>\n",
       "      <th>F1: GroupModel</th>\n",
       "      <th>Acc: GroupModel</th>\n",
       "      <th>WAcc: Individual-Model</th>\n",
       "      <th>WAcc2: Individual-Model</th>\n",
       "      <th>Recall: Individual-Model</th>\n",
       "      <th>Precision: Individual-Model</th>\n",
       "      <th>F1: Individual-Model</th>\n",
       "      <th>Acc: Individual-Model</th>\n",
       "    </tr>\n",
       "  </thead>\n",
       "  <tbody>\n",
       "    <tr>\n",
       "      <th>0</th>\n",
       "      <td>tianyi</td>\n",
       "      <td>360</td>\n",
       "      <td>0.833118</td>\n",
       "      <td>0.828257</td>\n",
       "      <td>0.735714</td>\n",
       "      <td>0.340776</td>\n",
       "      <td>0.455541</td>\n",
       "      <td>0.920024</td>\n",
       "      <td>0.843327</td>\n",
       "      <td>0.839780</td>\n",
       "      <td>0.759740</td>\n",
       "      <td>0.359461</td>\n",
       "      <td>0.474076</td>\n",
       "      <td>0.918013</td>\n",
       "    </tr>\n",
       "    <tr>\n",
       "      <th>1</th>\n",
       "      <td>james</td>\n",
       "      <td>360</td>\n",
       "      <td>0.786936</td>\n",
       "      <td>0.786705</td>\n",
       "      <td>0.729783</td>\n",
       "      <td>0.193959</td>\n",
       "      <td>0.303014</td>\n",
       "      <td>0.838313</td>\n",
       "      <td>0.799150</td>\n",
       "      <td>0.795242</td>\n",
       "      <td>0.769869</td>\n",
       "      <td>0.205629</td>\n",
       "      <td>0.310531</td>\n",
       "      <td>0.824870</td>\n",
       "    </tr>\n",
       "  </tbody>\n",
       "</table>\n",
       "</div>"
      ],
      "text/plain": [
       "  dataset  win(sec)  WAcc: GroupModel  WAcc2: GroupModel  Recall: GroupModel  \\\n",
       "0  tianyi       360          0.833118           0.828257            0.735714   \n",
       "1   james       360          0.786936           0.786705            0.729783   \n",
       "\n",
       "   Precision: GroupModel  F1: GroupModel  Acc: GroupModel  \\\n",
       "0               0.340776        0.455541         0.920024   \n",
       "1               0.193959        0.303014         0.838313   \n",
       "\n",
       "   WAcc: Individual-Model  WAcc2: Individual-Model  Recall: Individual-Model  \\\n",
       "0                0.843327                 0.839780                  0.759740   \n",
       "1                0.799150                 0.795242                  0.769869   \n",
       "\n",
       "   Precision: Individual-Model  F1: Individual-Model  Acc: Individual-Model  \n",
       "0                     0.359461              0.474076               0.918013  \n",
       "1                     0.205629              0.310531               0.824870  "
      ]
     },
     "execution_count": 13,
     "metadata": {},
     "output_type": "execute_result"
    }
   ],
   "source": [
    "time_perf2"
   ]
  },
  {
   "cell_type": "code",
   "execution_count": 14,
   "metadata": {},
   "outputs": [
    {
     "data": {
      "text/html": [
       "<div>\n",
       "<style scoped>\n",
       "    .dataframe tbody tr th:only-of-type {\n",
       "        vertical-align: middle;\n",
       "    }\n",
       "\n",
       "    .dataframe tbody tr th {\n",
       "        vertical-align: top;\n",
       "    }\n",
       "\n",
       "    .dataframe thead th {\n",
       "        text-align: right;\n",
       "    }\n",
       "</style>\n",
       "<table border=\"1\" class=\"dataframe\">\n",
       "  <thead>\n",
       "    <tr style=\"text-align: right;\">\n",
       "      <th></th>\n",
       "      <th>dataset</th>\n",
       "      <th>Days</th>\n",
       "      <th>Meal_Hours</th>\n",
       "      <th>Meal_Counts</th>\n",
       "      <th>Total_Hours</th>\n",
       "      <th>win(sec)</th>\n",
       "      <th>TP: GroupModel</th>\n",
       "      <th>FP: GroupModel</th>\n",
       "      <th>FN: GroupModel</th>\n",
       "      <th>TP: Individual-Model</th>\n",
       "      <th>FP: Individual-Model</th>\n",
       "      <th>FN: Individual-Model</th>\n",
       "      <th>TPR: Individual-Model</th>\n",
       "      <th>FP/TP: Individual-Model</th>\n",
       "      <th>TPR: GroupModel</th>\n",
       "      <th>FP/TP: GroupModel</th>\n",
       "    </tr>\n",
       "  </thead>\n",
       "  <tbody>\n",
       "    <tr>\n",
       "      <th>0</th>\n",
       "      <td>tianyi</td>\n",
       "      <td>14</td>\n",
       "      <td>5</td>\n",
       "      <td>20</td>\n",
       "      <td>127</td>\n",
       "      <td>360</td>\n",
       "      <td>15</td>\n",
       "      <td>19</td>\n",
       "      <td>5</td>\n",
       "      <td>12</td>\n",
       "      <td>26</td>\n",
       "      <td>8</td>\n",
       "      <td>0.600000</td>\n",
       "      <td>2.166667</td>\n",
       "      <td>0.750000</td>\n",
       "      <td>1.266667</td>\n",
       "    </tr>\n",
       "    <tr>\n",
       "      <th>1</th>\n",
       "      <td>james</td>\n",
       "      <td>12</td>\n",
       "      <td>6</td>\n",
       "      <td>26</td>\n",
       "      <td>144</td>\n",
       "      <td>360</td>\n",
       "      <td>23</td>\n",
       "      <td>39</td>\n",
       "      <td>3</td>\n",
       "      <td>24</td>\n",
       "      <td>50</td>\n",
       "      <td>2</td>\n",
       "      <td>0.923077</td>\n",
       "      <td>2.083333</td>\n",
       "      <td>0.884615</td>\n",
       "      <td>1.695652</td>\n",
       "    </tr>\n",
       "  </tbody>\n",
       "</table>\n",
       "</div>"
      ],
      "text/plain": [
       "  dataset  Days  Meal_Hours  Meal_Counts  Total_Hours  win(sec)  \\\n",
       "0  tianyi    14           5           20          127       360   \n",
       "1   james    12           6           26          144       360   \n",
       "\n",
       "   TP: GroupModel  FP: GroupModel  FN: GroupModel  TP: Individual-Model  \\\n",
       "0              15              19               5                    12   \n",
       "1              23              39               3                    24   \n",
       "\n",
       "   FP: Individual-Model  FN: Individual-Model  TPR: Individual-Model  \\\n",
       "0                    26                     8               0.600000   \n",
       "1                    50                     2               0.923077   \n",
       "\n",
       "   FP/TP: Individual-Model  TPR: GroupModel  FP/TP: GroupModel  \n",
       "0                 2.166667         0.750000           1.266667  \n",
       "1                 2.083333         0.884615           1.695652  "
      ]
     },
     "execution_count": 14,
     "metadata": {},
     "output_type": "execute_result"
    }
   ],
   "source": [
    "episode_perf2 "
   ]
  },
  {
   "cell_type": "code",
   "execution_count": 18,
   "metadata": {},
   "outputs": [
    {
     "data": {
      "text/html": [
       "<div>\n",
       "<style scoped>\n",
       "    .dataframe tbody tr th:only-of-type {\n",
       "        vertical-align: middle;\n",
       "    }\n",
       "\n",
       "    .dataframe tbody tr th {\n",
       "        vertical-align: top;\n",
       "    }\n",
       "\n",
       "    .dataframe thead th {\n",
       "        text-align: right;\n",
       "    }\n",
       "</style>\n",
       "<table border=\"1\" class=\"dataframe\">\n",
       "  <thead>\n",
       "    <tr style=\"text-align: right;\">\n",
       "      <th></th>\n",
       "      <th>dataset</th>\n",
       "      <th>Days</th>\n",
       "      <th>Meal_Hours</th>\n",
       "      <th>Meal_Counts</th>\n",
       "      <th>win(sec)</th>\n",
       "      <th>TPR: Individual-Model</th>\n",
       "      <th>TPR: GroupModel</th>\n",
       "      <th>FP/TP: Individual-Model</th>\n",
       "      <th>FP/TP: GroupModel</th>\n",
       "      <th>TP: Individual-Model</th>\n",
       "      <th>TP: GroupModel</th>\n",
       "      <th>FP: Individual-Model</th>\n",
       "      <th>FP: GroupModel</th>\n",
       "      <th>FN: Individual-Model</th>\n",
       "      <th>FN: GroupModel</th>\n",
       "    </tr>\n",
       "  </thead>\n",
       "  <tbody>\n",
       "    <tr>\n",
       "      <th>0</th>\n",
       "      <td>wenkanw</td>\n",
       "      <td>17</td>\n",
       "      <td>7</td>\n",
       "      <td>32</td>\n",
       "      <td>360</td>\n",
       "      <td>0.969</td>\n",
       "      <td>0.625</td>\n",
       "      <td>0.613</td>\n",
       "      <td>0.300</td>\n",
       "      <td>31.0</td>\n",
       "      <td>20.0</td>\n",
       "      <td>19.0</td>\n",
       "      <td>6.00</td>\n",
       "      <td>1.0</td>\n",
       "      <td>12.0</td>\n",
       "    </tr>\n",
       "    <tr>\n",
       "      <th>1</th>\n",
       "      <td>adam</td>\n",
       "      <td>14</td>\n",
       "      <td>3</td>\n",
       "      <td>26</td>\n",
       "      <td>360</td>\n",
       "      <td>0.923</td>\n",
       "      <td>0.923</td>\n",
       "      <td>0.417</td>\n",
       "      <td>0.333</td>\n",
       "      <td>24.0</td>\n",
       "      <td>24.0</td>\n",
       "      <td>10.0</td>\n",
       "      <td>8.00</td>\n",
       "      <td>2.0</td>\n",
       "      <td>2.0</td>\n",
       "    </tr>\n",
       "    <tr>\n",
       "      <th>2</th>\n",
       "      <td>lawler</td>\n",
       "      <td>23</td>\n",
       "      <td>7</td>\n",
       "      <td>60</td>\n",
       "      <td>360</td>\n",
       "      <td>0.667</td>\n",
       "      <td>0.333</td>\n",
       "      <td>1.200</td>\n",
       "      <td>2.600</td>\n",
       "      <td>40.0</td>\n",
       "      <td>20.0</td>\n",
       "      <td>48.0</td>\n",
       "      <td>52.00</td>\n",
       "      <td>20.0</td>\n",
       "      <td>40.0</td>\n",
       "    </tr>\n",
       "    <tr>\n",
       "      <th>3</th>\n",
       "      <td>shaurya</td>\n",
       "      <td>13</td>\n",
       "      <td>9</td>\n",
       "      <td>38</td>\n",
       "      <td>360</td>\n",
       "      <td>0.763</td>\n",
       "      <td>0.789</td>\n",
       "      <td>1.759</td>\n",
       "      <td>0.833</td>\n",
       "      <td>29.0</td>\n",
       "      <td>30.0</td>\n",
       "      <td>51.0</td>\n",
       "      <td>25.00</td>\n",
       "      <td>9.0</td>\n",
       "      <td>8.0</td>\n",
       "    </tr>\n",
       "    <tr>\n",
       "      <th>4</th>\n",
       "      <td>average performance</td>\n",
       "      <td>-</td>\n",
       "      <td>-</td>\n",
       "      <td>-</td>\n",
       "      <td>-</td>\n",
       "      <td>0.830</td>\n",
       "      <td>0.668</td>\n",
       "      <td>0.997</td>\n",
       "      <td>1.016</td>\n",
       "      <td>31.0</td>\n",
       "      <td>23.5</td>\n",
       "      <td>32.0</td>\n",
       "      <td>22.75</td>\n",
       "      <td>8.0</td>\n",
       "      <td>15.5</td>\n",
       "    </tr>\n",
       "  </tbody>\n",
       "</table>\n",
       "</div>"
      ],
      "text/plain": [
       "               dataset Days Meal_Hours Meal_Counts win(sec)  \\\n",
       "0              wenkanw   17          7          32      360   \n",
       "1                 adam   14          3          26      360   \n",
       "2               lawler   23          7          60      360   \n",
       "3              shaurya   13          9          38      360   \n",
       "4  average performance    -          -           -        -   \n",
       "\n",
       "   TPR: Individual-Model  TPR: GroupModel  FP/TP: Individual-Model  \\\n",
       "0                  0.969            0.625                    0.613   \n",
       "1                  0.923            0.923                    0.417   \n",
       "2                  0.667            0.333                    1.200   \n",
       "3                  0.763            0.789                    1.759   \n",
       "4                  0.830            0.668                    0.997   \n",
       "\n",
       "   FP/TP: GroupModel  TP: Individual-Model  TP: GroupModel  \\\n",
       "0              0.300                  31.0            20.0   \n",
       "1              0.333                  24.0            24.0   \n",
       "2              2.600                  40.0            20.0   \n",
       "3              0.833                  29.0            30.0   \n",
       "4              1.016                  31.0            23.5   \n",
       "\n",
       "   FP: Individual-Model  FP: GroupModel  FN: Individual-Model  FN: GroupModel  \n",
       "0                  19.0            6.00                   1.0            12.0  \n",
       "1                  10.0            8.00                   2.0             2.0  \n",
       "2                  48.0           52.00                  20.0            40.0  \n",
       "3                  51.0           25.00                   9.0             8.0  \n",
       "4                  32.0           22.75                   8.0            15.5  "
      ]
     },
     "execution_count": 18,
     "metadata": {},
     "output_type": "execute_result"
    }
   ],
   "source": [
    "episode_comparison_perf"
   ]
  },
  {
   "cell_type": "code",
   "execution_count": 19,
   "metadata": {},
   "outputs": [
    {
     "data": {
      "text/html": [
       "<div>\n",
       "<style scoped>\n",
       "    .dataframe tbody tr th:only-of-type {\n",
       "        vertical-align: middle;\n",
       "    }\n",
       "\n",
       "    .dataframe tbody tr th {\n",
       "        vertical-align: top;\n",
       "    }\n",
       "\n",
       "    .dataframe thead th {\n",
       "        text-align: right;\n",
       "    }\n",
       "</style>\n",
       "<table border=\"1\" class=\"dataframe\">\n",
       "  <thead>\n",
       "    <tr style=\"text-align: right;\">\n",
       "      <th></th>\n",
       "      <th>dataset</th>\n",
       "      <th>win(sec)</th>\n",
       "      <th>WAcc: GroupModel</th>\n",
       "      <th>WAcc2: GroupModel</th>\n",
       "      <th>WAcc: Individual-Model</th>\n",
       "      <th>WAcc2: Individual-Model</th>\n",
       "      <th>F1: GroupModel</th>\n",
       "      <th>F1: Individual-Model</th>\n",
       "      <th>Precision: GroupModel</th>\n",
       "      <th>Precision: Individual-Model</th>\n",
       "      <th>Recall: GroupModel</th>\n",
       "      <th>Recall: Individual-Model</th>\n",
       "      <th>Acc: GroupModel</th>\n",
       "      <th>Acc: Individual-Model</th>\n",
       "    </tr>\n",
       "  </thead>\n",
       "  <tbody>\n",
       "    <tr>\n",
       "      <th>0</th>\n",
       "      <td>wenkanw</td>\n",
       "      <td>360</td>\n",
       "      <td>0.779</td>\n",
       "      <td>0.762</td>\n",
       "      <td>0.900</td>\n",
       "      <td>0.893</td>\n",
       "      <td>0.423</td>\n",
       "      <td>0.639</td>\n",
       "      <td>0.319</td>\n",
       "      <td>0.520</td>\n",
       "      <td>0.649</td>\n",
       "      <td>0.853</td>\n",
       "      <td>0.893</td>\n",
       "      <td>0.942</td>\n",
       "    </tr>\n",
       "    <tr>\n",
       "      <th>1</th>\n",
       "      <td>adam</td>\n",
       "      <td>360</td>\n",
       "      <td>0.956</td>\n",
       "      <td>0.947</td>\n",
       "      <td>0.959</td>\n",
       "      <td>0.961</td>\n",
       "      <td>0.433</td>\n",
       "      <td>0.625</td>\n",
       "      <td>0.284</td>\n",
       "      <td>0.484</td>\n",
       "      <td>0.983</td>\n",
       "      <td>0.949</td>\n",
       "      <td>0.931</td>\n",
       "      <td>0.968</td>\n",
       "    </tr>\n",
       "    <tr>\n",
       "      <th>2</th>\n",
       "      <td>lawler</td>\n",
       "      <td>360</td>\n",
       "      <td>0.605</td>\n",
       "      <td>0.616</td>\n",
       "      <td>0.721</td>\n",
       "      <td>0.729</td>\n",
       "      <td>0.132</td>\n",
       "      <td>0.258</td>\n",
       "      <td>0.076</td>\n",
       "      <td>0.166</td>\n",
       "      <td>0.494</td>\n",
       "      <td>0.578</td>\n",
       "      <td>0.707</td>\n",
       "      <td>0.851</td>\n",
       "    </tr>\n",
       "    <tr>\n",
       "      <th>3</th>\n",
       "      <td>shaurya</td>\n",
       "      <td>360</td>\n",
       "      <td>0.759</td>\n",
       "      <td>0.734</td>\n",
       "      <td>0.766</td>\n",
       "      <td>0.744</td>\n",
       "      <td>0.409</td>\n",
       "      <td>0.402</td>\n",
       "      <td>0.308</td>\n",
       "      <td>0.295</td>\n",
       "      <td>0.624</td>\n",
       "      <td>0.654</td>\n",
       "      <td>0.874</td>\n",
       "      <td>0.862</td>\n",
       "    </tr>\n",
       "    <tr>\n",
       "      <th>4</th>\n",
       "      <td>average performance</td>\n",
       "      <td>-</td>\n",
       "      <td>0.775</td>\n",
       "      <td>0.765</td>\n",
       "      <td>0.836</td>\n",
       "      <td>0.832</td>\n",
       "      <td>0.349</td>\n",
       "      <td>0.481</td>\n",
       "      <td>0.247</td>\n",
       "      <td>0.366</td>\n",
       "      <td>0.688</td>\n",
       "      <td>0.758</td>\n",
       "      <td>0.851</td>\n",
       "      <td>0.906</td>\n",
       "    </tr>\n",
       "  </tbody>\n",
       "</table>\n",
       "</div>"
      ],
      "text/plain": [
       "               dataset win(sec)  WAcc: GroupModel  WAcc2: GroupModel  \\\n",
       "0              wenkanw      360             0.779              0.762   \n",
       "1                 adam      360             0.956              0.947   \n",
       "2               lawler      360             0.605              0.616   \n",
       "3              shaurya      360             0.759              0.734   \n",
       "4  average performance        -             0.775              0.765   \n",
       "\n",
       "   WAcc: Individual-Model  WAcc2: Individual-Model  F1: GroupModel  \\\n",
       "0                   0.900                    0.893           0.423   \n",
       "1                   0.959                    0.961           0.433   \n",
       "2                   0.721                    0.729           0.132   \n",
       "3                   0.766                    0.744           0.409   \n",
       "4                   0.836                    0.832           0.349   \n",
       "\n",
       "   F1: Individual-Model  Precision: GroupModel  Precision: Individual-Model  \\\n",
       "0                 0.639                  0.319                        0.520   \n",
       "1                 0.625                  0.284                        0.484   \n",
       "2                 0.258                  0.076                        0.166   \n",
       "3                 0.402                  0.308                        0.295   \n",
       "4                 0.481                  0.247                        0.366   \n",
       "\n",
       "   Recall: GroupModel  Recall: Individual-Model  Acc: GroupModel  \\\n",
       "0               0.649                     0.853            0.893   \n",
       "1               0.983                     0.949            0.931   \n",
       "2               0.494                     0.578            0.707   \n",
       "3               0.624                     0.654            0.874   \n",
       "4               0.688                     0.758            0.851   \n",
       "\n",
       "   Acc: Individual-Model  \n",
       "0                  0.942  \n",
       "1                  0.968  \n",
       "2                  0.851  \n",
       "3                  0.862  \n",
       "4                  0.906  "
      ]
     },
     "execution_count": 19,
     "metadata": {},
     "output_type": "execute_result"
    }
   ],
   "source": [
    "time_comparison_perf"
   ]
  },
  {
   "cell_type": "code",
   "execution_count": 60,
   "metadata": {},
   "outputs": [],
   "source": [
    "\n",
    "def print_time_metrics(result, old_result = None,round_decimal = 3,):\n",
    "    perf_df = pd.DataFrame()\n",
    "    mykeys = [\"dataset\",\"win(sec)\",\"WAcc\", \"F1\",\"Precision\",\"Recall\"]\n",
    "    numerics = ['int16', 'int32', 'int64', 'float16', 'float32', 'float64']    \n",
    "    for k in mykeys:\n",
    "        for key in result.keys():\n",
    "            if k in key:\n",
    "                perf_df[key] = result[key]\n",
    "                if result[key].dtype in numerics:\n",
    "                    perf_df[key] = np.round(perf_df[key],round_decimal)\n",
    "    for key in result.keys():\n",
    "        if \"WAcc\" not in key and \"Acc\" in key:\n",
    "            perf_df[key] = result[key].values.round(round_decimal)\n",
    "    \n",
    "    if not isinstance(old_result, type(None)):\n",
    "        # remove average performance from old results and append new data to table\n",
    "        drop_vals = result[\"dataset\"].values.tolist()\n",
    "        drop_vals.append(\"average performance\")\n",
    "        idx = []\n",
    "        for i in range(len(old_result)):\n",
    "            if old_result['dataset'].iloc[i] in drop_vals:\n",
    "                idx.append(i)\n",
    "                \n",
    "        #idx =old_result[(old_result['dataset']==\"average performance\") | (old_result['dataset']==result[\"dataset\"].values[0])].index\n",
    "        print(\"index\",idx)\n",
    "        new_result = old_result.drop(index=idx,axis=0)\n",
    "        perf_df= new_result.append(perf_df, ignore_index=True)\n",
    "        \n",
    "    mean_perf = pd.DataFrame(columns = perf_df.keys())\n",
    "    mean_perf = mean_perf.append({\"dataset\":\"average performance\",\"win(sec)\":\"-\"},ignore_index=True)\n",
    "    for key in perf_df.keys():\n",
    "        if key.lower() != \"dataset\" and  key.lower() != \"win(sec)\":\n",
    "            mean_perf[key].at[0] = perf_df[key].mean().round(round_decimal)\n",
    "    \n",
    "    perf_df = perf_df.append(mean_perf,ignore_index=True)\n",
    "            \n",
    "    return perf_df\n",
    "\n",
    "\n",
    "\n",
    "def print_episode_metrics(result,old_result= None, round_decimal=3):\n",
    "    \"\"\"\n",
    "    print the episode_perf_df result from test_models_episode_metric\n",
    "    in suitable order\n",
    "    \"\"\"\n",
    "    result_df= result[['dataset','Days' ,'Meal_Hours',\"Meal_Counts\",\"win(sec)\",\n",
    "            \"TPR: Individual-Model\",\"TPR: GroupModel\",\"FP/TP: Individual-Model\",\"FP/TP: GroupModel\",\n",
    "           \"TP: Individual-Model\",\"TP: GroupModel\",\n",
    "           \"FP: Individual-Model\",\"FP: GroupModel\",\n",
    "           \"FN: Individual-Model\",\"FN: GroupModel\"]]\n",
    "    numerics = ['int16', 'int32', 'int64', 'float16', 'float32', 'float64']   \n",
    "    for key in result_df.columns:\n",
    "        if result_df[key].dtype in numerics:\n",
    "            #result_df[key] = np.round(result_df[key].values, round_decimal) \n",
    "            for i in range(len(result_df[key])):\n",
    "                result_df[key].at[i] = result_df[key].iloc[i].round(round_decimal)\n",
    "            \n",
    "    if not isinstance(old_result, type(None)):\n",
    "        # remove average performance from old results and append new data to table\n",
    "        drop_vals = result[\"dataset\"].values.tolist()\n",
    "        drop_vals.append(\"average performance\")\n",
    "        idx = []\n",
    "        for i in range(len(old_result)):\n",
    "            if old_result['dataset'].iloc[i] in drop_vals:\n",
    "                idx.append(i)\n",
    "        \n",
    "        #idx =old_result[(old_result['dataset']==\"average performance\") | (old_result['dataset'].values == result[\"dataset\"].values)].index\n",
    "        print(\"index\",idx)\n",
    "        new_result = old_result.drop(index=idx,axis=0)\n",
    "        result_df= new_result.append(result_df, ignore_index=True)\n",
    "    \n",
    "    mean_perf = pd.DataFrame(columns = result_df.keys())\n",
    "    mean_perf = mean_perf.append({\"dataset\":\"average performance\",\"win(sec)\":\"-\",'Days':\"-\" ,\n",
    "                                  'Meal_Hours':\"-\",\"Meal_Counts\":\"-\"},ignore_index=True)\n",
    "    for key in mean_perf.keys():\n",
    "        if key not in ['dataset','Days' ,'Meal_Hours',\"Meal_Counts\",\"win(sec)\"]:\n",
    "            mean_perf[key].at[0] = result_df[key].mean().round(round_decimal)\n",
    "    \n",
    "    result_df = result_df.append(mean_perf,ignore_index=True)\n",
    "    return result_df"
   ]
  },
  {
   "cell_type": "code",
   "execution_count": 57,
   "metadata": {},
   "outputs": [
    {
     "data": {
      "text/plain": [
       "array(['tianyi', 'james'], dtype=object)"
      ]
     },
     "execution_count": 57,
     "metadata": {},
     "output_type": "execute_result"
    }
   ],
   "source": [
    "# old_result= episode_comparison_perf\n",
    "# result =episode_perf2#.head(1)\n",
    "# # old_result[(old_result['dataset']==\"average performance\") | (old_result['dataset'] == result[\"dataset\"].values[0])]\n",
    "# result[\"dataset\"].values"
   ]
  },
  {
   "cell_type": "code",
   "execution_count": 62,
   "metadata": {},
   "outputs": [
    {
     "name": "stdout",
     "output_type": "stream",
     "text": [
      "index [4]\n"
     ]
    },
    {
     "data": {
      "text/html": [
       "<div>\n",
       "<style scoped>\n",
       "    .dataframe tbody tr th:only-of-type {\n",
       "        vertical-align: middle;\n",
       "    }\n",
       "\n",
       "    .dataframe tbody tr th {\n",
       "        vertical-align: top;\n",
       "    }\n",
       "\n",
       "    .dataframe thead th {\n",
       "        text-align: right;\n",
       "    }\n",
       "</style>\n",
       "<table border=\"1\" class=\"dataframe\">\n",
       "  <thead>\n",
       "    <tr style=\"text-align: right;\">\n",
       "      <th></th>\n",
       "      <th>dataset</th>\n",
       "      <th>Days</th>\n",
       "      <th>Meal_Hours</th>\n",
       "      <th>Meal_Counts</th>\n",
       "      <th>win(sec)</th>\n",
       "      <th>TPR: Individual-Model</th>\n",
       "      <th>TPR: GroupModel</th>\n",
       "      <th>FP/TP: Individual-Model</th>\n",
       "      <th>FP/TP: GroupModel</th>\n",
       "      <th>TP: Individual-Model</th>\n",
       "      <th>TP: GroupModel</th>\n",
       "      <th>FP: Individual-Model</th>\n",
       "      <th>FP: GroupModel</th>\n",
       "      <th>FN: Individual-Model</th>\n",
       "      <th>FN: GroupModel</th>\n",
       "    </tr>\n",
       "  </thead>\n",
       "  <tbody>\n",
       "    <tr>\n",
       "      <th>0</th>\n",
       "      <td>wenkanw</td>\n",
       "      <td>17</td>\n",
       "      <td>7</td>\n",
       "      <td>32</td>\n",
       "      <td>360</td>\n",
       "      <td>0.969</td>\n",
       "      <td>0.625</td>\n",
       "      <td>0.613</td>\n",
       "      <td>0.3</td>\n",
       "      <td>31</td>\n",
       "      <td>20</td>\n",
       "      <td>19</td>\n",
       "      <td>6</td>\n",
       "      <td>1</td>\n",
       "      <td>12</td>\n",
       "    </tr>\n",
       "    <tr>\n",
       "      <th>1</th>\n",
       "      <td>adam</td>\n",
       "      <td>14</td>\n",
       "      <td>3</td>\n",
       "      <td>26</td>\n",
       "      <td>360</td>\n",
       "      <td>0.923</td>\n",
       "      <td>0.923</td>\n",
       "      <td>0.417</td>\n",
       "      <td>0.333</td>\n",
       "      <td>24</td>\n",
       "      <td>24</td>\n",
       "      <td>10</td>\n",
       "      <td>8</td>\n",
       "      <td>2</td>\n",
       "      <td>2</td>\n",
       "    </tr>\n",
       "    <tr>\n",
       "      <th>2</th>\n",
       "      <td>lawler</td>\n",
       "      <td>23</td>\n",
       "      <td>7</td>\n",
       "      <td>60</td>\n",
       "      <td>360</td>\n",
       "      <td>0.667</td>\n",
       "      <td>0.333</td>\n",
       "      <td>1.2</td>\n",
       "      <td>2.6</td>\n",
       "      <td>40</td>\n",
       "      <td>20</td>\n",
       "      <td>48</td>\n",
       "      <td>52</td>\n",
       "      <td>20</td>\n",
       "      <td>40</td>\n",
       "    </tr>\n",
       "    <tr>\n",
       "      <th>3</th>\n",
       "      <td>shaurya</td>\n",
       "      <td>13</td>\n",
       "      <td>9</td>\n",
       "      <td>38</td>\n",
       "      <td>360</td>\n",
       "      <td>0.763</td>\n",
       "      <td>0.789</td>\n",
       "      <td>1.759</td>\n",
       "      <td>0.833</td>\n",
       "      <td>29</td>\n",
       "      <td>30</td>\n",
       "      <td>51</td>\n",
       "      <td>25</td>\n",
       "      <td>9</td>\n",
       "      <td>8</td>\n",
       "    </tr>\n",
       "    <tr>\n",
       "      <th>4</th>\n",
       "      <td>tianyi</td>\n",
       "      <td>14</td>\n",
       "      <td>5</td>\n",
       "      <td>20</td>\n",
       "      <td>360</td>\n",
       "      <td>0.6</td>\n",
       "      <td>0.75</td>\n",
       "      <td>2.167</td>\n",
       "      <td>1.267</td>\n",
       "      <td>12</td>\n",
       "      <td>15</td>\n",
       "      <td>26</td>\n",
       "      <td>19</td>\n",
       "      <td>8</td>\n",
       "      <td>5</td>\n",
       "    </tr>\n",
       "    <tr>\n",
       "      <th>5</th>\n",
       "      <td>james</td>\n",
       "      <td>12</td>\n",
       "      <td>6</td>\n",
       "      <td>26</td>\n",
       "      <td>360</td>\n",
       "      <td>0.923</td>\n",
       "      <td>0.885</td>\n",
       "      <td>2.083</td>\n",
       "      <td>1.696</td>\n",
       "      <td>24</td>\n",
       "      <td>23</td>\n",
       "      <td>50</td>\n",
       "      <td>39</td>\n",
       "      <td>2</td>\n",
       "      <td>3</td>\n",
       "    </tr>\n",
       "    <tr>\n",
       "      <th>6</th>\n",
       "      <td>average performance</td>\n",
       "      <td>-</td>\n",
       "      <td>-</td>\n",
       "      <td>-</td>\n",
       "      <td>-</td>\n",
       "      <td>0.808</td>\n",
       "      <td>0.717</td>\n",
       "      <td>1.373</td>\n",
       "      <td>1.172</td>\n",
       "      <td>26.667</td>\n",
       "      <td>22</td>\n",
       "      <td>34</td>\n",
       "      <td>24.833</td>\n",
       "      <td>7</td>\n",
       "      <td>11.667</td>\n",
       "    </tr>\n",
       "  </tbody>\n",
       "</table>\n",
       "</div>"
      ],
      "text/plain": [
       "               dataset Days Meal_Hours Meal_Counts win(sec)  \\\n",
       "0              wenkanw   17          7          32      360   \n",
       "1                 adam   14          3          26      360   \n",
       "2               lawler   23          7          60      360   \n",
       "3              shaurya   13          9          38      360   \n",
       "4               tianyi   14          5          20      360   \n",
       "5                james   12          6          26      360   \n",
       "6  average performance    -          -           -        -   \n",
       "\n",
       "  TPR: Individual-Model TPR: GroupModel FP/TP: Individual-Model  \\\n",
       "0                 0.969           0.625                   0.613   \n",
       "1                 0.923           0.923                   0.417   \n",
       "2                 0.667           0.333                     1.2   \n",
       "3                 0.763           0.789                   1.759   \n",
       "4                   0.6            0.75                   2.167   \n",
       "5                 0.923           0.885                   2.083   \n",
       "6                 0.808           0.717                   1.373   \n",
       "\n",
       "  FP/TP: GroupModel TP: Individual-Model TP: GroupModel FP: Individual-Model  \\\n",
       "0               0.3                   31             20                   19   \n",
       "1             0.333                   24             24                   10   \n",
       "2               2.6                   40             20                   48   \n",
       "3             0.833                   29             30                   51   \n",
       "4             1.267                   12             15                   26   \n",
       "5             1.696                   24             23                   50   \n",
       "6             1.172               26.667             22                   34   \n",
       "\n",
       "  FP: GroupModel FN: Individual-Model FN: GroupModel  \n",
       "0              6                    1             12  \n",
       "1              8                    2              2  \n",
       "2             52                   20             40  \n",
       "3             25                    9              8  \n",
       "4             19                    8              5  \n",
       "5             39                    2              3  \n",
       "6         24.833                    7         11.667  "
      ]
     },
     "execution_count": 62,
     "metadata": {},
     "output_type": "execute_result"
    }
   ],
   "source": [
    "episode_comparison_perf_2 = print_episode_metrics(episode_perf2,old_result= episode_comparison_perf)\n",
    "episode_comparison_perf_2 "
   ]
  },
  {
   "cell_type": "code",
   "execution_count": 63,
   "metadata": {},
   "outputs": [
    {
     "name": "stdout",
     "output_type": "stream",
     "text": [
      "index [4]\n"
     ]
    },
    {
     "data": {
      "text/html": [
       "<div>\n",
       "<style scoped>\n",
       "    .dataframe tbody tr th:only-of-type {\n",
       "        vertical-align: middle;\n",
       "    }\n",
       "\n",
       "    .dataframe tbody tr th {\n",
       "        vertical-align: top;\n",
       "    }\n",
       "\n",
       "    .dataframe thead th {\n",
       "        text-align: right;\n",
       "    }\n",
       "</style>\n",
       "<table border=\"1\" class=\"dataframe\">\n",
       "  <thead>\n",
       "    <tr style=\"text-align: right;\">\n",
       "      <th></th>\n",
       "      <th>dataset</th>\n",
       "      <th>win(sec)</th>\n",
       "      <th>WAcc: GroupModel</th>\n",
       "      <th>WAcc2: GroupModel</th>\n",
       "      <th>WAcc: Individual-Model</th>\n",
       "      <th>WAcc2: Individual-Model</th>\n",
       "      <th>F1: GroupModel</th>\n",
       "      <th>F1: Individual-Model</th>\n",
       "      <th>Precision: GroupModel</th>\n",
       "      <th>Precision: Individual-Model</th>\n",
       "      <th>Recall: GroupModel</th>\n",
       "      <th>Recall: Individual-Model</th>\n",
       "      <th>Acc: GroupModel</th>\n",
       "      <th>Acc: Individual-Model</th>\n",
       "    </tr>\n",
       "  </thead>\n",
       "  <tbody>\n",
       "    <tr>\n",
       "      <th>0</th>\n",
       "      <td>wenkanw</td>\n",
       "      <td>360</td>\n",
       "      <td>0.779</td>\n",
       "      <td>0.762</td>\n",
       "      <td>0.9</td>\n",
       "      <td>0.893</td>\n",
       "      <td>0.423</td>\n",
       "      <td>0.639</td>\n",
       "      <td>0.319</td>\n",
       "      <td>0.52</td>\n",
       "      <td>0.649</td>\n",
       "      <td>0.853</td>\n",
       "      <td>0.893</td>\n",
       "      <td>0.942</td>\n",
       "    </tr>\n",
       "    <tr>\n",
       "      <th>1</th>\n",
       "      <td>adam</td>\n",
       "      <td>360</td>\n",
       "      <td>0.956</td>\n",
       "      <td>0.947</td>\n",
       "      <td>0.959</td>\n",
       "      <td>0.961</td>\n",
       "      <td>0.433</td>\n",
       "      <td>0.625</td>\n",
       "      <td>0.284</td>\n",
       "      <td>0.484</td>\n",
       "      <td>0.983</td>\n",
       "      <td>0.949</td>\n",
       "      <td>0.931</td>\n",
       "      <td>0.968</td>\n",
       "    </tr>\n",
       "    <tr>\n",
       "      <th>2</th>\n",
       "      <td>lawler</td>\n",
       "      <td>360</td>\n",
       "      <td>0.605</td>\n",
       "      <td>0.616</td>\n",
       "      <td>0.721</td>\n",
       "      <td>0.729</td>\n",
       "      <td>0.132</td>\n",
       "      <td>0.258</td>\n",
       "      <td>0.076</td>\n",
       "      <td>0.166</td>\n",
       "      <td>0.494</td>\n",
       "      <td>0.578</td>\n",
       "      <td>0.707</td>\n",
       "      <td>0.851</td>\n",
       "    </tr>\n",
       "    <tr>\n",
       "      <th>3</th>\n",
       "      <td>shaurya</td>\n",
       "      <td>360</td>\n",
       "      <td>0.759</td>\n",
       "      <td>0.734</td>\n",
       "      <td>0.766</td>\n",
       "      <td>0.744</td>\n",
       "      <td>0.409</td>\n",
       "      <td>0.402</td>\n",
       "      <td>0.308</td>\n",
       "      <td>0.295</td>\n",
       "      <td>0.624</td>\n",
       "      <td>0.654</td>\n",
       "      <td>0.874</td>\n",
       "      <td>0.862</td>\n",
       "    </tr>\n",
       "    <tr>\n",
       "      <th>4</th>\n",
       "      <td>tianyi</td>\n",
       "      <td>360</td>\n",
       "      <td>0.833</td>\n",
       "      <td>0.828</td>\n",
       "      <td>0.843</td>\n",
       "      <td>0.84</td>\n",
       "      <td>0.456</td>\n",
       "      <td>0.474</td>\n",
       "      <td>0.341</td>\n",
       "      <td>0.359</td>\n",
       "      <td>0.736</td>\n",
       "      <td>0.76</td>\n",
       "      <td>0.92</td>\n",
       "      <td>0.918</td>\n",
       "    </tr>\n",
       "    <tr>\n",
       "      <th>5</th>\n",
       "      <td>james</td>\n",
       "      <td>360</td>\n",
       "      <td>0.787</td>\n",
       "      <td>0.787</td>\n",
       "      <td>0.799</td>\n",
       "      <td>0.795</td>\n",
       "      <td>0.303</td>\n",
       "      <td>0.311</td>\n",
       "      <td>0.194</td>\n",
       "      <td>0.206</td>\n",
       "      <td>0.73</td>\n",
       "      <td>0.77</td>\n",
       "      <td>0.838</td>\n",
       "      <td>0.825</td>\n",
       "    </tr>\n",
       "    <tr>\n",
       "      <th>6</th>\n",
       "      <td>average performance</td>\n",
       "      <td>-</td>\n",
       "      <td>0.786</td>\n",
       "      <td>0.779</td>\n",
       "      <td>0.831</td>\n",
       "      <td>0.827</td>\n",
       "      <td>0.359</td>\n",
       "      <td>0.451</td>\n",
       "      <td>0.254</td>\n",
       "      <td>0.338</td>\n",
       "      <td>0.703</td>\n",
       "      <td>0.761</td>\n",
       "      <td>0.86</td>\n",
       "      <td>0.894</td>\n",
       "    </tr>\n",
       "  </tbody>\n",
       "</table>\n",
       "</div>"
      ],
      "text/plain": [
       "               dataset win(sec) WAcc: GroupModel WAcc2: GroupModel  \\\n",
       "0              wenkanw      360            0.779             0.762   \n",
       "1                 adam      360            0.956             0.947   \n",
       "2               lawler      360            0.605             0.616   \n",
       "3              shaurya      360            0.759             0.734   \n",
       "4               tianyi      360            0.833             0.828   \n",
       "5                james      360            0.787             0.787   \n",
       "6  average performance        -            0.786             0.779   \n",
       "\n",
       "  WAcc: Individual-Model WAcc2: Individual-Model F1: GroupModel  \\\n",
       "0                    0.9                   0.893          0.423   \n",
       "1                  0.959                   0.961          0.433   \n",
       "2                  0.721                   0.729          0.132   \n",
       "3                  0.766                   0.744          0.409   \n",
       "4                  0.843                    0.84          0.456   \n",
       "5                  0.799                   0.795          0.303   \n",
       "6                  0.831                   0.827          0.359   \n",
       "\n",
       "  F1: Individual-Model Precision: GroupModel Precision: Individual-Model  \\\n",
       "0                0.639                 0.319                        0.52   \n",
       "1                0.625                 0.284                       0.484   \n",
       "2                0.258                 0.076                       0.166   \n",
       "3                0.402                 0.308                       0.295   \n",
       "4                0.474                 0.341                       0.359   \n",
       "5                0.311                 0.194                       0.206   \n",
       "6                0.451                 0.254                       0.338   \n",
       "\n",
       "  Recall: GroupModel Recall: Individual-Model Acc: GroupModel  \\\n",
       "0              0.649                    0.853           0.893   \n",
       "1              0.983                    0.949           0.931   \n",
       "2              0.494                    0.578           0.707   \n",
       "3              0.624                    0.654           0.874   \n",
       "4              0.736                     0.76            0.92   \n",
       "5               0.73                     0.77           0.838   \n",
       "6              0.703                    0.761            0.86   \n",
       "\n",
       "  Acc: Individual-Model  \n",
       "0                 0.942  \n",
       "1                 0.968  \n",
       "2                 0.851  \n",
       "3                 0.862  \n",
       "4                 0.918  \n",
       "5                 0.825  \n",
       "6                 0.894  "
      ]
     },
     "execution_count": 63,
     "metadata": {},
     "output_type": "execute_result"
    }
   ],
   "source": [
    "\n",
    "time_comparison_perf_2 = print_time_metrics(time_perf2,old_result=time_comparison_perf)\n",
    "time_comparison_perf_2"
   ]
  },
  {
   "cell_type": "code",
   "execution_count": 64,
   "metadata": {},
   "outputs": [],
   "source": [
    "save_path = \"../results/\"\n",
    "time_comparison_perf_2.to_csv(save_path+\"time_metrics/updated_cv_fold5_time_metrics.csv\",index=False)\n",
    "episode_comparison_perf_2.to_csv(save_path+\"episode_metrics/updated_cv_fold5_episode_metrics.csv\",index=False)"
   ]
  },
  {
   "cell_type": "code",
   "execution_count": 33,
   "metadata": {},
   "outputs": [],
   "source": [
    "# # load previous results\n",
    "# save_path = \"../results/\"\n",
    "# time_comparison_perf_2 = pd.read_csv(save_path+\"time_metrics/updated_cv_fold5_time_metrics.csv\")\n",
    "# episode_comparison_perf_2 = pd.read_csv(save_path+\"episode_metrics/updated_cv_fold5_episode_metrics.csv\")"
   ]
  },
  {
   "cell_type": "markdown",
   "metadata": {},
   "source": [
    "# 4. Search and apply the best parameters for individual models"
   ]
  },
  {
   "cell_type": "markdown",
   "metadata": {},
   "source": [
    "## 4.1 Search the best parameters"
   ]
  },
  {
   "cell_type": "code",
   "execution_count": 8,
   "metadata": {
    "scrolled": true
   },
   "outputs": [
    {
     "name": "stdout",
     "output_type": "stream",
     "text": [
      "Loading Dataset ...\n",
      "Loading File:  ../data/IndividualData/wenkanw-data/11-14-20/11-14-20.shm\n",
      "Loading File:  ../data/IndividualData/wenkanw-data/10-13-20/10-13-20.shm\n",
      "Loading File:  ../data/IndividualData/wenkanw-data/10-9-20/10-10-20.shm\n",
      "Loading File:  ../data/IndividualData/wenkanw-data/11-21-20/Dinner/Dinner.shm\n",
      "Loading File:  ../data/IndividualData/wenkanw-data/9-17-20/9-17-20.shm\n",
      "Loading File:  ../data/IndividualData/wenkanw-data/9-29-20/9-29-20.shm\n",
      "Loading File:  ../data/IndividualData/wenkanw-data/11-22-20/Lunch/Lunch.shm\n",
      "Loading File:  ../data/IndividualData/wenkanw-data/11-21-20/lunch/lunch.shm\n",
      "Loading File:  ../data/IndividualData/wenkanw-data/10-9-20/10-9-20.shm\n",
      "Loading File:  ../data/IndividualData/wenkanw-data/11-18-20/11-18-20.shm\n",
      "Loading File:  ../data/IndividualData/wenkanw-data/10-14-20/10-14-20.shm\n",
      "Loading File:  ../data/IndividualData/wenkanw-data/10-12-20/10-12-20.shm\n",
      "Loading File:  ../data/IndividualData/wenkanw-data/11-16-20/11-16-20.shm\n",
      "Loading File:  ../data/IndividualData/wenkanw-data/9-27-20/9-27-20.shm\n",
      "Loading File:  ../data/IndividualData/wenkanw-data/10-3-20/10-3-20.shm\n",
      "Loading File:  ../data/IndividualData/wenkanw-data/10-10-20/10-10-20.shm\n",
      "Loading File:  ../data/IndividualData/wenkanw-data/11-22-20/Dinner/Dinner.shm\n",
      "Loading Dataset ...\n",
      "Loading File:  ../data/IndividualData/adam-data/12-01-2020/12-01-2020.shm\n",
      "Loading File:  ../data/IndividualData/adam-data/11-24-2020/11-24-2020.shm\n",
      "Loading File:  ../data/IndividualData/adam-data/11-30-2020/11-30-2020.shm\n",
      "Loading File:  ../data/IndividualData/adam-data/09-22-2020/09-22-2020.shm\n",
      "Loading File:  ../data/IndividualData/adam-data/12-03-2020/12-03-2020.shm\n",
      "Loading File:  ../data/IndividualData/adam-data/12-11-2020/12-11-2020.shm\n",
      "Loading File:  ../data/IndividualData/adam-data/11-25-2020/11-25-2020.shm\n",
      "Loading File:  ../data/IndividualData/adam-data/12-08-2020/12-08-2020.shm\n",
      "Loading File:  ../data/IndividualData/adam-data/12-07-2020/12-07-2020.shm\n",
      "Loading File:  ../data/IndividualData/adam-data/11-26-2020/11-26-2020.shm\n",
      "Loading File:  ../data/IndividualData/adam-data/12-02-2020/12-02-2020.shm\n",
      "Loading File:  ../data/IndividualData/adam-data/12-04-2020/12-04-2020.shm\n",
      "Loading File:  ../data/IndividualData/adam-data/12-09-2020/12-09-2020.shm\n",
      "Loading File:  ../data/IndividualData/adam-data/12-10-2020/12-10-2020.shm\n",
      "Loading Dataset ...\n",
      "Loading File:  ../data/IndividualData/lawler-data/10.19/10.19.shm\n",
      "Loading File:  ../data/IndividualData/lawler-data/11.14/11.14.shm\n",
      "Loading File:  ../data/IndividualData/lawler-data/10.10/10.10.shm\n",
      "Loading File:  ../data/IndividualData/lawler-data/11.2/11.2.shm\n",
      "Loading File:  ../data/IndividualData/lawler-data/10.8/10.8.shm\n",
      "Loading File:  ../data/IndividualData/lawler-data/11.15/11.15.shm\n",
      "Loading File:  ../data/IndividualData/lawler-data/10.14/10.14.shm\n",
      "Loading File:  ../data/IndividualData/lawler-data/9.23/9.23_13hr.shm\n",
      "Loading File:  ../data/IndividualData/lawler-data/10.12/10.12.shm\n",
      "Loading File:  ../data/IndividualData/lawler-data/11.11/11.11.shm\n",
      "Loading File:  ../data/IndividualData/lawler-data/11.4/11.4.shm\n",
      "Loading File:  ../data/IndividualData/lawler-data/9.25/9.25_1-46.shm\n",
      "Loading File:  ../data/IndividualData/lawler-data/10.6/10.6.shm\n",
      "Loading File:  ../data/IndividualData/lawler-data/10.4/10.4.shm\n",
      "Loading File:  ../data/IndividualData/lawler-data/10.28/10.28.shm\n",
      "Loading File:  ../data/IndividualData/lawler-data/11.3/11.3.shm\n",
      "Loading File:  ../data/IndividualData/lawler-data/10.20/evening_2hr_20min/10.20.shm\n",
      "Loading File:  ../data/IndividualData/lawler-data/10.26/10.26.shm\n",
      "Loading File:  ../data/IndividualData/lawler-data/10.31/10.31.shm\n",
      "Loading File:  ../data/IndividualData/lawler-data/10.31/evening-2hr_goodDinnerTemplate_CFAmeal/10.31.shm\n",
      "Loading File:  ../data/IndividualData/lawler-data/10.21/10.21.shm\n",
      "Loading File:  ../data/IndividualData/lawler-data/10.16/10.16.shm\n",
      "Loading File:  ../data/IndividualData/lawler-data/10.20/afternoon_2hr33min/10.20.shm\n",
      "Loading Dataset ...\n",
      "Loading File:  ../data/IndividualData/shaurya-data/12.3.2020/Consensys Exported Data.shm\n",
      "Loading File:  ../data/IndividualData/shaurya-data/11.15.2020/Data.shm\n",
      "Loading File:  ../data/IndividualData/shaurya-data/10.22.2020/Data.shm\n",
      "Loading File:  ../data/IndividualData/shaurya-data/1.16.2021/Consensys Exported Data.shm\n",
      "Loading File:  ../data/IndividualData/shaurya-data/1.10.2021/Consensys Exported Data.shm\n",
      "Loading File:  ../data/IndividualData/shaurya-data/10.25.2020/Data.shm\n",
      "Loading File:  ../data/IndividualData/shaurya-data/11.1.2020/Data.shm\n",
      "Loading File:  ../data/IndividualData/shaurya-data/11.18.2020/Data.shm\n",
      "Loading File:  ../data/IndividualData/shaurya-data/11.17.2020/Data.shm\n",
      "Loading File:  ../data/IndividualData/shaurya-data/1.13.2021/Consensys Exported Data.shm\n",
      "Loading File:  ../data/IndividualData/shaurya-data/1.11.2021/Consensys Exported Data.shm\n",
      "Loading File:  ../data/IndividualData/shaurya-data/1.12.2021/Consensys Exported Data.shm\n",
      "Loading File:  ../data/IndividualData/shaurya-data/1.19.2021/Consensys Exported Data.shm\n",
      "Loading Dataset ...\n",
      "Loading File:  ../data/IndividualData/tianyi-data/1-18-21/Shimmer-Data.shm\n",
      "Loading File:  ../data/IndividualData/tianyi-data/2-3-21/Shimmer-Data.shm\n",
      "Loading File:  ../data/IndividualData/tianyi-data/1-25-21/Shimmer-Data.shm\n",
      "Loading File:  ../data/IndividualData/tianyi-data/1-19-21/Shimmer-Data.shm\n",
      "Loading File:  ../data/IndividualData/tianyi-data/1-26-21/Shimmer-Data.shm\n",
      "Loading File:  ../data/IndividualData/tianyi-data/1-20-21/Shimmer-Data.shm\n",
      "Loading File:  ../data/IndividualData/tianyi-data/1-31-21/Shimmer-Data.shm\n",
      "Loading File:  ../data/IndividualData/tianyi-data/1-16-21/Shimmer-Data.shm\n",
      "Loading File:  ../data/IndividualData/tianyi-data/1-27-21/Shimmer-Data.shm\n",
      "Loading File:  ../data/IndividualData/tianyi-data/1-14-21/Shimmer-Data.shm\n",
      "Loading File:  ../data/IndividualData/tianyi-data/2-2-21/Shimmer-Data.shm\n",
      "Loading File:  ../data/IndividualData/tianyi-data/1-28-21/Shimmer-Data.shm\n",
      "Loading File:  ../data/IndividualData/tianyi-data/1-22-21/Shimmer-Data.shm\n",
      "Loading File:  ../data/IndividualData/tianyi-data/1-17-21/Shimmer-Data.shm\n",
      "Loading Dataset ...\n",
      "Loading File:  ../data/IndividualData/james-data/02-03-2021/Day13.shm\n",
      "Loading File:  ../data/IndividualData/james-data/02-02-2021/Day12.shm\n",
      "Loading File:  ../data/IndividualData/james-data/02-01-2021/Day11.shm\n",
      "Loading File:  ../data/IndividualData/james-data/1-30-2021/Day9.shm\n",
      "Loading File:  ../data/IndividualData/james-data/1-26-2021/Day5.shm\n",
      "Loading File:  ../data/IndividualData/james-data/1-25-2021/Day4.shm\n",
      "Loading File:  ../data/IndividualData/james-data/1-29-2021/Day8.shm\n",
      "Loading File:  ../data/IndividualData/james-data/1-24-2021/Day3.shm\n",
      "Loading File:  ../data/IndividualData/james-data/02-04-2021/Day14.shm\n",
      "Loading File:  ../data/IndividualData/james-data/1-31-2021/Day10.shm\n",
      "Loading File:  ../data/IndividualData/james-data/1-27-2021/Day6.shm\n",
      "Loading File:  ../data/IndividualData/james-data/1-28-2021/Day7.shm\n"
     ]
    }
   ],
   "source": [
    "datasets = create_datasets(names = [\"wenkanw\",\"adam\",\"lawler\",\"shaurya\",\"tianyi\",\"james\"])"
   ]
  },
  {
   "cell_type": "code",
   "execution_count": null,
   "metadata": {},
   "outputs": [],
   "source": []
  },
  {
   "cell_type": "code",
   "execution_count": 10,
   "metadata": {
    "scrolled": true
   },
   "outputs": [
    {
     "name": "stderr",
     "output_type": "stream",
     "text": [
      "/home/wenkanw/.conda/envs/mlenv/lib/python3.8/site-packages/sklearn/model_selection/_split.py:293: FutureWarning: Setting a random_state has no effect since shuffle is False. This will raise an error in 0.24. You should leave random_state to its default (None), or set shuffle=True.\n",
      "  warnings.warn(\n",
      "100%|██████████| 4/4 [00:00<00:00, 324.12it/s]\n",
      "100%|██████████| 4/4 [00:00<00:00, 470.65it/s]\n"
     ]
    },
    {
     "name": "stdout",
     "output_type": "stream",
     "text": [
      "Segmentation Completed. \n",
      "total_meal: 32 TP:  6 FP:  8 FN:  1\n",
      "Segmentation Completed. \n"
     ]
    },
    {
     "name": "stderr",
     "output_type": "stream",
     "text": [
      "100%|██████████| 3/3 [00:00<00:00, 259.47it/s]\n",
      "100%|██████████| 3/3 [00:00<00:00, 334.48it/s]\n"
     ]
    },
    {
     "name": "stdout",
     "output_type": "stream",
     "text": [
      "total_meal: 32 TP:  7 FP:  4 FN:  0\n",
      "Segmentation Completed. \n",
      "total_meal: 32 TP:  6 FP:  16 FN:  0\n",
      "Segmentation Completed. \n"
     ]
    },
    {
     "name": "stderr",
     "output_type": "stream",
     "text": [
      "100%|██████████| 3/3 [00:00<00:00, 369.55it/s]\n"
     ]
    },
    {
     "name": "stdout",
     "output_type": "stream",
     "text": [
      "total_meal: 32 TP:  7 FP:  4 FN:  0\n",
      "Segmentation Completed. \n",
      "total_meal: 32 TP:  5 FP:  6 FN:  0\n",
      "   dataset   Ts   Te  TP  FN  FP    TPR  FP/TP\n",
      "0  wenkanw  0.5  0.1  31   1  38  0.969  1.226\n"
     ]
    },
    {
     "name": "stderr",
     "output_type": "stream",
     "text": [
      "100%|██████████| 4/4 [00:00<00:00, 336.90it/s]\n",
      "100%|██████████| 4/4 [00:00<00:00, 490.53it/s]\n"
     ]
    },
    {
     "name": "stdout",
     "output_type": "stream",
     "text": [
      "Segmentation Completed. \n",
      "total_meal: 32 TP:  6 FP:  8 FN:  1\n",
      "Segmentation Completed. \n",
      "total_meal: 32 TP:  7 FP:  4 FN:  0\n"
     ]
    },
    {
     "name": "stderr",
     "output_type": "stream",
     "text": [
      "100%|██████████| 3/3 [00:00<00:00, 239.65it/s]\n",
      "  0%|          | 0/3 [00:00<?, ?it/s]"
     ]
    },
    {
     "name": "stdout",
     "output_type": "stream",
     "text": [
      "Segmentation Completed. \n",
      "total_meal: 32 TP:  6 FP:  17 FN:  0\n"
     ]
    },
    {
     "name": "stderr",
     "output_type": "stream",
     "text": [
      "100%|██████████| 3/3 [00:00<00:00, 223.43it/s]\n",
      "100%|██████████| 3/3 [00:00<00:00, 302.07it/s]\n"
     ]
    },
    {
     "name": "stdout",
     "output_type": "stream",
     "text": [
      "Segmentation Completed. \n",
      "total_meal: 32 TP:  7 FP:  4 FN:  0\n",
      "Segmentation Completed. \n"
     ]
    },
    {
     "name": "stderr",
     "output_type": "stream",
     "text": [
      "100%|██████████| 4/4 [00:00<00:00, 300.82it/s]\n"
     ]
    },
    {
     "name": "stdout",
     "output_type": "stream",
     "text": [
      "total_meal: 32 TP:  5 FP:  6 FN:  0\n",
      "   dataset   Ts    Te  TP  FN  FP    TPR  FP/TP\n",
      "0  wenkanw  0.5  0.15  31   1  39  0.969  1.258\n",
      "Segmentation Completed. \n",
      "total_meal: 32 TP:  6 FP:  8 FN:  1\n"
     ]
    },
    {
     "name": "stderr",
     "output_type": "stream",
     "text": [
      "100%|██████████| 4/4 [00:00<00:00, 408.46it/s]\n",
      "100%|██████████| 3/3 [00:00<00:00, 240.34it/s]\n"
     ]
    },
    {
     "name": "stdout",
     "output_type": "stream",
     "text": [
      "Segmentation Completed. \n",
      "total_meal: 32 TP:  7 FP:  4 FN:  0\n",
      "Segmentation Completed. \n"
     ]
    },
    {
     "name": "stderr",
     "output_type": "stream",
     "text": [
      "100%|██████████| 3/3 [00:00<00:00, 308.73it/s]\n"
     ]
    },
    {
     "name": "stdout",
     "output_type": "stream",
     "text": [
      "total_meal: 32 TP:  6 FP:  18 FN:  0\n",
      "Segmentation Completed. \n",
      "total_meal: 32 TP:  7 FP:  4 FN:  0\n"
     ]
    },
    {
     "name": "stderr",
     "output_type": "stream",
     "text": [
      "100%|██████████| 3/3 [00:00<00:00, 344.07it/s]\n"
     ]
    },
    {
     "name": "stdout",
     "output_type": "stream",
     "text": [
      "Segmentation Completed. \n",
      "total_meal: 32 TP:  5 FP:  6 FN:  0\n",
      "   dataset   Ts   Te  TP  FN  FP    TPR  FP/TP\n",
      "0  wenkanw  0.5  0.2  31   1  40  0.969   1.29\n"
     ]
    },
    {
     "name": "stderr",
     "output_type": "stream",
     "text": [
      "100%|██████████| 4/4 [00:00<00:00, 244.50it/s]\n",
      "100%|██████████| 4/4 [00:00<00:00, 445.34it/s]\n"
     ]
    },
    {
     "name": "stdout",
     "output_type": "stream",
     "text": [
      "Segmentation Completed. \n",
      "total_meal: 32 TP:  6 FP:  8 FN:  1\n",
      "Segmentation Completed. \n"
     ]
    },
    {
     "name": "stderr",
     "output_type": "stream",
     "text": [
      "100%|██████████| 3/3 [00:00<00:00, 232.69it/s]\n"
     ]
    },
    {
     "name": "stdout",
     "output_type": "stream",
     "text": [
      "total_meal: 32 TP:  7 FP:  4 FN:  0\n",
      "Segmentation Completed. \n",
      "total_meal: 32 TP:  6 FP:  18 FN:  0\n"
     ]
    },
    {
     "name": "stderr",
     "output_type": "stream",
     "text": [
      "100%|██████████| 3/3 [00:00<00:00, 309.96it/s]\n",
      "100%|██████████| 3/3 [00:00<00:00, 352.53it/s]\n"
     ]
    },
    {
     "name": "stdout",
     "output_type": "stream",
     "text": [
      "Segmentation Completed. \n",
      "total_meal: 32 TP:  7 FP:  4 FN:  0\n",
      "Segmentation Completed. \n",
      "total_meal: 32 TP:  5 FP:  5 FN:  0\n",
      "   dataset   Ts    Te  TP  FN  FP    TPR  FP/TP\n",
      "0  wenkanw  0.5  0.25  31   1  39  0.969  1.258"
     ]
    },
    {
     "name": "stderr",
     "output_type": "stream",
     "text": [
      "100%|██████████| 4/4 [00:00<00:00, 185.93it/s]\n"
     ]
    },
    {
     "name": "stdout",
     "output_type": "stream",
     "text": [
      "\n",
      "Segmentation Completed. \n",
      "total_meal: 32 TP:  6 FP:  6 FN:  1\n"
     ]
    },
    {
     "name": "stderr",
     "output_type": "stream",
     "text": [
      "100%|██████████| 4/4 [00:00<00:00, 324.25it/s]\n",
      "  0%|          | 0/3 [00:00<?, ?it/s]"
     ]
    },
    {
     "name": "stdout",
     "output_type": "stream",
     "text": [
      "Segmentation Completed. \n",
      "total_meal: 32 TP:  7 FP:  4 FN:  0\n"
     ]
    },
    {
     "name": "stderr",
     "output_type": "stream",
     "text": [
      "100%|██████████| 3/3 [00:00<00:00, 197.95it/s]\n",
      "100%|██████████| 3/3 [00:00<00:00, 299.89it/s]\n"
     ]
    },
    {
     "name": "stdout",
     "output_type": "stream",
     "text": [
      "Segmentation Completed. \n",
      "total_meal: 32 TP:  6 FP:  18 FN:  0\n",
      "Segmentation Completed. \n"
     ]
    },
    {
     "name": "stderr",
     "output_type": "stream",
     "text": [
      "100%|██████████| 3/3 [00:00<00:00, 336.67it/s]\n"
     ]
    },
    {
     "name": "stdout",
     "output_type": "stream",
     "text": [
      "total_meal: 32 TP:  7 FP:  4 FN:  0\n",
      "Segmentation Completed. \n",
      "total_meal: 32 TP:  5 FP:  5 FN:  0\n",
      "   dataset   Ts   Te  TP  FN  FP    TPR  FP/TP\n",
      "0  wenkanw  0.5  0.3  31   1  37  0.969  1.194\n"
     ]
    },
    {
     "name": "stderr",
     "output_type": "stream",
     "text": [
      "100%|██████████| 4/4 [00:00<00:00, 313.36it/s]\n",
      "100%|██████████| 4/4 [00:00<00:00, 438.96it/s]\n"
     ]
    },
    {
     "name": "stdout",
     "output_type": "stream",
     "text": [
      "Segmentation Completed. \n",
      "total_meal: 32 TP:  6 FP:  6 FN:  1\n",
      "Segmentation Completed. \n"
     ]
    },
    {
     "name": "stderr",
     "output_type": "stream",
     "text": [
      "100%|██████████| 3/3 [00:00<00:00, 234.19it/s]\n"
     ]
    },
    {
     "name": "stdout",
     "output_type": "stream",
     "text": [
      "total_meal: 32 TP:  7 FP:  4 FN:  0\n",
      "Segmentation Completed. \n",
      "total_meal: 32 TP:  6 FP:  18 FN:  0\n"
     ]
    },
    {
     "name": "stderr",
     "output_type": "stream",
     "text": [
      "100%|██████████| 3/3 [00:00<00:00, 228.65it/s]\n",
      "100%|██████████| 3/3 [00:00<00:00, 273.59it/s]\n"
     ]
    },
    {
     "name": "stdout",
     "output_type": "stream",
     "text": [
      "Segmentation Completed. \n",
      "total_meal: 32 TP:  7 FP:  4 FN:  0\n",
      "Segmentation Completed. \n"
     ]
    },
    {
     "name": "stderr",
     "output_type": "stream",
     "text": [
      "100%|██████████| 4/4 [00:00<00:00, 299.78it/s]\n"
     ]
    },
    {
     "name": "stdout",
     "output_type": "stream",
     "text": [
      "total_meal: 32 TP:  5 FP:  5 FN:  0\n",
      "   dataset   Ts    Te  TP  FN  FP    TPR  FP/TP\n",
      "0  wenkanw  0.5  0.35  31   1  37  0.969  1.194\n",
      "Segmentation Completed. \n",
      "total_meal: 32 TP:  6 FP:  6 FN:  1\n"
     ]
    },
    {
     "name": "stderr",
     "output_type": "stream",
     "text": [
      "100%|██████████| 4/4 [00:00<00:00, 442.20it/s]\n",
      "100%|██████████| 3/3 [00:00<00:00, 244.72it/s]\n"
     ]
    },
    {
     "name": "stdout",
     "output_type": "stream",
     "text": [
      "Segmentation Completed. \n",
      "total_meal: 32 TP:  7 FP:  3 FN:  0\n",
      "Segmentation Completed. \n"
     ]
    },
    {
     "name": "stderr",
     "output_type": "stream",
     "text": [
      "100%|██████████| 3/3 [00:00<00:00, 268.81it/s]\n"
     ]
    },
    {
     "name": "stdout",
     "output_type": "stream",
     "text": [
      "total_meal: 32 TP:  6 FP:  17 FN:  0\n",
      "Segmentation Completed. \n",
      "total_meal: 32 TP:  7 FP:  3 FN:  0\n"
     ]
    },
    {
     "name": "stderr",
     "output_type": "stream",
     "text": [
      "100%|██████████| 3/3 [00:00<00:00, 263.62it/s]\n"
     ]
    },
    {
     "name": "stdout",
     "output_type": "stream",
     "text": [
      "Segmentation Completed. \n",
      "total_meal: 32 TP:  5 FP:  5 FN:  0\n",
      "   dataset   Ts   Te  TP  FN  FP    TPR  FP/TP\n",
      "0  wenkanw  0.5  0.4  31   1  34  0.969  1.097\n"
     ]
    },
    {
     "name": "stderr",
     "output_type": "stream",
     "text": [
      "100%|██████████| 4/4 [00:00<00:00, 232.46it/s]\n",
      "100%|██████████| 4/4 [00:00<00:00, 426.68it/s]\n"
     ]
    },
    {
     "name": "stdout",
     "output_type": "stream",
     "text": [
      "Segmentation Completed. \n",
      "total_meal: 32 TP:  6 FP:  6 FN:  1\n",
      "Segmentation Completed. \n"
     ]
    },
    {
     "name": "stderr",
     "output_type": "stream",
     "text": [
      "100%|██████████| 3/3 [00:00<00:00, 223.59it/s]\n"
     ]
    },
    {
     "name": "stdout",
     "output_type": "stream",
     "text": [
      "total_meal: 32 TP:  7 FP:  3 FN:  0\n",
      "Segmentation Completed. \n",
      "total_meal: 32 TP:  6 FP:  18 FN:  0\n"
     ]
    },
    {
     "name": "stderr",
     "output_type": "stream",
     "text": [
      "100%|██████████| 3/3 [00:00<00:00, 311.24it/s]\n",
      "100%|██████████| 3/3 [00:00<00:00, 344.55it/s]\n"
     ]
    },
    {
     "name": "stdout",
     "output_type": "stream",
     "text": [
      "Segmentation Completed. \n",
      "total_meal: 32 TP:  7 FP:  3 FN:  0\n",
      "Segmentation Completed. \n",
      "total_meal: 32 TP:  5 FP:  5 FN:  0\n",
      "   dataset   Ts    Te  TP  FN  FP    TPR  FP/TP\n",
      "0  wenkanw  0.5  0.45  31   1  35  0.969  1.129\n"
     ]
    },
    {
     "name": "stderr",
     "output_type": "stream",
     "text": [
      "100%|██████████| 4/4 [00:00<00:00, 291.43it/s]\n",
      "100%|██████████| 4/4 [00:00<00:00, 323.33it/s]\n"
     ]
    },
    {
     "name": "stdout",
     "output_type": "stream",
     "text": [
      "Segmentation Completed. \n",
      "total_meal: 32 TP:  6 FP:  7 FN:  1\n",
      "Segmentation Completed. \n"
     ]
    },
    {
     "name": "stderr",
     "output_type": "stream",
     "text": [
      "100%|██████████| 3/3 [00:00<00:00, 231.48it/s]"
     ]
    },
    {
     "name": "stdout",
     "output_type": "stream",
     "text": [
      "total_meal: 32 TP:  7 FP:  4 FN:  0\n",
      "Segmentation Completed. \n"
     ]
    },
    {
     "name": "stderr",
     "output_type": "stream",
     "text": [
      "\n",
      "100%|██████████| 3/3 [00:00<00:00, 302.42it/s]\n"
     ]
    },
    {
     "name": "stdout",
     "output_type": "stream",
     "text": [
      "total_meal: 32 TP:  6 FP:  16 FN:  0\n",
      "Segmentation Completed. \n",
      "total_meal: 32 TP:  7 FP:  3 FN:  0\n"
     ]
    },
    {
     "name": "stderr",
     "output_type": "stream",
     "text": [
      "100%|██████████| 3/3 [00:00<00:00, 347.70it/s]\n",
      "100%|██████████| 4/4 [00:00<00:00, 315.25it/s]\n"
     ]
    },
    {
     "name": "stdout",
     "output_type": "stream",
     "text": [
      "Segmentation Completed. \n",
      "total_meal: 32 TP:  5 FP:  5 FN:  0\n",
      "   dataset    Ts   Te  TP  FN  FP    TPR  FP/TP\n",
      "0  wenkanw  0.55  0.1  31   1  35  0.969  1.129\n",
      "Segmentation Completed. \n"
     ]
    },
    {
     "name": "stderr",
     "output_type": "stream",
     "text": [
      "100%|██████████| 4/4 [00:00<00:00, 435.40it/s]\n"
     ]
    },
    {
     "name": "stdout",
     "output_type": "stream",
     "text": [
      "total_meal: 32 TP:  6 FP:  7 FN:  1\n",
      "Segmentation Completed. \n",
      "total_meal: 32 TP:  7 FP:  4 FN:  0\n"
     ]
    },
    {
     "name": "stderr",
     "output_type": "stream",
     "text": [
      "100%|██████████| 3/3 [00:00<00:00, 248.28it/s]\n",
      "100%|██████████| 3/3 [00:00<00:00, 328.03it/s]\n"
     ]
    },
    {
     "name": "stdout",
     "output_type": "stream",
     "text": [
      "Segmentation Completed. \n",
      "total_meal: 32 TP:  6 FP:  17 FN:  0\n",
      "Segmentation Completed. \n",
      "total_meal: 32 TP:  7 FP:  3 FN:  0\n"
     ]
    },
    {
     "name": "stderr",
     "output_type": "stream",
     "text": [
      "100%|██████████| 3/3 [00:00<00:00, 386.46it/s]\n",
      "100%|██████████| 4/4 [00:00<00:00, 330.34it/s]\n"
     ]
    },
    {
     "name": "stdout",
     "output_type": "stream",
     "text": [
      "Segmentation Completed. \n",
      "total_meal: 32 TP:  5 FP:  5 FN:  0\n",
      "   dataset    Ts    Te  TP  FN  FP    TPR  FP/TP\n",
      "0  wenkanw  0.55  0.15  31   1  36  0.969  1.161\n",
      "Segmentation Completed. \n",
      "total_meal: 32 TP:  6 FP:  7 FN:  1\n"
     ]
    },
    {
     "name": "stderr",
     "output_type": "stream",
     "text": [
      "100%|██████████| 4/4 [00:00<00:00, 487.02it/s]\n",
      "100%|██████████| 3/3 [00:00<00:00, 259.30it/s]\n"
     ]
    },
    {
     "name": "stdout",
     "output_type": "stream",
     "text": [
      "Segmentation Completed. \n",
      "total_meal: 32 TP:  7 FP:  4 FN:  0\n",
      "Segmentation Completed. \n",
      "total_meal: 32 TP:  6 FP:  17 FN:  0\n"
     ]
    },
    {
     "name": "stderr",
     "output_type": "stream",
     "text": [
      "100%|██████████| 3/3 [00:00<00:00, 317.90it/s]\n",
      "100%|██████████| 3/3 [00:00<00:00, 379.87it/s]\n"
     ]
    },
    {
     "name": "stdout",
     "output_type": "stream",
     "text": [
      "Segmentation Completed. \n",
      "total_meal: 32 TP:  7 FP:  3 FN:  0\n",
      "Segmentation Completed. \n",
      "total_meal: 32 TP:  5 FP:  5 FN:  0\n",
      "   dataset    Ts   Te  TP  FN  FP    TPR  FP/TP\n",
      "0  wenkanw  0.55  0.2  31   1  36  0.969  1.161\n"
     ]
    },
    {
     "name": "stderr",
     "output_type": "stream",
     "text": [
      "100%|██████████| 4/4 [00:00<00:00, 346.76it/s]\n",
      "100%|██████████| 4/4 [00:00<00:00, 475.22it/s]\n"
     ]
    },
    {
     "name": "stdout",
     "output_type": "stream",
     "text": [
      "Segmentation Completed. \n",
      "total_meal: 32 TP:  6 FP:  7 FN:  1\n",
      "Segmentation Completed. \n",
      "total_meal: 32 TP:  7 FP:  4 FN:  0\n"
     ]
    },
    {
     "name": "stderr",
     "output_type": "stream",
     "text": [
      "100%|██████████| 3/3 [00:00<00:00, 262.48it/s]\n",
      "100%|██████████| 3/3 [00:00<00:00, 336.59it/s]\n"
     ]
    },
    {
     "name": "stdout",
     "output_type": "stream",
     "text": [
      "Segmentation Completed. \n",
      "total_meal: 32 TP:  6 FP:  17 FN:  0\n",
      "Segmentation Completed. \n",
      "total_meal: 32 TP:  7 FP:  3 FN:  0\n"
     ]
    },
    {
     "name": "stderr",
     "output_type": "stream",
     "text": [
      "100%|██████████| 3/3 [00:00<00:00, 387.63it/s]\n",
      "100%|██████████| 4/4 [00:00<00:00, 299.17it/s]\n"
     ]
    },
    {
     "name": "stdout",
     "output_type": "stream",
     "text": [
      "Segmentation Completed. \n",
      "total_meal: 32 TP:  5 FP:  4 FN:  0\n",
      "   dataset    Ts    Te  TP  FN  FP    TPR  FP/TP\n",
      "0  wenkanw  0.55  0.25  31   1  35  0.969  1.129\n",
      "Segmentation Completed. \n"
     ]
    },
    {
     "name": "stderr",
     "output_type": "stream",
     "text": [
      "100%|██████████| 4/4 [00:00<00:00, 313.86it/s]"
     ]
    },
    {
     "name": "stdout",
     "output_type": "stream",
     "text": [
      "total_meal: 32 TP:  6 FP:  6 FN:  1\n",
      "Segmentation Completed. \n"
     ]
    },
    {
     "name": "stderr",
     "output_type": "stream",
     "text": [
      "\n",
      "100%|██████████| 3/3 [00:00<00:00, 226.90it/s]\n"
     ]
    },
    {
     "name": "stdout",
     "output_type": "stream",
     "text": [
      "total_meal: 32 TP:  7 FP:  4 FN:  0\n",
      "Segmentation Completed. \n",
      "total_meal: 32 TP:  6 FP:  17 FN:  0\n"
     ]
    },
    {
     "name": "stderr",
     "output_type": "stream",
     "text": [
      "100%|██████████| 3/3 [00:00<00:00, 281.48it/s]\n",
      "100%|██████████| 3/3 [00:00<00:00, 350.93it/s]\n"
     ]
    },
    {
     "name": "stdout",
     "output_type": "stream",
     "text": [
      "Segmentation Completed. \n",
      "total_meal: 32 TP:  7 FP:  3 FN:  0\n",
      "Segmentation Completed. \n"
     ]
    },
    {
     "name": "stderr",
     "output_type": "stream",
     "text": [
      "100%|██████████| 4/4 [00:00<00:00, 310.86it/s]\n"
     ]
    },
    {
     "name": "stdout",
     "output_type": "stream",
     "text": [
      "total_meal: 32 TP:  5 FP:  4 FN:  0\n",
      "   dataset    Ts   Te  TP  FN  FP    TPR  FP/TP\n",
      "0  wenkanw  0.55  0.3  31   1  34  0.969  1.097\n",
      "Segmentation Completed. \n",
      "total_meal: 32 TP:  6 FP:  6 FN:  1\n"
     ]
    },
    {
     "name": "stderr",
     "output_type": "stream",
     "text": [
      "100%|██████████| 4/4 [00:00<00:00, 369.10it/s]\n",
      "100%|██████████| 3/3 [00:00<00:00, 192.67it/s]\n"
     ]
    },
    {
     "name": "stdout",
     "output_type": "stream",
     "text": [
      "Segmentation Completed. \n",
      "total_meal: 32 TP:  7 FP:  4 FN:  0\n",
      "Segmentation Completed. \n"
     ]
    },
    {
     "name": "stderr",
     "output_type": "stream",
     "text": [
      "100%|██████████| 3/3 [00:00<00:00, 235.21it/s]"
     ]
    },
    {
     "name": "stdout",
     "output_type": "stream",
     "text": [
      "total_meal: 32 TP:  6 FP:  17 FN:  0\n",
      "Segmentation Completed. \n"
     ]
    },
    {
     "name": "stderr",
     "output_type": "stream",
     "text": [
      "\n",
      "100%|██████████| 3/3 [00:00<00:00, 337.21it/s]\n"
     ]
    },
    {
     "name": "stdout",
     "output_type": "stream",
     "text": [
      "total_meal: 32 TP:  7 FP:  2 FN:  0\n",
      "Segmentation Completed. \n",
      "total_meal: 32 TP:  5 FP:  4 FN:  0\n",
      "   dataset    Ts    Te  TP  FN  FP    TPR  FP/TP\n",
      "0  wenkanw  0.55  0.35  31   1  33  0.969  1.065\n"
     ]
    },
    {
     "name": "stderr",
     "output_type": "stream",
     "text": [
      "100%|██████████| 4/4 [00:00<00:00, 290.04it/s]\n",
      "100%|██████████| 4/4 [00:00<00:00, 422.65it/s]\n"
     ]
    },
    {
     "name": "stdout",
     "output_type": "stream",
     "text": [
      "Segmentation Completed. \n",
      "total_meal: 32 TP:  6 FP:  6 FN:  1\n",
      "Segmentation Completed. \n"
     ]
    },
    {
     "name": "stderr",
     "output_type": "stream",
     "text": [
      "100%|██████████| 3/3 [00:00<00:00, 243.83it/s]\n"
     ]
    },
    {
     "name": "stdout",
     "output_type": "stream",
     "text": [
      "total_meal: 32 TP:  7 FP:  2 FN:  0\n",
      "Segmentation Completed. \n",
      "total_meal: 32 TP:  6 FP:  17 FN:  0\n"
     ]
    },
    {
     "name": "stderr",
     "output_type": "stream",
     "text": [
      "100%|██████████| 3/3 [00:00<00:00, 272.69it/s]\n",
      "100%|██████████| 3/3 [00:00<00:00, 249.24it/s]"
     ]
    },
    {
     "name": "stdout",
     "output_type": "stream",
     "text": [
      "Segmentation Completed. \n",
      "total_meal: 32 TP:  7 FP:  2 FN:  0\n"
     ]
    },
    {
     "name": "stderr",
     "output_type": "stream",
     "text": [
      "\n",
      "  0%|          | 0/4 [00:00<?, ?it/s]"
     ]
    },
    {
     "name": "stdout",
     "output_type": "stream",
     "text": [
      "Segmentation Completed. \n",
      "total_meal: 32 TP:  5 FP:  4 FN:  0\n",
      "   dataset    Ts   Te  TP  FN  FP    TPR  FP/TP\n",
      "0  wenkanw  0.55  0.4  31   1  31  0.969    1.0\n"
     ]
    },
    {
     "name": "stderr",
     "output_type": "stream",
     "text": [
      "100%|██████████| 4/4 [00:00<00:00, 293.33it/s]\n",
      "100%|██████████| 4/4 [00:00<00:00, 422.81it/s]\n"
     ]
    },
    {
     "name": "stdout",
     "output_type": "stream",
     "text": [
      "Segmentation Completed. \n",
      "total_meal: 32 TP:  6 FP:  6 FN:  1\n",
      "Segmentation Completed. \n"
     ]
    },
    {
     "name": "stderr",
     "output_type": "stream",
     "text": [
      "100%|██████████| 3/3 [00:00<00:00, 245.12it/s]\n"
     ]
    },
    {
     "name": "stdout",
     "output_type": "stream",
     "text": [
      "total_meal: 32 TP:  7 FP:  2 FN:  0\n",
      "Segmentation Completed. \n",
      "total_meal: 32 TP:  6 FP:  17 FN:  0\n"
     ]
    },
    {
     "name": "stderr",
     "output_type": "stream",
     "text": [
      "100%|██████████| 3/3 [00:00<00:00, 306.62it/s]\n",
      "100%|██████████| 3/3 [00:00<00:00, 339.62it/s]\n"
     ]
    },
    {
     "name": "stdout",
     "output_type": "stream",
     "text": [
      "Segmentation Completed. \n",
      "total_meal: 32 TP:  7 FP:  2 FN:  0\n",
      "Segmentation Completed. \n",
      "total_meal: 32 TP:  5 FP:  4 FN:  0\n"
     ]
    },
    {
     "name": "stderr",
     "output_type": "stream",
     "text": [
      "100%|██████████| 4/4 [00:00<00:00, 279.06it/s]\n"
     ]
    },
    {
     "name": "stdout",
     "output_type": "stream",
     "text": [
      "   dataset    Ts    Te  TP  FN  FP    TPR  FP/TP\n",
      "0  wenkanw  0.55  0.45  31   1  31  0.969    1.0\n",
      "Segmentation Completed. \n",
      "total_meal: 32 TP:  6 FP:  7 FN:  1\n"
     ]
    },
    {
     "name": "stderr",
     "output_type": "stream",
     "text": [
      "100%|██████████| 4/4 [00:00<00:00, 318.60it/s]\n",
      "100%|██████████| 3/3 [00:00<00:00, 250.12it/s]\n"
     ]
    },
    {
     "name": "stdout",
     "output_type": "stream",
     "text": [
      "Segmentation Completed. \n",
      "total_meal: 32 TP:  7 FP:  4 FN:  0\n",
      "Segmentation Completed. \n"
     ]
    },
    {
     "name": "stderr",
     "output_type": "stream",
     "text": [
      "100%|██████████| 3/3 [00:00<00:00, 282.91it/s]\n"
     ]
    },
    {
     "name": "stdout",
     "output_type": "stream",
     "text": [
      "total_meal: 32 TP:  6 FP:  15 FN:  0\n",
      "Segmentation Completed. \n",
      "total_meal: 32 TP:  7 FP:  2 FN:  0\n"
     ]
    },
    {
     "name": "stderr",
     "output_type": "stream",
     "text": [
      "100%|██████████| 3/3 [00:00<00:00, 351.41it/s]\n",
      "100%|██████████| 4/4 [00:00<00:00, 315.48it/s]\n"
     ]
    },
    {
     "name": "stdout",
     "output_type": "stream",
     "text": [
      "Segmentation Completed. \n",
      "total_meal: 32 TP:  5 FP:  5 FN:  0\n",
      "   dataset   Ts   Te  TP  FN  FP    TPR  FP/TP\n",
      "0  wenkanw  0.6  0.1  31   1  33  0.969  1.065\n",
      "Segmentation Completed. \n"
     ]
    },
    {
     "name": "stderr",
     "output_type": "stream",
     "text": [
      "100%|██████████| 4/4 [00:00<00:00, 353.89it/s]\n"
     ]
    },
    {
     "name": "stdout",
     "output_type": "stream",
     "text": [
      "total_meal: 32 TP:  6 FP:  7 FN:  1\n",
      "Segmentation Completed. \n",
      "total_meal: 32 TP:  7 FP:  4 FN:  0\n"
     ]
    },
    {
     "name": "stderr",
     "output_type": "stream",
     "text": [
      "100%|██████████| 3/3 [00:00<00:00, 190.30it/s]\n"
     ]
    },
    {
     "name": "stdout",
     "output_type": "stream",
     "text": [
      "Segmentation Completed. \n",
      "total_meal: 32 TP:  6 FP:  16 FN:  0\n"
     ]
    },
    {
     "name": "stderr",
     "output_type": "stream",
     "text": [
      "100%|██████████| 3/3 [00:00<00:00, 242.52it/s]\n",
      "100%|██████████| 3/3 [00:00<00:00, 337.88it/s]\n"
     ]
    },
    {
     "name": "stdout",
     "output_type": "stream",
     "text": [
      "Segmentation Completed. \n",
      "total_meal: 32 TP:  7 FP:  2 FN:  0\n",
      "Segmentation Completed. \n"
     ]
    },
    {
     "name": "stderr",
     "output_type": "stream",
     "text": [
      "100%|██████████| 4/4 [00:00<00:00, 291.15it/s]\n"
     ]
    },
    {
     "name": "stdout",
     "output_type": "stream",
     "text": [
      "total_meal: 32 TP:  5 FP:  5 FN:  0\n",
      "   dataset   Ts    Te  TP  FN  FP    TPR  FP/TP\n",
      "0  wenkanw  0.6  0.15  31   1  34  0.969  1.097\n",
      "Segmentation Completed. \n",
      "total_meal: 32 TP:  6 FP:  7 FN:  1\n"
     ]
    },
    {
     "name": "stderr",
     "output_type": "stream",
     "text": [
      "100%|██████████| 4/4 [00:00<00:00, 434.52it/s]\n",
      "100%|██████████| 3/3 [00:00<00:00, 241.73it/s]\n"
     ]
    },
    {
     "name": "stdout",
     "output_type": "stream",
     "text": [
      "Segmentation Completed. \n",
      "total_meal: 32 TP:  7 FP:  4 FN:  0\n",
      "Segmentation Completed. \n"
     ]
    },
    {
     "name": "stderr",
     "output_type": "stream",
     "text": [
      "100%|██████████| 3/3 [00:00<00:00, 272.99it/s]\n"
     ]
    },
    {
     "name": "stdout",
     "output_type": "stream",
     "text": [
      "total_meal: 32 TP:  6 FP:  17 FN:  0\n",
      "Segmentation Completed. \n",
      "total_meal: 32 TP:  7 FP:  2 FN:  0\n"
     ]
    },
    {
     "name": "stderr",
     "output_type": "stream",
     "text": [
      "100%|██████████| 3/3 [00:00<00:00, 252.73it/s]\n",
      "  0%|          | 0/4 [00:00<?, ?it/s]"
     ]
    },
    {
     "name": "stdout",
     "output_type": "stream",
     "text": [
      "Segmentation Completed. \n",
      "total_meal: 32 TP:  5 FP:  5 FN:  0\n",
      "   dataset   Ts   Te  TP  FN  FP    TPR  FP/TP\n",
      "0  wenkanw  0.6  0.2  31   1  35  0.969  1.129\n"
     ]
    },
    {
     "name": "stderr",
     "output_type": "stream",
     "text": [
      "100%|██████████| 4/4 [00:00<00:00, 247.11it/s]\n",
      "100%|██████████| 4/4 [00:00<00:00, 415.76it/s]\n"
     ]
    },
    {
     "name": "stdout",
     "output_type": "stream",
     "text": [
      "Segmentation Completed. \n",
      "total_meal: 32 TP:  6 FP:  7 FN:  1\n",
      "Segmentation Completed. \n"
     ]
    },
    {
     "name": "stderr",
     "output_type": "stream",
     "text": [
      "100%|██████████| 3/3 [00:00<00:00, 249.42it/s]\n"
     ]
    },
    {
     "name": "stdout",
     "output_type": "stream",
     "text": [
      "total_meal: 32 TP:  7 FP:  4 FN:  0\n",
      "Segmentation Completed. \n",
      "total_meal: 32 TP:  6 FP:  17 FN:  0\n"
     ]
    },
    {
     "name": "stderr",
     "output_type": "stream",
     "text": [
      "100%|██████████| 3/3 [00:00<00:00, 305.81it/s]\n",
      "100%|██████████| 3/3 [00:00<00:00, 330.76it/s]\n"
     ]
    },
    {
     "name": "stdout",
     "output_type": "stream",
     "text": [
      "Segmentation Completed. \n",
      "total_meal: 32 TP:  7 FP:  2 FN:  0\n",
      "Segmentation Completed. \n",
      "total_meal: 32 TP:  5 FP:  4 FN:  0\n"
     ]
    },
    {
     "name": "stderr",
     "output_type": "stream",
     "text": [
      "100%|██████████| 4/4 [00:00<00:00, 249.01it/s]\n"
     ]
    },
    {
     "name": "stdout",
     "output_type": "stream",
     "text": [
      "   dataset   Ts    Te  TP  FN  FP    TPR  FP/TP\n",
      "0  wenkanw  0.6  0.25  31   1  34  0.969  1.097\n",
      "Segmentation Completed. \n",
      "total_meal: 32 TP:  6 FP:  6 FN:  1\n"
     ]
    },
    {
     "name": "stderr",
     "output_type": "stream",
     "text": [
      "100%|██████████| 4/4 [00:00<00:00, 323.43it/s]\n",
      "100%|██████████| 3/3 [00:00<00:00, 248.00it/s]\n"
     ]
    },
    {
     "name": "stdout",
     "output_type": "stream",
     "text": [
      "Segmentation Completed. \n",
      "total_meal: 32 TP:  7 FP:  4 FN:  0\n",
      "Segmentation Completed. \n"
     ]
    },
    {
     "name": "stderr",
     "output_type": "stream",
     "text": [
      "100%|██████████| 3/3 [00:00<00:00, 281.52it/s]\n"
     ]
    },
    {
     "name": "stdout",
     "output_type": "stream",
     "text": [
      "total_meal: 32 TP:  6 FP:  17 FN:  0\n",
      "Segmentation Completed. \n",
      "total_meal: 32 TP:  7 FP:  2 FN:  0\n"
     ]
    },
    {
     "name": "stderr",
     "output_type": "stream",
     "text": [
      "100%|██████████| 3/3 [00:00<00:00, 349.13it/s]\n",
      "100%|██████████| 4/4 [00:00<00:00, 313.90it/s]\n"
     ]
    },
    {
     "name": "stdout",
     "output_type": "stream",
     "text": [
      "Segmentation Completed. \n",
      "total_meal: 32 TP:  5 FP:  4 FN:  0\n",
      "   dataset   Ts   Te  TP  FN  FP    TPR  FP/TP\n",
      "0  wenkanw  0.6  0.3  31   1  33  0.969  1.065\n",
      "Segmentation Completed. \n"
     ]
    },
    {
     "name": "stderr",
     "output_type": "stream",
     "text": [
      "100%|██████████| 4/4 [00:00<00:00, 365.50it/s]\n"
     ]
    },
    {
     "name": "stdout",
     "output_type": "stream",
     "text": [
      "total_meal: 32 TP:  6 FP:  6 FN:  1\n",
      "Segmentation Completed. \n",
      "total_meal: 32 TP:  7 FP:  4 FN:  0\n"
     ]
    },
    {
     "name": "stderr",
     "output_type": "stream",
     "text": [
      "100%|██████████| 3/3 [00:00<00:00, 195.72it/s]\n",
      "  0%|          | 0/3 [00:00<?, ?it/s]"
     ]
    },
    {
     "name": "stdout",
     "output_type": "stream",
     "text": [
      "Segmentation Completed. \n",
      "total_meal: 32 TP:  6 FP:  17 FN:  0\n"
     ]
    },
    {
     "name": "stderr",
     "output_type": "stream",
     "text": [
      "100%|██████████| 3/3 [00:00<00:00, 235.87it/s]\n",
      "100%|██████████| 3/3 [00:00<00:00, 337.10it/s]\n"
     ]
    },
    {
     "name": "stdout",
     "output_type": "stream",
     "text": [
      "Segmentation Completed. \n",
      "total_meal: 32 TP:  7 FP:  2 FN:  0\n",
      "Segmentation Completed. \n"
     ]
    },
    {
     "name": "stderr",
     "output_type": "stream",
     "text": [
      "100%|██████████| 4/4 [00:00<00:00, 292.76it/s]\n"
     ]
    },
    {
     "name": "stdout",
     "output_type": "stream",
     "text": [
      "total_meal: 32 TP:  5 FP:  4 FN:  0\n",
      "   dataset   Ts    Te  TP  FN  FP    TPR  FP/TP\n",
      "0  wenkanw  0.6  0.35  31   1  33  0.969  1.065\n",
      "Segmentation Completed. \n",
      "total_meal: 32 TP:  6 FP:  6 FN:  1\n"
     ]
    },
    {
     "name": "stderr",
     "output_type": "stream",
     "text": [
      "100%|██████████| 4/4 [00:00<00:00, 433.03it/s]\n",
      "100%|██████████| 3/3 [00:00<00:00, 244.19it/s]\n"
     ]
    },
    {
     "name": "stdout",
     "output_type": "stream",
     "text": [
      "Segmentation Completed. \n",
      "total_meal: 32 TP:  7 FP:  2 FN:  0\n",
      "Segmentation Completed. \n"
     ]
    },
    {
     "name": "stderr",
     "output_type": "stream",
     "text": [
      "100%|██████████| 3/3 [00:00<00:00, 288.35it/s]\n"
     ]
    },
    {
     "name": "stdout",
     "output_type": "stream",
     "text": [
      "total_meal: 32 TP:  6 FP:  16 FN:  0\n",
      "Segmentation Completed. \n",
      "total_meal: 32 TP:  7 FP:  2 FN:  0\n"
     ]
    },
    {
     "name": "stderr",
     "output_type": "stream",
     "text": [
      "100%|██████████| 3/3 [00:00<00:00, 259.23it/s]\n",
      "  0%|          | 0/4 [00:00<?, ?it/s]"
     ]
    },
    {
     "name": "stdout",
     "output_type": "stream",
     "text": [
      "Segmentation Completed. \n",
      "total_meal: 32 TP:  5 FP:  4 FN:  0\n",
      "   dataset   Ts   Te  TP  FN  FP    TPR  FP/TP\n",
      "0  wenkanw  0.6  0.4  31   1  30  0.969  0.968\n"
     ]
    },
    {
     "name": "stderr",
     "output_type": "stream",
     "text": [
      "100%|██████████| 4/4 [00:00<00:00, 239.20it/s]\n",
      "100%|██████████| 4/4 [00:00<00:00, 417.55it/s]\n"
     ]
    },
    {
     "name": "stdout",
     "output_type": "stream",
     "text": [
      "Segmentation Completed. \n",
      "total_meal: 32 TP:  6 FP:  6 FN:  1\n",
      "Segmentation Completed. \n"
     ]
    },
    {
     "name": "stderr",
     "output_type": "stream",
     "text": [
      "100%|██████████| 3/3 [00:00<00:00, 249.46it/s]\n"
     ]
    },
    {
     "name": "stdout",
     "output_type": "stream",
     "text": [
      "total_meal: 32 TP:  7 FP:  2 FN:  0\n",
      "Segmentation Completed. \n",
      "total_meal: 32 TP:  6 FP:  15 FN:  0\n"
     ]
    },
    {
     "name": "stderr",
     "output_type": "stream",
     "text": [
      "100%|██████████| 3/3 [00:00<00:00, 331.22it/s]\n",
      "100%|██████████| 3/3 [00:00<00:00, 384.18it/s]\n"
     ]
    },
    {
     "name": "stdout",
     "output_type": "stream",
     "text": [
      "Segmentation Completed. \n",
      "total_meal: 32 TP:  7 FP:  2 FN:  0\n",
      "Segmentation Completed. \n",
      "total_meal: 32 TP:  5 FP:  4 FN:  0\n",
      "   dataset   Ts    Te  TP  FN  FP    TPR  FP/TP\n",
      "0  wenkanw  0.6  0.45  31   1  29  0.969  0.935\n"
     ]
    },
    {
     "name": "stderr",
     "output_type": "stream",
     "text": [
      "100%|██████████| 4/4 [00:00<00:00, 342.58it/s]\n",
      "100%|██████████| 4/4 [00:00<00:00, 493.29it/s]\n"
     ]
    },
    {
     "name": "stdout",
     "output_type": "stream",
     "text": [
      "Segmentation Completed. \n",
      "total_meal: 32 TP:  6 FP:  6 FN:  1\n",
      "Segmentation Completed. \n",
      "total_meal: 32 TP:  7 FP:  2 FN:  0\n"
     ]
    },
    {
     "name": "stderr",
     "output_type": "stream",
     "text": [
      "100%|██████████| 3/3 [00:00<00:00, 265.23it/s]\n",
      "100%|██████████| 3/3 [00:00<00:00, 336.02it/s]\n"
     ]
    },
    {
     "name": "stdout",
     "output_type": "stream",
     "text": [
      "Segmentation Completed. \n",
      "total_meal: 32 TP:  6 FP:  13 FN:  0\n",
      "Segmentation Completed. \n",
      "total_meal: 32 TP:  7 FP:  2 FN:  0\n"
     ]
    },
    {
     "name": "stderr",
     "output_type": "stream",
     "text": [
      "100%|██████████| 3/3 [00:00<00:00, 384.34it/s]\n",
      "100%|██████████| 4/4 [00:00<00:00, 335.91it/s]\n"
     ]
    },
    {
     "name": "stdout",
     "output_type": "stream",
     "text": [
      "Segmentation Completed. \n",
      "total_meal: 32 TP:  5 FP:  5 FN:  0\n",
      "   dataset    Ts   Te  TP  FN  FP    TPR  FP/TP\n",
      "0  wenkanw  0.65  0.1  31   1  28  0.969  0.903\n",
      "Segmentation Completed. \n"
     ]
    },
    {
     "name": "stderr",
     "output_type": "stream",
     "text": [
      "100%|██████████| 4/4 [00:00<00:00, 489.02it/s]\n",
      "100%|██████████| 3/3 [00:00<00:00, 241.44it/s]\n"
     ]
    },
    {
     "name": "stdout",
     "output_type": "stream",
     "text": [
      "total_meal: 32 TP:  6 FP:  6 FN:  1\n",
      "Segmentation Completed. \n",
      "total_meal: 32 TP:  7 FP:  2 FN:  0\n",
      "Segmentation Completed. \n"
     ]
    },
    {
     "name": "stderr",
     "output_type": "stream",
     "text": [
      "100%|██████████| 3/3 [00:00<00:00, 309.73it/s]\n"
     ]
    },
    {
     "name": "stdout",
     "output_type": "stream",
     "text": [
      "total_meal: 32 TP:  6 FP:  14 FN:  0\n",
      "Segmentation Completed. \n",
      "total_meal: 32 TP:  7 FP:  2 FN:  0\n"
     ]
    },
    {
     "name": "stderr",
     "output_type": "stream",
     "text": [
      "100%|██████████| 3/3 [00:00<00:00, 338.66it/s]\n",
      "100%|██████████| 4/4 [00:00<00:00, 332.51it/s]\n"
     ]
    },
    {
     "name": "stdout",
     "output_type": "stream",
     "text": [
      "Segmentation Completed. \n",
      "total_meal: 32 TP:  5 FP:  5 FN:  0\n",
      "   dataset    Ts    Te  TP  FN  FP    TPR  FP/TP\n",
      "0  wenkanw  0.65  0.15  31   1  29  0.969  0.935\n",
      "Segmentation Completed. \n"
     ]
    },
    {
     "name": "stderr",
     "output_type": "stream",
     "text": [
      "100%|██████████| 4/4 [00:00<00:00, 435.35it/s]\n"
     ]
    },
    {
     "name": "stdout",
     "output_type": "stream",
     "text": [
      "total_meal: 32 TP:  6 FP:  6 FN:  1\n",
      "Segmentation Completed. \n",
      "total_meal: 32 TP:  7 FP:  2 FN:  0\n"
     ]
    },
    {
     "name": "stderr",
     "output_type": "stream",
     "text": [
      "100%|██████████| 3/3 [00:00<00:00, 240.77it/s]\n",
      "100%|██████████| 3/3 [00:00<00:00, 237.48it/s]\n"
     ]
    },
    {
     "name": "stdout",
     "output_type": "stream",
     "text": [
      "Segmentation Completed. \n",
      "total_meal: 32 TP:  6 FP:  15 FN:  0\n",
      "Segmentation Completed. \n"
     ]
    },
    {
     "name": "stderr",
     "output_type": "stream",
     "text": [
      "100%|██████████| 3/3 [00:00<00:00, 261.57it/s]"
     ]
    },
    {
     "name": "stdout",
     "output_type": "stream",
     "text": [
      "total_meal: 32 TP:  7 FP:  2 FN:  0\n",
      "Segmentation Completed. \n"
     ]
    },
    {
     "name": "stderr",
     "output_type": "stream",
     "text": [
      "\n",
      "100%|██████████| 4/4 [00:00<00:00, 297.92it/s]\n"
     ]
    },
    {
     "name": "stdout",
     "output_type": "stream",
     "text": [
      "total_meal: 32 TP:  5 FP:  5 FN:  0\n",
      "   dataset    Ts   Te  TP  FN  FP    TPR  FP/TP\n",
      "0  wenkanw  0.65  0.2  31   1  30  0.969  0.968\n",
      "Segmentation Completed. \n",
      "total_meal: 32 TP:  6 FP:  6 FN:  1\n"
     ]
    },
    {
     "name": "stderr",
     "output_type": "stream",
     "text": [
      "100%|██████████| 4/4 [00:00<00:00, 396.24it/s]\n",
      "100%|██████████| 3/3 [00:00<00:00, 242.37it/s]\n"
     ]
    },
    {
     "name": "stdout",
     "output_type": "stream",
     "text": [
      "Segmentation Completed. \n",
      "total_meal: 32 TP:  7 FP:  2 FN:  0\n",
      "Segmentation Completed. \n"
     ]
    },
    {
     "name": "stderr",
     "output_type": "stream",
     "text": [
      "100%|██████████| 3/3 [00:00<00:00, 308.97it/s]\n"
     ]
    },
    {
     "name": "stdout",
     "output_type": "stream",
     "text": [
      "total_meal: 32 TP:  6 FP:  15 FN:  0\n",
      "Segmentation Completed. \n",
      "total_meal: 32 TP:  7 FP:  2 FN:  0\n"
     ]
    },
    {
     "name": "stderr",
     "output_type": "stream",
     "text": [
      "100%|██████████| 3/3 [00:00<00:00, 308.91it/s]\n",
      "100%|██████████| 4/4 [00:00<00:00, 242.85it/s]\n"
     ]
    },
    {
     "name": "stdout",
     "output_type": "stream",
     "text": [
      "Segmentation Completed. \n",
      "total_meal: 32 TP:  5 FP:  4 FN:  0\n",
      "   dataset    Ts    Te  TP  FN  FP    TPR  FP/TP\n",
      "0  wenkanw  0.65  0.25  31   1  29  0.969  0.935\n"
     ]
    },
    {
     "name": "stderr",
     "output_type": "stream",
     "text": [
      "100%|██████████| 4/4 [00:00<00:00, 353.40it/s]"
     ]
    },
    {
     "name": "stdout",
     "output_type": "stream",
     "text": [
      "Segmentation Completed. \n",
      "total_meal: 32 TP:  6 FP:  6 FN:  1\n",
      "Segmentation Completed. \n"
     ]
    },
    {
     "name": "stderr",
     "output_type": "stream",
     "text": [
      "\n",
      "100%|██████████| 3/3 [00:00<00:00, 237.89it/s]\n"
     ]
    },
    {
     "name": "stdout",
     "output_type": "stream",
     "text": [
      "total_meal: 32 TP:  7 FP:  2 FN:  0\n",
      "Segmentation Completed. \n",
      "total_meal: 32 TP:  6 FP:  15 FN:  0\n"
     ]
    },
    {
     "name": "stderr",
     "output_type": "stream",
     "text": [
      "100%|██████████| 3/3 [00:00<00:00, 298.02it/s]\n",
      "100%|██████████| 3/3 [00:00<00:00, 346.09it/s]\n"
     ]
    },
    {
     "name": "stdout",
     "output_type": "stream",
     "text": [
      "Segmentation Completed. \n",
      "total_meal: 32 TP:  7 FP:  2 FN:  0\n",
      "Segmentation Completed. \n",
      "total_meal: 32 TP:  5 FP:  4 FN:  0\n"
     ]
    },
    {
     "name": "stderr",
     "output_type": "stream",
     "text": [
      "100%|██████████| 4/4 [00:00<00:00, 315.95it/s]\n"
     ]
    },
    {
     "name": "stdout",
     "output_type": "stream",
     "text": [
      "   dataset    Ts   Te  TP  FN  FP    TPR  FP/TP\n",
      "0  wenkanw  0.65  0.3  31   1  29  0.969  0.935\n",
      "Segmentation Completed. \n",
      "total_meal: 32 TP:  6 FP:  6 FN:  1\n"
     ]
    },
    {
     "name": "stderr",
     "output_type": "stream",
     "text": [
      "100%|██████████| 4/4 [00:00<00:00, 422.69it/s]\n",
      "100%|██████████| 3/3 [00:00<00:00, 253.40it/s]\n"
     ]
    },
    {
     "name": "stdout",
     "output_type": "stream",
     "text": [
      "Segmentation Completed. \n",
      "total_meal: 32 TP:  7 FP:  2 FN:  0\n",
      "Segmentation Completed. \n",
      "total_meal: 32 TP:  6 FP:  15"
     ]
    },
    {
     "name": "stderr",
     "output_type": "stream",
     "text": [
      "100%|██████████| 3/3 [00:00<00:00, 332.45it/s]\n"
     ]
    },
    {
     "name": "stdout",
     "output_type": "stream",
     "text": [
      " FN:  0\n",
      "Segmentation Completed. \n",
      "total_meal: 32 TP:  7 FP:  2 FN:  0\n"
     ]
    },
    {
     "name": "stderr",
     "output_type": "stream",
     "text": [
      "100%|██████████| 3/3 [00:00<00:00, 384.96it/s]\n",
      "100%|██████████| 4/4 [00:00<00:00, 343.21it/s]\n"
     ]
    },
    {
     "name": "stdout",
     "output_type": "stream",
     "text": [
      "Segmentation Completed. \n",
      "total_meal: 32 TP:  5 FP:  4 FN:  0\n",
      "   dataset    Ts    Te  TP  FN  FP    TPR  FP/TP\n",
      "0  wenkanw  0.65  0.35  31   1  29  0.969  0.935\n",
      "Segmentation Completed. \n"
     ]
    },
    {
     "name": "stderr",
     "output_type": "stream",
     "text": [
      "100%|██████████| 4/4 [00:00<00:00, 494.22it/s]\n"
     ]
    },
    {
     "name": "stdout",
     "output_type": "stream",
     "text": [
      "total_meal: 32 TP:  6 FP:  6 FN:  1\n",
      "Segmentation Completed. \n",
      "total_meal: 32 TP:  7 FP:  2 FN:  0\n"
     ]
    },
    {
     "name": "stderr",
     "output_type": "stream",
     "text": [
      "100%|██████████| 3/3 [00:00<00:00, 263.89it/s]\n",
      "100%|██████████| 3/3 [00:00<00:00, 316.71it/s]\n"
     ]
    },
    {
     "name": "stdout",
     "output_type": "stream",
     "text": [
      "Segmentation Completed. \n",
      "total_meal: 32 TP:  6 FP:  17 FN:  0\n",
      "Segmentation Completed. \n",
      "total_meal: 32 TP:  7 FP:  2 FN:  0\n"
     ]
    },
    {
     "name": "stderr",
     "output_type": "stream",
     "text": [
      "100%|██████████| 3/3 [00:00<00:00, 354.98it/s]\n",
      "100%|██████████| 4/4 [00:00<00:00, 322.66it/s]\n"
     ]
    },
    {
     "name": "stdout",
     "output_type": "stream",
     "text": [
      "Segmentation Completed. \n",
      "total_meal: 32 TP:  5 FP:  4 FN:  0\n",
      "   dataset    Ts   Te  TP  FN  FP    TPR  FP/TP\n",
      "0  wenkanw  0.65  0.4  31   1  31  0.969    1.0\n",
      "Segmentation Completed. \n"
     ]
    },
    {
     "name": "stderr",
     "output_type": "stream",
     "text": [
      "100%|██████████| 4/4 [00:00<00:00, 462.08it/s]\n"
     ]
    },
    {
     "name": "stdout",
     "output_type": "stream",
     "text": [
      "total_meal: 32 TP:  6 FP:  6 FN:  1\n",
      "Segmentation Completed. \n",
      "total_meal: 32 TP:  7 FP:  2 FN:  0\n"
     ]
    },
    {
     "name": "stderr",
     "output_type": "stream",
     "text": [
      "100%|██████████| 3/3 [00:00<00:00, 261.47it/s]\n"
     ]
    },
    {
     "name": "stdout",
     "output_type": "stream",
     "text": [
      "Segmentation Completed. \n",
      "total_meal: 32 TP:  6 FP:  16 FN:  0\n"
     ]
    },
    {
     "name": "stderr",
     "output_type": "stream",
     "text": [
      "100%|██████████| 3/3 [00:00<00:00, 233.22it/s]\n",
      "  0%|          | 0/3 [00:00<?, ?it/s]"
     ]
    },
    {
     "name": "stdout",
     "output_type": "stream",
     "text": [
      "Segmentation Completed. \n",
      "total_meal: 32 TP:  7 FP:  2 FN:  0\n"
     ]
    },
    {
     "name": "stderr",
     "output_type": "stream",
     "text": [
      "100%|██████████| 3/3 [00:00<00:00, 260.41it/s]\n",
      "100%|██████████| 4/4 [00:00<00:00, 305.09it/s]\n"
     ]
    },
    {
     "name": "stdout",
     "output_type": "stream",
     "text": [
      "Segmentation Completed. \n",
      "total_meal: 32 TP:  5 FP:  4 FN:  0\n",
      "   dataset    Ts    Te  TP  FN  FP    TPR  FP/TP\n",
      "0  wenkanw  0.65  0.45  31   1  30  0.969  0.968\n",
      "Segmentation Completed. \n"
     ]
    },
    {
     "name": "stderr",
     "output_type": "stream",
     "text": [
      "100%|██████████| 4/4 [00:00<00:00, 447.70it/s]\n"
     ]
    },
    {
     "name": "stdout",
     "output_type": "stream",
     "text": [
      "total_meal: 32 TP:  6 FP:  5 FN:  1\n",
      "Segmentation Completed. \n",
      "total_meal: 32 TP:  7 FP:  2 FN:  0\n"
     ]
    },
    {
     "name": "stderr",
     "output_type": "stream",
     "text": [
      "100%|██████████| 3/3 [00:00<00:00, 244.25it/s]\n",
      "100%|██████████| 3/3 [00:00<00:00, 271.10it/s]\n"
     ]
    },
    {
     "name": "stdout",
     "output_type": "stream",
     "text": [
      "Segmentation Completed. \n",
      "total_meal: 32 TP:  6 FP:  13 FN:  0\n",
      "Segmentation Completed. \n"
     ]
    },
    {
     "name": "stderr",
     "output_type": "stream",
     "text": [
      "100%|██████████| 3/3 [00:00<00:00, 258.72it/s]\n"
     ]
    },
    {
     "name": "stdout",
     "output_type": "stream",
     "text": [
      "total_meal: 32 TP:  7 FP:  2 FN:  0\n",
      "Segmentation Completed. \n",
      "total_meal: 32 TP:  5 FP:  5 FN:  0\n",
      "   dataset   Ts   Te  TP  FN  FP    TPR  FP/TP\n",
      "0  wenkanw  0.7  0.1  31   1  27  0.969  0.871\n"
     ]
    },
    {
     "name": "stderr",
     "output_type": "stream",
     "text": [
      "100%|██████████| 4/4 [00:00<00:00, 246.81it/s]\n",
      "100%|██████████| 4/4 [00:00<00:00, 474.35it/s]\n"
     ]
    },
    {
     "name": "stdout",
     "output_type": "stream",
     "text": [
      "Segmentation Completed. \n",
      "total_meal: 32 TP:  6 FP:  5 FN:  1\n",
      "Segmentation Completed. \n"
     ]
    },
    {
     "name": "stderr",
     "output_type": "stream",
     "text": [
      "100%|██████████| 3/3 [00:00<00:00, 258.97it/s]\n"
     ]
    },
    {
     "name": "stdout",
     "output_type": "stream",
     "text": [
      "total_meal: 32 TP:  7 FP:  2 FN:  0\n",
      "Segmentation Completed. \n",
      "total_meal: 32 TP:  6 FP:  14 FN:  0\n"
     ]
    },
    {
     "name": "stderr",
     "output_type": "stream",
     "text": [
      "100%|██████████| 3/3 [00:00<00:00, 337.24it/s]\n",
      "100%|██████████| 3/3 [00:00<00:00, 387.40it/s]\n"
     ]
    },
    {
     "name": "stdout",
     "output_type": "stream",
     "text": [
      "Segmentation Completed. \n",
      "total_meal: 32 TP:  7 FP:  2 FN:  0\n",
      "Segmentation Completed. \n",
      "total_meal: 32 TP:  5 FP:  5 FN:  0\n",
      "   dataset   Ts    Te  TP  FN  FP    TPR  FP/TP\n",
      "0  wenkanw  0.7  0.15  31   1  28  0.969  0.903\n"
     ]
    },
    {
     "name": "stderr",
     "output_type": "stream",
     "text": [
      "100%|██████████| 4/4 [00:00<00:00, 343.02it/s]\n",
      "100%|██████████| 4/4 [00:00<00:00, 495.27it/s]\n"
     ]
    },
    {
     "name": "stdout",
     "output_type": "stream",
     "text": [
      "Segmentation Completed. \n",
      "total_meal: 32 TP:  6 FP:  5 FN:  1\n",
      "Segmentation Completed. \n",
      "total_meal: 32 TP:  7 FP:  2 FN:  0\n"
     ]
    },
    {
     "name": "stderr",
     "output_type": "stream",
     "text": [
      "100%|██████████| 3/3 [00:00<00:00, 254.02it/s]\n",
      "100%|██████████| 3/3 [00:00<00:00, 336.71it/s]\n"
     ]
    },
    {
     "name": "stdout",
     "output_type": "stream",
     "text": [
      "Segmentation Completed. \n",
      "total_meal: 32 TP:  6 FP:  14 FN:  0\n",
      "Segmentation Completed. \n",
      "total_meal: 32 TP:  7 FP:  2 FN:  0\n"
     ]
    },
    {
     "name": "stderr",
     "output_type": "stream",
     "text": [
      "100%|██████████| 3/3 [00:00<00:00, 385.36it/s]\n",
      "100%|██████████| 4/4 [00:00<00:00, 341.62it/s]\n"
     ]
    },
    {
     "name": "stdout",
     "output_type": "stream",
     "text": [
      "Segmentation Completed. \n",
      "total_meal: 32 TP:  5 FP:  5 FN:  0\n",
      "   dataset   Ts   Te  TP  FN  FP    TPR  FP/TP\n",
      "0  wenkanw  0.7  0.2  31   1  28  0.969  0.903\n",
      "Segmentation Completed. \n",
      "total_meal: 32 TP:  6 FP:  5 FN:  1\n"
     ]
    },
    {
     "name": "stderr",
     "output_type": "stream",
     "text": [
      "100%|██████████| 4/4 [00:00<00:00, 489.12it/s]\n",
      "100%|██████████| 3/3 [00:00<00:00, 264.57it/s]\n"
     ]
    },
    {
     "name": "stdout",
     "output_type": "stream",
     "text": [
      "Segmentation Completed. \n",
      "total_meal: 32 TP:  7 FP:  2 FN:  0\n",
      "Segmentation Completed. \n",
      "total_meal: 32 TP:  6 FP:  14 FN:  0\n"
     ]
    },
    {
     "name": "stderr",
     "output_type": "stream",
     "text": [
      "100%|██████████| 3/3 [00:00<00:00, 298.99it/s]\n",
      "100%|██████████| 3/3 [00:00<00:00, 317.87it/s]\n"
     ]
    },
    {
     "name": "stdout",
     "output_type": "stream",
     "text": [
      "Segmentation Completed. \n",
      "total_meal: 32 TP:  7 FP:  2 FN:  0\n",
      "Segmentation Completed. \n"
     ]
    },
    {
     "name": "stderr",
     "output_type": "stream",
     "text": [
      "100%|██████████| 4/4 [00:00<00:00, 315.30it/s]\n"
     ]
    },
    {
     "name": "stdout",
     "output_type": "stream",
     "text": [
      "total_meal: 32 TP:  5 FP:  4 FN:  0\n",
      "   dataset   Ts    Te  TP  FN  FP    TPR  FP/TP\n",
      "0  wenkanw  0.7  0.25  31   1  27  0.969  0.871\n",
      "Segmentation Completed. \n",
      "total_meal: 32 TP:  6 FP:  5 FN:  1\n"
     ]
    },
    {
     "name": "stderr",
     "output_type": "stream",
     "text": [
      "100%|██████████| 4/4 [00:00<00:00, 442.68it/s]\n",
      "100%|██████████| 3/3 [00:00<00:00, 222.99it/s]\n"
     ]
    },
    {
     "name": "stdout",
     "output_type": "stream",
     "text": [
      "Segmentation Completed. \n",
      "total_meal: 32 TP:  7 FP:  2 FN:  0\n",
      "Segmentation Completed. \n"
     ]
    },
    {
     "name": "stderr",
     "output_type": "stream",
     "text": [
      "100%|██████████| 3/3 [00:00<00:00, 234.27it/s]"
     ]
    },
    {
     "name": "stdout",
     "output_type": "stream",
     "text": [
      "total_meal: 32 TP:  6 FP:  15 FN:  0\n",
      "Segmentation Completed. \n"
     ]
    },
    {
     "name": "stderr",
     "output_type": "stream",
     "text": [
      "\n",
      "100%|██████████| 3/3 [00:00<00:00, 318.37it/s]"
     ]
    },
    {
     "name": "stdout",
     "output_type": "stream",
     "text": [
      "total_meal: 32 TP:  7 FP:  2 FN:  0\n",
      "Segmentation Completed. \n",
      "total_meal: 32 TP:  5 FP:  4 FN:  0\n"
     ]
    },
    {
     "name": "stderr",
     "output_type": "stream",
     "text": [
      "\n",
      "100%|██████████| 4/4 [00:00<00:00, 302.92it/s]\n"
     ]
    },
    {
     "name": "stdout",
     "output_type": "stream",
     "text": [
      "   dataset   Ts   Te  TP  FN  FP    TPR  FP/TP\n",
      "0  wenkanw  0.7  0.3  31   1  28  0.969  0.903\n",
      "Segmentation Completed. \n",
      "total_meal: 32 TP:  6 FP:  5 FN:  1\n"
     ]
    },
    {
     "name": "stderr",
     "output_type": "stream",
     "text": [
      "100%|██████████| 4/4 [00:00<00:00, 446.76it/s]\n",
      "100%|██████████| 3/3 [00:00<00:00, 245.03it/s]\n"
     ]
    },
    {
     "name": "stdout",
     "output_type": "stream",
     "text": [
      "Segmentation Completed. \n",
      "total_meal: 32 TP:  7 FP:  2 FN:  0\n",
      "Segmentation Completed. \n"
     ]
    },
    {
     "name": "stderr",
     "output_type": "stream",
     "text": [
      "100%|██████████| 3/3 [00:00<00:00, 309.06it/s]\n"
     ]
    },
    {
     "name": "stdout",
     "output_type": "stream",
     "text": [
      "total_meal: 32 TP:  6 FP:  15 FN:  0\n",
      "Segmentation Completed. \n",
      "total_meal: 32 TP:  7 FP:  2 FN:  0\n"
     ]
    },
    {
     "name": "stderr",
     "output_type": "stream",
     "text": [
      "100%|██████████| 3/3 [00:00<00:00, 360.38it/s]\n",
      "100%|██████████| 4/4 [00:00<00:00, 341.81it/s]\n"
     ]
    },
    {
     "name": "stdout",
     "output_type": "stream",
     "text": [
      "Segmentation Completed. \n",
      "total_meal: 32 TP:  5 FP:  4 FN:  0\n",
      "   dataset   Ts    Te  TP  FN  FP    TPR  FP/TP\n",
      "0  wenkanw  0.7  0.35  31   1  28  0.969  0.903\n",
      "Segmentation Completed. \n",
      "total_meal: 32 TP:  6 FP:  5 FN:  1\n"
     ]
    },
    {
     "name": "stderr",
     "output_type": "stream",
     "text": [
      "100%|██████████| 4/4 [00:00<00:00, 497.12it/s]\n",
      "100%|██████████| 3/3 [00:00<00:00, 265.99it/s]\n"
     ]
    },
    {
     "name": "stdout",
     "output_type": "stream",
     "text": [
      "Segmentation Completed. \n",
      "total_meal: 32 TP:  7 FP:  2 FN:  0\n",
      "Segmentation Completed. \n",
      "total_meal: 32 TP:  6 FP:  15 FN:  0\n"
     ]
    },
    {
     "name": "stderr",
     "output_type": "stream",
     "text": [
      "100%|██████████| 3/3 [00:00<00:00, 336.53it/s]\n",
      "100%|██████████| 3/3 [00:00<00:00, 387.26it/s]\n"
     ]
    },
    {
     "name": "stdout",
     "output_type": "stream",
     "text": [
      "Segmentation Completed. \n",
      "total_meal: 32 TP:  7 FP:  2 FN:  0\n",
      "Segmentation Completed. \n",
      "total_meal: 32 TP:  5 FP:  4 FN:  0\n",
      "   dataset   Ts   Te  TP  FN  FP    TPR  FP/TP\n",
      "0  wenkanw  0.7  0.4  31   1  28  0.969  0.903\n"
     ]
    },
    {
     "name": "stderr",
     "output_type": "stream",
     "text": [
      "100%|██████████| 4/4 [00:00<00:00, 336.91it/s]\n",
      "100%|██████████| 4/4 [00:00<00:00, 493.80it/s]\n"
     ]
    },
    {
     "name": "stdout",
     "output_type": "stream",
     "text": [
      "Segmentation Completed. \n",
      "total_meal: 32 TP:  6 FP:  5 FN:  1\n",
      "Segmentation Completed. \n",
      "total_meal: 32 TP:  7 FP:  2 FN:  0\n"
     ]
    },
    {
     "name": "stderr",
     "output_type": "stream",
     "text": [
      "100%|██████████| 3/3 [00:00<00:00, 262.41it/s]\n",
      "100%|██████████| 3/3 [00:00<00:00, 332.00it/s]\n"
     ]
    },
    {
     "name": "stdout",
     "output_type": "stream",
     "text": [
      "Segmentation Completed. \n",
      "total_meal: 32 TP:  6 FP:  14 FN:  0\n",
      "Segmentation Completed. \n",
      "total_meal: 32 TP:  7 FP:  2 FN:  0\n"
     ]
    },
    {
     "name": "stderr",
     "output_type": "stream",
     "text": [
      "100%|██████████| 3/3 [00:00<00:00, 345.34it/s]\n",
      "100%|██████████| 4/4 [00:00<00:00, 313.00it/s]\n"
     ]
    },
    {
     "name": "stdout",
     "output_type": "stream",
     "text": [
      "Segmentation Completed. \n",
      "total_meal: 32 TP:  5 FP:  4 FN:  0\n",
      "   dataset   Ts    Te  TP  FN  FP    TPR  FP/TP\n",
      "0  wenkanw  0.7  0.45  31   1  27  0.969  0.871\n",
      "Segmentation Completed. \n"
     ]
    },
    {
     "name": "stderr",
     "output_type": "stream",
     "text": [
      "100%|██████████| 4/4 [00:00<00:00, 377.76it/s]\n"
     ]
    },
    {
     "name": "stdout",
     "output_type": "stream",
     "text": [
      "total_meal: 32 TP:  6 FP:  5 FN:  1\n",
      "Segmentation Completed. \n",
      "total_meal: 32 TP:  7 FP:  2 FN:  0\n"
     ]
    },
    {
     "name": "stderr",
     "output_type": "stream",
     "text": [
      "100%|██████████| 3/3 [00:00<00:00, 196.71it/s]\n",
      "100%|██████████| 3/3 [00:00<00:00, 317.69it/s]\n"
     ]
    },
    {
     "name": "stdout",
     "output_type": "stream",
     "text": [
      "Segmentation Completed. \n",
      "total_meal: 32 TP:  6 FP:  12 FN:  0\n",
      "Segmentation Completed. \n"
     ]
    },
    {
     "name": "stderr",
     "output_type": "stream",
     "text": [
      "100%|██████████| 3/3 [00:00<00:00, 311.57it/s]\n"
     ]
    },
    {
     "name": "stdout",
     "output_type": "stream",
     "text": [
      "total_meal: 32 TP:  7 FP:  2 FN:  0\n",
      "Segmentation Completed. \n",
      "total_meal: 32 TP:  5 FP:  5 FN:  0\n",
      "   dataset    Ts   Te  TP  FN  FP    TPR  FP/TP\n",
      "0  wenkanw  0.75  0.1  31   1  26  0.969  0.839\n"
     ]
    },
    {
     "name": "stderr",
     "output_type": "stream",
     "text": [
      "100%|██████████| 4/4 [00:00<00:00, 285.25it/s]\n",
      "100%|██████████| 4/4 [00:00<00:00, 421.44it/s]\n"
     ]
    },
    {
     "name": "stdout",
     "output_type": "stream",
     "text": [
      "Segmentation Completed. \n",
      "total_meal: 32 TP:  6 FP:  5 FN:  1\n",
      "Segmentation Completed. \n"
     ]
    },
    {
     "name": "stderr",
     "output_type": "stream",
     "text": [
      "100%|██████████| 3/3 [00:00<00:00, 230.17it/s]\n"
     ]
    },
    {
     "name": "stdout",
     "output_type": "stream",
     "text": [
      "total_meal: 32 TP:  7 FP:  2 FN:  0\n",
      "Segmentation Completed. \n",
      "total_meal: 32 TP:  6 FP:  12 FN:  0\n"
     ]
    },
    {
     "name": "stderr",
     "output_type": "stream",
     "text": [
      "100%|██████████| 3/3 [00:00<00:00, 233.61it/s]\n",
      "  0%|          | 0/3 [00:00<?, ?it/s]"
     ]
    },
    {
     "name": "stdout",
     "output_type": "stream",
     "text": [
      "Segmentation Completed. \n",
      "total_meal: 32 TP:  7 FP:  2 FN:  0\n"
     ]
    },
    {
     "name": "stderr",
     "output_type": "stream",
     "text": [
      "100%|██████████| 3/3 [00:00<00:00, 260.52it/s]\n",
      "100%|██████████| 4/4 [00:00<00:00, 306.81it/s]\n"
     ]
    },
    {
     "name": "stdout",
     "output_type": "stream",
     "text": [
      "Segmentation Completed. \n",
      "total_meal: 32 TP:  5 FP:  5 FN:  0\n",
      "   dataset    Ts    Te  TP  FN  FP    TPR  FP/TP\n",
      "0  wenkanw  0.75  0.15  31   1  26  0.969  0.839\n",
      "Segmentation Completed. \n"
     ]
    },
    {
     "name": "stderr",
     "output_type": "stream",
     "text": [
      "100%|██████████| 4/4 [00:00<00:00, 430.75it/s]\n"
     ]
    },
    {
     "name": "stdout",
     "output_type": "stream",
     "text": [
      "total_meal: 32 TP:  6 FP:  5 FN:  1\n",
      "Segmentation Completed. \n",
      "total_meal: 32 TP:  7 FP:  2 FN:  0\n"
     ]
    },
    {
     "name": "stderr",
     "output_type": "stream",
     "text": [
      "100%|██████████| 3/3 [00:00<00:00, 243.04it/s]\n",
      "100%|██████████| 3/3 [00:00<00:00, 308.43it/s]\n"
     ]
    },
    {
     "name": "stdout",
     "output_type": "stream",
     "text": [
      "Segmentation Completed. \n",
      "total_meal: 32 TP:  6 FP:  12 FN:  0\n",
      "Segmentation Completed. \n"
     ]
    },
    {
     "name": "stderr",
     "output_type": "stream",
     "text": [
      "100%|██████████| 3/3 [00:00<00:00, 335.37it/s]\n"
     ]
    },
    {
     "name": "stdout",
     "output_type": "stream",
     "text": [
      "total_meal: 32 TP:  7 FP:  2 FN:  0\n",
      "Segmentation Completed. \n",
      "total_meal: 32 TP:  5 FP:  5 FN:  0\n",
      "   dataset    Ts   Te  TP  FN  FP    TPR  FP/TP\n",
      "0  wenkanw  0.75  0.2  31   1  26  0.969  0.839\n"
     ]
    },
    {
     "name": "stderr",
     "output_type": "stream",
     "text": [
      "100%|██████████| 4/4 [00:00<00:00, 241.21it/s]\n",
      "100%|██████████| 4/4 [00:00<00:00, 382.39it/s]\n"
     ]
    },
    {
     "name": "stdout",
     "output_type": "stream",
     "text": [
      "Segmentation Completed. \n",
      "total_meal: 32 TP:  6 FP:  5 FN:  1\n",
      "Segmentation Completed. \n"
     ]
    },
    {
     "name": "stderr",
     "output_type": "stream",
     "text": [
      "100%|██████████| 3/3 [00:00<00:00, 232.28it/s]\n"
     ]
    },
    {
     "name": "stdout",
     "output_type": "stream",
     "text": [
      "total_meal: 32 TP:  7 FP:  2 FN:  0\n",
      "Segmentation Completed. \n",
      "total_meal: 32 TP:  6 FP:  12 FN:  0\n"
     ]
    },
    {
     "name": "stderr",
     "output_type": "stream",
     "text": [
      "100%|██████████| 3/3 [00:00<00:00, 307.13it/s]\n",
      "100%|██████████| 3/3 [00:00<00:00, 342.02it/s]\n"
     ]
    },
    {
     "name": "stdout",
     "output_type": "stream",
     "text": [
      "Segmentation Completed. \n",
      "total_meal: 32 TP:  7 FP:  2 FN:  0\n",
      "Segmentation Completed. \n",
      "total_meal:"
     ]
    },
    {
     "name": "stderr",
     "output_type": "stream",
     "text": [
      "100%|██████████| 4/4 [00:00<00:00, 274.46it/s]\n"
     ]
    },
    {
     "name": "stdout",
     "output_type": "stream",
     "text": [
      " 32 TP:  5 FP:  4 FN:  0\n",
      "   dataset    Ts    Te  TP  FN  FP    TPR  FP/TP\n",
      "0  wenkanw  0.75  0.25  31   1  25  0.969  0.806\n",
      "Segmentation Completed. \n",
      "total_meal: 32 TP:  6 FP:  5 FN:  1\n"
     ]
    },
    {
     "name": "stderr",
     "output_type": "stream",
     "text": [
      "100%|██████████| 4/4 [00:00<00:00, 316.71it/s]\n"
     ]
    },
    {
     "name": "stdout",
     "output_type": "stream",
     "text": [
      "Segmentation Completed. \n",
      "total_meal: 32 TP:  7 FP:  2 FN:  0\n"
     ]
    },
    {
     "name": "stderr",
     "output_type": "stream",
     "text": [
      "100%|██████████| 3/3 [00:00<00:00, 196.27it/s]\n",
      "100%|██████████| 3/3 [00:00<00:00, 295.71it/s]\n"
     ]
    },
    {
     "name": "stdout",
     "output_type": "stream",
     "text": [
      "Segmentation Completed. \n",
      "total_meal: 32 TP:  6 FP:  12 FN:  0\n",
      "Segmentation Completed. \n"
     ]
    },
    {
     "name": "stderr",
     "output_type": "stream",
     "text": [
      "100%|██████████| 3/3 [00:00<00:00, 314.46it/s]\n"
     ]
    },
    {
     "name": "stdout",
     "output_type": "stream",
     "text": [
      "total_meal: 32 TP:  7 FP:  2 FN:  0\n",
      "Segmentation Completed. \n",
      "total_meal: 32 TP:  5 FP:  4 FN:  0\n",
      "   dataset    Ts   Te  TP  FN  FP    TPR  FP/TP\n",
      "0  wenkanw  0.75  0.3  31   1  25  0.969  0.806\n"
     ]
    },
    {
     "name": "stderr",
     "output_type": "stream",
     "text": [
      "100%|██████████| 4/4 [00:00<00:00, 314.85it/s]\n",
      "100%|██████████| 4/4 [00:00<00:00, 433.59it/s]\n"
     ]
    },
    {
     "name": "stdout",
     "output_type": "stream",
     "text": [
      "Segmentation Completed. \n",
      "total_meal: 32 TP:  6 FP:  5 FN:  1\n",
      "Segmentation Completed. \n"
     ]
    },
    {
     "name": "stderr",
     "output_type": "stream",
     "text": [
      "100%|██████████| 3/3 [00:00<00:00, 231.25it/s]\n"
     ]
    },
    {
     "name": "stdout",
     "output_type": "stream",
     "text": [
      "total_meal: 32 TP:  7 FP:  2 FN:  0\n",
      "Segmentation Completed. \n",
      "total_meal: 32 TP:  6 FP:  12 FN:  0\n"
     ]
    },
    {
     "name": "stderr",
     "output_type": "stream",
     "text": [
      "100%|██████████| 3/3 [00:00<00:00, 232.47it/s]\n",
      "100%|██████████| 3/3 [00:00<00:00, 336.14it/s]\n"
     ]
    },
    {
     "name": "stdout",
     "output_type": "stream",
     "text": [
      "Segmentation Completed. \n",
      "total_meal: 32 TP:  7 FP:  2 FN:  0\n",
      "Segmentation Completed. \n"
     ]
    },
    {
     "name": "stderr",
     "output_type": "stream",
     "text": [
      "100%|██████████| 4/4 [00:00<00:00, 302.88it/s]\n"
     ]
    },
    {
     "name": "stdout",
     "output_type": "stream",
     "text": [
      "total_meal: 32 TP:  5 FP:  4 FN:  0\n",
      "   dataset    Ts    Te  TP  FN  FP    TPR  FP/TP\n",
      "0  wenkanw  0.75  0.35  31   1  25  0.969  0.806\n",
      "Segmentation Completed. \n",
      "total_meal: 32 TP:  6 FP:  5 FN:  1\n"
     ]
    },
    {
     "name": "stderr",
     "output_type": "stream",
     "text": [
      "100%|██████████| 4/4 [00:00<00:00, 416.23it/s]\n",
      "100%|██████████| 3/3 [00:00<00:00, 238.91it/s]\n"
     ]
    },
    {
     "name": "stdout",
     "output_type": "stream",
     "text": [
      "Segmentation Completed. \n",
      "total_meal: 32 TP:  7 FP:  2 FN:  0\n",
      "Segmentation Completed. \n"
     ]
    },
    {
     "name": "stderr",
     "output_type": "stream",
     "text": [
      "100%|██████████| 3/3 [00:00<00:00, 305.37it/s]\n"
     ]
    },
    {
     "name": "stdout",
     "output_type": "stream",
     "text": [
      "total_meal: 32 TP:  6 FP:  12 FN:  0\n",
      "Segmentation Completed. \n",
      "total_meal: 32 TP:  7 FP:  2 FN:  0\n"
     ]
    },
    {
     "name": "stderr",
     "output_type": "stream",
     "text": [
      "100%|██████████| 3/3 [00:00<00:00, 225.45it/s]\n"
     ]
    },
    {
     "name": "stdout",
     "output_type": "stream",
     "text": [
      "Segmentation Completed. \n",
      "total_meal: 32 TP:  5 FP:  3 FN:  0\n",
      "   dataset    Ts   Te  TP  FN  FP    TPR  FP/TP\n",
      "0  wenkanw  0.75  0.4  31   1  24  0.969  0.774\n"
     ]
    },
    {
     "name": "stderr",
     "output_type": "stream",
     "text": [
      "100%|██████████| 4/4 [00:00<00:00, 218.62it/s]\n",
      "100%|██████████| 4/4 [00:00<00:00, 372.90it/s]\n"
     ]
    },
    {
     "name": "stdout",
     "output_type": "stream",
     "text": [
      "Segmentation Completed. \n",
      "total_meal: 32 TP:  6 FP:  5 FN:  1\n",
      "Segmentation Completed. \n"
     ]
    },
    {
     "name": "stderr",
     "output_type": "stream",
     "text": [
      "100%|██████████| 3/3 [00:00<00:00, 208.26it/s]\n"
     ]
    },
    {
     "name": "stdout",
     "output_type": "stream",
     "text": [
      "total_meal: 32 TP:  7 FP:  2 FN:  0\n",
      "Segmentation Completed. \n",
      "total_meal: 32 TP:  6 FP:  12 FN:  0\n"
     ]
    },
    {
     "name": "stderr",
     "output_type": "stream",
     "text": [
      "100%|██████████| 3/3 [00:00<00:00, 278.37it/s]\n",
      "100%|██████████| 3/3 [00:00<00:00, 337.06it/s]\n"
     ]
    },
    {
     "name": "stdout",
     "output_type": "stream",
     "text": [
      "Segmentation Completed. \n",
      "total_meal: 32 TP:  7 FP:  2 FN:  0\n",
      "Segmentation Completed. \n"
     ]
    },
    {
     "name": "stderr",
     "output_type": "stream",
     "text": [
      "100%|██████████| 4/4 [00:00<00:00, 292.58it/s]\n"
     ]
    },
    {
     "name": "stdout",
     "output_type": "stream",
     "text": [
      "total_meal: 32 TP:  5 FP:  3 FN:  0\n",
      "   dataset    Ts    Te  TP  FN  FP    TPR  FP/TP\n",
      "0  wenkanw  0.75  0.45  31   1  24  0.969  0.774\n",
      "Segmentation Completed. \n",
      "total_meal: 32 TP:  6 FP:  3 FN:  1\n"
     ]
    },
    {
     "name": "stderr",
     "output_type": "stream",
     "text": [
      "100%|██████████| 4/4 [00:00<00:00, 311.14it/s]\n"
     ]
    },
    {
     "name": "stdout",
     "output_type": "stream",
     "text": [
      "Segmentation Completed. \n",
      "total_meal: 32 TP:  7 FP:  2 FN:  0\n"
     ]
    },
    {
     "name": "stderr",
     "output_type": "stream",
     "text": [
      "100%|██████████| 3/3 [00:00<00:00, 240.42it/s]\n",
      "100%|██████████| 3/3 [00:00<00:00, 276.63it/s]\n"
     ]
    },
    {
     "name": "stdout",
     "output_type": "stream",
     "text": [
      "Segmentation Completed. \n",
      "total_meal: 32 TP:  6 FP:  10 FN:  0\n",
      "Segmentation Completed. \n"
     ]
    },
    {
     "name": "stderr",
     "output_type": "stream",
     "text": [
      "100%|██████████| 3/3 [00:00<00:00, 318.89it/s]\n"
     ]
    },
    {
     "name": "stdout",
     "output_type": "stream",
     "text": [
      "total_meal: 32 TP:  7 FP:  3 FN:  0\n",
      "Segmentation Completed. \n",
      "total_meal: 32 TP:  5 FP:  1 FN:  0\n",
      "   dataset   Ts   Te  TP  FN  FP    TPR  FP/TP\n",
      "0  wenkanw  0.8  0.1  31   1  19  0.969  0.613\n"
     ]
    },
    {
     "name": "stderr",
     "output_type": "stream",
     "text": [
      "100%|██████████| 4/4 [00:00<00:00, 309.38it/s]\n",
      "100%|██████████| 4/4 [00:00<00:00, 386.87it/s]\n"
     ]
    },
    {
     "name": "stdout",
     "output_type": "stream",
     "text": [
      "Segmentation Completed. \n",
      "total_meal: 32 TP:  6 FP:  3 FN:  1\n",
      "Segmentation Completed. \n"
     ]
    },
    {
     "name": "stderr",
     "output_type": "stream",
     "text": [
      "100%|██████████| 3/3 [00:00<00:00, 190.07it/s]\n"
     ]
    },
    {
     "name": "stdout",
     "output_type": "stream",
     "text": [
      "total_meal: 32 TP:  7 FP:  2 FN:  0\n",
      "Segmentation Completed. \n"
     ]
    },
    {
     "name": "stderr",
     "output_type": "stream",
     "text": [
      "100%|██████████| 3/3 [00:00<00:00, 234.25it/s]"
     ]
    },
    {
     "name": "stdout",
     "output_type": "stream",
     "text": [
      "total_meal: 32 TP:  6 FP:  10 FN:  0\n",
      "Segmentation Completed. \n"
     ]
    },
    {
     "name": "stderr",
     "output_type": "stream",
     "text": [
      "\n",
      "100%|██████████| 3/3 [00:00<00:00, 332.51it/s]\n"
     ]
    },
    {
     "name": "stdout",
     "output_type": "stream",
     "text": [
      "total_meal: 32 TP:  7 FP:  3 FN:  0\n",
      "Segmentation Completed. \n",
      "total_meal: 32 TP:  5 FP:  1 FN:  0\n",
      "   dataset   Ts    Te  TP  FN  FP    TPR  FP/TP\n",
      "0  wenkanw  0.8  0.15  31   1  19  0.969  0.613\n"
     ]
    },
    {
     "name": "stderr",
     "output_type": "stream",
     "text": [
      "100%|██████████| 4/4 [00:00<00:00, 303.12it/s]\n",
      "100%|██████████| 4/4 [00:00<00:00, 436.45it/s]\n"
     ]
    },
    {
     "name": "stdout",
     "output_type": "stream",
     "text": [
      "Segmentation Completed. \n",
      "total_meal: 32 TP:  6 FP:  3 FN:  1\n",
      "Segmentation Completed. \n",
      "total_meal: 32 TP:  7 FP:  2 FN:  0\n"
     ]
    },
    {
     "name": "stderr",
     "output_type": "stream",
     "text": [
      "100%|██████████| 3/3 [00:00<00:00, 246.31it/s]\n",
      "100%|██████████| 3/3 [00:00<00:00, 286.67it/s]\n"
     ]
    },
    {
     "name": "stdout",
     "output_type": "stream",
     "text": [
      "Segmentation Completed. \n",
      "total_meal: 32 TP:  6 FP:  10 FN:  0\n",
      "Segmentation Completed. \n"
     ]
    },
    {
     "name": "stderr",
     "output_type": "stream",
     "text": [
      "100%|██████████| 3/3 [00:00<00:00, 266.15it/s]\n"
     ]
    },
    {
     "name": "stdout",
     "output_type": "stream",
     "text": [
      "total_meal: 32 TP:  7 FP:  3 FN:  0\n",
      "Segmentation Completed. \n",
      "total_meal: 32 TP:  5 FP:  1 FN:  0\n",
      "   dataset   Ts   Te  TP  FN  FP    TPR  FP/TP\n",
      "0  wenkanw  0.8  0.2  31   1  19  0.969  0.613\n"
     ]
    },
    {
     "name": "stderr",
     "output_type": "stream",
     "text": [
      "100%|██████████| 4/4 [00:00<00:00, 299.93it/s]\n",
      "100%|██████████| 4/4 [00:00<00:00, 370.86it/s]\n"
     ]
    },
    {
     "name": "stdout",
     "output_type": "stream",
     "text": [
      "Segmentation Completed. \n",
      "total_meal: 32 TP:  6 FP:  3 FN:  1\n",
      "Segmentation Completed. \n"
     ]
    },
    {
     "name": "stderr",
     "output_type": "stream",
     "text": [
      "100%|██████████| 3/3 [00:00<00:00, 224.12it/s]\n"
     ]
    },
    {
     "name": "stdout",
     "output_type": "stream",
     "text": [
      "total_meal: 32 TP:  7 FP:  2 FN:  0\n",
      "Segmentation Completed. \n",
      "total_meal: 32 TP:  6 FP:  10 FN:  0\n"
     ]
    },
    {
     "name": "stderr",
     "output_type": "stream",
     "text": [
      "100%|██████████| 3/3 [00:00<00:00, 309.14it/s]\n",
      "100%|██████████| 3/3 [00:00<00:00, 351.71it/s]\n"
     ]
    },
    {
     "name": "stdout",
     "output_type": "stream",
     "text": [
      "Segmentation Completed. \n",
      "total_meal: 32 TP:  7 FP:  3 FN:  0\n",
      "Segmentation Completed. \n",
      "total_meal: 32 TP:  5 FP:  1 FN:  0\n",
      "   dataset   Ts    Te  TP  FN  FP    TPR  FP/TP\n",
      "0  wenkanw  0.8  0.25  31   1  19  0.969  0.613\n"
     ]
    },
    {
     "name": "stderr",
     "output_type": "stream",
     "text": [
      "100%|██████████| 4/4 [00:00<00:00, 288.38it/s]\n",
      "100%|██████████| 4/4 [00:00<00:00, 310.72it/s]\n"
     ]
    },
    {
     "name": "stdout",
     "output_type": "stream",
     "text": [
      "Segmentation Completed. \n",
      "total_meal: 32 TP:  6 FP:  3 FN:  1\n",
      "Segmentation Completed. \n"
     ]
    },
    {
     "name": "stderr",
     "output_type": "stream",
     "text": [
      "100%|██████████| 3/3 [00:00<00:00, 210.05it/s]"
     ]
    },
    {
     "name": "stdout",
     "output_type": "stream",
     "text": [
      "total_meal: 32 TP:  7 FP:  2 FN:  0\n",
      "Segmentation Completed. \n"
     ]
    },
    {
     "name": "stderr",
     "output_type": "stream",
     "text": [
      "\n",
      "100%|██████████| 3/3 [00:00<00:00, 299.58it/s]\n"
     ]
    },
    {
     "name": "stdout",
     "output_type": "stream",
     "text": [
      "total_meal: 32 TP:  6 FP:  10 FN:  0\n",
      "Segmentation Completed. \n",
      "total_meal: 32 TP:  7 FP:  3 FN:  0\n"
     ]
    },
    {
     "name": "stderr",
     "output_type": "stream",
     "text": [
      "100%|██████████| 3/3 [00:00<00:00, 331.93it/s]\n",
      "100%|██████████| 4/4 [00:00<00:00, 313.90it/s]\n"
     ]
    },
    {
     "name": "stdout",
     "output_type": "stream",
     "text": [
      "Segmentation Completed. \n",
      "total_meal: 32 TP:  5 FP:  1 FN:  0\n",
      "   dataset   Ts   Te  TP  FN  FP    TPR  FP/TP\n",
      "0  wenkanw  0.8  0.3  31   1  19  0.969  0.613\n",
      "Segmentation Completed. \n"
     ]
    },
    {
     "name": "stderr",
     "output_type": "stream",
     "text": [
      "100%|██████████| 4/4 [00:00<00:00, 433.67it/s]\n",
      "100%|██████████| 3/3 [00:00<00:00, 240.94it/s]\n"
     ]
    },
    {
     "name": "stdout",
     "output_type": "stream",
     "text": [
      "total_meal: 32 TP:  6 FP:  3 FN:  1\n",
      "Segmentation Completed. \n",
      "total_meal: 32 TP:  7 FP:  2 FN:  0\n",
      "Segmentation Completed. \n"
     ]
    },
    {
     "name": "stderr",
     "output_type": "stream",
     "text": [
      "100%|██████████| 3/3 [00:00<00:00, 230.27it/s]"
     ]
    },
    {
     "name": "stdout",
     "output_type": "stream",
     "text": [
      "total_meal: 32 TP:  6 FP:  10 FN:  0\n",
      "Segmentation Completed. \n"
     ]
    },
    {
     "name": "stderr",
     "output_type": "stream",
     "text": [
      "\n",
      "100%|██████████| 3/3 [00:00<00:00, 276.83it/s]"
     ]
    },
    {
     "name": "stdout",
     "output_type": "stream",
     "text": [
      "total_meal: 32 TP:  7 FP:  3 FN:  0\n",
      "Segmentation Completed. \n",
      "total_meal: 32 TP:  5 FP:  1 FN:  0\n"
     ]
    },
    {
     "name": "stderr",
     "output_type": "stream",
     "text": [
      "\n",
      "100%|██████████| 4/4 [00:00<00:00, 298.20it/s]\n"
     ]
    },
    {
     "name": "stdout",
     "output_type": "stream",
     "text": [
      "   dataset   Ts    Te  TP  FN  FP    TPR  FP/TP\n",
      "0  wenkanw  0.8  0.35  31   1  19  0.969  0.613\n",
      "Segmentation Completed. \n",
      "total_meal: 32 TP:  6 FP:  3 FN:  1\n"
     ]
    },
    {
     "name": "stderr",
     "output_type": "stream",
     "text": [
      "100%|██████████| 4/4 [00:00<00:00, 452.99it/s]\n",
      "100%|██████████| 3/3 [00:00<00:00, 247.60it/s]\n"
     ]
    },
    {
     "name": "stdout",
     "output_type": "stream",
     "text": [
      "Segmentation Completed. \n",
      "total_meal: 32 TP:  7 FP:  2 FN:  0\n",
      "Segmentation Completed. \n",
      "total_meal: 32 TP:  6 FP:  10 FN:  0\n"
     ]
    },
    {
     "name": "stderr",
     "output_type": "stream",
     "text": [
      "100%|██████████| 3/3 [00:00<00:00, 311.15it/s]\n",
      "100%|██████████| 3/3 [00:00<00:00, 370.64it/s]\n"
     ]
    },
    {
     "name": "stdout",
     "output_type": "stream",
     "text": [
      "Segmentation Completed. \n",
      "total_meal: 32 TP:  7 FP:  3 FN:  0\n",
      "Segmentation Completed. \n",
      "total_meal: 32 TP:  5 FP:  1 FN:  0\n",
      "   dataset   Ts   Te  TP  FN  FP    TPR  FP/TP\n",
      "0  wenkanw  0.8  0.4  31   1  19  0.969  0.613\n"
     ]
    },
    {
     "name": "stderr",
     "output_type": "stream",
     "text": [
      "100%|██████████| 4/4 [00:00<00:00, 339.12it/s]\n",
      "100%|██████████| 4/4 [00:00<00:00, 474.51it/s]\n"
     ]
    },
    {
     "name": "stdout",
     "output_type": "stream",
     "text": [
      "Segmentation Completed. \n",
      "total_meal: 32 TP:  6 FP:  3 FN:  1\n",
      "Segmentation Completed. \n",
      "total_meal: 32 TP:  7 FP:  2 FN:  0\n"
     ]
    },
    {
     "name": "stderr",
     "output_type": "stream",
     "text": [
      "100%|██████████| 3/3 [00:00<00:00, 263.80it/s]\n",
      "100%|██████████| 3/3 [00:00<00:00, 334.51it/s]\n"
     ]
    },
    {
     "name": "stdout",
     "output_type": "stream",
     "text": [
      "Segmentation Completed. \n",
      "total_meal: 32 TP:  6 FP:  10 FN:  0\n",
      "Segmentation Completed. \n",
      "total_meal: 32 TP:  7 FP:  3 FN:  0\n"
     ]
    },
    {
     "name": "stderr",
     "output_type": "stream",
     "text": [
      "100%|██████████| 3/3 [00:00<00:00, 353.39it/s]\n",
      "100%|██████████| 4/4 [00:00<00:00, 325.10it/s]\n"
     ]
    },
    {
     "name": "stdout",
     "output_type": "stream",
     "text": [
      "Segmentation Completed. \n",
      "total_meal: 32 TP:  5 FP:  1 FN:  0\n",
      "   dataset   Ts    Te  TP  FN  FP    TPR  FP/TP\n",
      "0  wenkanw  0.8  0.45  31   1  19  0.969  0.613\n",
      "Segmentation Completed. \n"
     ]
    },
    {
     "name": "stderr",
     "output_type": "stream",
     "text": [
      "100%|██████████| 4/4 [00:00<00:00, 448.95it/s]\n"
     ]
    },
    {
     "name": "stdout",
     "output_type": "stream",
     "text": [
      "total_meal: 32 TP:  6 FP:  2 FN:  1\n",
      "Segmentation Completed. \n",
      "total_meal: 32 TP:  7 FP:  1 FN:  0\n"
     ]
    },
    {
     "name": "stderr",
     "output_type": "stream",
     "text": [
      "100%|██████████| 3/3 [00:00<00:00, 257.92it/s]\n"
     ]
    },
    {
     "name": "stdout",
     "output_type": "stream",
     "text": [
      "Segmentation Completed. \n",
      "total_meal: 32 TP:  6 FP:  8 FN:  0\n"
     ]
    },
    {
     "name": "stderr",
     "output_type": "stream",
     "text": [
      "100%|██████████| 3/3 [00:00<00:00, 301.53it/s]\n",
      "100%|██████████| 3/3 [00:00<00:00, 295.71it/s]\n"
     ]
    },
    {
     "name": "stdout",
     "output_type": "stream",
     "text": [
      "Segmentation Completed. \n",
      "total_meal: 32 TP:  7 FP:  3 FN:  0\n",
      "Segmentation Completed. \n"
     ]
    },
    {
     "name": "stderr",
     "output_type": "stream",
     "text": [
      "100%|██████████| 4/4 [00:00<00:00, 240.10it/s]"
     ]
    },
    {
     "name": "stdout",
     "output_type": "stream",
     "text": [
      "total_meal: 32 TP:  5 FP:  1 FN:  0\n",
      "   dataset    Ts   Te  TP  FN  FP    TPR  FP/TP\n",
      "0  wenkanw  0.85  0.1  31   1  15  0.969  0.484\n",
      "Segmentation Completed. \n"
     ]
    },
    {
     "name": "stderr",
     "output_type": "stream",
     "text": [
      "\n",
      "100%|██████████| 4/4 [00:00<00:00, 465.23it/s]"
     ]
    },
    {
     "name": "stdout",
     "output_type": "stream",
     "text": [
      "total_meal: 32 TP:  6 FP:  2 FN:  1\n",
      "Segmentation Completed. \n"
     ]
    },
    {
     "name": "stderr",
     "output_type": "stream",
     "text": [
      "\n",
      "100%|██████████| 3/3 [00:00<00:00, 231.30it/s]\n"
     ]
    },
    {
     "name": "stdout",
     "output_type": "stream",
     "text": [
      "total_meal: 32 TP:  7 FP:  1 FN:  0\n",
      "Segmentation Completed. \n",
      "total_meal: 32 TP:  6 FP:  8 FN:  0\n"
     ]
    },
    {
     "name": "stderr",
     "output_type": "stream",
     "text": [
      "100%|██████████| 3/3 [00:00<00:00, 308.56it/s]\n",
      "100%|██████████| 3/3 [00:00<00:00, 347.14it/s]\n"
     ]
    },
    {
     "name": "stdout",
     "output_type": "stream",
     "text": [
      "Segmentation Completed. \n",
      "total_meal: 32 TP:  7 FP:  3 FN:  0\n",
      "Segmentation Completed. \n",
      "total_meal: 32 TP:  5 FP:  1 FN:  0\n",
      "   dataset    Ts    Te  TP  FN  FP    TPR  FP/TP\n",
      "0  wenkanw  0.85  0.15  31   1  15  0.969  0.484\n"
     ]
    },
    {
     "name": "stderr",
     "output_type": "stream",
     "text": [
      "100%|██████████| 4/4 [00:00<00:00, 274.78it/s]\n",
      "100%|██████████| 4/4 [00:00<00:00, 309.57it/s]\n"
     ]
    },
    {
     "name": "stdout",
     "output_type": "stream",
     "text": [
      "Segmentation Completed. \n",
      "total_meal: 32 TP:  6 FP:  2 FN:  1\n",
      "Segmentation Completed. \n"
     ]
    },
    {
     "name": "stderr",
     "output_type": "stream",
     "text": [
      "100%|██████████| 3/3 [00:00<00:00, 197.23it/s]"
     ]
    },
    {
     "name": "stdout",
     "output_type": "stream",
     "text": [
      "total_meal: 32 TP:  7 FP:  1 FN:  0\n",
      "Segmentation Completed. \n"
     ]
    },
    {
     "name": "stderr",
     "output_type": "stream",
     "text": [
      "\n",
      "100%|██████████| 3/3 [00:00<00:00, 295.10it/s]\n"
     ]
    },
    {
     "name": "stdout",
     "output_type": "stream",
     "text": [
      "total_meal: 32 TP:  6 FP:  8 FN:  0\n",
      "Segmentation Completed. \n",
      "total_meal: 32 TP:  7 FP:  3 FN:  0\n"
     ]
    },
    {
     "name": "stderr",
     "output_type": "stream",
     "text": [
      "100%|██████████| 3/3 [00:00<00:00, 322.76it/s]\n",
      "100%|██████████| 4/4 [00:00<00:00, 312.41it/s]\n"
     ]
    },
    {
     "name": "stdout",
     "output_type": "stream",
     "text": [
      "Segmentation Completed. \n",
      "total_meal: 32 TP:  5 FP:  1 FN:  0\n",
      "   dataset    Ts   Te  TP  FN  FP    TPR  FP/TP\n",
      "0  wenkanw  0.85  0.2  31   1  15  0.969  0.484\n",
      "Segmentation Completed. \n"
     ]
    },
    {
     "name": "stderr",
     "output_type": "stream",
     "text": [
      "100%|██████████| 4/4 [00:00<00:00, 434.38it/s]\n"
     ]
    },
    {
     "name": "stdout",
     "output_type": "stream",
     "text": [
      "total_meal: 32 TP:  6 FP:  2 FN:  1\n",
      "Segmentation Completed. \n",
      "total_meal: 32 TP:  7 FP:  1 FN:  0\n"
     ]
    },
    {
     "name": "stderr",
     "output_type": "stream",
     "text": [
      "100%|██████████| 3/3 [00:00<00:00, 233.79it/s]\n",
      "  0%|          | 0/3 [00:00<?, ?it/s]"
     ]
    },
    {
     "name": "stdout",
     "output_type": "stream",
     "text": [
      "Segmentation Completed. \n",
      "total_meal: 32 TP:  6 FP:  8 FN:  0\n"
     ]
    },
    {
     "name": "stderr",
     "output_type": "stream",
     "text": [
      "100%|██████████| 3/3 [00:00<00:00, 227.80it/s]\n",
      "100%|██████████| 3/3 [00:00<00:00, 313.83it/s]\n"
     ]
    },
    {
     "name": "stdout",
     "output_type": "stream",
     "text": [
      "Segmentation Completed. \n",
      "total_meal: 32 TP:  7 FP:  3 FN:  0\n",
      "Segmentation Completed. \n"
     ]
    },
    {
     "name": "stderr",
     "output_type": "stream",
     "text": [
      "100%|██████████| 4/4 [00:00<00:00, 305.19it/s]\n"
     ]
    },
    {
     "name": "stdout",
     "output_type": "stream",
     "text": [
      "total_meal: 32 TP:  5 FP:  1 FN:  0\n",
      "   dataset    Ts    Te  TP  FN  FP    TPR  FP/TP\n",
      "0  wenkanw  0.85  0.25  31   1  15  0.969  0.484\n",
      "Segmentation Completed. \n",
      "total_meal: 32 TP:  6 FP:  2 FN:  1\n"
     ]
    },
    {
     "name": "stderr",
     "output_type": "stream",
     "text": [
      "100%|██████████| 4/4 [00:00<00:00, 436.79it/s]\n",
      "100%|██████████| 3/3 [00:00<00:00, 246.73it/s]\n"
     ]
    },
    {
     "name": "stdout",
     "output_type": "stream",
     "text": [
      "Segmentation Completed. \n",
      "total_meal: 32 TP:  7 FP:  1 FN:  0\n",
      "Segmentation Completed. \n"
     ]
    },
    {
     "name": "stderr",
     "output_type": "stream",
     "text": [
      "100%|██████████| 3/3 [00:00<00:00, 306.69it/s]\n"
     ]
    },
    {
     "name": "stdout",
     "output_type": "stream",
     "text": [
      "total_meal: 32 TP:  6 FP:  8 FN:  0\n",
      "Segmentation Completed. \n",
      "total_meal: 32 TP:  7 FP:  3 FN:  0\n"
     ]
    },
    {
     "name": "stderr",
     "output_type": "stream",
     "text": [
      "100%|██████████| 3/3 [00:00<00:00, 319.85it/s]\n"
     ]
    },
    {
     "name": "stdout",
     "output_type": "stream",
     "text": [
      "Segmentation Completed. \n",
      "total_meal: 32 TP:  5 FP:  1 FN:  0\n",
      "   dataset    Ts   Te  TP  FN  FP    TPR  FP/TP\n",
      "0  wenkanw  0.85  0.3  31   1  15  0.969  0.484\n"
     ]
    },
    {
     "name": "stderr",
     "output_type": "stream",
     "text": [
      "100%|██████████| 4/4 [00:00<00:00, 241.96it/s]\n",
      "100%|██████████| 4/4 [00:00<00:00, 454.47it/s]\n"
     ]
    },
    {
     "name": "stdout",
     "output_type": "stream",
     "text": [
      "Segmentation Completed. \n",
      "total_meal: 32 TP:  6 FP:  2 FN:  1\n",
      "Segmentation Completed. \n"
     ]
    },
    {
     "name": "stderr",
     "output_type": "stream",
     "text": [
      "100%|██████████| 3/3 [00:00<00:00, 226.89it/s]\n"
     ]
    },
    {
     "name": "stdout",
     "output_type": "stream",
     "text": [
      "total_meal: 32 TP:  7 FP:  1 FN:  0\n",
      "Segmentation Completed. \n",
      "total_meal: 32 TP:  6 FP:  8 FN:  0\n"
     ]
    },
    {
     "name": "stderr",
     "output_type": "stream",
     "text": [
      "100%|██████████| 3/3 [00:00<00:00, 309.68it/s]\n",
      "100%|██████████| 3/3 [00:00<00:00, 346.81it/s]\n"
     ]
    },
    {
     "name": "stdout",
     "output_type": "stream",
     "text": [
      "Segmentation Completed. \n",
      "total_meal: 32 TP:  7 FP:  3 FN:  0\n",
      "Segmentation Completed. \n",
      "total_meal: 32 TP:  5 FP:  1 FN:  0\n",
      "   dataset    Ts    Te  TP  FN  FP    TPR  FP/TP\n",
      "0  wenkanw  0.85  0.35  31   1  15  0.969  0.484\n"
     ]
    },
    {
     "name": "stderr",
     "output_type": "stream",
     "text": [
      "100%|██████████| 4/4 [00:00<00:00, 274.43it/s]\n",
      "100%|██████████| 4/4 [00:00<00:00, 311.22it/s]\n"
     ]
    },
    {
     "name": "stdout",
     "output_type": "stream",
     "text": [
      "Segmentation Completed. \n",
      "total_meal: 32 TP:  6 FP:  2 FN:  1\n",
      "Segmentation Completed. \n"
     ]
    },
    {
     "name": "stderr",
     "output_type": "stream",
     "text": [
      "100%|██████████| 3/3 [00:00<00:00, 195.26it/s]"
     ]
    },
    {
     "name": "stdout",
     "output_type": "stream",
     "text": [
      "total_meal: 32 TP:  7 FP:  1 FN:  0\n",
      "Segmentation Completed. \n"
     ]
    },
    {
     "name": "stderr",
     "output_type": "stream",
     "text": [
      "\n",
      "100%|██████████| 3/3 [00:00<00:00, 296.85it/s]\n"
     ]
    },
    {
     "name": "stdout",
     "output_type": "stream",
     "text": [
      "total_meal: 32 TP:  6 FP:  8 FN:  0\n",
      "Segmentation Completed. \n",
      "total_meal: 32 TP:  7 FP:  3 FN:  0\n"
     ]
    },
    {
     "name": "stderr",
     "output_type": "stream",
     "text": [
      "100%|██████████| 3/3 [00:00<00:00, 319.88it/s]\n",
      "100%|██████████| 4/4 [00:00<00:00, 312.76it/s]\n"
     ]
    },
    {
     "name": "stdout",
     "output_type": "stream",
     "text": [
      "Segmentation Completed. \n",
      "total_meal: 32 TP:  5 FP:  1 FN:  0\n",
      "   dataset    Ts   Te  TP  FN  FP    TPR  FP/TP\n",
      "0  wenkanw  0.85  0.4  31   1  15  0.969  0.484\n",
      "Segmentation Completed. \n"
     ]
    },
    {
     "name": "stderr",
     "output_type": "stream",
     "text": [
      "100%|██████████| 4/4 [00:00<00:00, 434.85it/s]\n"
     ]
    },
    {
     "name": "stdout",
     "output_type": "stream",
     "text": [
      "total_meal: 32 TP:  6 FP:  2 FN:  1\n",
      "Segmentation Completed. \n",
      "total_meal: 32 TP:  7 FP:  1 FN:  0\n"
     ]
    },
    {
     "name": "stderr",
     "output_type": "stream",
     "text": [
      "100%|██████████| 3/3 [00:00<00:00, 236.21it/s]\n",
      "100%|██████████| 3/3 [00:00<00:00, 317.56it/s]\n"
     ]
    },
    {
     "name": "stdout",
     "output_type": "stream",
     "text": [
      "Segmentation Completed. \n",
      "total_meal: 32 TP:  6 FP:  8 FN:  0\n",
      "Segmentation Completed. \n",
      "total_meal: 32 TP:  7 FP:  3 FN:  0\n"
     ]
    },
    {
     "name": "stderr",
     "output_type": "stream",
     "text": [
      "100%|██████████| 3/3 [00:00<00:00, 372.31it/s]\n",
      "100%|██████████| 3/3 [00:00<00:00, 253.92it/s]\n"
     ]
    },
    {
     "name": "stdout",
     "output_type": "stream",
     "text": [
      "Segmentation Completed. \n",
      "total_meal: 32 TP:  5 FP:  1 FN:  0\n",
      "   dataset    Ts    Te  TP  FN  FP    TPR  FP/TP\n",
      "0  wenkanw  0.85  0.45  31   1  15  0.969  0.484\n",
      "Segmentation Completed. \n"
     ]
    },
    {
     "name": "stderr",
     "output_type": "stream",
     "text": [
      "100%|██████████| 3/3 [00:00<00:00, 421.34it/s]\n"
     ]
    },
    {
     "name": "stdout",
     "output_type": "stream",
     "text": [
      "total_meal: 26 TP:  6 FP:  3 FN:  0\n",
      "Segmentation Completed. \n",
      "total_meal: 26 TP:  4 FP:  5 FN:  0\n"
     ]
    },
    {
     "name": "stderr",
     "output_type": "stream",
     "text": [
      "100%|██████████| 3/3 [00:00<00:00, 298.60it/s]\n",
      "100%|██████████| 3/3 [00:00<00:00, 338.74it/s]\n"
     ]
    },
    {
     "name": "stdout",
     "output_type": "stream",
     "text": [
      "Segmentation Completed. \n",
      "total_meal: 26 TP:  5 FP:  3 FN:  1\n",
      "Segmentation Completed. \n",
      "total_meal: 26 TP:  5 FP:  4 FN:  0\n"
     ]
    },
    {
     "name": "stderr",
     "output_type": "stream",
     "text": [
      "100%|██████████| 2/2 [00:00<00:00, 235.48it/s]\n",
      "100%|██████████| 3/3 [00:00<00:00, 259.86it/s]\n"
     ]
    },
    {
     "name": "stdout",
     "output_type": "stream",
     "text": [
      "Segmentation Completed. \n",
      "total_meal: 26 TP:  5 FP:  1 FN:  0\n",
      "  dataset   Ts   Te  TP  FN  FP    TPR  FP/TP\n",
      "0    adam  0.5  0.1  25   1  16  0.962   0.64\n",
      "Segmentation Completed. \n",
      "total_meal: 26 TP:  6 FP:  3 FN:  0\n"
     ]
    },
    {
     "name": "stderr",
     "output_type": "stream",
     "text": [
      "100%|██████████| 3/3 [00:00<00:00, 421.99it/s]\n",
      "100%|██████████| 3/3 [00:00<00:00, 301.61it/s]\n"
     ]
    },
    {
     "name": "stdout",
     "output_type": "stream",
     "text": [
      "Segmentation Completed. \n",
      "total_meal: 26 TP:  4 FP:  5 FN:  0\n",
      "Segmentation Completed. \n",
      "total_meal: 26 TP:  5 FP:  3 FN:  1\n"
     ]
    },
    {
     "name": "stderr",
     "output_type": "stream",
     "text": [
      "100%|██████████| 3/3 [00:00<00:00, 330.85it/s]\n",
      "100%|██████████| 2/2 [00:00<00:00, 234.48it/s]\n"
     ]
    },
    {
     "name": "stdout",
     "output_type": "stream",
     "text": [
      "Segmentation Completed. \n",
      "total_meal: 26 TP:  5 FP:  3 FN:  0\n",
      "Segmentation Completed. \n",
      "total_meal: 26 TP:  5 FP:  1 FN:  0\n",
      "  dataset   Ts    Te  TP  FN  FP    TPR  FP/TP\n",
      "0    adam  0.5  0.15  25   1  15  0.962    0.6\n"
     ]
    },
    {
     "name": "stderr",
     "output_type": "stream",
     "text": [
      "100%|██████████| 3/3 [00:00<00:00, 258.03it/s]\n",
      "100%|██████████| 3/3 [00:00<00:00, 419.89it/s]\n"
     ]
    },
    {
     "name": "stdout",
     "output_type": "stream",
     "text": [
      "Segmentation Completed. \n",
      "total_meal: 26 TP:  6 FP:  2 FN:  0\n",
      "Segmentation Completed. \n",
      "total_meal: 26 TP:  4 FP:  5 FN:  0\n"
     ]
    },
    {
     "name": "stderr",
     "output_type": "stream",
     "text": [
      "100%|██████████| 3/3 [00:00<00:00, 236.39it/s]\n",
      "100%|██████████| 3/3 [00:00<00:00, 248.11it/s]"
     ]
    },
    {
     "name": "stdout",
     "output_type": "stream",
     "text": [
      "Segmentation Completed. \n",
      "total_meal: 26 TP:  5 FP:  3 FN:  1\n"
     ]
    },
    {
     "name": "stderr",
     "output_type": "stream",
     "text": [
      "\n",
      "100%|██████████| 2/2 [00:00<00:00, 183.60it/s]\n"
     ]
    },
    {
     "name": "stdout",
     "output_type": "stream",
     "text": [
      "Segmentation Completed. \n",
      "total_meal: 26 TP:  5 FP:  3 FN:  0\n",
      "Segmentation Completed. \n"
     ]
    },
    {
     "name": "stderr",
     "output_type": "stream",
     "text": [
      "100%|██████████| 3/3 [00:00<00:00, 218.29it/s]\n"
     ]
    },
    {
     "name": "stdout",
     "output_type": "stream",
     "text": [
      "total_meal: 26 TP:  5 FP:  1 FN:  0\n",
      "  dataset   Ts   Te  TP  FN  FP    TPR  FP/TP\n",
      "0    adam  0.5  0.2  25   1  14  0.962   0.56\n",
      "Segmentation Completed. \n",
      "total_meal: 26 TP:  6 FP:  2 FN:  0\n"
     ]
    },
    {
     "name": "stderr",
     "output_type": "stream",
     "text": [
      "100%|██████████| 3/3 [00:00<00:00, 382.20it/s]\n",
      "100%|██████████| 3/3 [00:00<00:00, 275.66it/s]\n"
     ]
    },
    {
     "name": "stdout",
     "output_type": "stream",
     "text": [
      "Segmentation Completed. \n",
      "total_meal: 26 TP:  4 FP:  5 FN:  0\n",
      "Segmentation Completed. \n",
      "total_meal: 26 TP:  5 FP:  3 FN:  1\n"
     ]
    },
    {
     "name": "stderr",
     "output_type": "stream",
     "text": [
      "100%|██████████| 3/3 [00:00<00:00, 311.52it/s]\n",
      "100%|██████████| 2/2 [00:00<00:00, 208.39it/s]\n"
     ]
    },
    {
     "name": "stdout",
     "output_type": "stream",
     "text": [
      "Segmentation Completed. \n",
      "total_meal: 26 TP:  5 FP:  3 FN:  0\n",
      "Segmentation Completed. \n"
     ]
    },
    {
     "name": "stderr",
     "output_type": "stream",
     "text": [
      "100%|██████████| 3/3 [00:00<00:00, 187.53it/s]"
     ]
    },
    {
     "name": "stdout",
     "output_type": "stream",
     "text": [
      "total_meal: 26 TP:  5 FP:  1 FN:  0\n",
      "  dataset   Ts    Te  TP  FN  FP    TPR  FP/TP\n",
      "0    adam  0.5  0.25  25   1  14  0.962   0.56\n",
      "Segmentation Completed. \n"
     ]
    },
    {
     "name": "stderr",
     "output_type": "stream",
     "text": [
      "\n",
      "100%|██████████| 3/3 [00:00<00:00, 278.61it/s]\n"
     ]
    },
    {
     "name": "stdout",
     "output_type": "stream",
     "text": [
      "total_meal: 26 TP:  6 FP:  2 FN:  0\n",
      "Segmentation Completed. \n",
      "total_meal: 26 TP:  4 FP:  5 FN:  0\n"
     ]
    },
    {
     "name": "stderr",
     "output_type": "stream",
     "text": [
      "100%|██████████| 3/3 [00:00<00:00, 269.83it/s]\n",
      "100%|██████████| 3/3 [00:00<00:00, 315.39it/s]\n"
     ]
    },
    {
     "name": "stdout",
     "output_type": "stream",
     "text": [
      "Segmentation Completed. \n",
      "total_meal: 26 TP:  5 FP:  3 FN:  1\n",
      "Segmentation Completed. \n",
      "total_meal: 26 TP:  5 FP:  3 FN:  0\n"
     ]
    },
    {
     "name": "stderr",
     "output_type": "stream",
     "text": [
      "100%|██████████| 2/2 [00:00<00:00, 217.99it/s]\n",
      "100%|██████████| 3/3 [00:00<00:00, 243.68it/s]\n"
     ]
    },
    {
     "name": "stdout",
     "output_type": "stream",
     "text": [
      "Segmentation Completed. \n",
      "total_meal: 26 TP:  5 FP:  1 FN:  0\n",
      "  dataset   Ts   Te  TP  FN  FP    TPR  FP/TP\n",
      "0    adam  0.5  0.3  25   1  14  0.962   0.56\n",
      "Segmentation Completed. \n",
      "total_meal: 26 TP:  6 FP:  2 FN:  0\n"
     ]
    },
    {
     "name": "stderr",
     "output_type": "stream",
     "text": [
      "100%|██████████| 3/3 [00:00<00:00, 365.88it/s]\n",
      "  0%|          | 0/3 [00:00<?, ?it/s]"
     ]
    },
    {
     "name": "stdout",
     "output_type": "stream",
     "text": [
      "Segmentation Completed. \n",
      "total_meal: 26 TP:  4 FP:  5 FN:  0\n"
     ]
    },
    {
     "name": "stderr",
     "output_type": "stream",
     "text": [
      "100%|██████████| 3/3 [00:00<00:00, 210.69it/s]\n",
      "100%|██████████| 3/3 [00:00<00:00, 255.91it/s]\n"
     ]
    },
    {
     "name": "stdout",
     "output_type": "stream",
     "text": [
      "Segmentation Completed. \n",
      "total_meal: 26 TP:  5 FP:  3 FN:  1\n",
      "Segmentation Completed. \n"
     ]
    },
    {
     "name": "stderr",
     "output_type": "stream",
     "text": [
      "100%|██████████| 2/2 [00:00<00:00, 212.39it/s]\n"
     ]
    },
    {
     "name": "stdout",
     "output_type": "stream",
     "text": [
      "total_meal: 26 TP:  5 FP:  3 FN:  0\n",
      "Segmentation Completed. \n",
      "total_meal: 26 TP:  5 FP:  1 FN:  0\n",
      "  dataset   Ts    Te  TP  FN  FP    TPR  FP/TP\n",
      "0    adam  0.5  0.35  25   1  14  0.962   0.56\n"
     ]
    },
    {
     "name": "stderr",
     "output_type": "stream",
     "text": [
      "100%|██████████| 3/3 [00:00<00:00, 242.05it/s]\n",
      "100%|██████████| 3/3 [00:00<00:00, 374.05it/s]\n"
     ]
    },
    {
     "name": "stdout",
     "output_type": "stream",
     "text": [
      "Segmentation Completed. \n",
      "total_meal: 26 TP:  6 FP:  2 FN:  0\n",
      "Segmentation Completed. \n",
      "total_meal: 26 TP:  4 FP:  5 FN:  0\n"
     ]
    },
    {
     "name": "stderr",
     "output_type": "stream",
     "text": [
      "100%|██████████| 3/3 [00:00<00:00, 278.80it/s]\n",
      "100%|██████████| 3/3 [00:00<00:00, 303.45it/s]\n"
     ]
    },
    {
     "name": "stdout",
     "output_type": "stream",
     "text": [
      "Segmentation Completed. \n",
      "total_meal: 26 TP:  5 FP:  3 FN:  1\n",
      "Segmentation Completed. \n"
     ]
    },
    {
     "name": "stderr",
     "output_type": "stream",
     "text": [
      "100%|██████████| 2/2 [00:00<00:00, 172.35it/s]\n"
     ]
    },
    {
     "name": "stdout",
     "output_type": "stream",
     "text": [
      "total_meal: 26 TP:  5 FP:  3 FN:  0\n",
      "Segmentation Completed. \n",
      "total_meal: 26 TP:  5 FP:  1 FN:  0\n",
      "  dataset   Ts   Te  TP  FN  FP    TPR  FP/TP\n",
      "0    adam  0.5  0.4  25   1  14  0.962   0.56"
     ]
    },
    {
     "name": "stderr",
     "output_type": "stream",
     "text": [
      "100%|██████████| 3/3 [00:00<00:00, 217.21it/s]\n"
     ]
    },
    {
     "name": "stdout",
     "output_type": "stream",
     "text": [
      "\n",
      "Segmentation Completed. \n",
      "total_meal: 26 TP:  6 FP:  2 FN:  0\n"
     ]
    },
    {
     "name": "stderr",
     "output_type": "stream",
     "text": [
      "100%|██████████| 3/3 [00:00<00:00, 363.21it/s]\n",
      "100%|██████████| 3/3 [00:00<00:00, 279.85it/s]\n"
     ]
    },
    {
     "name": "stdout",
     "output_type": "stream",
     "text": [
      "Segmentation Completed. \n",
      "total_meal: 26 TP:  4 FP:  5 FN:  0\n",
      "Segmentation Completed. \n",
      "total_meal: 26 TP:  5 FP:  3 FN:  1\n"
     ]
    },
    {
     "name": "stderr",
     "output_type": "stream",
     "text": [
      "100%|██████████| 3/3 [00:00<00:00, 308.81it/s]\n",
      "100%|██████████| 2/2 [00:00<00:00, 222.03it/s]\n"
     ]
    },
    {
     "name": "stdout",
     "output_type": "stream",
     "text": [
      "Segmentation Completed. \n",
      "total_meal: 26 TP:  5 FP:  3 FN:  0\n",
      "Segmentation Completed. \n",
      "total_meal: 26 TP:  5 FP:  1 FN:  0\n",
      "  dataset   Ts    Te  TP  FN  FP    TPR  FP/TP\n",
      "0    adam  0.5  0.45  25   1  14  0.962   0.56\n"
     ]
    },
    {
     "name": "stderr",
     "output_type": "stream",
     "text": [
      "100%|██████████| 3/3 [00:00<00:00, 229.63it/s]\n",
      "100%|██████████| 3/3 [00:00<00:00, 283.27it/s]\n"
     ]
    },
    {
     "name": "stdout",
     "output_type": "stream",
     "text": [
      "Segmentation Completed. \n",
      "total_meal: 26 TP:  6 FP:  2 FN:  0\n",
      "Segmentation Completed. \n"
     ]
    },
    {
     "name": "stderr",
     "output_type": "stream",
     "text": [
      "100%|██████████| 3/3 [00:00<00:00, 276.35it/s]\n"
     ]
    },
    {
     "name": "stdout",
     "output_type": "stream",
     "text": [
      "total_meal: 26 TP:  4 FP:  3 FN:  0\n",
      "Segmentation Completed. \n",
      "total_meal: 26 TP:  5 FP:  3 FN:  1\n"
     ]
    },
    {
     "name": "stderr",
     "output_type": "stream",
     "text": [
      "100%|██████████| 3/3 [00:00<00:00, 304.38it/s]\n",
      "100%|██████████| 2/2 [00:00<00:00, 209.96it/s]\n"
     ]
    },
    {
     "name": "stdout",
     "output_type": "stream",
     "text": [
      "Segmentation Completed. \n",
      "total_meal: 26 TP:  5 FP:  5 FN:  0\n",
      "Segmentation Completed. \n",
      "total_meal: 26 TP:  5 FP:  1 FN:  0\n",
      "  dataset    Ts   Te  TP  FN  FP    TPR  FP/TP\n",
      "0    adam  0.55  0.1  25   1  14  0.962   0.56\n"
     ]
    },
    {
     "name": "stderr",
     "output_type": "stream",
     "text": [
      "100%|██████████| 3/3 [00:00<00:00, 240.72it/s]\n",
      "100%|██████████| 3/3 [00:00<00:00, 378.73it/s]\n"
     ]
    },
    {
     "name": "stdout",
     "output_type": "stream",
     "text": [
      "Segmentation Completed. \n",
      "total_meal: 26 TP:  6 FP:  2 FN:  0\n",
      "Segmentation Completed. \n",
      "total_meal: 26 TP:  4 FP:  3 FN:  0\n"
     ]
    },
    {
     "name": "stderr",
     "output_type": "stream",
     "text": [
      "100%|██████████| 3/3 [00:00<00:00, 262.26it/s]\n",
      "100%|██████████| 3/3 [00:00<00:00, 244.54it/s]\n"
     ]
    },
    {
     "name": "stdout",
     "output_type": "stream",
     "text": [
      "Segmentation Completed. \n",
      "total_meal: 26 TP:  5 FP:  3 FN:  1\n",
      "Segmentation Completed. \n"
     ]
    },
    {
     "name": "stderr",
     "output_type": "stream",
     "text": [
      "100%|██████████| 2/2 [00:00<00:00, 189.82it/s]\n"
     ]
    },
    {
     "name": "stdout",
     "output_type": "stream",
     "text": [
      "total_meal: 26 TP:  5 FP:  4 FN:  0\n",
      "Segmentation Completed. \n",
      "total_meal: 26 TP:  5 FP:  1 FN:  0\n",
      "  dataset    Ts    Te  TP  FN  FP    TPR  FP/TP\n",
      "0    adam  0.55  0.15  25   1  13  0.962   0.52\n"
     ]
    },
    {
     "name": "stderr",
     "output_type": "stream",
     "text": [
      "100%|██████████| 3/3 [00:00<00:00, 237.33it/s]\n",
      "100%|██████████| 3/3 [00:00<00:00, 364.74it/s]\n"
     ]
    },
    {
     "name": "stdout",
     "output_type": "stream",
     "text": [
      "Segmentation Completed. \n",
      "total_meal: 26 TP:  6 FP:  2 FN:  0\n",
      "Segmentation Completed. \n",
      "total_meal: 26 TP:  4 FP:  4 FN:  0\n"
     ]
    },
    {
     "name": "stderr",
     "output_type": "stream",
     "text": [
      "100%|██████████| 3/3 [00:00<00:00, 278.34it/s]\n",
      "100%|██████████| 3/3 [00:00<00:00, 315.93it/s]\n"
     ]
    },
    {
     "name": "stdout",
     "output_type": "stream",
     "text": [
      "Segmentation Completed. \n",
      "total_meal: 26 TP:  5 FP:  3 FN:  1\n",
      "Segmentation Completed. \n",
      "total_meal: 26 TP:  5 FP:  4 FN:  0\n"
     ]
    },
    {
     "name": "stderr",
     "output_type": "stream",
     "text": [
      "100%|██████████| 2/2 [00:00<00:00, 209.52it/s]\n",
      "100%|██████████| 3/3 [00:00<00:00, 185.18it/s]\n"
     ]
    },
    {
     "name": "stdout",
     "output_type": "stream",
     "text": [
      "Segmentation Completed. \n",
      "total_meal: 26 TP:  5 FP:  1 FN:  0\n",
      "  dataset    Ts   Te  TP  FN  FP    TPR  FP/TP\n",
      "0    adam  0.55  0.2  25   1  14  0.962   0.56\n",
      "Segmentation Completed. \n"
     ]
    },
    {
     "name": "stderr",
     "output_type": "stream",
     "text": [
      "100%|██████████| 3/3 [00:00<00:00, 289.02it/s]\n"
     ]
    },
    {
     "name": "stdout",
     "output_type": "stream",
     "text": [
      "total_meal: 26 TP:  6 FP:  2 FN:  0\n",
      "Segmentation Completed. \n",
      "total_meal: 26 TP:  4 FP:  4 FN:  0\n"
     ]
    },
    {
     "name": "stderr",
     "output_type": "stream",
     "text": [
      "100%|██████████| 3/3 [00:00<00:00, 266.98it/s]\n",
      "100%|██████████| 3/3 [00:00<00:00, 285.84it/s]\n"
     ]
    },
    {
     "name": "stdout",
     "output_type": "stream",
     "text": [
      "Segmentation Completed. \n",
      "total_meal: 26 TP:  5 FP:  3 FN:  1\n",
      "Segmentation Completed. \n",
      "total_meal: 26 TP:  5 FP:  4 FN:  0\n"
     ]
    },
    {
     "name": "stderr",
     "output_type": "stream",
     "text": [
      "100%|██████████| 2/2 [00:00<00:00, 216.72it/s]\n",
      "100%|██████████| 3/3 [00:00<00:00, 241.09it/s]\n"
     ]
    },
    {
     "name": "stdout",
     "output_type": "stream",
     "text": [
      "Segmentation Completed. \n",
      "total_meal: 26 TP:  5 FP:  1 FN:  0\n",
      "  dataset    Ts    Te  TP  FN  FP    TPR  FP/TP\n",
      "0    adam  0.55  0.25  25   1  14  0.962   0.56\n",
      "Segmentation Completed. \n",
      "total_meal: 26 TP:  6 FP:  2 FN:  0\n"
     ]
    },
    {
     "name": "stderr",
     "output_type": "stream",
     "text": [
      "100%|██████████| 3/3 [00:00<00:00, 316.78it/s]\n",
      "100%|██████████| 3/3 [00:00<00:00, 215.62it/s]\n"
     ]
    },
    {
     "name": "stdout",
     "output_type": "stream",
     "text": [
      "Segmentation Completed. \n",
      "total_meal: 26 TP:  4 FP:  4 FN:  0\n",
      "Segmentation Completed. \n"
     ]
    },
    {
     "name": "stderr",
     "output_type": "stream",
     "text": [
      "100%|██████████| 3/3 [00:00<00:00, 241.34it/s]"
     ]
    },
    {
     "name": "stdout",
     "output_type": "stream",
     "text": [
      "total_meal: 26 TP:  5 FP:  3 FN:  1\n",
      "Segmentation Completed. \n"
     ]
    },
    {
     "name": "stderr",
     "output_type": "stream",
     "text": [
      "\n",
      "100%|██████████| 2/2 [00:00<00:00, 200.34it/s]\n"
     ]
    },
    {
     "name": "stdout",
     "output_type": "stream",
     "text": [
      "total_meal: 26 TP:  5 FP:  4 FN:  0\n",
      "Segmentation Completed. \n",
      "total_meal: 26 TP:  5 FP:  1 FN:  0\n",
      "  dataset    Ts   Te  TP  FN  FP    TPR  FP/TP\n",
      "0    adam  0.55  0.3  25   1  14  0.962   0.56\n"
     ]
    },
    {
     "name": "stderr",
     "output_type": "stream",
     "text": [
      "100%|██████████| 3/3 [00:00<00:00, 220.23it/s]\n",
      "100%|██████████| 3/3 [00:00<00:00, 375.56it/s]\n"
     ]
    },
    {
     "name": "stdout",
     "output_type": "stream",
     "text": [
      "Segmentation Completed. \n",
      "total_meal: 26 TP:  6 FP:  2 FN:  0\n",
      "Segmentation Completed. \n",
      "total_meal: 26 TP:  4 FP:  3 FN:  0\n"
     ]
    },
    {
     "name": "stderr",
     "output_type": "stream",
     "text": [
      "100%|██████████| 3/3 [00:00<00:00, 277.98it/s]\n",
      "100%|██████████| 3/3 [00:00<00:00, 275.56it/s]\n"
     ]
    },
    {
     "name": "stdout",
     "output_type": "stream",
     "text": [
      "Segmentation Completed. \n",
      "total_meal: 26 TP:  5 FP:  3 FN:  1\n",
      "Segmentation Completed. \n",
      "total_meal: 26 TP:  5 FP:  5 FN:  0\n"
     ]
    },
    {
     "name": "stderr",
     "output_type": "stream",
     "text": [
      "100%|██████████| 2/2 [00:00<00:00, 169.13it/s]\n",
      "  0%|          | 0/3 [00:00<?, ?it/s]"
     ]
    },
    {
     "name": "stdout",
     "output_type": "stream",
     "text": [
      "Segmentation Completed. \n",
      "total_meal: 26 TP:  5 FP:  1 FN:  0\n",
      "  dataset    Ts    Te  TP  FN  FP    TPR  FP/TP\n",
      "0    adam  0.55  0.35  25   1  14  0.962   0.56\n"
     ]
    },
    {
     "name": "stderr",
     "output_type": "stream",
     "text": [
      "100%|██████████| 3/3 [00:00<00:00, 193.38it/s]\n",
      "100%|██████████| 3/3 [00:00<00:00, 387.32it/s]\n"
     ]
    },
    {
     "name": "stdout",
     "output_type": "stream",
     "text": [
      "Segmentation Completed. \n",
      "total_meal: 26 TP:  6 FP:  2 FN:  0\n",
      "Segmentation Completed. \n"
     ]
    },
    {
     "name": "stderr",
     "output_type": "stream",
     "text": [
      "100%|██████████| 3/3 [00:00<00:00, 249.48it/s]\n"
     ]
    },
    {
     "name": "stdout",
     "output_type": "stream",
     "text": [
      "total_meal: 26 TP:  4 FP:  3 FN:  0\n",
      "Segmentation Completed. \n",
      "total_meal: 26 TP:  5 FP:  3 FN:  1\n"
     ]
    },
    {
     "name": "stderr",
     "output_type": "stream",
     "text": [
      "100%|██████████| 3/3 [00:00<00:00, 311.90it/s]\n",
      "100%|██████████| 2/2 [00:00<00:00, 218.74it/s]\n"
     ]
    },
    {
     "name": "stdout",
     "output_type": "stream",
     "text": [
      "Segmentation Completed. \n",
      "total_meal: 26 TP:  5 FP:  5 FN:  0\n",
      "Segmentation Completed. \n",
      "total_meal: 26 TP:  5 FP:  1 FN:  0\n",
      "  dataset    Ts   Te  TP  FN  FP    TPR  FP/TP\n",
      "0    adam  0.55  0.4  25   1  14  0.962   0.56\n"
     ]
    },
    {
     "name": "stderr",
     "output_type": "stream",
     "text": [
      "100%|██████████| 3/3 [00:00<00:00, 226.06it/s]\n",
      "100%|██████████| 3/3 [00:00<00:00, 320.25it/s]\n"
     ]
    },
    {
     "name": "stdout",
     "output_type": "stream",
     "text": [
      "Segmentation Completed. \n",
      "total_meal: 26 TP:  6 FP:  2 FN:  0\n",
      "Segmentation Completed. \n"
     ]
    },
    {
     "name": "stderr",
     "output_type": "stream",
     "text": [
      "100%|██████████| 3/3 [00:00<00:00, 219.00it/s]"
     ]
    },
    {
     "name": "stdout",
     "output_type": "stream",
     "text": [
      "total_meal: 26 TP:  4 FP:  3 FN:  0\n",
      "Segmentation Completed. \n"
     ]
    },
    {
     "name": "stderr",
     "output_type": "stream",
     "text": [
      "\n",
      "100%|██████████| 3/3 [00:00<00:00, 245.30it/s]\n"
     ]
    },
    {
     "name": "stdout",
     "output_type": "stream",
     "text": [
      "total_meal: 26 TP:  5 FP:  3 FN:  1\n",
      "Segmentation Completed. \n",
      "total_meal: 26 TP:  5 FP:  5 FN:  0\n"
     ]
    },
    {
     "name": "stderr",
     "output_type": "stream",
     "text": [
      "100%|██████████| 2/2 [00:00<00:00, 213.79it/s]\n",
      "100%|██████████| 3/3 [00:00<00:00, 245.06it/s]\n"
     ]
    },
    {
     "name": "stdout",
     "output_type": "stream",
     "text": [
      "Segmentation Completed. \n",
      "total_meal: 26 TP:  5 FP:  1 FN:  0\n",
      "  dataset    Ts    Te  TP  FN  FP    TPR  FP/TP\n",
      "0    adam  0.55  0.45  25   1  14  0.962   0.56\n",
      "Segmentation Completed. \n"
     ]
    },
    {
     "name": "stderr",
     "output_type": "stream",
     "text": [
      "100%|██████████| 3/3 [00:00<00:00, 380.13it/s]\n"
     ]
    },
    {
     "name": "stdout",
     "output_type": "stream",
     "text": [
      "total_meal: 26 TP:  6 FP:  2 FN:  0\n",
      "Segmentation Completed. \n",
      "total_meal: 26 TP:  4 FP:  3 FN:  0\n"
     ]
    },
    {
     "name": "stderr",
     "output_type": "stream",
     "text": [
      "100%|██████████| 3/3 [00:00<00:00, 279.39it/s]\n",
      "100%|██████████| 3/3 [00:00<00:00, 295.03it/s]\n"
     ]
    },
    {
     "name": "stdout",
     "output_type": "stream",
     "text": [
      "Segmentation Completed. \n",
      "total_meal: 26 TP:  5 FP:  2 FN:  1\n",
      "Segmentation Completed. \n"
     ]
    },
    {
     "name": "stderr",
     "output_type": "stream",
     "text": [
      "100%|██████████| 2/2 [00:00<00:00, 176.83it/s]"
     ]
    },
    {
     "name": "stdout",
     "output_type": "stream",
     "text": [
      "total_meal: 26 TP:  5 FP:  6 FN:  0\n",
      "Segmentation Completed. \n"
     ]
    },
    {
     "name": "stderr",
     "output_type": "stream",
     "text": [
      "\n",
      "100%|██████████| 3/3 [00:00<00:00, 196.31it/s]"
     ]
    },
    {
     "name": "stdout",
     "output_type": "stream",
     "text": [
      "total_meal: 26 TP:  5 FP:  1 FN:  0\n",
      "  dataset   Ts   Te  TP  FN  FP    TPR  FP/TP\n",
      "0    adam  0.6  0.1  25   1  14  0.962   0.56\n",
      "Segmentation Completed. \n",
      "total_meal: 26 TP:  6 FP:  2 FN:  0\n"
     ]
    },
    {
     "name": "stderr",
     "output_type": "stream",
     "text": [
      "\n",
      "100%|██████████| 3/3 [00:00<00:00, 368.89it/s]\n",
      "100%|██████████| 3/3 [00:00<00:00, 285.75it/s]\n"
     ]
    },
    {
     "name": "stdout",
     "output_type": "stream",
     "text": [
      "Segmentation Completed. \n",
      "total_meal: 26 TP:  4 FP:  3 FN:  0\n",
      "Segmentation Completed. \n",
      "total_meal: 26 TP:  5 FP:  2 FN:  1\n"
     ]
    },
    {
     "name": "stderr",
     "output_type": "stream",
     "text": [
      "100%|██████████| 3/3 [00:00<00:00, 313.68it/s]\n",
      "100%|██████████| 2/2 [00:00<00:00, 220.57it/s]\n"
     ]
    },
    {
     "name": "stdout",
     "output_type": "stream",
     "text": [
      "Segmentation Completed. \n",
      "total_meal: 26 TP:  5 FP:  5 FN:  0\n",
      "Segmentation Completed. \n",
      "total_meal: 26 TP:  5 FP:  1 FN:  0\n",
      "  dataset   Ts    Te  TP  FN  FP    TPR  FP/TP\n",
      "0    adam  0.6  0.15  25   1  13  0.962   0.52\n"
     ]
    },
    {
     "name": "stderr",
     "output_type": "stream",
     "text": [
      "100%|██████████| 3/3 [00:00<00:00, 229.56it/s]\n",
      "  0%|          | 0/3 [00:00<?, ?it/s]"
     ]
    },
    {
     "name": "stdout",
     "output_type": "stream",
     "text": [
      "Segmentation Completed. \n",
      "total_meal: 26 TP:  6 FP:  2 FN:  0\n"
     ]
    },
    {
     "name": "stderr",
     "output_type": "stream",
     "text": [
      "100%|██████████| 3/3 [00:00<00:00, 260.85it/s]\n",
      "100%|██████████| 3/3 [00:00<00:00, 235.23it/s]\n"
     ]
    },
    {
     "name": "stdout",
     "output_type": "stream",
     "text": [
      "Segmentation Completed. \n",
      "total_meal: 26 TP:  4 FP:  3 FN:  0\n",
      "Segmentation Completed. \n"
     ]
    },
    {
     "name": "stderr",
     "output_type": "stream",
     "text": [
      "100%|██████████| 3/3 [00:00<00:00, 307.22it/s]\n"
     ]
    },
    {
     "name": "stdout",
     "output_type": "stream",
     "text": [
      "total_meal: 26 TP:  5 FP:  2 FN:  1\n",
      "Segmentation Completed. \n",
      "total_meal: 26 TP:  5 FP:  5 FN:  0\n"
     ]
    },
    {
     "name": "stderr",
     "output_type": "stream",
     "text": [
      "100%|██████████| 2/2 [00:00<00:00, 218.31it/s]\n",
      "100%|██████████| 3/3 [00:00<00:00, 244.44it/s]\n"
     ]
    },
    {
     "name": "stdout",
     "output_type": "stream",
     "text": [
      "Segmentation Completed. \n",
      "total_meal: 26 TP:  5 FP:  1 FN:  0\n",
      "  dataset   Ts   Te  TP  FN  FP    TPR  FP/TP\n",
      "0    adam  0.6  0.2  25   1  13  0.962   0.52\n",
      "Segmentation Completed. \n",
      "total_meal: 26 TP:  6 FP:  2 FN:  0\n"
     ]
    },
    {
     "name": "stderr",
     "output_type": "stream",
     "text": [
      "100%|██████████| 3/3 [00:00<00:00, 382.67it/s]\n",
      "100%|██████████| 3/3 [00:00<00:00, 269.56it/s]\n"
     ]
    },
    {
     "name": "stdout",
     "output_type": "stream",
     "text": [
      "Segmentation Completed. \n",
      "total_meal: 26 TP:  4 FP:  3 FN:  0\n",
      "Segmentation Completed. \n",
      "total_meal: 26 TP:  5 FP:  2 FN:  1\n"
     ]
    },
    {
     "name": "stderr",
     "output_type": "stream",
     "text": [
      "100%|██████████| 3/3 [00:00<00:00, 244.72it/s]\n",
      "100%|██████████| 2/2 [00:00<00:00, 210.86it/s]\n"
     ]
    },
    {
     "name": "stdout",
     "output_type": "stream",
     "text": [
      "Segmentation Completed. \n",
      "total_meal: 26 TP:  5 FP:  6 FN:  0\n",
      "Segmentation Completed. \n"
     ]
    },
    {
     "name": "stderr",
     "output_type": "stream",
     "text": [
      "100%|██████████| 3/3 [00:00<00:00, 233.85it/s]\n"
     ]
    },
    {
     "name": "stdout",
     "output_type": "stream",
     "text": [
      "total_meal: 26 TP:  5 FP:  1 FN:  0\n",
      "  dataset   Ts    Te  TP  FN  FP    TPR  FP/TP\n",
      "0    adam  0.6  0.25  25   1  14  0.962   0.56\n",
      "Segmentation Completed. \n",
      "total_meal: 26 TP:  6 FP:  2 FN:  0\n"
     ]
    },
    {
     "name": "stderr",
     "output_type": "stream",
     "text": [
      "100%|██████████| 3/3 [00:00<00:00, 383.04it/s]\n",
      "100%|██████████| 3/3 [00:00<00:00, 276.28it/s]\n"
     ]
    },
    {
     "name": "stdout",
     "output_type": "stream",
     "text": [
      "Segmentation Completed. \n",
      "total_meal: 26 TP:  4 FP:  3 FN:  0\n",
      "Segmentation Completed. \n",
      "total_meal: 26 TP:  5 FP:  2 FN:  1\n"
     ]
    },
    {
     "name": "stderr",
     "output_type": "stream",
     "text": [
      "100%|██████████| 3/3 [00:00<00:00, 311.13it/s]\n",
      "100%|██████████| 2/2 [00:00<00:00, 205.11it/s]\n"
     ]
    },
    {
     "name": "stdout",
     "output_type": "stream",
     "text": [
      "Segmentation Completed. \n",
      "total_meal: 26 TP:  5 FP:  6 FN:  0\n",
      "Segmentation Completed. \n",
      "total_meal: 26 TP:  5 FP:  1 FN:  0\n",
      "  dataset   Ts   Te  TP  FN  FP    TPR  FP/TP\n",
      "0    adam  0.6  0.3  25   1  14  0.962   0.56\n"
     ]
    },
    {
     "name": "stderr",
     "output_type": "stream",
     "text": [
      "100%|██████████| 3/3 [00:00<00:00, 248.05it/s]\n",
      "100%|██████████| 3/3 [00:00<00:00, 420.86it/s]\n"
     ]
    },
    {
     "name": "stdout",
     "output_type": "stream",
     "text": [
      "Segmentation Completed. \n",
      "total_meal: 26 TP:  6 FP:  2 FN:  0\n",
      "Segmentation Completed. \n",
      "total_meal: 26 TP:  4 FP:  3 FN:  0\n"
     ]
    },
    {
     "name": "stderr",
     "output_type": "stream",
     "text": [
      "100%|██████████| 3/3 [00:00<00:00, 301.33it/s]\n",
      "100%|██████████| 3/3 [00:00<00:00, 331.68it/s]\n"
     ]
    },
    {
     "name": "stdout",
     "output_type": "stream",
     "text": [
      "Segmentation Completed. \n",
      "total_meal: 26 TP:  5 FP:  2 FN:  1\n",
      "Segmentation Completed. \n",
      "total_meal: 26 TP:  5 FP:  6 FN:  0\n"
     ]
    },
    {
     "name": "stderr",
     "output_type": "stream",
     "text": [
      "100%|██████████| 2/2 [00:00<00:00, 235.28it/s]\n",
      "100%|██████████| 3/3 [00:00<00:00, 260.70it/s]\n"
     ]
    },
    {
     "name": "stdout",
     "output_type": "stream",
     "text": [
      "Segmentation Completed. \n",
      "total_meal: 26 TP:  5 FP:  1 FN:  0\n",
      "  dataset   Ts    Te  TP  FN  FP    TPR  FP/TP\n",
      "0    adam  0.6  0.35  25   1  14  0.962   0.56\n",
      "Segmentation Completed. \n",
      "total_meal: 26 TP:  6 FP:  2 FN:  0\n"
     ]
    },
    {
     "name": "stderr",
     "output_type": "stream",
     "text": [
      "100%|██████████| 3/3 [00:00<00:00, 419.21it/s]\n"
     ]
    },
    {
     "name": "stdout",
     "output_type": "stream",
     "text": [
      "Segmentation Completed. \n",
      "total_meal: 26 TP:  4 FP:  3 FN:  0\n"
     ]
    },
    {
     "name": "stderr",
     "output_type": "stream",
     "text": [
      "100%|██████████| 3/3 [00:00<00:00, 285.83it/s]\n",
      "100%|██████████| 3/3 [00:00<00:00, 313.31it/s]\n"
     ]
    },
    {
     "name": "stdout",
     "output_type": "stream",
     "text": [
      "Segmentation Completed. \n",
      "total_meal: 26 TP:  5 FP:  2 FN:  1\n",
      "Segmentation Completed. \n",
      "total_meal: 26 TP:  5 FP:  6 FN:  0\n"
     ]
    },
    {
     "name": "stderr",
     "output_type": "stream",
     "text": [
      "100%|██████████| 2/2 [00:00<00:00, 215.79it/s]\n",
      "100%|██████████| 3/3 [00:00<00:00, 238.46it/s]\n"
     ]
    },
    {
     "name": "stdout",
     "output_type": "stream",
     "text": [
      "Segmentation Completed. \n",
      "total_meal: 26 TP:  5 FP:  1 FN:  0\n",
      "  dataset   Ts   Te  TP  FN  FP    TPR  FP/TP\n",
      "0    adam  0.6  0.4  25   1  14  0.962   0.56\n",
      "Segmentation Completed. \n",
      "total_meal: 26 TP:  6 FP:  2 FN:  0\n"
     ]
    },
    {
     "name": "stderr",
     "output_type": "stream",
     "text": [
      "100%|██████████| 3/3 [00:00<00:00, 287.56it/s]\n",
      "100%|██████████| 3/3 [00:00<00:00, 266.21it/s]\n"
     ]
    },
    {
     "name": "stdout",
     "output_type": "stream",
     "text": [
      "Segmentation Completed. \n",
      "total_meal: 26 TP:  4 FP:  3 FN:  0\n",
      "Segmentation Completed. \n"
     ]
    },
    {
     "name": "stderr",
     "output_type": "stream",
     "text": [
      "100%|██████████| 3/3 [00:00<00:00, 308.03it/s]\n"
     ]
    },
    {
     "name": "stdout",
     "output_type": "stream",
     "text": [
      "total_meal: 26 TP:  5 FP:  2 FN:  1\n",
      "Segmentation Completed. \n",
      "total_meal: 26 TP:  5 FP:  6 FN:  0\n"
     ]
    },
    {
     "name": "stderr",
     "output_type": "stream",
     "text": [
      "100%|██████████| 2/2 [00:00<00:00, 211.56it/s]\n",
      "100%|██████████| 3/3 [00:00<00:00, 240.40it/s]\n"
     ]
    },
    {
     "name": "stdout",
     "output_type": "stream",
     "text": [
      "Segmentation Completed. \n",
      "total_meal: 26 TP:  5 FP:  1 FN:  0\n",
      "  dataset   Ts    Te  TP  FN  FP    TPR  FP/TP\n",
      "0    adam  0.6  0.45  25   1  14  0.962   0.56\n",
      "Segmentation Completed. \n",
      "total_meal: 26 TP:  6 FP:  1 FN:  0\n"
     ]
    },
    {
     "name": "stderr",
     "output_type": "stream",
     "text": [
      "100%|██████████| 3/3 [00:00<00:00, 379.78it/s]\n",
      "100%|██████████| 3/3 [00:00<00:00, 251.93it/s]\n"
     ]
    },
    {
     "name": "stdout",
     "output_type": "stream",
     "text": [
      "Segmentation Completed. \n",
      "total_meal: 26 TP:  4 FP:  3 FN:  0\n",
      "Segmentation Completed. \n",
      "total_meal: 26 TP:  5 FP:  2 FN:  1\n"
     ]
    },
    {
     "name": "stderr",
     "output_type": "stream",
     "text": [
      "100%|██████████| 3/3 [00:00<00:00, 242.59it/s]\n",
      "100%|██████████| 2/2 [00:00<00:00, 210.80it/s]\n"
     ]
    },
    {
     "name": "stdout",
     "output_type": "stream",
     "text": [
      "Segmentation Completed. \n",
      "total_meal: 26 TP:  4 FP:  5 FN:  1\n",
      "Segmentation Completed. \n"
     ]
    },
    {
     "name": "stderr",
     "output_type": "stream",
     "text": [
      "100%|██████████| 3/3 [00:00<00:00, 232.70it/s]\n"
     ]
    },
    {
     "name": "stdout",
     "output_type": "stream",
     "text": [
      "total_meal: 26 TP:  5 FP:  1 FN:  0\n",
      "  dataset    Ts   Te  TP  FN  FP    TPR  FP/TP\n",
      "0    adam  0.65  0.1  24   2  12  0.923    0.5\n",
      "Segmentation Completed. \n",
      "total_meal: 26 TP:  6 FP:  1 FN:  0\n"
     ]
    },
    {
     "name": "stderr",
     "output_type": "stream",
     "text": [
      "100%|██████████| 3/3 [00:00<00:00, 344.39it/s]\n",
      "100%|██████████| 3/3 [00:00<00:00, 274.50it/s]\n"
     ]
    },
    {
     "name": "stdout",
     "output_type": "stream",
     "text": [
      "Segmentation Completed. \n",
      "total_meal: 26 TP:  4 FP:  3 FN:  0\n",
      "Segmentation Completed. \n",
      "total_meal: 26 TP:  5 FP:  2 FN:  1\n"
     ]
    },
    {
     "name": "stderr",
     "output_type": "stream",
     "text": [
      "100%|██████████| 3/3 [00:00<00:00, 316.58it/s]\n",
      "100%|██████████| 2/2 [00:00<00:00, 194.19it/s]\n"
     ]
    },
    {
     "name": "stdout",
     "output_type": "stream",
     "text": [
      "Segmentation Completed. \n",
      "total_meal: 26 TP:  4 FP:  5 FN:  1\n",
      "Segmentation Completed. \n",
      "total_meal: 26 TP:  5 FP:  1 FN:  0\n",
      "  dataset    Ts    Te  TP  FN  FP    TPR  FP/TP\n",
      "0    adam  0.65  0.15  24   2  12  0.923    0.5\n"
     ]
    },
    {
     "name": "stderr",
     "output_type": "stream",
     "text": [
      "100%|██████████| 3/3 [00:00<00:00, 193.89it/s]\n",
      "100%|██████████| 3/3 [00:00<00:00, 285.46it/s]\n"
     ]
    },
    {
     "name": "stdout",
     "output_type": "stream",
     "text": [
      "Segmentation Completed. \n",
      "total_meal: 26 TP:  6 FP:  1 FN:  0\n",
      "Segmentation Completed. \n"
     ]
    },
    {
     "name": "stderr",
     "output_type": "stream",
     "text": [
      "100%|██████████| 3/3 [00:00<00:00, 269.51it/s]\n"
     ]
    },
    {
     "name": "stdout",
     "output_type": "stream",
     "text": [
      "total_meal: 26 TP:  4 FP:  3 FN:  0\n",
      "Segmentation Completed. \n",
      "total_meal: 26 TP:  5 FP:  2 FN:  1\n"
     ]
    },
    {
     "name": "stderr",
     "output_type": "stream",
     "text": [
      "100%|██████████| 3/3 [00:00<00:00, 284.95it/s]\n",
      "100%|██████████| 2/2 [00:00<00:00, 218.78it/s]\n"
     ]
    },
    {
     "name": "stdout",
     "output_type": "stream",
     "text": [
      "Segmentation Completed. \n",
      "total_meal: 26 TP:  4 FP:  5 FN:  1\n",
      "Segmentation Completed. \n",
      "total_meal: 26 TP:  5 FP:  1 FN:  0\n",
      "  dataset    Ts   Te  TP  FN  FP    TPR  FP/TP\n",
      "0    adam  0.65  0.2  24   2  12  0.923    0.5\n"
     ]
    },
    {
     "name": "stderr",
     "output_type": "stream",
     "text": [
      "100%|██████████| 3/3 [00:00<00:00, 243.41it/s]\n",
      "100%|██████████| 3/3 [00:00<00:00, 342.17it/s]\n"
     ]
    },
    {
     "name": "stdout",
     "output_type": "stream",
     "text": [
      "Segmentation Completed. \n",
      "total_meal: 26 TP:  6 FP:  1 FN:  0\n",
      "Segmentation Completed. \n",
      "total_meal: 26 TP:  4 FP:  3 FN:  0\n"
     ]
    },
    {
     "name": "stderr",
     "output_type": "stream",
     "text": [
      "100%|██████████| 3/3 [00:00<00:00, 218.79it/s]\n",
      "  0%|          | 0/3 [00:00<?, ?it/s]"
     ]
    },
    {
     "name": "stdout",
     "output_type": "stream",
     "text": [
      "Segmentation Completed. \n",
      "total_meal: 26 TP:  5 FP:  2 FN:  1\n"
     ]
    },
    {
     "name": "stderr",
     "output_type": "stream",
     "text": [
      "100%|██████████| 3/3 [00:00<00:00, 237.96it/s]\n",
      "100%|██████████| 2/2 [00:00<00:00, 196.74it/s]\n"
     ]
    },
    {
     "name": "stdout",
     "output_type": "stream",
     "text": [
      "Segmentation Completed. \n",
      "total_meal: 26 TP:  4 FP:  6 FN:  1\n",
      "Segmentation Completed. \n"
     ]
    },
    {
     "name": "stderr",
     "output_type": "stream",
     "text": [
      "100%|██████████| 3/3 [00:00<00:00, 219.46it/s]\n"
     ]
    },
    {
     "name": "stdout",
     "output_type": "stream",
     "text": [
      "total_meal: 26 TP:  5 FP:  1 FN:  0\n",
      "  dataset    Ts    Te  TP  FN  FP    TPR  FP/TP\n",
      "0    adam  0.65  0.25  24   2  13  0.923  0.542\n",
      "Segmentation Completed. \n",
      "total_meal: 26 TP:  6 FP:  1 FN:  0\n"
     ]
    },
    {
     "name": "stderr",
     "output_type": "stream",
     "text": [
      "100%|██████████| 3/3 [00:00<00:00, 383.04it/s]\n",
      "100%|██████████| 3/3 [00:00<00:00, 273.71it/s]\n"
     ]
    },
    {
     "name": "stdout",
     "output_type": "stream",
     "text": [
      "Segmentation Completed. \n",
      "total_meal: 26 TP:  4 FP:  3 FN:  0\n",
      "Segmentation Completed. \n",
      "total_meal: 26 TP:  5 FP:  2 FN:  1\n"
     ]
    },
    {
     "name": "stderr",
     "output_type": "stream",
     "text": [
      "100%|██████████| 3/3 [00:00<00:00, 282.90it/s]\n",
      "100%|██████████| 2/2 [00:00<00:00, 171.83it/s]\n"
     ]
    },
    {
     "name": "stdout",
     "output_type": "stream",
     "text": [
      "Segmentation Completed. \n",
      "total_meal: 26 TP:  4 FP:  6 FN:  1\n",
      "Segmentation Completed. \n"
     ]
    },
    {
     "name": "stderr",
     "output_type": "stream",
     "text": [
      "100%|██████████| 3/3 [00:00<00:00, 192.95it/s]"
     ]
    },
    {
     "name": "stdout",
     "output_type": "stream",
     "text": [
      "total_meal: 26 TP:  5 FP:  1 FN:  0\n",
      "  dataset    Ts   Te  TP  FN  FP    TPR  FP/TP\n",
      "0    adam  0.65  0.3  24   2  13  0.923  0.542\n",
      "Segmentation Completed. \n"
     ]
    },
    {
     "name": "stderr",
     "output_type": "stream",
     "text": [
      "\n",
      "100%|██████████| 3/3 [00:00<00:00, 388.79it/s]\n"
     ]
    },
    {
     "name": "stdout",
     "output_type": "stream",
     "text": [
      "total_meal: 26 TP:  6 FP:  1 FN:  0\n",
      "Segmentation Completed. \n",
      "total_meal: 26 TP:  4 FP:  3 FN:  0\n"
     ]
    },
    {
     "name": "stderr",
     "output_type": "stream",
     "text": [
      "100%|██████████| 3/3 [00:00<00:00, 272.17it/s]\n",
      "100%|██████████| 3/3 [00:00<00:00, 317.16it/s]\n"
     ]
    },
    {
     "name": "stdout",
     "output_type": "stream",
     "text": [
      "Segmentation Completed. \n",
      "total_meal: 26 TP:  5 FP:  2 FN:  1\n",
      "Segmentation Completed. \n",
      "total_meal: 26 TP:  4 FP:  6 FN:  1\n"
     ]
    },
    {
     "name": "stderr",
     "output_type": "stream",
     "text": [
      "100%|██████████| 2/2 [00:00<00:00, 218.61it/s]\n",
      "100%|██████████| 3/3 [00:00<00:00, 235.04it/s]\n"
     ]
    },
    {
     "name": "stdout",
     "output_type": "stream",
     "text": [
      "Segmentation Completed. \n",
      "total_meal: 26 TP:  5 FP:  1 FN:  0\n",
      "  dataset    Ts    Te  TP  FN  FP    TPR  FP/TP\n",
      "0    adam  0.65  0.35  24   2  13  0.923  0.542\n",
      "Segmentation Completed. \n",
      "total_meal: 26 TP:  6 FP:  1 FN:  0\n"
     ]
    },
    {
     "name": "stderr",
     "output_type": "stream",
     "text": [
      "100%|██████████| 3/3 [00:00<00:00, 352.21it/s]\n",
      "  0%|          | 0/3 [00:00<?, ?it/s]"
     ]
    },
    {
     "name": "stdout",
     "output_type": "stream",
     "text": [
      "Segmentation Completed. \n",
      "total_meal: 26 TP:  4 FP:  3 FN:  0\n"
     ]
    },
    {
     "name": "stderr",
     "output_type": "stream",
     "text": [
      "100%|██████████| 3/3 [00:00<00:00, 212.74it/s]\n",
      "100%|██████████| 3/3 [00:00<00:00, 249.76it/s]\n"
     ]
    },
    {
     "name": "stdout",
     "output_type": "stream",
     "text": [
      "Segmentation Completed. \n",
      "total_meal: 26 TP:  5 FP:  2 FN:  1\n",
      "Segmentation Completed. \n"
     ]
    },
    {
     "name": "stderr",
     "output_type": "stream",
     "text": [
      "100%|██████████| 2/2 [00:00<00:00, 212.04it/s]\n"
     ]
    },
    {
     "name": "stdout",
     "output_type": "stream",
     "text": [
      "total_meal: 26 TP:  4 FP:  6 FN:  1\n",
      "Segmentation Completed. \n",
      "total_meal: 26 TP:  5 FP:  1 FN:  0\n",
      "  dataset    Ts   Te  TP  FN  FP    TPR  FP/TP\n",
      "0    adam  0.65  0.4  24   2  13  0.923  0.542\n"
     ]
    },
    {
     "name": "stderr",
     "output_type": "stream",
     "text": [
      "100%|██████████| 3/3 [00:00<00:00, 245.69it/s]\n",
      "100%|██████████| 3/3 [00:00<00:00, 377.91it/s]\n"
     ]
    },
    {
     "name": "stdout",
     "output_type": "stream",
     "text": [
      "Segmentation Completed. \n",
      "total_meal: 26 TP:  6 FP:  1 FN:  0\n",
      "Segmentation Completed. \n",
      "total_meal: 26 TP:  4 FP:  3 FN:  0\n"
     ]
    },
    {
     "name": "stderr",
     "output_type": "stream",
     "text": [
      "100%|██████████| 3/3 [00:00<00:00, 280.79it/s]\n",
      "100%|██████████| 3/3 [00:00<00:00, 298.04it/s]\n"
     ]
    },
    {
     "name": "stdout",
     "output_type": "stream",
     "text": [
      "Segmentation Completed. \n",
      "total_meal: 26 TP:  5 FP:  2 FN:  1\n",
      "Segmentation Completed. \n"
     ]
    },
    {
     "name": "stderr",
     "output_type": "stream",
     "text": [
      "100%|██████████| 2/2 [00:00<00:00, 176.17it/s]\n",
      "  0%|          | 0/3 [00:00<?, ?it/s]"
     ]
    },
    {
     "name": "stdout",
     "output_type": "stream",
     "text": [
      "total_meal: 26 TP:  4 FP:  6 FN:  1\n",
      "Segmentation Completed. \n",
      "total_meal: 26 TP:  5 FP:  1 FN:  0\n",
      "  dataset    Ts    Te  TP  FN  FP    TPR  FP/TP\n",
      "0    adam  0.65  0.45  24   2  13  0.923  0.542\n"
     ]
    },
    {
     "name": "stderr",
     "output_type": "stream",
     "text": [
      "100%|██████████| 3/3 [00:00<00:00, 196.45it/s]\n",
      "100%|██████████| 3/3 [00:00<00:00, 368.69it/s]\n"
     ]
    },
    {
     "name": "stdout",
     "output_type": "stream",
     "text": [
      "Segmentation Completed. \n",
      "total_meal: 26 TP:  6 FP:  1 FN:  0\n",
      "Segmentation Completed. \n",
      "total_meal: 26 TP:  4 FP:  3 FN:  0\n"
     ]
    },
    {
     "name": "stderr",
     "output_type": "stream",
     "text": [
      "100%|██████████| 3/3 [00:00<00:00, 284.84it/s]\n",
      "100%|██████████| 3/3 [00:00<00:00, 315.22it/s]\n"
     ]
    },
    {
     "name": "stdout",
     "output_type": "stream",
     "text": [
      "Segmentation Completed. \n",
      "total_meal: 26 TP:  5 FP:  2 FN:  1\n",
      "Segmentation Completed. \n",
      "total_meal: 26 TP:  4 FP:  5 FN:  1\n"
     ]
    },
    {
     "name": "stderr",
     "output_type": "stream",
     "text": [
      "100%|██████████| 2/2 [00:00<00:00, 219.10it/s]\n",
      "100%|██████████| 3/3 [00:00<00:00, 233.44it/s]\n"
     ]
    },
    {
     "name": "stdout",
     "output_type": "stream",
     "text": [
      "Segmentation Completed. \n",
      "total_meal: 26 TP:  5 FP:  1 FN:  0\n",
      "  dataset   Ts   Te  TP  FN  FP    TPR  FP/TP\n",
      "0    adam  0.7  0.1  24   2  12  0.923    0.5\n",
      "Segmentation Completed. \n"
     ]
    },
    {
     "name": "stderr",
     "output_type": "stream",
     "text": [
      "100%|██████████| 3/3 [00:00<00:00, 277.72it/s]\n"
     ]
    },
    {
     "name": "stdout",
     "output_type": "stream",
     "text": [
      "total_meal: 26 TP:  6 FP:  1 FN:  0\n",
      "Segmentation Completed. \n"
     ]
    },
    {
     "name": "stderr",
     "output_type": "stream",
     "text": [
      "100%|██████████| 3/3 [00:00<00:00, 276.14it/s]\n"
     ]
    },
    {
     "name": "stdout",
     "output_type": "stream",
     "text": [
      "total_meal: 26 TP:  4 FP:  3 FN:  0\n",
      "Segmentation Completed. \n",
      "total_meal: 26 TP:  5 FP:  2 FN:  1\n"
     ]
    },
    {
     "name": "stderr",
     "output_type": "stream",
     "text": [
      "100%|██████████| 3/3 [00:00<00:00, 302.44it/s]\n",
      "100%|██████████| 2/2 [00:00<00:00, 221.82it/s]\n"
     ]
    },
    {
     "name": "stdout",
     "output_type": "stream",
     "text": [
      "Segmentation Completed. \n",
      "total_meal: 26 TP:  4 FP:  5 FN:  1\n",
      "Segmentation Completed. \n",
      "total_meal: 26 TP:  5 FP:  1 FN:  0\n",
      "  dataset   Ts    Te  TP  FN  FP    TPR  FP/TP\n",
      "0    adam  0.7  0.15  24   2  12  0.923    0.5\n"
     ]
    },
    {
     "name": "stderr",
     "output_type": "stream",
     "text": [
      "100%|██████████| 3/3 [00:00<00:00, 240.58it/s]\n",
      "100%|██████████| 3/3 [00:00<00:00, 377.06it/s]\n"
     ]
    },
    {
     "name": "stdout",
     "output_type": "stream",
     "text": [
      "Segmentation Completed. \n",
      "total_meal: 26 TP:  6 FP:  1 FN:  0\n",
      "Segmentation Completed. \n",
      "total_meal: 26 TP:  4 FP:  3 FN:  0\n"
     ]
    },
    {
     "name": "stderr",
     "output_type": "stream",
     "text": [
      "100%|██████████| 3/3 [00:00<00:00, 253.10it/s]\n",
      "100%|██████████| 3/3 [00:00<00:00, 238.23it/s]\n"
     ]
    },
    {
     "name": "stdout",
     "output_type": "stream",
     "text": [
      "Segmentation Completed. \n",
      "total_meal: 26 TP:  5 FP:  2 FN:  1\n",
      "Segmentation Completed. \n"
     ]
    },
    {
     "name": "stderr",
     "output_type": "stream",
     "text": [
      "100%|██████████| 2/2 [00:00<00:00, 213.78it/s]\n"
     ]
    },
    {
     "name": "stdout",
     "output_type": "stream",
     "text": [
      "total_meal: 26 TP:  4 FP:  5 FN:  1\n",
      "Segmentation Completed. \n",
      "total_meal: 26 TP:  5 FP:  1 FN:  0\n",
      "  dataset   Ts   Te  TP  FN  FP    TPR  FP/TP\n",
      "0    adam  0.7  0.2  24   2  12  0.923    0.5\n"
     ]
    },
    {
     "name": "stderr",
     "output_type": "stream",
     "text": [
      "100%|██████████| 3/3 [00:00<00:00, 236.21it/s]\n",
      "100%|██████████| 3/3 [00:00<00:00, 359.88it/s]\n"
     ]
    },
    {
     "name": "stdout",
     "output_type": "stream",
     "text": [
      "Segmentation Completed. \n",
      "total_meal: 26 TP:  6 FP:  1 FN:  0\n",
      "Segmentation Completed. \n",
      "total_meal: 26 TP:  4 FP:  3 FN:  0\n"
     ]
    },
    {
     "name": "stderr",
     "output_type": "stream",
     "text": [
      "100%|██████████| 3/3 [00:00<00:00, 281.77it/s]\n",
      "100%|██████████| 3/3 [00:00<00:00, 314.71it/s]\n"
     ]
    },
    {
     "name": "stdout",
     "output_type": "stream",
     "text": [
      "Segmentation Completed. \n",
      "total_meal: 26 TP:  5 FP:  2 FN:  1\n",
      "Segmentation Completed. \n",
      "total_meal: 26 TP:  4 FP:  6 FN:  1\n"
     ]
    },
    {
     "name": "stderr",
     "output_type": "stream",
     "text": [
      "100%|██████████| 2/2 [00:00<00:00, 206.82it/s]\n",
      "100%|██████████| 3/3 [00:00<00:00, 196.61it/s]"
     ]
    },
    {
     "name": "stdout",
     "output_type": "stream",
     "text": [
      "Segmentation Completed. \n",
      "total_meal: 26 TP:  5 FP:  1 FN:  0\n",
      "  dataset   Ts    Te  TP  FN  FP    TPR  FP/TP\n",
      "0    adam  0.7  0.25  24   2  13  0.923  0.542\n"
     ]
    },
    {
     "name": "stderr",
     "output_type": "stream",
     "text": [
      "\n",
      "100%|██████████| 3/3 [00:00<00:00, 299.27it/s]\n"
     ]
    },
    {
     "name": "stdout",
     "output_type": "stream",
     "text": [
      "Segmentation Completed. \n",
      "total_meal: 26 TP:  6 FP:  1 FN:  0\n",
      "Segmentation Completed. \n"
     ]
    },
    {
     "name": "stderr",
     "output_type": "stream",
     "text": [
      "100%|██████████| 3/3 [00:00<00:00, 273.27it/s]\n"
     ]
    },
    {
     "name": "stdout",
     "output_type": "stream",
     "text": [
      "total_meal: 26 TP:  4 FP:  3 FN:  0\n",
      "Segmentation Completed. \n",
      "total_meal: 26 TP:  5 FP:  2 FN:  1\n"
     ]
    },
    {
     "name": "stderr",
     "output_type": "stream",
     "text": [
      "100%|██████████| 3/3 [00:00<00:00, 294.83it/s]\n"
     ]
    },
    {
     "name": "stdout",
     "output_type": "stream",
     "text": [
      "Segmentation Completed. \n"
     ]
    },
    {
     "name": "stderr",
     "output_type": "stream",
     "text": [
      "100%|██████████| 2/2 [00:00<00:00, 217.41it/s]"
     ]
    },
    {
     "name": "stdout",
     "output_type": "stream",
     "text": [
      "total_meal: 26 TP:  4 FP:  6 FN:  1\n",
      "Segmentation Completed. \n",
      "total_meal: 26 TP:  5 FP:  1 FN:  0\n",
      "  dataset   Ts   Te  TP  FN  FP    TPR  FP/TP\n",
      "0    adam  0.7  0.3  24   2  13  0.923  0.542\n"
     ]
    },
    {
     "name": "stderr",
     "output_type": "stream",
     "text": [
      "\n",
      "100%|██████████| 3/3 [00:00<00:00, 253.04it/s]\n",
      "100%|██████████| 3/3 [00:00<00:00, 418.18it/s]\n"
     ]
    },
    {
     "name": "stdout",
     "output_type": "stream",
     "text": [
      "Segmentation Completed. \n",
      "total_meal: 26 TP:  6 FP:  1 FN:  0\n",
      "Segmentation Completed. \n",
      "total_meal: 26 TP:  4 FP:  3 FN:  0\n"
     ]
    },
    {
     "name": "stderr",
     "output_type": "stream",
     "text": [
      "100%|██████████| 3/3 [00:00<00:00, 303.84it/s]\n",
      "100%|██████████| 3/3 [00:00<00:00, 344.98it/s]\n"
     ]
    },
    {
     "name": "stdout",
     "output_type": "stream",
     "text": [
      "Segmentation Completed. \n",
      "total_meal: 26 TP:  5 FP:  2 FN:  1\n",
      "Segmentation Completed. \n",
      "total_meal: 26 TP:  4 FP:  6 FN:  1\n"
     ]
    },
    {
     "name": "stderr",
     "output_type": "stream",
     "text": [
      "100%|██████████| 2/2 [00:00<00:00, 235.00it/s]\n",
      "100%|██████████| 3/3 [00:00<00:00, 259.68it/s]\n"
     ]
    },
    {
     "name": "stdout",
     "output_type": "stream",
     "text": [
      "Segmentation Completed. \n",
      "total_meal: 26 TP:  5 FP:  1 FN:  0\n",
      "  dataset   Ts    Te  TP  FN  FP    TPR  FP/TP\n",
      "0    adam  0.7  0.35  24   2  13  0.923  0.542\n",
      "Segmentation Completed. \n",
      "total_meal: 26 TP:  6 FP:  1 FN:  0\n"
     ]
    },
    {
     "name": "stderr",
     "output_type": "stream",
     "text": [
      "100%|██████████| 3/3 [00:00<00:00, 404.54it/s]\n",
      "100%|██████████| 3/3 [00:00<00:00, 300.01it/s]\n"
     ]
    },
    {
     "name": "stdout",
     "output_type": "stream",
     "text": [
      "Segmentation Completed. \n",
      "total_meal: 26 TP:  4 FP:  3 FN:  0\n",
      "Segmentation Completed. \n",
      "total_meal: 26 TP:  5 FP:  2 FN:  1\n"
     ]
    },
    {
     "name": "stderr",
     "output_type": "stream",
     "text": [
      "100%|██████████| 3/3 [00:00<00:00, 335.58it/s]\n",
      "100%|██████████| 2/2 [00:00<00:00, 235.56it/s]\n"
     ]
    },
    {
     "name": "stdout",
     "output_type": "stream",
     "text": [
      "Segmentation Completed. \n",
      "total_meal: 26 TP:  4 FP:  6 FN:  1\n",
      "Segmentation Completed. \n",
      "total_meal: 26 TP:  5 FP:  1 FN:  0\n",
      "  dataset   Ts   Te  TP  FN  FP    TPR  FP/TP\n",
      "0    adam  0.7  0.4  24   2  13  0.923  0.542\n"
     ]
    },
    {
     "name": "stderr",
     "output_type": "stream",
     "text": [
      "100%|██████████| 3/3 [00:00<00:00, 252.35it/s]\n",
      "100%|██████████| 3/3 [00:00<00:00, 411.22it/s]\n"
     ]
    },
    {
     "name": "stdout",
     "output_type": "stream",
     "text": [
      "Segmentation Completed. \n",
      "total_meal: 26 TP:  6 FP:  0 FN:  0\n",
      "Segmentation Completed. \n",
      "total_meal: 26 TP:  4 FP:  3 FN:  0\n"
     ]
    },
    {
     "name": "stderr",
     "output_type": "stream",
     "text": [
      "100%|██████████| 3/3 [00:00<00:00, 278.85it/s]\n",
      "100%|██████████| 3/3 [00:00<00:00, 314.56it/s]\n"
     ]
    },
    {
     "name": "stdout",
     "output_type": "stream",
     "text": [
      "Segmentation Completed. \n",
      "total_meal: 26 TP:  5 FP:  2 FN:  1\n",
      "Segmentation Completed. \n",
      "total_meal: 26 TP:  4 FP:  6 FN:  1\n"
     ]
    },
    {
     "name": "stderr",
     "output_type": "stream",
     "text": [
      "100%|██████████| 2/2 [00:00<00:00, 219.57it/s]\n",
      "100%|██████████| 3/3 [00:00<00:00, 192.19it/s]\n"
     ]
    },
    {
     "name": "stdout",
     "output_type": "stream",
     "text": [
      "Segmentation Completed. \n",
      "total_meal: 26 TP:  5 FP:  1 FN:  0\n",
      "  dataset   Ts    Te  TP  FN  FP    TPR  FP/TP\n",
      "0    adam  0.7  0.45  24   2  12  0.923    0.5\n",
      "Segmentation Completed. \n"
     ]
    },
    {
     "name": "stderr",
     "output_type": "stream",
     "text": [
      "100%|██████████| 3/3 [00:00<00:00, 278.45it/s]\n"
     ]
    },
    {
     "name": "stdout",
     "output_type": "stream",
     "text": [
      "total_meal: 26 TP:  6 FP:  0 FN:  0\n",
      "Segmentation Completed. \n"
     ]
    },
    {
     "name": "stderr",
     "output_type": "stream",
     "text": [
      "100%|██████████| 3/3 [00:00<00:00, 287.96it/s]\n"
     ]
    },
    {
     "name": "stdout",
     "output_type": "stream",
     "text": [
      "total_meal: 26 TP:  4 FP:  2 FN:  0\n",
      "Segmentation Completed. \n",
      "total_meal: 26 TP:  5 FP:  1 FN:  1\n"
     ]
    },
    {
     "name": "stderr",
     "output_type": "stream",
     "text": [
      "100%|██████████| 3/3 [00:00<00:00, 299.94it/s]\n",
      "100%|██████████| 2/2 [00:00<00:00, 220.91it/s]\n"
     ]
    },
    {
     "name": "stdout",
     "output_type": "stream",
     "text": [
      "Segmentation Completed. \n",
      "total_meal: 26 TP:  4 FP:  5 FN:  1\n",
      "Segmentation Completed. \n",
      "total_meal: 26 TP:  5 FP:  1 FN:  0\n",
      "  dataset    Ts   Te  TP  FN  FP    TPR  FP/TP\n",
      "0    adam  0.75  0.1  24   2   9  0.923  0.375\n"
     ]
    },
    {
     "name": "stderr",
     "output_type": "stream",
     "text": [
      "100%|██████████| 3/3 [00:00<00:00, 243.92it/s]\n",
      "100%|██████████| 3/3 [00:00<00:00, 365.01it/s]\n"
     ]
    },
    {
     "name": "stdout",
     "output_type": "stream",
     "text": [
      "Segmentation Completed. \n",
      "total_meal: 26 TP:  6 FP:  0 FN:  0\n",
      "Segmentation Completed. \n",
      "total_meal: 26 TP:  4 FP:  2 FN:  0\n"
     ]
    },
    {
     "name": "stderr",
     "output_type": "stream",
     "text": [
      "100%|██████████| 3/3 [00:00<00:00, 264.46it/s]\n",
      "  0%|          | 0/3 [00:00<?, ?it/s]"
     ]
    },
    {
     "name": "stdout",
     "output_type": "stream",
     "text": [
      "Segmentation Completed. \n",
      "total_meal: 26 TP:  5 FP:  1 FN:  1\n"
     ]
    },
    {
     "name": "stderr",
     "output_type": "stream",
     "text": [
      "100%|██████████| 3/3 [00:00<00:00, 229.22it/s]\n",
      "100%|██████████| 2/2 [00:00<00:00, 185.91it/s]\n"
     ]
    },
    {
     "name": "stdout",
     "output_type": "stream",
     "text": [
      "Segmentation Completed. \n",
      "total_meal: 26 TP:  4 FP:  5 FN:  1\n",
      "Segmentation Completed. \n"
     ]
    },
    {
     "name": "stderr",
     "output_type": "stream",
     "text": [
      "100%|██████████| 3/3 [00:00<00:00, 235.93it/s]\n"
     ]
    },
    {
     "name": "stdout",
     "output_type": "stream",
     "text": [
      "total_meal: 26 TP:  5 FP:  1 FN:  0\n",
      "  dataset    Ts    Te  TP  FN  FP    TPR  FP/TP\n",
      "0    adam  0.75  0.15  24   2   9  0.923  0.375\n",
      "Segmentation Completed. \n",
      "total_meal: 26 TP:  6 FP:  0 FN:  0\n"
     ]
    },
    {
     "name": "stderr",
     "output_type": "stream",
     "text": [
      "100%|██████████| 3/3 [00:00<00:00, 387.48it/s]\n",
      "100%|██████████| 3/3 [00:00<00:00, 280.72it/s]\n"
     ]
    },
    {
     "name": "stdout",
     "output_type": "stream",
     "text": [
      "Segmentation Completed. \n",
      "total_meal: 26 TP:  4 FP:  2 FN:  0\n",
      "Segmentation Completed. \n",
      "total_meal: 26 TP:  5 FP:  1 FN:  1\n"
     ]
    },
    {
     "name": "stderr",
     "output_type": "stream",
     "text": [
      "100%|██████████| 3/3 [00:00<00:00, 311.10it/s]\n",
      "100%|██████████| 2/2 [00:00<00:00, 194.89it/s]\n"
     ]
    },
    {
     "name": "stdout",
     "output_type": "stream",
     "text": [
      "Segmentation Completed. \n",
      "total_meal: 26 TP:  4 FP:  5 FN:  1\n",
      "Segmentation Completed. \n",
      "total_meal: 26 TP:  5 FP:  1 FN:  0\n",
      "  dataset    Ts   Te  TP  FN  FP    TPR  FP/TP\n",
      "0    adam  0.75  0.2  24   2   9  0.923  0.375\n"
     ]
    },
    {
     "name": "stderr",
     "output_type": "stream",
     "text": [
      "100%|██████████| 3/3 [00:00<00:00, 187.12it/s]\n",
      "100%|██████████| 3/3 [00:00<00:00, 367.82it/s]\n"
     ]
    },
    {
     "name": "stdout",
     "output_type": "stream",
     "text": [
      "Segmentation Completed. \n",
      "total_meal: 26 TP:  6 FP:  0 FN:  0\n",
      "Segmentation Completed. \n"
     ]
    },
    {
     "name": "stderr",
     "output_type": "stream",
     "text": [
      "100%|██████████| 3/3 [00:00<00:00, 272.56it/s]\n"
     ]
    },
    {
     "name": "stdout",
     "output_type": "stream",
     "text": [
      "total_meal: 26 TP:  4 FP:  2 FN:  0\n",
      "Segmentation Completed. \n",
      "total_meal: 26 TP:  5 FP:  1 FN:  1\n"
     ]
    },
    {
     "name": "stderr",
     "output_type": "stream",
     "text": [
      "100%|██████████| 3/3 [00:00<00:00, 312.79it/s]\n",
      "100%|██████████| 2/2 [00:00<00:00, 219.20it/s]\n"
     ]
    },
    {
     "name": "stdout",
     "output_type": "stream",
     "text": [
      "Segmentation Completed. \n",
      "total_meal: 26 TP:  4 FP:  6 FN:  1\n",
      "Segmentation Completed. \n",
      "total_meal: 26 TP:  5 FP:  1 FN:  0\n",
      "  dataset    Ts    Te  TP  FN  FP    TPR  FP/TP\n",
      "0    adam  0.75  0.25  24   2  10  0.923  0.417\n"
     ]
    },
    {
     "name": "stderr",
     "output_type": "stream",
     "text": [
      "100%|██████████| 3/3 [00:00<00:00, 243.39it/s]\n",
      "100%|██████████| 3/3 [00:00<00:00, 335.80it/s]\n"
     ]
    },
    {
     "name": "stdout",
     "output_type": "stream",
     "text": [
      "Segmentation Completed. \n",
      "total_meal: 26 TP:  6 FP:  0 FN:  0\n",
      "Segmentation Completed. \n",
      "total_meal: 26 TP:  4 FP:  2 FN:  0\n"
     ]
    },
    {
     "name": "stderr",
     "output_type": "stream",
     "text": [
      "100%|██████████| 3/3 [00:00<00:00, 221.55it/s]\n",
      "100%|██████████| 3/3 [00:00<00:00, 306.12it/s]\n"
     ]
    },
    {
     "name": "stdout",
     "output_type": "stream",
     "text": [
      "Segmentation Completed. \n",
      "total_meal: 26 TP:  5 FP:  1 FN:  1\n",
      "Segmentation Completed. \n"
     ]
    },
    {
     "name": "stderr",
     "output_type": "stream",
     "text": [
      "100%|██████████| 2/2 [00:00<00:00, 212.41it/s]\n"
     ]
    },
    {
     "name": "stdout",
     "output_type": "stream",
     "text": [
      "total_meal: 26 TP:  4 FP:  6 FN:  1\n",
      "Segmentation Completed. \n",
      "total_meal: 26 TP:  5 FP:  1 FN:  0\n",
      "  dataset    Ts   Te  TP  FN  FP    TPR  FP/TP\n",
      "0    adam  0.75  0.3  24   2  10  0.923  0.417\n"
     ]
    },
    {
     "name": "stderr",
     "output_type": "stream",
     "text": [
      "100%|██████████| 3/3 [00:00<00:00, 234.90it/s]\n",
      "100%|██████████| 3/3 [00:00<00:00, 383.92it/s]\n"
     ]
    },
    {
     "name": "stdout",
     "output_type": "stream",
     "text": [
      "Segmentation Completed. \n",
      "total_meal: 26 TP:  6 FP:  0 FN:  0\n",
      "Segmentation Completed. \n",
      "total_meal: 26 TP:  4 FP:  2 FN:  0\n"
     ]
    },
    {
     "name": "stderr",
     "output_type": "stream",
     "text": [
      "100%|██████████| 3/3 [00:00<00:00, 280.23it/s]\n",
      "100%|██████████| 3/3 [00:00<00:00, 302.10it/s]\n"
     ]
    },
    {
     "name": "stdout",
     "output_type": "stream",
     "text": [
      "Segmentation Completed. \n",
      "total_meal: 26 TP:  5 FP:  1 FN:  1\n",
      "Segmentation Completed. \n",
      "total_meal: 26 TP:  4 FP:  6 FN:  1\n"
     ]
    },
    {
     "name": "stderr",
     "output_type": "stream",
     "text": [
      "100%|██████████| 2/2 [00:00<00:00, 172.63it/s]\n",
      "  0%|          | 0/3 [00:00<?, ?it/s]"
     ]
    },
    {
     "name": "stdout",
     "output_type": "stream",
     "text": [
      "Segmentation Completed. \n",
      "total_meal: 26 TP:  5 FP:  1 FN:  0\n",
      "  dataset    Ts    Te  TP  FN  FP    TPR  FP/TP\n",
      "0    adam  0.75  0.35  24   2  10  0.923  0.417\n"
     ]
    },
    {
     "name": "stderr",
     "output_type": "stream",
     "text": [
      "100%|██████████| 3/3 [00:00<00:00, 196.20it/s]\n",
      "100%|██████████| 3/3 [00:00<00:00, 367.15it/s]\n"
     ]
    },
    {
     "name": "stdout",
     "output_type": "stream",
     "text": [
      "Segmentation Completed. \n",
      "total_meal: 26 TP:  6 FP:  0 FN:  0\n",
      "Segmentation Completed. \n",
      "total_meal: 26 TP:  4 FP:  2 FN:  0\n"
     ]
    },
    {
     "name": "stderr",
     "output_type": "stream",
     "text": [
      "100%|██████████| 3/3 [00:00<00:00, 256.79it/s]\n",
      "100%|██████████| 3/3 [00:00<00:00, 316.41it/s]\n"
     ]
    },
    {
     "name": "stdout",
     "output_type": "stream",
     "text": [
      "Segmentation Completed. \n",
      "total_meal: 26 TP:  5 FP:  1 FN:  1\n",
      "Segmentation Completed. \n",
      "total_meal: 26 TP:  4 FP:  6 FN:  1\n"
     ]
    },
    {
     "name": "stderr",
     "output_type": "stream",
     "text": [
      "100%|██████████| 2/2 [00:00<00:00, 218.42it/s]\n",
      "100%|██████████| 3/3 [00:00<00:00, 225.49it/s]\n"
     ]
    },
    {
     "name": "stdout",
     "output_type": "stream",
     "text": [
      "Segmentation Completed. \n",
      "total_meal: 26 TP:  5 FP:  1 FN:  0\n",
      "  dataset    Ts   Te  TP  FN  FP    TPR  FP/TP\n",
      "0    adam  0.75  0.4  24   2  10  0.923  0.417\n",
      "Segmentation Completed. \n"
     ]
    },
    {
     "name": "stderr",
     "output_type": "stream",
     "text": [
      "100%|██████████| 3/3 [00:00<00:00, 286.71it/s]\n"
     ]
    },
    {
     "name": "stdout",
     "output_type": "stream",
     "text": [
      "total_meal: 26 TP:  6 FP:  0 FN:  0\n",
      "Segmentation Completed. \n",
      "total_meal: 26 TP:  4 FP:  2 FN:  0\n"
     ]
    },
    {
     "name": "stderr",
     "output_type": "stream",
     "text": [
      "100%|██████████| 3/3 [00:00<00:00, 229.55it/s]\n",
      "100%|██████████| 3/3 [00:00<00:00, 307.91it/s]\n"
     ]
    },
    {
     "name": "stdout",
     "output_type": "stream",
     "text": [
      "Segmentation Completed. \n",
      "total_meal: 26 TP:  5 FP:  1 FN:  1\n",
      "Segmentation Completed. \n",
      "total_meal: 26 TP:  4 FP:  6 FN:  1\n"
     ]
    },
    {
     "name": "stderr",
     "output_type": "stream",
     "text": [
      "100%|██████████| 2/2 [00:00<00:00, 198.62it/s]\n",
      "100%|██████████| 3/3 [00:00<00:00, 240.20it/s]\n"
     ]
    },
    {
     "name": "stdout",
     "output_type": "stream",
     "text": [
      "Segmentation Completed. \n",
      "total_meal: 26 TP:  5 FP:  1 FN:  0\n",
      "  dataset    Ts    Te  TP  FN  FP    TPR  FP/TP\n",
      "0    adam  0.75  0.45  24   2  10  0.923  0.417\n",
      "Segmentation Completed. \n",
      "total_meal: 26 TP:  6 FP:  0 FN:  0\n"
     ]
    },
    {
     "name": "stderr",
     "output_type": "stream",
     "text": [
      "100%|██████████| 3/3 [00:00<00:00, 380.50it/s]\n",
      "100%|██████████| 3/3 [00:00<00:00, 251.78it/s]\n"
     ]
    },
    {
     "name": "stdout",
     "output_type": "stream",
     "text": [
      "Segmentation Completed. \n",
      "total_meal: 26 TP:  4 FP:  2 FN:  0\n",
      "Segmentation Completed. \n",
      "total_meal: 26 TP:  5 FP:  1 FN:  1\n"
     ]
    },
    {
     "name": "stderr",
     "output_type": "stream",
     "text": [
      "100%|██████████| 3/3 [00:00<00:00, 240.15it/s]\n",
      "  0%|          | 0/2 [00:00<?, ?it/s]"
     ]
    },
    {
     "name": "stdout",
     "output_type": "stream",
     "text": [
      "Segmentation Completed. \n",
      "total_meal: 26 TP:  4 FP:  5 FN:  1\n"
     ]
    },
    {
     "name": "stderr",
     "output_type": "stream",
     "text": [
      "100%|██████████| 2/2 [00:00<00:00, 171.53it/s]\n",
      "100%|██████████| 3/3 [00:00<00:00, 236.58it/s]\n"
     ]
    },
    {
     "name": "stdout",
     "output_type": "stream",
     "text": [
      "Segmentation Completed. \n",
      "total_meal: 26 TP:  5 FP:  1 FN:  0\n",
      "  dataset   Ts   Te  TP  FN  FP    TPR  FP/TP\n",
      "0    adam  0.8  0.1  24   2   9  0.923  0.375\n",
      "Segmentation Completed. \n"
     ]
    },
    {
     "name": "stderr",
     "output_type": "stream",
     "text": [
      "100%|██████████| 3/3 [00:00<00:00, 346.72it/s]\n"
     ]
    },
    {
     "name": "stdout",
     "output_type": "stream",
     "text": [
      "total_meal: 26 TP:  6 FP:  0 FN:  0\n",
      "Segmentation Completed. \n",
      "total_meal: 26 TP:  4 FP:  2 FN:  0\n"
     ]
    },
    {
     "name": "stderr",
     "output_type": "stream",
     "text": [
      "100%|██████████| 3/3 [00:00<00:00, 280.61it/s]\n",
      "100%|██████████| 3/3 [00:00<00:00, 309.38it/s]\n"
     ]
    },
    {
     "name": "stdout",
     "output_type": "stream",
     "text": [
      "Segmentation Completed. \n",
      "total_meal: 26 TP:  5 FP:  1 FN:  1\n",
      "Segmentation Completed. \n",
      "total_meal: 26 TP:  4 FP:  5 FN:  1\n"
     ]
    },
    {
     "name": "stderr",
     "output_type": "stream",
     "text": [
      "100%|██████████| 2/2 [00:00<00:00, 196.49it/s]\n",
      "100%|██████████| 3/3 [00:00<00:00, 191.77it/s]\n"
     ]
    },
    {
     "name": "stdout",
     "output_type": "stream",
     "text": [
      "Segmentation Completed. \n",
      "total_meal: 26 TP:  5 FP:  1 FN:  0\n",
      "  dataset   Ts    Te  TP  FN  FP    TPR  FP/TP\n",
      "0    adam  0.8  0.15  24   2   9  0.923  0.375\n",
      "Segmentation Completed. \n"
     ]
    },
    {
     "name": "stderr",
     "output_type": "stream",
     "text": [
      "100%|██████████| 3/3 [00:00<00:00, 279.16it/s]\n"
     ]
    },
    {
     "name": "stdout",
     "output_type": "stream",
     "text": [
      "total_meal: 26 TP:  6 FP:  0 FN:  0\n",
      "Segmentation Completed. \n"
     ]
    },
    {
     "name": "stderr",
     "output_type": "stream",
     "text": [
      "100%|██████████| 3/3 [00:00<00:00, 284.80it/s]\n"
     ]
    },
    {
     "name": "stdout",
     "output_type": "stream",
     "text": [
      "total_meal: 26 TP:  4 FP:  2 FN:  0\n",
      "Segmentation Completed. \n",
      "total_meal: 26 TP:  5 FP:  1 FN:  1\n"
     ]
    },
    {
     "name": "stderr",
     "output_type": "stream",
     "text": [
      "100%|██████████| 3/3 [00:00<00:00, 287.55it/s]\n",
      "100%|██████████| 2/2 [00:00<00:00, 220.08it/s]\n"
     ]
    },
    {
     "name": "stdout",
     "output_type": "stream",
     "text": [
      "Segmentation Completed. \n",
      "total_meal: 26 TP:  4 FP:  5 FN:  1\n",
      "Segmentation Completed. \n",
      "total_meal: 26 TP:  5 FP:  1 FN:  0\n",
      "  dataset   Ts   Te  TP  FN  FP    TPR  FP/TP\n",
      "0    adam  0.8  0.2  24   2   9  0.923  0.375\n"
     ]
    },
    {
     "name": "stderr",
     "output_type": "stream",
     "text": [
      "100%|██████████| 3/3 [00:00<00:00, 243.36it/s]\n",
      "100%|██████████| 3/3 [00:00<00:00, 334.96it/s]\n"
     ]
    },
    {
     "name": "stdout",
     "output_type": "stream",
     "text": [
      "Segmentation Completed. \n",
      "total_meal: 26 TP:  6 FP:  0 FN:  0\n",
      "Segmentation Completed. \n",
      "total_meal: 26 TP:  4 FP:  2 FN:  0\n"
     ]
    },
    {
     "name": "stderr",
     "output_type": "stream",
     "text": [
      "100%|██████████| 3/3 [00:00<00:00, 287.04it/s]\n",
      "100%|██████████| 3/3 [00:00<00:00, 340.56it/s]\n"
     ]
    },
    {
     "name": "stdout",
     "output_type": "stream",
     "text": [
      "Segmentation Completed. \n",
      "total_meal: 26 TP:  5 FP:  1 FN:  1\n",
      "Segmentation Completed. \n",
      "total_meal: 26 TP:  4 FP:  6 FN:  1\n"
     ]
    },
    {
     "name": "stderr",
     "output_type": "stream",
     "text": [
      "100%|██████████| 2/2 [00:00<00:00, 236.66it/s]\n",
      "100%|██████████| 3/3 [00:00<00:00, 259.02it/s]\n"
     ]
    },
    {
     "name": "stdout",
     "output_type": "stream",
     "text": [
      "Segmentation Completed. \n",
      "total_meal: 26 TP:  5 FP:  1 FN:  0\n",
      "  dataset   Ts    Te  TP  FN  FP    TPR  FP/TP\n",
      "0    adam  0.8  0.25  24   2  10  0.923  0.417\n",
      "Segmentation Completed. \n",
      "total_meal: 26 TP:  6 FP:  0 FN:  0\n"
     ]
    },
    {
     "name": "stderr",
     "output_type": "stream",
     "text": [
      "100%|██████████| 3/3 [00:00<00:00, 427.38it/s]\n",
      "100%|██████████| 3/3 [00:00<00:00, 300.76it/s]\n"
     ]
    },
    {
     "name": "stdout",
     "output_type": "stream",
     "text": [
      "Segmentation Completed. \n",
      "total_meal: 26 TP:  4 FP:  2 FN:  0\n",
      "Segmentation Completed. \n",
      "total_meal: 26 TP:  5 FP:  1 FN:  1\n"
     ]
    },
    {
     "name": "stderr",
     "output_type": "stream",
     "text": [
      "100%|██████████| 3/3 [00:00<00:00, 341.94it/s]\n",
      "100%|██████████| 2/2 [00:00<00:00, 237.38it/s]\n"
     ]
    },
    {
     "name": "stdout",
     "output_type": "stream",
     "text": [
      "Segmentation Completed. \n",
      "total_meal: 26 TP:  4 FP:  6 FN:  1\n",
      "Segmentation Completed. \n",
      "total_meal: 26 TP:  5 FP:  1 FN:  0\n",
      "  dataset   Ts   Te  TP  FN  FP    TPR  FP/TP\n",
      "0    adam  0.8  0.3  24   2  10  0.923  0.417\n"
     ]
    },
    {
     "name": "stderr",
     "output_type": "stream",
     "text": [
      "100%|██████████| 3/3 [00:00<00:00, 259.94it/s]\n",
      "100%|██████████| 3/3 [00:00<00:00, 427.67it/s]\n"
     ]
    },
    {
     "name": "stdout",
     "output_type": "stream",
     "text": [
      "Segmentation Completed. \n",
      "total_meal: 26 TP:  6 FP:  0 FN:  0\n",
      "Segmentation Completed. \n",
      "total_meal: 26 TP:  4 FP:  2 FN:  0\n"
     ]
    },
    {
     "name": "stderr",
     "output_type": "stream",
     "text": [
      "100%|██████████| 3/3 [00:00<00:00, 305.84it/s]\n",
      "100%|██████████| 3/3 [00:00<00:00, 330.17it/s]\n"
     ]
    },
    {
     "name": "stdout",
     "output_type": "stream",
     "text": [
      "Segmentation Completed. \n",
      "total_meal: 26 TP:  5 FP:  1 FN:  1\n",
      "Segmentation Completed. \n",
      "total_meal: 26 TP:  4 FP:  6 FN:  1\n"
     ]
    },
    {
     "name": "stderr",
     "output_type": "stream",
     "text": [
      "100%|██████████| 2/2 [00:00<00:00, 231.35it/s]\n",
      "100%|██████████| 3/3 [00:00<00:00, 262.02it/s]\n"
     ]
    },
    {
     "name": "stdout",
     "output_type": "stream",
     "text": [
      "Segmentation Completed. \n",
      "total_meal: 26 TP:  5 FP:  1 FN:  0\n",
      "  dataset   Ts    Te  TP  FN  FP    TPR  FP/TP\n",
      "0    adam  0.8  0.35  24   2  10  0.923  0.417\n",
      "Segmentation Completed. \n",
      "total_meal: 26 TP:  6 FP:  0 FN:  0\n"
     ]
    },
    {
     "name": "stderr",
     "output_type": "stream",
     "text": [
      "100%|██████████| 3/3 [00:00<00:00, 422.70it/s]\n",
      "100%|██████████| 3/3 [00:00<00:00, 249.44it/s]\n"
     ]
    },
    {
     "name": "stdout",
     "output_type": "stream",
     "text": [
      "Segmentation Completed. \n",
      "total_meal: 26 TP:  4 FP:  2 FN:  0\n",
      "Segmentation Completed. \n",
      "total_meal: 26 TP:  5 FP:  1 FN:  1\n"
     ]
    },
    {
     "name": "stderr",
     "output_type": "stream",
     "text": [
      "100%|██████████| 3/3 [00:00<00:00, 244.37it/s]\n",
      "100%|██████████| 2/2 [00:00<00:00, 200.21it/s]\n"
     ]
    },
    {
     "name": "stdout",
     "output_type": "stream",
     "text": [
      "Segmentation Completed. \n",
      "total_meal: 26 TP:  4 FP:  6 FN:  1\n",
      "Segmentation Completed. \n"
     ]
    },
    {
     "name": "stderr",
     "output_type": "stream",
     "text": [
      "100%|██████████| 3/3 [00:00<00:00, 224.63it/s]\n"
     ]
    },
    {
     "name": "stdout",
     "output_type": "stream",
     "text": [
      "total_meal: 26 TP:  5 FP:  1 FN:  0\n",
      "  dataset   Ts   Te  TP  FN  FP    TPR  FP/TP\n",
      "0    adam  0.8  0.4  24   2  10  0.923  0.417\n",
      "Segmentation Completed. \n",
      "total_meal: 26 TP:  6 FP:  0 FN:  0\n"
     ]
    },
    {
     "name": "stderr",
     "output_type": "stream",
     "text": [
      "100%|██████████| 3/3 [00:00<00:00, 391.92it/s]\n",
      "100%|██████████| 3/3 [00:00<00:00, 279.41it/s]\n"
     ]
    },
    {
     "name": "stdout",
     "output_type": "stream",
     "text": [
      "Segmentation Completed. \n",
      "total_meal: 26 TP:  4 FP:  2 FN:  0\n",
      "Segmentation Completed. \n",
      "total_meal: 26 TP:  5 FP:  1 FN:  1\n"
     ]
    },
    {
     "name": "stderr",
     "output_type": "stream",
     "text": [
      "100%|██████████| 3/3 [00:00<00:00, 313.37it/s]\n",
      "100%|██████████| 2/2 [00:00<00:00, 213.85it/s]\n"
     ]
    },
    {
     "name": "stdout",
     "output_type": "stream",
     "text": [
      "Segmentation Completed. \n",
      "total_meal: 26 TP:  4 FP:  6 FN:  1\n",
      "Segmentation Completed. \n",
      "total_meal: 26 TP:  5 FP:  1 FN:  0\n",
      "  dataset   Ts    Te  TP  FN  FP    TPR  FP/TP\n",
      "0    adam  0.8  0.45  24   2  10  0.923  0.417\n"
     ]
    },
    {
     "name": "stderr",
     "output_type": "stream",
     "text": [
      "100%|██████████| 3/3 [00:00<00:00, 249.07it/s]\n",
      "100%|██████████| 3/3 [00:00<00:00, 426.60it/s]\n"
     ]
    },
    {
     "name": "stdout",
     "output_type": "stream",
     "text": [
      "Segmentation Completed. \n",
      "total_meal: 26 TP:  6 FP:  0 FN:  0\n",
      "Segmentation Completed. \n",
      "total_meal: 26 TP:  4 FP:  1 FN:  0\n"
     ]
    },
    {
     "name": "stderr",
     "output_type": "stream",
     "text": [
      "100%|██████████| 3/3 [00:00<00:00, 304.22it/s]\n",
      "100%|██████████| 3/3 [00:00<00:00, 345.33it/s]\n"
     ]
    },
    {
     "name": "stdout",
     "output_type": "stream",
     "text": [
      "Segmentation Completed. \n",
      "total_meal: 26 TP:  5 FP:  1 FN:  1\n",
      "Segmentation Completed. \n",
      "total_meal: 26 TP:  4 FP:  4 FN:  1\n"
     ]
    },
    {
     "name": "stderr",
     "output_type": "stream",
     "text": [
      "100%|██████████| 2/2 [00:00<00:00, 236.47it/s]\n"
     ]
    },
    {
     "name": "stdout",
     "output_type": "stream",
     "text": [
      "Segmentation Completed. \n",
      "total_meal: 26 TP:  5 FP:  1 FN:  0\n",
      "  dataset    Ts   Te  TP  FN  FP    TPR  FP/TP\n",
      "0    adam  0.85  0.1  24   2   7  0.923  0.292\n"
     ]
    },
    {
     "name": "stderr",
     "output_type": "stream",
     "text": [
      "100%|██████████| 3/3 [00:00<00:00, 237.97it/s]\n",
      "100%|██████████| 3/3 [00:00<00:00, 385.92it/s]\n"
     ]
    },
    {
     "name": "stdout",
     "output_type": "stream",
     "text": [
      "Segmentation Completed. \n",
      "total_meal: 26 TP:  6 FP:  0 FN:  0\n",
      "Segmentation Completed. \n",
      "total_meal: 26 TP:  4 FP:  1 FN:  0\n"
     ]
    },
    {
     "name": "stderr",
     "output_type": "stream",
     "text": [
      "100%|██████████| 3/3 [00:00<00:00, 257.67it/s]\n",
      "  0%|          | 0/3 [00:00<?, ?it/s]"
     ]
    },
    {
     "name": "stdout",
     "output_type": "stream",
     "text": [
      "Segmentation Completed. \n",
      "total_meal: 26 TP:  5 FP:  1 FN:  1\n"
     ]
    },
    {
     "name": "stderr",
     "output_type": "stream",
     "text": [
      "100%|██████████| 3/3 [00:00<00:00, 243.02it/s]\n",
      "100%|██████████| 2/2 [00:00<00:00, 207.74it/s]"
     ]
    },
    {
     "name": "stdout",
     "output_type": "stream",
     "text": [
      "Segmentation Completed. \n",
      "total_meal: 26 TP:  4 FP:  4 FN:  1\n"
     ]
    },
    {
     "name": "stderr",
     "output_type": "stream",
     "text": [
      "\n",
      "100%|██████████| 3/3 [00:00<00:00, 234.59it/s]\n"
     ]
    },
    {
     "name": "stdout",
     "output_type": "stream",
     "text": [
      "Segmentation Completed. \n",
      "total_meal: 26 TP:  5 FP:  1 FN:  0\n",
      "  dataset    Ts    Te  TP  FN  FP    TPR  FP/TP\n",
      "0    adam  0.85  0.15  24   2   7  0.923  0.292\n",
      "Segmentation Completed. \n"
     ]
    },
    {
     "name": "stderr",
     "output_type": "stream",
     "text": [
      "100%|██████████| 3/3 [00:00<00:00, 385.96it/s]\n"
     ]
    },
    {
     "name": "stdout",
     "output_type": "stream",
     "text": [
      "total_meal: 26 TP:  6 FP:  0 FN:  0\n",
      "Segmentation Completed. \n",
      "total_meal: 26 TP:  4 FP:  1 FN:  0\n"
     ]
    },
    {
     "name": "stderr",
     "output_type": "stream",
     "text": [
      "100%|██████████| 3/3 [00:00<00:00, 275.20it/s]\n",
      "100%|██████████| 3/3 [00:00<00:00, 310.90it/s]\n"
     ]
    },
    {
     "name": "stdout",
     "output_type": "stream",
     "text": [
      "Segmentation Completed. \n",
      "total_meal: 26 TP:  5 FP:  1 FN:  1\n",
      "Segmentation Completed. \n",
      "total_meal: 26 TP:  4 FP:  4 FN:  1\n"
     ]
    },
    {
     "name": "stderr",
     "output_type": "stream",
     "text": [
      "100%|██████████| 2/2 [00:00<00:00, 201.78it/s]\n"
     ]
    },
    {
     "name": "stdout",
     "output_type": "stream",
     "text": [
      "Segmentation Completed. \n",
      "total_meal: 26 TP:  5 FP:  1 FN:  0\n",
      "  dataset    Ts   Te  TP  FN  FP    TPR  FP/TP\n",
      "0    adam  0.85  0.2  24   2   7  0.923  0.292\n"
     ]
    },
    {
     "name": "stderr",
     "output_type": "stream",
     "text": [
      "100%|██████████| 3/3 [00:00<00:00, 190.63it/s]\n",
      "100%|██████████| 3/3 [00:00<00:00, 351.11it/s]\n"
     ]
    },
    {
     "name": "stdout",
     "output_type": "stream",
     "text": [
      "Segmentation Completed. \n",
      "total_meal: 26 TP:  6 FP:  0 FN:  0\n",
      "Segmentation Completed. \n"
     ]
    },
    {
     "name": "stderr",
     "output_type": "stream",
     "text": [
      "100%|██████████| 3/3 [00:00<00:00, 269.26it/s]\n"
     ]
    },
    {
     "name": "stdout",
     "output_type": "stream",
     "text": [
      "total_meal: 26 TP:  4 FP:  1 FN:  0\n",
      "Segmentation Completed. \n",
      "total_meal: 26 TP:  5 FP:  1 FN:  1\n"
     ]
    },
    {
     "name": "stderr",
     "output_type": "stream",
     "text": [
      "100%|██████████| 3/3 [00:00<00:00, 320.73it/s]\n",
      "100%|██████████| 2/2 [00:00<00:00, 216.75it/s]\n"
     ]
    },
    {
     "name": "stdout",
     "output_type": "stream",
     "text": [
      "Segmentation Completed. \n",
      "total_meal: 26 TP:  4 FP:  5 FN:  1\n",
      "Segmentation Completed. \n",
      "total_meal: 26 TP:  5 FP:  1 FN:  0\n",
      "  dataset    Ts    Te  TP  FN  FP    TPR  FP/TP\n",
      "0    adam  0.85  0.25  24   2   8  0.923  0.333\n"
     ]
    },
    {
     "name": "stderr",
     "output_type": "stream",
     "text": [
      "100%|██████████| 3/3 [00:00<00:00, 237.25it/s]\n",
      "100%|██████████| 3/3 [00:00<00:00, 382.62it/s]\n"
     ]
    },
    {
     "name": "stdout",
     "output_type": "stream",
     "text": [
      "Segmentation Completed. \n",
      "total_meal: 26 TP:  6 FP:  0 FN:  0\n",
      "Segmentation Completed. \n",
      "total_meal: 26 TP:  4 FP:  1 FN:  0\n"
     ]
    },
    {
     "name": "stderr",
     "output_type": "stream",
     "text": [
      "100%|██████████| 3/3 [00:00<00:00, 296.36it/s]\n",
      "100%|██████████| 3/3 [00:00<00:00, 339.48it/s]\n"
     ]
    },
    {
     "name": "stdout",
     "output_type": "stream",
     "text": [
      "Segmentation Completed. \n",
      "total_meal: 26 TP:  5 FP:  1 FN:  1\n",
      "Segmentation Completed. \n",
      "total_meal: 26 TP:  4 FP:  5 FN:  1\n"
     ]
    },
    {
     "name": "stderr",
     "output_type": "stream",
     "text": [
      "100%|██████████| 2/2 [00:00<00:00, 234.57it/s]\n",
      "100%|██████████| 3/3 [00:00<00:00, 258.78it/s]\n"
     ]
    },
    {
     "name": "stdout",
     "output_type": "stream",
     "text": [
      "Segmentation Completed. \n",
      "total_meal: 26 TP:  5 FP:  1 FN:  0\n",
      "  dataset    Ts   Te  TP  FN  FP    TPR  FP/TP\n",
      "0    adam  0.85  0.3  24   2   8  0.923  0.333\n",
      "Segmentation Completed. \n",
      "total_meal: 26 TP:  6 FP:  0 FN:  0\n"
     ]
    },
    {
     "name": "stderr",
     "output_type": "stream",
     "text": [
      "100%|██████████| 3/3 [00:00<00:00, 418.37it/s]\n",
      "100%|██████████| 3/3 [00:00<00:00, 303.63it/s]\n"
     ]
    },
    {
     "name": "stdout",
     "output_type": "stream",
     "text": [
      "Segmentation Completed. \n",
      "total_meal: 26 TP:  4 FP:  1 FN:  0\n",
      "Segmentation Completed. \n",
      "total_meal: 26 TP:  5 FP:  1 FN:  1\n"
     ]
    },
    {
     "name": "stderr",
     "output_type": "stream",
     "text": [
      "100%|██████████| 3/3 [00:00<00:00, 343.64it/s]\n",
      "100%|██████████| 2/2 [00:00<00:00, 235.36it/s]\n"
     ]
    },
    {
     "name": "stdout",
     "output_type": "stream",
     "text": [
      "Segmentation Completed. \n",
      "total_meal: 26 TP:  4 FP:  5 FN:  1\n",
      "Segmentation Completed. \n",
      "total_meal: 26 TP:  5 FP:  1 FN:  0\n",
      "  dataset    Ts    Te  TP  FN  FP    TPR  FP/TP\n",
      "0    adam  0.85  0.35  24   2   8  0.923  0.333\n"
     ]
    },
    {
     "name": "stderr",
     "output_type": "stream",
     "text": [
      "100%|██████████| 3/3 [00:00<00:00, 259.70it/s]\n",
      "100%|██████████| 3/3 [00:00<00:00, 425.10it/s]\n"
     ]
    },
    {
     "name": "stdout",
     "output_type": "stream",
     "text": [
      "Segmentation Completed. \n",
      "total_meal: 26 TP:  6 FP:  0 FN:  0\n",
      "Segmentation Completed. \n",
      "total_meal: 26 TP:  4 FP:  1 FN:  0\n"
     ]
    },
    {
     "name": "stderr",
     "output_type": "stream",
     "text": [
      "100%|██████████| 3/3 [00:00<00:00, 305.09it/s]\n",
      "100%|██████████| 3/3 [00:00<00:00, 345.20it/s]\n"
     ]
    },
    {
     "name": "stdout",
     "output_type": "stream",
     "text": [
      "Segmentation Completed. \n",
      "total_meal: 26 TP:  5 FP:  1 FN:  1\n",
      "Segmentation Completed. \n",
      "total_meal: 26 TP:  4 FP:  5 FN:  1\n"
     ]
    },
    {
     "name": "stderr",
     "output_type": "stream",
     "text": [
      "100%|██████████| 2/2 [00:00<00:00, 215.82it/s]\n",
      "100%|██████████| 3/3 [00:00<00:00, 238.46it/s]\n"
     ]
    },
    {
     "name": "stdout",
     "output_type": "stream",
     "text": [
      "Segmentation Completed. \n",
      "total_meal: 26 TP:  5 FP:  1 FN:  0\n",
      "  dataset    Ts   Te  TP  FN  FP    TPR  FP/TP\n",
      "0    adam  0.85  0.4  24   2   8  0.923  0.333\n",
      "Segmentation Completed. \n",
      "total_meal: 26 TP:  6 FP:  0 FN:  0\n"
     ]
    },
    {
     "name": "stderr",
     "output_type": "stream",
     "text": [
      "100%|██████████| 3/3 [00:00<00:00, 363.21it/s]\n",
      "  0%|          | 0/3 [00:00<?, ?it/s]"
     ]
    },
    {
     "name": "stdout",
     "output_type": "stream",
     "text": [
      "Segmentation Completed. \n",
      "total_meal: 26 TP:  4 FP:  1 FN:  0\n"
     ]
    },
    {
     "name": "stderr",
     "output_type": "stream",
     "text": [
      "100%|██████████| 3/3 [00:00<00:00, 206.03it/s]\n",
      "100%|██████████| 3/3 [00:00<00:00, 243.52it/s]\n"
     ]
    },
    {
     "name": "stdout",
     "output_type": "stream",
     "text": [
      "Segmentation Completed. \n",
      "total_meal: 26 TP:  5 FP:  1 FN:  1\n",
      "Segmentation Completed. \n"
     ]
    },
    {
     "name": "stderr",
     "output_type": "stream",
     "text": [
      "100%|██████████| 2/2 [00:00<00:00, 211.76it/s]\n"
     ]
    },
    {
     "name": "stdout",
     "output_type": "stream",
     "text": [
      "total_meal: 26 TP:  4 FP:  5 FN:  1\n",
      "Segmentation Completed. \n",
      "total_meal: 26 TP:  5 FP:  1 FN:  0\n",
      "  dataset    Ts    Te  TP  FN  FP    TPR  FP/TP\n",
      "0    adam  0.85  0.45  24   2   8  0.923  0.333\n"
     ]
    },
    {
     "name": "stderr",
     "output_type": "stream",
     "text": [
      "100%|██████████| 5/5 [00:00<00:00, 288.47it/s]\n",
      "100%|██████████| 5/5 [00:00<00:00, 238.25it/s]\n"
     ]
    },
    {
     "name": "stdout",
     "output_type": "stream",
     "text": [
      "Segmentation Completed. \n",
      "total_meal: 60 TP:  9 FP:  22 FN:  4\n",
      "Segmentation Completed. \n"
     ]
    },
    {
     "name": "stderr",
     "output_type": "stream",
     "text": [
      "100%|██████████| 5/5 [00:00<00:00, 389.37it/s]\n"
     ]
    },
    {
     "name": "stdout",
     "output_type": "stream",
     "text": [
      "total_meal: 60 TP:  9 FP:  29 FN:  4\n",
      "Segmentation Completed. \n"
     ]
    },
    {
     "name": "stderr",
     "output_type": "stream",
     "text": [
      "100%|██████████| 4/4 [00:00<00:00, 256.74it/s]"
     ]
    },
    {
     "name": "stdout",
     "output_type": "stream",
     "text": [
      "total_meal: 60 TP:  7 FP:  10 FN:  3\n",
      "Segmentation Completed. \n"
     ]
    },
    {
     "name": "stderr",
     "output_type": "stream",
     "text": [
      "\n",
      "100%|██████████| 4/4 [00:00<00:00, 424.92it/s]"
     ]
    },
    {
     "name": "stdout",
     "output_type": "stream",
     "text": [
      "total_meal: 60 TP:  13 FP:  10 FN:  0\n",
      "Segmentation Completed. \n"
     ]
    },
    {
     "name": "stderr",
     "output_type": "stream",
     "text": [
      "\n",
      "100%|██████████| 5/5 [00:00<00:00, 288.35it/s]"
     ]
    },
    {
     "name": "stdout",
     "output_type": "stream",
     "text": [
      "total_meal: 60 TP:  9 FP:  11 FN:  2\n",
      "  dataset   Ts   Te  TP  FN  FP    TPR  FP/TP\n",
      "0  lawler  0.5  0.1  47  13  82  0.783  1.745\n",
      "Segmentation Completed. \n"
     ]
    },
    {
     "name": "stderr",
     "output_type": "stream",
     "text": [
      "\n",
      "100%|██████████| 5/5 [00:00<00:00, 238.48it/s]\n",
      "100%|██████████| 5/5 [00:00<00:00, 355.53it/s]\n"
     ]
    },
    {
     "name": "stdout",
     "output_type": "stream",
     "text": [
      "total_meal: 60 TP:  9 FP:  22 FN:  4\n",
      "Segmentation Completed. \n",
      "total_meal: 60 TP:  9 FP:  29 FN:  4\n",
      "Segmentation Completed. \n"
     ]
    },
    {
     "name": "stderr",
     "output_type": "stream",
     "text": [
      "100%|██████████| 4/4 [00:00<00:00, 248.91it/s]"
     ]
    },
    {
     "name": "stdout",
     "output_type": "stream",
     "text": [
      "total_meal: 60 TP:  8 FP:  10 FN:  2\n",
      "Segmentation Completed. \n"
     ]
    },
    {
     "name": "stderr",
     "output_type": "stream",
     "text": [
      "\n",
      "100%|██████████| 4/4 [00:00<00:00, 297.94it/s]"
     ]
    },
    {
     "name": "stdout",
     "output_type": "stream",
     "text": [
      "total_meal: 60 TP:  13 FP:  14 FN:  0\n",
      "Segmentation Completed. \n"
     ]
    },
    {
     "name": "stderr",
     "output_type": "stream",
     "text": [
      "\n",
      "100%|██████████| 5/5 [00:00<00:00, 268.50it/s]\n"
     ]
    },
    {
     "name": "stdout",
     "output_type": "stream",
     "text": [
      "total_meal: 60 TP:  9 FP:  11 FN:  2\n",
      "  dataset   Ts    Te  TP  FN  FP  TPR  FP/TP\n",
      "0  lawler  0.5  0.15  48  12  86  0.8  1.792\n",
      "Segmentation Completed. \n"
     ]
    },
    {
     "name": "stderr",
     "output_type": "stream",
     "text": [
      "100%|██████████| 5/5 [00:00<00:00, 236.90it/s]\n"
     ]
    },
    {
     "name": "stdout",
     "output_type": "stream",
     "text": [
      "total_meal: 60 TP:  9 FP:  24 FN:  4\n",
      "Segmentation Completed. \n"
     ]
    },
    {
     "name": "stderr",
     "output_type": "stream",
     "text": [
      "100%|██████████| 5/5 [00:00<00:00, 411.14it/s]\n"
     ]
    },
    {
     "name": "stdout",
     "output_type": "stream",
     "text": [
      "total_meal: 60 TP:  9 FP:  30 FN:  4\n",
      "Segmentation Completed. \n",
      "total_meal: 60 TP:  8 FP:  10 FN:  2\n"
     ]
    },
    {
     "name": "stderr",
     "output_type": "stream",
     "text": [
      "100%|██████████| 4/4 [00:00<00:00, 270.14it/s]\n"
     ]
    },
    {
     "name": "stdout",
     "output_type": "stream",
     "text": [
      "Segmentation Completed. \n",
      "total_meal: 60 TP:  13 FP:  15 FN:  0\n"
     ]
    },
    {
     "name": "stderr",
     "output_type": "stream",
     "text": [
      "100%|██████████| 4/4 [00:00<00:00, 305.86it/s]\n",
      "  0%|          | 0/5 [00:00<?, ?it/s]"
     ]
    },
    {
     "name": "stdout",
     "output_type": "stream",
     "text": [
      "Segmentation Completed. \n",
      "total_meal: 60 TP:  9 FP:  11 FN:  2\n",
      "  dataset   Ts   Te  TP  FN  FP  TPR  FP/TP\n",
      "0  lawler  0.5  0.2  48  12  90  0.8  1.875\n"
     ]
    },
    {
     "name": "stderr",
     "output_type": "stream",
     "text": [
      "100%|██████████| 5/5 [00:00<00:00, 282.43it/s]\n",
      "  0%|          | 0/5 [00:00<?, ?it/s]"
     ]
    },
    {
     "name": "stdout",
     "output_type": "stream",
     "text": [
      "Segmentation Completed. \n",
      "total_meal: 60 TP:  9 FP:  23 FN:  4\n"
     ]
    },
    {
     "name": "stderr",
     "output_type": "stream",
     "text": [
      "100%|██████████| 5/5 [00:00<00:00, 235.85it/s]\n",
      "100%|██████████| 5/5 [00:00<00:00, 415.31it/s]\n"
     ]
    },
    {
     "name": "stdout",
     "output_type": "stream",
     "text": [
      "Segmentation Completed. \n",
      "total_meal: 60 TP:  9 FP:  29 FN:  4\n",
      "Segmentation Completed. \n"
     ]
    },
    {
     "name": "stderr",
     "output_type": "stream",
     "text": [
      "100%|██████████| 4/4 [00:00<00:00, 302.26it/s]\n"
     ]
    },
    {
     "name": "stdout",
     "output_type": "stream",
     "text": [
      "total_meal: 60 TP:  9 FP:  10 FN:  1\n",
      "Segmentation Completed. \n",
      "total_meal: 60 TP:  13 FP:  15 FN:  0\n"
     ]
    },
    {
     "name": "stderr",
     "output_type": "stream",
     "text": [
      "100%|██████████| 4/4 [00:00<00:00, 308.72it/s]\n"
     ]
    },
    {
     "name": "stdout",
     "output_type": "stream",
     "text": [
      "Segmentation Completed. \n",
      "total_meal: 60 TP:  9 FP:  13 FN:  2\n",
      "  dataset   Ts    Te  TP  FN  FP    TPR  FP/TP\n",
      "0  lawler  0.5  0.25  49  11  90  0.817  1.837\n"
     ]
    },
    {
     "name": "stderr",
     "output_type": "stream",
     "text": [
      "100%|██████████| 5/5 [00:00<00:00, 221.04it/s]\n",
      "  0%|          | 0/5 [00:00<?, ?it/s]"
     ]
    },
    {
     "name": "stdout",
     "output_type": "stream",
     "text": [
      "Segmentation Completed. \n",
      "total_meal: 60 TP:  9 FP:  22 FN:  4\n"
     ]
    },
    {
     "name": "stderr",
     "output_type": "stream",
     "text": [
      "100%|██████████| 5/5 [00:00<00:00, 213.38it/s]\n",
      "100%|██████████| 5/5 [00:00<00:00, 409.25it/s]\n"
     ]
    },
    {
     "name": "stdout",
     "output_type": "stream",
     "text": [
      "Segmentation Completed. \n",
      "total_meal: 60 TP:  9 FP:  29 FN:  4\n",
      "Segmentation Completed. \n"
     ]
    },
    {
     "name": "stderr",
     "output_type": "stream",
     "text": [
      "100%|██████████| 4/4 [00:00<00:00, 339.76it/s]\n"
     ]
    },
    {
     "name": "stdout",
     "output_type": "stream",
     "text": [
      "total_meal: 60 TP:  9 FP:  10 FN:  1\n",
      "Segmentation Completed. \n",
      "total_meal: 60 TP:  13 FP:  15 FN:  0\n"
     ]
    },
    {
     "name": "stderr",
     "output_type": "stream",
     "text": [
      "100%|██████████| 4/4 [00:00<00:00, 392.00it/s]\n"
     ]
    },
    {
     "name": "stdout",
     "output_type": "stream",
     "text": [
      "Segmentation Completed. \n",
      "total_meal: 60 TP:  9 FP:  13 FN:  2\n",
      "  dataset   Ts   Te  TP  FN  FP    TPR  FP/TP\n",
      "0  lawler  0.5  0.3  49  11  89  0.817  1.816\n"
     ]
    },
    {
     "name": "stderr",
     "output_type": "stream",
     "text": [
      "100%|██████████| 5/5 [00:00<00:00, 219.06it/s]\n",
      "  0%|          | 0/5 [00:00<?, ?it/s]"
     ]
    },
    {
     "name": "stdout",
     "output_type": "stream",
     "text": [
      "Segmentation Completed. \n",
      "total_meal: 60 TP:  9 FP:  22 FN:  4\n"
     ]
    },
    {
     "name": "stderr",
     "output_type": "stream",
     "text": [
      "100%|██████████| 5/5 [00:00<00:00, 228.81it/s]\n",
      "100%|██████████| 5/5 [00:00<00:00, 416.81it/s]"
     ]
    },
    {
     "name": "stdout",
     "output_type": "stream",
     "text": [
      "Segmentation Completed. \n",
      "total_meal: 60 TP:  9 FP:  29 FN:  4\n"
     ]
    },
    {
     "name": "stderr",
     "output_type": "stream",
     "text": [
      "\n",
      "100%|██████████| 4/4 [00:00<00:00, 343.25it/s]\n"
     ]
    },
    {
     "name": "stdout",
     "output_type": "stream",
     "text": [
      "Segmentation Completed. \n",
      "total_meal: 60 TP:  9 FP:  10 FN:  1\n",
      "Segmentation Completed. \n",
      "total_meal: 60 TP:  13 FP:  15 FN:  0\n"
     ]
    },
    {
     "name": "stderr",
     "output_type": "stream",
     "text": [
      "100%|██████████| 4/4 [00:00<00:00, 360.11it/s]\n",
      "100%|██████████| 5/5 [00:00<00:00, 305.52it/s]\n"
     ]
    },
    {
     "name": "stdout",
     "output_type": "stream",
     "text": [
      "Segmentation Completed. \n",
      "total_meal: 60 TP:  9 FP:  13 FN:  2\n",
      "  dataset   Ts    Te  TP  FN  FP    TPR  FP/TP\n",
      "0  lawler  0.5  0.35  49  11  89  0.817  1.816\n",
      "Segmentation Completed. \n"
     ]
    },
    {
     "name": "stderr",
     "output_type": "stream",
     "text": [
      "100%|██████████| 5/5 [00:00<00:00, 251.51it/s]\n"
     ]
    },
    {
     "name": "stdout",
     "output_type": "stream",
     "text": [
      "total_meal: 60 TP:  9 FP:  20 FN:  4\n",
      "Segmentation Completed. \n",
      "total_meal: 60 TP:  9 FP:  29 FN:  4\n"
     ]
    },
    {
     "name": "stderr",
     "output_type": "stream",
     "text": [
      "100%|██████████| 5/5 [00:00<00:00, 448.87it/s]\n",
      "100%|██████████| 4/4 [00:00<00:00, 375.27it/s]\n"
     ]
    },
    {
     "name": "stdout",
     "output_type": "stream",
     "text": [
      "Segmentation Completed. \n",
      "total_meal: 60 TP:  9 FP:  10 FN:  1\n",
      "Segmentation Completed. \n"
     ]
    },
    {
     "name": "stderr",
     "output_type": "stream",
     "text": [
      "100%|██████████| 4/4 [00:00<00:00, 503.38it/s]\n"
     ]
    },
    {
     "name": "stdout",
     "output_type": "stream",
     "text": [
      "total_meal: 60 TP:  13 FP:  13 FN:  0\n",
      "Segmentation Completed. \n",
      "total_meal: 60 TP:  9 FP:  13 FN:  2\n",
      "  dataset   Ts   Te  TP  FN  FP    TPR  FP/TP\n",
      "0  lawler  0.5  0.4  49  11  85  0.817  1.735\n"
     ]
    },
    {
     "name": "stderr",
     "output_type": "stream",
     "text": [
      "100%|██████████| 5/5 [00:00<00:00, 316.87it/s]\n"
     ]
    },
    {
     "name": "stdout",
     "output_type": "stream",
     "text": [
      "Segmentation Completed. \n",
      "total_meal: 60 TP:  9 FP:  20 FN:  4\n"
     ]
    },
    {
     "name": "stderr",
     "output_type": "stream",
     "text": [
      "100%|██████████| 5/5 [00:00<00:00, 184.80it/s]\n"
     ]
    },
    {
     "name": "stdout",
     "output_type": "stream",
     "text": [
      "Segmentation Completed. \n",
      "total_meal: 60 TP:  9 FP:  29 FN:  4\n"
     ]
    },
    {
     "name": "stderr",
     "output_type": "stream",
     "text": [
      "100%|██████████| 5/5 [00:00<00:00, 318.24it/s]\n",
      "100%|██████████| 4/4 [00:00<00:00, 304.80it/s]\n"
     ]
    },
    {
     "name": "stdout",
     "output_type": "stream",
     "text": [
      "Segmentation Completed. \n",
      "total_meal: 60 TP:  9 FP:  10 FN:  1\n",
      "Segmentation Completed. \n"
     ]
    },
    {
     "name": "stderr",
     "output_type": "stream",
     "text": [
      "100%|██████████| 4/4 [00:00<00:00, 446.93it/s]\n"
     ]
    },
    {
     "name": "stdout",
     "output_type": "stream",
     "text": [
      "total_meal: 60 TP:  13 FP:  13 FN:  0\n",
      "Segmentation Completed. \n",
      "total_meal: 60 TP:  9 FP:  14 FN:  2\n",
      "  dataset   Ts    Te  TP  FN  FP    TPR  FP/TP\n",
      "0  lawler  0.5  0.45  49  11  86  0.817  1.755\n"
     ]
    },
    {
     "name": "stderr",
     "output_type": "stream",
     "text": [
      "100%|██████████| 5/5 [00:00<00:00, 291.50it/s]\n",
      "  0%|          | 0/5 [00:00<?, ?it/s]"
     ]
    },
    {
     "name": "stdout",
     "output_type": "stream",
     "text": [
      "Segmentation Completed. \n",
      "total_meal: 60 TP:  9 FP:  22 FN:  4\n"
     ]
    },
    {
     "name": "stderr",
     "output_type": "stream",
     "text": [
      "100%|██████████| 5/5 [00:00<00:00, 242.44it/s]\n",
      "100%|██████████| 5/5 [00:00<00:00, 460.26it/s]\n"
     ]
    },
    {
     "name": "stdout",
     "output_type": "stream",
     "text": [
      "Segmentation Completed. \n",
      "total_meal: 60 TP:  9 FP:  31 FN:  4\n",
      "Segmentation Completed. \n"
     ]
    },
    {
     "name": "stderr",
     "output_type": "stream",
     "text": [
      "100%|██████████| 4/4 [00:00<00:00, 381.52it/s]\n"
     ]
    },
    {
     "name": "stdout",
     "output_type": "stream",
     "text": [
      "total_meal: 60 TP:  7 FP:  10 FN:  3\n",
      "Segmentation Completed. \n",
      "total_meal: 60 TP:  13 FP:  9 FN:  0\n"
     ]
    },
    {
     "name": "stderr",
     "output_type": "stream",
     "text": [
      "100%|██████████| 4/4 [00:00<00:00, 505.51it/s]\n",
      "100%|██████████| 5/5 [00:00<00:00, 320.33it/s]\n"
     ]
    },
    {
     "name": "stdout",
     "output_type": "stream",
     "text": [
      "Segmentation Completed. \n",
      "total_meal: 60 TP:  9 FP:  11 FN:  2\n",
      "  dataset    Ts   Te  TP  FN  FP    TPR  FP/TP\n",
      "0  lawler  0.55  0.1  47  13  83  0.783  1.766\n",
      "Segmentation Completed. \n"
     ]
    },
    {
     "name": "stderr",
     "output_type": "stream",
     "text": [
      "100%|██████████| 5/5 [00:00<00:00, 255.39it/s]\n"
     ]
    },
    {
     "name": "stdout",
     "output_type": "stream",
     "text": [
      "total_meal: 60 TP:  9 FP:  22 FN:  4\n",
      "Segmentation Completed. \n",
      "total_meal: 60 TP:  9 FP:  31 FN:  4\n"
     ]
    },
    {
     "name": "stderr",
     "output_type": "stream",
     "text": [
      "100%|██████████| 5/5 [00:00<00:00, 456.58it/s]\n",
      "100%|██████████| 4/4 [00:00<00:00, 371.17it/s]\n"
     ]
    },
    {
     "name": "stdout",
     "output_type": "stream",
     "text": [
      "Segmentation Completed. \n",
      "total_meal: 60 TP:  8 FP:  10 FN:  2\n",
      "Segmentation Completed. \n"
     ]
    },
    {
     "name": "stderr",
     "output_type": "stream",
     "text": [
      "100%|██████████| 4/4 [00:00<00:00, 496.25it/s]\n"
     ]
    },
    {
     "name": "stdout",
     "output_type": "stream",
     "text": [
      "total_meal: 60 TP:  13 FP:  13 FN:  0\n",
      "Segmentation Completed. \n",
      "total_meal: 60 TP:  9 FP:  12 FN:  2\n",
      "  dataset    Ts    Te  TP  FN  FP  TPR  FP/TP\n",
      "0  lawler  0.55  0.15  48  12  88  0.8  1.833\n"
     ]
    },
    {
     "name": "stderr",
     "output_type": "stream",
     "text": [
      "100%|██████████| 5/5 [00:00<00:00, 317.65it/s]\n",
      "100%|██████████| 5/5 [00:00<00:00, 233.69it/s]\n"
     ]
    },
    {
     "name": "stdout",
     "output_type": "stream",
     "text": [
      "Segmentation Completed. \n",
      "total_meal: 60 TP:  9 FP:  23 FN:  4\n",
      "Segmentation Completed. \n"
     ]
    },
    {
     "name": "stderr",
     "output_type": "stream",
     "text": [
      "100%|██████████| 5/5 [00:00<00:00, 394.80it/s]\n"
     ]
    },
    {
     "name": "stdout",
     "output_type": "stream",
     "text": [
      "total_meal: 60 TP:  9 FP:  32 FN:  4\n",
      "Segmentation Completed. \n",
      "total_meal: 60 TP:  8 FP:  10 FN:  2\n"
     ]
    },
    {
     "name": "stderr",
     "output_type": "stream",
     "text": [
      "100%|██████████| 4/4 [00:00<00:00, 248.18it/s]\n",
      "  0%|          | 0/4 [00:00<?, ?it/s]"
     ]
    },
    {
     "name": "stdout",
     "output_type": "stream",
     "text": [
      "Segmentation Completed. \n",
      "total_meal: 60 TP:  13 FP:  14 FN:  0\n"
     ]
    },
    {
     "name": "stderr",
     "output_type": "stream",
     "text": [
      "100%|██████████| 4/4 [00:00<00:00, 389.68it/s]\n",
      "100%|██████████| 5/5 [00:00<00:00, 265.43it/s]"
     ]
    },
    {
     "name": "stdout",
     "output_type": "stream",
     "text": [
      "Segmentation Completed. \n",
      "total_meal: 60 TP:  9 FP:  12 FN:  2\n",
      "  dataset    Ts   Te  TP  FN  FP  TPR  FP/TP\n",
      "0  lawler  0.55  0.2  48  12  91  0.8  1.896\n"
     ]
    },
    {
     "name": "stderr",
     "output_type": "stream",
     "text": [
      "\n",
      "100%|██████████| 5/5 [00:00<00:00, 236.74it/s]\n"
     ]
    },
    {
     "name": "stdout",
     "output_type": "stream",
     "text": [
      "Segmentation Completed. \n",
      "total_meal: 60 TP:  9 FP:  23 FN:  4\n",
      "Segmentation Completed. \n"
     ]
    },
    {
     "name": "stderr",
     "output_type": "stream",
     "text": [
      "100%|██████████| 5/5 [00:00<00:00, 332.93it/s]\n"
     ]
    },
    {
     "name": "stdout",
     "output_type": "stream",
     "text": [
      "total_meal: 60 TP:  9 FP:  30 FN:  4\n",
      "Segmentation Completed. \n",
      "total_meal: 60 TP:  9 FP:  11 FN:  1\n"
     ]
    },
    {
     "name": "stderr",
     "output_type": "stream",
     "text": [
      "100%|██████████| 4/4 [00:00<00:00, 248.24it/s]\n"
     ]
    },
    {
     "name": "stdout",
     "output_type": "stream",
     "text": [
      "Segmentation Completed. \n",
      "total_meal: 60 TP:  13 FP:  13 FN:  0\n"
     ]
    },
    {
     "name": "stderr",
     "output_type": "stream",
     "text": [
      "100%|██████████| 4/4 [00:00<00:00, 403.16it/s]\n",
      "100%|██████████| 5/5 [00:00<00:00, 279.90it/s]\n"
     ]
    },
    {
     "name": "stdout",
     "output_type": "stream",
     "text": [
      "Segmentation Completed. \n",
      "total_meal: 60 TP:  9 FP:  12 FN:  2\n",
      "  dataset    Ts    Te  TP  FN  FP    TPR  FP/TP\n",
      "0  lawler  0.55  0.25  49  11  89  0.817  1.816\n",
      "Segmentation Completed. \n"
     ]
    },
    {
     "name": "stderr",
     "output_type": "stream",
     "text": [
      "100%|██████████| 5/5 [00:00<00:00, 237.03it/s]"
     ]
    },
    {
     "name": "stdout",
     "output_type": "stream",
     "text": [
      "total_meal: 60 TP:  9 FP:  24 FN:  4\n",
      "Segmentation Completed. \n"
     ]
    },
    {
     "name": "stderr",
     "output_type": "stream",
     "text": [
      "\n",
      "100%|██████████| 5/5 [00:00<00:00, 411.97it/s]\n"
     ]
    },
    {
     "name": "stdout",
     "output_type": "stream",
     "text": [
      "total_meal: 60 TP:  9 FP:  31 FN:  4\n",
      "Segmentation Completed. \n",
      "total_meal: 60 TP:  9 FP:  11 FN:  1\n"
     ]
    },
    {
     "name": "stderr",
     "output_type": "stream",
     "text": [
      "100%|██████████| 4/4 [00:00<00:00, 335.44it/s]\n"
     ]
    },
    {
     "name": "stdout",
     "output_type": "stream",
     "text": [
      "Segmentation Completed. \n",
      "total_meal: 60 TP:  13 FP:  13 FN:  0\n"
     ]
    },
    {
     "name": "stderr",
     "output_type": "stream",
     "text": [
      "100%|██████████| 4/4 [00:00<00:00, 298.13it/s]\n"
     ]
    },
    {
     "name": "stdout",
     "output_type": "stream",
     "text": [
      "Segmentation Completed. \n",
      "total_meal: 60 TP:  9 FP:  12 FN:  2\n",
      "  dataset    Ts   Te  TP  FN  FP    TPR  FP/TP\n",
      "0  lawler  0.55  0.3  49  11  91  0.817  1.857\n"
     ]
    },
    {
     "name": "stderr",
     "output_type": "stream",
     "text": [
      "100%|██████████| 5/5 [00:00<00:00, 254.74it/s]\n",
      "  0%|          | 0/5 [00:00<?, ?it/s]"
     ]
    },
    {
     "name": "stdout",
     "output_type": "stream",
     "text": [
      "Segmentation Completed. \n",
      "total_meal: 60 TP:  9 FP:  24 FN:  4\n"
     ]
    },
    {
     "name": "stderr",
     "output_type": "stream",
     "text": [
      "100%|██████████| 5/5 [00:00<00:00, 222.50it/s]\n",
      "100%|██████████| 5/5 [00:00<00:00, 412.53it/s]\n"
     ]
    },
    {
     "name": "stdout",
     "output_type": "stream",
     "text": [
      "Segmentation Completed. \n",
      "total_meal: 60 TP:  9 FP:  31 FN:  4\n",
      "Segmentation Completed. \n"
     ]
    },
    {
     "name": "stderr",
     "output_type": "stream",
     "text": [
      "100%|██████████| 4/4 [00:00<00:00, 293.16it/s]\n"
     ]
    },
    {
     "name": "stdout",
     "output_type": "stream",
     "text": [
      "total_meal: 60 TP:  9 FP:  11 FN:  1\n",
      "Segmentation Completed. \n",
      "total_meal: 60 TP:  13 FP:  13 FN:  0\n"
     ]
    },
    {
     "name": "stderr",
     "output_type": "stream",
     "text": [
      "100%|██████████| 4/4 [00:00<00:00, 301.21it/s]\n"
     ]
    },
    {
     "name": "stdout",
     "output_type": "stream",
     "text": [
      "Segmentation Completed. \n",
      "total_meal: 60 TP:  9 FP:  12 FN:  2\n",
      "  dataset    Ts    Te  TP  FN  FP    TPR  FP/TP\n",
      "0  lawler  0.55  0.35  49  11  91  0.817  1.857\n"
     ]
    },
    {
     "name": "stderr",
     "output_type": "stream",
     "text": [
      "100%|██████████| 5/5 [00:00<00:00, 246.92it/s]\n",
      "  0%|          | 0/5 [00:00<?, ?it/s]"
     ]
    },
    {
     "name": "stdout",
     "output_type": "stream",
     "text": [
      "Segmentation Completed. \n",
      "total_meal: 60 TP:  9 FP:  24 FN:  4\n"
     ]
    },
    {
     "name": "stderr",
     "output_type": "stream",
     "text": [
      "100%|██████████| 5/5 [00:00<00:00, 228.30it/s]\n",
      "100%|██████████| 5/5 [00:00<00:00, 420.41it/s]\n"
     ]
    },
    {
     "name": "stdout",
     "output_type": "stream",
     "text": [
      "Segmentation Completed. \n",
      "total_meal: 60 TP:  9 FP:  31 FN:  4\n",
      "Segmentation Completed. \n"
     ]
    },
    {
     "name": "stderr",
     "output_type": "stream",
     "text": [
      "100%|██████████| 4/4 [00:00<00:00, 341.04it/s]\n"
     ]
    },
    {
     "name": "stdout",
     "output_type": "stream",
     "text": [
      "total_meal: 60 TP:  9 FP:  11 FN:  1\n",
      "Segmentation Completed. \n",
      "total_meal: 60 TP:  13 FP:  12 FN:  0\n"
     ]
    },
    {
     "name": "stderr",
     "output_type": "stream",
     "text": [
      "100%|██████████| 4/4 [00:00<00:00, 415.58it/s]\n"
     ]
    },
    {
     "name": "stdout",
     "output_type": "stream",
     "text": [
      "Segmentation Completed. \n",
      "total_meal: 60 TP:  9 FP:  12 FN:  2\n",
      "  dataset    Ts   Te  TP  FN  FP    TPR  FP/TP\n",
      "0  lawler  0.55  0.4  49  11  90  0.817  1.837\n"
     ]
    },
    {
     "name": "stderr",
     "output_type": "stream",
     "text": [
      "100%|██████████| 5/5 [00:00<00:00, 220.29it/s]\n",
      "  0%|          | 0/5 [00:00<?, ?it/s]"
     ]
    },
    {
     "name": "stdout",
     "output_type": "stream",
     "text": [
      "Segmentation Completed. \n",
      "total_meal: 60 TP:  9 FP:  22 FN:  4\n"
     ]
    },
    {
     "name": "stderr",
     "output_type": "stream",
     "text": [
      "100%|██████████| 5/5 [00:00<00:00, 238.56it/s]\n",
      "  0%|          | 0/5 [00:00<?, ?it/s]"
     ]
    },
    {
     "name": "stdout",
     "output_type": "stream",
     "text": [
      "Segmentation Completed. \n",
      "total_meal: 60 TP:  9 FP:  31 FN:  4\n"
     ]
    },
    {
     "name": "stderr",
     "output_type": "stream",
     "text": [
      "100%|██████████| 5/5 [00:00<00:00, 368.01it/s]\n",
      "100%|██████████| 4/4 [00:00<00:00, 340.72it/s]\n"
     ]
    },
    {
     "name": "stdout",
     "output_type": "stream",
     "text": [
      "Segmentation Completed. \n",
      "total_meal: 60 TP:  9 FP:  10 FN:  1\n",
      "Segmentation Completed. \n"
     ]
    },
    {
     "name": "stderr",
     "output_type": "stream",
     "text": [
      "100%|██████████| 4/4 [00:00<00:00, 435.34it/s]\n"
     ]
    },
    {
     "name": "stdout",
     "output_type": "stream",
     "text": [
      "total_meal: 60 TP:  13 FP:  12 FN:  0\n",
      "Segmentation Completed. \n",
      "total_meal: 60 TP:  9 FP:  13 FN:  2\n",
      "  dataset    Ts    Te  TP  FN  FP    TPR  FP/TP\n",
      "0  lawler  0.55  0.45  49  11  88  0.817  1.796\n"
     ]
    },
    {
     "name": "stderr",
     "output_type": "stream",
     "text": [
      "100%|██████████| 5/5 [00:00<00:00, 219.33it/s]\n"
     ]
    },
    {
     "name": "stdout",
     "output_type": "stream",
     "text": [
      "Segmentation Completed. \n",
      "total_meal: 60 TP:  9 FP:  16 FN:  4\n"
     ]
    },
    {
     "name": "stderr",
     "output_type": "stream",
     "text": [
      "100%|██████████| 5/5 [00:00<00:00, 193.37it/s]\n",
      "100%|██████████| 5/5 [00:00<00:00, 390.79it/s]\n"
     ]
    },
    {
     "name": "stdout",
     "output_type": "stream",
     "text": [
      "Segmentation Completed. \n",
      "total_meal: 60 TP:  9 FP:  30 FN:  4\n",
      "Segmentation Completed. \n"
     ]
    },
    {
     "name": "stderr",
     "output_type": "stream",
     "text": [
      "100%|██████████| 4/4 [00:00<00:00, 348.81it/s]\n"
     ]
    },
    {
     "name": "stdout",
     "output_type": "stream",
     "text": [
      "total_meal: 60 TP:  7 FP:  8 FN:  3\n",
      "Segmentation Completed. \n",
      "total_meal: 60 TP:  13 FP:  8 FN:  0\n"
     ]
    },
    {
     "name": "stderr",
     "output_type": "stream",
     "text": [
      "100%|██████████| 4/4 [00:00<00:00, 443.60it/s]\n",
      "100%|██████████| 5/5 [00:00<00:00, 272.04it/s]\n"
     ]
    },
    {
     "name": "stdout",
     "output_type": "stream",
     "text": [
      "Segmentation Completed. \n",
      "total_meal: 60 TP:  8 FP:  11 FN:  3\n",
      "  dataset   Ts   Te  TP  FN  FP    TPR  FP/TP\n",
      "0  lawler  0.6  0.1  46  14  73  0.767  1.587\n",
      "Segmentation Completed. \n"
     ]
    },
    {
     "name": "stderr",
     "output_type": "stream",
     "text": [
      "100%|██████████| 5/5 [00:00<00:00, 184.24it/s]"
     ]
    },
    {
     "name": "stdout",
     "output_type": "stream",
     "text": [
      "total_meal: 60 TP:  9 FP:  15 FN:  4\n",
      "Segmentation Completed. \n"
     ]
    },
    {
     "name": "stderr",
     "output_type": "stream",
     "text": [
      "\n",
      "100%|██████████| 5/5 [00:00<00:00, 382.92it/s]"
     ]
    },
    {
     "name": "stdout",
     "output_type": "stream",
     "text": [
      "total_meal: 60 TP:  9 FP:  30 FN:  4\n",
      "Segmentation Completed. \n"
     ]
    },
    {
     "name": "stderr",
     "output_type": "stream",
     "text": [
      "\n",
      "100%|██████████| 4/4 [00:00<00:00, 309.82it/s]\n"
     ]
    },
    {
     "name": "stdout",
     "output_type": "stream",
     "text": [
      "total_meal: 60 TP:  8 FP:  8 FN:  2\n",
      "Segmentation Completed. \n",
      "total_meal: 60 TP:  13 FP:  11 FN:  0\n"
     ]
    },
    {
     "name": "stderr",
     "output_type": "stream",
     "text": [
      "100%|██████████| 4/4 [00:00<00:00, 437.83it/s]\n",
      "100%|██████████| 5/5 [00:00<00:00, 289.20it/s]\n"
     ]
    },
    {
     "name": "stdout",
     "output_type": "stream",
     "text": [
      "Segmentation Completed. \n",
      "total_meal: 60 TP:  8 FP:  13 FN:  3\n",
      "  dataset   Ts    Te  TP  FN  FP    TPR  FP/TP\n",
      "0  lawler  0.6  0.15  47  13  77  0.783  1.638\n",
      "Segmentation Completed. \n"
     ]
    },
    {
     "name": "stderr",
     "output_type": "stream",
     "text": [
      "100%|██████████| 5/5 [00:00<00:00, 184.22it/s]"
     ]
    },
    {
     "name": "stdout",
     "output_type": "stream",
     "text": [
      "total_meal: 60 TP:  9 FP:  17 FN:  4\n",
      "Segmentation Completed. \n"
     ]
    },
    {
     "name": "stderr",
     "output_type": "stream",
     "text": [
      "\n",
      "100%|██████████| 5/5 [00:00<00:00, 331.32it/s]"
     ]
    },
    {
     "name": "stdout",
     "output_type": "stream",
     "text": [
      "total_meal: 60 TP:  9 FP:  30 FN:  4\n",
      "Segmentation Completed. \n"
     ]
    },
    {
     "name": "stderr",
     "output_type": "stream",
     "text": [
      "\n",
      "100%|██████████| 4/4 [00:00<00:00, 330.37it/s]\n"
     ]
    },
    {
     "name": "stdout",
     "output_type": "stream",
     "text": [
      "total_meal: 60 TP:  8 FP:  9 FN:  2\n",
      "Segmentation Completed. \n",
      "total_meal: 60 TP:  13 FP:  11 FN:  0\n"
     ]
    },
    {
     "name": "stderr",
     "output_type": "stream",
     "text": [
      "100%|██████████| 4/4 [00:00<00:00, 461.03it/s]\n",
      "100%|██████████| 5/5 [00:00<00:00, 294.91it/s]\n"
     ]
    },
    {
     "name": "stdout",
     "output_type": "stream",
     "text": [
      "Segmentation Completed. \n",
      "total_meal: 60 TP:  8 FP:  13 FN:  3\n",
      "  dataset   Ts   Te  TP  FN  FP    TPR  FP/TP\n",
      "0  lawler  0.6  0.2  47  13  80  0.783  1.702\n",
      "Segmentation Completed. \n"
     ]
    },
    {
     "name": "stderr",
     "output_type": "stream",
     "text": [
      "100%|██████████| 5/5 [00:00<00:00, 237.86it/s]\n"
     ]
    },
    {
     "name": "stdout",
     "output_type": "stream",
     "text": [
      "total_meal: 60 TP:  9 FP:  17 FN:  4\n",
      "Segmentation Completed. \n"
     ]
    },
    {
     "name": "stderr",
     "output_type": "stream",
     "text": [
      "100%|██████████| 5/5 [00:00<00:00, 436.06it/s]\n"
     ]
    },
    {
     "name": "stdout",
     "output_type": "stream",
     "text": [
      "total_meal: 60 TP:  9 FP:  31 FN:  4\n",
      "Segmentation Completed. \n",
      "total_meal: 60 TP:  9 FP:  10 FN:  1\n"
     ]
    },
    {
     "name": "stderr",
     "output_type": "stream",
     "text": [
      "100%|██████████| 4/4 [00:00<00:00, 380.92it/s]\n",
      "100%|██████████| 4/4 [00:00<00:00, 503.68it/s]\n"
     ]
    },
    {
     "name": "stdout",
     "output_type": "stream",
     "text": [
      "Segmentation Completed. \n",
      "total_meal: 60 TP:  13 FP:  12 FN:  0\n",
      "Segmentation Completed. \n"
     ]
    },
    {
     "name": "stderr",
     "output_type": "stream",
     "text": [
      "100%|██████████| 5/5 [00:00<00:00, 321.44it/s]\n"
     ]
    },
    {
     "name": "stdout",
     "output_type": "stream",
     "text": [
      "total_meal: 60 TP:  8 FP:  14 FN:  3\n",
      "  dataset   Ts    Te  TP  FN  FP  TPR  FP/TP\n",
      "0  lawler  0.6  0.25  48  12  84  0.8   1.75\n",
      "Segmentation Completed. \n",
      "total_meal: 60 TP:  9 FP:  18 FN:  4\n"
     ]
    },
    {
     "name": "stderr",
     "output_type": "stream",
     "text": [
      "100%|██████████| 5/5 [00:00<00:00, 250.40it/s]\n",
      "100%|██████████| 5/5 [00:00<00:00, 435.48it/s]\n"
     ]
    },
    {
     "name": "stdout",
     "output_type": "stream",
     "text": [
      "Segmentation Completed. \n",
      "total_meal: 60 TP:  9 FP:  31 FN:  4\n",
      "Segmentation Completed. \n"
     ]
    },
    {
     "name": "stderr",
     "output_type": "stream",
     "text": [
      "100%|██████████| 4/4 [00:00<00:00, 349.67it/s]\n"
     ]
    },
    {
     "name": "stdout",
     "output_type": "stream",
     "text": [
      "total_meal: 60 TP:  9 FP:  10 FN:  1\n",
      "Segmentation Completed. \n",
      "total_meal: 60 TP:  13 FP:  12 FN:  0\n"
     ]
    },
    {
     "name": "stderr",
     "output_type": "stream",
     "text": [
      "100%|██████████| 4/4 [00:00<00:00, 471.30it/s]\n",
      "100%|██████████| 5/5 [00:00<00:00, 319.72it/s]\n"
     ]
    },
    {
     "name": "stdout",
     "output_type": "stream",
     "text": [
      "Segmentation Completed. \n",
      "total_meal: 60 TP:  8 FP:  14 FN:  3\n",
      "  dataset   Ts   Te  TP  FN  FP  TPR  FP/TP\n",
      "0  lawler  0.6  0.3  48  12  85  0.8  1.771\n",
      "Segmentation Completed. \n"
     ]
    },
    {
     "name": "stderr",
     "output_type": "stream",
     "text": [
      "100%|██████████| 5/5 [00:00<00:00, 236.51it/s]\n"
     ]
    },
    {
     "name": "stdout",
     "output_type": "stream",
     "text": [
      "total_meal: 60 TP:  9 FP:  18 FN:  4\n",
      "Segmentation Completed. \n",
      "total_meal: 60 TP:  9 FP:  31 FN:  4\n"
     ]
    },
    {
     "name": "stderr",
     "output_type": "stream",
     "text": [
      "100%|██████████| 5/5 [00:00<00:00, 416.09it/s]\n",
      "100%|██████████| 4/4 [00:00<00:00, 286.46it/s]\n"
     ]
    },
    {
     "name": "stdout",
     "output_type": "stream",
     "text": [
      "Segmentation Completed. \n",
      "total_meal: 60 TP:  9 FP:  10 FN:  1\n",
      "Segmentation Completed. \n"
     ]
    },
    {
     "name": "stderr",
     "output_type": "stream",
     "text": [
      "100%|██████████| 4/4 [00:00<00:00, 299.20it/s]"
     ]
    },
    {
     "name": "stdout",
     "output_type": "stream",
     "text": [
      "total_meal: 60 TP:  13 FP:  14 FN:  0\n",
      "Segmentation Completed. \n"
     ]
    },
    {
     "name": "stderr",
     "output_type": "stream",
     "text": [
      "\n",
      "100%|██████████| 5/5 [00:00<00:00, 263.73it/s]"
     ]
    },
    {
     "name": "stdout",
     "output_type": "stream",
     "text": [
      "total_meal: 60 TP:  8 FP:  14 FN:  3\n",
      "  dataset   Ts    Te  TP  FN  FP  TPR  FP/TP\n",
      "0  lawler  0.6  0.35  48  12  87  0.8  1.812\n",
      "Segmentation Completed. \n"
     ]
    },
    {
     "name": "stderr",
     "output_type": "stream",
     "text": [
      "\n",
      "100%|██████████| 5/5 [00:00<00:00, 226.47it/s]"
     ]
    },
    {
     "name": "stdout",
     "output_type": "stream",
     "text": [
      "total_meal: 60 TP:  9 FP:  20 FN:  4\n",
      "Segmentation Completed. \n"
     ]
    },
    {
     "name": "stderr",
     "output_type": "stream",
     "text": [
      "\n",
      "100%|██████████| 5/5 [00:00<00:00, 416.74it/s]\n"
     ]
    },
    {
     "name": "stdout",
     "output_type": "stream",
     "text": [
      "total_meal: 60 TP:  9 FP:  31 FN:  4\n",
      "Segmentation Completed. \n",
      "total_meal: 60 TP:  9 FP:  10 FN:  1\n"
     ]
    },
    {
     "name": "stderr",
     "output_type": "stream",
     "text": [
      "100%|██████████| 4/4 [00:00<00:00, 319.97it/s]\n",
      "100%|██████████| 4/4 [00:00<00:00, 459.69it/s]\n"
     ]
    },
    {
     "name": "stdout",
     "output_type": "stream",
     "text": [
      "Segmentation Completed. \n",
      "total_meal: 60 TP:  13 FP:  13 FN:  0\n",
      "Segmentation Completed. \n"
     ]
    },
    {
     "name": "stderr",
     "output_type": "stream",
     "text": [
      "100%|██████████| 5/5 [00:00<00:00, 318.45it/s]\n"
     ]
    },
    {
     "name": "stdout",
     "output_type": "stream",
     "text": [
      "total_meal: 60 TP:  8 FP:  14 FN:  3\n",
      "  dataset   Ts   Te  TP  FN  FP  TPR  FP/TP\n",
      "0  lawler  0.6  0.4  48  12  88  0.8  1.833\n",
      "Segmentation Completed. \n",
      "total_meal: 60 TP:  8 FP:  21 FN:  5\n"
     ]
    },
    {
     "name": "stderr",
     "output_type": "stream",
     "text": [
      "100%|██████████| 5/5 [00:00<00:00, 253.79it/s]\n",
      "100%|██████████| 5/5 [00:00<00:00, 452.90it/s]\n"
     ]
    },
    {
     "name": "stdout",
     "output_type": "stream",
     "text": [
      "Segmentation Completed. \n",
      "total_meal: 60 TP:  9 FP:  30 FN:  4\n",
      "Segmentation Completed. \n"
     ]
    },
    {
     "name": "stderr",
     "output_type": "stream",
     "text": [
      "100%|██████████| 4/4 [00:00<00:00, 377.02it/s]\n"
     ]
    },
    {
     "name": "stdout",
     "output_type": "stream",
     "text": [
      "total_meal: 60 TP:  9 FP:  10 FN:  1\n",
      "Segmentation Completed. \n",
      "total_meal: 60 TP:  13 FP:  13 FN:  0\n"
     ]
    },
    {
     "name": "stderr",
     "output_type": "stream",
     "text": [
      "100%|██████████| 4/4 [00:00<00:00, 494.66it/s]\n",
      "100%|██████████| 5/5 [00:00<00:00, 323.84it/s]\n"
     ]
    },
    {
     "name": "stdout",
     "output_type": "stream",
     "text": [
      "Segmentation Completed. \n",
      "total_meal: 60 TP:  8 FP:  13 FN:  3\n",
      "  dataset   Ts    Te  TP  FN  FP    TPR  FP/TP\n",
      "0  lawler  0.6  0.45  47  13  87  0.783  1.851\n",
      "Segmentation Completed. \n"
     ]
    },
    {
     "name": "stderr",
     "output_type": "stream",
     "text": [
      "100%|██████████| 5/5 [00:00<00:00, 256.30it/s]\n"
     ]
    },
    {
     "name": "stdout",
     "output_type": "stream",
     "text": [
      "total_meal: 60 TP:  8 FP:  15 FN:  5\n",
      "Segmentation Completed. \n",
      "total_meal: 60 TP:  9 FP:  29 FN:  4\n"
     ]
    },
    {
     "name": "stderr",
     "output_type": "stream",
     "text": [
      "100%|██████████| 5/5 [00:00<00:00, 464.63it/s]\n",
      "100%|██████████| 4/4 [00:00<00:00, 368.21it/s]\n"
     ]
    },
    {
     "name": "stdout",
     "output_type": "stream",
     "text": [
      "Segmentation Completed. \n",
      "total_meal: 60 TP:  7 FP:  10 FN:  3\n",
      "Segmentation Completed. \n"
     ]
    },
    {
     "name": "stderr",
     "output_type": "stream",
     "text": [
      "100%|██████████| 4/4 [00:00<00:00, 453.05it/s]\n"
     ]
    },
    {
     "name": "stdout",
     "output_type": "stream",
     "text": [
      "total_meal: 60 TP:  13 FP:  7 FN:  0\n",
      "Segmentation Completed. \n",
      "total_meal: 60 TP:  6 FP:  11 FN:  5\n",
      "  dataset    Ts   Te  TP  FN  FP    TPR  FP/TP\n",
      "0  lawler  0.65  0.1  43  17  72  0.717  1.674\n"
     ]
    },
    {
     "name": "stderr",
     "output_type": "stream",
     "text": [
      "100%|██████████| 5/5 [00:00<00:00, 282.67it/s]\n"
     ]
    },
    {
     "name": "stdout",
     "output_type": "stream",
     "text": [
      "Segmentation Completed. \n",
      "total_meal: 60 TP:  8 FP:  14 FN:  5\n"
     ]
    },
    {
     "name": "stderr",
     "output_type": "stream",
     "text": [
      "100%|██████████| 5/5 [00:00<00:00, 186.55it/s]\n"
     ]
    },
    {
     "name": "stdout",
     "output_type": "stream",
     "text": [
      "Segmentation Completed. \n",
      "total_meal: 60 TP:  9 FP:  29 FN:  4\n"
     ]
    },
    {
     "name": "stderr",
     "output_type": "stream",
     "text": [
      "100%|██████████| 5/5 [00:00<00:00, 421.13it/s]\n",
      "100%|██████████| 4/4 [00:00<00:00, 307.77it/s]\n"
     ]
    },
    {
     "name": "stdout",
     "output_type": "stream",
     "text": [
      "Segmentation Completed. \n",
      "total_meal: 60 TP:  8 FP:  10 FN:  2\n",
      "Segmentation Completed. \n"
     ]
    },
    {
     "name": "stderr",
     "output_type": "stream",
     "text": [
      "100%|██████████| 4/4 [00:00<00:00, 443.76it/s]\n"
     ]
    },
    {
     "name": "stdout",
     "output_type": "stream",
     "text": [
      "total_meal: 60 TP:  13 FP:  10 FN:  0\n",
      "Segmentation Completed. \n",
      "total_meal: 60 TP:  6 FP:  12 FN:  5\n",
      "  dataset    Ts    Te  TP  FN  FP    TPR  FP/TP\n",
      "0  lawler  0.65  0.15  44  16  75  0.733  1.705\n"
     ]
    },
    {
     "name": "stderr",
     "output_type": "stream",
     "text": [
      "100%|██████████| 5/5 [00:00<00:00, 270.87it/s]\n",
      "  0%|          | 0/5 [00:00<?, ?it/s]"
     ]
    },
    {
     "name": "stdout",
     "output_type": "stream",
     "text": [
      "Segmentation Completed. \n",
      "total_meal: 60 TP:  8 FP:  14 FN:  5\n"
     ]
    },
    {
     "name": "stderr",
     "output_type": "stream",
     "text": [
      "100%|██████████| 5/5 [00:00<00:00, 182.95it/s]\n"
     ]
    },
    {
     "name": "stdout",
     "output_type": "stream",
     "text": [
      "Segmentation Completed. \n",
      "total_meal: 60 TP:  9 FP:  29 FN:  4\n"
     ]
    },
    {
     "name": "stderr",
     "output_type": "stream",
     "text": [
      "100%|██████████| 5/5 [00:00<00:00, 321.29it/s]\n",
      "100%|██████████| 4/4 [00:00<00:00, 331.89it/s]\n"
     ]
    },
    {
     "name": "stdout",
     "output_type": "stream",
     "text": [
      "Segmentation Completed. \n",
      "total_meal: 60 TP:  8 FP:  10 FN:  2\n",
      "Segmentation Completed. \n"
     ]
    },
    {
     "name": "stderr",
     "output_type": "stream",
     "text": [
      "100%|██████████| 4/4 [00:00<00:00, 453.74it/s]\n"
     ]
    },
    {
     "name": "stdout",
     "output_type": "stream",
     "text": [
      "total_meal: 60 TP:  13 FP:  11 FN:  0\n",
      "Segmentation Completed. \n",
      "total_meal: 60 TP:  6 FP:  12 FN:  5\n",
      "  dataset    Ts   Te  TP  FN  FP    TPR  FP/TP\n",
      "0  lawler  0.65  0.2  44  16  76  0.733  1.727\n"
     ]
    },
    {
     "name": "stderr",
     "output_type": "stream",
     "text": [
      "100%|██████████| 5/5 [00:00<00:00, 298.81it/s]\n",
      "100%|██████████| 5/5 [00:00<00:00, 219.55it/s]\n"
     ]
    },
    {
     "name": "stdout",
     "output_type": "stream",
     "text": [
      "Segmentation Completed. \n",
      "total_meal: 60 TP:  8 FP:  14 FN:  5\n",
      "Segmentation Completed. \n"
     ]
    },
    {
     "name": "stderr",
     "output_type": "stream",
     "text": [
      "100%|██████████| 5/5 [00:00<00:00, 293.39it/s]"
     ]
    },
    {
     "name": "stdout",
     "output_type": "stream",
     "text": [
      "total_meal: 60 TP:  9 FP:  30 FN:  4\n",
      "Segmentation Completed. \n"
     ]
    },
    {
     "name": "stderr",
     "output_type": "stream",
     "text": [
      "\n",
      "100%|██████████| 4/4 [00:00<00:00, 362.69it/s]"
     ]
    },
    {
     "name": "stdout",
     "output_type": "stream",
     "text": [
      "total_meal: 60 TP:  9 FP:  10 FN:  1\n",
      "Segmentation Completed. \n"
     ]
    },
    {
     "name": "stderr",
     "output_type": "stream",
     "text": [
      "\n",
      "100%|██████████| 4/4 [00:00<00:00, 399.94it/s]\n"
     ]
    },
    {
     "name": "stdout",
     "output_type": "stream",
     "text": [
      "total_meal: 60 TP:  13 FP:  11 FN:  0\n",
      "Segmentation Completed. \n",
      "total_meal: 60 TP:  6 FP:  13 FN:  5\n",
      "  dataset    Ts    Te  TP  FN  FP   TPR  FP/TP\n",
      "0  lawler  0.65  0.25  45  15  78  0.75  1.733\n"
     ]
    },
    {
     "name": "stderr",
     "output_type": "stream",
     "text": [
      "100%|██████████| 5/5 [00:00<00:00, 293.50it/s]\n",
      "100%|██████████| 5/5 [00:00<00:00, 237.99it/s]\n"
     ]
    },
    {
     "name": "stdout",
     "output_type": "stream",
     "text": [
      "Segmentation Completed. \n",
      "total_meal: 60 TP:  8 FP:  15 FN:  5\n",
      "Segmentation Completed. \n"
     ]
    },
    {
     "name": "stderr",
     "output_type": "stream",
     "text": [
      "100%|██████████| 5/5 [00:00<00:00, 290.19it/s]"
     ]
    },
    {
     "name": "stdout",
     "output_type": "stream",
     "text": [
      "total_meal: 60 TP:  9 FP:  29 FN:  4\n",
      "Segmentation Completed. \n"
     ]
    },
    {
     "name": "stderr",
     "output_type": "stream",
     "text": [
      "\n",
      "100%|██████████| 4/4 [00:00<00:00, 256.18it/s]"
     ]
    },
    {
     "name": "stdout",
     "output_type": "stream",
     "text": [
      "total_meal: 60 TP:  9 FP:  10 FN:  1\n",
      "Segmentation Completed. \n"
     ]
    },
    {
     "name": "stderr",
     "output_type": "stream",
     "text": [
      "\n",
      "100%|██████████| 4/4 [00:00<00:00, 422.87it/s]\n"
     ]
    },
    {
     "name": "stdout",
     "output_type": "stream",
     "text": [
      "total_meal: 60 TP:  13 FP:  11 FN:  0\n",
      "Segmentation Completed. \n",
      "total_meal: 60 TP:  6 FP:  13 FN:  5\n",
      "  dataset    Ts   Te  TP  FN  FP   TPR  FP/TP\n",
      "0  lawler  0.65  0.3  45  15  78  0.75  1.733\n"
     ]
    },
    {
     "name": "stderr",
     "output_type": "stream",
     "text": [
      "100%|██████████| 5/5 [00:00<00:00, 297.36it/s]\n",
      "100%|██████████| 5/5 [00:00<00:00, 236.45it/s]\n"
     ]
    },
    {
     "name": "stdout",
     "output_type": "stream",
     "text": [
      "Segmentation Completed. \n",
      "total_meal: 60 TP:  8 FP:  15 FN:  5\n",
      "Segmentation Completed. \n"
     ]
    },
    {
     "name": "stderr",
     "output_type": "stream",
     "text": [
      "100%|██████████| 5/5 [00:00<00:00, 375.07it/s]\n"
     ]
    },
    {
     "name": "stdout",
     "output_type": "stream",
     "text": [
      "total_meal: 60 TP:  9 FP:  29 FN:  4\n",
      "Segmentation Completed. \n",
      "total_meal: 60 TP:  9 FP:  10 FN:  1\n"
     ]
    },
    {
     "name": "stderr",
     "output_type": "stream",
     "text": [
      "100%|██████████| 4/4 [00:00<00:00, 254.20it/s]\n"
     ]
    },
    {
     "name": "stdout",
     "output_type": "stream",
     "text": [
      "Segmentation Completed. \n",
      "total_meal: 60 TP:  13 FP:  12 FN:  0\n"
     ]
    },
    {
     "name": "stderr",
     "output_type": "stream",
     "text": [
      "100%|██████████| 4/4 [00:00<00:00, 307.28it/s]\n",
      "100%|██████████| 5/5 [00:00<00:00, 267.81it/s]\n"
     ]
    },
    {
     "name": "stdout",
     "output_type": "stream",
     "text": [
      "Segmentation Completed. \n",
      "total_meal: 60 TP:  6 FP:  13 FN:  5\n",
      "  dataset    Ts    Te  TP  FN  FP   TPR  FP/TP\n",
      "0  lawler  0.65  0.35  45  15  79  0.75  1.756\n",
      "Segmentation Completed. \n"
     ]
    },
    {
     "name": "stderr",
     "output_type": "stream",
     "text": [
      "100%|██████████| 5/5 [00:00<00:00, 237.78it/s]\n"
     ]
    },
    {
     "name": "stdout",
     "output_type": "stream",
     "text": [
      "total_meal: 60 TP:  8 FP:  16 FN:  5\n",
      "Segmentation Completed. \n",
      "total_meal: 60 TP:  9 FP:  28 FN:  4\n"
     ]
    },
    {
     "name": "stderr",
     "output_type": "stream",
     "text": [
      "100%|██████████| 5/5 [00:00<00:00, 409.44it/s]\n",
      "100%|██████████| 4/4 [00:00<00:00, 278.32it/s]\n"
     ]
    },
    {
     "name": "stdout",
     "output_type": "stream",
     "text": [
      "Segmentation Completed. \n",
      "total_meal: 60 TP:  9 FP:  10 FN:  1\n",
      "Segmentation Completed. \n"
     ]
    },
    {
     "name": "stderr",
     "output_type": "stream",
     "text": [
      "100%|██████████| 4/4 [00:00<00:00, 305.71it/s]"
     ]
    },
    {
     "name": "stdout",
     "output_type": "stream",
     "text": [
      "total_meal: 60 TP:  13 FP:  12 FN:  0\n",
      "Segmentation Completed. \n"
     ]
    },
    {
     "name": "stderr",
     "output_type": "stream",
     "text": [
      "\n",
      "100%|██████████| 5/5 [00:00<00:00, 285.12it/s]"
     ]
    },
    {
     "name": "stdout",
     "output_type": "stream",
     "text": [
      "total_meal: 60 TP:  6 FP:  12 FN:  5\n",
      "  dataset    Ts   Te  TP  FN  FP   TPR  FP/TP\n",
      "0  lawler  0.65  0.4  45  15  78  0.75  1.733\n",
      "Segmentation Completed. \n"
     ]
    },
    {
     "name": "stderr",
     "output_type": "stream",
     "text": [
      "\n",
      "100%|██████████| 5/5 [00:00<00:00, 239.77it/s]"
     ]
    },
    {
     "name": "stdout",
     "output_type": "stream",
     "text": [
      "total_meal: 60 TP:  7 FP:  17 FN:  6\n",
      "Segmentation Completed. \n"
     ]
    },
    {
     "name": "stderr",
     "output_type": "stream",
     "text": [
      "\n",
      "100%|██████████| 5/5 [00:00<00:00, 414.86it/s]\n"
     ]
    },
    {
     "name": "stdout",
     "output_type": "stream",
     "text": [
      "total_meal: 60 TP:  9 FP:  26 FN:  4\n",
      "Segmentation Completed. \n",
      "total_meal: 60 TP:  9 FP:  10 FN:  1\n"
     ]
    },
    {
     "name": "stderr",
     "output_type": "stream",
     "text": [
      "100%|██████████| 4/4 [00:00<00:00, 290.68it/s]\n"
     ]
    },
    {
     "name": "stdout",
     "output_type": "stream",
     "text": [
      "Segmentation Completed. \n",
      "total_meal: 60 TP:  13 FP:  12 FN:  0\n"
     ]
    },
    {
     "name": "stderr",
     "output_type": "stream",
     "text": [
      "100%|██████████| 4/4 [00:00<00:00, 301.73it/s]\n"
     ]
    },
    {
     "name": "stdout",
     "output_type": "stream",
     "text": [
      "Segmentation Completed. \n",
      "total_meal: 60 TP:  6 FP:  12 FN:  5\n",
      "  dataset    Ts    Te  TP  FN  FP    TPR  FP/TP\n",
      "0  lawler  0.65  0.45  44  16  77  0.733   1.75\n"
     ]
    },
    {
     "name": "stderr",
     "output_type": "stream",
     "text": [
      "100%|██████████| 5/5 [00:00<00:00, 278.92it/s]\n",
      "100%|██████████| 5/5 [00:00<00:00, 219.47it/s]\n"
     ]
    },
    {
     "name": "stdout",
     "output_type": "stream",
     "text": [
      "Segmentation Completed. \n",
      "total_meal: 60 TP:  8 FP:  12 FN:  5\n",
      "Segmentation Completed. \n"
     ]
    },
    {
     "name": "stderr",
     "output_type": "stream",
     "text": [
      "100%|██████████| 5/5 [00:00<00:00, 414.12it/s]\n"
     ]
    },
    {
     "name": "stdout",
     "output_type": "stream",
     "text": [
      "total_meal: 60 TP:  9 FP:  24 FN:  4\n",
      "Segmentation Completed. \n",
      "total_meal: 60 TP:  6 FP:  11 FN:  4\n"
     ]
    },
    {
     "name": "stderr",
     "output_type": "stream",
     "text": [
      "100%|██████████| 4/4 [00:00<00:00, 347.07it/s]\n",
      "100%|██████████| 4/4 [00:00<00:00, 433.09it/s]\n"
     ]
    },
    {
     "name": "stdout",
     "output_type": "stream",
     "text": [
      "Segmentation Completed. \n",
      "total_meal: 60 TP:  13 FP:  7 FN:  0\n",
      "Segmentation Completed. \n"
     ]
    },
    {
     "name": "stderr",
     "output_type": "stream",
     "text": [
      "100%|██████████| 5/5 [00:00<00:00, 225.50it/s]"
     ]
    },
    {
     "name": "stdout",
     "output_type": "stream",
     "text": [
      "total_meal: 60 TP:  6 FP:  11 FN:  5\n",
      "  dataset   Ts   Te  TP  FN  FP  TPR  FP/TP\n",
      "0  lawler  0.7  0.1  42  18  65  0.7  1.548\n",
      "Segmentation Completed. \n"
     ]
    },
    {
     "name": "stderr",
     "output_type": "stream",
     "text": [
      "\n"
     ]
    },
    {
     "name": "stdout",
     "output_type": "stream",
     "text": [
      "total_meal: 60 TP:  8 FP:  12 FN:  5\n"
     ]
    },
    {
     "name": "stderr",
     "output_type": "stream",
     "text": [
      "100%|██████████| 5/5 [00:00<00:00, 246.88it/s]\n",
      "100%|██████████| 5/5 [00:00<00:00, 452.93it/s]\n"
     ]
    },
    {
     "name": "stdout",
     "output_type": "stream",
     "text": [
      "Segmentation Completed. \n",
      "total_meal: 60 TP:  9 FP:  24 FN:  4\n",
      "Segmentation Completed. \n"
     ]
    },
    {
     "name": "stderr",
     "output_type": "stream",
     "text": [
      "100%|██████████| 4/4 [00:00<00:00, 376.09it/s]\n"
     ]
    },
    {
     "name": "stdout",
     "output_type": "stream",
     "text": [
      "total_meal: 60 TP:  6 FP:  13 FN:  4\n",
      "Segmentation Completed. \n",
      "total_meal: 60 TP:  13 FP:  9 FN:  0\n"
     ]
    },
    {
     "name": "stderr",
     "output_type": "stream",
     "text": [
      "100%|██████████| 4/4 [00:00<00:00, 499.87it/s]\n",
      "100%|██████████| 5/5 [00:00<00:00, 322.62it/s]\n"
     ]
    },
    {
     "name": "stdout",
     "output_type": "stream",
     "text": [
      "Segmentation Completed. \n",
      "total_meal: 60 TP:  6 FP:  11 FN:  5\n",
      "  dataset   Ts    Te  TP  FN  FP  TPR  FP/TP\n",
      "0  lawler  0.7  0.15  42  18  69  0.7  1.643\n",
      "Segmentation Completed. \n"
     ]
    },
    {
     "name": "stderr",
     "output_type": "stream",
     "text": [
      "100%|██████████| 5/5 [00:00<00:00, 256.96it/s]\n"
     ]
    },
    {
     "name": "stdout",
     "output_type": "stream",
     "text": [
      "total_meal: 60 TP:  8 FP:  12 FN:  5\n",
      "Segmentation Completed. \n",
      "total_meal: 60 TP:  9 FP:  25 FN:  4\n"
     ]
    },
    {
     "name": "stderr",
     "output_type": "stream",
     "text": [
      "100%|██████████| 5/5 [00:00<00:00, 459.13it/s]\n",
      "100%|██████████| 4/4 [00:00<00:00, 366.50it/s]\n"
     ]
    },
    {
     "name": "stdout",
     "output_type": "stream",
     "text": [
      "Segmentation Completed. \n",
      "total_meal: 60 TP:  6 FP:  13 FN:  4\n",
      "Segmentation Completed. \n"
     ]
    },
    {
     "name": "stderr",
     "output_type": "stream",
     "text": [
      "100%|██████████| 4/4 [00:00<00:00, 463.50it/s]\n"
     ]
    },
    {
     "name": "stdout",
     "output_type": "stream",
     "text": [
      "total_meal: 60 TP:  13 FP:  11 FN:  0\n",
      "Segmentation Completed. \n",
      "total_meal: 60 TP:  6 FP:  11 FN:  5\n",
      "  dataset   Ts   Te  TP  FN  FP  TPR  FP/TP\n",
      "0  lawler  0.7  0.2  42  18  72  0.7  1.714\n"
     ]
    },
    {
     "name": "stderr",
     "output_type": "stream",
     "text": [
      "100%|██████████| 5/5 [00:00<00:00, 295.21it/s]\n",
      "100%|██████████| 5/5 [00:00<00:00, 239.26it/s]\n"
     ]
    },
    {
     "name": "stdout",
     "output_type": "stream",
     "text": [
      "Segmentation Completed. \n",
      "total_meal: 60 TP:  8 FP:  12 FN:  5\n",
      "Segmentation Completed. \n"
     ]
    },
    {
     "name": "stderr",
     "output_type": "stream",
     "text": [
      "100%|██████████| 5/5 [00:00<00:00, 308.24it/s]\n"
     ]
    },
    {
     "name": "stdout",
     "output_type": "stream",
     "text": [
      "total_meal: 60 TP:  9 FP:  25 FN:  4\n",
      "Segmentation Completed. \n"
     ]
    },
    {
     "name": "stderr",
     "output_type": "stream",
     "text": [
      "100%|██████████| 4/4 [00:00<00:00, 252.12it/s]"
     ]
    },
    {
     "name": "stdout",
     "output_type": "stream",
     "text": [
      "total_meal: 60 TP:  7 FP:  13 FN:  3\n",
      "Segmentation Completed. \n"
     ]
    },
    {
     "name": "stderr",
     "output_type": "stream",
     "text": [
      "\n",
      "100%|██████████| 4/4 [00:00<00:00, 400.32it/s]"
     ]
    },
    {
     "name": "stdout",
     "output_type": "stream",
     "text": [
      "total_meal: 60 TP:  13 FP:  11 FN:  0\n",
      "Segmentation Completed. \n",
      "total_meal: 60 TP:  6 FP:  12 FN:  5\n",
      "  dataset   Ts    Te  TP  FN  FP    TPR  FP/TP\n",
      "0  lawler  0.7  0.25  43  17  73  0.717  1.698\n"
     ]
    },
    {
     "name": "stderr",
     "output_type": "stream",
     "text": [
      "\n",
      "100%|██████████| 5/5 [00:00<00:00, 277.19it/s]\n",
      "100%|██████████| 5/5 [00:00<00:00, 240.08it/s]\n"
     ]
    },
    {
     "name": "stdout",
     "output_type": "stream",
     "text": [
      "Segmentation Completed. \n",
      "total_meal: 60 TP:  8 FP:  13 FN:  5\n",
      "Segmentation Completed. \n"
     ]
    },
    {
     "name": "stderr",
     "output_type": "stream",
     "text": [
      "100%|██████████| 5/5 [00:00<00:00, 335.74it/s]\n"
     ]
    },
    {
     "name": "stdout",
     "output_type": "stream",
     "text": [
      "total_meal: 60 TP:  9 FP:  25 FN:  4\n",
      "Segmentation Completed. \n",
      "total_meal: 60 TP:  7 FP:  13 FN:  3\n"
     ]
    },
    {
     "name": "stderr",
     "output_type": "stream",
     "text": [
      "100%|██████████| 4/4 [00:00<00:00, 363.06it/s]\n",
      "100%|██████████| 4/4 [00:00<00:00, 502.57it/s]\n"
     ]
    },
    {
     "name": "stdout",
     "output_type": "stream",
     "text": [
      "Segmentation Completed. \n",
      "total_meal: 60 TP:  13 FP:  12 FN:  0\n",
      "Segmentation Completed. \n"
     ]
    },
    {
     "name": "stderr",
     "output_type": "stream",
     "text": [
      "100%|██████████| 5/5 [00:00<00:00, 322.63it/s]\n"
     ]
    },
    {
     "name": "stdout",
     "output_type": "stream",
     "text": [
      "total_meal: 60 TP:  6 FP:  12 FN:  5\n",
      "  dataset   Ts   Te  TP  FN  FP    TPR  FP/TP\n",
      "0  lawler  0.7  0.3  43  17  75  0.717  1.744\n",
      "Segmentation Completed. \n",
      "total_meal: 60 TP:  8 FP:  13 FN:  5\n"
     ]
    },
    {
     "name": "stderr",
     "output_type": "stream",
     "text": [
      "100%|██████████| 5/5 [00:00<00:00, 256.46it/s]\n",
      "100%|██████████| 5/5 [00:00<00:00, 462.23it/s]\n"
     ]
    },
    {
     "name": "stdout",
     "output_type": "stream",
     "text": [
      "Segmentation Completed. \n",
      "total_meal: 60 TP:  9 FP:  24 FN:  4\n",
      "Segmentation Completed. \n"
     ]
    },
    {
     "name": "stderr",
     "output_type": "stream",
     "text": [
      "100%|██████████| 4/4 [00:00<00:00, 383.02it/s]\n"
     ]
    },
    {
     "name": "stdout",
     "output_type": "stream",
     "text": [
      "total_meal: 60 TP:  7 FP:  13 FN:  3\n",
      "Segmentation Completed. \n",
      "total_meal: 60 TP:  13 FP:  12 FN:  0\n"
     ]
    },
    {
     "name": "stderr",
     "output_type": "stream",
     "text": [
      "100%|██████████| 4/4 [00:00<00:00, 508.02it/s]\n",
      "100%|██████████| 5/5 [00:00<00:00, 325.04it/s]\n"
     ]
    },
    {
     "name": "stdout",
     "output_type": "stream",
     "text": [
      "Segmentation Completed. \n",
      "total_meal: 60 TP:  6 FP:  12 FN:  5\n",
      "  dataset   Ts    Te  TP  FN  FP    TPR  FP/TP\n",
      "0  lawler  0.7  0.35  43  17  74  0.717  1.721\n",
      "Segmentation Completed. \n"
     ]
    },
    {
     "name": "stderr",
     "output_type": "stream",
     "text": [
      "100%|██████████| 5/5 [00:00<00:00, 257.02it/s]\n"
     ]
    },
    {
     "name": "stdout",
     "output_type": "stream",
     "text": [
      "total_meal: 60 TP:  8 FP:  14 FN:  5\n",
      "Segmentation Completed. \n",
      "total_meal: 60 TP:  9 FP:  25 FN:  4\n"
     ]
    },
    {
     "name": "stderr",
     "output_type": "stream",
     "text": [
      "100%|██████████| 5/5 [00:00<00:00, 438.33it/s]\n",
      "100%|██████████| 4/4 [00:00<00:00, 379.64it/s]\n"
     ]
    },
    {
     "name": "stdout",
     "output_type": "stream",
     "text": [
      "Segmentation Completed. \n",
      "total_meal: 60 TP:  7 FP:  13 FN:  3\n",
      "Segmentation Completed. \n"
     ]
    },
    {
     "name": "stderr",
     "output_type": "stream",
     "text": [
      "100%|██████████| 4/4 [00:00<00:00, 506.86it/s]\n"
     ]
    },
    {
     "name": "stdout",
     "output_type": "stream",
     "text": [
      "total_meal: 60 TP:  13 FP:  12 FN:  0\n",
      "Segmentation Completed. \n",
      "total_meal: 60 TP:  6 FP:  12 FN:  5\n",
      "  dataset   Ts   Te  TP  FN  FP    TPR  FP/TP\n",
      "0  lawler  0.7  0.4  43  17  76  0.717  1.767\n"
     ]
    },
    {
     "name": "stderr",
     "output_type": "stream",
     "text": [
      "100%|██████████| 5/5 [00:00<00:00, 237.51it/s]\n"
     ]
    },
    {
     "name": "stdout",
     "output_type": "stream",
     "text": [
      "Segmentation Completed. \n",
      "total_meal: 60 TP:  7 FP:  15 FN:  6\n"
     ]
    },
    {
     "name": "stderr",
     "output_type": "stream",
     "text": [
      "100%|██████████| 5/5 [00:00<00:00, 189.17it/s]\n",
      "100%|██████████| 5/5 [00:00<00:00, 393.31it/s]\n"
     ]
    },
    {
     "name": "stdout",
     "output_type": "stream",
     "text": [
      "Segmentation Completed. \n",
      "total_meal: 60 TP:  9 FP:  25 FN:  4\n",
      "Segmentation Completed. \n"
     ]
    },
    {
     "name": "stderr",
     "output_type": "stream",
     "text": [
      "100%|██████████| 4/4 [00:00<00:00, 349.04it/s]\n"
     ]
    },
    {
     "name": "stdout",
     "output_type": "stream",
     "text": [
      "total_meal: 60 TP:  7 FP:  13 FN:  3\n",
      "Segmentation Completed. \n",
      "total_meal: 60 TP:  13 FP:  13 FN:  0\n"
     ]
    },
    {
     "name": "stderr",
     "output_type": "stream",
     "text": [
      "100%|██████████| 4/4 [00:00<00:00, 441.66it/s]\n",
      "100%|██████████| 5/5 [00:00<00:00, 255.19it/s]\n"
     ]
    },
    {
     "name": "stdout",
     "output_type": "stream",
     "text": [
      "Segmentation Completed. \n",
      "total_meal: 60 TP:  6 FP:  12 FN:  5\n",
      "  dataset   Ts    Te  TP  FN  FP  TPR  FP/TP\n",
      "0  lawler  0.7  0.45  42  18  78  0.7  1.857\n",
      "Segmentation Completed. \n"
     ]
    },
    {
     "name": "stderr",
     "output_type": "stream",
     "text": [
      "100%|██████████| 5/5 [00:00<00:00, 187.67it/s]"
     ]
    },
    {
     "name": "stdout",
     "output_type": "stream",
     "text": [
      "total_meal: 60 TP:  7 FP:  11 FN:  6\n",
      "Segmentation Completed. \n"
     ]
    },
    {
     "name": "stderr",
     "output_type": "stream",
     "text": [
      "\n",
      "100%|██████████| 5/5 [00:00<00:00, 308.16it/s]"
     ]
    },
    {
     "name": "stdout",
     "output_type": "stream",
     "text": [
      "total_meal: 60 TP:  9 FP:  21 FN:  4\n",
      "Segmentation Completed. \n"
     ]
    },
    {
     "name": "stderr",
     "output_type": "stream",
     "text": [
      "\n",
      "100%|██████████| 4/4 [00:00<00:00, 329.53it/s]\n"
     ]
    },
    {
     "name": "stdout",
     "output_type": "stream",
     "text": [
      "total_meal: 60 TP:  6 FP:  10 FN:  4\n",
      "Segmentation Completed. \n",
      "total_meal: 60 TP:  12 FP:  9 FN:  1\n"
     ]
    },
    {
     "name": "stderr",
     "output_type": "stream",
     "text": [
      "100%|██████████| 4/4 [00:00<00:00, 452.33it/s]\n",
      "100%|██████████| 5/5 [00:00<00:00, 296.90it/s]\n"
     ]
    },
    {
     "name": "stdout",
     "output_type": "stream",
     "text": [
      "Segmentation Completed. \n",
      "total_meal: 60 TP:  6 FP:  9 FN:  5\n",
      "  dataset    Ts   Te  TP  FN  FP    TPR  FP/TP\n",
      "0  lawler  0.75  0.1  40  20  60  0.667    1.5\n",
      "Segmentation Completed. \n"
     ]
    },
    {
     "name": "stderr",
     "output_type": "stream",
     "text": [
      "100%|██████████| 5/5 [00:00<00:00, 232.83it/s]"
     ]
    },
    {
     "name": "stdout",
     "output_type": "stream",
     "text": [
      "total_meal: 60 TP:  7 FP:  11 FN:  6\n",
      "Segmentation Completed. \n"
     ]
    },
    {
     "name": "stderr",
     "output_type": "stream",
     "text": [
      "\n",
      "100%|██████████| 5/5 [00:00<00:00, 295.99it/s]"
     ]
    },
    {
     "name": "stdout",
     "output_type": "stream",
     "text": [
      "total_meal: 60 TP:  9 FP:  22 FN:  4\n",
      "Segmentation Completed. \n"
     ]
    },
    {
     "name": "stderr",
     "output_type": "stream",
     "text": [
      "\n",
      "100%|██████████| 4/4 [00:00<00:00, 307.79it/s]\n"
     ]
    },
    {
     "name": "stdout",
     "output_type": "stream",
     "text": [
      "total_meal: 60 TP:  6 FP:  12 FN:  4\n",
      "Segmentation Completed. \n",
      "total_meal: 60 TP:  12 FP:  10 FN:  1\n"
     ]
    },
    {
     "name": "stderr",
     "output_type": "stream",
     "text": [
      "100%|██████████| 4/4 [00:00<00:00, 402.07it/s]\n"
     ]
    },
    {
     "name": "stdout",
     "output_type": "stream",
     "text": [
      "Segmentation Completed. \n"
     ]
    },
    {
     "name": "stderr",
     "output_type": "stream",
     "text": [
      "100%|██████████| 5/5 [00:00<00:00, 305.32it/s]"
     ]
    },
    {
     "name": "stdout",
     "output_type": "stream",
     "text": [
      "total_meal: 60 TP:  6 FP:  9 FN:  5\n",
      "  dataset    Ts    Te  TP  FN  FP    TPR  FP/TP\n",
      "0  lawler  0.75  0.15  40  20  64  0.667    1.6\n",
      "Segmentation Completed. \n",
      "total_meal: 60 TP:  7 FP:  11 FN:  6\n"
     ]
    },
    {
     "name": "stderr",
     "output_type": "stream",
     "text": [
      "\n",
      "100%|██████████| 5/5 [00:00<00:00, 251.86it/s]\n",
      "100%|██████████| 5/5 [00:00<00:00, 461.91it/s]\n"
     ]
    },
    {
     "name": "stdout",
     "output_type": "stream",
     "text": [
      "Segmentation Completed. \n",
      "total_meal: 60 TP:  9 FP:  22 FN:  4\n",
      "Segmentation Completed. \n"
     ]
    },
    {
     "name": "stderr",
     "output_type": "stream",
     "text": [
      "100%|██████████| 4/4 [00:00<00:00, 377.75it/s]\n"
     ]
    },
    {
     "name": "stdout",
     "output_type": "stream",
     "text": [
      "total_meal: 60 TP:  6 FP:  12 FN:  4\n",
      "Segmentation Completed. \n",
      "total_meal: 60 TP:  12 FP:  12 FN:  1\n"
     ]
    },
    {
     "name": "stderr",
     "output_type": "stream",
     "text": [
      "100%|██████████| 4/4 [00:00<00:00, 503.13it/s]\n",
      "100%|██████████| 5/5 [00:00<00:00, 322.54it/s]\n"
     ]
    },
    {
     "name": "stdout",
     "output_type": "stream",
     "text": [
      "Segmentation Completed. \n",
      "total_meal: 60 TP:  6 FP:  9 FN:  5\n",
      "  dataset    Ts   Te  TP  FN  FP    TPR  FP/TP\n",
      "0  lawler  0.75  0.2  40  20  66  0.667   1.65\n",
      "Segmentation Completed. \n"
     ]
    },
    {
     "name": "stderr",
     "output_type": "stream",
     "text": [
      "100%|██████████| 5/5 [00:00<00:00, 253.65it/s]\n"
     ]
    },
    {
     "name": "stdout",
     "output_type": "stream",
     "text": [
      "total_meal: 60 TP:  7 FP:  11 FN:  6\n",
      "Segmentation Completed. \n",
      "total_meal: 60 TP:  9 FP:  22 FN:  4\n"
     ]
    },
    {
     "name": "stderr",
     "output_type": "stream",
     "text": [
      "100%|██████████| 5/5 [00:00<00:00, 461.85it/s]\n",
      "100%|██████████| 4/4 [00:00<00:00, 347.76it/s]\n"
     ]
    },
    {
     "name": "stdout",
     "output_type": "stream",
     "text": [
      "Segmentation Completed. \n",
      "total_meal: 60 TP:  7 FP:  12 FN:  3\n",
      "Segmentation Completed. \n"
     ]
    },
    {
     "name": "stderr",
     "output_type": "stream",
     "text": [
      "100%|██████████| 4/4 [00:00<00:00, 451.36it/s]\n"
     ]
    },
    {
     "name": "stdout",
     "output_type": "stream",
     "text": [
      "total_meal: 60 TP:  12 FP:  12 FN:  1\n",
      "Segmentation Completed. \n",
      "total_meal: 60 TP:  6 FP:  10 FN:  5\n",
      "  dataset    Ts    Te  TP  FN  FP    TPR  FP/TP\n",
      "0  lawler  0.75  0.25  41  19  67  0.683  1.634\n"
     ]
    },
    {
     "name": "stderr",
     "output_type": "stream",
     "text": [
      "100%|██████████| 5/5 [00:00<00:00, 297.14it/s]\n",
      "  0%|          | 0/5 [00:00<?, ?it/s]"
     ]
    },
    {
     "name": "stdout",
     "output_type": "stream",
     "text": [
      "Segmentation Completed. \n",
      "total_meal: 60 TP:  7 FP:  12 FN:  6\n"
     ]
    },
    {
     "name": "stderr",
     "output_type": "stream",
     "text": [
      "100%|██████████| 5/5 [00:00<00:00, 187.61it/s]\n"
     ]
    },
    {
     "name": "stdout",
     "output_type": "stream",
     "text": [
      "Segmentation Completed. \n",
      "total_meal: 60 TP:  9 FP:  22 FN:  4\n"
     ]
    },
    {
     "name": "stderr",
     "output_type": "stream",
     "text": [
      "100%|██████████| 5/5 [00:00<00:00, 291.52it/s]\n",
      "100%|██████████| 4/4 [00:00<00:00, 337.92it/s]\n"
     ]
    },
    {
     "name": "stdout",
     "output_type": "stream",
     "text": [
      "Segmentation Completed. \n",
      "total_meal: 60 TP:  7 FP:  12 FN:  3\n",
      "Segmentation Completed. \n"
     ]
    },
    {
     "name": "stderr",
     "output_type": "stream",
     "text": [
      "100%|██████████| 4/4 [00:00<00:00, 449.65it/s]\n"
     ]
    },
    {
     "name": "stdout",
     "output_type": "stream",
     "text": [
      "total_meal: 60 TP:  12 FP:  13 FN:  1\n",
      "Segmentation Completed. \n",
      "total_meal: 60 TP:  6 FP:  10 FN:  5\n",
      "  dataset    Ts   Te  TP  FN  FP    TPR  FP/TP\n",
      "0  lawler  0.75  0.3  41  19  69  0.683  1.683\n"
     ]
    },
    {
     "name": "stderr",
     "output_type": "stream",
     "text": [
      "100%|██████████| 5/5 [00:00<00:00, 296.73it/s]\n",
      "100%|██████████| 5/5 [00:00<00:00, 222.29it/s]\n"
     ]
    },
    {
     "name": "stdout",
     "output_type": "stream",
     "text": [
      "Segmentation Completed. \n",
      "total_meal: 60 TP:  7 FP:  12 FN:  6\n",
      "Segmentation Completed. \n"
     ]
    },
    {
     "name": "stderr",
     "output_type": "stream",
     "text": [
      "100%|██████████| 5/5 [00:00<00:00, 436.95it/s]\n"
     ]
    },
    {
     "name": "stdout",
     "output_type": "stream",
     "text": [
      "total_meal: 60 TP:  9 FP:  22 FN:  4\n",
      "Segmentation Completed. \n",
      "total_meal: 60 TP:  7 FP:  12 FN:  3\n"
     ]
    },
    {
     "name": "stderr",
     "output_type": "stream",
     "text": [
      "100%|██████████| 4/4 [00:00<00:00, 375.11it/s]\n",
      "100%|██████████| 4/4 [00:00<00:00, 509.06it/s]\n"
     ]
    },
    {
     "name": "stdout",
     "output_type": "stream",
     "text": [
      "Segmentation Completed. \n",
      "total_meal: 60 TP:  12 FP:  13 FN:  1\n",
      "Segmentation Completed. \n"
     ]
    },
    {
     "name": "stderr",
     "output_type": "stream",
     "text": [
      "100%|██████████| 5/5 [00:00<00:00, 323.90it/s]\n"
     ]
    },
    {
     "name": "stdout",
     "output_type": "stream",
     "text": [
      "total_meal: 60 TP:  6 FP:  10 FN:  5\n",
      "  dataset    Ts    Te  TP  FN  FP    TPR  FP/TP\n",
      "0  lawler  0.75  0.35  41  19  69  0.683  1.683\n",
      "Segmentation Completed. \n",
      "total_meal: 60 TP:  7 FP:  12 FN:  6\n"
     ]
    },
    {
     "name": "stderr",
     "output_type": "stream",
     "text": [
      "100%|██████████| 5/5 [00:00<00:00, 257.90it/s]\n",
      "100%|██████████| 5/5 [00:00<00:00, 449.87it/s]\n"
     ]
    },
    {
     "name": "stdout",
     "output_type": "stream",
     "text": [
      "Segmentation Completed. \n",
      "total_meal: 60 TP:  9 FP:  22 FN:  4\n",
      "Segmentation Completed. \n"
     ]
    },
    {
     "name": "stderr",
     "output_type": "stream",
     "text": [
      "100%|██████████| 4/4 [00:00<00:00, 360.19it/s]\n"
     ]
    },
    {
     "name": "stdout",
     "output_type": "stream",
     "text": [
      "total_meal: 60 TP:  7 FP:  12 FN:  3\n",
      "Segmentation Completed. \n",
      "total_meal: 60 TP:  12 FP:  13 FN:  1\n"
     ]
    },
    {
     "name": "stderr",
     "output_type": "stream",
     "text": [
      "100%|██████████| 4/4 [00:00<00:00, 502.28it/s]\n",
      "100%|██████████| 5/5 [00:00<00:00, 324.93it/s]\n"
     ]
    },
    {
     "name": "stdout",
     "output_type": "stream",
     "text": [
      "Segmentation Completed. \n",
      "total_meal: 60 TP:  6 FP:  10 FN:  5\n",
      "  dataset    Ts   Te  TP  FN  FP    TPR  FP/TP\n",
      "0  lawler  0.75  0.4  41  19  69  0.683  1.683\n",
      "Segmentation Completed. \n"
     ]
    },
    {
     "name": "stderr",
     "output_type": "stream",
     "text": [
      "100%|██████████| 5/5 [00:00<00:00, 186.28it/s]"
     ]
    },
    {
     "name": "stdout",
     "output_type": "stream",
     "text": [
      "total_meal: 60 TP:  6 FP:  11 FN:  7\n",
      "Segmentation Completed. \n"
     ]
    },
    {
     "name": "stderr",
     "output_type": "stream",
     "text": [
      "\n",
      "100%|██████████| 5/5 [00:00<00:00, 340.14it/s]"
     ]
    },
    {
     "name": "stdout",
     "output_type": "stream",
     "text": [
      "total_meal: 60 TP:  9 FP:  21 FN:  4\n",
      "Segmentation Completed. \n"
     ]
    },
    {
     "name": "stderr",
     "output_type": "stream",
     "text": [
      "\n",
      "100%|██████████| 4/4 [00:00<00:00, 324.77it/s]\n"
     ]
    },
    {
     "name": "stdout",
     "output_type": "stream",
     "text": [
      "total_meal: 60 TP:  7 FP:  12 FN:  3\n",
      "Segmentation Completed. \n"
     ]
    },
    {
     "name": "stderr",
     "output_type": "stream",
     "text": [
      "100%|██████████| 4/4 [00:00<00:00, 398.30it/s]\n"
     ]
    },
    {
     "name": "stdout",
     "output_type": "stream",
     "text": [
      "total_meal: 60 TP:  12 FP:  13 FN:  1\n",
      "Segmentation Completed. \n",
      "total_meal: 60 TP:  6 FP:  10 FN:  5\n",
      "  dataset    Ts    Te  TP  FN  FP    TPR  FP/TP\n",
      "0  lawler  0.75  0.45  40  20  67  0.667  1.675\n"
     ]
    },
    {
     "name": "stderr",
     "output_type": "stream",
     "text": [
      "100%|██████████| 5/5 [00:00<00:00, 237.75it/s]\n",
      "100%|██████████| 5/5 [00:00<00:00, 213.50it/s]\n"
     ]
    },
    {
     "name": "stdout",
     "output_type": "stream",
     "text": [
      "Segmentation Completed. \n",
      "total_meal: 60 TP:  7 FP:  6 FN:  6\n",
      "Segmentation Completed. \n"
     ]
    },
    {
     "name": "stderr",
     "output_type": "stream",
     "text": [
      "100%|██████████| 5/5 [00:00<00:00, 292.51it/s]"
     ]
    },
    {
     "name": "stdout",
     "output_type": "stream",
     "text": [
      "total_meal: 60 TP:  9 FP:  18 FN:  4\n",
      "Segmentation Completed. \n"
     ]
    },
    {
     "name": "stderr",
     "output_type": "stream",
     "text": [
      "\n",
      "100%|██████████| 4/4 [00:00<00:00, 305.52it/s]"
     ]
    },
    {
     "name": "stdout",
     "output_type": "stream",
     "text": [
      "total_meal: 60 TP:  6 FP:  7 FN:  4\n",
      "Segmentation Completed. \n"
     ]
    },
    {
     "name": "stderr",
     "output_type": "stream",
     "text": [
      "\n",
      "100%|██████████| 4/4 [00:00<00:00, 412.00it/s]\n"
     ]
    },
    {
     "name": "stdout",
     "output_type": "stream",
     "text": [
      "total_meal: 60 TP:  12 FP:  5 FN:  1\n",
      "Segmentation Completed. \n",
      "total_meal: 60 TP:  5 FP:  6 FN:  6\n",
      "  dataset   Ts   Te  TP  FN  FP   TPR  FP/TP\n",
      "0  lawler  0.8  0.1  39  21  42  0.65  1.077\n"
     ]
    },
    {
     "name": "stderr",
     "output_type": "stream",
     "text": [
      "100%|██████████| 5/5 [00:00<00:00, 297.04it/s]\n",
      "100%|██████████| 5/5 [00:00<00:00, 237.99it/s]\n"
     ]
    },
    {
     "name": "stdout",
     "output_type": "stream",
     "text": [
      "Segmentation Completed. \n",
      "total_meal: 60 TP:  7 FP:  6 FN:  6\n",
      "Segmentation Completed. \n"
     ]
    },
    {
     "name": "stderr",
     "output_type": "stream",
     "text": [
      "100%|██████████| 5/5 [00:00<00:00, 413.39it/s]\n"
     ]
    },
    {
     "name": "stdout",
     "output_type": "stream",
     "text": [
      "total_meal: 60 TP:  9 FP:  19 FN:  4\n",
      "Segmentation Completed. \n",
      "total_meal: 60 TP:  6 FP:  9 FN:  4\n"
     ]
    },
    {
     "name": "stderr",
     "output_type": "stream",
     "text": [
      "100%|██████████| 4/4 [00:00<00:00, 255.43it/s]\n",
      "  0%|          | 0/4 [00:00<?, ?it/s]"
     ]
    },
    {
     "name": "stdout",
     "output_type": "stream",
     "text": [
      "Segmentation Completed. \n",
      "total_meal: 60 TP:  12 FP:  5 FN:  1\n"
     ]
    },
    {
     "name": "stderr",
     "output_type": "stream",
     "text": [
      "100%|██████████| 4/4 [00:00<00:00, 469.21it/s]\n",
      "100%|██████████| 5/5 [00:00<00:00, 269.28it/s]\n"
     ]
    },
    {
     "name": "stdout",
     "output_type": "stream",
     "text": [
      "Segmentation Completed. \n",
      "total_meal: 60 TP:  5 FP:  7 FN:  6\n",
      "  dataset   Ts    Te  TP  FN  FP   TPR  FP/TP\n",
      "0  lawler  0.8  0.15  39  21  46  0.65  1.179\n",
      "Segmentation Completed. \n"
     ]
    },
    {
     "name": "stderr",
     "output_type": "stream",
     "text": [
      "100%|██████████| 5/5 [00:00<00:00, 239.61it/s]\n"
     ]
    },
    {
     "name": "stdout",
     "output_type": "stream",
     "text": [
      "total_meal: 60 TP:  7 FP:  6 FN:  6\n",
      "Segmentation Completed. \n",
      "total_meal: 60 TP:  9 FP:  19 FN:  4\n"
     ]
    },
    {
     "name": "stderr",
     "output_type": "stream",
     "text": [
      "100%|██████████| 5/5 [00:00<00:00, 411.45it/s]\n",
      "100%|██████████| 4/4 [00:00<00:00, 295.26it/s]\n"
     ]
    },
    {
     "name": "stdout",
     "output_type": "stream",
     "text": [
      "Segmentation Completed. \n",
      "total_meal: 60 TP:  6 FP:  9 FN:  4\n",
      "Segmentation Completed. \n"
     ]
    },
    {
     "name": "stderr",
     "output_type": "stream",
     "text": [
      "100%|██████████| 4/4 [00:00<00:00, 313.56it/s]"
     ]
    },
    {
     "name": "stdout",
     "output_type": "stream",
     "text": [
      "total_meal: 60 TP:  12 FP:  6 FN:  1\n",
      "Segmentation Completed. \n"
     ]
    },
    {
     "name": "stderr",
     "output_type": "stream",
     "text": [
      "\n",
      "100%|██████████| 5/5 [00:00<00:00, 286.19it/s]"
     ]
    },
    {
     "name": "stdout",
     "output_type": "stream",
     "text": [
      "total_meal: 60 TP:  5 FP:  7 FN:  6\n",
      "  dataset   Ts   Te  TP  FN  FP   TPR  FP/TP\n",
      "0  lawler  0.8  0.2  39  21  47  0.65  1.205\n",
      "Segmentation Completed. \n"
     ]
    },
    {
     "name": "stderr",
     "output_type": "stream",
     "text": [
      "\n",
      "100%|██████████| 5/5 [00:00<00:00, 241.21it/s]\n"
     ]
    },
    {
     "name": "stdout",
     "output_type": "stream",
     "text": [
      "total_meal: 60 TP:  7 FP:  6 FN:  6\n",
      "Segmentation Completed. \n"
     ]
    },
    {
     "name": "stderr",
     "output_type": "stream",
     "text": [
      "100%|██████████| 5/5 [00:00<00:00, 419.09it/s]\n"
     ]
    },
    {
     "name": "stdout",
     "output_type": "stream",
     "text": [
      "total_meal: 60 TP:  9 FP:  19 FN:  4\n",
      "Segmentation Completed. \n",
      "total_meal: 60 TP:  7 FP:  9 FN:  3\n"
     ]
    },
    {
     "name": "stderr",
     "output_type": "stream",
     "text": [
      "100%|██████████| 4/4 [00:00<00:00, 294.01it/s]\n",
      "  0%|          | 0/4 [00:00<?, ?it/s]"
     ]
    },
    {
     "name": "stdout",
     "output_type": "stream",
     "text": [
      "Segmentation Completed. \n",
      "total_meal: 60 TP:  12 FP:  6 FN:  1\n"
     ]
    },
    {
     "name": "stderr",
     "output_type": "stream",
     "text": [
      "100%|██████████| 4/4 [00:00<00:00, 303.25it/s]\n"
     ]
    },
    {
     "name": "stdout",
     "output_type": "stream",
     "text": [
      "Segmentation Completed. \n",
      "total_meal: 60 TP:  5 FP:  7 FN:  6\n",
      "  dataset   Ts    Te  TP  FN  FP    TPR  FP/TP\n",
      "0  lawler  0.8  0.25  40  20  47  0.667  1.175\n"
     ]
    },
    {
     "name": "stderr",
     "output_type": "stream",
     "text": [
      "100%|██████████| 5/5 [00:00<00:00, 292.92it/s]\n",
      "100%|██████████| 5/5 [00:00<00:00, 220.78it/s]\n"
     ]
    },
    {
     "name": "stdout",
     "output_type": "stream",
     "text": [
      "Segmentation Completed. \n",
      "total_meal: 60 TP:  7 FP:  7 FN:  6\n",
      "Segmentation Completed. \n"
     ]
    },
    {
     "name": "stderr",
     "output_type": "stream",
     "text": [
      "100%|██████████| 5/5 [00:00<00:00, 419.65it/s]\n"
     ]
    },
    {
     "name": "stdout",
     "output_type": "stream",
     "text": [
      "total_meal: 60 TP:  9 FP:  19 FN:  4\n",
      "Segmentation Completed. \n",
      "total_meal: 60 TP:  7 FP:  9 FN:  3\n"
     ]
    },
    {
     "name": "stderr",
     "output_type": "stream",
     "text": [
      "100%|██████████| 4/4 [00:00<00:00, 346.84it/s]\n",
      "100%|██████████| 4/4 [00:00<00:00, 415.99it/s]\n"
     ]
    },
    {
     "name": "stdout",
     "output_type": "stream",
     "text": [
      "Segmentation Completed. \n",
      "total_meal: 60 TP:  12 FP:  6 FN:  1\n",
      "Segmentation Completed. \n"
     ]
    },
    {
     "name": "stderr",
     "output_type": "stream",
     "text": [
      "100%|██████████| 5/5 [00:00<00:00, 222.35it/s]"
     ]
    },
    {
     "name": "stdout",
     "output_type": "stream",
     "text": [
      "total_meal: 60 TP:  5 FP:  7 FN:  6\n",
      "  dataset   Ts   Te  TP  FN  FP    TPR  FP/TP\n",
      "0  lawler  0.8  0.3  40  20  48  0.667    1.2\n",
      "Segmentation Completed. \n"
     ]
    },
    {
     "name": "stderr",
     "output_type": "stream",
     "text": [
      "\n",
      "100%|██████████| 5/5 [00:00<00:00, 244.10it/s]"
     ]
    },
    {
     "name": "stdout",
     "output_type": "stream",
     "text": [
      "total_meal: 60 TP:  7 FP:  7 FN:  6\n",
      "Segmentation Completed. \n"
     ]
    },
    {
     "name": "stderr",
     "output_type": "stream",
     "text": [
      "\n",
      "100%|██████████| 5/5 [00:00<00:00, 374.92it/s]\n"
     ]
    },
    {
     "name": "stdout",
     "output_type": "stream",
     "text": [
      "total_meal: 60 TP:  9 FP:  19 FN:  4\n",
      "Segmentation Completed. \n",
      "total_meal: 60 TP:  7 FP:  9 FN:  3\n"
     ]
    },
    {
     "name": "stderr",
     "output_type": "stream",
     "text": [
      "100%|██████████| 4/4 [00:00<00:00, 346.17it/s]\n",
      "100%|██████████| 4/4 [00:00<00:00, 446.87it/s]\n"
     ]
    },
    {
     "name": "stdout",
     "output_type": "stream",
     "text": [
      "Segmentation Completed. \n",
      "total_meal: 60 TP:  12 FP:  6 FN:  1\n",
      "Segmentation Completed. \n"
     ]
    },
    {
     "name": "stderr",
     "output_type": "stream",
     "text": [
      "100%|██████████| 5/5 [00:00<00:00, 282.85it/s]\n"
     ]
    },
    {
     "name": "stdout",
     "output_type": "stream",
     "text": [
      "total_meal: 60 TP:  5 FP:  7 FN:  6\n",
      "  dataset   Ts    Te  TP  FN  FP    TPR  FP/TP\n",
      "0  lawler  0.8  0.35  40  20  48  0.667    1.2\n",
      "Segmentation Completed. \n"
     ]
    },
    {
     "name": "stderr",
     "output_type": "stream",
     "text": [
      "100%|██████████| 5/5 [00:00<00:00, 187.58it/s]"
     ]
    },
    {
     "name": "stdout",
     "output_type": "stream",
     "text": [
      "total_meal: 60 TP:  7 FP:  7 FN:  6\n",
      "Segmentation Completed. \n"
     ]
    },
    {
     "name": "stderr",
     "output_type": "stream",
     "text": [
      "\n",
      "100%|██████████| 5/5 [00:00<00:00, 373.86it/s]"
     ]
    },
    {
     "name": "stdout",
     "output_type": "stream",
     "text": [
      "total_meal: 60 TP:  9 FP:  19 FN:  4\n",
      "Segmentation Completed. \n",
      "total_meal: 60 TP:  7 FP:  9 FN:  3\n"
     ]
    },
    {
     "name": "stderr",
     "output_type": "stream",
     "text": [
      "\n",
      "100%|██████████| 4/4 [00:00<00:00, 316.66it/s]\n",
      "100%|██████████| 4/4 [00:00<00:00, 444.71it/s]\n"
     ]
    },
    {
     "name": "stdout",
     "output_type": "stream",
     "text": [
      "Segmentation Completed. \n",
      "total_meal: 60 TP:  12 FP:  6 FN:  1\n",
      "Segmentation Completed. \n"
     ]
    },
    {
     "name": "stderr",
     "output_type": "stream",
     "text": [
      "100%|██████████| 5/5 [00:00<00:00, 296.26it/s]\n"
     ]
    },
    {
     "name": "stdout",
     "output_type": "stream",
     "text": [
      "total_meal: 60 TP:  5 FP:  7 FN:  6\n",
      "  dataset   Ts   Te  TP  FN  FP    TPR  FP/TP\n",
      "0  lawler  0.8  0.4  40  20  48  0.667    1.2\n",
      "Segmentation Completed. \n",
      "total_meal: 60 TP:  6 FP:  8 FN:  7\n"
     ]
    },
    {
     "name": "stderr",
     "output_type": "stream",
     "text": [
      "100%|██████████| 5/5 [00:00<00:00, 184.82it/s]\n"
     ]
    },
    {
     "name": "stdout",
     "output_type": "stream",
     "text": [
      "Segmentation Completed. \n",
      "total_meal: 60 TP:  9 FP:  20 FN:  4\n"
     ]
    },
    {
     "name": "stderr",
     "output_type": "stream",
     "text": [
      "100%|██████████| 5/5 [00:00<00:00, 302.97it/s]\n",
      "100%|██████████| 4/4 [00:00<00:00, 331.86it/s]\n"
     ]
    },
    {
     "name": "stdout",
     "output_type": "stream",
     "text": [
      "Segmentation Completed. \n",
      "total_meal: 60 TP:  7 FP:  9 FN:  3\n",
      "Segmentation Completed. \n"
     ]
    },
    {
     "name": "stderr",
     "output_type": "stream",
     "text": [
      "100%|██████████| 4/4 [00:00<00:00, 456.66it/s]\n"
     ]
    },
    {
     "name": "stdout",
     "output_type": "stream",
     "text": [
      "total_meal: 60 TP:  12 FP:  5 FN:  1\n",
      "Segmentation Completed. \n",
      "total_meal: 60 TP:  5 FP:  7 FN:  6\n",
      "  dataset   Ts    Te  TP  FN  FP   TPR  FP/TP\n",
      "0  lawler  0.8  0.45  39  21  49  0.65  1.256\n"
     ]
    },
    {
     "name": "stderr",
     "output_type": "stream",
     "text": [
      "100%|██████████| 5/5 [00:00<00:00, 298.23it/s]\n",
      "100%|██████████| 5/5 [00:00<00:00, 217.80it/s]\n"
     ]
    },
    {
     "name": "stdout",
     "output_type": "stream",
     "text": [
      "Segmentation Completed. \n",
      "total_meal: 60 TP:  7 FP:  5 FN:  6\n",
      "Segmentation Completed. \n"
     ]
    },
    {
     "name": "stderr",
     "output_type": "stream",
     "text": [
      "100%|██████████| 5/5 [00:00<00:00, 291.72it/s]"
     ]
    },
    {
     "name": "stdout",
     "output_type": "stream",
     "text": [
      "total_meal: 60 TP:  8 FP:  14 FN:  5\n",
      "Segmentation Completed. \n"
     ]
    },
    {
     "name": "stderr",
     "output_type": "stream",
     "text": [
      "\n",
      "100%|██████████| 4/4 [00:00<00:00, 246.94it/s]"
     ]
    },
    {
     "name": "stdout",
     "output_type": "stream",
     "text": [
      "total_meal: 60 TP:  6 FP:  7 FN:  4\n",
      "Segmentation Completed. \n"
     ]
    },
    {
     "name": "stderr",
     "output_type": "stream",
     "text": [
      "\n",
      "100%|██████████| 4/4 [00:00<00:00, 407.35it/s]\n"
     ]
    },
    {
     "name": "stdout",
     "output_type": "stream",
     "text": [
      "total_meal: 60 TP:  12 FP:  3 FN:  1\n",
      "Segmentation Completed. \n",
      "total_meal: 60 TP:  2 FP:  6 FN:  9\n",
      "  dataset    Ts   Te  TP  FN  FP    TPR  FP/TP\n",
      "0  lawler  0.85  0.1  35  25  35  0.583    1.0\n"
     ]
    },
    {
     "name": "stderr",
     "output_type": "stream",
     "text": [
      "100%|██████████| 5/5 [00:00<00:00, 300.34it/s]\n",
      "100%|██████████| 5/5 [00:00<00:00, 238.20it/s]\n"
     ]
    },
    {
     "name": "stdout",
     "output_type": "stream",
     "text": [
      "Segmentation Completed. \n",
      "total_meal: 60 TP:  7 FP:  5 FN:  6\n",
      "Segmentation Completed. \n"
     ]
    },
    {
     "name": "stderr",
     "output_type": "stream",
     "text": [
      "100%|██████████| 5/5 [00:00<00:00, 439.24it/s]\n"
     ]
    },
    {
     "name": "stdout",
     "output_type": "stream",
     "text": [
      "total_meal: 60 TP:  8 FP:  15 FN:  5\n",
      "Segmentation Completed. \n",
      "total_meal: 60 TP:  5 FP:  9 FN:  5\n"
     ]
    },
    {
     "name": "stderr",
     "output_type": "stream",
     "text": [
      "100%|██████████| 4/4 [00:00<00:00, 385.55it/s]\n",
      "100%|██████████| 4/4 [00:00<00:00, 514.18it/s]\n"
     ]
    },
    {
     "name": "stdout",
     "output_type": "stream",
     "text": [
      "Segmentation Completed. \n",
      "total_meal: 60 TP:  12 FP:  4 FN:  1\n",
      "Segmentation Completed. \n"
     ]
    },
    {
     "name": "stderr",
     "output_type": "stream",
     "text": [
      "100%|██████████| 5/5 [00:00<00:00, 326.62it/s]\n"
     ]
    },
    {
     "name": "stdout",
     "output_type": "stream",
     "text": [
      "total_meal: 60 TP:  2 FP:  6 FN:  9\n",
      "  dataset    Ts    Te  TP  FN  FP    TPR  FP/TP\n",
      "0  lawler  0.85  0.15  34  26  39  0.567  1.147\n",
      "Segmentation Completed. \n",
      "total_meal: 60 TP:  7 FP:  5 FN:  6\n"
     ]
    },
    {
     "name": "stderr",
     "output_type": "stream",
     "text": [
      "100%|██████████| 5/5 [00:00<00:00, 258.29it/s]\n",
      "100%|██████████| 5/5 [00:00<00:00, 465.58it/s]\n"
     ]
    },
    {
     "name": "stdout",
     "output_type": "stream",
     "text": [
      "Segmentation Completed. \n",
      "total_meal: 60 TP:  8 FP:  15 FN:  5\n",
      "Segmentation Completed. \n"
     ]
    },
    {
     "name": "stderr",
     "output_type": "stream",
     "text": [
      "100%|██████████| 4/4 [00:00<00:00, 358.73it/s]\n"
     ]
    },
    {
     "name": "stdout",
     "output_type": "stream",
     "text": [
      "total_meal: 60 TP:  5 FP:  9 FN:  5\n",
      "Segmentation Completed. \n",
      "total_meal: 60 TP:  11 FP:  6 FN:  2\n"
     ]
    },
    {
     "name": "stderr",
     "output_type": "stream",
     "text": [
      "100%|██████████| 4/4 [00:00<00:00, 455.93it/s]\n",
      "100%|██████████| 5/5 [00:00<00:00, 300.88it/s]\n"
     ]
    },
    {
     "name": "stdout",
     "output_type": "stream",
     "text": [
      "Segmentation Completed. \n",
      "total_meal: 60 TP:  2 FP:  6 FN:  9\n",
      "  dataset    Ts   Te  TP  FN  FP   TPR  FP/TP\n",
      "0  lawler  0.85  0.2  33  27  41  0.55  1.242\n",
      "Segmentation Completed. \n"
     ]
    },
    {
     "name": "stderr",
     "output_type": "stream",
     "text": [
      "100%|██████████| 5/5 [00:00<00:00, 238.88it/s]\n"
     ]
    },
    {
     "name": "stdout",
     "output_type": "stream",
     "text": [
      "total_meal: 60 TP:  7 FP:  5 FN:  6\n",
      "Segmentation Completed. \n",
      "total_meal: 60 TP:  8 FP:  15 FN:  5\n"
     ]
    },
    {
     "name": "stderr",
     "output_type": "stream",
     "text": [
      "100%|██████████| 5/5 [00:00<00:00, 383.59it/s]\n"
     ]
    },
    {
     "name": "stdout",
     "output_type": "stream",
     "text": [
      "Segmentation Completed. \n",
      "total_meal: 60 TP:  6 FP:  9 FN:  4\n"
     ]
    },
    {
     "name": "stderr",
     "output_type": "stream",
     "text": [
      "100%|██████████| 4/4 [00:00<00:00, 252.36it/s]\n"
     ]
    },
    {
     "name": "stdout",
     "output_type": "stream",
     "text": [
      "Segmentation Completed. \n",
      "total_meal: 60 TP:  11 FP:  6 FN:  2\n"
     ]
    },
    {
     "name": "stderr",
     "output_type": "stream",
     "text": [
      "100%|██████████| 4/4 [00:00<00:00, 395.67it/s]\n",
      "100%|██████████| 5/5 [00:00<00:00, 279.86it/s]\n"
     ]
    },
    {
     "name": "stdout",
     "output_type": "stream",
     "text": [
      "Segmentation Completed. \n",
      "total_meal: 60 TP:  2 FP:  6 FN:  9\n",
      "  dataset    Ts    Te  TP  FN  FP    TPR  FP/TP\n",
      "0  lawler  0.85  0.25  34  26  41  0.567  1.206\n",
      "Segmentation Completed. \n"
     ]
    },
    {
     "name": "stderr",
     "output_type": "stream",
     "text": [
      "100%|██████████| 5/5 [00:00<00:00, 243.53it/s]\n"
     ]
    },
    {
     "name": "stdout",
     "output_type": "stream",
     "text": [
      "total_meal: 60 TP:  7 FP:  6 FN:  6\n",
      "Segmentation Completed. \n",
      "total_meal: 60 TP:  8 FP:  15 FN:  5\n"
     ]
    },
    {
     "name": "stderr",
     "output_type": "stream",
     "text": [
      "100%|██████████| 5/5 [00:00<00:00, 416.51it/s]\n",
      "100%|██████████| 4/4 [00:00<00:00, 350.75it/s]\n"
     ]
    },
    {
     "name": "stdout",
     "output_type": "stream",
     "text": [
      "Segmentation Completed. \n",
      "total_meal: 60 TP:  6 FP:  9 FN:  4\n",
      "Segmentation Completed. \n"
     ]
    },
    {
     "name": "stderr",
     "output_type": "stream",
     "text": [
      "100%|██████████| 4/4 [00:00<00:00, 475.06it/s]\n"
     ]
    },
    {
     "name": "stdout",
     "output_type": "stream",
     "text": [
      "total_meal: 60 TP:  11 FP:  6 FN:  2\n",
      "Segmentation Completed. \n",
      "total_meal: 60 TP:  2 FP:  6 FN:  9\n",
      "  dataset    Ts   Te  TP  FN  FP    TPR  FP/TP\n",
      "0  lawler  0.85  0.3  34  26  42  0.567  1.235\n"
     ]
    },
    {
     "name": "stderr",
     "output_type": "stream",
     "text": [
      "100%|██████████| 5/5 [00:00<00:00, 325.97it/s]\n",
      "100%|██████████| 5/5 [00:00<00:00, 255.16it/s]"
     ]
    },
    {
     "name": "stdout",
     "output_type": "stream",
     "text": [
      "Segmentation Completed. \n",
      "total_meal: 60 TP:  7 FP:  6 FN:  6\n"
     ]
    },
    {
     "name": "stderr",
     "output_type": "stream",
     "text": [
      "\n",
      "100%|██████████| 5/5 [00:00<00:00, 465.83it/s]\n"
     ]
    },
    {
     "name": "stdout",
     "output_type": "stream",
     "text": [
      "Segmentation Completed. \n",
      "total_meal: 60 TP:  8 FP:  15 FN:  5\n",
      "Segmentation Completed. \n"
     ]
    },
    {
     "name": "stderr",
     "output_type": "stream",
     "text": [
      "100%|██████████| 4/4 [00:00<00:00, 380.55it/s]\n"
     ]
    },
    {
     "name": "stdout",
     "output_type": "stream",
     "text": [
      "total_meal: 60 TP:  6 FP:  9 FN:  4\n",
      "Segmentation Completed. \n",
      "total_meal: 60 TP:  11 FP:  6 FN:  2\n"
     ]
    },
    {
     "name": "stderr",
     "output_type": "stream",
     "text": [
      "100%|██████████| 4/4 [00:00<00:00, 509.82it/s]\n",
      "100%|██████████| 5/5 [00:00<00:00, 326.92it/s]\n"
     ]
    },
    {
     "name": "stdout",
     "output_type": "stream",
     "text": [
      "Segmentation Completed. \n",
      "total_meal: 60 TP:  2 FP:  6 FN:  9\n",
      "  dataset    Ts    Te  TP  FN  FP    TPR  FP/TP\n",
      "0  lawler  0.85  0.35  34  26  42  0.567  1.235\n",
      "Segmentation Completed. \n"
     ]
    },
    {
     "name": "stderr",
     "output_type": "stream",
     "text": [
      "100%|██████████| 5/5 [00:00<00:00, 259.11it/s]\n"
     ]
    },
    {
     "name": "stdout",
     "output_type": "stream",
     "text": [
      "total_meal: 60 TP:  7 FP:  6 FN:  6\n",
      "Segmentation Completed. \n",
      "total_meal: 60 TP:  8 FP:  15 FN:  5\n"
     ]
    },
    {
     "name": "stderr",
     "output_type": "stream",
     "text": [
      "100%|██████████| 5/5 [00:00<00:00, 395.52it/s]\n"
     ]
    },
    {
     "name": "stdout",
     "output_type": "stream",
     "text": [
      "Segmentation Completed. \n",
      "total_meal: 60 TP:  6 FP:  9 FN:  4\n"
     ]
    },
    {
     "name": "stderr",
     "output_type": "stream",
     "text": [
      "100%|██████████| 4/4 [00:00<00:00, 264.00it/s]\n",
      "100%|██████████| 4/4 [00:00<00:00, 369.60it/s]\n"
     ]
    },
    {
     "name": "stdout",
     "output_type": "stream",
     "text": [
      "Segmentation Completed. \n",
      "total_meal: 60 TP:  11 FP:  6 FN:  2\n",
      "Segmentation Completed. \n"
     ]
    },
    {
     "name": "stderr",
     "output_type": "stream",
     "text": [
      "100%|██████████| 5/5 [00:00<00:00, 272.82it/s]"
     ]
    },
    {
     "name": "stdout",
     "output_type": "stream",
     "text": [
      "total_meal: 60 TP:  2 FP:  6 FN:  9\n",
      "  dataset    Ts   Te  TP  FN  FP    TPR  FP/TP\n",
      "0  lawler  0.85  0.4  34  26  42  0.567  1.235\n",
      "Segmentation Completed. \n"
     ]
    },
    {
     "name": "stderr",
     "output_type": "stream",
     "text": [
      "\n",
      "100%|██████████| 5/5 [00:00<00:00, 239.84it/s]"
     ]
    },
    {
     "name": "stdout",
     "output_type": "stream",
     "text": [
      "total_meal: 60 TP:  6 FP:  7 FN:  7\n",
      "Segmentation Completed. \n",
      "total_meal: 60 TP:  8 FP:  16 FN:  5\n"
     ]
    },
    {
     "name": "stderr",
     "output_type": "stream",
     "text": [
      "\n",
      "100%|██████████| 5/5 [00:00<00:00, 289.69it/s]\n"
     ]
    },
    {
     "name": "stdout",
     "output_type": "stream",
     "text": [
      "Segmentation Completed. \n",
      "total_meal: 60 TP:  7 FP:  9 FN:  3\n"
     ]
    },
    {
     "name": "stderr",
     "output_type": "stream",
     "text": [
      "100%|██████████| 4/4 [00:00<00:00, 258.17it/s]\n",
      "100%|██████████| 4/4 [00:00<00:00, 430.48it/s]\n"
     ]
    },
    {
     "name": "stdout",
     "output_type": "stream",
     "text": [
      "Segmentation Completed. \n",
      "total_meal: 60 TP:  11 FP:  6 FN:  2\n",
      "Segmentation Completed. \n"
     ]
    },
    {
     "name": "stderr",
     "output_type": "stream",
     "text": [
      "100%|██████████| 3/3 [00:00<00:00, 228.34it/s]\n"
     ]
    },
    {
     "name": "stdout",
     "output_type": "stream",
     "text": [
      "total_meal: 60 TP:  2 FP:  6 FN:  9\n",
      "  dataset    Ts    Te  TP  FN  FP    TPR  FP/TP\n",
      "0  lawler  0.85  0.45  34  26  44  0.567  1.294\n",
      "Segmentation Completed. \n",
      "total_meal: 38 TP:  7 FP:  19 FN:  1\n"
     ]
    },
    {
     "name": "stderr",
     "output_type": "stream",
     "text": [
      "100%|██████████| 3/3 [00:00<00:00, 249.60it/s]\n",
      "100%|██████████| 3/3 [00:00<00:00, 220.47it/s]\n"
     ]
    },
    {
     "name": "stdout",
     "output_type": "stream",
     "text": [
      "Segmentation Completed. \n",
      "total_meal: 38 TP:  6 FP:  11 FN:  3\n",
      "Segmentation Completed. \n"
     ]
    },
    {
     "name": "stderr",
     "output_type": "stream",
     "text": [
      "100%|██████████| 2/2 [00:00<00:00, 247.83it/s]\n"
     ]
    },
    {
     "name": "stdout",
     "output_type": "stream",
     "text": [
      "total_meal: 38 TP:  9 FP:  17 FN:  0\n",
      "Segmentation Completed. \n",
      "total_meal: 38 TP:  6 FP:  7 FN:  0\n"
     ]
    },
    {
     "name": "stderr",
     "output_type": "stream",
     "text": [
      "100%|██████████| 2/2 [00:00<00:00, 290.92it/s]\n",
      "100%|██████████| 3/3 [00:00<00:00, 246.18it/s]\n"
     ]
    },
    {
     "name": "stdout",
     "output_type": "stream",
     "text": [
      "Segmentation Completed. \n",
      "total_meal: 38 TP:  4 FP:  9 FN:  2\n",
      "   dataset   Ts   Te  TP  FN  FP    TPR  FP/TP\n",
      "0  shaurya  0.5  0.1  32   6  63  0.842  1.969\n",
      "Segmentation Completed. \n",
      "total_meal: 38 TP:  7 FP:  19 FN:  1\n"
     ]
    },
    {
     "name": "stderr",
     "output_type": "stream",
     "text": [
      "100%|██████████| 3/3 [00:00<00:00, 270.09it/s]\n",
      "100%|██████████| 3/3 [00:00<00:00, 239.19it/s]\n"
     ]
    },
    {
     "name": "stdout",
     "output_type": "stream",
     "text": [
      "Segmentation Completed. \n",
      "total_meal: 38 TP:  6 FP:  11 FN:  3\n",
      "Segmentation Completed. \n",
      "total_meal: 38 TP:  9 FP:  19 FN:  0\n"
     ]
    },
    {
     "name": "stderr",
     "output_type": "stream",
     "text": [
      "100%|██████████| 2/2 [00:00<00:00, 266.41it/s]\n",
      "100%|██████████| 2/2 [00:00<00:00, 302.10it/s]\n"
     ]
    },
    {
     "name": "stdout",
     "output_type": "stream",
     "text": [
      "Segmentation Completed. \n",
      "total_meal: 38 TP:  6 FP:  7 FN:  0\n",
      "Segmentation Completed. \n",
      "total_meal: 38 TP:  4 FP:  9 FN:  2\n",
      "   dataset   Ts    Te  TP  FN  FP    TPR  FP/TP\n",
      "0  shaurya  0.5  0.15  32   6  65  0.842  2.031\n"
     ]
    },
    {
     "name": "stderr",
     "output_type": "stream",
     "text": [
      "100%|██████████| 3/3 [00:00<00:00, 226.05it/s]\n",
      "100%|██████████| 3/3 [00:00<00:00, 251.44it/s]\n"
     ]
    },
    {
     "name": "stdout",
     "output_type": "stream",
     "text": [
      "Segmentation Completed. \n",
      "total_meal: 38 TP:  7 FP:  19 FN:  1\n",
      "Segmentation Completed. \n",
      "total_meal: 38 TP:  7 FP:  12 FN:  2\n"
     ]
    },
    {
     "name": "stderr",
     "output_type": "stream",
     "text": [
      "100%|██████████| 3/3 [00:00<00:00, 212.67it/s]\n",
      "  0%|          | 0/2 [00:00<?, ?it/s]"
     ]
    },
    {
     "name": "stdout",
     "output_type": "stream",
     "text": [
      "Segmentation Completed. \n",
      "total_meal: 38 TP:  9 FP:  19 FN:  0\n"
     ]
    },
    {
     "name": "stderr",
     "output_type": "stream",
     "text": [
      "100%|██████████| 2/2 [00:00<00:00, 192.72it/s]\n",
      "100%|██████████| 2/2 [00:00<00:00, 220.88it/s]\n"
     ]
    },
    {
     "name": "stdout",
     "output_type": "stream",
     "text": [
      "Segmentation Completed. \n",
      "total_meal: 38 TP:  6 FP:  7 FN:  0\n",
      "Segmentation Completed. \n"
     ]
    },
    {
     "name": "stderr",
     "output_type": "stream",
     "text": [
      "100%|██████████| 3/3 [00:00<00:00, 221.87it/s]\n"
     ]
    },
    {
     "name": "stdout",
     "output_type": "stream",
     "text": [
      "total_meal: 38 TP:  4 FP:  9 FN:  2\n",
      "   dataset   Ts   Te  TP  FN  FP    TPR  FP/TP\n",
      "0  shaurya  0.5  0.2  33   5  66  0.868    2.0\n",
      "Segmentation Completed. \n",
      "total_meal: 38 TP:  7 FP:  18 FN:  1\n"
     ]
    },
    {
     "name": "stderr",
     "output_type": "stream",
     "text": [
      "100%|██████████| 3/3 [00:00<00:00, 252.19it/s]\n",
      "100%|██████████| 3/3 [00:00<00:00, 219.81it/s]\n"
     ]
    },
    {
     "name": "stdout",
     "output_type": "stream",
     "text": [
      "Segmentation Completed. \n",
      "total_meal: 38 TP:  9 FP:  14 FN:  0\n",
      "Segmentation Completed. \n"
     ]
    },
    {
     "name": "stderr",
     "output_type": "stream",
     "text": [
      "100%|██████████| 2/2 [00:00<00:00, 233.02it/s]\n"
     ]
    },
    {
     "name": "stdout",
     "output_type": "stream",
     "text": [
      "total_meal: 38 TP:  9 FP:  19 FN:  0\n",
      "Segmentation Completed. \n",
      "total_meal: 38 TP:  6 FP:  7 FN:  0\n"
     ]
    },
    {
     "name": "stderr",
     "output_type": "stream",
     "text": [
      "100%|██████████| 2/2 [00:00<00:00, 244.10it/s]\n"
     ]
    },
    {
     "name": "stdout",
     "output_type": "stream",
     "text": [
      "Segmentation Completed. \n",
      "total_meal: 38 TP:  4 FP:  10 FN:  2\n",
      "   dataset   Ts    Te  TP  FN  FP    TPR  FP/TP\n",
      "0  shaurya  0.5  0.25  35   3  68  0.921  1.943\n"
     ]
    },
    {
     "name": "stderr",
     "output_type": "stream",
     "text": [
      "100%|██████████| 3/3 [00:00<00:00, 181.82it/s]\n",
      "100%|██████████| 3/3 [00:00<00:00, 258.91it/s]\n"
     ]
    },
    {
     "name": "stdout",
     "output_type": "stream",
     "text": [
      "Segmentation Completed. \n",
      "total_meal: 38 TP:  7 FP:  18 FN:  1\n",
      "Segmentation Completed. \n"
     ]
    },
    {
     "name": "stderr",
     "output_type": "stream",
     "text": [
      "100%|██████████| 3/3 [00:00<00:00, 202.42it/s]\n"
     ]
    },
    {
     "name": "stdout",
     "output_type": "stream",
     "text": [
      "total_meal: 38 TP:  8 FP:  17 FN:  1\n",
      "Segmentation Completed. \n",
      "total_meal: 38 TP:  9 FP:  19 FN:  0\n"
     ]
    },
    {
     "name": "stderr",
     "output_type": "stream",
     "text": [
      "100%|██████████| 2/2 [00:00<00:00, 250.67it/s]\n",
      "100%|██████████| 2/2 [00:00<00:00, 269.57it/s]\n"
     ]
    },
    {
     "name": "stdout",
     "output_type": "stream",
     "text": [
      "Segmentation Completed. \n",
      "total_meal: 38 TP:  6 FP:  7 FN:  0\n",
      "Segmentation Completed. \n",
      "total_meal: 38 TP:  4 FP:  10 FN:  2\n",
      "   dataset   Ts   Te  TP  FN  FP    TPR  FP/TP\n",
      "0  shaurya  0.5  0.3  34   4  71  0.895  2.088\n"
     ]
    },
    {
     "name": "stderr",
     "output_type": "stream",
     "text": [
      "100%|██████████| 3/3 [00:00<00:00, 206.03it/s]\n",
      "100%|██████████| 3/3 [00:00<00:00, 253.74it/s]\n"
     ]
    },
    {
     "name": "stdout",
     "output_type": "stream",
     "text": [
      "Segmentation Completed. \n",
      "total_meal: 38 TP:  7 FP:  18 FN:  1\n",
      "Segmentation Completed. \n",
      "total_meal: 38 TP:  8 FP:  17 FN:  1\n"
     ]
    },
    {
     "name": "stderr",
     "output_type": "stream",
     "text": [
      "100%|██████████| 3/3 [00:00<00:00, 237.34it/s]\n",
      "100%|██████████| 2/2 [00:00<00:00, 269.02it/s]\n"
     ]
    },
    {
     "name": "stdout",
     "output_type": "stream",
     "text": [
      "Segmentation Completed. \n",
      "total_meal: 38 TP:  9 FP:  19 FN:  0\n",
      "Segmentation Completed. \n",
      "total_meal: 38 TP:  6 FP:  7 FN:  0\n"
     ]
    },
    {
     "name": "stderr",
     "output_type": "stream",
     "text": [
      "100%|██████████| 2/2 [00:00<00:00, 299.55it/s]\n",
      "100%|██████████| 3/3 [00:00<00:00, 245.50it/s]\n"
     ]
    },
    {
     "name": "stdout",
     "output_type": "stream",
     "text": [
      "Segmentation Completed. \n",
      "total_meal: 38 TP:  4 FP:  10 FN:  2\n",
      "   dataset   Ts    Te  TP  FN  FP    TPR  FP/TP\n",
      "0  shaurya  0.5  0.35  34   4  71  0.895  2.088\n",
      "Segmentation Completed. \n",
      "total_meal: 38 TP:  7 FP:  18 FN:  1\n"
     ]
    },
    {
     "name": "stderr",
     "output_type": "stream",
     "text": [
      "100%|██████████| 3/3 [00:00<00:00, 269.08it/s]\n",
      "100%|██████████| 3/3 [00:00<00:00, 238.48it/s]\n"
     ]
    },
    {
     "name": "stdout",
     "output_type": "stream",
     "text": [
      "Segmentation Completed. \n",
      "total_meal: 38 TP:  8 FP:  17 FN:  1\n",
      "Segmentation Completed. \n",
      "total_meal: 38 TP:  9 FP:  19 FN:  0\n"
     ]
    },
    {
     "name": "stderr",
     "output_type": "stream",
     "text": [
      "100%|██████████| 2/2 [00:00<00:00, 269.44it/s]\n",
      "100%|██████████| 2/2 [00:00<00:00, 299.71it/s]\n"
     ]
    },
    {
     "name": "stdout",
     "output_type": "stream",
     "text": [
      "Segmentation Completed. \n",
      "total_meal: 38 TP:  6 FP:  7 FN:  0\n",
      "Segmentation Completed. \n",
      "total_meal: 38 TP:  4 FP:  9 FN:  2\n",
      "   dataset   Ts   Te  TP  FN  FP    TPR  FP/TP\n",
      "0  shaurya  0.5  0.4  34   4  70  0.895  2.059\n"
     ]
    },
    {
     "name": "stderr",
     "output_type": "stream",
     "text": [
      "100%|██████████| 3/3 [00:00<00:00, 246.89it/s]\n",
      "100%|██████████| 3/3 [00:00<00:00, 268.97it/s]\n"
     ]
    },
    {
     "name": "stdout",
     "output_type": "stream",
     "text": [
      "Segmentation Completed. \n",
      "total_meal: 38 TP:  7 FP:  18 FN:  1\n",
      "Segmentation Completed. \n",
      "total_meal: 38 TP:  8 FP:  17 FN:  1\n"
     ]
    },
    {
     "name": "stderr",
     "output_type": "stream",
     "text": [
      "100%|██████████| 3/3 [00:00<00:00, 231.45it/s]\n",
      "100%|██████████| 2/2 [00:00<00:00, 268.97it/s]\n"
     ]
    },
    {
     "name": "stdout",
     "output_type": "stream",
     "text": [
      "Segmentation Completed. \n",
      "total_meal: 38 TP:  9 FP:  19 FN:  0\n",
      "Segmentation Completed. \n",
      "total_meal: 38 TP:  6 FP:  6 FN:  0\n"
     ]
    },
    {
     "name": "stderr",
     "output_type": "stream",
     "text": [
      "100%|██████████| 2/2 [00:00<00:00, 300.74it/s]\n",
      "100%|██████████| 3/3 [00:00<00:00, 207.54it/s]\n"
     ]
    },
    {
     "name": "stdout",
     "output_type": "stream",
     "text": [
      "Segmentation Completed. \n",
      "total_meal: 38 TP:  4 FP:  10 FN:  2\n",
      "   dataset   Ts    Te  TP  FN  FP    TPR  FP/TP\n",
      "0  shaurya  0.5  0.45  34   4  70  0.895  2.059\n",
      "Segmentation Completed. \n",
      "total_meal: 38 TP:  7 FP:  18 FN:  1\n"
     ]
    },
    {
     "name": "stderr",
     "output_type": "stream",
     "text": [
      "100%|██████████| 3/3 [00:00<00:00, 196.38it/s]\n",
      "100%|██████████| 3/3 [00:00<00:00, 219.97it/s]\n"
     ]
    },
    {
     "name": "stdout",
     "output_type": "stream",
     "text": [
      "Segmentation Completed. \n",
      "total_meal: 38 TP:  6 FP:  10 FN:  3\n",
      "Segmentation Completed. \n"
     ]
    },
    {
     "name": "stderr",
     "output_type": "stream",
     "text": [
      "100%|██████████| 2/2 [00:00<00:00, 240.65it/s]\n"
     ]
    },
    {
     "name": "stdout",
     "output_type": "stream",
     "text": [
      "total_meal: 38 TP:  9 FP:  16 FN:  0\n",
      "Segmentation Completed. \n",
      "total_meal: 38 TP:  6 FP:  6 FN:  0\n"
     ]
    },
    {
     "name": "stderr",
     "output_type": "stream",
     "text": [
      "100%|██████████| 2/2 [00:00<00:00, 277.68it/s]\n",
      "100%|██████████| 3/3 [00:00<00:00, 231.93it/s]\n"
     ]
    },
    {
     "name": "stdout",
     "output_type": "stream",
     "text": [
      "Segmentation Completed. \n",
      "total_meal: 38 TP:  4 FP:  10 FN:  2\n",
      "   dataset    Ts   Te  TP  FN  FP    TPR  FP/TP\n",
      "0  shaurya  0.55  0.1  32   6  60  0.842  1.875\n",
      "Segmentation Completed. \n",
      "total_meal: 38 TP:  7 FP:  18 FN:  1\n"
     ]
    },
    {
     "name": "stderr",
     "output_type": "stream",
     "text": [
      "100%|██████████| 3/3 [00:00<00:00, 256.02it/s]\n",
      "100%|██████████| 3/3 [00:00<00:00, 227.14it/s]\n"
     ]
    },
    {
     "name": "stdout",
     "output_type": "stream",
     "text": [
      "Segmentation Completed. \n",
      "total_meal: 38 TP:  6 FP:  10 FN:  3\n",
      "Segmentation Completed. \n",
      "total_meal: 38 TP:  9 FP:  18 FN:  0\n"
     ]
    },
    {
     "name": "stderr",
     "output_type": "stream",
     "text": [
      "100%|██████████| 2/2 [00:00<00:00, 263.76it/s]\n",
      "100%|██████████| 2/2 [00:00<00:00, 301.64it/s]\n"
     ]
    },
    {
     "name": "stdout",
     "output_type": "stream",
     "text": [
      "Segmentation Completed. \n",
      "total_meal: 38 TP:  6 FP:  6 FN:  0\n",
      "Segmentation Completed. \n",
      "total_meal: 38 TP:  4 FP:  10 FN:  2\n",
      "   dataset    Ts    Te  TP  FN  FP    TPR  FP/TP\n",
      "0  shaurya  0.55  0.15  32   6  62  0.842  1.938\n"
     ]
    },
    {
     "name": "stderr",
     "output_type": "stream",
     "text": [
      "100%|██████████| 3/3 [00:00<00:00, 244.44it/s]\n",
      "100%|██████████| 3/3 [00:00<00:00, 268.47it/s]\n"
     ]
    },
    {
     "name": "stdout",
     "output_type": "stream",
     "text": [
      "Segmentation Completed. \n",
      "total_meal: 38 TP:  7 FP:  20 FN:  1\n",
      "Segmentation Completed. \n",
      "total_meal: 38 TP:  7 FP:  11 FN:  2\n"
     ]
    },
    {
     "name": "stderr",
     "output_type": "stream",
     "text": [
      "100%|██████████| 3/3 [00:00<00:00, 237.54it/s]\n",
      "100%|██████████| 2/2 [00:00<00:00, 270.30it/s]\n"
     ]
    },
    {
     "name": "stdout",
     "output_type": "stream",
     "text": [
      "Segmentation Completed. \n",
      "total_meal: 38 TP:  9 FP:  18 FN:  0\n",
      "Segmentation Completed. \n",
      "total_meal: 38 TP:  6 FP:  6 FN:  0\n"
     ]
    },
    {
     "name": "stderr",
     "output_type": "stream",
     "text": [
      "100%|██████████| 2/2 [00:00<00:00, 293.46it/s]\n",
      "100%|██████████| 3/3 [00:00<00:00, 248.84it/s]\n"
     ]
    },
    {
     "name": "stdout",
     "output_type": "stream",
     "text": [
      "Segmentation Completed. \n",
      "total_meal: 38 TP:  4 FP:  10 FN:  2\n",
      "   dataset    Ts   Te  TP  FN  FP    TPR  FP/TP\n",
      "0  shaurya  0.55  0.2  33   5  65  0.868   1.97\n",
      "Segmentation Completed. \n",
      "total_meal: 38 TP:  7 FP:  18 FN:  1\n"
     ]
    },
    {
     "name": "stderr",
     "output_type": "stream",
     "text": [
      "100%|██████████| 3/3 [00:00<00:00, 265.64it/s]\n",
      "100%|██████████| 3/3 [00:00<00:00, 239.74it/s]\n"
     ]
    },
    {
     "name": "stdout",
     "output_type": "stream",
     "text": [
      "Segmentation Completed. \n",
      "total_meal: 38 TP:  9 FP:  14 FN:  0\n",
      "Segmentation Completed. \n",
      "total_meal: 38 TP:  9 FP:  18 FN:  0\n"
     ]
    },
    {
     "name": "stderr",
     "output_type": "stream",
     "text": [
      "100%|██████████| 2/2 [00:00<00:00, 261.37it/s]\n",
      "100%|██████████| 2/2 [00:00<00:00, 278.04it/s]\n"
     ]
    },
    {
     "name": "stdout",
     "output_type": "stream",
     "text": [
      "Segmentation Completed. \n",
      "total_meal: 38 TP:  6 FP:  6 FN:  0\n",
      "Segmentation Completed. \n",
      "total_meal: 38 TP:  4 FP:  12 FN:  2\n",
      "   dataset    Ts    Te  TP  FN  FP    TPR  FP/TP\n",
      "0  shaurya  0.55  0.25  35   3  68  0.921  1.943\n"
     ]
    },
    {
     "name": "stderr",
     "output_type": "stream",
     "text": [
      "100%|██████████| 3/3 [00:00<00:00, 228.76it/s]\n",
      "100%|██████████| 3/3 [00:00<00:00, 234.42it/s]\n"
     ]
    },
    {
     "name": "stdout",
     "output_type": "stream",
     "text": [
      "Segmentation Completed. \n",
      "total_meal: 38 TP:  7 FP:  18 FN:  1\n",
      "Segmentation Completed. \n"
     ]
    },
    {
     "name": "stderr",
     "output_type": "stream",
     "text": [
      "100%|██████████| 3/3 [00:00<00:00, 191.94it/s]\n"
     ]
    },
    {
     "name": "stdout",
     "output_type": "stream",
     "text": [
      "total_meal: 38 TP:  8 FP:  16 FN:  1\n",
      "Segmentation Completed. \n",
      "total_meal: 38 TP:  9 FP:  18 FN:  0\n"
     ]
    },
    {
     "name": "stderr",
     "output_type": "stream",
     "text": [
      "100%|██████████| 2/2 [00:00<00:00, 193.48it/s]\n",
      "100%|██████████| 2/2 [00:00<00:00, 227.22it/s]\n"
     ]
    },
    {
     "name": "stdout",
     "output_type": "stream",
     "text": [
      "Segmentation Completed. \n",
      "total_meal: 38 TP:  6 FP:  6 FN:  0\n",
      "Segmentation Completed. \n",
      "total_meal: 38 TP:  4 FP:  12 FN:  2\n"
     ]
    },
    {
     "name": "stderr",
     "output_type": "stream",
     "text": [
      "100%|██████████| 3/3 [00:00<00:00, 208.75it/s]\n"
     ]
    },
    {
     "name": "stdout",
     "output_type": "stream",
     "text": [
      "   dataset    Ts   Te  TP  FN  FP    TPR  FP/TP\n",
      "0  shaurya  0.55  0.3  34   4  70  0.895  2.059\n",
      "Segmentation Completed. \n",
      "total_meal: 38 TP:  7 FP:  18 FN:  1\n"
     ]
    },
    {
     "name": "stderr",
     "output_type": "stream",
     "text": [
      "100%|██████████| 3/3 [00:00<00:00, 253.03it/s]\n",
      "100%|██████████| 3/3 [00:00<00:00, 222.91it/s]\n"
     ]
    },
    {
     "name": "stdout",
     "output_type": "stream",
     "text": [
      "Segmentation Completed. \n",
      "total_meal: 38 TP:  8 FP:  16 FN:  1\n",
      "Segmentation Completed. \n"
     ]
    },
    {
     "name": "stderr",
     "output_type": "stream",
     "text": [
      "100%|██████████| 2/2 [00:00<00:00, 248.37it/s]\n"
     ]
    },
    {
     "name": "stdout",
     "output_type": "stream",
     "text": [
      "total_meal: 38 TP:  9 FP:  18 FN:  0\n",
      "Segmentation Completed. \n",
      "total_meal: 38 TP:  6 FP:  5 FN:  0\n"
     ]
    },
    {
     "name": "stderr",
     "output_type": "stream",
     "text": [
      "100%|██████████| 2/2 [00:00<00:00, 277.90it/s]\n",
      "100%|██████████| 3/3 [00:00<00:00, 241.58it/s]\n"
     ]
    },
    {
     "name": "stdout",
     "output_type": "stream",
     "text": [
      "Segmentation Completed. \n",
      "total_meal: 38 TP:  4 FP:  12 FN:  2\n",
      "   dataset    Ts    Te  TP  FN  FP    TPR  FP/TP\n",
      "0  shaurya  0.55  0.35  34   4  69  0.895  2.029\n",
      "Segmentation Completed. \n",
      "total_meal: 38 TP:  7 FP:  18 FN:  1\n"
     ]
    },
    {
     "name": "stderr",
     "output_type": "stream",
     "text": [
      "100%|██████████| 3/3 [00:00<00:00, 266.29it/s]\n",
      "100%|██████████| 3/3 [00:00<00:00, 236.92it/s]\n"
     ]
    },
    {
     "name": "stdout",
     "output_type": "stream",
     "text": [
      "Segmentation Completed. \n",
      "total_meal: 38 TP:  8 FP:  16 FN:  1\n",
      "Segmentation Completed. \n",
      "total_meal: 38 TP:  9 FP:  18 FN:  0\n"
     ]
    },
    {
     "name": "stderr",
     "output_type": "stream",
     "text": [
      "100%|██████████| 2/2 [00:00<00:00, 271.88it/s]\n",
      "100%|██████████| 2/2 [00:00<00:00, 295.24it/s]\n"
     ]
    },
    {
     "name": "stdout",
     "output_type": "stream",
     "text": [
      "Segmentation Completed. \n",
      "total_meal: 38 TP:  6 FP:  6 FN:  0\n",
      "Segmentation Completed. \n",
      "total_meal: 38 TP:  4 FP:  11 FN:  2\n",
      "   dataset    Ts   Te  TP  FN  FP    TPR  FP/TP\n",
      "0  shaurya  0.55  0.4  34   4  69  0.895  2.029\n"
     ]
    },
    {
     "name": "stderr",
     "output_type": "stream",
     "text": [
      "100%|██████████| 3/3 [00:00<00:00, 244.77it/s]\n",
      "100%|██████████| 3/3 [00:00<00:00, 267.54it/s]\n"
     ]
    },
    {
     "name": "stdout",
     "output_type": "stream",
     "text": [
      "Segmentation Completed. \n",
      "total_meal: 38 TP:  7 FP:  18 FN:  1\n",
      "Segmentation Completed. \n",
      "total_meal: 38 TP:  8 FP:  16 FN:  1\n"
     ]
    },
    {
     "name": "stderr",
     "output_type": "stream",
     "text": [
      "100%|██████████| 3/3 [00:00<00:00, 237.74it/s]\n",
      "100%|██████████| 2/2 [00:00<00:00, 250.25it/s]\n"
     ]
    },
    {
     "name": "stdout",
     "output_type": "stream",
     "text": [
      "Segmentation Completed. \n",
      "total_meal: 38 TP:  9 FP:  19 FN:  0\n",
      "Segmentation Completed. \n",
      "total_meal: 38 TP:  6 FP:  6 FN:  0\n"
     ]
    },
    {
     "name": "stderr",
     "output_type": "stream",
     "text": [
      "100%|██████████| 2/2 [00:00<00:00, 271.82it/s]\n",
      "100%|██████████| 3/3 [00:00<00:00, 231.00it/s]\n"
     ]
    },
    {
     "name": "stdout",
     "output_type": "stream",
     "text": [
      "Segmentation Completed. \n",
      "total_meal: 38 TP:  4 FP:  12 FN:  2\n",
      "   dataset    Ts    Te  TP  FN  FP    TPR  FP/TP\n",
      "0  shaurya  0.55  0.45  34   4  71  0.895  2.088\n",
      "Segmentation Completed. \n",
      "total_meal: 38 TP:  7 FP:  18 FN:  1\n"
     ]
    },
    {
     "name": "stderr",
     "output_type": "stream",
     "text": [
      "100%|██████████| 3/3 [00:00<00:00, 239.79it/s]\n",
      "100%|██████████| 3/3 [00:00<00:00, 175.55it/s]\n"
     ]
    },
    {
     "name": "stdout",
     "output_type": "stream",
     "text": [
      "Segmentation Completed. \n",
      "total_meal: 38 TP:  5 FP:  11 FN:  4\n",
      "Segmentation Completed. \n",
      "total_meal: 38 TP:  9 FP:  17 FN:  0\n"
     ]
    },
    {
     "name": "stderr",
     "output_type": "stream",
     "text": [
      "100%|██████████| 2/2 [00:00<00:00, 189.75it/s]\n",
      "  0%|          | 0/2 [00:00<?, ?it/s]"
     ]
    },
    {
     "name": "stdout",
     "output_type": "stream",
     "text": [
      "Segmentation Completed. \n",
      "total_meal: 38 TP:  6 FP:  5 FN:  0\n"
     ]
    },
    {
     "name": "stderr",
     "output_type": "stream",
     "text": [
      "100%|██████████| 2/2 [00:00<00:00, 247.93it/s]\n",
      "100%|██████████| 3/3 [00:00<00:00, 211.00it/s]\n"
     ]
    },
    {
     "name": "stdout",
     "output_type": "stream",
     "text": [
      "Segmentation Completed. \n",
      "total_meal: 38 TP:  4 FP:  9 FN:  2\n",
      "   dataset   Ts   Te  TP  FN  FP    TPR  FP/TP\n",
      "0  shaurya  0.6  0.1  31   7  60  0.816  1.935\n",
      "Segmentation Completed. \n"
     ]
    },
    {
     "name": "stderr",
     "output_type": "stream",
     "text": [
      "100%|██████████| 3/3 [00:00<00:00, 251.75it/s]\n"
     ]
    },
    {
     "name": "stdout",
     "output_type": "stream",
     "text": [
      "total_meal: 38 TP:  7 FP:  18 FN:  1\n",
      "Segmentation Completed. \n",
      "total_meal: 38 TP:  5 FP:  11 FN:  4\n"
     ]
    },
    {
     "name": "stderr",
     "output_type": "stream",
     "text": [
      "100%|██████████| 3/3 [00:00<00:00, 216.30it/s]\n",
      "100%|██████████| 2/2 [00:00<00:00, 221.08it/s]\n"
     ]
    },
    {
     "name": "stdout",
     "output_type": "stream",
     "text": [
      "Segmentation Completed. \n",
      "total_meal: 38 TP:  9 FP:  17 FN:  0\n",
      "Segmentation Completed. \n"
     ]
    },
    {
     "name": "stderr",
     "output_type": "stream",
     "text": [
      "100%|██████████| 2/2 [00:00<00:00, 202.36it/s]\n"
     ]
    },
    {
     "name": "stdout",
     "output_type": "stream",
     "text": [
      "total_meal: 38 TP:  6 FP:  5 FN:  0\n",
      "Segmentation Completed. \n",
      "total_meal: 38 TP:  4 FP:  10 FN:  2\n",
      "   dataset   Ts    Te  TP  FN  FP    TPR  FP/TP\n",
      "0  shaurya  0.6  0.15  31   7  61  0.816  1.968\n"
     ]
    },
    {
     "name": "stderr",
     "output_type": "stream",
     "text": [
      "100%|██████████| 3/3 [00:00<00:00, 180.14it/s]\n",
      "100%|██████████| 3/3 [00:00<00:00, 230.26it/s]\n"
     ]
    },
    {
     "name": "stdout",
     "output_type": "stream",
     "text": [
      "Segmentation Completed. \n",
      "total_meal: 38 TP:  7 FP:  19 FN:  1\n",
      "Segmentation Completed. \n"
     ]
    },
    {
     "name": "stderr",
     "output_type": "stream",
     "text": [
      "100%|██████████| 3/3 [00:00<00:00, 204.45it/s]\n"
     ]
    },
    {
     "name": "stdout",
     "output_type": "stream",
     "text": [
      "total_meal: 38 TP:  6 FP:  12 FN:  3\n",
      "Segmentation Completed. \n",
      "total_meal: 38 TP:  9 FP:  17 FN:  0\n"
     ]
    },
    {
     "name": "stderr",
     "output_type": "stream",
     "text": [
      "100%|██████████| 2/2 [00:00<00:00, 247.23it/s]\n",
      "100%|██████████| 2/2 [00:00<00:00, 271.88it/s]\n"
     ]
    },
    {
     "name": "stdout",
     "output_type": "stream",
     "text": [
      "Segmentation Completed. \n",
      "total_meal: 38 TP:  6 FP:  5 FN:  0\n",
      "Segmentation Completed. \n",
      "total_meal: 38 TP:  4 FP:  11 FN:  2\n",
      "   dataset   Ts   Te  TP  FN  FP    TPR  FP/TP\n",
      "0  shaurya  0.6  0.2  32   6  64  0.842    2.0\n"
     ]
    },
    {
     "name": "stderr",
     "output_type": "stream",
     "text": [
      "100%|██████████| 3/3 [00:00<00:00, 205.49it/s]\n",
      "100%|██████████| 3/3 [00:00<00:00, 156.99it/s]\n"
     ]
    },
    {
     "name": "stdout",
     "output_type": "stream",
     "text": [
      "Segmentation Completed. \n",
      "total_meal: 38 TP:  7 FP:  18 FN:  1\n",
      "Segmentation Completed. \n"
     ]
    },
    {
     "name": "stderr",
     "output_type": "stream",
     "text": [
      "100%|██████████| 3/3 [00:00<00:00, 177.34it/s]"
     ]
    },
    {
     "name": "stdout",
     "output_type": "stream",
     "text": [
      "total_meal: 38 TP:  8 FP:  15 FN:  1\n",
      "Segmentation Completed. \n"
     ]
    },
    {
     "name": "stderr",
     "output_type": "stream",
     "text": [
      "\n",
      "100%|██████████| 2/2 [00:00<00:00, 240.95it/s]\n"
     ]
    },
    {
     "name": "stdout",
     "output_type": "stream",
     "text": [
      "total_meal: 38 TP:  9 FP:  17 FN:  0\n",
      "Segmentation Completed. \n",
      "total_meal: 38 TP:  6 FP:  5 FN:  0\n"
     ]
    },
    {
     "name": "stderr",
     "output_type": "stream",
     "text": [
      "100%|██████████| 2/2 [00:00<00:00, 250.00it/s]\n",
      "100%|██████████| 3/3 [00:00<00:00, 219.17it/s]\n"
     ]
    },
    {
     "name": "stdout",
     "output_type": "stream",
     "text": [
      "Segmentation Completed. \n",
      "total_meal: 38 TP:  4 FP:  12 FN:  2\n",
      "   dataset   Ts    Te  TP  FN  FP    TPR  FP/TP\n",
      "0  shaurya  0.6  0.25  34   4  67  0.895  1.971\n",
      "Segmentation Completed. \n"
     ]
    },
    {
     "name": "stderr",
     "output_type": "stream",
     "text": [
      "100%|██████████| 3/3 [00:00<00:00, 245.51it/s]\n"
     ]
    },
    {
     "name": "stdout",
     "output_type": "stream",
     "text": [
      "total_meal: 38 TP:  7 FP:  18 FN:  1\n",
      "Segmentation Completed. \n",
      "total_meal: 38 TP:  8 FP:  16 FN:  1\n"
     ]
    },
    {
     "name": "stderr",
     "output_type": "stream",
     "text": [
      "100%|██████████| 3/3 [00:00<00:00, 210.03it/s]\n"
     ]
    },
    {
     "name": "stdout",
     "output_type": "stream",
     "text": [
      "Segmentation Completed. \n",
      "total_meal: 38 TP:  9 FP:  17 FN:  0\n"
     ]
    },
    {
     "name": "stderr",
     "output_type": "stream",
     "text": [
      "100%|██████████| 2/2 [00:00<00:00, 192.52it/s]\n",
      "100%|██████████| 2/2 [00:00<00:00, 272.81it/s]\n"
     ]
    },
    {
     "name": "stdout",
     "output_type": "stream",
     "text": [
      "Segmentation Completed. \n",
      "total_meal: 38 TP:  6 FP:  5 FN:  0\n",
      "Segmentation Completed. \n"
     ]
    },
    {
     "name": "stderr",
     "output_type": "stream",
     "text": [
      "100%|██████████| 3/3 [00:00<00:00, 207.17it/s]\n"
     ]
    },
    {
     "name": "stdout",
     "output_type": "stream",
     "text": [
      "total_meal: 38 TP:  4 FP:  12 FN:  2\n",
      "   dataset   Ts   Te  TP  FN  FP    TPR  FP/TP\n",
      "0  shaurya  0.6  0.3  34   4  68  0.895    2.0\n",
      "Segmentation Completed. \n",
      "total_meal: 38 TP:  7 FP:  18 FN:  1\n"
     ]
    },
    {
     "name": "stderr",
     "output_type": "stream",
     "text": [
      "100%|██████████| 3/3 [00:00<00:00, 253.43it/s]\n",
      "100%|██████████| 3/3 [00:00<00:00, 219.87it/s]\n"
     ]
    },
    {
     "name": "stdout",
     "output_type": "stream",
     "text": [
      "Segmentation Completed. \n",
      "total_meal: 38 TP:  8 FP:  16 FN:  1\n",
      "Segmentation Completed. \n"
     ]
    },
    {
     "name": "stderr",
     "output_type": "stream",
     "text": [
      "100%|██████████| 2/2 [00:00<00:00, 247.06it/s]\n"
     ]
    },
    {
     "name": "stdout",
     "output_type": "stream",
     "text": [
      "total_meal: 38 TP:  9 FP:  17 FN:  0\n",
      "Segmentation Completed. \n",
      "total_meal: 38 TP:  6 FP:  6 FN:  0\n"
     ]
    },
    {
     "name": "stderr",
     "output_type": "stream",
     "text": [
      "100%|██████████| 2/2 [00:00<00:00, 259.35it/s]\n"
     ]
    },
    {
     "name": "stdout",
     "output_type": "stream",
     "text": [
      "Segmentation Completed. \n",
      "total_meal: 38 TP:  4 FP:  12 FN:  2\n",
      "   dataset   Ts    Te  TP  FN  FP    TPR  FP/TP\n",
      "0  shaurya  0.6  0.35  34   4  69  0.895  2.029\n"
     ]
    },
    {
     "name": "stderr",
     "output_type": "stream",
     "text": [
      "100%|██████████| 3/3 [00:00<00:00, 181.36it/s]\n",
      "100%|██████████| 3/3 [00:00<00:00, 253.46it/s]\n"
     ]
    },
    {
     "name": "stdout",
     "output_type": "stream",
     "text": [
      "Segmentation Completed. \n",
      "total_meal: 38 TP:  7 FP:  17 FN:  1\n",
      "Segmentation Completed. \n"
     ]
    },
    {
     "name": "stderr",
     "output_type": "stream",
     "text": [
      "100%|██████████| 3/3 [00:00<00:00, 200.75it/s]\n"
     ]
    },
    {
     "name": "stdout",
     "output_type": "stream",
     "text": [
      "total_meal: 38 TP:  8 FP:  16 FN:  1\n",
      "Segmentation Completed. \n",
      "total_meal: 38 TP:  9 FP:  17 FN:  0\n"
     ]
    },
    {
     "name": "stderr",
     "output_type": "stream",
     "text": [
      "100%|██████████| 2/2 [00:00<00:00, 252.55it/s]\n",
      "100%|██████████| 2/2 [00:00<00:00, 275.33it/s]\n"
     ]
    },
    {
     "name": "stdout",
     "output_type": "stream",
     "text": [
      "Segmentation Completed. \n",
      "total_meal: 38 TP:  6 FP:  6 FN:  0\n",
      "Segmentation Completed. \n",
      "total_meal: 38 TP:  4 FP:  12 FN:  2\n",
      "   dataset   Ts   Te  TP  FN  FP    TPR  FP/TP\n",
      "0  shaurya  0.6  0.4  34   4  68  0.895    2.0\n"
     ]
    },
    {
     "name": "stderr",
     "output_type": "stream",
     "text": [
      "100%|██████████| 3/3 [00:00<00:00, 229.89it/s]\n",
      "100%|██████████| 3/3 [00:00<00:00, 260.25it/s]\n"
     ]
    },
    {
     "name": "stdout",
     "output_type": "stream",
     "text": [
      "Segmentation Completed. \n",
      "total_meal: 38 TP:  7 FP:  16 FN:  1\n",
      "Segmentation Completed. \n",
      "total_meal: 38 TP:  8 FP:  16 FN:  1\n"
     ]
    },
    {
     "name": "stderr",
     "output_type": "stream",
     "text": [
      "100%|██████████| 3/3 [00:00<00:00, 237.94it/s]\n",
      "100%|██████████| 2/2 [00:00<00:00, 272.34it/s]\n"
     ]
    },
    {
     "name": "stdout",
     "output_type": "stream",
     "text": [
      "Segmentation Completed. \n",
      "total_meal: 38 TP:  9 FP:  18 FN:  0\n",
      "Segmentation Completed. \n",
      "total_meal: 38 TP:  6 FP:  6 FN:  0\n"
     ]
    },
    {
     "name": "stderr",
     "output_type": "stream",
     "text": [
      "100%|██████████| 2/2 [00:00<00:00, 300.45it/s]\n",
      "100%|██████████| 3/3 [00:00<00:00, 248.02it/s]\n"
     ]
    },
    {
     "name": "stdout",
     "output_type": "stream",
     "text": [
      "Segmentation Completed. \n",
      "total_meal: 38 TP:  4 FP:  13 FN:  2\n",
      "   dataset   Ts    Te  TP  FN  FP    TPR  FP/TP\n",
      "0  shaurya  0.6  0.45  34   4  69  0.895  2.029\n",
      "Segmentation Completed. \n",
      "total_meal: 38 TP:  7 FP:  16 FN:  1\n"
     ]
    },
    {
     "name": "stderr",
     "output_type": "stream",
     "text": [
      "100%|██████████| 3/3 [00:00<00:00, 272.10it/s]\n",
      "100%|██████████| 3/3 [00:00<00:00, 238.82it/s]\n"
     ]
    },
    {
     "name": "stdout",
     "output_type": "stream",
     "text": [
      "Segmentation Completed. \n",
      "total_meal: 38 TP:  5 FP:  10 FN:  4\n",
      "Segmentation Completed. \n",
      "total_meal: 38 TP:  9 FP:  17 FN:  0\n"
     ]
    },
    {
     "name": "stderr",
     "output_type": "stream",
     "text": [
      "100%|██████████| 2/2 [00:00<00:00, 259.07it/s]\n",
      "100%|██████████| 2/2 [00:00<00:00, 278.15it/s]\n"
     ]
    },
    {
     "name": "stdout",
     "output_type": "stream",
     "text": [
      "Segmentation Completed. \n",
      "total_meal: 38 TP:  6 FP:  4 FN:  0\n",
      "Segmentation Completed. \n",
      "total_meal: 38 TP:  4 FP:  8 FN:  2\n",
      "   dataset    Ts   Te  TP  FN  FP    TPR  FP/TP\n",
      "0  shaurya  0.65  0.1  31   7  55  0.816  1.774\n"
     ]
    },
    {
     "name": "stderr",
     "output_type": "stream",
     "text": [
      "100%|██████████| 3/3 [00:00<00:00, 231.54it/s]\n",
      "100%|██████████| 3/3 [00:00<00:00, 250.72it/s]\n"
     ]
    },
    {
     "name": "stdout",
     "output_type": "stream",
     "text": [
      "Segmentation Completed. \n",
      "total_meal: 38 TP:  7 FP:  16 FN:  1\n",
      "Segmentation Completed. \n",
      "total_meal: 38 TP:  5 FP:  10 FN:  4\n"
     ]
    },
    {
     "name": "stderr",
     "output_type": "stream",
     "text": [
      "100%|██████████| 3/3 [00:00<00:00, 221.10it/s]\n",
      "100%|██████████| 2/2 [00:00<00:00, 250.86it/s]\n"
     ]
    },
    {
     "name": "stdout",
     "output_type": "stream",
     "text": [
      "Segmentation Completed. \n",
      "total_meal: 38 TP:  9 FP:  17 FN:  0\n",
      "Segmentation Completed. \n",
      "total_meal: 38 TP:  6 FP:  4 FN:  0\n"
     ]
    },
    {
     "name": "stderr",
     "output_type": "stream",
     "text": [
      "100%|██████████| 2/2 [00:00<00:00, 252.71it/s]\n",
      "  0%|          | 0/3 [00:00<?, ?it/s]"
     ]
    },
    {
     "name": "stdout",
     "output_type": "stream",
     "text": [
      "Segmentation Completed. \n",
      "total_meal: 38 TP:  3 FP:  10 FN:  3\n",
      "   dataset    Ts    Te  TP  FN  FP    TPR  FP/TP\n",
      "0  shaurya  0.65  0.15  30   8  57  0.789    1.9\n"
     ]
    },
    {
     "name": "stderr",
     "output_type": "stream",
     "text": [
      "100%|██████████| 3/3 [00:00<00:00, 172.00it/s]\n",
      "100%|██████████| 3/3 [00:00<00:00, 255.01it/s]"
     ]
    },
    {
     "name": "stdout",
     "output_type": "stream",
     "text": [
      "Segmentation Completed. \n",
      "total_meal: 38 TP:  7 FP:  16 FN:  1\n"
     ]
    },
    {
     "name": "stderr",
     "output_type": "stream",
     "text": [
      "\n",
      "100%|██████████| 3/3 [00:00<00:00, 215.28it/s]\n"
     ]
    },
    {
     "name": "stdout",
     "output_type": "stream",
     "text": [
      "Segmentation Completed. \n",
      "total_meal: 38 TP:  6 FP:  11 FN:  3\n",
      "Segmentation Completed. \n"
     ]
    },
    {
     "name": "stderr",
     "output_type": "stream",
     "text": [
      "100%|██████████| 2/2 [00:00<00:00, 255.68it/s]\n"
     ]
    },
    {
     "name": "stdout",
     "output_type": "stream",
     "text": [
      "total_meal: 38 TP:  9 FP:  17 FN:  0\n",
      "Segmentation Completed. \n",
      "total_meal: 38 TP:  6 FP:  4 FN:  0\n"
     ]
    },
    {
     "name": "stderr",
     "output_type": "stream",
     "text": [
      "100%|██████████| 2/2 [00:00<00:00, 275.08it/s]\n",
      "100%|██████████| 3/3 [00:00<00:00, 208.55it/s]\n"
     ]
    },
    {
     "name": "stdout",
     "output_type": "stream",
     "text": [
      "Segmentation Completed. \n",
      "total_meal: 38 TP:  3 FP:  11 FN:  3\n",
      "   dataset    Ts   Te  TP  FN  FP    TPR  FP/TP\n",
      "0  shaurya  0.65  0.2  31   7  59  0.816  1.903\n",
      "Segmentation Completed. \n"
     ]
    },
    {
     "name": "stderr",
     "output_type": "stream",
     "text": [
      "100%|██████████| 3/3 [00:00<00:00, 234.35it/s]\n"
     ]
    },
    {
     "name": "stdout",
     "output_type": "stream",
     "text": [
      "total_meal: 38 TP:  7 FP:  16 FN:  1\n",
      "Segmentation Completed. \n",
      "total_meal: 38 TP:  8 FP:  14 FN:  1\n"
     ]
    },
    {
     "name": "stderr",
     "output_type": "stream",
     "text": [
      "100%|██████████| 3/3 [00:00<00:00, 175.77it/s]\n",
      "100%|██████████| 2/2 [00:00<00:00, 234.98it/s]\n"
     ]
    },
    {
     "name": "stdout",
     "output_type": "stream",
     "text": [
      "Segmentation Completed. \n",
      "total_meal: 38 TP:  9 FP:  16 FN:  0\n",
      "Segmentation Completed. \n"
     ]
    },
    {
     "name": "stderr",
     "output_type": "stream",
     "text": [
      "100%|██████████| 2/2 [00:00<00:00, 267.37it/s]\n"
     ]
    },
    {
     "name": "stdout",
     "output_type": "stream",
     "text": [
      "total_meal: 38 TP:  6 FP:  4 FN:  0\n",
      "Segmentation Completed. \n",
      "total_meal: 38 TP:  3 FP:  11 FN:  3\n",
      "   dataset    Ts    Te  TP  FN  FP    TPR  FP/TP\n",
      "0  shaurya  0.65  0.25  33   5  61  0.868  1.848\n"
     ]
    },
    {
     "name": "stderr",
     "output_type": "stream",
     "text": [
      "100%|██████████| 3/3 [00:00<00:00, 223.33it/s]\n",
      "100%|██████████| 3/3 [00:00<00:00, 248.97it/s]\n"
     ]
    },
    {
     "name": "stdout",
     "output_type": "stream",
     "text": [
      "Segmentation Completed. \n",
      "total_meal: 38 TP:  7 FP:  16 FN:  1\n",
      "Segmentation Completed. \n",
      "total_meal: 38 TP:  8 FP:  15 FN:  1\n"
     ]
    },
    {
     "name": "stderr",
     "output_type": "stream",
     "text": [
      "100%|██████████| 3/3 [00:00<00:00, 199.91it/s]\n",
      "100%|██████████| 2/2 [00:00<00:00, 199.12it/s]\n"
     ]
    },
    {
     "name": "stdout",
     "output_type": "stream",
     "text": [
      "Segmentation Completed. \n",
      "total_meal: 38 TP:  9 FP:  16 FN:  0\n",
      "Segmentation Completed. \n"
     ]
    },
    {
     "name": "stderr",
     "output_type": "stream",
     "text": [
      "100%|██████████| 2/2 [00:00<00:00, 208.24it/s]"
     ]
    },
    {
     "name": "stdout",
     "output_type": "stream",
     "text": [
      "total_meal: 38 TP:  6 FP:  4 FN:  0\n",
      "Segmentation Completed. \n"
     ]
    },
    {
     "name": "stderr",
     "output_type": "stream",
     "text": [
      "\n",
      "100%|██████████| 3/3 [00:00<00:00, 221.09it/s]\n"
     ]
    },
    {
     "name": "stdout",
     "output_type": "stream",
     "text": [
      "total_meal: 38 TP:  3 FP:  11 FN:  3\n",
      "   dataset    Ts   Te  TP  FN  FP    TPR  FP/TP\n",
      "0  shaurya  0.65  0.3  33   5  62  0.868  1.879\n",
      "Segmentation Completed. \n",
      "total_meal: 38 TP:  7 FP:  16 FN:  1\n"
     ]
    },
    {
     "name": "stderr",
     "output_type": "stream",
     "text": [
      "100%|██████████| 3/3 [00:00<00:00, 224.32it/s]\n",
      "100%|██████████| 3/3 [00:00<00:00, 225.10it/s]\n"
     ]
    },
    {
     "name": "stdout",
     "output_type": "stream",
     "text": [
      "Segmentation Completed. \n",
      "total_meal: 38 TP:  8 FP:  15 FN:  1\n",
      "Segmentation Completed. \n"
     ]
    },
    {
     "name": "stderr",
     "output_type": "stream",
     "text": [
      "100%|██████████| 2/2 [00:00<00:00, 251.57it/s]\n"
     ]
    },
    {
     "name": "stdout",
     "output_type": "stream",
     "text": [
      "total_meal: 38 TP:  9 FP:  16 FN:  0\n",
      "Segmentation Completed. \n",
      "total_meal: 38 TP:  6 FP:  6 FN:  0\n"
     ]
    },
    {
     "name": "stderr",
     "output_type": "stream",
     "text": [
      "100%|██████████| 2/2 [00:00<00:00, 238.37it/s]\n",
      "100%|██████████| 3/3 [00:00<00:00, 183.83it/s]\n"
     ]
    },
    {
     "name": "stdout",
     "output_type": "stream",
     "text": [
      "Segmentation Completed. \n",
      "total_meal: 38 TP:  3 FP:  11 FN:  3\n",
      "   dataset    Ts    Te  TP  FN  FP    TPR  FP/TP\n",
      "0  shaurya  0.65  0.35  33   5  64  0.868  1.939\n",
      "Segmentation Completed. \n"
     ]
    },
    {
     "name": "stderr",
     "output_type": "stream",
     "text": [
      "100%|██████████| 3/3 [00:00<00:00, 195.52it/s]"
     ]
    },
    {
     "name": "stdout",
     "output_type": "stream",
     "text": [
      "total_meal: 38 TP:  7 FP:  15 FN:  1\n",
      "Segmentation Completed. \n"
     ]
    },
    {
     "name": "stderr",
     "output_type": "stream",
     "text": [
      "\n",
      "100%|██████████| 3/3 [00:00<00:00, 199.13it/s]\n"
     ]
    },
    {
     "name": "stdout",
     "output_type": "stream",
     "text": [
      "total_meal: 38 TP:  8 FP:  15 FN:  1\n",
      "Segmentation Completed. \n",
      "total_meal: 38 TP:  9 FP:  15 FN:  0\n"
     ]
    },
    {
     "name": "stderr",
     "output_type": "stream",
     "text": [
      "100%|██████████| 2/2 [00:00<00:00, 225.61it/s]\n",
      "100%|██████████| 2/2 [00:00<00:00, 280.20it/s]\n"
     ]
    },
    {
     "name": "stdout",
     "output_type": "stream",
     "text": [
      "Segmentation Completed. \n",
      "total_meal: 38 TP:  5 FP:  7 FN:  1\n",
      "Segmentation Completed. \n",
      "total_meal: 38 TP:  3 FP:  11 FN:  3\n",
      "   dataset    Ts   Te  TP  FN  FP    TPR  FP/TP\n",
      "0  shaurya  0.65  0.4  32   6  63  0.842  1.969\n"
     ]
    },
    {
     "name": "stderr",
     "output_type": "stream",
     "text": [
      "100%|██████████| 3/3 [00:00<00:00, 230.39it/s]\n",
      "100%|██████████| 3/3 [00:00<00:00, 218.86it/s]\n"
     ]
    },
    {
     "name": "stdout",
     "output_type": "stream",
     "text": [
      "Segmentation Completed. \n",
      "total_meal: 38 TP:  7 FP:  15 FN:  1\n",
      "Segmentation Completed. \n"
     ]
    },
    {
     "name": "stderr",
     "output_type": "stream",
     "text": [
      "100%|██████████| 3/3 [00:00<00:00, 174.00it/s]\n"
     ]
    },
    {
     "name": "stdout",
     "output_type": "stream",
     "text": [
      "total_meal: 38 TP:  8 FP:  15 FN:  1\n",
      "Segmentation Completed. \n",
      "total_meal: 38 TP:  9 FP:  15 FN:  0\n"
     ]
    },
    {
     "name": "stderr",
     "output_type": "stream",
     "text": [
      "100%|██████████| 2/2 [00:00<00:00, 194.72it/s]\n",
      "100%|██████████| 2/2 [00:00<00:00, 270.47it/s]\n"
     ]
    },
    {
     "name": "stdout",
     "output_type": "stream",
     "text": [
      "Segmentation Completed. \n",
      "total_meal: 38 TP:  5 FP:  7 FN:  1\n",
      "Segmentation Completed. \n"
     ]
    },
    {
     "name": "stderr",
     "output_type": "stream",
     "text": [
      "100%|██████████| 3/3 [00:00<00:00, 212.02it/s]\n"
     ]
    },
    {
     "name": "stdout",
     "output_type": "stream",
     "text": [
      "total_meal: 38 TP:  3 FP:  12 FN:  3\n",
      "   dataset    Ts    Te  TP  FN  FP    TPR  FP/TP\n",
      "0  shaurya  0.65  0.45  32   6  64  0.842    2.0\n",
      "Segmentation Completed. \n",
      "total_meal: 38 TP:  6 FP:  14 FN:  2\n"
     ]
    },
    {
     "name": "stderr",
     "output_type": "stream",
     "text": [
      "100%|██████████| 3/3 [00:00<00:00, 247.40it/s]\n",
      "100%|██████████| 3/3 [00:00<00:00, 220.98it/s]\n"
     ]
    },
    {
     "name": "stdout",
     "output_type": "stream",
     "text": [
      "Segmentation Completed. \n",
      "total_meal: 38 TP:  5 FP:  10 FN:  4\n",
      "Segmentation Completed. \n",
      "total_meal: 38 TP:  9 FP:  14 FN:  0\n"
     ]
    },
    {
     "name": "stderr",
     "output_type": "stream",
     "text": [
      "100%|██████████| 2/2 [00:00<00:00, 236.91it/s]\n",
      "  0%|          | 0/2 [00:00<?, ?it/s]"
     ]
    },
    {
     "name": "stdout",
     "output_type": "stream",
     "text": [
      "Segmentation Completed. \n",
      "total_meal: 38 TP:  5 FP:  4 FN:  1\n"
     ]
    },
    {
     "name": "stderr",
     "output_type": "stream",
     "text": [
      "100%|██████████| 2/2 [00:00<00:00, 200.63it/s]\n",
      "  0%|          | 0/3 [00:00<?, ?it/s]"
     ]
    },
    {
     "name": "stdout",
     "output_type": "stream",
     "text": [
      "Segmentation Completed. \n",
      "total_meal: 38 TP:  4 FP:  7 FN:  2\n",
      "   dataset   Ts   Te  TP  FN  FP    TPR  FP/TP\n",
      "0  shaurya  0.7  0.1  29   9  49  0.763   1.69\n"
     ]
    },
    {
     "name": "stderr",
     "output_type": "stream",
     "text": [
      "100%|██████████| 3/3 [00:00<00:00, 223.37it/s]\n",
      "100%|██████████| 3/3 [00:00<00:00, 248.10it/s]\n"
     ]
    },
    {
     "name": "stdout",
     "output_type": "stream",
     "text": [
      "Segmentation Completed. \n",
      "total_meal: 38 TP:  6 FP:  14 FN:  2\n",
      "Segmentation Completed. \n"
     ]
    },
    {
     "name": "stderr",
     "output_type": "stream",
     "text": [
      "100%|██████████| 3/3 [00:00<00:00, 214.35it/s]\n"
     ]
    },
    {
     "name": "stdout",
     "output_type": "stream",
     "text": [
      "total_meal: 38 TP:  5 FP:  10 FN:  4\n",
      "Segmentation Completed. \n",
      "total_meal: 38 TP:  9 FP:  15 FN:  0\n"
     ]
    },
    {
     "name": "stderr",
     "output_type": "stream",
     "text": [
      "100%|██████████| 2/2 [00:00<00:00, 249.21it/s]\n",
      "100%|██████████| 2/2 [00:00<00:00, 275.26it/s]\n"
     ]
    },
    {
     "name": "stdout",
     "output_type": "stream",
     "text": [
      "Segmentation Completed. \n",
      "total_meal: 38 TP:  5 FP:  4 FN:  1\n",
      "Segmentation Completed. \n",
      "total_meal: 38 TP:  3 FP:  9 FN:  3\n",
      "   dataset   Ts    Te  TP  FN  FP    TPR  FP/TP\n",
      "0  shaurya  0.7  0.15  28  10  52  0.737  1.857\n"
     ]
    },
    {
     "name": "stderr",
     "output_type": "stream",
     "text": [
      "100%|██████████| 3/3 [00:00<00:00, 220.20it/s]\n",
      "  0%|          | 0/3 [00:00<?, ?it/s]"
     ]
    },
    {
     "name": "stdout",
     "output_type": "stream",
     "text": [
      "Segmentation Completed. \n",
      "total_meal: 38 TP:  6 FP:  14 FN:  2\n"
     ]
    },
    {
     "name": "stderr",
     "output_type": "stream",
     "text": [
      "100%|██████████| 3/3 [00:00<00:00, 197.70it/s]\n",
      "  0%|          | 0/3 [00:00<?, ?it/s]"
     ]
    },
    {
     "name": "stdout",
     "output_type": "stream",
     "text": [
      "Segmentation Completed. \n",
      "total_meal: 38 TP:  6 FP:  11 FN:  3\n"
     ]
    },
    {
     "name": "stderr",
     "output_type": "stream",
     "text": [
      "100%|██████████| 3/3 [00:00<00:00, 187.50it/s]\n",
      "100%|██████████| 2/2 [00:00<00:00, 261.91it/s]\n"
     ]
    },
    {
     "name": "stdout",
     "output_type": "stream",
     "text": [
      "Segmentation Completed. \n",
      "total_meal: 38 TP:  9 FP:  15 FN:  0\n",
      "Segmentation Completed. \n",
      "total_meal: 38 TP:  5 FP:  4 FN:  1\n"
     ]
    },
    {
     "name": "stderr",
     "output_type": "stream",
     "text": [
      "100%|██████████| 2/2 [00:00<00:00, 291.32it/s]\n",
      "100%|██████████| 3/3 [00:00<00:00, 247.84it/s]\n"
     ]
    },
    {
     "name": "stdout",
     "output_type": "stream",
     "text": [
      "Segmentation Completed. \n",
      "total_meal: 38 TP:  3 FP:  11 FN:  3\n",
      "   dataset   Ts   Te  TP  FN  FP    TPR  FP/TP\n",
      "0  shaurya  0.7  0.2  29   9  55  0.763  1.897\n",
      "Segmentation Completed. \n",
      "total_meal: 38 TP:  6 FP:  14 FN:  2\n"
     ]
    },
    {
     "name": "stderr",
     "output_type": "stream",
     "text": [
      "100%|██████████| 3/3 [00:00<00:00, 269.96it/s]\n",
      "100%|██████████| 3/3 [00:00<00:00, 241.38it/s]\n"
     ]
    },
    {
     "name": "stdout",
     "output_type": "stream",
     "text": [
      "Segmentation Completed. \n",
      "total_meal: 38 TP:  8 FP:  13 FN:  1\n",
      "Segmentation Completed. \n",
      "total_meal: 38 TP:  9 FP:  15 FN:  0\n"
     ]
    },
    {
     "name": "stderr",
     "output_type": "stream",
     "text": [
      "100%|██████████| 2/2 [00:00<00:00, 195.81it/s]\n",
      "100%|██████████| 2/2 [00:00<00:00, 302.96it/s]\n"
     ]
    },
    {
     "name": "stdout",
     "output_type": "stream",
     "text": [
      "Segmentation Completed. \n",
      "total_meal: 38 TP:  5 FP:  4 FN:  1\n",
      "Segmentation Completed. \n",
      "total_meal: 38 TP:  3 FP:  10 FN:  3\n",
      "   dataset   Ts    Te  TP  FN  FP    TPR  FP/TP\n",
      "0  shaurya  0.7  0.25  31   7  56  0.816  1.806\n"
     ]
    },
    {
     "name": "stderr",
     "output_type": "stream",
     "text": [
      "100%|██████████| 3/3 [00:00<00:00, 250.59it/s]\n",
      "100%|██████████| 3/3 [00:00<00:00, 269.91it/s]\n"
     ]
    },
    {
     "name": "stdout",
     "output_type": "stream",
     "text": [
      "Segmentation Completed. \n",
      "total_meal: 38 TP:  6 FP:  14 FN:  2\n",
      "Segmentation Completed. \n",
      "total_meal: 38 TP:  8 FP:  14 FN:  1\n"
     ]
    },
    {
     "name": "stderr",
     "output_type": "stream",
     "text": [
      "100%|██████████| 3/3 [00:00<00:00, 237.89it/s]\n",
      "100%|██████████| 2/2 [00:00<00:00, 233.13it/s]\n"
     ]
    },
    {
     "name": "stdout",
     "output_type": "stream",
     "text": [
      "Segmentation Completed. \n",
      "total_meal: 38 TP:  9 FP:  15 FN:  0\n",
      "Segmentation Completed. \n",
      "total_meal: 38 TP:  5 FP:  4 FN:  1\n"
     ]
    },
    {
     "name": "stderr",
     "output_type": "stream",
     "text": [
      "100%|██████████| 2/2 [00:00<00:00, 251.52it/s]\n",
      "100%|██████████| 3/3 [00:00<00:00, 228.69it/s]\n"
     ]
    },
    {
     "name": "stdout",
     "output_type": "stream",
     "text": [
      "Segmentation Completed. \n",
      "total_meal: 38 TP:  3 FP:  10 FN:  3\n",
      "   dataset   Ts   Te  TP  FN  FP    TPR  FP/TP\n",
      "0  shaurya  0.7  0.3  31   7  57  0.816  1.839\n",
      "Segmentation Completed. \n",
      "total_meal: 38 TP:  6 FP:  14 FN:  2\n"
     ]
    },
    {
     "name": "stderr",
     "output_type": "stream",
     "text": [
      "100%|██████████| 3/3 [00:00<00:00, 252.09it/s]\n",
      "100%|██████████| 3/3 [00:00<00:00, 202.12it/s]\n"
     ]
    },
    {
     "name": "stdout",
     "output_type": "stream",
     "text": [
      "Segmentation Completed. \n",
      "total_meal: 38 TP:  8 FP:  14 FN:  1\n",
      "Segmentation Completed. \n"
     ]
    },
    {
     "name": "stderr",
     "output_type": "stream",
     "text": [
      "100%|██████████| 2/2 [00:00<00:00, 197.02it/s]"
     ]
    },
    {
     "name": "stdout",
     "output_type": "stream",
     "text": [
      "total_meal: 38 TP:  9 FP:  15 FN:  0\n",
      "Segmentation Completed. \n"
     ]
    },
    {
     "name": "stderr",
     "output_type": "stream",
     "text": [
      "\n",
      "100%|██████████| 2/2 [00:00<00:00, 267.80it/s]\n"
     ]
    },
    {
     "name": "stdout",
     "output_type": "stream",
     "text": [
      "total_meal: 38 TP:  5 FP:  5 FN:  1\n",
      "Segmentation Completed. \n",
      "total_meal: 38 TP:  3 FP:  10 FN:  3\n",
      "   dataset   Ts    Te  TP  FN  FP    TPR  FP/TP\n",
      "0  shaurya  0.7  0.35  31   7  58  0.816  1.871\n"
     ]
    },
    {
     "name": "stderr",
     "output_type": "stream",
     "text": [
      "100%|██████████| 3/3 [00:00<00:00, 223.57it/s]\n",
      "100%|██████████| 3/3 [00:00<00:00, 243.44it/s]\n"
     ]
    },
    {
     "name": "stdout",
     "output_type": "stream",
     "text": [
      "Segmentation Completed. \n",
      "total_meal: 38 TP:  6 FP:  14 FN:  2\n",
      "Segmentation Completed. \n"
     ]
    },
    {
     "name": "stderr",
     "output_type": "stream",
     "text": [
      "100%|██████████| 3/3 [00:00<00:00, 221.05it/s]\n"
     ]
    },
    {
     "name": "stdout",
     "output_type": "stream",
     "text": [
      "total_meal: 38 TP:  8 FP:  13 FN:  1\n",
      "Segmentation Completed. \n",
      "total_meal: 38 TP:  9 FP:  15 FN:  0\n"
     ]
    },
    {
     "name": "stderr",
     "output_type": "stream",
     "text": [
      "100%|██████████| 2/2 [00:00<00:00, 242.40it/s]\n",
      "100%|██████████| 2/2 [00:00<00:00, 270.56it/s]\n"
     ]
    },
    {
     "name": "stdout",
     "output_type": "stream",
     "text": [
      "Segmentation Completed. \n",
      "total_meal: 38 TP:  4 FP:  6 FN:  2\n",
      "Segmentation Completed. \n",
      "total_meal: 38 TP:  3 FP:  10 FN:  3\n",
      "   dataset   Ts   Te  TP  FN  FP    TPR  FP/TP\n",
      "0  shaurya  0.7  0.4  30   8  58  0.789  1.933\n"
     ]
    },
    {
     "name": "stderr",
     "output_type": "stream",
     "text": [
      "100%|██████████| 3/3 [00:00<00:00, 179.05it/s]\n",
      "100%|██████████| 3/3 [00:00<00:00, 189.13it/s]\n"
     ]
    },
    {
     "name": "stdout",
     "output_type": "stream",
     "text": [
      "Segmentation Completed. \n",
      "total_meal: 38 TP:  6 FP:  14 FN:  2\n",
      "Segmentation Completed. \n"
     ]
    },
    {
     "name": "stderr",
     "output_type": "stream",
     "text": [
      "100%|██████████| 3/3 [00:00<00:00, 216.89it/s]\n"
     ]
    },
    {
     "name": "stdout",
     "output_type": "stream",
     "text": [
      "total_meal: 38 TP:  8 FP:  13 FN:  1\n",
      "Segmentation Completed. \n",
      "total_meal: 38 TP:  9 FP:  15 FN:  0\n"
     ]
    },
    {
     "name": "stderr",
     "output_type": "stream",
     "text": [
      "100%|██████████| 2/2 [00:00<00:00, 253.03it/s]\n",
      "100%|██████████| 2/2 [00:00<00:00, 275.87it/s]\n"
     ]
    },
    {
     "name": "stdout",
     "output_type": "stream",
     "text": [
      "Segmentation Completed. \n",
      "total_meal: 38 TP:  4 FP:  6 FN:  2\n",
      "Segmentation Completed. \n",
      "total_meal: 38 TP:  3 FP:  11 FN:  3\n",
      "   dataset   Ts    Te  TP  FN  FP    TPR  FP/TP\n",
      "0  shaurya  0.7  0.45  30   8  59  0.789  1.967\n"
     ]
    },
    {
     "name": "stderr",
     "output_type": "stream",
     "text": [
      "100%|██████████| 3/3 [00:00<00:00, 216.26it/s]\n",
      "100%|██████████| 3/3 [00:00<00:00, 196.89it/s]\n"
     ]
    },
    {
     "name": "stdout",
     "output_type": "stream",
     "text": [
      "Segmentation Completed. \n",
      "total_meal: 38 TP:  6 FP:  15 FN:  2\n",
      "Segmentation Completed. \n"
     ]
    },
    {
     "name": "stderr",
     "output_type": "stream",
     "text": [
      "100%|██████████| 3/3 [00:00<00:00, 178.10it/s]"
     ]
    },
    {
     "name": "stdout",
     "output_type": "stream",
     "text": [
      "total_meal: 38 TP:  5 FP:  8 FN:  4\n",
      "Segmentation Completed. \n"
     ]
    },
    {
     "name": "stderr",
     "output_type": "stream",
     "text": [
      "\n",
      "100%|██████████| 2/2 [00:00<00:00, 251.47it/s]\n"
     ]
    },
    {
     "name": "stdout",
     "output_type": "stream",
     "text": [
      "total_meal: 38 TP:  9 FP:  14 FN:  0\n",
      "Segmentation Completed. \n",
      "total_meal: 38 TP:  4 FP:  4 FN:  2\n"
     ]
    },
    {
     "name": "stderr",
     "output_type": "stream",
     "text": [
      "100%|██████████| 2/2 [00:00<00:00, 254.55it/s]\n",
      "100%|██████████| 3/3 [00:00<00:00, 230.23it/s]\n"
     ]
    },
    {
     "name": "stdout",
     "output_type": "stream",
     "text": [
      "Segmentation Completed. \n",
      "total_meal: 38 TP:  4 FP:  7 FN:  2\n",
      "   dataset    Ts   Te  TP  FN  FP    TPR  FP/TP\n",
      "0  shaurya  0.75  0.1  28  10  48  0.737  1.714\n",
      "Segmentation Completed. \n"
     ]
    },
    {
     "name": "stderr",
     "output_type": "stream",
     "text": [
      "100%|██████████| 3/3 [00:00<00:00, 253.52it/s]\n"
     ]
    },
    {
     "name": "stdout",
     "output_type": "stream",
     "text": [
      "total_meal: 38 TP:  6 FP:  15 FN:  2\n",
      "Segmentation Completed. \n",
      "total_meal: 38 TP:  5 FP:  8 FN:  4\n"
     ]
    },
    {
     "name": "stderr",
     "output_type": "stream",
     "text": [
      "100%|██████████| 3/3 [00:00<00:00, 218.57it/s]\n",
      "100%|██████████| 2/2 [00:00<00:00, 252.44it/s]\n"
     ]
    },
    {
     "name": "stdout",
     "output_type": "stream",
     "text": [
      "Segmentation Completed. \n",
      "total_meal: 38 TP:  9 FP:  15 FN:  0\n",
      "Segmentation Completed. \n",
      "total_meal: 38 TP:  4 FP:  4 FN:  2\n"
     ]
    },
    {
     "name": "stderr",
     "output_type": "stream",
     "text": [
      "100%|██████████| 2/2 [00:00<00:00, 293.93it/s]\n",
      "100%|██████████| 3/3 [00:00<00:00, 242.56it/s]\n"
     ]
    },
    {
     "name": "stdout",
     "output_type": "stream",
     "text": [
      "Segmentation Completed. \n",
      "total_meal: 38 TP:  3 FP:  10 FN:  3\n",
      "   dataset    Ts    Te  TP  FN  FP    TPR  FP/TP\n",
      "0  shaurya  0.75  0.15  27  11  52  0.711  1.926\n",
      "Segmentation Completed. \n",
      "total_meal: 38 TP:  6 FP:  15 FN:  2\n"
     ]
    },
    {
     "name": "stderr",
     "output_type": "stream",
     "text": [
      "100%|██████████| 3/3 [00:00<00:00, 267.34it/s]\n",
      "100%|██████████| 3/3 [00:00<00:00, 235.25it/s]\n"
     ]
    },
    {
     "name": "stdout",
     "output_type": "stream",
     "text": [
      "Segmentation Completed. \n",
      "total_meal: 38 TP:  6 FP:  9 FN:  3\n",
      "Segmentation Completed. \n",
      "total_meal: 38 TP:  9 FP:  15 FN:  0\n"
     ]
    },
    {
     "name": "stderr",
     "output_type": "stream",
     "text": [
      "100%|██████████| 2/2 [00:00<00:00, 271.13it/s]\n",
      "100%|██████████| 2/2 [00:00<00:00, 304.98it/s]\n"
     ]
    },
    {
     "name": "stdout",
     "output_type": "stream",
     "text": [
      "Segmentation Completed. \n",
      "total_meal: 38 TP:  4 FP:  4 FN:  2\n",
      "Segmentation Completed. \n",
      "total_meal: 38 TP:  3 FP:  11 FN:  3\n",
      "   dataset    Ts   Te  TP  FN  FP    TPR  FP/TP\n",
      "0  shaurya  0.75  0.2  28  10  54  0.737  1.929\n"
     ]
    },
    {
     "name": "stderr",
     "output_type": "stream",
     "text": [
      "100%|██████████| 3/3 [00:00<00:00, 239.10it/s]\n",
      "100%|██████████| 3/3 [00:00<00:00, 253.77it/s]\n"
     ]
    },
    {
     "name": "stdout",
     "output_type": "stream",
     "text": [
      "Segmentation Completed. \n",
      "total_meal: 38 TP:  6 FP:  14 FN:  2\n",
      "Segmentation Completed. \n",
      "total_meal: 38 TP:  8 FP:  11 FN:  1\n"
     ]
    },
    {
     "name": "stderr",
     "output_type": "stream",
     "text": [
      "100%|██████████| 3/3 [00:00<00:00, 224.12it/s]\n",
      "100%|██████████| 2/2 [00:00<00:00, 249.05it/s]\n"
     ]
    },
    {
     "name": "stdout",
     "output_type": "stream",
     "text": [
      "Segmentation Completed. \n",
      "total_meal: 38 TP:  9 FP:  15 FN:  0\n",
      "Segmentation Completed. \n",
      "total_meal: 38 TP:  4 FP:  5 FN:  2\n"
     ]
    },
    {
     "name": "stderr",
     "output_type": "stream",
     "text": [
      "100%|██████████| 2/2 [00:00<00:00, 274.09it/s]\n",
      "100%|██████████| 3/3 [00:00<00:00, 228.17it/s]\n"
     ]
    },
    {
     "name": "stdout",
     "output_type": "stream",
     "text": [
      "Segmentation Completed. \n",
      "total_meal: 38 TP:  3 FP:  11 FN:  3\n",
      "   dataset    Ts    Te  TP  FN  FP    TPR  FP/TP\n",
      "0  shaurya  0.75  0.25  30   8  56  0.789  1.867\n",
      "Segmentation Completed. \n",
      "total_meal: 38 TP:  6 FP:  14 FN:  2\n"
     ]
    },
    {
     "name": "stderr",
     "output_type": "stream",
     "text": [
      "100%|██████████| 3/3 [00:00<00:00, 228.72it/s]\n",
      "  0%|          | 0/3 [00:00<?, ?it/s]"
     ]
    },
    {
     "name": "stdout",
     "output_type": "stream",
     "text": [
      "Segmentation Completed. \n",
      "total_meal: 38 TP:  8 FP:  12 FN:  1\n"
     ]
    },
    {
     "name": "stderr",
     "output_type": "stream",
     "text": [
      "100%|██████████| 3/3 [00:00<00:00, 172.51it/s]\n",
      "100%|██████████| 2/2 [00:00<00:00, 257.22it/s]\n"
     ]
    },
    {
     "name": "stdout",
     "output_type": "stream",
     "text": [
      "Segmentation Completed. \n",
      "total_meal: 38 TP:  9 FP:  15 FN:  0\n",
      "Segmentation Completed. \n"
     ]
    },
    {
     "name": "stderr",
     "output_type": "stream",
     "text": [
      "100%|██████████| 2/2 [00:00<00:00, 264.27it/s]\n"
     ]
    },
    {
     "name": "stdout",
     "output_type": "stream",
     "text": [
      "total_meal: 38 TP:  4 FP:  5 FN:  2\n",
      "Segmentation Completed. \n",
      "total_meal: 38 TP:  2 FP:  12 FN:  4\n",
      "   dataset    Ts   Te  TP  FN  FP    TPR  FP/TP\n",
      "0  shaurya  0.75  0.3  29   9  58  0.763    2.0\n"
     ]
    },
    {
     "name": "stderr",
     "output_type": "stream",
     "text": [
      "100%|██████████| 3/3 [00:00<00:00, 230.42it/s]\n",
      "100%|██████████| 3/3 [00:00<00:00, 252.09it/s]\n"
     ]
    },
    {
     "name": "stdout",
     "output_type": "stream",
     "text": [
      "Segmentation Completed. \n",
      "total_meal: 38 TP:  6 FP:  14 FN:  2\n",
      "Segmentation Completed. \n",
      "total_meal: 38 TP:  8 FP:  11 FN:  1\n"
     ]
    },
    {
     "name": "stderr",
     "output_type": "stream",
     "text": [
      "100%|██████████| 3/3 [00:00<00:00, 201.91it/s]\n",
      "100%|██████████| 2/2 [00:00<00:00, 195.46it/s]\n"
     ]
    },
    {
     "name": "stdout",
     "output_type": "stream",
     "text": [
      "Segmentation Completed. \n",
      "total_meal: 38 TP:  9 FP:  15 FN:  0\n",
      "Segmentation Completed. \n"
     ]
    },
    {
     "name": "stderr",
     "output_type": "stream",
     "text": [
      "100%|██████████| 2/2 [00:00<00:00, 209.97it/s]"
     ]
    },
    {
     "name": "stdout",
     "output_type": "stream",
     "text": [
      "total_meal: 38 TP:  4 FP:  5 FN:  2\n",
      "Segmentation Completed. \n"
     ]
    },
    {
     "name": "stderr",
     "output_type": "stream",
     "text": [
      "\n",
      "100%|██████████| 3/3 [00:00<00:00, 235.41it/s]\n"
     ]
    },
    {
     "name": "stdout",
     "output_type": "stream",
     "text": [
      "total_meal: 38 TP:  2 FP:  12 FN:  4\n",
      "   dataset    Ts    Te  TP  FN  FP    TPR  FP/TP\n",
      "0  shaurya  0.75  0.35  29   9  57  0.763  1.966\n",
      "Segmentation Completed. \n",
      "total_meal: 38 TP:  6 FP:  14 FN:  2\n"
     ]
    },
    {
     "name": "stderr",
     "output_type": "stream",
     "text": [
      "100%|██████████| 3/3 [00:00<00:00, 231.43it/s]\n",
      "100%|██████████| 3/3 [00:00<00:00, 223.99it/s]\n"
     ]
    },
    {
     "name": "stdout",
     "output_type": "stream",
     "text": [
      "Segmentation Completed. \n",
      "total_meal: 38 TP:  8 FP:  10 FN:  1\n",
      "Segmentation Completed. \n"
     ]
    },
    {
     "name": "stderr",
     "output_type": "stream",
     "text": [
      "100%|██████████| 2/2 [00:00<00:00, 254.86it/s]\n"
     ]
    },
    {
     "name": "stdout",
     "output_type": "stream",
     "text": [
      "total_meal: 38 TP:  9 FP:  15 FN:  0\n",
      "Segmentation Completed. \n",
      "total_meal: 38 TP:  4 FP:  5 FN:  2\n"
     ]
    },
    {
     "name": "stderr",
     "output_type": "stream",
     "text": [
      "100%|██████████| 2/2 [00:00<00:00, 246.19it/s]\n",
      "100%|██████████| 3/3 [00:00<00:00, 181.25it/s]\n"
     ]
    },
    {
     "name": "stdout",
     "output_type": "stream",
     "text": [
      "Segmentation Completed. \n",
      "total_meal: 38 TP:  2 FP:  12 FN:  4\n",
      "   dataset    Ts   Te  TP  FN  FP    TPR  FP/TP\n",
      "0  shaurya  0.75  0.4  29   9  56  0.763  1.931\n",
      "Segmentation Completed. \n"
     ]
    },
    {
     "name": "stderr",
     "output_type": "stream",
     "text": [
      "100%|██████████| 3/3 [00:00<00:00, 198.21it/s]"
     ]
    },
    {
     "name": "stdout",
     "output_type": "stream",
     "text": [
      "total_meal: 38 TP:  6 FP:  14 FN:  2\n",
      "Segmentation Completed. \n"
     ]
    },
    {
     "name": "stderr",
     "output_type": "stream",
     "text": [
      "\n",
      "100%|██████████| 3/3 [00:00<00:00, 213.96it/s]\n"
     ]
    },
    {
     "name": "stdout",
     "output_type": "stream",
     "text": [
      "total_meal: 38 TP:  8 FP:  10 FN:  1\n",
      "Segmentation Completed. \n",
      "total_meal: 38 TP:  9 FP:  15 FN:  0\n"
     ]
    },
    {
     "name": "stderr",
     "output_type": "stream",
     "text": [
      "100%|██████████| 2/2 [00:00<00:00, 231.83it/s]\n",
      "100%|██████████| 2/2 [00:00<00:00, 278.57it/s]\n"
     ]
    },
    {
     "name": "stdout",
     "output_type": "stream",
     "text": [
      "Segmentation Completed. \n",
      "total_meal: 38 TP:  4 FP:  6 FN:  2\n",
      "Segmentation Completed. \n",
      "total_meal: 38 TP:  2 FP:  13 FN:  4\n",
      "   dataset    Ts    Te  TP  FN  FP    TPR  FP/TP\n",
      "0  shaurya  0.75  0.45  29   9  58  0.763    2.0\n"
     ]
    },
    {
     "name": "stderr",
     "output_type": "stream",
     "text": [
      "100%|██████████| 3/3 [00:00<00:00, 229.94it/s]\n",
      "100%|██████████| 3/3 [00:00<00:00, 239.01it/s]\n"
     ]
    },
    {
     "name": "stdout",
     "output_type": "stream",
     "text": [
      "Segmentation Completed. \n",
      "total_meal: 38 TP:  6 FP:  12 FN:  2\n",
      "Segmentation Completed. \n",
      "total_meal: 38 TP:  5 FP:  6 FN:  4\n"
     ]
    },
    {
     "name": "stderr",
     "output_type": "stream",
     "text": [
      "100%|██████████| 3/3 [00:00<00:00, 181.74it/s]\n",
      "100%|██████████| 2/2 [00:00<00:00, 274.25it/s]\n"
     ]
    },
    {
     "name": "stdout",
     "output_type": "stream",
     "text": [
      "Segmentation Completed. \n",
      "total_meal: 38 TP:  9 FP:  13 FN:  0\n",
      "Segmentation Completed. \n",
      "total_meal: 38 TP:  4 FP:  4 FN:  2\n"
     ]
    },
    {
     "name": "stderr",
     "output_type": "stream",
     "text": [
      "100%|██████████| 2/2 [00:00<00:00, 304.52it/s]\n",
      "100%|██████████| 3/3 [00:00<00:00, 250.03it/s]\n"
     ]
    },
    {
     "name": "stdout",
     "output_type": "stream",
     "text": [
      "Segmentation Completed. \n",
      "total_meal: 38 TP:  4 FP:  7 FN:  2\n",
      "   dataset   Ts   Te  TP  FN  FP    TPR  FP/TP\n",
      "0  shaurya  0.8  0.1  28  10  42  0.737    1.5\n",
      "Segmentation Completed. \n",
      "total_meal: 38 TP:  6 FP:  12 FN:  2\n"
     ]
    },
    {
     "name": "stderr",
     "output_type": "stream",
     "text": [
      "100%|██████████| 3/3 [00:00<00:00, 275.31it/s]\n",
      "100%|██████████| 3/3 [00:00<00:00, 240.83it/s]\n"
     ]
    },
    {
     "name": "stdout",
     "output_type": "stream",
     "text": [
      "Segmentation Completed. \n",
      "total_meal: 38 TP:  5 FP:  6 FN:  4\n",
      "Segmentation Completed. \n",
      "total_meal: 38 TP:  9 FP:  14 FN:  0\n"
     ]
    },
    {
     "name": "stderr",
     "output_type": "stream",
     "text": [
      "100%|██████████| 2/2 [00:00<00:00, 273.81it/s]\n",
      "100%|██████████| 2/2 [00:00<00:00, 305.24it/s]\n"
     ]
    },
    {
     "name": "stdout",
     "output_type": "stream",
     "text": [
      "Segmentation Completed. \n",
      "total_meal: 38 TP:  4 FP:  4 FN:  2\n",
      "Segmentation Completed. \n",
      "total_meal: 38 TP:  3 FP:  11 FN:  3\n",
      "   dataset   Ts    Te  TP  FN  FP    TPR  FP/TP\n",
      "0  shaurya  0.8  0.15  27  11  47  0.711  1.741\n"
     ]
    },
    {
     "name": "stderr",
     "output_type": "stream",
     "text": [
      "100%|██████████| 3/3 [00:00<00:00, 249.18it/s]\n",
      "100%|██████████| 3/3 [00:00<00:00, 273.53it/s]\n"
     ]
    },
    {
     "name": "stdout",
     "output_type": "stream",
     "text": [
      "Segmentation Completed. \n",
      "total_meal: 38 TP:  6 FP:  12 FN:  2\n",
      "Segmentation Completed. \n",
      "total_meal: 38 TP:  6 FP:  7 FN:  3\n"
     ]
    },
    {
     "name": "stderr",
     "output_type": "stream",
     "text": [
      "100%|██████████| 3/3 [00:00<00:00, 237.35it/s]\n",
      "100%|██████████| 2/2 [00:00<00:00, 272.89it/s]\n"
     ]
    },
    {
     "name": "stdout",
     "output_type": "stream",
     "text": [
      "Segmentation Completed. \n",
      "total_meal: 38 TP:  9 FP:  14 FN:  0\n",
      "Segmentation Completed. \n",
      "total_meal: 38 TP:  4 FP:  4 FN:  2\n"
     ]
    },
    {
     "name": "stderr",
     "output_type": "stream",
     "text": [
      "100%|██████████| 2/2 [00:00<00:00, 305.42it/s]\n",
      "100%|██████████| 3/3 [00:00<00:00, 249.88it/s]\n"
     ]
    },
    {
     "name": "stdout",
     "output_type": "stream",
     "text": [
      "Segmentation Completed. \n",
      "total_meal: 38 TP:  3 FP:  11 FN:  3\n",
      "   dataset   Ts   Te  TP  FN  FP    TPR  FP/TP\n",
      "0  shaurya  0.8  0.2  28  10  48  0.737  1.714\n",
      "Segmentation Completed. \n",
      "total_meal: 38 TP:  6 FP:  12 FN:  2\n"
     ]
    },
    {
     "name": "stderr",
     "output_type": "stream",
     "text": [
      "100%|██████████| 3/3 [00:00<00:00, 234.59it/s]\n",
      "  0%|          | 0/3 [00:00<?, ?it/s]"
     ]
    },
    {
     "name": "stdout",
     "output_type": "stream",
     "text": [
      "Segmentation Completed. \n",
      "total_meal: 38 TP:  8 FP:  9 FN:  1\n"
     ]
    },
    {
     "name": "stderr",
     "output_type": "stream",
     "text": [
      "100%|██████████| 3/3 [00:00<00:00, 177.06it/s]\n",
      "100%|██████████| 2/2 [00:00<00:00, 209.00it/s]\n"
     ]
    },
    {
     "name": "stdout",
     "output_type": "stream",
     "text": [
      "Segmentation Completed. \n",
      "total_meal: 38 TP:  9 FP:  14 FN:  0\n",
      "Segmentation Completed. \n"
     ]
    },
    {
     "name": "stderr",
     "output_type": "stream",
     "text": [
      "100%|██████████| 2/2 [00:00<00:00, 252.94it/s]\n"
     ]
    },
    {
     "name": "stdout",
     "output_type": "stream",
     "text": [
      "total_meal: 38 TP:  4 FP:  5 FN:  2\n",
      "Segmentation Completed. \n",
      "total_meal: 38 TP:  3 FP:  11 FN:  3\n",
      "   dataset   Ts    Te  TP  FN  FP    TPR  FP/TP\n",
      "0  shaurya  0.8  0.25  30   8  51  0.789    1.7\n"
     ]
    },
    {
     "name": "stderr",
     "output_type": "stream",
     "text": [
      "100%|██████████| 3/3 [00:00<00:00, 235.07it/s]\n",
      "100%|██████████| 3/3 [00:00<00:00, 253.22it/s]\n"
     ]
    },
    {
     "name": "stdout",
     "output_type": "stream",
     "text": [
      "Segmentation Completed. \n",
      "total_meal: 38 TP:  6 FP:  12 FN:  2\n",
      "Segmentation Completed. \n",
      "total_meal: 38 TP:  8 FP:  9 FN:  1\n"
     ]
    },
    {
     "name": "stderr",
     "output_type": "stream",
     "text": [
      "100%|██████████| 3/3 [00:00<00:00, 217.28it/s]\n",
      "100%|██████████| 2/2 [00:00<00:00, 251.16it/s]\n"
     ]
    },
    {
     "name": "stdout",
     "output_type": "stream",
     "text": [
      "Segmentation Completed. \n",
      "total_meal: 38 TP:  9 FP:  13 FN:  0\n",
      "Segmentation Completed. \n",
      "total_meal: 38 TP:  4 FP:  5 FN:  2\n"
     ]
    },
    {
     "name": "stderr",
     "output_type": "stream",
     "text": [
      "100%|██████████| 2/2 [00:00<00:00, 290.92it/s]\n",
      "100%|██████████| 3/3 [00:00<00:00, 249.04it/s]\n"
     ]
    },
    {
     "name": "stdout",
     "output_type": "stream",
     "text": [
      "Segmentation Completed. \n",
      "total_meal: 38 TP:  2 FP:  12 FN:  4\n",
      "   dataset   Ts   Te  TP  FN  FP    TPR  FP/TP\n",
      "0  shaurya  0.8  0.3  29   9  51  0.763  1.759\n",
      "Segmentation Completed. \n",
      "total_meal: 38 TP:  6 FP:  12 FN:  2\n"
     ]
    },
    {
     "name": "stderr",
     "output_type": "stream",
     "text": [
      "100%|██████████| 3/3 [00:00<00:00, 272.22it/s]\n",
      "100%|██████████| 3/3 [00:00<00:00, 239.32it/s]\n"
     ]
    },
    {
     "name": "stdout",
     "output_type": "stream",
     "text": [
      "Segmentation Completed. \n",
      "total_meal: 38 TP:  8 FP:  9 FN:  1\n",
      "Segmentation Completed. \n",
      "total_meal: 38 TP:  9 FP:  13 FN:  0\n"
     ]
    },
    {
     "name": "stderr",
     "output_type": "stream",
     "text": [
      "100%|██████████| 2/2 [00:00<00:00, 272.29it/s]\n",
      "100%|██████████| 2/2 [00:00<00:00, 297.92it/s]\n"
     ]
    },
    {
     "name": "stdout",
     "output_type": "stream",
     "text": [
      "Segmentation Completed. \n",
      "total_meal: 38 TP:  4 FP:  5 FN:  2\n",
      "Segmentation Completed. \n",
      "total_meal: 38 TP:  2 FP:  12 FN:  4\n",
      "   dataset   Ts    Te  TP  FN  FP    TPR  FP/TP\n",
      "0  shaurya  0.8  0.35  29   9  51  0.763  1.759\n"
     ]
    },
    {
     "name": "stderr",
     "output_type": "stream",
     "text": [
      "100%|██████████| 3/3 [00:00<00:00, 248.99it/s]\n",
      "100%|██████████| 3/3 [00:00<00:00, 265.75it/s]\n"
     ]
    },
    {
     "name": "stdout",
     "output_type": "stream",
     "text": [
      "Segmentation Completed. \n",
      "total_meal: 38 TP:  6 FP:  12 FN:  2\n",
      "Segmentation Completed. \n",
      "total_meal: 38 TP:  8 FP:  9 FN:  1\n"
     ]
    },
    {
     "name": "stderr",
     "output_type": "stream",
     "text": [
      "100%|██████████| 3/3 [00:00<00:00, 239.99it/s]\n",
      "100%|██████████| 2/2 [00:00<00:00, 267.46it/s]\n"
     ]
    },
    {
     "name": "stdout",
     "output_type": "stream",
     "text": [
      "Segmentation Completed. \n",
      "total_meal: 38 TP:  9 FP:  13 FN:  0\n",
      "Segmentation Completed. \n",
      "total_meal: 38 TP:  4 FP:  5 FN:  2\n"
     ]
    },
    {
     "name": "stderr",
     "output_type": "stream",
     "text": [
      "100%|██████████| 2/2 [00:00<00:00, 277.83it/s]\n",
      "100%|██████████| 3/3 [00:00<00:00, 243.29it/s]\n"
     ]
    },
    {
     "name": "stdout",
     "output_type": "stream",
     "text": [
      "Segmentation Completed. \n",
      "total_meal: 38 TP:  2 FP:  12 FN:  4\n",
      "   dataset   Ts   Te  TP  FN  FP    TPR  FP/TP\n",
      "0  shaurya  0.8  0.4  29   9  51  0.763  1.759\n",
      "Segmentation Completed. \n",
      "total_meal: 38 TP:  6 FP:  12 FN:  2\n"
     ]
    },
    {
     "name": "stderr",
     "output_type": "stream",
     "text": [
      "100%|██████████| 3/3 [00:00<00:00, 271.80it/s]\n",
      "100%|██████████| 3/3 [00:00<00:00, 241.02it/s]\n"
     ]
    },
    {
     "name": "stdout",
     "output_type": "stream",
     "text": [
      "Segmentation Completed. \n",
      "total_meal: 38 TP:  8 FP:  9 FN:  1\n",
      "Segmentation Completed. \n",
      "total_meal: 38 TP:  9 FP:  13 FN:  0\n"
     ]
    },
    {
     "name": "stderr",
     "output_type": "stream",
     "text": [
      "100%|██████████| 2/2 [00:00<00:00, 237.18it/s]\n",
      "100%|██████████| 2/2 [00:00<00:00, 207.82it/s]"
     ]
    },
    {
     "name": "stdout",
     "output_type": "stream",
     "text": [
      "Segmentation Completed. \n",
      "total_meal: 38 TP:  4 FP:  5 FN:  2\n",
      "Segmentation Completed. \n"
     ]
    },
    {
     "name": "stderr",
     "output_type": "stream",
     "text": [
      "\n",
      "100%|██████████| 3/3 [00:00<00:00, 230.37it/s]"
     ]
    },
    {
     "name": "stdout",
     "output_type": "stream",
     "text": [
      "total_meal: 38 TP:  2 FP:  13 FN:  4\n",
      "   dataset   Ts    Te  TP  FN  FP    TPR  FP/TP\n",
      "0  shaurya  0.8  0.45  29   9  52  0.763  1.793\n",
      "Segmentation Completed. \n"
     ]
    },
    {
     "name": "stderr",
     "output_type": "stream",
     "text": [
      "\n",
      "100%|██████████| 3/3 [00:00<00:00, 233.09it/s]\n"
     ]
    },
    {
     "name": "stdout",
     "output_type": "stream",
     "text": [
      "total_meal: 38 TP:  6 FP:  9 FN:  2\n",
      "Segmentation Completed. \n",
      "total_meal: 38 TP:  5 FP:  5 FN:  4\n"
     ]
    },
    {
     "name": "stderr",
     "output_type": "stream",
     "text": [
      "100%|██████████| 3/3 [00:00<00:00, 226.12it/s]\n",
      "100%|██████████| 2/2 [00:00<00:00, 254.38it/s]\n"
     ]
    },
    {
     "name": "stdout",
     "output_type": "stream",
     "text": [
      "Segmentation Completed. \n",
      "total_meal: 38 TP:  9 FP:  11 FN:  0\n",
      "Segmentation Completed. \n",
      "total_meal: 38 TP:  4 FP:  2 FN:  2\n"
     ]
    },
    {
     "name": "stderr",
     "output_type": "stream",
     "text": [
      "100%|██████████| 2/2 [00:00<00:00, 275.42it/s]\n",
      "100%|██████████| 3/3 [00:00<00:00, 225.00it/s]\n"
     ]
    },
    {
     "name": "stdout",
     "output_type": "stream",
     "text": [
      "Segmentation Completed. \n",
      "total_meal: 38 TP:  4 FP:  7 FN:  2\n",
      "   dataset    Ts   Te  TP  FN  FP    TPR  FP/TP\n",
      "0  shaurya  0.85  0.1  28  10  34  0.737  1.214\n",
      "Segmentation Completed. \n"
     ]
    },
    {
     "name": "stderr",
     "output_type": "stream",
     "text": [
      "100%|██████████| 3/3 [00:00<00:00, 266.24it/s]\n"
     ]
    },
    {
     "name": "stdout",
     "output_type": "stream",
     "text": [
      "total_meal: 38 TP:  6 FP:  9 FN:  2\n",
      "Segmentation Completed. \n",
      "total_meal: 38 TP:  5 FP:  5 FN:  4\n"
     ]
    },
    {
     "name": "stderr",
     "output_type": "stream",
     "text": [
      "100%|██████████| 3/3 [00:00<00:00, 242.13it/s]\n",
      "100%|██████████| 2/2 [00:00<00:00, 278.77it/s]\n"
     ]
    },
    {
     "name": "stdout",
     "output_type": "stream",
     "text": [
      "Segmentation Completed. \n",
      "total_meal: 38 TP:  9 FP:  11 FN:  0\n",
      "Segmentation Completed. \n",
      "total_meal: 38 TP:  4 FP:  2 FN:  2\n"
     ]
    },
    {
     "name": "stderr",
     "output_type": "stream",
     "text": [
      "100%|██████████| 2/2 [00:00<00:00, 305.63it/s]\n",
      "100%|██████████| 3/3 [00:00<00:00, 250.44it/s]\n"
     ]
    },
    {
     "name": "stdout",
     "output_type": "stream",
     "text": [
      "Segmentation Completed. \n",
      "total_meal: 38 TP:  3 FP:  11 FN:  3\n",
      "   dataset    Ts    Te  TP  FN  FP    TPR  FP/TP\n",
      "0  shaurya  0.85  0.15  27  11  38  0.711  1.407\n",
      "Segmentation Completed. \n",
      "total_meal: 38 TP:  6 FP:  9 FN:  2\n"
     ]
    },
    {
     "name": "stderr",
     "output_type": "stream",
     "text": [
      "100%|██████████| 3/3 [00:00<00:00, 272.82it/s]\n",
      "100%|██████████| 3/3 [00:00<00:00, 241.87it/s]\n"
     ]
    },
    {
     "name": "stdout",
     "output_type": "stream",
     "text": [
      "Segmentation Completed. \n",
      "total_meal: 38 TP:  6 FP:  6 FN:  3\n",
      "Segmentation Completed. \n",
      "total_meal: 38 TP:  9 FP:  11 FN:  0\n"
     ]
    },
    {
     "name": "stderr",
     "output_type": "stream",
     "text": [
      "100%|██████████| 2/2 [00:00<00:00, 277.74it/s]\n",
      "100%|██████████| 2/2 [00:00<00:00, 304.70it/s]\n"
     ]
    },
    {
     "name": "stdout",
     "output_type": "stream",
     "text": [
      "Segmentation Completed. \n",
      "total_meal: 38 TP:  4 FP:  2 FN:  2\n",
      "Segmentation Completed. \n",
      "total_meal: 38 TP:  3 FP:  11 FN:  3\n",
      "   dataset    Ts   Te  TP  FN  FP    TPR  FP/TP\n",
      "0  shaurya  0.85  0.2  28  10  39  0.737  1.393\n"
     ]
    },
    {
     "name": "stderr",
     "output_type": "stream",
     "text": [
      "100%|██████████| 3/3 [00:00<00:00, 251.40it/s]\n",
      "100%|██████████| 3/3 [00:00<00:00, 259.54it/s]\n"
     ]
    },
    {
     "name": "stdout",
     "output_type": "stream",
     "text": [
      "Segmentation Completed. \n",
      "total_meal: 38 TP:  6 FP:  9 FN:  2\n",
      "Segmentation Completed. \n",
      "total_meal: 38 TP:  8 FP:  8 FN:  1\n"
     ]
    },
    {
     "name": "stderr",
     "output_type": "stream",
     "text": [
      "100%|██████████| 3/3 [00:00<00:00, 237.37it/s]\n",
      "100%|██████████| 2/2 [00:00<00:00, 276.98it/s]\n"
     ]
    },
    {
     "name": "stdout",
     "output_type": "stream",
     "text": [
      "Segmentation Completed. \n",
      "total_meal: 38 TP:  9 FP:  11 FN:  0\n",
      "Segmentation Completed. \n",
      "total_meal: 38 TP:  4 FP:  2 FN:  2\n"
     ]
    },
    {
     "name": "stderr",
     "output_type": "stream",
     "text": [
      "100%|██████████| 2/2 [00:00<00:00, 297.13it/s]\n",
      "100%|██████████| 3/3 [00:00<00:00, 218.97it/s]\n"
     ]
    },
    {
     "name": "stdout",
     "output_type": "stream",
     "text": [
      "Segmentation Completed. \n",
      "total_meal: 38 TP:  3 FP:  11 FN:  3\n",
      "   dataset    Ts    Te  TP  FN  FP    TPR  FP/TP\n",
      "0  shaurya  0.85  0.25  30   8  41  0.789  1.367\n",
      "Segmentation Completed. \n",
      "total_meal: 38 TP:  6 FP:  9 FN:  2\n"
     ]
    },
    {
     "name": "stderr",
     "output_type": "stream",
     "text": [
      "100%|██████████| 3/3 [00:00<00:00, 200.40it/s]\n",
      "100%|██████████| 3/3 [00:00<00:00, 223.01it/s]\n"
     ]
    },
    {
     "name": "stdout",
     "output_type": "stream",
     "text": [
      "Segmentation Completed. \n",
      "total_meal: 38 TP:  8 FP:  8 FN:  1\n",
      "Segmentation Completed. \n"
     ]
    },
    {
     "name": "stderr",
     "output_type": "stream",
     "text": [
      "100%|██████████| 2/2 [00:00<00:00, 233.24it/s]\n"
     ]
    },
    {
     "name": "stdout",
     "output_type": "stream",
     "text": [
      "total_meal: 38 TP:  9 FP:  11 FN:  0\n",
      "Segmentation Completed. \n",
      "total_meal: 38 TP:  4 FP:  2 FN:  2\n"
     ]
    },
    {
     "name": "stderr",
     "output_type": "stream",
     "text": [
      "100%|██████████| 2/2 [00:00<00:00, 254.10it/s]\n",
      "100%|██████████| 3/3 [00:00<00:00, 231.37it/s]\n"
     ]
    },
    {
     "name": "stdout",
     "output_type": "stream",
     "text": [
      "Segmentation Completed. \n",
      "total_meal: 38 TP:  2 FP:  12 FN:  4\n",
      "   dataset    Ts   Te  TP  FN  FP    TPR  FP/TP\n",
      "0  shaurya  0.85  0.3  29   9  42  0.763  1.448\n",
      "Segmentation Completed. \n",
      "total_meal: 38 TP:  6 FP:  9 FN:  2\n"
     ]
    },
    {
     "name": "stderr",
     "output_type": "stream",
     "text": [
      "100%|██████████| 3/3 [00:00<00:00, 251.64it/s]\n",
      "100%|██████████| 3/3 [00:00<00:00, 202.74it/s]\n"
     ]
    },
    {
     "name": "stdout",
     "output_type": "stream",
     "text": [
      "Segmentation Completed. \n",
      "total_meal: 38 TP:  8 FP:  8 FN:  1\n",
      "Segmentation Completed. \n"
     ]
    },
    {
     "name": "stderr",
     "output_type": "stream",
     "text": [
      "100%|██████████| 2/2 [00:00<00:00, 188.81it/s]"
     ]
    },
    {
     "name": "stdout",
     "output_type": "stream",
     "text": [
      "total_meal: 38 TP:  9 FP:  11 FN:  0\n",
      "Segmentation Completed. \n"
     ]
    },
    {
     "name": "stderr",
     "output_type": "stream",
     "text": [
      "\n",
      "100%|██████████| 2/2 [00:00<00:00, 264.03it/s]\n"
     ]
    },
    {
     "name": "stdout",
     "output_type": "stream",
     "text": [
      "total_meal: 38 TP:  4 FP:  2 FN:  2\n",
      "Segmentation Completed. \n",
      "total_meal: 38 TP:  2 FP:  12 FN:  4\n",
      "   dataset    Ts    Te  TP  FN  FP    TPR  FP/TP\n",
      "0  shaurya  0.85  0.35  29   9  42  0.763  1.448\n"
     ]
    },
    {
     "name": "stderr",
     "output_type": "stream",
     "text": [
      "100%|██████████| 3/3 [00:00<00:00, 247.66it/s]\n",
      "100%|██████████| 3/3 [00:00<00:00, 266.69it/s]\n"
     ]
    },
    {
     "name": "stdout",
     "output_type": "stream",
     "text": [
      "Segmentation Completed. \n",
      "total_meal: 38 TP:  6 FP:  9 FN:  2\n",
      "Segmentation Completed. \n",
      "total_meal: 38 TP:  8 FP:  8 FN:  1\n"
     ]
    },
    {
     "name": "stderr",
     "output_type": "stream",
     "text": [
      "100%|██████████| 3/3 [00:00<00:00, 240.38it/s]\n",
      "100%|██████████| 2/2 [00:00<00:00, 271.12it/s]\n"
     ]
    },
    {
     "name": "stdout",
     "output_type": "stream",
     "text": [
      "Segmentation Completed. \n",
      "total_meal: 38 TP:  9 FP:  11 FN:  0\n",
      "Segmentation Completed. \n",
      "total_meal: 38 TP:  4 FP:  2 FN:  2\n"
     ]
    },
    {
     "name": "stderr",
     "output_type": "stream",
     "text": [
      "100%|██████████| 2/2 [00:00<00:00, 302.13it/s]\n",
      "100%|██████████| 3/3 [00:00<00:00, 247.46it/s]\n"
     ]
    },
    {
     "name": "stdout",
     "output_type": "stream",
     "text": [
      "Segmentation Completed. \n",
      "total_meal: 38 TP:  2 FP:  12 FN:  4\n",
      "   dataset    Ts   Te  TP  FN  FP    TPR  FP/TP\n",
      "0  shaurya  0.85  0.4  29   9  42  0.763  1.448\n",
      "Segmentation Completed. \n",
      "total_meal: 38 TP:  6 FP:  9 FN:  2\n"
     ]
    },
    {
     "name": "stderr",
     "output_type": "stream",
     "text": [
      "100%|██████████| 3/3 [00:00<00:00, 271.76it/s]\n",
      "100%|██████████| 3/3 [00:00<00:00, 238.52it/s]\n"
     ]
    },
    {
     "name": "stdout",
     "output_type": "stream",
     "text": [
      "Segmentation Completed. \n",
      "total_meal: 38 TP:  8 FP:  8 FN:  1\n",
      "Segmentation Completed. \n",
      "total_meal: 38 TP:  9 FP:  11 FN:  0\n"
     ]
    },
    {
     "name": "stderr",
     "output_type": "stream",
     "text": [
      "100%|██████████| 2/2 [00:00<00:00, 261.07it/s]\n",
      "100%|██████████| 2/2 [00:00<00:00, 299.42it/s]\n"
     ]
    },
    {
     "name": "stdout",
     "output_type": "stream",
     "text": [
      "Segmentation Completed. \n",
      "total_meal: 38 TP:  4 FP:  2 FN:  2\n",
      "Segmentation Completed. \n",
      "total_meal: 38 TP:  2 FP:  13 FN:  4\n",
      "   dataset    Ts    Te  TP  FN  FP    TPR  FP/TP\n",
      "0  shaurya  0.85  0.45  29   9  43  0.763  1.483\n"
     ]
    },
    {
     "name": "stderr",
     "output_type": "stream",
     "text": [
      "100%|██████████| 3/3 [00:00<00:00, 261.82it/s]\n",
      "100%|██████████| 3/3 [00:00<00:00, 280.50it/s]\n"
     ]
    },
    {
     "name": "stdout",
     "output_type": "stream",
     "text": [
      "Segmentation Completed. \n",
      "total_meal: 20 TP:  3 FP:  8 FN:  2\n",
      "Segmentation Completed. \n",
      "total_meal: 20 TP:  3 FP:  15 FN:  0\n"
     ]
    },
    {
     "name": "stderr",
     "output_type": "stream",
     "text": [
      "100%|██████████| 3/3 [00:00<00:00, 350.13it/s]\n",
      "100%|██████████| 3/3 [00:00<00:00, 301.78it/s]\n"
     ]
    },
    {
     "name": "stdout",
     "output_type": "stream",
     "text": [
      "Segmentation Completed. \n",
      "total_meal: 20 TP:  4 FP:  14 FN:  1\n",
      "Segmentation Completed. \n",
      "total_meal: 20 TP:  3 FP:  4 FN:  1\n"
     ]
    },
    {
     "name": "stderr",
     "output_type": "stream",
     "text": [
      "100%|██████████| 2/2 [00:00<00:00, 291.13it/s]\n",
      "100%|██████████| 3/3 [00:00<00:00, 231.26it/s]\n"
     ]
    },
    {
     "name": "stdout",
     "output_type": "stream",
     "text": [
      "Segmentation Completed. \n",
      "total_meal: 20 TP:  3 FP:  14 FN:  0\n",
      "  dataset   Ts   Te  TP  FN  FP  TPR  FP/TP\n",
      "0  tianyi  0.5  0.1  16   4  55  0.8  3.438\n",
      "Segmentation Completed. \n"
     ]
    },
    {
     "name": "stderr",
     "output_type": "stream",
     "text": [
      "100%|██████████| 3/3 [00:00<00:00, 260.14it/s]\n"
     ]
    },
    {
     "name": "stdout",
     "output_type": "stream",
     "text": [
      "total_meal: 20 TP:  3 FP:  9 FN:  2\n",
      "Segmentation Completed. \n",
      "total_meal: 20 TP:  3 FP:  18 FN:  0\n"
     ]
    },
    {
     "name": "stderr",
     "output_type": "stream",
     "text": [
      "100%|██████████| 3/3 [00:00<00:00, 318.76it/s]\n",
      "100%|██████████| 3/3 [00:00<00:00, 272.89it/s]\n"
     ]
    },
    {
     "name": "stdout",
     "output_type": "stream",
     "text": [
      "Segmentation Completed. \n",
      "total_meal: 20 TP:  4 FP:  17 FN:  1\n",
      "Segmentation Completed. \n",
      "total_meal: 20 TP:  3 FP:  4 FN:  1\n"
     ]
    },
    {
     "name": "stderr",
     "output_type": "stream",
     "text": [
      "100%|██████████| 2/2 [00:00<00:00, 269.20it/s]\n",
      "100%|██████████| 3/3 [00:00<00:00, 265.37it/s]\n"
     ]
    },
    {
     "name": "stdout",
     "output_type": "stream",
     "text": [
      "Segmentation Completed. \n",
      "total_meal: 20 TP:  3 FP:  14 FN:  0\n",
      "  dataset   Ts    Te  TP  FN  FP  TPR  FP/TP\n",
      "0  tianyi  0.5  0.15  16   4  62  0.8  3.875\n",
      "Segmentation Completed. \n",
      "total_meal: 20 TP:  3 FP:  8 FN:  2\n"
     ]
    },
    {
     "name": "stderr",
     "output_type": "stream",
     "text": [
      "100%|██████████| 3/3 [00:00<00:00, 280.22it/s]\n",
      "100%|██████████| 3/3 [00:00<00:00, 352.27it/s]\n"
     ]
    },
    {
     "name": "stdout",
     "output_type": "stream",
     "text": [
      "Segmentation Completed. \n",
      "total_meal: 20 TP:  3 FP:  19 FN:  0\n",
      "Segmentation Completed. \n",
      "total_meal: 20 TP:  4 FP:  17 FN:  1\n"
     ]
    },
    {
     "name": "stderr",
     "output_type": "stream",
     "text": [
      "100%|██████████| 3/3 [00:00<00:00, 298.67it/s]\n",
      "100%|██████████| 2/2 [00:00<00:00, 264.11it/s]\n"
     ]
    },
    {
     "name": "stdout",
     "output_type": "stream",
     "text": [
      "Segmentation Completed. \n",
      "total_meal: 20 TP:  3 FP:  4 FN:  1\n",
      "Segmentation Completed. \n",
      "total_meal: 20 TP:  3 FP:  14 FN:  0\n",
      "  dataset   Ts   Te  TP  FN  FP  TPR  FP/TP\n",
      "0  tianyi  0.5  0.2  16   4  62  0.8  3.875\n"
     ]
    },
    {
     "name": "stderr",
     "output_type": "stream",
     "text": [
      "100%|██████████| 3/3 [00:00<00:00, 248.08it/s]\n",
      "100%|██████████| 3/3 [00:00<00:00, 255.51it/s]\n"
     ]
    },
    {
     "name": "stdout",
     "output_type": "stream",
     "text": [
      "Segmentation Completed. \n",
      "total_meal: 20 TP:  3 FP:  7 FN:  2\n",
      "Segmentation Completed. \n",
      "total_meal: 20 TP:  3 FP:  19 FN:  0\n"
     ]
    },
    {
     "name": "stderr",
     "output_type": "stream",
     "text": [
      "100%|██████████| 3/3 [00:00<00:00, 330.47it/s]\n",
      "100%|██████████| 3/3 [00:00<00:00, 279.43it/s]\n"
     ]
    },
    {
     "name": "stdout",
     "output_type": "stream",
     "text": [
      "Segmentation Completed. \n",
      "total_meal: 20 TP:  4 FP:  16 FN:  1\n",
      "Segmentation Completed. \n",
      "total_meal: 20 TP:  3 FP:  4 FN:  1\n"
     ]
    },
    {
     "name": "stderr",
     "output_type": "stream",
     "text": [
      "100%|██████████| 2/2 [00:00<00:00, 269.20it/s]\n",
      "100%|██████████| 3/3 [00:00<00:00, 246.43it/s]\n"
     ]
    },
    {
     "name": "stdout",
     "output_type": "stream",
     "text": [
      "Segmentation Completed. \n",
      "total_meal: 20 TP:  3 FP:  14 FN:  0\n",
      "  dataset   Ts    Te  TP  FN  FP  TPR  FP/TP\n",
      "0  tianyi  0.5  0.25  16   4  60  0.8   3.75\n",
      "Segmentation Completed. \n",
      "total_meal: 20 TP:  3 FP:  7 FN:  2\n"
     ]
    },
    {
     "name": "stderr",
     "output_type": "stream",
     "text": [
      "100%|██████████| 3/3 [00:00<00:00, 262.03it/s]\n",
      "100%|██████████| 3/3 [00:00<00:00, 295.16it/s]\n"
     ]
    },
    {
     "name": "stdout",
     "output_type": "stream",
     "text": [
      "Segmentation Completed. \n",
      "total_meal: 20 TP:  3 FP:  19 FN:  0\n",
      "Segmentation Completed. \n",
      "total_meal: 20 TP:  4 FP:  15 FN:  1\n"
     ]
    },
    {
     "name": "stderr",
     "output_type": "stream",
     "text": [
      "100%|██████████| 3/3 [00:00<00:00, 209.92it/s]\n",
      "100%|██████████| 2/2 [00:00<00:00, 213.48it/s]\n"
     ]
    },
    {
     "name": "stdout",
     "output_type": "stream",
     "text": [
      "Segmentation Completed. \n",
      "total_meal: 20 TP:  3 FP:  4 FN:  1\n",
      "Segmentation Completed. \n"
     ]
    },
    {
     "name": "stderr",
     "output_type": "stream",
     "text": [
      "100%|██████████| 3/3 [00:00<00:00, 242.80it/s]\n"
     ]
    },
    {
     "name": "stdout",
     "output_type": "stream",
     "text": [
      "total_meal: 20 TP:  3 FP:  14 FN:  0\n",
      "  dataset   Ts   Te  TP  FN  FP  TPR  FP/TP\n",
      "0  tianyi  0.5  0.3  16   4  59  0.8  3.688\n",
      "Segmentation Completed. \n",
      "total_meal: 20 TP:  3 FP:  7 FN:  2\n"
     ]
    },
    {
     "name": "stderr",
     "output_type": "stream",
     "text": [
      "100%|██████████| 3/3 [00:00<00:00, 258.07it/s]\n",
      "100%|██████████| 3/3 [00:00<00:00, 321.62it/s]\n"
     ]
    },
    {
     "name": "stdout",
     "output_type": "stream",
     "text": [
      "Segmentation Completed. \n",
      "total_meal: 20 TP:  3 FP:  19 FN:  0\n",
      "Segmentation Completed. \n",
      "total_meal: 20 TP:  4 FP:  15 FN:  1\n"
     ]
    },
    {
     "name": "stderr",
     "output_type": "stream",
     "text": [
      "100%|██████████| 3/3 [00:00<00:00, 273.43it/s]\n",
      "100%|██████████| 2/2 [00:00<00:00, 171.35it/s]\n"
     ]
    },
    {
     "name": "stdout",
     "output_type": "stream",
     "text": [
      "Segmentation Completed. \n",
      "total_meal: 20 TP:  3 FP:  4 FN:  1\n",
      "Segmentation Completed. \n"
     ]
    },
    {
     "name": "stderr",
     "output_type": "stream",
     "text": [
      "100%|██████████| 3/3 [00:00<00:00, 196.29it/s]"
     ]
    },
    {
     "name": "stdout",
     "output_type": "stream",
     "text": [
      "total_meal: 20 TP:  3 FP:  14 FN:  0\n",
      "  dataset   Ts    Te  TP  FN  FP  TPR  FP/TP\n",
      "0  tianyi  0.5  0.35  16   4  59  0.8  3.688\n",
      "Segmentation Completed. \n"
     ]
    },
    {
     "name": "stderr",
     "output_type": "stream",
     "text": [
      "\n",
      "100%|██████████| 3/3 [00:00<00:00, 265.06it/s]\n"
     ]
    },
    {
     "name": "stdout",
     "output_type": "stream",
     "text": [
      "total_meal: 20 TP:  3 FP:  7 FN:  2\n",
      "Segmentation Completed. \n",
      "total_meal: 20 TP:  3 FP:  19 FN:  0\n"
     ]
    },
    {
     "name": "stderr",
     "output_type": "stream",
     "text": [
      "100%|██████████| 3/3 [00:00<00:00, 309.15it/s]\n",
      "100%|██████████| 3/3 [00:00<00:00, 280.41it/s]\n"
     ]
    },
    {
     "name": "stdout",
     "output_type": "stream",
     "text": [
      "Segmentation Completed. \n",
      "total_meal: 20 TP:  4 FP:  15 FN:  1\n",
      "Segmentation Completed. \n",
      "total_meal: 20 TP:  3 FP:  4 FN:  1\n"
     ]
    },
    {
     "name": "stderr",
     "output_type": "stream",
     "text": [
      "100%|██████████| 2/2 [00:00<00:00, 272.38it/s]\n",
      "100%|██████████| 3/3 [00:00<00:00, 248.23it/s]\n"
     ]
    },
    {
     "name": "stdout",
     "output_type": "stream",
     "text": [
      "Segmentation Completed. \n",
      "total_meal: 20 TP:  3 FP:  14 FN:  0\n",
      "  dataset   Ts   Te  TP  FN  FP  TPR  FP/TP\n",
      "0  tianyi  0.5  0.4  16   4  59  0.8  3.688\n",
      "Segmentation Completed. \n",
      "total_meal: 20 TP:  3 FP:  7 FN:  2\n"
     ]
    },
    {
     "name": "stderr",
     "output_type": "stream",
     "text": [
      "100%|██████████| 3/3 [00:00<00:00, 245.16it/s]\n",
      "  0%|          | 0/3 [00:00<?, ?it/s]"
     ]
    },
    {
     "name": "stdout",
     "output_type": "stream",
     "text": [
      "Segmentation Completed. \n",
      "total_meal: 20 TP:  3 FP:  18 FN:  0\n"
     ]
    },
    {
     "name": "stderr",
     "output_type": "stream",
     "text": [
      "100%|██████████| 3/3 [00:00<00:00, 232.77it/s]\n",
      "100%|██████████| 3/3 [00:00<00:00, 215.14it/s]\n"
     ]
    },
    {
     "name": "stdout",
     "output_type": "stream",
     "text": [
      "Segmentation Completed. \n",
      "total_meal: 20 TP:  4 FP:  15 FN:  1\n",
      "Segmentation Completed. \n"
     ]
    },
    {
     "name": "stderr",
     "output_type": "stream",
     "text": [
      "100%|██████████| 2/2 [00:00<00:00, 259.89it/s]\n"
     ]
    },
    {
     "name": "stdout",
     "output_type": "stream",
     "text": [
      "total_meal: 20 TP:  3 FP:  4 FN:  1\n",
      "Segmentation Completed. \n",
      "total_meal: 20 TP:  3 FP:  13 FN:  0\n",
      "  dataset   Ts    Te  TP  FN  FP  TPR  FP/TP\n",
      "0  tianyi  0.5  0.45  16   4  57  0.8  3.562\n"
     ]
    },
    {
     "name": "stderr",
     "output_type": "stream",
     "text": [
      "100%|██████████| 3/3 [00:00<00:00, 247.34it/s]\n",
      "100%|██████████| 3/3 [00:00<00:00, 261.57it/s]\n"
     ]
    },
    {
     "name": "stdout",
     "output_type": "stream",
     "text": [
      "Segmentation Completed. \n",
      "total_meal: 20 TP:  3 FP:  7 FN:  2\n",
      "Segmentation Completed. \n",
      "total_meal: 20 TP:  3 FP:  12 FN:  0\n"
     ]
    },
    {
     "name": "stderr",
     "output_type": "stream",
     "text": [
      "100%|██████████| 3/3 [00:00<00:00, 283.43it/s]\n",
      "100%|██████████| 3/3 [00:00<00:00, 211.68it/s]\n"
     ]
    },
    {
     "name": "stdout",
     "output_type": "stream",
     "text": [
      "Segmentation Completed. \n",
      "total_meal: 20 TP:  4 FP:  12 FN:  1\n",
      "Segmentation Completed. \n"
     ]
    },
    {
     "name": "stderr",
     "output_type": "stream",
     "text": [
      "100%|██████████| 2/2 [00:00<00:00, 205.98it/s]"
     ]
    },
    {
     "name": "stdout",
     "output_type": "stream",
     "text": [
      "total_meal: 20 TP:  3 FP:  4 FN:  1\n",
      "Segmentation Completed. \n"
     ]
    },
    {
     "name": "stderr",
     "output_type": "stream",
     "text": [
      "\n",
      "100%|██████████| 3/3 [00:00<00:00, 246.00it/s]\n"
     ]
    },
    {
     "name": "stdout",
     "output_type": "stream",
     "text": [
      "total_meal: 20 TP:  3 FP:  12 FN:  0\n",
      "  dataset    Ts   Te  TP  FN  FP  TPR  FP/TP\n",
      "0  tianyi  0.55  0.1  16   4  47  0.8  2.938\n",
      "Segmentation Completed. \n",
      "total_meal: 20 TP:  3 FP:  8 FN:  2\n"
     ]
    },
    {
     "name": "stderr",
     "output_type": "stream",
     "text": [
      "100%|██████████| 3/3 [00:00<00:00, 243.08it/s]\n",
      "100%|██████████| 3/3 [00:00<00:00, 320.24it/s]\n"
     ]
    },
    {
     "name": "stdout",
     "output_type": "stream",
     "text": [
      "Segmentation Completed. \n",
      "total_meal: 20 TP:  3 FP:  15 FN:  0\n",
      "Segmentation Completed. \n",
      "total_meal: 20 TP:  4 FP:  15 FN:  1\n"
     ]
    },
    {
     "name": "stderr",
     "output_type": "stream",
     "text": [
      "100%|██████████| 3/3 [00:00<00:00, 276.54it/s]\n",
      "100%|██████████| 2/2 [00:00<00:00, 242.42it/s]\n"
     ]
    },
    {
     "name": "stdout",
     "output_type": "stream",
     "text": [
      "Segmentation Completed. \n",
      "total_meal: 20 TP:  3 FP:  4 FN:  1\n",
      "Segmentation Completed. \n",
      "total_meal: 20 TP:  3 FP:  12 FN:  0\n",
      "  dataset    Ts    Te  TP  FN  FP  TPR  FP/TP\n",
      "0  tianyi  0.55  0.15  16   4  54  0.8  3.375\n"
     ]
    },
    {
     "name": "stderr",
     "output_type": "stream",
     "text": [
      "100%|██████████| 3/3 [00:00<00:00, 255.91it/s]\n",
      "100%|██████████| 3/3 [00:00<00:00, 282.23it/s]\n"
     ]
    },
    {
     "name": "stdout",
     "output_type": "stream",
     "text": [
      "Segmentation Completed. \n",
      "total_meal: 20 TP:  3 FP:  7 FN:  2\n",
      "Segmentation Completed. \n",
      "total_meal: 20 TP:  3 FP:  16 FN:  0\n"
     ]
    },
    {
     "name": "stderr",
     "output_type": "stream",
     "text": [
      "100%|██████████| 3/3 [00:00<00:00, 351.77it/s]\n",
      "100%|██████████| 3/3 [00:00<00:00, 302.87it/s]\n"
     ]
    },
    {
     "name": "stdout",
     "output_type": "stream",
     "text": [
      "Segmentation Completed. \n",
      "total_meal: 20 TP:  4 FP:  15 FN:  1\n",
      "Segmentation Completed. \n",
      "total_meal: 20 TP:  3 FP:  4 FN:  1\n"
     ]
    },
    {
     "name": "stderr",
     "output_type": "stream",
     "text": [
      "100%|██████████| 2/2 [00:00<00:00, 288.14it/s]\n",
      "100%|██████████| 3/3 [00:00<00:00, 272.27it/s]\n"
     ]
    },
    {
     "name": "stdout",
     "output_type": "stream",
     "text": [
      "Segmentation Completed. \n",
      "total_meal: 20 TP:  3 FP:  12 FN:  0\n",
      "  dataset    Ts   Te  TP  FN  FP  TPR  FP/TP\n",
      "0  tianyi  0.55  0.2  16   4  54  0.8  3.375\n",
      "Segmentation Completed. \n",
      "total_meal: 20 TP:  3 FP:  7 FN:  2\n"
     ]
    },
    {
     "name": "stderr",
     "output_type": "stream",
     "text": [
      "100%|██████████| 3/3 [00:00<00:00, 285.78it/s]\n",
      "100%|██████████| 3/3 [00:00<00:00, 352.04it/s]\n"
     ]
    },
    {
     "name": "stdout",
     "output_type": "stream",
     "text": [
      "Segmentation Completed. \n",
      "total_meal: 20 TP:  3 FP:  16 FN:  0\n",
      "Segmentation Completed. \n",
      "total_meal: 20 TP:  4 FP:  14 FN:  1\n"
     ]
    },
    {
     "name": "stderr",
     "output_type": "stream",
     "text": [
      "100%|██████████| 3/3 [00:00<00:00, 295.95it/s]\n",
      "100%|██████████| 2/2 [00:00<00:00, 292.98it/s]\n"
     ]
    },
    {
     "name": "stdout",
     "output_type": "stream",
     "text": [
      "Segmentation Completed. \n",
      "total_meal: 20 TP:  3 FP:  4 FN:  1\n",
      "Segmentation Completed. \n",
      "total_meal: 20 TP:  3 FP:  11 FN:  0\n",
      "  dataset    Ts    Te  TP  FN  FP  TPR  FP/TP\n",
      "0  tianyi  0.55  0.25  16   4  52  0.8   3.25\n"
     ]
    },
    {
     "name": "stderr",
     "output_type": "stream",
     "text": [
      "100%|██████████| 3/3 [00:00<00:00, 268.28it/s]\n",
      "100%|██████████| 3/3 [00:00<00:00, 275.90it/s]\n"
     ]
    },
    {
     "name": "stdout",
     "output_type": "stream",
     "text": [
      "Segmentation Completed. \n",
      "total_meal: 20 TP:  3 FP:  7 FN:  2\n",
      "Segmentation Completed. \n",
      "total_meal: 20 TP:  3 FP:  16 FN:  0\n"
     ]
    },
    {
     "name": "stderr",
     "output_type": "stream",
     "text": [
      "100%|██████████| 3/3 [00:00<00:00, 351.43it/s]\n",
      "100%|██████████| 3/3 [00:00<00:00, 304.36it/s]\n"
     ]
    },
    {
     "name": "stdout",
     "output_type": "stream",
     "text": [
      "Segmentation Completed. \n",
      "total_meal: 20 TP:  4 FP:  14 FN:  1\n",
      "Segmentation Completed. \n",
      "total_meal: 20 TP:  3 FP:  4 FN:  1\n"
     ]
    },
    {
     "name": "stderr",
     "output_type": "stream",
     "text": [
      "100%|██████████| 2/2 [00:00<00:00, 294.88it/s]\n",
      "100%|██████████| 3/3 [00:00<00:00, 220.75it/s]\n"
     ]
    },
    {
     "name": "stdout",
     "output_type": "stream",
     "text": [
      "Segmentation Completed. \n",
      "total_meal: 20 TP:  3 FP:  10 FN:  0\n",
      "  dataset    Ts   Te  TP  FN  FP  TPR  FP/TP\n",
      "0  tianyi  0.55  0.3  16   4  51  0.8  3.188\n",
      "Segmentation Completed. \n"
     ]
    },
    {
     "name": "stderr",
     "output_type": "stream",
     "text": [
      "100%|██████████| 3/3 [00:00<00:00, 197.96it/s]"
     ]
    },
    {
     "name": "stdout",
     "output_type": "stream",
     "text": [
      "total_meal: 20 TP:  3 FP:  7 FN:  2\n",
      "Segmentation Completed. \n"
     ]
    },
    {
     "name": "stderr",
     "output_type": "stream",
     "text": [
      "\n",
      "100%|██████████| 3/3 [00:00<00:00, 240.04it/s]\n"
     ]
    },
    {
     "name": "stdout",
     "output_type": "stream",
     "text": [
      "total_meal: 20 TP:  3 FP:  16 FN:  0\n",
      "Segmentation Completed. \n",
      "total_meal: 20 TP:  4 FP:  14 FN:  1\n"
     ]
    },
    {
     "name": "stderr",
     "output_type": "stream",
     "text": [
      "100%|██████████| 3/3 [00:00<00:00, 253.10it/s]\n",
      "100%|██████████| 2/2 [00:00<00:00, 270.55it/s]\n"
     ]
    },
    {
     "name": "stdout",
     "output_type": "stream",
     "text": [
      "Segmentation Completed. \n",
      "total_meal: 20 TP:  3 FP:  4 FN:  1\n",
      "Segmentation Completed. \n",
      "total_meal: 20 TP:  3 FP:  10 FN:  0\n",
      "  dataset    Ts    Te  TP  FN  FP  TPR  FP/TP\n",
      "0  tianyi  0.55  0.35  16   4  51  0.8  3.188\n"
     ]
    },
    {
     "name": "stderr",
     "output_type": "stream",
     "text": [
      "100%|██████████| 3/3 [00:00<00:00, 249.40it/s]\n",
      "100%|██████████| 3/3 [00:00<00:00, 261.08it/s]\n"
     ]
    },
    {
     "name": "stdout",
     "output_type": "stream",
     "text": [
      "Segmentation Completed. \n",
      "total_meal: 20 TP:  3 FP:  7 FN:  2\n",
      "Segmentation Completed. \n",
      "total_meal: 20 TP:  3 FP:  15 FN:  0\n"
     ]
    },
    {
     "name": "stderr",
     "output_type": "stream",
     "text": [
      "100%|██████████| 3/3 [00:00<00:00, 305.21it/s]\n",
      "  0%|          | 0/3 [00:00<?, ?it/s]"
     ]
    },
    {
     "name": "stdout",
     "output_type": "stream",
     "text": [
      "Segmentation Completed. \n",
      "total_meal: 20 TP:  4 FP:  14 FN:  1\n"
     ]
    },
    {
     "name": "stderr",
     "output_type": "stream",
     "text": [
      "100%|██████████| 3/3 [00:00<00:00, 212.05it/s]\n",
      "100%|██████████| 2/2 [00:00<00:00, 201.04it/s]\n"
     ]
    },
    {
     "name": "stdout",
     "output_type": "stream",
     "text": [
      "Segmentation Completed. \n",
      "total_meal: 20 TP:  3 FP:  4 FN:  1\n",
      "Segmentation Completed. \n"
     ]
    },
    {
     "name": "stderr",
     "output_type": "stream",
     "text": [
      "100%|██████████| 3/3 [00:00<00:00, 242.02it/s]\n"
     ]
    },
    {
     "name": "stdout",
     "output_type": "stream",
     "text": [
      "total_meal: 20 TP:  3 FP:  10 FN:  0\n",
      "  dataset    Ts   Te  TP  FN  FP  TPR  FP/TP\n",
      "0  tianyi  0.55  0.4  16   4  50  0.8  3.125\n",
      "Segmentation Completed. \n",
      "total_meal: 20 TP:  3 FP:  7 FN:  2\n"
     ]
    },
    {
     "name": "stderr",
     "output_type": "stream",
     "text": [
      "100%|██████████| 3/3 [00:00<00:00, 269.27it/s]\n",
      "100%|██████████| 3/3 [00:00<00:00, 347.54it/s]\n"
     ]
    },
    {
     "name": "stdout",
     "output_type": "stream",
     "text": [
      "Segmentation Completed. \n",
      "total_meal: 20 TP:  3 FP:  15 FN:  0\n",
      "Segmentation Completed. \n",
      "total_meal: 20 TP:  4 FP:  14 FN:  1\n"
     ]
    },
    {
     "name": "stderr",
     "output_type": "stream",
     "text": [
      "100%|██████████| 3/3 [00:00<00:00, 299.30it/s]\n",
      "100%|██████████| 2/2 [00:00<00:00, 291.18it/s]\n"
     ]
    },
    {
     "name": "stdout",
     "output_type": "stream",
     "text": [
      "Segmentation Completed. \n",
      "total_meal: 20 TP:  3 FP:  4 FN:  1\n",
      "Segmentation Completed. \n",
      "total_meal: 20 TP:  3 FP:  10 FN:  0\n",
      "  dataset    Ts    Te  TP  FN  FP  TPR  FP/TP\n",
      "0  tianyi  0.55  0.45  16   4  50  0.8  3.125\n"
     ]
    },
    {
     "name": "stderr",
     "output_type": "stream",
     "text": [
      "100%|██████████| 3/3 [00:00<00:00, 267.47it/s]\n",
      "100%|██████████| 3/3 [00:00<00:00, 282.08it/s]\n"
     ]
    },
    {
     "name": "stdout",
     "output_type": "stream",
     "text": [
      "Segmentation Completed. \n",
      "total_meal: 20 TP:  3 FP:  7 FN:  2\n",
      "Segmentation Completed. \n",
      "total_meal: 20 TP:  3 FP:  11 FN:  0\n"
     ]
    },
    {
     "name": "stderr",
     "output_type": "stream",
     "text": [
      "100%|██████████| 3/3 [00:00<00:00, 345.85it/s]\n",
      "100%|██████████| 3/3 [00:00<00:00, 298.27it/s]\n"
     ]
    },
    {
     "name": "stdout",
     "output_type": "stream",
     "text": [
      "Segmentation Completed. \n",
      "total_meal: 20 TP:  4 FP:  12 FN:  1\n",
      "Segmentation Completed. \n",
      "total_meal: 20 TP:  3 FP:  3 FN:  1\n"
     ]
    },
    {
     "name": "stderr",
     "output_type": "stream",
     "text": [
      "100%|██████████| 2/2 [00:00<00:00, 293.53it/s]\n",
      "100%|██████████| 3/3 [00:00<00:00, 264.42it/s]\n"
     ]
    },
    {
     "name": "stdout",
     "output_type": "stream",
     "text": [
      "Segmentation Completed. \n",
      "total_meal: 20 TP:  3 FP:  9 FN:  0\n",
      "  dataset   Ts   Te  TP  FN  FP  TPR  FP/TP\n",
      "0  tianyi  0.6  0.1  16   4  42  0.8  2.625\n",
      "Segmentation Completed. \n",
      "total_meal: 20 TP:  3 FP:  8 FN:  2\n"
     ]
    },
    {
     "name": "stderr",
     "output_type": "stream",
     "text": [
      "100%|██████████| 3/3 [00:00<00:00, 280.00it/s]\n",
      "100%|██████████| 3/3 [00:00<00:00, 345.46it/s]\n"
     ]
    },
    {
     "name": "stdout",
     "output_type": "stream",
     "text": [
      "Segmentation Completed. \n",
      "total_meal: 20 TP:  3 FP:  13 FN:  0\n",
      "Segmentation Completed. \n",
      "total_meal: 20 TP:  4 FP:  15 FN:  1\n"
     ]
    },
    {
     "name": "stderr",
     "output_type": "stream",
     "text": [
      "100%|██████████| 3/3 [00:00<00:00, 279.03it/s]\n",
      "100%|██████████| 2/2 [00:00<00:00, 268.85it/s]\n"
     ]
    },
    {
     "name": "stdout",
     "output_type": "stream",
     "text": [
      "Segmentation Completed. \n",
      "total_meal: 20 TP:  3 FP:  3 FN:  1\n",
      "Segmentation Completed. \n",
      "total_meal: 20 TP:  3 FP:  9 FN:  0\n",
      "  dataset   Ts    Te  TP  FN  FP  TPR  FP/TP\n",
      "0  tianyi  0.6  0.15  16   4  48  0.8    3.0\n"
     ]
    },
    {
     "name": "stderr",
     "output_type": "stream",
     "text": [
      "100%|██████████| 3/3 [00:00<00:00, 248.92it/s]\n",
      "100%|██████████| 3/3 [00:00<00:00, 262.18it/s]\n"
     ]
    },
    {
     "name": "stdout",
     "output_type": "stream",
     "text": [
      "Segmentation Completed. \n",
      "total_meal: 20 TP:  3 FP:  6 FN:  2\n",
      "Segmentation Completed. \n",
      "total_meal: 20 TP:  3 FP:  14 FN:  0\n"
     ]
    },
    {
     "name": "stderr",
     "output_type": "stream",
     "text": [
      "100%|██████████| 3/3 [00:00<00:00, 319.77it/s]\n",
      "100%|██████████| 3/3 [00:00<00:00, 251.07it/s]\n"
     ]
    },
    {
     "name": "stdout",
     "output_type": "stream",
     "text": [
      "Segmentation Completed. \n",
      "total_meal: 20 TP:  4 FP:  15 FN:  1\n",
      "Segmentation Completed. \n",
      "total_meal: 20 TP:  3 FP:  3 FN:  1\n"
     ]
    },
    {
     "name": "stderr",
     "output_type": "stream",
     "text": [
      "100%|██████████| 2/2 [00:00<00:00, 202.41it/s]\n"
     ]
    },
    {
     "name": "stdout",
     "output_type": "stream",
     "text": [
      "Segmentation Completed. \n",
      "total_meal: 20 TP:  3 FP:  9 FN:  0\n",
      "  dataset   Ts   Te  TP  FN  FP  TPR  FP/TP\n",
      "0  tianyi  0.6  0.2  16   4  47  0.8  2.938\n"
     ]
    },
    {
     "name": "stderr",
     "output_type": "stream",
     "text": [
      "100%|██████████| 3/3 [00:00<00:00, 242.31it/s]\n",
      "100%|██████████| 3/3 [00:00<00:00, 244.65it/s]\n"
     ]
    },
    {
     "name": "stdout",
     "output_type": "stream",
     "text": [
      "Segmentation Completed. \n",
      "total_meal: 20 TP:  3 FP:  6 FN:  2\n",
      "Segmentation Completed. \n",
      "total_meal: 20 TP:  3 FP:  14 FN:  0\n"
     ]
    },
    {
     "name": "stderr",
     "output_type": "stream",
     "text": [
      "100%|██████████| 3/3 [00:00<00:00, 325.19it/s]\n",
      "100%|██████████| 3/3 [00:00<00:00, 280.36it/s]\n"
     ]
    },
    {
     "name": "stdout",
     "output_type": "stream",
     "text": [
      "Segmentation Completed. \n",
      "total_meal: 20 TP:  4 FP:  15 FN:  1\n",
      "Segmentation Completed. \n",
      "total_meal: 20 TP:  3 FP:  3 FN:  1\n"
     ]
    },
    {
     "name": "stderr",
     "output_type": "stream",
     "text": [
      "100%|██████████| 2/2 [00:00<00:00, 250.91it/s]\n",
      "100%|██████████| 3/3 [00:00<00:00, 198.22it/s]\n"
     ]
    },
    {
     "name": "stdout",
     "output_type": "stream",
     "text": [
      "Segmentation Completed. \n",
      "total_meal: 20 TP:  3 FP:  9 FN:  0\n",
      "  dataset   Ts    Te  TP  FN  FP  TPR  FP/TP\n",
      "0  tianyi  0.6  0.25  16   4  47  0.8  2.938\n",
      "Segmentation Completed. \n"
     ]
    },
    {
     "name": "stderr",
     "output_type": "stream",
     "text": [
      "100%|██████████| 3/3 [00:00<00:00, 199.88it/s]"
     ]
    },
    {
     "name": "stdout",
     "output_type": "stream",
     "text": [
      "total_meal: 20 TP:  3 FP:  6 FN:  2\n",
      "Segmentation Completed. \n"
     ]
    },
    {
     "name": "stderr",
     "output_type": "stream",
     "text": [
      "\n",
      "100%|██████████| 3/3 [00:00<00:00, 325.90it/s]\n"
     ]
    },
    {
     "name": "stdout",
     "output_type": "stream",
     "text": [
      "total_meal: 20 TP:  3 FP:  14 FN:  0\n",
      "Segmentation Completed. \n",
      "total_meal: 20 TP:  4 FP:  15 FN:  1\n"
     ]
    },
    {
     "name": "stderr",
     "output_type": "stream",
     "text": [
      "100%|██████████| 3/3 [00:00<00:00, 262.04it/s]\n",
      "100%|██████████| 2/2 [00:00<00:00, 270.90it/s]\n"
     ]
    },
    {
     "name": "stdout",
     "output_type": "stream",
     "text": [
      "Segmentation Completed. \n",
      "total_meal: 20 TP:  3 FP:  3 FN:  1\n",
      "Segmentation Completed. \n",
      "total_meal: 20 TP:  3 FP:  9 FN:  0\n",
      "  dataset   Ts   Te  TP  FN  FP  TPR  FP/TP\n",
      "0  tianyi  0.6  0.3  16   4  47  0.8  2.938\n"
     ]
    },
    {
     "name": "stderr",
     "output_type": "stream",
     "text": [
      "100%|██████████| 3/3 [00:00<00:00, 266.78it/s]\n",
      "100%|██████████| 3/3 [00:00<00:00, 280.76it/s]\n"
     ]
    },
    {
     "name": "stdout",
     "output_type": "stream",
     "text": [
      "Segmentation Completed. \n",
      "total_meal: 20 TP:  3 FP:  6 FN:  2\n",
      "Segmentation Completed. \n",
      "total_meal: 20 TP:  3 FP:  14 FN:  0\n"
     ]
    },
    {
     "name": "stderr",
     "output_type": "stream",
     "text": [
      "100%|██████████| 3/3 [00:00<00:00, 352.09it/s]\n",
      "100%|██████████| 3/3 [00:00<00:00, 299.99it/s]\n"
     ]
    },
    {
     "name": "stdout",
     "output_type": "stream",
     "text": [
      "Segmentation Completed. \n",
      "total_meal: 20 TP:  4 FP:  15 FN:  1\n",
      "Segmentation Completed. \n",
      "total_meal: 20 TP:  3 FP:  3 FN:  1\n"
     ]
    },
    {
     "name": "stderr",
     "output_type": "stream",
     "text": [
      "100%|██████████| 2/2 [00:00<00:00, 293.76it/s]\n",
      "100%|██████████| 3/3 [00:00<00:00, 267.18it/s]\n"
     ]
    },
    {
     "name": "stdout",
     "output_type": "stream",
     "text": [
      "Segmentation Completed. \n",
      "total_meal: 20 TP:  3 FP:  9 FN:  0\n",
      "  dataset   Ts    Te  TP  FN  FP  TPR  FP/TP\n",
      "0  tianyi  0.6  0.35  16   4  47  0.8  2.938\n",
      "Segmentation Completed. \n",
      "total_meal: 20 TP:  3 FP:  6 FN:  2\n"
     ]
    },
    {
     "name": "stderr",
     "output_type": "stream",
     "text": [
      "100%|██████████| 3/3 [00:00<00:00, 282.17it/s]\n",
      "100%|██████████| 3/3 [00:00<00:00, 347.11it/s]\n"
     ]
    },
    {
     "name": "stdout",
     "output_type": "stream",
     "text": [
      "Segmentation Completed. \n",
      "total_meal: 20 TP:  3 FP:  12 FN:  0\n",
      "Segmentation Completed. \n",
      "total_meal: 20 TP:  4 FP:  15 FN:  1\n"
     ]
    },
    {
     "name": "stderr",
     "output_type": "stream",
     "text": [
      "100%|██████████| 3/3 [00:00<00:00, 300.41it/s]\n",
      "100%|██████████| 2/2 [00:00<00:00, 296.46it/s]\n"
     ]
    },
    {
     "name": "stdout",
     "output_type": "stream",
     "text": [
      "Segmentation Completed. \n",
      "total_meal: 20 TP:  3 FP:  3 FN:  1\n",
      "Segmentation Completed. \n",
      "total_meal: 20 TP:  3 FP:  9 FN:  0\n",
      "  dataset   Ts   Te  TP  FN  FP  TPR  FP/TP\n",
      "0  tianyi  0.6  0.4  16   4  45  0.8  2.812\n"
     ]
    },
    {
     "name": "stderr",
     "output_type": "stream",
     "text": [
      "100%|██████████| 3/3 [00:00<00:00, 266.49it/s]\n",
      "100%|██████████| 3/3 [00:00<00:00, 263.60it/s]\n"
     ]
    },
    {
     "name": "stdout",
     "output_type": "stream",
     "text": [
      "Segmentation Completed. \n",
      "total_meal: 20 TP:  3 FP:  6 FN:  2\n",
      "Segmentation Completed. \n",
      "total_meal: 20 TP:  3 FP:  12 FN:  0\n"
     ]
    },
    {
     "name": "stderr",
     "output_type": "stream",
     "text": [
      "100%|██████████| 3/3 [00:00<00:00, 324.56it/s]\n",
      "100%|██████████| 3/3 [00:00<00:00, 282.41it/s]\n"
     ]
    },
    {
     "name": "stdout",
     "output_type": "stream",
     "text": [
      "Segmentation Completed. \n",
      "total_meal: 20 TP:  4 FP:  15 FN:  1\n",
      "Segmentation Completed. \n",
      "total_meal: 20 TP:  3 FP:  2 FN:  1\n"
     ]
    },
    {
     "name": "stderr",
     "output_type": "stream",
     "text": [
      "100%|██████████| 2/2 [00:00<00:00, 280.86it/s]\n",
      "100%|██████████| 3/3 [00:00<00:00, 248.87it/s]\n"
     ]
    },
    {
     "name": "stdout",
     "output_type": "stream",
     "text": [
      "Segmentation Completed. \n",
      "total_meal: 20 TP:  3 FP:  9 FN:  0\n",
      "  dataset   Ts    Te  TP  FN  FP  TPR  FP/TP\n",
      "0  tianyi  0.6  0.45  16   4  44  0.8   2.75\n",
      "Segmentation Completed. \n",
      "total_meal: 20 TP:  3 FP:  6 FN:  2\n"
     ]
    },
    {
     "name": "stderr",
     "output_type": "stream",
     "text": [
      "100%|██████████| 3/3 [00:00<00:00, 261.26it/s]\n",
      "100%|██████████| 3/3 [00:00<00:00, 315.92it/s]\n"
     ]
    },
    {
     "name": "stdout",
     "output_type": "stream",
     "text": [
      "Segmentation Completed. \n",
      "total_meal: 20 TP:  3 FP:  11 FN:  0\n",
      "Segmentation Completed. \n",
      "total_meal: 20 TP:  4 FP:  13 FN:  1\n"
     ]
    },
    {
     "name": "stderr",
     "output_type": "stream",
     "text": [
      "100%|██████████| 3/3 [00:00<00:00, 285.04it/s]\n",
      "100%|██████████| 2/2 [00:00<00:00, 295.88it/s]\n"
     ]
    },
    {
     "name": "stdout",
     "output_type": "stream",
     "text": [
      "Segmentation Completed. \n",
      "total_meal: 20 TP:  3 FP:  3 FN:  1\n",
      "Segmentation Completed. \n",
      "total_meal: 20 TP:  3 FP:  8 FN:  0\n",
      "  dataset    Ts   Te  TP  FN  FP  TPR  FP/TP\n",
      "0  tianyi  0.65  0.1  16   4  41  0.8  2.562\n"
     ]
    },
    {
     "name": "stderr",
     "output_type": "stream",
     "text": [
      "100%|██████████| 3/3 [00:00<00:00, 267.94it/s]\n",
      "100%|██████████| 3/3 [00:00<00:00, 279.84it/s]\n"
     ]
    },
    {
     "name": "stdout",
     "output_type": "stream",
     "text": [
      "Segmentation Completed. \n",
      "total_meal: 20 TP:  3 FP:  7 FN:  2\n",
      "Segmentation Completed. \n",
      "total_meal: 20 TP:  3 FP:  14 FN:  0\n"
     ]
    },
    {
     "name": "stderr",
     "output_type": "stream",
     "text": [
      "100%|██████████| 3/3 [00:00<00:00, 351.83it/s]\n",
      "100%|██████████| 3/3 [00:00<00:00, 299.79it/s]\n"
     ]
    },
    {
     "name": "stdout",
     "output_type": "stream",
     "text": [
      "Segmentation Completed. \n",
      "total_meal: 20 TP:  4 FP:  16 FN:  1\n",
      "Segmentation Completed. \n",
      "total_meal: 20 TP:  3 FP:  3 FN:  1\n"
     ]
    },
    {
     "name": "stderr",
     "output_type": "stream",
     "text": [
      "100%|██████████| 2/2 [00:00<00:00, 292.49it/s]\n",
      "100%|██████████| 3/3 [00:00<00:00, 269.37it/s]\n"
     ]
    },
    {
     "name": "stdout",
     "output_type": "stream",
     "text": [
      "Segmentation Completed. \n",
      "total_meal: 20 TP:  3 FP:  8 FN:  0\n",
      "  dataset    Ts    Te  TP  FN  FP  TPR  FP/TP\n",
      "0  tianyi  0.65  0.15  16   4  48  0.8    3.0\n",
      "Segmentation Completed. \n",
      "total_meal: 20 TP:  3 FP:  6 FN:  2\n"
     ]
    },
    {
     "name": "stderr",
     "output_type": "stream",
     "text": [
      "100%|██████████| 3/3 [00:00<00:00, 282.17it/s]\n",
      "100%|██████████| 3/3 [00:00<00:00, 319.02it/s]\n"
     ]
    },
    {
     "name": "stdout",
     "output_type": "stream",
     "text": [
      "Segmentation Completed. \n",
      "total_meal: 20 TP:  3 FP:  14 FN:  0\n",
      "Segmentation Completed. \n",
      "total_meal: 20 TP:  4 FP:  16 FN:  1\n"
     ]
    },
    {
     "name": "stderr",
     "output_type": "stream",
     "text": [
      "100%|██████████| 3/3 [00:00<00:00, 276.59it/s]\n",
      "100%|██████████| 2/2 [00:00<00:00, 263.95it/s]\n"
     ]
    },
    {
     "name": "stdout",
     "output_type": "stream",
     "text": [
      "Segmentation Completed. \n",
      "total_meal: 20 TP:  3 FP:  3 FN:  1\n",
      "Segmentation Completed. \n",
      "total_meal: 20 TP:  3 FP:  8 FN:  0\n",
      "  dataset    Ts   Te  TP  FN  FP  TPR  FP/TP\n",
      "0  tianyi  0.65  0.2  16   4  47  0.8  2.938\n"
     ]
    },
    {
     "name": "stderr",
     "output_type": "stream",
     "text": [
      "100%|██████████| 3/3 [00:00<00:00, 194.98it/s]\n",
      "  0%|          | 0/3 [00:00<?, ?it/s]"
     ]
    },
    {
     "name": "stdout",
     "output_type": "stream",
     "text": [
      "Segmentation Completed. \n",
      "total_meal: 20 TP:  3 FP:  6 FN:  2\n"
     ]
    },
    {
     "name": "stderr",
     "output_type": "stream",
     "text": [
      "100%|██████████| 3/3 [00:00<00:00, 187.02it/s]\n",
      "100%|██████████| 3/3 [00:00<00:00, 266.92it/s]\n"
     ]
    },
    {
     "name": "stdout",
     "output_type": "stream",
     "text": [
      "Segmentation Completed. \n",
      "total_meal: 20 TP:  3 FP:  14 FN:  0\n",
      "Segmentation Completed. \n"
     ]
    },
    {
     "name": "stderr",
     "output_type": "stream",
     "text": [
      "100%|██████████| 3/3 [00:00<00:00, 254.82it/s]\n"
     ]
    },
    {
     "name": "stdout",
     "output_type": "stream",
     "text": [
      "total_meal: 20 TP:  4 FP:  16 FN:  1\n",
      "Segmentation Completed. \n",
      "total_meal: 20 TP:  3 FP:  3 FN:  1\n"
     ]
    },
    {
     "name": "stderr",
     "output_type": "stream",
     "text": [
      "100%|██████████| 2/2 [00:00<00:00, 270.14it/s]\n",
      "100%|██████████| 3/3 [00:00<00:00, 248.45it/s]\n"
     ]
    },
    {
     "name": "stdout",
     "output_type": "stream",
     "text": [
      "Segmentation Completed. \n",
      "total_meal: 20 TP:  3 FP:  8 FN:  0\n",
      "  dataset    Ts    Te  TP  FN  FP  TPR  FP/TP\n",
      "0  tianyi  0.65  0.25  16   4  47  0.8  2.938\n",
      "Segmentation Completed. \n"
     ]
    },
    {
     "name": "stderr",
     "output_type": "stream",
     "text": [
      "100%|██████████| 3/3 [00:00<00:00, 234.07it/s]\n"
     ]
    },
    {
     "name": "stdout",
     "output_type": "stream",
     "text": [
      "total_meal: 20 TP:  3 FP:  6 FN:  2\n",
      "Segmentation Completed. \n",
      "total_meal: 20 TP:  3 FP:  14 FN:  0\n"
     ]
    },
    {
     "name": "stderr",
     "output_type": "stream",
     "text": [
      "100%|██████████| 3/3 [00:00<00:00, 242.93it/s]\n",
      "  0%|          | 0/3 [00:00<?, ?it/s]"
     ]
    },
    {
     "name": "stdout",
     "output_type": "stream",
     "text": [
      "Segmentation Completed. \n",
      "total_meal: 20 TP:  4 FP:  15 FN:  1\n"
     ]
    },
    {
     "name": "stderr",
     "output_type": "stream",
     "text": [
      "100%|██████████| 3/3 [00:00<00:00, 216.03it/s]\n",
      "100%|██████████| 2/2 [00:00<00:00, 245.35it/s]\n"
     ]
    },
    {
     "name": "stdout",
     "output_type": "stream",
     "text": [
      "Segmentation Completed. \n",
      "total_meal: 20 TP:  3 FP:  3 FN:  1\n",
      "Segmentation Completed. \n"
     ]
    },
    {
     "name": "stderr",
     "output_type": "stream",
     "text": [
      "100%|██████████| 3/3 [00:00<00:00, 226.90it/s]\n"
     ]
    },
    {
     "name": "stdout",
     "output_type": "stream",
     "text": [
      "total_meal: 20 TP:  3 FP:  8 FN:  0\n",
      "  dataset    Ts   Te  TP  FN  FP  TPR  FP/TP\n",
      "0  tianyi  0.65  0.3  16   4  46  0.8  2.875\n",
      "Segmentation Completed. \n",
      "total_meal: 20 TP:  3 FP:  6 FN:  2\n"
     ]
    },
    {
     "name": "stderr",
     "output_type": "stream",
     "text": [
      "100%|██████████| 3/3 [00:00<00:00, 262.13it/s]\n",
      "100%|██████████| 3/3 [00:00<00:00, 316.06it/s]\n"
     ]
    },
    {
     "name": "stdout",
     "output_type": "stream",
     "text": [
      "Segmentation Completed. \n",
      "total_meal: 20 TP:  3 FP:  14 FN:  0\n",
      "Segmentation Completed. \n",
      "total_meal: 20 TP:  4 FP:  15 FN:  1\n"
     ]
    },
    {
     "name": "stderr",
     "output_type": "stream",
     "text": [
      "100%|██████████| 3/3 [00:00<00:00, 259.16it/s]\n",
      "100%|██████████| 2/2 [00:00<00:00, 252.10it/s]\n"
     ]
    },
    {
     "name": "stdout",
     "output_type": "stream",
     "text": [
      "Segmentation Completed. \n",
      "total_meal: 20 TP:  3 FP:  3 FN:  1\n",
      "Segmentation Completed. \n",
      "total_meal: 20 TP:  3 FP:  8 FN:  0\n",
      "  dataset    Ts    Te  TP  FN  FP  TPR  FP/TP\n",
      "0  tianyi  0.65  0.35  16   4  46  0.8  2.875\n"
     ]
    },
    {
     "name": "stderr",
     "output_type": "stream",
     "text": [
      "100%|██████████| 3/3 [00:00<00:00, 194.40it/s]\n",
      "100%|██████████| 3/3 [00:00<00:00, 206.53it/s]\n"
     ]
    },
    {
     "name": "stdout",
     "output_type": "stream",
     "text": [
      "Segmentation Completed. \n",
      "total_meal: 20 TP:  3 FP:  6 FN:  2\n",
      "Segmentation Completed. \n"
     ]
    },
    {
     "name": "stderr",
     "output_type": "stream",
     "text": [
      "100%|██████████| 3/3 [00:00<00:00, 306.39it/s]\n"
     ]
    },
    {
     "name": "stdout",
     "output_type": "stream",
     "text": [
      "total_meal: 20 TP:  3 FP:  13 FN:  0\n",
      "Segmentation Completed. \n",
      "total_meal: 20 TP:  4 FP:  15 FN:  1\n"
     ]
    },
    {
     "name": "stderr",
     "output_type": "stream",
     "text": [
      "100%|██████████| 3/3 [00:00<00:00, 271.32it/s]\n",
      "100%|██████████| 2/2 [00:00<00:00, 268.66it/s]\n"
     ]
    },
    {
     "name": "stdout",
     "output_type": "stream",
     "text": [
      "Segmentation Completed. \n",
      "total_meal: 20 TP:  3 FP:  3 FN:  1\n",
      "Segmentation Completed. \n",
      "total_meal: 20 TP:  3 FP:  8 FN:  0\n",
      "  dataset    Ts   Te  TP  FN  FP  TPR  FP/TP\n",
      "0  tianyi  0.65  0.4  16   4  45  0.8  2.812\n"
     ]
    },
    {
     "name": "stderr",
     "output_type": "stream",
     "text": [
      "100%|██████████| 3/3 [00:00<00:00, 245.93it/s]\n",
      "100%|██████████| 3/3 [00:00<00:00, 245.32it/s]\n"
     ]
    },
    {
     "name": "stdout",
     "output_type": "stream",
     "text": [
      "Segmentation Completed. \n",
      "total_meal: 20 TP:  3 FP:  6 FN:  2\n",
      "Segmentation Completed. \n"
     ]
    },
    {
     "name": "stderr",
     "output_type": "stream",
     "text": [
      "100%|██████████| 3/3 [00:00<00:00, 237.17it/s]"
     ]
    },
    {
     "name": "stdout",
     "output_type": "stream",
     "text": [
      "total_meal: 20 TP:  3 FP:  12 FN:  0\n",
      "Segmentation Completed. \n"
     ]
    },
    {
     "name": "stderr",
     "output_type": "stream",
     "text": [
      "\n",
      "100%|██████████| 3/3 [00:00<00:00, 203.53it/s]"
     ]
    },
    {
     "name": "stdout",
     "output_type": "stream",
     "text": [
      "total_meal: 20 TP:  4 FP:  16 FN:  1\n",
      "Segmentation Completed. \n",
      "total_meal: 20 TP:  3 FP:  2 FN:  1\n"
     ]
    },
    {
     "name": "stderr",
     "output_type": "stream",
     "text": [
      "\n",
      "100%|██████████| 2/2 [00:00<00:00, 220.74it/s]\n",
      "100%|██████████| 3/3 [00:00<00:00, 253.28it/s]\n"
     ]
    },
    {
     "name": "stdout",
     "output_type": "stream",
     "text": [
      "Segmentation Completed. \n",
      "total_meal: 20 TP:  3 FP:  8 FN:  0\n",
      "  dataset    Ts    Te  TP  FN  FP  TPR  FP/TP\n",
      "0  tianyi  0.65  0.45  16   4  44  0.8   2.75\n",
      "Segmentation Completed. \n"
     ]
    },
    {
     "name": "stderr",
     "output_type": "stream",
     "text": [
      "100%|██████████| 3/3 [00:00<00:00, 252.68it/s]\n"
     ]
    },
    {
     "name": "stdout",
     "output_type": "stream",
     "text": [
      "total_meal: 20 TP:  3 FP:  4 FN:  2\n",
      "Segmentation Completed. \n",
      "total_meal: 20 TP:  3 FP:  7 FN:  0\n"
     ]
    },
    {
     "name": "stderr",
     "output_type": "stream",
     "text": [
      "100%|██████████| 3/3 [00:00<00:00, 317.07it/s]\n",
      "100%|██████████| 3/3 [00:00<00:00, 275.41it/s]\n"
     ]
    },
    {
     "name": "stdout",
     "output_type": "stream",
     "text": [
      "Segmentation Completed. \n",
      "total_meal: 20 TP:  4 FP:  13 FN:  1\n",
      "Segmentation Completed. \n"
     ]
    },
    {
     "name": "stderr",
     "output_type": "stream",
     "text": [
      "100%|██████████| 2/2 [00:00<00:00, 286.98it/s]\n"
     ]
    },
    {
     "name": "stdout",
     "output_type": "stream",
     "text": [
      "total_meal: 20 TP:  2 FP:  3 FN:  2\n",
      "Segmentation Completed. \n",
      "total_meal: 20 TP:  3 FP:  7 FN:  0\n",
      "  dataset   Ts   Te  TP  FN  FP   TPR  FP/TP\n",
      "0  tianyi  0.7  0.1  15   5  34  0.75  2.267\n"
     ]
    },
    {
     "name": "stderr",
     "output_type": "stream",
     "text": [
      "100%|██████████| 3/3 [00:00<00:00, 266.22it/s]\n",
      "100%|██████████| 3/3 [00:00<00:00, 286.27it/s]\n"
     ]
    },
    {
     "name": "stdout",
     "output_type": "stream",
     "text": [
      "Segmentation Completed. \n",
      "total_meal: 20 TP:  3 FP:  4 FN:  2\n",
      "Segmentation Completed. \n",
      "total_meal: 20 TP:  3 FP:  9 FN:  0\n"
     ]
    },
    {
     "name": "stderr",
     "output_type": "stream",
     "text": [
      "100%|██████████| 3/3 [00:00<00:00, 352.64it/s]\n",
      "100%|██████████| 3/3 [00:00<00:00, 300.39it/s]\n"
     ]
    },
    {
     "name": "stdout",
     "output_type": "stream",
     "text": [
      "Segmentation Completed. \n",
      "total_meal: 20 TP:  4 FP:  16 FN:  1\n",
      "Segmentation Completed. \n",
      "total_meal: 20 TP:  2 FP:  3 FN:  2\n"
     ]
    },
    {
     "name": "stderr",
     "output_type": "stream",
     "text": [
      "100%|██████████| 2/2 [00:00<00:00, 300.04it/s]\n",
      "100%|██████████| 3/3 [00:00<00:00, 271.00it/s]\n"
     ]
    },
    {
     "name": "stdout",
     "output_type": "stream",
     "text": [
      "Segmentation Completed. \n",
      "total_meal: 20 TP:  3 FP:  7 FN:  0\n",
      "  dataset   Ts    Te  TP  FN  FP   TPR  FP/TP\n",
      "0  tianyi  0.7  0.15  15   5  39  0.75    2.6\n",
      "Segmentation Completed. \n",
      "total_meal: 20 TP:  3 FP:  4 FN:  2\n"
     ]
    },
    {
     "name": "stderr",
     "output_type": "stream",
     "text": [
      "100%|██████████| 3/3 [00:00<00:00, 285.69it/s]\n",
      "100%|██████████| 3/3 [00:00<00:00, 323.77it/s]\n"
     ]
    },
    {
     "name": "stdout",
     "output_type": "stream",
     "text": [
      "Segmentation Completed. \n",
      "total_meal: 20 TP:  3 FP:  9 FN:  0\n",
      "Segmentation Completed. \n",
      "total_meal: 20 TP:  4 FP:  16 FN:  1\n"
     ]
    },
    {
     "name": "stderr",
     "output_type": "stream",
     "text": [
      "100%|██████████| 3/3 [00:00<00:00, 301.37it/s]\n",
      "100%|██████████| 2/2 [00:00<00:00, 296.69it/s]\n"
     ]
    },
    {
     "name": "stdout",
     "output_type": "stream",
     "text": [
      "Segmentation Completed. \n",
      "total_meal: 20 TP:  2 FP:  3 FN:  2\n",
      "Segmentation Completed. \n",
      "total_meal: 20 TP:  3 FP:  7 FN:  0\n",
      "  dataset   Ts   Te  TP  FN  FP   TPR  FP/TP\n",
      "0  tianyi  0.7  0.2  15   5  39  0.75    2.6\n"
     ]
    },
    {
     "name": "stderr",
     "output_type": "stream",
     "text": [
      "100%|██████████| 3/3 [00:00<00:00, 267.24it/s]\n",
      "100%|██████████| 3/3 [00:00<00:00, 253.46it/s]\n"
     ]
    },
    {
     "name": "stdout",
     "output_type": "stream",
     "text": [
      "Segmentation Completed. \n",
      "total_meal: 20 TP:  3 FP:  4 FN:  2\n",
      "Segmentation Completed. \n",
      "total_meal: 20 TP:  3 FP:  9 FN:  0\n"
     ]
    },
    {
     "name": "stderr",
     "output_type": "stream",
     "text": [
      "100%|██████████| 3/3 [00:00<00:00, 241.82it/s]\n",
      "100%|██████████| 3/3 [00:00<00:00, 270.58it/s]\n"
     ]
    },
    {
     "name": "stdout",
     "output_type": "stream",
     "text": [
      "Segmentation Completed. \n",
      "total_meal: 20 TP:  4 FP:  16 FN:  1\n",
      "Segmentation Completed. \n"
     ]
    },
    {
     "name": "stderr",
     "output_type": "stream",
     "text": [
      "100%|██████████| 2/2 [00:00<00:00, 249.16it/s]\n"
     ]
    },
    {
     "name": "stdout",
     "output_type": "stream",
     "text": [
      "total_meal: 20 TP:  2 FP:  3 FN:  2\n",
      "Segmentation Completed. \n",
      "total_meal: 20 TP:  3 FP:  7 FN:  0\n",
      "  dataset   Ts    Te  TP  FN  FP   TPR  FP/TP\n",
      "0  tianyi  0.7  0.25  15   5  39  0.75    2.6\n"
     ]
    },
    {
     "name": "stderr",
     "output_type": "stream",
     "text": [
      "100%|██████████| 3/3 [00:00<00:00, 236.13it/s]\n",
      "100%|██████████| 3/3 [00:00<00:00, 253.50it/s]\n"
     ]
    },
    {
     "name": "stdout",
     "output_type": "stream",
     "text": [
      "Segmentation Completed. \n",
      "total_meal: 20 TP:  3 FP:  4 FN:  2\n",
      "Segmentation Completed. \n",
      "total_meal: 20 TP:  3 FP:  9 FN:  0\n"
     ]
    },
    {
     "name": "stderr",
     "output_type": "stream",
     "text": [
      "100%|██████████| 3/3 [00:00<00:00, 313.89it/s]\n",
      "100%|██████████| 3/3 [00:00<00:00, 257.72it/s]\n"
     ]
    },
    {
     "name": "stdout",
     "output_type": "stream",
     "text": [
      "Segmentation Completed. \n",
      "total_meal: 20 TP:  4 FP:  15 FN:  1\n",
      "Segmentation Completed. \n"
     ]
    },
    {
     "name": "stderr",
     "output_type": "stream",
     "text": [
      "100%|██████████| 2/2 [00:00<00:00, 206.12it/s]"
     ]
    },
    {
     "name": "stdout",
     "output_type": "stream",
     "text": [
      "total_meal: 20 TP:  2 FP:  3 FN:  2\n",
      "Segmentation Completed. \n"
     ]
    },
    {
     "name": "stderr",
     "output_type": "stream",
     "text": [
      "\n",
      "100%|██████████| 3/3 [00:00<00:00, 193.62it/s]"
     ]
    },
    {
     "name": "stdout",
     "output_type": "stream",
     "text": [
      "total_meal: 20 TP:  3 FP:  7 FN:  0\n",
      "  dataset   Ts   Te  TP  FN  FP   TPR  FP/TP\n",
      "0  tianyi  0.7  0.3  15   5  38  0.75  2.533\n",
      "Segmentation Completed. \n"
     ]
    },
    {
     "name": "stderr",
     "output_type": "stream",
     "text": [
      "\n",
      "100%|██████████| 3/3 [00:00<00:00, 257.57it/s]\n"
     ]
    },
    {
     "name": "stdout",
     "output_type": "stream",
     "text": [
      "total_meal: 20 TP:  3 FP:  4 FN:  2\n",
      "Segmentation Completed. \n",
      "total_meal: 20 TP:  3 FP:  9 FN:  0\n"
     ]
    },
    {
     "name": "stderr",
     "output_type": "stream",
     "text": [
      "100%|██████████| 3/3 [00:00<00:00, 320.89it/s]\n",
      "100%|██████████| 3/3 [00:00<00:00, 278.76it/s]\n"
     ]
    },
    {
     "name": "stdout",
     "output_type": "stream",
     "text": [
      "Segmentation Completed. \n",
      "total_meal: 20 TP:  4 FP:  15 FN:  1\n",
      "Segmentation Completed. \n",
      "total_meal: 20 TP:  2 FP:  3 FN:  2\n"
     ]
    },
    {
     "name": "stderr",
     "output_type": "stream",
     "text": [
      "100%|██████████| 2/2 [00:00<00:00, 267.37it/s]\n",
      "100%|██████████| 3/3 [00:00<00:00, 239.28it/s]\n"
     ]
    },
    {
     "name": "stdout",
     "output_type": "stream",
     "text": [
      "Segmentation Completed. \n",
      "total_meal: 20 TP:  3 FP:  7 FN:  0\n",
      "  dataset   Ts    Te  TP  FN  FP   TPR  FP/TP\n",
      "0  tianyi  0.7  0.35  15   5  38  0.75  2.533\n",
      "Segmentation Completed. \n"
     ]
    },
    {
     "name": "stderr",
     "output_type": "stream",
     "text": [
      "100%|██████████| 3/3 [00:00<00:00, 203.36it/s]"
     ]
    },
    {
     "name": "stdout",
     "output_type": "stream",
     "text": [
      "total_meal: 20 TP:  3 FP:  4 FN:  2\n",
      "Segmentation Completed. \n"
     ]
    },
    {
     "name": "stderr",
     "output_type": "stream",
     "text": [
      "\n",
      "100%|██████████| 3/3 [00:00<00:00, 256.58it/s]\n"
     ]
    },
    {
     "name": "stdout",
     "output_type": "stream",
     "text": [
      "total_meal: 20 TP:  3 FP:  9 FN:  0\n",
      "Segmentation Completed. \n",
      "total_meal: 20 TP:  4 FP:  15 FN:  1\n"
     ]
    },
    {
     "name": "stderr",
     "output_type": "stream",
     "text": [
      "100%|██████████| 3/3 [00:00<00:00, 268.48it/s]\n",
      "100%|██████████| 2/2 [00:00<00:00, 274.17it/s]\n"
     ]
    },
    {
     "name": "stdout",
     "output_type": "stream",
     "text": [
      "Segmentation Completed. \n",
      "total_meal: 20 TP:  2 FP:  2 FN:  2\n",
      "Segmentation Completed. \n",
      "total_meal: 20 TP:  3 FP:  7 FN:  0\n",
      "  dataset   Ts   Te  TP  FN  FP   TPR  FP/TP\n",
      "0  tianyi  0.7  0.4  15   5  37  0.75  2.467\n"
     ]
    },
    {
     "name": "stderr",
     "output_type": "stream",
     "text": [
      "100%|██████████| 3/3 [00:00<00:00, 245.30it/s]\n",
      "100%|██████████| 3/3 [00:00<00:00, 260.12it/s]\n"
     ]
    },
    {
     "name": "stdout",
     "output_type": "stream",
     "text": [
      "Segmentation Completed. \n",
      "total_meal: 20 TP:  3 FP:  4 FN:  2\n",
      "Segmentation Completed. \n",
      "total_meal: 20 TP:  3 FP:  9 FN:  0\n"
     ]
    },
    {
     "name": "stderr",
     "output_type": "stream",
     "text": [
      "100%|██████████| 3/3 [00:00<00:00, 312.95it/s]\n",
      "  0%|          | 0/3 [00:00<?, ?it/s]"
     ]
    },
    {
     "name": "stdout",
     "output_type": "stream",
     "text": [
      "Segmentation Completed. \n",
      "total_meal: 20 TP:  4 FP:  16 FN:  1\n"
     ]
    },
    {
     "name": "stderr",
     "output_type": "stream",
     "text": [
      "100%|██████████| 3/3 [00:00<00:00, 216.09it/s]\n",
      "100%|██████████| 2/2 [00:00<00:00, 246.83it/s]\n"
     ]
    },
    {
     "name": "stdout",
     "output_type": "stream",
     "text": [
      "Segmentation Completed. \n",
      "total_meal: 20 TP:  2 FP:  2 FN:  2\n",
      "Segmentation Completed. \n"
     ]
    },
    {
     "name": "stderr",
     "output_type": "stream",
     "text": [
      "100%|██████████| 3/3 [00:00<00:00, 243.87it/s]\n"
     ]
    },
    {
     "name": "stdout",
     "output_type": "stream",
     "text": [
      "total_meal: 20 TP:  3 FP:  7 FN:  0\n",
      "  dataset   Ts    Te  TP  FN  FP   TPR  FP/TP\n",
      "0  tianyi  0.7  0.45  15   5  38  0.75  2.533\n",
      "Segmentation Completed. \n",
      "total_meal: 20 TP:  3 FP:  4 FN:  2\n"
     ]
    },
    {
     "name": "stderr",
     "output_type": "stream",
     "text": [
      "100%|██████████| 3/3 [00:00<00:00, 266.89it/s]\n",
      "100%|██████████| 3/3 [00:00<00:00, 346.24it/s]\n"
     ]
    },
    {
     "name": "stdout",
     "output_type": "stream",
     "text": [
      "Segmentation Completed. \n",
      "total_meal: 20 TP:  3 FP:  5 FN:  0\n",
      "Segmentation Completed. \n",
      "total_meal: 20 TP:  3 FP:  10 FN:  2\n"
     ]
    },
    {
     "name": "stderr",
     "output_type": "stream",
     "text": [
      "100%|██████████| 3/3 [00:00<00:00, 301.13it/s]\n",
      "100%|██████████| 2/2 [00:00<00:00, 296.07it/s]\n"
     ]
    },
    {
     "name": "stdout",
     "output_type": "stream",
     "text": [
      "Segmentation Completed. \n",
      "total_meal: 20 TP:  1 FP:  2 FN:  3\n",
      "Segmentation Completed. \n",
      "total_meal: 20 TP:  3 FP:  5 FN:  0\n",
      "  dataset    Ts   Te  TP  FN  FP   TPR  FP/TP\n",
      "0  tianyi  0.75  0.1  13   7  26  0.65    2.0\n"
     ]
    },
    {
     "name": "stderr",
     "output_type": "stream",
     "text": [
      "100%|██████████| 3/3 [00:00<00:00, 267.89it/s]\n",
      "100%|██████████| 3/3 [00:00<00:00, 286.95it/s]\n"
     ]
    },
    {
     "name": "stdout",
     "output_type": "stream",
     "text": [
      "Segmentation Completed. \n",
      "total_meal: 20 TP:  3 FP:  4 FN:  2\n",
      "Segmentation Completed. \n",
      "total_meal: 20 TP:  3 FP:  6 FN:  0\n"
     ]
    },
    {
     "name": "stderr",
     "output_type": "stream",
     "text": [
      "100%|██████████| 3/3 [00:00<00:00, 355.41it/s]\n",
      "100%|██████████| 3/3 [00:00<00:00, 303.83it/s]\n"
     ]
    },
    {
     "name": "stdout",
     "output_type": "stream",
     "text": [
      "Segmentation Completed. \n",
      "total_meal: 20 TP:  3 FP:  13 FN:  2\n",
      "Segmentation Completed. \n",
      "total_meal: 20 TP:  1 FP:  2 FN:  3\n"
     ]
    },
    {
     "name": "stderr",
     "output_type": "stream",
     "text": [
      "100%|██████████| 2/2 [00:00<00:00, 300.26it/s]\n",
      "100%|██████████| 3/3 [00:00<00:00, 269.06it/s]\n"
     ]
    },
    {
     "name": "stdout",
     "output_type": "stream",
     "text": [
      "Segmentation Completed. \n",
      "total_meal: 20 TP:  3 FP:  5 FN:  0\n",
      "  dataset    Ts    Te  TP  FN  FP   TPR  FP/TP\n",
      "0  tianyi  0.75  0.15  13   7  30  0.65  2.308\n",
      "Segmentation Completed. \n",
      "total_meal: 20 TP:  3 FP:  4 FN:  2\n"
     ]
    },
    {
     "name": "stderr",
     "output_type": "stream",
     "text": [
      "100%|██████████| 3/3 [00:00<00:00, 261.30it/s]\n",
      "100%|██████████| 3/3 [00:00<00:00, 324.52it/s]\n"
     ]
    },
    {
     "name": "stdout",
     "output_type": "stream",
     "text": [
      "Segmentation Completed. \n",
      "total_meal: 20 TP:  3 FP:  6 FN:  0\n",
      "Segmentation Completed. \n",
      "total_meal: 20 TP:  3 FP:  13 FN:  2\n"
     ]
    },
    {
     "name": "stderr",
     "output_type": "stream",
     "text": [
      "100%|██████████| 3/3 [00:00<00:00, 281.97it/s]\n",
      "100%|██████████| 2/2 [00:00<00:00, 284.18it/s]\n"
     ]
    },
    {
     "name": "stdout",
     "output_type": "stream",
     "text": [
      "Segmentation Completed. \n",
      "total_meal: 20 TP:  1 FP:  2 FN:  3\n",
      "Segmentation Completed. \n",
      "total_meal: 20 TP:  3 FP:  5 FN:  0\n",
      "  dataset    Ts   Te  TP  FN  FP   TPR  FP/TP\n",
      "0  tianyi  0.75  0.2  13   7  30  0.65  2.308\n"
     ]
    },
    {
     "name": "stderr",
     "output_type": "stream",
     "text": [
      "100%|██████████| 3/3 [00:00<00:00, 249.05it/s]\n",
      "100%|██████████| 3/3 [00:00<00:00, 262.20it/s]\n"
     ]
    },
    {
     "name": "stdout",
     "output_type": "stream",
     "text": [
      "Segmentation Completed. \n",
      "total_meal: 20 TP:  3 FP:  4 FN:  2\n",
      "Segmentation Completed. \n",
      "total_meal: 20 TP:  3 FP:  6 FN:  0\n"
     ]
    },
    {
     "name": "stderr",
     "output_type": "stream",
     "text": [
      "100%|██████████| 3/3 [00:00<00:00, 318.55it/s]\n",
      "100%|██████████| 3/3 [00:00<00:00, 273.59it/s]\n"
     ]
    },
    {
     "name": "stdout",
     "output_type": "stream",
     "text": [
      "Segmentation Completed. \n",
      "total_meal: 20 TP:  3 FP:  13 FN:  2\n",
      "Segmentation Completed. \n",
      "total_meal: 20 TP:  1 FP:  2 FN:  3\n"
     ]
    },
    {
     "name": "stderr",
     "output_type": "stream",
     "text": [
      "100%|██████████| 2/2 [00:00<00:00, 248.89it/s]\n"
     ]
    },
    {
     "name": "stdout",
     "output_type": "stream",
     "text": [
      "Segmentation Completed. \n",
      "total_meal: 20 TP:  3 FP:  5 FN:  0\n",
      "  dataset    Ts    Te  TP  FN  FP   TPR  FP/TP\n",
      "0  tianyi  0.75  0.25  13   7  30  0.65  2.308\n"
     ]
    },
    {
     "name": "stderr",
     "output_type": "stream",
     "text": [
      "100%|██████████| 3/3 [00:00<00:00, 191.21it/s]\n",
      "  0%|          | 0/3 [00:00<?, ?it/s]"
     ]
    },
    {
     "name": "stdout",
     "output_type": "stream",
     "text": [
      "Segmentation Completed. \n",
      "total_meal: 20 TP:  3 FP:  4 FN:  2\n"
     ]
    },
    {
     "name": "stderr",
     "output_type": "stream",
     "text": [
      "100%|██████████| 3/3 [00:00<00:00, 203.29it/s]\n",
      "100%|██████████| 3/3 [00:00<00:00, 308.72it/s]\n"
     ]
    },
    {
     "name": "stdout",
     "output_type": "stream",
     "text": [
      "Segmentation Completed. \n",
      "total_meal: 20 TP:  3 FP:  6 FN:  0\n",
      "Segmentation Completed. \n",
      "total_meal: 20 TP:  3 FP:  13 FN:  2\n"
     ]
    },
    {
     "name": "stderr",
     "output_type": "stream",
     "text": [
      "100%|██████████| 3/3 [00:00<00:00, 275.38it/s]\n",
      "100%|██████████| 2/2 [00:00<00:00, 264.12it/s]\n"
     ]
    },
    {
     "name": "stdout",
     "output_type": "stream",
     "text": [
      "Segmentation Completed. \n",
      "total_meal: 20 TP:  1 FP:  2 FN:  3\n",
      "Segmentation Completed. \n",
      "total_meal: 20 TP:  3 FP:  5 FN:  0\n",
      "  dataset    Ts   Te  TP  FN  FP   TPR  FP/TP\n",
      "0  tianyi  0.75  0.3  13   7  30  0.65  2.308\n"
     ]
    },
    {
     "name": "stderr",
     "output_type": "stream",
     "text": [
      "100%|██████████| 3/3 [00:00<00:00, 242.77it/s]\n",
      "100%|██████████| 3/3 [00:00<00:00, 255.56it/s]\n"
     ]
    },
    {
     "name": "stdout",
     "output_type": "stream",
     "text": [
      "Segmentation Completed. \n",
      "total_meal: 20 TP:  3 FP:  4 FN:  2\n",
      "Segmentation Completed. \n"
     ]
    },
    {
     "name": "stderr",
     "output_type": "stream",
     "text": [
      "100%|██████████| 3/3 [00:00<00:00, 238.30it/s]\n"
     ]
    },
    {
     "name": "stdout",
     "output_type": "stream",
     "text": [
      "total_meal: 20 TP:  3 FP:  6 FN:  0\n",
      "Segmentation Completed. \n"
     ]
    },
    {
     "name": "stderr",
     "output_type": "stream",
     "text": [
      "100%|██████████| 3/3 [00:00<00:00, 230.09it/s]"
     ]
    },
    {
     "name": "stdout",
     "output_type": "stream",
     "text": [
      "total_meal: 20 TP:  3 FP:  13 FN:  2\n",
      "Segmentation Completed. \n"
     ]
    },
    {
     "name": "stderr",
     "output_type": "stream",
     "text": [
      "\n",
      "100%|██████████| 2/2 [00:00<00:00, 264.24it/s]\n",
      "100%|██████████| 3/3 [00:00<00:00, 250.85it/s]\n"
     ]
    },
    {
     "name": "stdout",
     "output_type": "stream",
     "text": [
      "total_meal: 20 TP:  1 FP:  2 FN:  3\n",
      "Segmentation Completed. \n",
      "total_meal: 20 TP:  3 FP:  5 FN:  0\n",
      "  dataset    Ts    Te  TP  FN  FP   TPR  FP/TP\n",
      "0  tianyi  0.75  0.35  13   7  30  0.65  2.308\n",
      "Segmentation Completed. \n",
      "total_meal: 20 TP:  3 FP:  4 FN:  2\n"
     ]
    },
    {
     "name": "stderr",
     "output_type": "stream",
     "text": [
      "100%|██████████| 3/3 [00:00<00:00, 257.09it/s]\n",
      "100%|██████████| 3/3 [00:00<00:00, 314.56it/s]\n"
     ]
    },
    {
     "name": "stdout",
     "output_type": "stream",
     "text": [
      "Segmentation Completed. \n",
      "total_meal: 20 TP:  3 FP:  6 FN:  0\n",
      "Segmentation Completed. \n",
      "total_meal: 20 TP:  3 FP:  13 FN:  2\n"
     ]
    },
    {
     "name": "stderr",
     "output_type": "stream",
     "text": [
      "100%|██████████| 3/3 [00:00<00:00, 282.08it/s]\n",
      "100%|██████████| 2/2 [00:00<00:00, 293.76it/s]\n"
     ]
    },
    {
     "name": "stdout",
     "output_type": "stream",
     "text": [
      "Segmentation Completed. \n",
      "total_meal: 20 TP:  1 FP:  2 FN:  3\n",
      "Segmentation Completed. \n",
      "total_meal: 20 TP:  3 FP:  5 FN:  0\n",
      "  dataset    Ts   Te  TP  FN  FP   TPR  FP/TP\n",
      "0  tianyi  0.75  0.4  13   7  30  0.65  2.308\n"
     ]
    },
    {
     "name": "stderr",
     "output_type": "stream",
     "text": [
      "100%|██████████| 3/3 [00:00<00:00, 264.05it/s]\n",
      "100%|██████████| 3/3 [00:00<00:00, 285.81it/s]\n"
     ]
    },
    {
     "name": "stdout",
     "output_type": "stream",
     "text": [
      "Segmentation Completed. \n",
      "total_meal: 20 TP:  3 FP:  4 FN:  2\n",
      "Segmentation Completed. \n",
      "total_meal: 20 TP:  3 FP:  5 FN:  0\n"
     ]
    },
    {
     "name": "stderr",
     "output_type": "stream",
     "text": [
      "100%|██████████| 3/3 [00:00<00:00, 354.04it/s]\n",
      "100%|██████████| 3/3 [00:00<00:00, 303.52it/s]\n"
     ]
    },
    {
     "name": "stdout",
     "output_type": "stream",
     "text": [
      "Segmentation Completed. \n",
      "total_meal: 20 TP:  3 FP:  14 FN:  2\n",
      "Segmentation Completed. \n",
      "total_meal: 20 TP:  1 FP:  2 FN:  3\n"
     ]
    },
    {
     "name": "stderr",
     "output_type": "stream",
     "text": [
      "100%|██████████| 2/2 [00:00<00:00, 299.04it/s]\n",
      "100%|██████████| 3/3 [00:00<00:00, 267.18it/s]\n"
     ]
    },
    {
     "name": "stdout",
     "output_type": "stream",
     "text": [
      "Segmentation Completed. \n",
      "total_meal: 20 TP:  3 FP:  5 FN:  0\n",
      "  dataset    Ts    Te  TP  FN  FP   TPR  FP/TP\n",
      "0  tianyi  0.75  0.45  13   7  30  0.65  2.308\n",
      "Segmentation Completed. \n",
      "total_meal: 20 TP:  3 FP:  4 FN:  2\n"
     ]
    },
    {
     "name": "stderr",
     "output_type": "stream",
     "text": [
      "100%|██████████| 3/3 [00:00<00:00, 282.00it/s]\n",
      "100%|██████████| 3/3 [00:00<00:00, 317.21it/s]\n"
     ]
    },
    {
     "name": "stdout",
     "output_type": "stream",
     "text": [
      "Segmentation Completed. \n",
      "total_meal: 20 TP:  3 FP:  4 FN:  0\n",
      "Segmentation Completed. \n",
      "total_meal: 20 TP:  3 FP:  9 FN:  2\n"
     ]
    },
    {
     "name": "stderr",
     "output_type": "stream",
     "text": [
      "100%|██████████| 3/3 [00:00<00:00, 283.86it/s]\n",
      "100%|██████████| 2/2 [00:00<00:00, 288.16it/s]\n"
     ]
    },
    {
     "name": "stdout",
     "output_type": "stream",
     "text": [
      "Segmentation Completed. \n",
      "total_meal: 20 TP:  0 FP:  2 FN:  4\n",
      "Segmentation Completed. \n",
      "total_meal: 20 TP:  3 FP:  4 FN:  0\n",
      "  dataset   Ts   Te  TP  FN  FP  TPR  FP/TP\n",
      "0  tianyi  0.8  0.1  12   8  23  0.6  1.917\n"
     ]
    },
    {
     "name": "stderr",
     "output_type": "stream",
     "text": [
      "100%|██████████| 3/3 [00:00<00:00, 271.10it/s]\n",
      "100%|██████████| 3/3 [00:00<00:00, 268.66it/s]\n"
     ]
    },
    {
     "name": "stdout",
     "output_type": "stream",
     "text": [
      "Segmentation Completed. \n",
      "total_meal: 20 TP:  3 FP:  4 FN:  2\n",
      "Segmentation Completed. \n",
      "total_meal: 20 TP:  3 FP:  4 FN:  0\n"
     ]
    },
    {
     "name": "stderr",
     "output_type": "stream",
     "text": [
      "100%|██████████| 3/3 [00:00<00:00, 235.60it/s]\n",
      "  0%|          | 0/3 [00:00<?, ?it/s]"
     ]
    },
    {
     "name": "stdout",
     "output_type": "stream",
     "text": [
      "Segmentation Completed. \n",
      "total_meal: 20 TP:  3 FP:  12 FN:  2\n"
     ]
    },
    {
     "name": "stderr",
     "output_type": "stream",
     "text": [
      "100%|██████████| 3/3 [00:00<00:00, 234.11it/s]\n",
      "100%|██████████| 2/2 [00:00<00:00, 275.16it/s]\n"
     ]
    },
    {
     "name": "stdout",
     "output_type": "stream",
     "text": [
      "Segmentation Completed. \n",
      "total_meal: 20 TP:  0 FP:  2 FN:  4\n",
      "Segmentation Completed. \n",
      "total_meal: 20 TP:  3 FP:  4 FN:  0\n",
      "  dataset   Ts    Te  TP  FN  FP  TPR  FP/TP\n",
      "0  tianyi  0.8  0.15  12   8  26  0.6  2.167\n"
     ]
    },
    {
     "name": "stderr",
     "output_type": "stream",
     "text": [
      "100%|██████████| 3/3 [00:00<00:00, 229.80it/s]\n",
      "100%|██████████| 3/3 [00:00<00:00, 257.13it/s]\n"
     ]
    },
    {
     "name": "stdout",
     "output_type": "stream",
     "text": [
      "Segmentation Completed. \n",
      "total_meal: 20 TP:  3 FP:  4 FN:  2\n",
      "Segmentation Completed. \n",
      "total_meal: 20 TP:  3 FP:  4 FN:  0\n"
     ]
    },
    {
     "name": "stderr",
     "output_type": "stream",
     "text": [
      "100%|██████████| 3/3 [00:00<00:00, 318.43it/s]\n",
      "100%|██████████| 3/3 [00:00<00:00, 268.41it/s]\n"
     ]
    },
    {
     "name": "stdout",
     "output_type": "stream",
     "text": [
      "Segmentation Completed. \n",
      "total_meal: 20 TP:  3 FP:  12 FN:  2\n",
      "Segmentation Completed. \n",
      "total_meal: 20 TP:  0 FP:  2 FN:  4\n"
     ]
    },
    {
     "name": "stderr",
     "output_type": "stream",
     "text": [
      "100%|██████████| 2/2 [00:00<00:00, 234.91it/s]\n",
      "  0%|          | 0/3 [00:00<?, ?it/s]"
     ]
    },
    {
     "name": "stdout",
     "output_type": "stream",
     "text": [
      "Segmentation Completed. \n",
      "total_meal: 20 TP:  3 FP:  4 FN:  0\n",
      "  dataset   Ts   Te  TP  FN  FP  TPR  FP/TP\n",
      "0  tianyi  0.8  0.2  12   8  26  0.6  2.167\n"
     ]
    },
    {
     "name": "stderr",
     "output_type": "stream",
     "text": [
      "100%|██████████| 3/3 [00:00<00:00, 192.40it/s]\n",
      "100%|██████████| 3/3 [00:00<00:00, 271.20it/s]\n"
     ]
    },
    {
     "name": "stdout",
     "output_type": "stream",
     "text": [
      "Segmentation Completed. \n",
      "total_meal: 20 TP:  3 FP:  4 FN:  2\n",
      "Segmentation Completed. \n"
     ]
    },
    {
     "name": "stderr",
     "output_type": "stream",
     "text": [
      "100%|██████████| 3/3 [00:00<00:00, 297.51it/s]\n"
     ]
    },
    {
     "name": "stdout",
     "output_type": "stream",
     "text": [
      "total_meal: 20 TP:  3 FP:  4 FN:  0\n",
      "Segmentation Completed. \n",
      "total_meal: 20 TP:  3 FP:  12 FN:  2\n"
     ]
    },
    {
     "name": "stderr",
     "output_type": "stream",
     "text": [
      "100%|██████████| 3/3 [00:00<00:00, 284.13it/s]\n",
      "100%|██████████| 2/2 [00:00<00:00, 261.58it/s]\n"
     ]
    },
    {
     "name": "stdout",
     "output_type": "stream",
     "text": [
      "Segmentation Completed. \n",
      "total_meal: 20 TP:  0 FP:  2 FN:  4\n",
      "Segmentation Completed. \n",
      "total_meal: 20 TP:  3 FP:  4 FN:  0\n",
      "  dataset   Ts    Te  TP  FN  FP  TPR  FP/TP\n",
      "0  tianyi  0.8  0.25  12   8  26  0.6  2.167\n"
     ]
    },
    {
     "name": "stderr",
     "output_type": "stream",
     "text": [
      "100%|██████████| 3/3 [00:00<00:00, 241.35it/s]\n",
      "100%|██████████| 3/3 [00:00<00:00, 230.30it/s]\n"
     ]
    },
    {
     "name": "stdout",
     "output_type": "stream",
     "text": [
      "Segmentation Completed. \n",
      "total_meal: 20 TP:  3 FP:  4 FN:  2\n",
      "Segmentation Completed. \n"
     ]
    },
    {
     "name": "stderr",
     "output_type": "stream",
     "text": [
      "100%|██████████| 3/3 [00:00<00:00, 243.33it/s]"
     ]
    },
    {
     "name": "stdout",
     "output_type": "stream",
     "text": [
      "total_meal: 20 TP:  3 FP:  4 FN:  0\n",
      "Segmentation Completed. \n"
     ]
    },
    {
     "name": "stderr",
     "output_type": "stream",
     "text": [
      "\n",
      "100%|██████████| 3/3 [00:00<00:00, 256.83it/s]\n"
     ]
    },
    {
     "name": "stdout",
     "output_type": "stream",
     "text": [
      "total_meal: 20 TP:  3 FP:  12 FN:  2\n",
      "Segmentation Completed. \n",
      "total_meal: 20 TP:  0 FP:  2 FN:  4\n"
     ]
    },
    {
     "name": "stderr",
     "output_type": "stream",
     "text": [
      "100%|██████████| 2/2 [00:00<00:00, 261.05it/s]\n",
      "100%|██████████| 3/3 [00:00<00:00, 249.59it/s]\n"
     ]
    },
    {
     "name": "stdout",
     "output_type": "stream",
     "text": [
      "Segmentation Completed. \n",
      "total_meal: 20 TP:  3 FP:  4 FN:  0\n",
      "  dataset   Ts   Te  TP  FN  FP  TPR  FP/TP\n",
      "0  tianyi  0.8  0.3  12   8  26  0.6  2.167\n",
      "Segmentation Completed. \n",
      "total_meal: 20 TP:  3 FP:  4 FN:  2\n"
     ]
    },
    {
     "name": "stderr",
     "output_type": "stream",
     "text": [
      "100%|██████████| 3/3 [00:00<00:00, 261.27it/s]\n",
      "100%|██████████| 3/3 [00:00<00:00, 316.23it/s]\n"
     ]
    },
    {
     "name": "stdout",
     "output_type": "stream",
     "text": [
      "Segmentation Completed. \n",
      "total_meal: 20 TP:  3 FP:  4 FN:  0\n",
      "Segmentation Completed. \n",
      "total_meal: 20 TP:  3 FP:  12 FN:  2\n"
     ]
    },
    {
     "name": "stderr",
     "output_type": "stream",
     "text": [
      "100%|██████████| 3/3 [00:00<00:00, 276.67it/s]\n",
      "100%|██████████| 2/2 [00:00<00:00, 293.38it/s]\n"
     ]
    },
    {
     "name": "stdout",
     "output_type": "stream",
     "text": [
      "Segmentation Completed. \n",
      "total_meal: 20 TP:  0 FP:  2 FN:  4\n",
      "Segmentation Completed. \n",
      "total_meal: 20 TP:  3 FP:  4 FN:  0\n",
      "  dataset   Ts    Te  TP  FN  FP  TPR  FP/TP\n",
      "0  tianyi  0.8  0.35  12   8  26  0.6  2.167\n"
     ]
    },
    {
     "name": "stderr",
     "output_type": "stream",
     "text": [
      "100%|██████████| 3/3 [00:00<00:00, 231.07it/s]\n",
      "100%|██████████| 3/3 [00:00<00:00, 284.18it/s]\n"
     ]
    },
    {
     "name": "stdout",
     "output_type": "stream",
     "text": [
      "Segmentation Completed. \n",
      "total_meal: 20 TP:  3 FP:  4 FN:  2\n",
      "Segmentation Completed. \n",
      "total_meal: 20 TP:  3 FP:  5 FN:  0\n"
     ]
    },
    {
     "name": "stderr",
     "output_type": "stream",
     "text": [
      "100%|██████████| 3/3 [00:00<00:00, 354.86it/s]\n",
      "100%|██████████| 3/3 [00:00<00:00, 301.59it/s]\n"
     ]
    },
    {
     "name": "stdout",
     "output_type": "stream",
     "text": [
      "Segmentation Completed. \n",
      "total_meal: 20 TP:  3 FP:  12 FN:  2\n",
      "Segmentation Completed. \n",
      "total_meal: 20 TP:  0 FP:  2 FN:  4\n"
     ]
    },
    {
     "name": "stderr",
     "output_type": "stream",
     "text": [
      "100%|██████████| 2/2 [00:00<00:00, 295.84it/s]\n",
      "100%|██████████| 3/3 [00:00<00:00, 268.25it/s]\n"
     ]
    },
    {
     "name": "stdout",
     "output_type": "stream",
     "text": [
      "Segmentation Completed. \n",
      "total_meal: 20 TP:  3 FP:  4 FN:  0\n",
      "  dataset   Ts   Te  TP  FN  FP  TPR  FP/TP\n",
      "0  tianyi  0.8  0.4  12   8  27  0.6   2.25\n",
      "Segmentation Completed. \n",
      "total_meal: 20 TP:  3 FP:  4 FN:  2\n"
     ]
    },
    {
     "name": "stderr",
     "output_type": "stream",
     "text": [
      "100%|██████████| 3/3 [00:00<00:00, 285.73it/s]\n",
      "100%|██████████| 3/3 [00:00<00:00, 344.91it/s]\n"
     ]
    },
    {
     "name": "stdout",
     "output_type": "stream",
     "text": [
      "Segmentation Completed. \n",
      "total_meal: 20 TP:  3 FP:  5 FN:  0\n",
      "Segmentation Completed. \n",
      "total_meal: 20 TP:  3 FP:  13 FN:  2\n"
     ]
    },
    {
     "name": "stderr",
     "output_type": "stream",
     "text": [
      "100%|██████████| 3/3 [00:00<00:00, 216.85it/s]\n",
      "100%|██████████| 2/2 [00:00<00:00, 224.25it/s]\n"
     ]
    },
    {
     "name": "stdout",
     "output_type": "stream",
     "text": [
      "Segmentation Completed. \n",
      "total_meal: 20 TP:  0 FP:  2 FN:  4\n",
      "Segmentation Completed. \n"
     ]
    },
    {
     "name": "stderr",
     "output_type": "stream",
     "text": [
      "100%|██████████| 3/3 [00:00<00:00, 256.10it/s]\n"
     ]
    },
    {
     "name": "stdout",
     "output_type": "stream",
     "text": [
      "total_meal: 20 TP:  3 FP:  4 FN:  0\n",
      "  dataset   Ts    Te  TP  FN  FP  TPR  FP/TP\n",
      "0  tianyi  0.8  0.45  12   8  28  0.6  2.333\n",
      "Segmentation Completed. \n",
      "total_meal: 20 TP:  3 FP:  2 FN:  2\n"
     ]
    },
    {
     "name": "stderr",
     "output_type": "stream",
     "text": [
      "100%|██████████| 3/3 [00:00<00:00, 240.44it/s]\n",
      "100%|██████████| 3/3 [00:00<00:00, 312.80it/s]\n"
     ]
    },
    {
     "name": "stdout",
     "output_type": "stream",
     "text": [
      "Segmentation Completed. \n",
      "total_meal: 20 TP:  3 FP:  4 FN:  0\n",
      "Segmentation Completed. \n",
      "total_meal: 20 TP:  3 FP:  8 FN:  2\n"
     ]
    },
    {
     "name": "stderr",
     "output_type": "stream",
     "text": [
      "100%|██████████| 3/3 [00:00<00:00, 276.81it/s]\n",
      "100%|██████████| 2/2 [00:00<00:00, 261.93it/s]\n"
     ]
    },
    {
     "name": "stdout",
     "output_type": "stream",
     "text": [
      "Segmentation Completed. \n",
      "total_meal: 20 TP:  0 FP:  1 FN:  4\n",
      "Segmentation Completed. \n",
      "total_meal: 20 TP:  3 FP:  2 FN:  0\n",
      "  dataset    Ts   Te  TP  FN  FP  TPR  FP/TP\n",
      "0  tianyi  0.85  0.1  12   8  17  0.6  1.417\n"
     ]
    },
    {
     "name": "stderr",
     "output_type": "stream",
     "text": [
      "100%|██████████| 3/3 [00:00<00:00, 200.84it/s]\n",
      "  0%|          | 0/3 [00:00<?, ?it/s]"
     ]
    },
    {
     "name": "stdout",
     "output_type": "stream",
     "text": [
      "Segmentation Completed. \n",
      "total_meal: 20 TP:  3 FP:  2 FN:  2\n"
     ]
    },
    {
     "name": "stderr",
     "output_type": "stream",
     "text": [
      "100%|██████████| 3/3 [00:00<00:00, 202.10it/s]\n",
      "100%|██████████| 3/3 [00:00<00:00, 297.47it/s]\n"
     ]
    },
    {
     "name": "stdout",
     "output_type": "stream",
     "text": [
      "Segmentation Completed. \n",
      "total_meal: 20 TP:  3 FP:  4 FN:  0\n",
      "Segmentation Completed. \n"
     ]
    },
    {
     "name": "stderr",
     "output_type": "stream",
     "text": [
      "100%|██████████| 3/3 [00:00<00:00, 254.79it/s]\n"
     ]
    },
    {
     "name": "stdout",
     "output_type": "stream",
     "text": [
      "total_meal: 20 TP:  3 FP:  10 FN:  2\n",
      "Segmentation Completed. \n",
      "total_meal: 20 TP:  0 FP:  1 FN:  4\n"
     ]
    },
    {
     "name": "stderr",
     "output_type": "stream",
     "text": [
      "100%|██████████| 2/2 [00:00<00:00, 271.33it/s]\n",
      "100%|██████████| 3/3 [00:00<00:00, 246.83it/s]\n"
     ]
    },
    {
     "name": "stdout",
     "output_type": "stream",
     "text": [
      "Segmentation Completed. \n",
      "total_meal: 20 TP:  3 FP:  2 FN:  0\n",
      "  dataset    Ts    Te  TP  FN  FP  TPR  FP/TP\n",
      "0  tianyi  0.85  0.15  12   8  19  0.6  1.583\n",
      "Segmentation Completed. \n",
      "total_meal: 20 TP:  3 FP:  2 FN:  2\n"
     ]
    },
    {
     "name": "stderr",
     "output_type": "stream",
     "text": [
      "100%|██████████| 3/3 [00:00<00:00, 258.03it/s]\n",
      "100%|██████████| 3/3 [00:00<00:00, 303.27it/s]\n"
     ]
    },
    {
     "name": "stdout",
     "output_type": "stream",
     "text": [
      "Segmentation Completed. \n",
      "total_meal: 20 TP:  3 FP:  4 FN:  0\n",
      "Segmentation Completed. \n"
     ]
    },
    {
     "name": "stderr",
     "output_type": "stream",
     "text": [
      "100%|██████████| 3/3 [00:00<00:00, 216.08it/s]"
     ]
    },
    {
     "name": "stdout",
     "output_type": "stream",
     "text": [
      "total_meal: 20 TP:  3 FP:  10 FN:  2\n",
      "Segmentation Completed. \n"
     ]
    },
    {
     "name": "stderr",
     "output_type": "stream",
     "text": [
      "\n",
      "100%|██████████| 2/2 [00:00<00:00, 195.73it/s]\n"
     ]
    },
    {
     "name": "stdout",
     "output_type": "stream",
     "text": [
      "total_meal: 20 TP:  0 FP:  1 FN:  4\n",
      "Segmentation Completed. \n",
      "total_meal: 20 TP:  3 FP:  2 FN:  0\n",
      "  dataset    Ts   Te  TP  FN  FP  TPR  FP/TP\n",
      "0  tianyi  0.85  0.2  12   8  19  0.6  1.583\n"
     ]
    },
    {
     "name": "stderr",
     "output_type": "stream",
     "text": [
      "100%|██████████| 3/3 [00:00<00:00, 238.73it/s]\n",
      "100%|██████████| 3/3 [00:00<00:00, 262.39it/s]\n"
     ]
    },
    {
     "name": "stdout",
     "output_type": "stream",
     "text": [
      "Segmentation Completed. \n",
      "total_meal: 20 TP:  3 FP:  2 FN:  2\n",
      "Segmentation Completed. \n",
      "total_meal: 20 TP:  3 FP:  4 FN:  0\n"
     ]
    },
    {
     "name": "stderr",
     "output_type": "stream",
     "text": [
      "100%|██████████| 3/3 [00:00<00:00, 315.46it/s]\n",
      "100%|██████████| 3/3 [00:00<00:00, 280.12it/s]\n"
     ]
    },
    {
     "name": "stdout",
     "output_type": "stream",
     "text": [
      "Segmentation Completed. \n",
      "total_meal: 20 TP:  3 FP:  10 FN:  2\n",
      "Segmentation Completed. \n",
      "total_meal: 20 TP:  0 FP:  1 FN:  4\n"
     ]
    },
    {
     "name": "stderr",
     "output_type": "stream",
     "text": [
      "100%|██████████| 2/2 [00:00<00:00, 262.07it/s]\n",
      "  0%|          | 0/3 [00:00<?, ?it/s]"
     ]
    },
    {
     "name": "stdout",
     "output_type": "stream",
     "text": [
      "Segmentation Completed. \n",
      "total_meal: 20 TP:  3 FP:  2 FN:  0\n",
      "  dataset    Ts    Te  TP  FN  FP  TPR  FP/TP\n",
      "0  tianyi  0.85  0.25  12   8  19  0.6  1.583\n"
     ]
    },
    {
     "name": "stderr",
     "output_type": "stream",
     "text": [
      "100%|██████████| 3/3 [00:00<00:00, 197.58it/s]\n",
      "100%|██████████| 3/3 [00:00<00:00, 215.96it/s]\n"
     ]
    },
    {
     "name": "stdout",
     "output_type": "stream",
     "text": [
      "Segmentation Completed. \n",
      "total_meal: 20 TP:  3 FP:  2 FN:  2\n",
      "Segmentation Completed. \n"
     ]
    },
    {
     "name": "stderr",
     "output_type": "stream",
     "text": [
      "100%|██████████| 3/3 [00:00<00:00, 311.29it/s]\n"
     ]
    },
    {
     "name": "stdout",
     "output_type": "stream",
     "text": [
      "total_meal: 20 TP:  3 FP:  4 FN:  0\n",
      "Segmentation Completed. \n",
      "total_meal: 20 TP:  3 FP:  10 FN:  2\n"
     ]
    },
    {
     "name": "stderr",
     "output_type": "stream",
     "text": [
      "100%|██████████| 3/3 [00:00<00:00, 281.69it/s]\n",
      "100%|██████████| 2/2 [00:00<00:00, 265.82it/s]\n"
     ]
    },
    {
     "name": "stdout",
     "output_type": "stream",
     "text": [
      "Segmentation Completed. \n",
      "total_meal: 20 TP:  0 FP:  1 FN:  4\n",
      "Segmentation Completed. \n",
      "total_meal: 20 TP:  3 FP:  2 FN:  0\n",
      "  dataset    Ts   Te  TP  FN  FP  TPR  FP/TP\n",
      "0  tianyi  0.85  0.3  12   8  19  0.6  1.583\n"
     ]
    },
    {
     "name": "stderr",
     "output_type": "stream",
     "text": [
      "100%|██████████| 3/3 [00:00<00:00, 248.60it/s]\n",
      "100%|██████████| 3/3 [00:00<00:00, 259.25it/s]\n"
     ]
    },
    {
     "name": "stdout",
     "output_type": "stream",
     "text": [
      "Segmentation Completed. \n",
      "total_meal: 20 TP:  3 FP:  2 FN:  2\n",
      "Segmentation Completed. \n"
     ]
    },
    {
     "name": "stderr",
     "output_type": "stream",
     "text": [
      "100%|██████████| 3/3 [00:00<00:00, 235.49it/s]\n",
      "100%|██████████| 3/3 [00:00<00:00, 229.82it/s]\n"
     ]
    },
    {
     "name": "stdout",
     "output_type": "stream",
     "text": [
      "total_meal: 20 TP:  3 FP:  4 FN:  0\n",
      "Segmentation Completed. \n",
      "total_meal: 20 TP:  3 FP:  10 FN:  2\n",
      "Segmentation Completed. \n"
     ]
    },
    {
     "name": "stderr",
     "output_type": "stream",
     "text": [
      "100%|██████████| 2/2 [00:00<00:00, 262.23it/s]\n"
     ]
    },
    {
     "name": "stdout",
     "output_type": "stream",
     "text": [
      "total_meal: 20 TP:  0 FP:  1 FN:  4\n",
      "Segmentation Completed. \n",
      "total_meal: 20 TP:  3 FP:  2 FN:  0\n",
      "  dataset    Ts    Te  TP  FN  FP  TPR  FP/TP\n",
      "0  tianyi  0.85  0.35  12   8  19  0.6  1.583\n"
     ]
    },
    {
     "name": "stderr",
     "output_type": "stream",
     "text": [
      "100%|██████████| 3/3 [00:00<00:00, 249.36it/s]\n",
      "100%|██████████| 3/3 [00:00<00:00, 258.45it/s]\n"
     ]
    },
    {
     "name": "stdout",
     "output_type": "stream",
     "text": [
      "Segmentation Completed. \n",
      "total_meal: 20 TP:  3 FP:  2 FN:  2\n",
      "Segmentation Completed. \n",
      "total_meal: 20 TP:  3 FP:  5 FN:  0\n"
     ]
    },
    {
     "name": "stderr",
     "output_type": "stream",
     "text": [
      "100%|██████████| 3/3 [00:00<00:00, 322.13it/s]\n",
      "100%|██████████| 3/3 [00:00<00:00, 280.89it/s]\n"
     ]
    },
    {
     "name": "stdout",
     "output_type": "stream",
     "text": [
      "Segmentation Completed. \n",
      "total_meal: 20 TP:  3 FP:  10 FN:  2\n",
      "Segmentation Completed. \n",
      "total_meal: 20 TP:  0 FP:  1 FN:  4\n"
     ]
    },
    {
     "name": "stderr",
     "output_type": "stream",
     "text": [
      "100%|██████████| 2/2 [00:00<00:00, 284.62it/s]\n",
      "100%|██████████| 3/3 [00:00<00:00, 265.07it/s]\n"
     ]
    },
    {
     "name": "stdout",
     "output_type": "stream",
     "text": [
      "Segmentation Completed. \n",
      "total_meal: 20 TP:  3 FP:  2 FN:  0\n",
      "  dataset    Ts   Te  TP  FN  FP  TPR  FP/TP\n",
      "0  tianyi  0.85  0.4  12   8  20  0.6  1.667\n",
      "Segmentation Completed. \n",
      "total_meal: 20 TP:  3 FP:  2 FN:  2\n"
     ]
    },
    {
     "name": "stderr",
     "output_type": "stream",
     "text": [
      "100%|██████████| 3/3 [00:00<00:00, 280.36it/s]\n",
      "100%|██████████| 3/3 [00:00<00:00, 347.24it/s]\n"
     ]
    },
    {
     "name": "stdout",
     "output_type": "stream",
     "text": [
      "Segmentation Completed. \n",
      "total_meal: 20 TP:  3 FP:  5 FN:  0\n",
      "Segmentation Completed. \n",
      "total_meal: 20 TP:  3 FP:  11 FN:  2\n"
     ]
    },
    {
     "name": "stderr",
     "output_type": "stream",
     "text": [
      "100%|██████████| 3/3 [00:00<00:00, 297.11it/s]\n",
      "100%|██████████| 2/2 [00:00<00:00, 297.11it/s]\n"
     ]
    },
    {
     "name": "stdout",
     "output_type": "stream",
     "text": [
      "Segmentation Completed. \n",
      "total_meal: 20 TP:  0 FP:  1 FN:  4\n",
      "Segmentation Completed. \n",
      "total_meal: 20 TP:  3 FP:  2 FN:  0\n",
      "  dataset    Ts    Te  TP  FN  FP  TPR  FP/TP\n",
      "0  tianyi  0.85  0.45  12   8  21  0.6   1.75\n"
     ]
    },
    {
     "name": "stderr",
     "output_type": "stream",
     "text": [
      "100%|██████████| 3/3 [00:00<00:00, 223.88it/s]\n",
      "100%|██████████| 3/3 [00:00<00:00, 219.11it/s]\n"
     ]
    },
    {
     "name": "stdout",
     "output_type": "stream",
     "text": [
      "Segmentation Completed. \n",
      "total_meal: 26 TP:  6 FP:  22 FN:  0\n",
      "Segmentation Completed. \n",
      "total_meal: 26 TP:  7 FP:  17 FN:  0\n"
     ]
    },
    {
     "name": "stderr",
     "output_type": "stream",
     "text": [
      "100%|██████████| 2/2 [00:00<00:00, 205.24it/s]\n",
      "100%|██████████| 2/2 [00:00<00:00, 216.73it/s]\n"
     ]
    },
    {
     "name": "stdout",
     "output_type": "stream",
     "text": [
      "Segmentation Completed. \n",
      "total_meal: 26 TP:  4 FP:  14 FN:  0\n",
      "Segmentation Completed. \n",
      "total_meal: 26 TP:  3 FP:  6 FN:  0\n"
     ]
    },
    {
     "name": "stderr",
     "output_type": "stream",
     "text": [
      "100%|██████████| 2/2 [00:00<00:00, 218.68it/s]\n",
      "100%|██████████| 3/3 [00:00<00:00, 225.42it/s]\n"
     ]
    },
    {
     "name": "stdout",
     "output_type": "stream",
     "text": [
      "Segmentation Completed. \n",
      "total_meal: 26 TP:  6 FP:  8 FN:  0\n",
      "  dataset   Ts   Te  TP  FN  FP  TPR  FP/TP\n",
      "0   james  0.5  0.1  26   0  67  1.0  2.577\n",
      "Segmentation Completed. \n",
      "total_meal: 26 TP:  6 FP:  24 FN:  0\n"
     ]
    },
    {
     "name": "stderr",
     "output_type": "stream",
     "text": [
      "100%|██████████| 3/3 [00:00<00:00, 182.33it/s]\n",
      "  0%|          | 0/2 [00:00<?, ?it/s]"
     ]
    },
    {
     "name": "stdout",
     "output_type": "stream",
     "text": [
      "Segmentation Completed. \n",
      "total_meal: 26 TP:  7 FP:  20 FN:  0\n"
     ]
    },
    {
     "name": "stderr",
     "output_type": "stream",
     "text": [
      "100%|██████████| 2/2 [00:00<00:00, 156.49it/s]\n",
      "100%|██████████| 2/2 [00:00<00:00, 181.36it/s]\n"
     ]
    },
    {
     "name": "stdout",
     "output_type": "stream",
     "text": [
      "Segmentation Completed. \n",
      "total_meal: 26 TP:  4 FP:  15 FN:  0\n",
      "Segmentation Completed. \n"
     ]
    },
    {
     "name": "stderr",
     "output_type": "stream",
     "text": [
      "100%|██████████| 2/2 [00:00<00:00, 185.25it/s]\n"
     ]
    },
    {
     "name": "stdout",
     "output_type": "stream",
     "text": [
      "total_meal: 26 TP:  3 FP:  6 FN:  0\n",
      "Segmentation Completed. \n",
      "total_meal: 26 TP:  6 FP:  8 FN:  0\n",
      "  dataset   Ts    Te  TP  FN  FP  TPR  FP/TP\n",
      "0   james  0.5  0.15  26   0  73  1.0  2.808\n"
     ]
    },
    {
     "name": "stderr",
     "output_type": "stream",
     "text": [
      "100%|██████████| 3/3 [00:00<00:00, 212.70it/s]\n",
      "100%|██████████| 3/3 [00:00<00:00, 204.28it/s]\n"
     ]
    },
    {
     "name": "stdout",
     "output_type": "stream",
     "text": [
      "Segmentation Completed. \n",
      "total_meal: 26 TP:  6 FP:  25 FN:  0\n",
      "Segmentation Completed. \n",
      "total_meal: 26 TP:  7 FP:  21 FN:  0\n"
     ]
    },
    {
     "name": "stderr",
     "output_type": "stream",
     "text": [
      "100%|██████████| 2/2 [00:00<00:00, 183.33it/s]\n",
      "100%|██████████| 2/2 [00:00<00:00, 159.52it/s]\n"
     ]
    },
    {
     "name": "stdout",
     "output_type": "stream",
     "text": [
      "Segmentation Completed. \n",
      "total_meal: 26 TP:  4 FP:  16 FN:  0\n",
      "Segmentation Completed. \n"
     ]
    },
    {
     "name": "stderr",
     "output_type": "stream",
     "text": [
      "100%|██████████| 2/2 [00:00<00:00, 159.58it/s]\n"
     ]
    },
    {
     "name": "stdout",
     "output_type": "stream",
     "text": [
      "total_meal: 26 TP:  3 FP:  6 FN:  0\n",
      "Segmentation Completed. \n"
     ]
    },
    {
     "name": "stderr",
     "output_type": "stream",
     "text": [
      "100%|██████████| 3/3 [00:00<00:00, 217.54it/s]\n"
     ]
    },
    {
     "name": "stdout",
     "output_type": "stream",
     "text": [
      "total_meal: 26 TP:  6 FP:  9 FN:  0\n",
      "  dataset   Ts   Te  TP  FN  FP  TPR  FP/TP\n",
      "0   james  0.5  0.2  26   0  77  1.0  2.962\n",
      "Segmentation Completed. \n",
      "total_meal: 26 TP:  6 FP:  25 FN:  0\n"
     ]
    },
    {
     "name": "stderr",
     "output_type": "stream",
     "text": [
      "100%|██████████| 3/3 [00:00<00:00, 185.30it/s]\n",
      "100%|██████████| 2/2 [00:00<00:00, 200.91it/s]\n"
     ]
    },
    {
     "name": "stdout",
     "output_type": "stream",
     "text": [
      "Segmentation Completed. \n",
      "total_meal: 26 TP:  7 FP:  23 FN:  0\n",
      "Segmentation Completed. \n",
      "total_meal: 26 TP:  4 FP:  17 FN:  0\n"
     ]
    },
    {
     "name": "stderr",
     "output_type": "stream",
     "text": [
      "100%|██████████| 2/2 [00:00<00:00, 201.25it/s]\n",
      "100%|██████████| 2/2 [00:00<00:00, 189.15it/s]\n"
     ]
    },
    {
     "name": "stdout",
     "output_type": "stream",
     "text": [
      "Segmentation Completed. \n",
      "total_meal: 26 TP:  3 FP:  6 FN:  0\n",
      "Segmentation Completed. \n",
      "total_meal: 26 TP:  6 FP:  9 FN:  0\n",
      "  dataset   Ts    Te  TP  FN  FP  TPR  FP/TP\n",
      "0   james  0.5  0.25  26   0  80  1.0  3.077\n"
     ]
    },
    {
     "name": "stderr",
     "output_type": "stream",
     "text": [
      "100%|██████████| 3/3 [00:00<00:00, 212.86it/s]\n",
      "100%|██████████| 3/3 [00:00<00:00, 218.70it/s]\n"
     ]
    },
    {
     "name": "stdout",
     "output_type": "stream",
     "text": [
      "Segmentation Completed. \n",
      "total_meal: 26 TP:  6 FP:  24 FN:  0\n",
      "Segmentation Completed. \n",
      "total_meal: 26 TP:  7 FP:  23 FN:  0\n"
     ]
    },
    {
     "name": "stderr",
     "output_type": "stream",
     "text": [
      "100%|██████████| 2/2 [00:00<00:00, 211.00it/s]\n",
      "100%|██████████| 2/2 [00:00<00:00, 220.20it/s]\n"
     ]
    },
    {
     "name": "stdout",
     "output_type": "stream",
     "text": [
      "Segmentation Completed. \n",
      "total_meal: 26 TP:  4 FP:  19 FN:  0\n",
      "Segmentation Completed. \n",
      "total_meal: 26 TP:  3 FP:  6 FN:  0\n"
     ]
    },
    {
     "name": "stderr",
     "output_type": "stream",
     "text": [
      "100%|██████████| 2/2 [00:00<00:00, 220.38it/s]\n",
      "100%|██████████| 3/3 [00:00<00:00, 225.95it/s]\n"
     ]
    },
    {
     "name": "stdout",
     "output_type": "stream",
     "text": [
      "Segmentation Completed. \n",
      "total_meal: 26 TP:  6 FP:  9 FN:  0\n",
      "  dataset   Ts   Te  TP  FN  FP  TPR  FP/TP\n",
      "0   james  0.5  0.3  26   0  81  1.0  3.115\n",
      "Segmentation Completed. \n",
      "total_meal: 26 TP:  6 FP:  24 FN:  0\n"
     ]
    },
    {
     "name": "stderr",
     "output_type": "stream",
     "text": [
      "100%|██████████| 3/3 [00:00<00:00, 218.60it/s]\n",
      "100%|██████████| 2/2 [00:00<00:00, 211.22it/s]\n"
     ]
    },
    {
     "name": "stdout",
     "output_type": "stream",
     "text": [
      "Segmentation Completed. \n",
      "total_meal: 26 TP:  7 FP:  23 FN:  0\n",
      "Segmentation Completed. \n",
      "total_meal: 26 TP:  4 FP:  21 FN:  0\n"
     ]
    },
    {
     "name": "stderr",
     "output_type": "stream",
     "text": [
      "100%|██████████| 2/2 [00:00<00:00, 219.16it/s]\n",
      "100%|██████████| 2/2 [00:00<00:00, 220.81it/s]\n"
     ]
    },
    {
     "name": "stdout",
     "output_type": "stream",
     "text": [
      "Segmentation Completed. \n",
      "total_meal: 26 TP:  3 FP:  6 FN:  0\n",
      "Segmentation Completed. \n",
      "total_meal: 26 TP:  6 FP:  10 FN:  0\n",
      "  dataset   Ts    Te  TP  FN  FP  TPR  FP/TP\n",
      "0   james  0.5  0.35  26   0  84  1.0  3.231\n"
     ]
    },
    {
     "name": "stderr",
     "output_type": "stream",
     "text": [
      "100%|██████████| 3/3 [00:00<00:00, 223.72it/s]\n",
      "100%|██████████| 3/3 [00:00<00:00, 212.28it/s]\n"
     ]
    },
    {
     "name": "stdout",
     "output_type": "stream",
     "text": [
      "Segmentation Completed. \n",
      "total_meal: 26 TP:  6 FP:  26 FN:  0\n",
      "Segmentation Completed. \n",
      "total_meal: 26 TP:  7 FP:  23 FN:  0\n"
     ]
    },
    {
     "name": "stderr",
     "output_type": "stream",
     "text": [
      "100%|██████████| 2/2 [00:00<00:00, 213.67it/s]\n",
      "100%|██████████| 2/2 [00:00<00:00, 214.79it/s]\n"
     ]
    },
    {
     "name": "stdout",
     "output_type": "stream",
     "text": [
      "Segmentation Completed. \n",
      "total_meal: 26 TP:  4 FP:  19 FN:  0\n",
      "Segmentation Completed. \n",
      "total_meal: 26 TP:  3 FP:  7 FN:  0\n"
     ]
    },
    {
     "name": "stderr",
     "output_type": "stream",
     "text": [
      "100%|██████████| 2/2 [00:00<00:00, 198.87it/s]\n",
      "100%|██████████| 3/3 [00:00<00:00, 164.39it/s]\n"
     ]
    },
    {
     "name": "stdout",
     "output_type": "stream",
     "text": [
      "Segmentation Completed. \n",
      "total_meal: 26 TP:  6 FP:  10 FN:  0\n",
      "  dataset   Ts   Te  TP  FN  FP  TPR  FP/TP\n",
      "0   james  0.5  0.4  26   0  85  1.0  3.269\n"
     ]
    },
    {
     "name": "stderr",
     "output_type": "stream",
     "text": [
      "100%|██████████| 3/3 [00:00<00:00, 199.70it/s]"
     ]
    },
    {
     "name": "stdout",
     "output_type": "stream",
     "text": [
      "Segmentation Completed. \n",
      "total_meal: 26 TP:  6 FP:  26 FN:  0\n",
      "Segmentation Completed. \n"
     ]
    },
    {
     "name": "stderr",
     "output_type": "stream",
     "text": [
      "\n",
      "100%|██████████| 2/2 [00:00<00:00, 194.03it/s]\n"
     ]
    },
    {
     "name": "stdout",
     "output_type": "stream",
     "text": [
      "total_meal: 26 TP:  7 FP:  23 FN:  0\n",
      "Segmentation Completed. \n",
      "total_meal: 26 TP:  4 FP:  18 FN:  0\n"
     ]
    },
    {
     "name": "stderr",
     "output_type": "stream",
     "text": [
      "100%|██████████| 2/2 [00:00<00:00, 186.06it/s]\n",
      "100%|██████████| 2/2 [00:00<00:00, 200.59it/s]\n"
     ]
    },
    {
     "name": "stdout",
     "output_type": "stream",
     "text": [
      "Segmentation Completed. \n",
      "total_meal: 26 TP:  3 FP:  7 FN:  0\n",
      "Segmentation Completed. \n",
      "total_meal: 26 TP:  6 FP:  10 FN:  0\n",
      "  dataset   Ts    Te  TP  FN  FP  TPR  FP/TP\n",
      "0   james  0.5  0.45  26   0  84  1.0  3.231\n"
     ]
    },
    {
     "name": "stderr",
     "output_type": "stream",
     "text": [
      "100%|██████████| 3/3 [00:00<00:00, 210.58it/s]\n",
      "100%|██████████| 3/3 [00:00<00:00, 195.17it/s]\n"
     ]
    },
    {
     "name": "stdout",
     "output_type": "stream",
     "text": [
      "Segmentation Completed. \n",
      "total_meal: 26 TP:  6 FP:  21 FN:  0\n",
      "Segmentation Completed. \n"
     ]
    },
    {
     "name": "stderr",
     "output_type": "stream",
     "text": [
      "100%|██████████| 2/2 [00:00<00:00, 203.71it/s]\n"
     ]
    },
    {
     "name": "stdout",
     "output_type": "stream",
     "text": [
      "total_meal: 26 TP:  7 FP:  17 FN:  0\n",
      "Segmentation Completed. \n",
      "total_meal: 26 TP:  4 FP:  11 FN:  0\n"
     ]
    },
    {
     "name": "stderr",
     "output_type": "stream",
     "text": [
      "100%|██████████| 2/2 [00:00<00:00, 217.01it/s]\n",
      "100%|██████████| 2/2 [00:00<00:00, 218.49it/s]\n"
     ]
    },
    {
     "name": "stdout",
     "output_type": "stream",
     "text": [
      "Segmentation Completed. \n",
      "total_meal: 26 TP:  3 FP:  6 FN:  0\n",
      "Segmentation Completed. \n",
      "total_meal: 26 TP:  6 FP:  8 FN:  0\n",
      "  dataset    Ts   Te  TP  FN  FP  TPR  FP/TP\n",
      "0   james  0.55  0.1  26   0  63  1.0  2.423\n"
     ]
    },
    {
     "name": "stderr",
     "output_type": "stream",
     "text": [
      "100%|██████████| 3/3 [00:00<00:00, 209.91it/s]\n",
      "100%|██████████| 3/3 [00:00<00:00, 214.23it/s]\n"
     ]
    },
    {
     "name": "stdout",
     "output_type": "stream",
     "text": [
      "Segmentation Completed. \n",
      "total_meal: 26 TP:  6 FP:  23 FN:  0\n",
      "Segmentation Completed. \n"
     ]
    },
    {
     "name": "stderr",
     "output_type": "stream",
     "text": [
      "100%|██████████| 2/2 [00:00<00:00, 209.11it/s]\n"
     ]
    },
    {
     "name": "stdout",
     "output_type": "stream",
     "text": [
      "total_meal: 26 TP:  7 FP:  20 FN:  0\n",
      "Segmentation Completed. \n",
      "total_meal: 26 TP:  4 FP:  12 FN:  0\n"
     ]
    },
    {
     "name": "stderr",
     "output_type": "stream",
     "text": [
      "100%|██████████| 2/2 [00:00<00:00, 216.22it/s]\n",
      "100%|██████████| 2/2 [00:00<00:00, 157.57it/s]\n"
     ]
    },
    {
     "name": "stdout",
     "output_type": "stream",
     "text": [
      "Segmentation Completed. \n",
      "total_meal: 26 TP:  3 FP:  6 FN:  0\n",
      "Segmentation Completed. \n"
     ]
    },
    {
     "name": "stderr",
     "output_type": "stream",
     "text": [
      "100%|██████████| 3/3 [00:00<00:00, 196.81it/s]"
     ]
    },
    {
     "name": "stdout",
     "output_type": "stream",
     "text": [
      "total_meal: 26 TP:  6 FP:  8 FN:  0\n",
      "  dataset    Ts    Te  TP  FN  FP  TPR  FP/TP\n",
      "0   james  0.55  0.15  26   0  69  1.0  2.654\n",
      "Segmentation Completed. \n"
     ]
    },
    {
     "name": "stderr",
     "output_type": "stream",
     "text": [
      "\n",
      "100%|██████████| 3/3 [00:00<00:00, 201.40it/s]\n"
     ]
    },
    {
     "name": "stdout",
     "output_type": "stream",
     "text": [
      "total_meal: 26 TP:  6 FP:  24 FN:  0\n",
      "Segmentation Completed. \n",
      "total_meal: 26 TP:  7 FP:  20 FN:  0\n"
     ]
    },
    {
     "name": "stderr",
     "output_type": "stream",
     "text": [
      "100%|██████████| 2/2 [00:00<00:00, 186.92it/s]\n",
      "100%|██████████| 2/2 [00:00<00:00, 203.42it/s]\n"
     ]
    },
    {
     "name": "stdout",
     "output_type": "stream",
     "text": [
      "Segmentation Completed. \n",
      "total_meal: 26 TP:  4 FP:  13 FN:  0\n",
      "Segmentation Completed. \n",
      "total_meal: 26 TP:  3 FP:  6 FN:  0\n"
     ]
    },
    {
     "name": "stderr",
     "output_type": "stream",
     "text": [
      "100%|██████████| 2/2 [00:00<00:00, 200.32it/s]\n",
      "100%|██████████| 3/3 [00:00<00:00, 197.09it/s]\n"
     ]
    },
    {
     "name": "stdout",
     "output_type": "stream",
     "text": [
      "Segmentation Completed. \n",
      "total_meal: 26 TP:  6 FP:  10 FN:  0\n",
      "  dataset    Ts   Te  TP  FN  FP  TPR  FP/TP\n",
      "0   james  0.55  0.2  26   0  73  1.0  2.808\n",
      "Segmentation Completed. \n"
     ]
    },
    {
     "name": "stderr",
     "output_type": "stream",
     "text": [
      "100%|██████████| 3/3 [00:00<00:00, 162.05it/s]"
     ]
    },
    {
     "name": "stdout",
     "output_type": "stream",
     "text": [
      "total_meal: 26 TP:  6 FP:  24 FN:  0\n",
      "Segmentation Completed. \n"
     ]
    },
    {
     "name": "stderr",
     "output_type": "stream",
     "text": [
      "\n",
      "100%|██████████| 2/2 [00:00<00:00, 191.72it/s]"
     ]
    },
    {
     "name": "stdout",
     "output_type": "stream",
     "text": [
      "total_meal: 26 TP:  7 FP:  22 FN:  0\n",
      "Segmentation Completed. \n",
      "total_meal: 26 TP:  4 FP:  14 FN:  0\n"
     ]
    },
    {
     "name": "stderr",
     "output_type": "stream",
     "text": [
      "\n",
      "100%|██████████| 2/2 [00:00<00:00, 193.08it/s]\n",
      "100%|██████████| 2/2 [00:00<00:00, 203.58it/s]\n"
     ]
    },
    {
     "name": "stdout",
     "output_type": "stream",
     "text": [
      "Segmentation Completed. \n",
      "total_meal: 26 TP:  3 FP:  6 FN:  0\n",
      "Segmentation Completed. \n",
      "total_meal: 26 TP:  6 FP:  10 FN:  0\n",
      "  dataset    Ts    Te  TP  FN  FP  TPR  FP/TP\n",
      "0   james  0.55  0.25  26   0  76  1.0  2.923\n"
     ]
    },
    {
     "name": "stderr",
     "output_type": "stream",
     "text": [
      "100%|██████████| 3/3 [00:00<00:00, 211.21it/s]\n",
      "100%|██████████| 3/3 [00:00<00:00, 203.72it/s]\n"
     ]
    },
    {
     "name": "stdout",
     "output_type": "stream",
     "text": [
      "Segmentation Completed. \n",
      "total_meal: 26 TP:  6 FP:  24 FN:  0\n",
      "Segmentation Completed. \n"
     ]
    },
    {
     "name": "stderr",
     "output_type": "stream",
     "text": [
      "100%|██████████| 2/2 [00:00<00:00, 188.33it/s]\n"
     ]
    },
    {
     "name": "stdout",
     "output_type": "stream",
     "text": [
      "total_meal: 26 TP:  7 FP:  21 FN:  0\n",
      "Segmentation Completed. \n",
      "total_meal: 26 TP:  4 FP:  16 FN:  0\n"
     ]
    },
    {
     "name": "stderr",
     "output_type": "stream",
     "text": [
      "100%|██████████| 2/2 [00:00<00:00, 156.85it/s]\n",
      "100%|██████████| 2/2 [00:00<00:00, 163.87it/s]\n"
     ]
    },
    {
     "name": "stdout",
     "output_type": "stream",
     "text": [
      "Segmentation Completed. \n",
      "total_meal: 26 TP:  3 FP:  6 FN:  0\n",
      "Segmentation Completed. \n"
     ]
    },
    {
     "name": "stderr",
     "output_type": "stream",
     "text": [
      "100%|██████████| 3/3 [00:00<00:00, 201.46it/s]\n"
     ]
    },
    {
     "name": "stdout",
     "output_type": "stream",
     "text": [
      "total_meal: 26 TP:  6 FP:  10 FN:  0\n",
      "  dataset    Ts   Te  TP  FN  FP  TPR  FP/TP\n",
      "0   james  0.55  0.3  26   0  77  1.0  2.962\n",
      "Segmentation Completed. \n",
      "total_meal: 26 TP:  6 FP:  25 FN:  0\n"
     ]
    },
    {
     "name": "stderr",
     "output_type": "stream",
     "text": [
      "100%|██████████| 3/3 [00:00<00:00, 209.30it/s]\n",
      "100%|██████████| 2/2 [00:00<00:00, 189.04it/s]\n"
     ]
    },
    {
     "name": "stdout",
     "output_type": "stream",
     "text": [
      "Segmentation Completed. \n",
      "total_meal: 26 TP:  7 FP:  21 FN:  0\n",
      "Segmentation Completed. \n",
      "total_meal: 26 TP:  4 FP:  17 FN:  0\n"
     ]
    },
    {
     "name": "stderr",
     "output_type": "stream",
     "text": [
      "100%|██████████| 2/2 [00:00<00:00, 190.63it/s]\n",
      "100%|██████████| 2/2 [00:00<00:00, 203.15it/s]\n"
     ]
    },
    {
     "name": "stdout",
     "output_type": "stream",
     "text": [
      "Segmentation Completed. \n",
      "total_meal: 26 TP:  3 FP:  7 FN:  0\n",
      "Segmentation Completed. \n",
      "total_meal: 26 TP:  6 FP:  11 FN:  0\n",
      "  dataset    Ts    Te  TP  FN  FP  TPR  FP/TP\n",
      "0   james  0.55  0.35  26   0  81  1.0  3.115\n"
     ]
    },
    {
     "name": "stderr",
     "output_type": "stream",
     "text": [
      "100%|██████████| 3/3 [00:00<00:00, 225.93it/s]\n",
      "100%|██████████| 3/3 [00:00<00:00, 222.54it/s]\n"
     ]
    },
    {
     "name": "stdout",
     "output_type": "stream",
     "text": [
      "Segmentation Completed. \n",
      "total_meal: 26 TP:  6 FP:  25 FN:  0\n",
      "Segmentation Completed. \n",
      "total_meal: 26 TP:  7 FP:  21 FN:  0\n"
     ]
    },
    {
     "name": "stderr",
     "output_type": "stream",
     "text": [
      "100%|██████████| 2/2 [00:00<00:00, 216.73it/s]\n",
      "100%|██████████| 2/2 [00:00<00:00, 220.87it/s]\n"
     ]
    },
    {
     "name": "stdout",
     "output_type": "stream",
     "text": [
      "Segmentation Completed. \n",
      "total_meal: 26 TP:  4 FP:  16 FN:  0\n",
      "Segmentation Completed. \n",
      "total_meal: 26 TP:  3 FP:  7 FN:  0\n"
     ]
    },
    {
     "name": "stderr",
     "output_type": "stream",
     "text": [
      "100%|██████████| 2/2 [00:00<00:00, 219.44it/s]\n",
      "100%|██████████| 3/3 [00:00<00:00, 228.49it/s]\n"
     ]
    },
    {
     "name": "stdout",
     "output_type": "stream",
     "text": [
      "Segmentation Completed. \n",
      "total_meal: 26 TP:  6 FP:  11 FN:  0\n",
      "  dataset    Ts   Te  TP  FN  FP  TPR  FP/TP\n",
      "0   james  0.55  0.4  26   0  80  1.0  3.077\n",
      "Segmentation Completed. \n",
      "total_meal: 26 TP:  6 FP:  24 FN:  0\n"
     ]
    },
    {
     "name": "stderr",
     "output_type": "stream",
     "text": [
      "100%|██████████| 3/3 [00:00<00:00, 220.21it/s]\n",
      "100%|██████████| 2/2 [00:00<00:00, 216.50it/s]\n"
     ]
    },
    {
     "name": "stdout",
     "output_type": "stream",
     "text": [
      "Segmentation Completed. \n",
      "total_meal: 26 TP:  7 FP:  21 FN:  0\n",
      "Segmentation Completed. \n",
      "total_meal: 26 TP:  4 FP:  16 FN:  0\n"
     ]
    },
    {
     "name": "stderr",
     "output_type": "stream",
     "text": [
      "100%|██████████| 2/2 [00:00<00:00, 220.83it/s]\n",
      "100%|██████████| 2/2 [00:00<00:00, 212.67it/s]\n"
     ]
    },
    {
     "name": "stdout",
     "output_type": "stream",
     "text": [
      "Segmentation Completed. \n",
      "total_meal: 26 TP:  3 FP:  7 FN:  0\n",
      "Segmentation Completed. \n",
      "total_meal: 26 TP:  6 FP:  11 FN:  0\n",
      "  dataset    Ts    Te  TP  FN  FP  TPR  FP/TP\n",
      "0   james  0.55  0.45  26   0  79  1.0  3.038\n"
     ]
    },
    {
     "name": "stderr",
     "output_type": "stream",
     "text": [
      "100%|██████████| 3/3 [00:00<00:00, 229.33it/s]\n",
      "100%|██████████| 3/3 [00:00<00:00, 224.12it/s]\n"
     ]
    },
    {
     "name": "stdout",
     "output_type": "stream",
     "text": [
      "Segmentation Completed. \n",
      "total_meal: 26 TP:  6 FP:  20 FN:  0\n",
      "Segmentation Completed. \n",
      "total_meal: 26 TP:  7 FP:  17 FN:  0\n"
     ]
    },
    {
     "name": "stderr",
     "output_type": "stream",
     "text": [
      "100%|██████████| 2/2 [00:00<00:00, 217.44it/s]\n",
      "100%|██████████| 2/2 [00:00<00:00, 189.81it/s]\n"
     ]
    },
    {
     "name": "stdout",
     "output_type": "stream",
     "text": [
      "Segmentation Completed. \n",
      "total_meal: 26 TP:  4 FP:  9 FN:  0\n",
      "Segmentation Completed. \n",
      "total_meal: 26 TP:  3 FP:  6 FN:  0\n"
     ]
    },
    {
     "name": "stderr",
     "output_type": "stream",
     "text": [
      "100%|██████████| 2/2 [00:00<00:00, 155.24it/s]\n",
      "  0%|          | 0/3 [00:00<?, ?it/s]"
     ]
    },
    {
     "name": "stdout",
     "output_type": "stream",
     "text": [
      "Segmentation Completed. \n",
      "total_meal: 26 TP:  6 FP:  8 FN:  0\n",
      "  dataset   Ts   Te  TP  FN  FP  TPR  FP/TP\n",
      "0   james  0.6  0.1  26   0  60  1.0  2.308\n"
     ]
    },
    {
     "name": "stderr",
     "output_type": "stream",
     "text": [
      "100%|██████████| 3/3 [00:00<00:00, 162.92it/s]\n",
      "100%|██████████| 3/3 [00:00<00:00, 188.67it/s]\n"
     ]
    },
    {
     "name": "stdout",
     "output_type": "stream",
     "text": [
      "Segmentation Completed. \n",
      "total_meal: 26 TP:  6 FP:  22 FN:  0\n",
      "Segmentation Completed. \n"
     ]
    },
    {
     "name": "stderr",
     "output_type": "stream",
     "text": [
      "100%|██████████| 2/2 [00:00<00:00, 205.28it/s]\n"
     ]
    },
    {
     "name": "stdout",
     "output_type": "stream",
     "text": [
      "total_meal: 26 TP:  7 FP:  20 FN:  0\n",
      "Segmentation Completed. \n",
      "total_meal: 26 TP:  4 FP:  9 FN:  0\n"
     ]
    },
    {
     "name": "stderr",
     "output_type": "stream",
     "text": [
      "100%|██████████| 2/2 [00:00<00:00, 199.52it/s]\n",
      "100%|██████████| 2/2 [00:00<00:00, 202.22it/s]\n"
     ]
    },
    {
     "name": "stdout",
     "output_type": "stream",
     "text": [
      "Segmentation Completed. \n",
      "total_meal: 26 TP:  3 FP:  6 FN:  0\n",
      "Segmentation Completed. \n",
      "total_meal: 26 TP:  6 FP:  8 FN:  0\n",
      "  dataset   Ts    Te  TP  FN  FP  TPR  FP/TP\n",
      "0   james  0.6  0.15  26   0  65  1.0    2.5\n"
     ]
    },
    {
     "name": "stderr",
     "output_type": "stream",
     "text": [
      "100%|██████████| 3/3 [00:00<00:00, 209.89it/s]\n",
      "  0%|          | 0/3 [00:00<?, ?it/s]"
     ]
    },
    {
     "name": "stdout",
     "output_type": "stream",
     "text": [
      "Segmentation Completed. \n",
      "total_meal: 26 TP:  6 FP:  23 FN:  0\n"
     ]
    },
    {
     "name": "stderr",
     "output_type": "stream",
     "text": [
      "100%|██████████| 3/3 [00:00<00:00, 159.21it/s]\n",
      "100%|██████████| 2/2 [00:00<00:00, 197.16it/s]\n"
     ]
    },
    {
     "name": "stdout",
     "output_type": "stream",
     "text": [
      "Segmentation Completed. \n",
      "total_meal: 26 TP:  7 FP:  20 FN:  0\n",
      "Segmentation Completed. \n"
     ]
    },
    {
     "name": "stderr",
     "output_type": "stream",
     "text": [
      "100%|██████████| 2/2 [00:00<00:00, 197.98it/s]\n"
     ]
    },
    {
     "name": "stdout",
     "output_type": "stream",
     "text": [
      "total_meal: 26 TP:  4 FP:  10 FN:  0\n",
      "Segmentation Completed. \n",
      "total_meal: 26 TP:  3 FP:  6 FN:  0\n"
     ]
    },
    {
     "name": "stderr",
     "output_type": "stream",
     "text": [
      "100%|██████████| 2/2 [00:00<00:00, 186.32it/s]\n",
      "100%|██████████| 3/3 [00:00<00:00, 212.14it/s]\n"
     ]
    },
    {
     "name": "stdout",
     "output_type": "stream",
     "text": [
      "Segmentation Completed. \n",
      "total_meal: 26 TP:  6 FP:  10 FN:  0\n",
      "  dataset   Ts   Te  TP  FN  FP  TPR  FP/TP\n",
      "0   james  0.6  0.2  26   0  69  1.0  2.654\n",
      "Segmentation Completed. \n",
      "total_meal: 26 TP:  6 FP:  24 FN:  0\n"
     ]
    },
    {
     "name": "stderr",
     "output_type": "stream",
     "text": [
      "100%|██████████| 3/3 [00:00<00:00, 203.90it/s]\n",
      "100%|██████████| 2/2 [00:00<00:00, 187.58it/s]\n"
     ]
    },
    {
     "name": "stdout",
     "output_type": "stream",
     "text": [
      "Segmentation Completed. \n",
      "total_meal: 26 TP:  7 FP:  22 FN:  0\n",
      "Segmentation Completed. \n"
     ]
    },
    {
     "name": "stderr",
     "output_type": "stream",
     "text": [
      "100%|██████████| 2/2 [00:00<00:00, 157.49it/s]\n",
      "100%|██████████| 2/2 [00:00<00:00, 172.75it/s]\n"
     ]
    },
    {
     "name": "stdout",
     "output_type": "stream",
     "text": [
      "total_meal: 26 TP:  4 FP:  11 FN:  0\n",
      "Segmentation Completed. \n",
      "total_meal: 26 TP:  3 FP:  6 FN:  0\n",
      "Segmentation Completed. \n"
     ]
    },
    {
     "name": "stderr",
     "output_type": "stream",
     "text": [
      "100%|██████████| 3/3 [00:00<00:00, 203.75it/s]\n"
     ]
    },
    {
     "name": "stdout",
     "output_type": "stream",
     "text": [
      "total_meal: 26 TP:  6 FP:  10 FN:  0\n",
      "  dataset   Ts    Te  TP  FN  FP  TPR  FP/TP\n",
      "0   james  0.6  0.25  26   0  73  1.0  2.808\n",
      "Segmentation Completed. \n",
      "total_meal: 26 TP:  6 FP:  24 FN:  0\n"
     ]
    },
    {
     "name": "stderr",
     "output_type": "stream",
     "text": [
      "100%|██████████| 3/3 [00:00<00:00, 198.74it/s]\n",
      "100%|██████████| 2/2 [00:00<00:00, 203.75it/s]\n"
     ]
    },
    {
     "name": "stdout",
     "output_type": "stream",
     "text": [
      "Segmentation Completed. \n",
      "total_meal: 26 TP:  7 FP:  21 FN:  0\n",
      "Segmentation Completed. \n",
      "total_meal: 26 TP:  4 FP:  14 FN:  0\n"
     ]
    },
    {
     "name": "stderr",
     "output_type": "stream",
     "text": [
      "100%|██████████| 2/2 [00:00<00:00, 201.22it/s]\n",
      "100%|██████████| 2/2 [00:00<00:00, 186.53it/s]\n"
     ]
    },
    {
     "name": "stdout",
     "output_type": "stream",
     "text": [
      "Segmentation Completed. \n",
      "total_meal: 26 TP:  3 FP:  6 FN:  0\n",
      "Segmentation Completed. \n",
      "total_meal: 26 TP:  6 FP:  10 FN:  0\n",
      "  dataset   Ts   Te  TP  FN  FP  TPR  FP/TP\n",
      "0   james  0.6  0.3  26   0  75  1.0  2.885\n"
     ]
    },
    {
     "name": "stderr",
     "output_type": "stream",
     "text": [
      "100%|██████████| 3/3 [00:00<00:00, 163.22it/s]\n",
      "  0%|          | 0/3 [00:00<?, ?it/s]"
     ]
    },
    {
     "name": "stdout",
     "output_type": "stream",
     "text": [
      "Segmentation Completed. \n",
      "total_meal: 26 TP:  6 FP:  24 FN:  0\n"
     ]
    },
    {
     "name": "stderr",
     "output_type": "stream",
     "text": [
      "100%|██████████| 3/3 [00:00<00:00, 184.38it/s]\n",
      "100%|██████████| 2/2 [00:00<00:00, 192.19it/s]\n"
     ]
    },
    {
     "name": "stdout",
     "output_type": "stream",
     "text": [
      "Segmentation Completed. \n",
      "total_meal: 26 TP:  7 FP:  21 FN:  0\n",
      "Segmentation Completed. \n",
      "total_meal: 26 TP:  4 FP:  14 FN:  0\n"
     ]
    },
    {
     "name": "stderr",
     "output_type": "stream",
     "text": [
      "100%|██████████| 2/2 [00:00<00:00, 196.79it/s]\n",
      "100%|██████████| 2/2 [00:00<00:00, 201.82it/s]\n"
     ]
    },
    {
     "name": "stdout",
     "output_type": "stream",
     "text": [
      "Segmentation Completed. \n",
      "total_meal: 26 TP:  3 FP:  7 FN:  0\n",
      "Segmentation Completed. \n",
      "total_meal: 26 TP:  6 FP:  11 FN:  0\n",
      "  dataset   Ts    Te  TP  FN  FP  TPR  FP/TP\n",
      "0   james  0.6  0.35  26   0  77  1.0  2.962\n"
     ]
    },
    {
     "name": "stderr",
     "output_type": "stream",
     "text": [
      "100%|██████████| 3/3 [00:00<00:00, 209.12it/s]\n",
      "100%|██████████| 3/3 [00:00<00:00, 187.42it/s]\n"
     ]
    },
    {
     "name": "stdout",
     "output_type": "stream",
     "text": [
      "Segmentation Completed. \n",
      "total_meal: 26 TP:  6 FP:  25 FN:  0\n",
      "Segmentation Completed. \n"
     ]
    },
    {
     "name": "stderr",
     "output_type": "stream",
     "text": [
      "100%|██████████| 2/2 [00:00<00:00, 149.01it/s]"
     ]
    },
    {
     "name": "stdout",
     "output_type": "stream",
     "text": [
      "total_meal: 26 TP:  7 FP:  21 FN:  0\n",
      "Segmentation Completed. \n"
     ]
    },
    {
     "name": "stderr",
     "output_type": "stream",
     "text": [
      "\n",
      "100%|██████████| 2/2 [00:00<00:00, 192.72it/s]\n"
     ]
    },
    {
     "name": "stdout",
     "output_type": "stream",
     "text": [
      "total_meal: 26 TP:  4 FP:  14 FN:  0\n",
      "Segmentation Completed. \n",
      "total_meal: 26 TP:  3 FP:  7 FN:  0\n"
     ]
    },
    {
     "name": "stderr",
     "output_type": "stream",
     "text": [
      "100%|██████████| 2/2 [00:00<00:00, 195.57it/s]\n",
      "100%|██████████| 3/3 [00:00<00:00, 208.79it/s]\n"
     ]
    },
    {
     "name": "stdout",
     "output_type": "stream",
     "text": [
      "Segmentation Completed. \n",
      "total_meal: 26 TP:  6 FP:  11 FN:  0\n",
      "  dataset   Ts   Te  TP  FN  FP  TPR  FP/TP\n",
      "0   james  0.6  0.4  26   0  78  1.0    3.0\n",
      "Segmentation Completed. \n"
     ]
    },
    {
     "name": "stderr",
     "output_type": "stream",
     "text": [
      "100%|██████████| 3/3 [00:00<00:00, 205.32it/s]\n"
     ]
    },
    {
     "name": "stdout",
     "output_type": "stream",
     "text": [
      "total_meal: 26 TP:  6 FP:  25 FN:  0\n",
      "Segmentation Completed. \n",
      "total_meal: 26 TP:  7 FP:  21 FN:  0\n"
     ]
    },
    {
     "name": "stderr",
     "output_type": "stream",
     "text": [
      "100%|██████████| 2/2 [00:00<00:00, 197.06it/s]\n",
      "100%|██████████| 2/2 [00:00<00:00, 193.05it/s]\n"
     ]
    },
    {
     "name": "stdout",
     "output_type": "stream",
     "text": [
      "Segmentation Completed. \n",
      "total_meal: 26 TP:  4 FP:  14 FN:  0\n",
      "Segmentation Completed. \n",
      "total_meal: 26 TP:  3 FP:  7 FN:  0\n"
     ]
    },
    {
     "name": "stderr",
     "output_type": "stream",
     "text": [
      "100%|██████████| 2/2 [00:00<00:00, 152.77it/s]\n",
      "  0%|          | 0/3 [00:00<?, ?it/s]"
     ]
    },
    {
     "name": "stdout",
     "output_type": "stream",
     "text": [
      "Segmentation Completed. \n",
      "total_meal: 26 TP:  6 FP:  11 FN:  0\n",
      "  dataset   Ts    Te  TP  FN  FP  TPR  FP/TP\n",
      "0   james  0.6  0.45  26   0  78  1.0    3.0\n"
     ]
    },
    {
     "name": "stderr",
     "output_type": "stream",
     "text": [
      "100%|██████████| 3/3 [00:00<00:00, 164.87it/s]\n",
      "100%|██████████| 3/3 [00:00<00:00, 199.20it/s]\n"
     ]
    },
    {
     "name": "stdout",
     "output_type": "stream",
     "text": [
      "Segmentation Completed. \n",
      "total_meal: 26 TP:  6 FP:  18 FN:  0\n",
      "Segmentation Completed. \n"
     ]
    },
    {
     "name": "stderr",
     "output_type": "stream",
     "text": [
      "100%|██████████| 2/2 [00:00<00:00, 199.42it/s]\n"
     ]
    },
    {
     "name": "stdout",
     "output_type": "stream",
     "text": [
      "total_meal: 26 TP:  7 FP:  16 FN:  0\n",
      "Segmentation Completed. \n",
      "total_meal: 26 TP:  4 FP:  8 FN:  0\n"
     ]
    },
    {
     "name": "stderr",
     "output_type": "stream",
     "text": [
      "100%|██████████| 2/2 [00:00<00:00, 199.68it/s]\n",
      "100%|██████████| 2/2 [00:00<00:00, 200.80it/s]\n"
     ]
    },
    {
     "name": "stdout",
     "output_type": "stream",
     "text": [
      "Segmentation Completed. \n",
      "total_meal: 26 TP:  3 FP:  6 FN:  0\n",
      "Segmentation Completed. \n",
      "total_meal: 26 TP:  6 FP:  7 FN:  0\n",
      "  dataset    Ts   Te  TP  FN  FP  TPR  FP/TP\n",
      "0   james  0.65  0.1  26   0  55  1.0  2.115\n"
     ]
    },
    {
     "name": "stderr",
     "output_type": "stream",
     "text": [
      "100%|██████████| 3/3 [00:00<00:00, 200.65it/s]\n",
      "  0%|          | 0/3 [00:00<?, ?it/s]"
     ]
    },
    {
     "name": "stdout",
     "output_type": "stream",
     "text": [
      "Segmentation Completed. \n",
      "total_meal: 26 TP:  6 FP:  20 FN:  0\n"
     ]
    },
    {
     "name": "stderr",
     "output_type": "stream",
     "text": [
      "100%|██████████| 3/3 [00:00<00:00, 158.28it/s]\n",
      "100%|██████████| 2/2 [00:00<00:00, 166.10it/s]\n"
     ]
    },
    {
     "name": "stdout",
     "output_type": "stream",
     "text": [
      "Segmentation Completed. \n",
      "total_meal: 26 TP:  7 FP:  19 FN:  0\n",
      "Segmentation Completed. \n"
     ]
    },
    {
     "name": "stderr",
     "output_type": "stream",
     "text": [
      "100%|██████████| 2/2 [00:00<00:00, 197.08it/s]\n"
     ]
    },
    {
     "name": "stdout",
     "output_type": "stream",
     "text": [
      "total_meal: 26 TP:  4 FP:  9 FN:  0\n",
      "Segmentation Completed. \n",
      "total_meal: 26 TP:  3 FP:  7 FN:  0\n"
     ]
    },
    {
     "name": "stderr",
     "output_type": "stream",
     "text": [
      "100%|██████████| 2/2 [00:00<00:00, 204.04it/s]\n",
      "100%|██████████| 3/3 [00:00<00:00, 212.28it/s]\n"
     ]
    },
    {
     "name": "stdout",
     "output_type": "stream",
     "text": [
      "Segmentation Completed. \n",
      "total_meal: 26 TP:  6 FP:  7 FN:  0\n",
      "  dataset    Ts    Te  TP  FN  FP  TPR  FP/TP\n",
      "0   james  0.65  0.15  26   0  62  1.0  2.385\n",
      "Segmentation Completed. \n",
      "total_meal: 26 TP:  6 FP:  21 FN:  0\n"
     ]
    },
    {
     "name": "stderr",
     "output_type": "stream",
     "text": [
      "100%|██████████| 3/3 [00:00<00:00, 206.06it/s]\n",
      "100%|██████████| 2/2 [00:00<00:00, 186.63it/s]\n"
     ]
    },
    {
     "name": "stdout",
     "output_type": "stream",
     "text": [
      "Segmentation Completed. \n",
      "total_meal: 26 TP:  7 FP:  19 FN:  0\n",
      "Segmentation Completed. \n",
      "total_meal: 26 TP:  4 FP:  9 FN:  0\n"
     ]
    },
    {
     "name": "stderr",
     "output_type": "stream",
     "text": [
      "100%|██████████| 2/2 [00:00<00:00, 168.40it/s]\n",
      "100%|██████████| 2/2 [00:00<00:00, 156.52it/s]\n"
     ]
    },
    {
     "name": "stdout",
     "output_type": "stream",
     "text": [
      "Segmentation Completed. \n",
      "total_meal: 26 TP:  3 FP:  7 FN:  0\n",
      "Segmentation Completed. \n"
     ]
    },
    {
     "name": "stderr",
     "output_type": "stream",
     "text": [
      "100%|██████████| 3/3 [00:00<00:00, 203.86it/s]\n"
     ]
    },
    {
     "name": "stdout",
     "output_type": "stream",
     "text": [
      "total_meal: 26 TP:  6 FP:  9 FN:  0\n",
      "  dataset    Ts   Te  TP  FN  FP  TPR  FP/TP\n",
      "0   james  0.65  0.2  26   0  65  1.0    2.5\n",
      "Segmentation Completed. \n",
      "total_meal: 26 TP:  6 FP:  22 FN:  0\n"
     ]
    },
    {
     "name": "stderr",
     "output_type": "stream",
     "text": [
      "100%|██████████| 3/3 [00:00<00:00, 184.93it/s]\n",
      "100%|██████████| 2/2 [00:00<00:00, 201.43it/s]\n"
     ]
    },
    {
     "name": "stdout",
     "output_type": "stream",
     "text": [
      "Segmentation Completed. \n",
      "total_meal: 26 TP:  7 FP:  21 FN:  0\n",
      "Segmentation Completed. \n",
      "total_meal: 26 TP:  4 FP:  11 FN:  0\n"
     ]
    },
    {
     "name": "stderr",
     "output_type": "stream",
     "text": [
      "100%|██████████| 2/2 [00:00<00:00, 200.79it/s]\n",
      "100%|██████████| 2/2 [00:00<00:00, 180.10it/s]\n"
     ]
    },
    {
     "name": "stdout",
     "output_type": "stream",
     "text": [
      "Segmentation Completed. \n",
      "total_meal: 26 TP:  3 FP:  7 FN:  0\n",
      "Segmentation Completed. \n",
      "total_meal: 26 TP:  6 FP:  9 FN:  0\n",
      "  dataset    Ts    Te  TP  FN  FP  TPR  FP/TP\n",
      "0   james  0.65  0.25  26   0  70  1.0  2.692\n"
     ]
    },
    {
     "name": "stderr",
     "output_type": "stream",
     "text": [
      "100%|██████████| 3/3 [00:00<00:00, 165.34it/s]\n"
     ]
    },
    {
     "name": "stdout",
     "output_type": "stream",
     "text": [
      "Segmentation Completed. \n",
      "total_meal: 26 TP:  6 FP:  23 FN:  0\n"
     ]
    },
    {
     "name": "stderr",
     "output_type": "stream",
     "text": [
      "100%|██████████| 3/3 [00:00<00:00, 175.25it/s]\n",
      "100%|██████████| 2/2 [00:00<00:00, 193.12it/s]\n"
     ]
    },
    {
     "name": "stdout",
     "output_type": "stream",
     "text": [
      "Segmentation Completed. \n",
      "total_meal: 26 TP:  7 FP:  21 FN:  0\n",
      "Segmentation Completed. \n",
      "total_meal: 26 TP:  4 FP:  11 FN:  0\n"
     ]
    },
    {
     "name": "stderr",
     "output_type": "stream",
     "text": [
      "100%|██████████| 2/2 [00:00<00:00, 192.89it/s]\n",
      "100%|██████████| 2/2 [00:00<00:00, 207.21it/s]\n"
     ]
    },
    {
     "name": "stdout",
     "output_type": "stream",
     "text": [
      "Segmentation Completed. \n",
      "total_meal: 26 TP:  3 FP:  7 FN:  0\n",
      "Segmentation Completed. \n",
      "total_meal: 26 TP:  6 FP:  10 FN:  0\n",
      "  dataset    Ts   Te  TP  FN  FP  TPR  FP/TP\n",
      "0   james  0.65  0.3  26   0  72  1.0  2.769\n"
     ]
    },
    {
     "name": "stderr",
     "output_type": "stream",
     "text": [
      "100%|██████████| 3/3 [00:00<00:00, 207.50it/s]\n",
      "100%|██████████| 3/3 [00:00<00:00, 190.39it/s]\n"
     ]
    },
    {
     "name": "stdout",
     "output_type": "stream",
     "text": [
      "Segmentation Completed. \n",
      "total_meal: 26 TP:  6 FP:  23 FN:  0\n",
      "Segmentation Completed. \n"
     ]
    },
    {
     "name": "stderr",
     "output_type": "stream",
     "text": [
      "100%|██████████| 2/2 [00:00<00:00, 152.81it/s]"
     ]
    },
    {
     "name": "stdout",
     "output_type": "stream",
     "text": [
      "total_meal: 26 TP:  7 FP:  21 FN:  0\n",
      "Segmentation Completed. \n"
     ]
    },
    {
     "name": "stderr",
     "output_type": "stream",
     "text": [
      "\n",
      "100%|██████████| 2/2 [00:00<00:00, 200.64it/s]\n"
     ]
    },
    {
     "name": "stdout",
     "output_type": "stream",
     "text": [
      "total_meal: 26 TP:  4 FP:  11 FN:  0\n",
      "Segmentation Completed. \n",
      "total_meal: 26 TP:  3 FP:  7 FN:  0\n"
     ]
    },
    {
     "name": "stderr",
     "output_type": "stream",
     "text": [
      "100%|██████████| 2/2 [00:00<00:00, 195.41it/s]\n",
      "100%|██████████| 3/3 [00:00<00:00, 202.18it/s]\n"
     ]
    },
    {
     "name": "stdout",
     "output_type": "stream",
     "text": [
      "Segmentation Completed. \n",
      "total_meal: 26 TP:  6 FP:  11 FN:  0\n",
      "  dataset    Ts    Te  TP  FN  FP  TPR  FP/TP\n",
      "0   james  0.65  0.35  26   0  73  1.0  2.808\n",
      "Segmentation Completed. \n"
     ]
    },
    {
     "name": "stderr",
     "output_type": "stream",
     "text": [
      "100%|██████████| 3/3 [00:00<00:00, 203.64it/s]\n"
     ]
    },
    {
     "name": "stdout",
     "output_type": "stream",
     "text": [
      "total_meal: 26 TP:  6 FP:  23 FN:  0\n",
      "Segmentation Completed. \n",
      "total_meal: 26 TP:  7 FP:  21 FN:  0\n"
     ]
    },
    {
     "name": "stderr",
     "output_type": "stream",
     "text": [
      "100%|██████████| 2/2 [00:00<00:00, 198.12it/s]\n",
      "100%|██████████| 2/2 [00:00<00:00, 193.36it/s]\n"
     ]
    },
    {
     "name": "stdout",
     "output_type": "stream",
     "text": [
      "Segmentation Completed. \n",
      "total_meal: 26 TP:  4 FP:  11 FN:  0\n",
      "Segmentation Completed. \n"
     ]
    },
    {
     "name": "stderr",
     "output_type": "stream",
     "text": [
      "100%|██████████| 2/2 [00:00<00:00, 156.14it/s]\n",
      "  0%|          | 0/3 [00:00<?, ?it/s]"
     ]
    },
    {
     "name": "stdout",
     "output_type": "stream",
     "text": [
      "total_meal: 26 TP:  3 FP:  7 FN:  0\n",
      "Segmentation Completed. \n",
      "total_meal: 26 TP:  6 FP:  11 FN:  0\n",
      "  dataset    Ts   Te  TP  FN  FP  TPR  FP/TP\n",
      "0   james  0.65  0.4  26   0  73  1.0  2.808\n"
     ]
    },
    {
     "name": "stderr",
     "output_type": "stream",
     "text": [
      "100%|██████████| 3/3 [00:00<00:00, 169.93it/s]\n",
      "100%|██████████| 3/3 [00:00<00:00, 201.05it/s]\n"
     ]
    },
    {
     "name": "stdout",
     "output_type": "stream",
     "text": [
      "Segmentation Completed. \n",
      "total_meal: 26 TP:  6 FP:  22 FN:  0\n",
      "Segmentation Completed. \n"
     ]
    },
    {
     "name": "stderr",
     "output_type": "stream",
     "text": [
      "100%|██████████| 2/2 [00:00<00:00, 199.24it/s]\n"
     ]
    },
    {
     "name": "stdout",
     "output_type": "stream",
     "text": [
      "total_meal: 26 TP:  7 FP:  21 FN:  0\n",
      "Segmentation Completed. \n",
      "total_meal: 26 TP:  4 FP:  11 FN:  0\n"
     ]
    },
    {
     "name": "stderr",
     "output_type": "stream",
     "text": [
      "100%|██████████| 2/2 [00:00<00:00, 202.20it/s]\n",
      "100%|██████████| 2/2 [00:00<00:00, 198.26it/s]\n"
     ]
    },
    {
     "name": "stdout",
     "output_type": "stream",
     "text": [
      "Segmentation Completed. \n",
      "total_meal: 26 TP:  3 FP:  7 FN:  0\n",
      "Segmentation Completed. \n",
      "total_meal: 26 TP:  6 FP:  10 FN:  0\n",
      "  dataset    Ts    Te  TP  FN  FP  TPR  FP/TP\n",
      "0   james  0.65  0.45  26   0  71  1.0  2.731\n"
     ]
    },
    {
     "name": "stderr",
     "output_type": "stream",
     "text": [
      "100%|██████████| 3/3 [00:00<00:00, 199.01it/s]\n",
      "  0%|          | 0/3 [00:00<?, ?it/s]"
     ]
    },
    {
     "name": "stdout",
     "output_type": "stream",
     "text": [
      "Segmentation Completed. \n",
      "total_meal: 26 TP:  6 FP:  16 FN:  0\n"
     ]
    },
    {
     "name": "stderr",
     "output_type": "stream",
     "text": [
      "100%|██████████| 3/3 [00:00<00:00, 157.57it/s]\n",
      "100%|██████████| 2/2 [00:00<00:00, 163.37it/s]\n"
     ]
    },
    {
     "name": "stdout",
     "output_type": "stream",
     "text": [
      "Segmentation Completed. \n",
      "total_meal: 26 TP:  7 FP:  14 FN:  0\n",
      "Segmentation Completed. \n"
     ]
    },
    {
     "name": "stderr",
     "output_type": "stream",
     "text": [
      "100%|██████████| 2/2 [00:00<00:00, 210.28it/s]\n"
     ]
    },
    {
     "name": "stdout",
     "output_type": "stream",
     "text": [
      "total_meal: 26 TP:  4 FP:  5 FN:  0\n",
      "Segmentation Completed. \n",
      "total_meal: 26 TP:  3 FP:  5 FN:  0\n"
     ]
    },
    {
     "name": "stderr",
     "output_type": "stream",
     "text": [
      "100%|██████████| 2/2 [00:00<00:00, 213.35it/s]\n",
      "100%|██████████| 3/3 [00:00<00:00, 226.83it/s]\n"
     ]
    },
    {
     "name": "stdout",
     "output_type": "stream",
     "text": [
      "Segmentation Completed. \n",
      "total_meal: 26 TP:  6 FP:  7 FN:  0\n",
      "  dataset   Ts   Te  TP  FN  FP  TPR  FP/TP\n",
      "0   james  0.7  0.1  26   0  47  1.0  1.808\n",
      "Segmentation Completed. \n",
      "total_meal: 26 TP:  6 FP:  19 FN:  0\n"
     ]
    },
    {
     "name": "stderr",
     "output_type": "stream",
     "text": [
      "100%|██████████| 3/3 [00:00<00:00, 220.34it/s]\n",
      "100%|██████████| 2/2 [00:00<00:00, 216.07it/s]\n"
     ]
    },
    {
     "name": "stdout",
     "output_type": "stream",
     "text": [
      "Segmentation Completed. \n",
      "total_meal: 26 TP:  7 FP:  16 FN:  0\n",
      "Segmentation Completed. \n",
      "total_meal: 26 TP:  4 FP:  6 FN:  0\n"
     ]
    },
    {
     "name": "stderr",
     "output_type": "stream",
     "text": [
      "100%|██████████| 2/2 [00:00<00:00, 215.72it/s]\n",
      "100%|██████████| 2/2 [00:00<00:00, 218.80it/s]\n"
     ]
    },
    {
     "name": "stdout",
     "output_type": "stream",
     "text": [
      "Segmentation Completed. \n",
      "total_meal: 26 TP:  3 FP:  5 FN:  0\n",
      "Segmentation Completed. \n",
      "total_meal: 26 TP:  6 FP:  10 FN:  0\n",
      "  dataset   Ts    Te  TP  FN  FP  TPR  FP/TP\n",
      "0   james  0.7  0.15  26   0  56  1.0  2.154\n"
     ]
    },
    {
     "name": "stderr",
     "output_type": "stream",
     "text": [
      "100%|██████████| 3/3 [00:00<00:00, 228.51it/s]\n",
      "100%|██████████| 3/3 [00:00<00:00, 221.19it/s]\n"
     ]
    },
    {
     "name": "stdout",
     "output_type": "stream",
     "text": [
      "Segmentation Completed. \n",
      "total_meal: 26 TP:  6 FP:  20 FN:  0\n",
      "Segmentation Completed. \n",
      "total_meal: 26 TP:  7 FP:  16 FN:  0\n"
     ]
    },
    {
     "name": "stderr",
     "output_type": "stream",
     "text": [
      "100%|██████████| 2/2 [00:00<00:00, 218.16it/s]\n",
      "100%|██████████| 2/2 [00:00<00:00, 218.57it/s]\n"
     ]
    },
    {
     "name": "stdout",
     "output_type": "stream",
     "text": [
      "Segmentation Completed. \n",
      "total_meal: 26 TP:  4 FP:  7 FN:  0\n",
      "Segmentation Completed. \n",
      "total_meal: 26 TP:  3 FP:  5 FN:  0\n"
     ]
    },
    {
     "name": "stderr",
     "output_type": "stream",
     "text": [
      "100%|██████████| 2/2 [00:00<00:00, 218.19it/s]\n",
      "100%|██████████| 3/3 [00:00<00:00, 226.76it/s]\n"
     ]
    },
    {
     "name": "stdout",
     "output_type": "stream",
     "text": [
      "Segmentation Completed. \n",
      "total_meal: 26 TP:  6 FP:  10 FN:  0\n",
      "  dataset   Ts   Te  TP  FN  FP  TPR  FP/TP\n",
      "0   james  0.7  0.2  26   0  58  1.0  2.231\n",
      "Segmentation Completed. \n",
      "total_meal: 26 TP:  6 FP:  20 FN:  0\n"
     ]
    },
    {
     "name": "stderr",
     "output_type": "stream",
     "text": [
      "100%|██████████| 3/3 [00:00<00:00, 220.15it/s]\n",
      "100%|██████████| 2/2 [00:00<00:00, 219.61it/s]\n"
     ]
    },
    {
     "name": "stdout",
     "output_type": "stream",
     "text": [
      "Segmentation Completed. \n",
      "total_meal: 26 TP:  7 FP:  16 FN:  0\n",
      "Segmentation Completed. \n",
      "total_meal: 26 TP:  4 FP:  8 FN:  0\n"
     ]
    },
    {
     "name": "stderr",
     "output_type": "stream",
     "text": [
      "100%|██████████| 2/2 [00:00<00:00, 185.54it/s]\n",
      "100%|██████████| 2/2 [00:00<00:00, 199.79it/s]\n"
     ]
    },
    {
     "name": "stdout",
     "output_type": "stream",
     "text": [
      "Segmentation Completed. \n",
      "total_meal: 26 TP:  3 FP:  5 FN:  0\n",
      "Segmentation Completed. \n",
      "total_meal: 26 TP:  6 FP:  10 FN:  0\n",
      "  dataset   Ts    Te  TP  FN  FP  TPR  FP/TP\n",
      "0   james  0.7  0.25  26   0  59  1.0  2.269\n"
     ]
    },
    {
     "name": "stderr",
     "output_type": "stream",
     "text": [
      "100%|██████████| 3/3 [00:00<00:00, 209.26it/s]\n",
      "100%|██████████| 3/3 [00:00<00:00, 200.47it/s]\n"
     ]
    },
    {
     "name": "stdout",
     "output_type": "stream",
     "text": [
      "Segmentation Completed. \n",
      "total_meal: 26 TP:  6 FP:  21 FN:  0\n",
      "Segmentation Completed. \n",
      "total_meal: 26 TP:  7 FP:  16 FN:  0\n"
     ]
    },
    {
     "name": "stderr",
     "output_type": "stream",
     "text": [
      "100%|██████████| 2/2 [00:00<00:00, 168.16it/s]\n",
      "100%|██████████| 2/2 [00:00<00:00, 155.60it/s]\n"
     ]
    },
    {
     "name": "stdout",
     "output_type": "stream",
     "text": [
      "Segmentation Completed. \n",
      "total_meal: 26 TP:  4 FP:  8 FN:  0\n",
      "Segmentation Completed. \n"
     ]
    },
    {
     "name": "stderr",
     "output_type": "stream",
     "text": [
      "100%|██████████| 2/2 [00:00<00:00, 165.14it/s]\n"
     ]
    },
    {
     "name": "stdout",
     "output_type": "stream",
     "text": [
      "total_meal: 26 TP:  3 FP:  5 FN:  0\n",
      "Segmentation Completed. \n",
      "total_meal: 26 TP:  6 FP:  11 FN:  0\n",
      "  dataset   Ts   Te  TP  FN  FP  TPR  FP/TP\n",
      "0   james  0.7  0.3  26   0  61  1.0  2.346\n"
     ]
    },
    {
     "name": "stderr",
     "output_type": "stream",
     "text": [
      "100%|██████████| 3/3 [00:00<00:00, 194.13it/s]\n",
      "100%|██████████| 3/3 [00:00<00:00, 206.48it/s]\n"
     ]
    },
    {
     "name": "stdout",
     "output_type": "stream",
     "text": [
      "Segmentation Completed. \n",
      "total_meal: 26 TP:  6 FP:  21 FN:  0\n",
      "Segmentation Completed. \n"
     ]
    },
    {
     "name": "stderr",
     "output_type": "stream",
     "text": [
      "100%|██████████| 2/2 [00:00<00:00, 199.42it/s]\n"
     ]
    },
    {
     "name": "stdout",
     "output_type": "stream",
     "text": [
      "total_meal: 26 TP:  7 FP:  17 FN:  0\n",
      "Segmentation Completed. \n",
      "total_meal: 26 TP:  4 FP:  8 FN:  0\n"
     ]
    },
    {
     "name": "stderr",
     "output_type": "stream",
     "text": [
      "100%|██████████| 2/2 [00:00<00:00, 198.30it/s]\n",
      "100%|██████████| 2/2 [00:00<00:00, 182.27it/s]\n"
     ]
    },
    {
     "name": "stdout",
     "output_type": "stream",
     "text": [
      "Segmentation Completed. \n",
      "total_meal: 26 TP:  3 FP:  5 FN:  0\n",
      "Segmentation Completed. \n"
     ]
    },
    {
     "name": "stderr",
     "output_type": "stream",
     "text": [
      "100%|██████████| 3/3 [00:00<00:00, 166.38it/s]"
     ]
    },
    {
     "name": "stdout",
     "output_type": "stream",
     "text": [
      "total_meal: 26 TP:  6 FP:  12 FN:  0\n",
      "  dataset   Ts    Te  TP  FN  FP  TPR  FP/TP\n",
      "0   james  0.7  0.35  26   0  63  1.0  2.423\n",
      "Segmentation Completed. \n"
     ]
    },
    {
     "name": "stderr",
     "output_type": "stream",
     "text": [
      "\n",
      "100%|██████████| 3/3 [00:00<00:00, 211.89it/s]\n"
     ]
    },
    {
     "name": "stdout",
     "output_type": "stream",
     "text": [
      "total_meal: 26 TP:  6 FP:  20 FN:  0\n",
      "Segmentation Completed. \n",
      "total_meal: 26 TP:  7 FP:  17 FN:  0\n"
     ]
    },
    {
     "name": "stderr",
     "output_type": "stream",
     "text": [
      "100%|██████████| 2/2 [00:00<00:00, 193.86it/s]\n",
      "100%|██████████| 2/2 [00:00<00:00, 206.12it/s]\n"
     ]
    },
    {
     "name": "stdout",
     "output_type": "stream",
     "text": [
      "Segmentation Completed. \n",
      "total_meal: 26 TP:  4 FP:  8 FN:  0\n",
      "Segmentation Completed. \n",
      "total_meal: 26 TP:  3 FP:  5 FN:  0\n"
     ]
    },
    {
     "name": "stderr",
     "output_type": "stream",
     "text": [
      "100%|██████████| 2/2 [00:00<00:00, 203.22it/s]\n",
      "100%|██████████| 3/3 [00:00<00:00, 211.36it/s]\n"
     ]
    },
    {
     "name": "stdout",
     "output_type": "stream",
     "text": [
      "Segmentation Completed. \n",
      "total_meal: 26 TP:  6 FP:  12 FN:  0\n",
      "  dataset   Ts   Te  TP  FN  FP  TPR  FP/TP\n",
      "0   james  0.7  0.4  26   0  62  1.0  2.385\n",
      "Segmentation Completed. \n",
      "total_meal: 26 TP:  6 FP:  19 FN:  0\n"
     ]
    },
    {
     "name": "stderr",
     "output_type": "stream",
     "text": [
      "100%|██████████| 3/3 [00:00<00:00, 113.88it/s]\n",
      "  0%|          | 0/2 [00:00<?, ?it/s]"
     ]
    },
    {
     "name": "stdout",
     "output_type": "stream",
     "text": [
      "Segmentation Completed. \n",
      "total_meal: 26 TP:  7 FP:  17 FN:  0\n"
     ]
    },
    {
     "name": "stderr",
     "output_type": "stream",
     "text": [
      "100%|██████████| 2/2 [00:00<00:00, 156.32it/s]\n",
      "100%|██████████| 2/2 [00:00<00:00, 209.26it/s]\n"
     ]
    },
    {
     "name": "stdout",
     "output_type": "stream",
     "text": [
      "Segmentation Completed. \n",
      "total_meal: 26 TP:  4 FP:  8 FN:  0\n",
      "Segmentation Completed. \n"
     ]
    },
    {
     "name": "stderr",
     "output_type": "stream",
     "text": [
      "100%|██████████| 2/2 [00:00<00:00, 196.76it/s]\n",
      "100%|██████████| 3/3 [00:00<00:00, 216.18it/s]\n"
     ]
    },
    {
     "name": "stdout",
     "output_type": "stream",
     "text": [
      "total_meal: 26 TP:  3 FP:  5 FN:  0\n",
      "Segmentation Completed. \n",
      "total_meal: 26 TP:  6 FP:  12 FN:  0\n",
      "  dataset   Ts    Te  TP  FN  FP  TPR  FP/TP\n",
      "0   james  0.7  0.45  26   0  61  1.0  2.346\n",
      "Segmentation Completed. \n"
     ]
    },
    {
     "name": "stderr",
     "output_type": "stream",
     "text": [
      "100%|██████████| 3/3 [00:00<00:00, 205.19it/s]\n"
     ]
    },
    {
     "name": "stdout",
     "output_type": "stream",
     "text": [
      "total_meal: 26 TP:  6 FP:  13 FN:  0\n",
      "Segmentation Completed. \n",
      "total_meal: 26 TP:  7 FP:  13 FN:  0\n"
     ]
    },
    {
     "name": "stderr",
     "output_type": "stream",
     "text": [
      "100%|██████████| 2/2 [00:00<00:00, 192.17it/s]\n",
      "100%|██████████| 2/2 [00:00<00:00, 156.77it/s]\n"
     ]
    },
    {
     "name": "stdout",
     "output_type": "stream",
     "text": [
      "Segmentation Completed. \n",
      "total_meal: 26 TP:  4 FP:  5 FN:  0\n",
      "Segmentation Completed. \n"
     ]
    },
    {
     "name": "stderr",
     "output_type": "stream",
     "text": [
      "100%|██████████| 2/2 [00:00<00:00, 161.80it/s]\n"
     ]
    },
    {
     "name": "stdout",
     "output_type": "stream",
     "text": [
      "total_meal: 26 TP:  3 FP:  4 FN:  0\n",
      "Segmentation Completed. \n",
      "total_meal: 26 TP:  6 FP:  7 FN:  0\n"
     ]
    },
    {
     "name": "stderr",
     "output_type": "stream",
     "text": [
      "100%|██████████| 3/3 [00:00<00:00, 217.99it/s]\n"
     ]
    },
    {
     "name": "stdout",
     "output_type": "stream",
     "text": [
      "  dataset    Ts   Te  TP  FN  FP  TPR  FP/TP\n",
      "0   james  0.75  0.1  26   0  42  1.0  1.615\n",
      "Segmentation Completed. \n",
      "total_meal: 26 TP:  6 FP:  14 FN:  0\n"
     ]
    },
    {
     "name": "stderr",
     "output_type": "stream",
     "text": [
      "100%|██████████| 3/3 [00:00<00:00, 188.30it/s]\n",
      "100%|██████████| 2/2 [00:00<00:00, 204.80it/s]\n"
     ]
    },
    {
     "name": "stdout",
     "output_type": "stream",
     "text": [
      "Segmentation Completed. \n",
      "total_meal: 26 TP:  7 FP:  15 FN:  0\n",
      "Segmentation Completed. \n",
      "total_meal: 26 TP:  4 FP:  5 FN:  0\n"
     ]
    },
    {
     "name": "stderr",
     "output_type": "stream",
     "text": [
      "100%|██████████| 2/2 [00:00<00:00, 201.62it/s]\n",
      "100%|██████████| 2/2 [00:00<00:00, 201.90it/s]\n"
     ]
    },
    {
     "name": "stdout",
     "output_type": "stream",
     "text": [
      "Segmentation Completed. \n",
      "total_meal: 26 TP:  3 FP:  4 FN:  0\n",
      "Segmentation Completed. \n",
      "total_meal: 26 TP:  6 FP:  9 FN:  0\n",
      "  dataset    Ts    Te  TP  FN  FP  TPR  FP/TP\n",
      "0   james  0.75  0.15  26   0  47  1.0  1.808\n"
     ]
    },
    {
     "name": "stderr",
     "output_type": "stream",
     "text": [
      "100%|██████████| 3/3 [00:00<00:00, 171.87it/s]\n",
      "  0%|          | 0/3 [00:00<?, ?it/s]"
     ]
    },
    {
     "name": "stdout",
     "output_type": "stream",
     "text": [
      "Segmentation Completed. \n",
      "total_meal: 26 TP:  6 FP:  15 FN:  0\n"
     ]
    },
    {
     "name": "stderr",
     "output_type": "stream",
     "text": [
      "100%|██████████| 3/3 [00:00<00:00, 160.94it/s]\n",
      "100%|██████████| 2/2 [00:00<00:00, 205.76it/s]\n"
     ]
    },
    {
     "name": "stdout",
     "output_type": "stream",
     "text": [
      "Segmentation Completed. \n",
      "total_meal: 26 TP:  7 FP:  15 FN:  0\n",
      "Segmentation Completed. \n"
     ]
    },
    {
     "name": "stderr",
     "output_type": "stream",
     "text": [
      "100%|██████████| 2/2 [00:00<00:00, 195.06it/s]\n"
     ]
    },
    {
     "name": "stdout",
     "output_type": "stream",
     "text": [
      "total_meal: 26 TP:  4 FP:  6 FN:  0\n",
      "Segmentation Completed. \n",
      "total_meal: 26 TP:  3 FP:  4 FN:  0\n"
     ]
    },
    {
     "name": "stderr",
     "output_type": "stream",
     "text": [
      "100%|██████████| 2/2 [00:00<00:00, 204.10it/s]\n",
      "100%|██████████| 3/3 [00:00<00:00, 213.47it/s]\n"
     ]
    },
    {
     "name": "stdout",
     "output_type": "stream",
     "text": [
      "Segmentation Completed. \n",
      "total_meal: 26 TP:  6 FP:  9 FN:  0\n",
      "  dataset    Ts   Te  TP  FN  FP  TPR  FP/TP\n",
      "0   james  0.75  0.2  26   0  49  1.0  1.885\n",
      "Segmentation Completed. \n",
      "total_meal: 26 TP:  6 FP:  15 FN:  0\n"
     ]
    },
    {
     "name": "stderr",
     "output_type": "stream",
     "text": [
      "100%|██████████| 3/3 [00:00<00:00, 203.54it/s]\n",
      "100%|██████████| 2/2 [00:00<00:00, 162.53it/s]\n"
     ]
    },
    {
     "name": "stdout",
     "output_type": "stream",
     "text": [
      "Segmentation Completed. \n",
      "total_meal: 26 TP:  7 FP:  16 FN:  0\n",
      "Segmentation Completed. \n"
     ]
    },
    {
     "name": "stderr",
     "output_type": "stream",
     "text": [
      "100%|██████████| 2/2 [00:00<00:00, 152.81it/s]"
     ]
    },
    {
     "name": "stdout",
     "output_type": "stream",
     "text": [
      "total_meal: 26 TP:  4 FP:  7 FN:  0\n",
      "Segmentation Completed. \n"
     ]
    },
    {
     "name": "stderr",
     "output_type": "stream",
     "text": [
      "\n",
      "100%|██████████| 2/2 [00:00<00:00, 201.18it/s]\n"
     ]
    },
    {
     "name": "stdout",
     "output_type": "stream",
     "text": [
      "total_meal: 26 TP:  3 FP:  4 FN:  0\n",
      "Segmentation Completed. \n",
      "total_meal: 26 TP:  6 FP:  9 FN:  0\n",
      "  dataset    Ts    Te  TP  FN  FP  TPR  FP/TP\n",
      "0   james  0.75  0.25  26   0  51  1.0  1.962\n"
     ]
    },
    {
     "name": "stderr",
     "output_type": "stream",
     "text": [
      "100%|██████████| 3/3 [00:00<00:00, 198.71it/s]\n",
      "100%|██████████| 3/3 [00:00<00:00, 207.24it/s]\n"
     ]
    },
    {
     "name": "stdout",
     "output_type": "stream",
     "text": [
      "Segmentation Completed. \n",
      "total_meal: 26 TP:  6 FP:  16 FN:  0\n",
      "Segmentation Completed. \n"
     ]
    },
    {
     "name": "stderr",
     "output_type": "stream",
     "text": [
      "100%|██████████| 2/2 [00:00<00:00, 197.81it/s]\n"
     ]
    },
    {
     "name": "stdout",
     "output_type": "stream",
     "text": [
      "total_meal: 26 TP:  7 FP:  17 FN:  0\n",
      "Segmentation Completed. \n",
      "total_meal: 26 TP:  4 FP:  7 FN:  0\n"
     ]
    },
    {
     "name": "stderr",
     "output_type": "stream",
     "text": [
      "100%|██████████| 2/2 [00:00<00:00, 190.30it/s]\n",
      "100%|██████████| 2/2 [00:00<00:00, 155.30it/s]\n"
     ]
    },
    {
     "name": "stdout",
     "output_type": "stream",
     "text": [
      "Segmentation Completed. \n",
      "total_meal: 26 TP:  3 FP:  4 FN:  0\n",
      "Segmentation Completed. \n"
     ]
    },
    {
     "name": "stderr",
     "output_type": "stream",
     "text": [
      "100%|██████████| 3/3 [00:00<00:00, 164.15it/s]"
     ]
    },
    {
     "name": "stdout",
     "output_type": "stream",
     "text": [
      "total_meal: 26 TP:  5 FP:  11 FN:  1\n",
      "  dataset    Ts   Te  TP  FN  FP    TPR  FP/TP\n",
      "0   james  0.75  0.3  25   1  55  0.962    2.2\n",
      "Segmentation Completed. \n"
     ]
    },
    {
     "name": "stderr",
     "output_type": "stream",
     "text": [
      "\n",
      "100%|██████████| 3/3 [00:00<00:00, 203.96it/s]\n"
     ]
    },
    {
     "name": "stdout",
     "output_type": "stream",
     "text": [
      "total_meal: 26 TP:  6 FP:  16 FN:  0\n",
      "Segmentation Completed. \n",
      "total_meal: 26 TP:  7 FP:  18 FN:  0\n"
     ]
    },
    {
     "name": "stderr",
     "output_type": "stream",
     "text": [
      "100%|██████████| 2/2 [00:00<00:00, 185.28it/s]\n",
      "100%|██████████| 2/2 [00:00<00:00, 203.04it/s]\n"
     ]
    },
    {
     "name": "stdout",
     "output_type": "stream",
     "text": [
      "Segmentation Completed. \n",
      "total_meal: 26 TP:  4 FP:  7 FN:  0\n",
      "Segmentation Completed. \n",
      "total_meal: 26 TP:  3 FP:  5 FN:  0\n"
     ]
    },
    {
     "name": "stderr",
     "output_type": "stream",
     "text": [
      "100%|██████████| 2/2 [00:00<00:00, 201.92it/s]\n",
      "100%|██████████| 3/3 [00:00<00:00, 191.24it/s]\n"
     ]
    },
    {
     "name": "stdout",
     "output_type": "stream",
     "text": [
      "Segmentation Completed. \n",
      "total_meal: 26 TP:  5 FP:  12 FN:  1\n",
      "  dataset    Ts    Te  TP  FN  FP    TPR  FP/TP\n",
      "0   james  0.75  0.35  25   1  58  0.962   2.32\n",
      "Segmentation Completed. \n"
     ]
    },
    {
     "name": "stderr",
     "output_type": "stream",
     "text": [
      "100%|██████████| 3/3 [00:00<00:00, 210.00it/s]\n"
     ]
    },
    {
     "name": "stdout",
     "output_type": "stream",
     "text": [
      "total_meal: 26 TP:  6 FP:  16 FN:  0\n",
      "Segmentation Completed. \n",
      "total_meal: 26 TP:  7 FP:  18 FN:  0\n"
     ]
    },
    {
     "name": "stderr",
     "output_type": "stream",
     "text": [
      "100%|██████████| 2/2 [00:00<00:00, 219.93it/s]\n",
      "100%|██████████| 2/2 [00:00<00:00, 219.26it/s]\n"
     ]
    },
    {
     "name": "stdout",
     "output_type": "stream",
     "text": [
      "Segmentation Completed. \n",
      "total_meal: 26 TP:  4 FP:  7 FN:  0\n",
      "Segmentation Completed. \n",
      "total_meal: 26 TP:  3 FP:  5 FN:  0\n"
     ]
    },
    {
     "name": "stderr",
     "output_type": "stream",
     "text": [
      "100%|██████████| 2/2 [00:00<00:00, 220.86it/s]\n",
      "100%|██████████| 3/3 [00:00<00:00, 229.48it/s]\n"
     ]
    },
    {
     "name": "stdout",
     "output_type": "stream",
     "text": [
      "Segmentation Completed. \n",
      "total_meal: 26 TP:  5 FP:  12 FN:  1\n",
      "  dataset    Ts   Te  TP  FN  FP    TPR  FP/TP\n",
      "0   james  0.75  0.4  25   1  58  0.962   2.32\n",
      "Segmentation Completed. \n",
      "total_meal: 26 TP:  6 FP:  16 FN:  0\n"
     ]
    },
    {
     "name": "stderr",
     "output_type": "stream",
     "text": [
      "100%|██████████| 3/3 [00:00<00:00, 219.98it/s]\n",
      "100%|██████████| 2/2 [00:00<00:00, 220.63it/s]\n"
     ]
    },
    {
     "name": "stdout",
     "output_type": "stream",
     "text": [
      "Segmentation Completed. \n",
      "total_meal: 26 TP:  7 FP:  18 FN:  0\n",
      "Segmentation Completed. \n",
      "total_meal: 26 TP:  4 FP:  7 FN:  0\n"
     ]
    },
    {
     "name": "stderr",
     "output_type": "stream",
     "text": [
      "100%|██████████| 2/2 [00:00<00:00, 210.31it/s]\n",
      "100%|██████████| 2/2 [00:00<00:00, 213.82it/s]\n"
     ]
    },
    {
     "name": "stdout",
     "output_type": "stream",
     "text": [
      "Segmentation Completed. \n",
      "total_meal: 26 TP:  3 FP:  5 FN:  0\n",
      "Segmentation Completed. \n",
      "total_meal: 26 TP:  5 FP:  12 FN:  1\n",
      "  dataset    Ts    Te  TP  FN  FP    TPR  FP/TP\n",
      "0   james  0.75  0.45  25   1  58  0.962   2.32\n"
     ]
    },
    {
     "name": "stderr",
     "output_type": "stream",
     "text": [
      "100%|██████████| 3/3 [00:00<00:00, 230.03it/s]\n",
      "100%|██████████| 3/3 [00:00<00:00, 220.83it/s]\n"
     ]
    },
    {
     "name": "stdout",
     "output_type": "stream",
     "text": [
      "Segmentation Completed. \n",
      "total_meal: 26 TP:  6 FP:  12 FN:  0\n",
      "Segmentation Completed. \n",
      "total_meal: 26 TP:  7 FP:  14 FN:  0\n"
     ]
    },
    {
     "name": "stderr",
     "output_type": "stream",
     "text": [
      "100%|██████████| 2/2 [00:00<00:00, 198.24it/s]\n",
      "100%|██████████| 2/2 [00:00<00:00, 157.92it/s]\n"
     ]
    },
    {
     "name": "stdout",
     "output_type": "stream",
     "text": [
      "Segmentation Completed. \n",
      "total_meal: 26 TP:  4 FP:  3 FN:  0\n",
      "Segmentation Completed. \n"
     ]
    },
    {
     "name": "stderr",
     "output_type": "stream",
     "text": [
      "100%|██████████| 2/2 [00:00<00:00, 159.27it/s]\n"
     ]
    },
    {
     "name": "stdout",
     "output_type": "stream",
     "text": [
      "total_meal: 26 TP:  3 FP:  5 FN:  0\n",
      "Segmentation Completed. \n",
      "total_meal: 26 TP:  5 FP:  8 FN:  1\n"
     ]
    },
    {
     "name": "stderr",
     "output_type": "stream",
     "text": [
      "100%|██████████| 3/3 [00:00<00:00, 205.06it/s]\n"
     ]
    },
    {
     "name": "stdout",
     "output_type": "stream",
     "text": [
      "  dataset   Ts   Te  TP  FN  FP    TPR  FP/TP\n",
      "0   james  0.8  0.1  25   1  42  0.962   1.68\n",
      "Segmentation Completed. \n",
      "total_meal: 26 TP:  6 FP:  13 FN:  0\n"
     ]
    },
    {
     "name": "stderr",
     "output_type": "stream",
     "text": [
      "100%|██████████| 3/3 [00:00<00:00, 184.17it/s]\n",
      "100%|██████████| 2/2 [00:00<00:00, 203.50it/s]\n"
     ]
    },
    {
     "name": "stdout",
     "output_type": "stream",
     "text": [
      "Segmentation Completed. \n",
      "total_meal: 26 TP:  7 FP:  15 FN:  0\n",
      "Segmentation Completed. \n",
      "total_meal: 26 TP:  4 FP:  3 FN:  0\n"
     ]
    },
    {
     "name": "stderr",
     "output_type": "stream",
     "text": [
      "100%|██████████| 2/2 [00:00<00:00, 203.88it/s]\n",
      "100%|██████████| 2/2 [00:00<00:00, 176.38it/s]\n"
     ]
    },
    {
     "name": "stdout",
     "output_type": "stream",
     "text": [
      "Segmentation Completed. \n",
      "total_meal: 26 TP:  3 FP:  5 FN:  0\n",
      "Segmentation Completed. \n",
      "total_meal: 26 TP:  5 FP:  9 FN:  1\n",
      "  dataset   Ts    Te  TP  FN  FP    TPR  FP/TP\n",
      "0   james  0.8  0.15  25   1  45  0.962    1.8\n"
     ]
    },
    {
     "name": "stderr",
     "output_type": "stream",
     "text": [
      "100%|██████████| 3/3 [00:00<00:00, 165.89it/s]\n",
      "  0%|          | 0/3 [00:00<?, ?it/s]"
     ]
    },
    {
     "name": "stdout",
     "output_type": "stream",
     "text": [
      "Segmentation Completed. \n",
      "total_meal: 26 TP:  6 FP:  14 FN:  0\n"
     ]
    },
    {
     "name": "stderr",
     "output_type": "stream",
     "text": [
      "100%|██████████| 3/3 [00:00<00:00, 159.18it/s]\n",
      "100%|██████████| 2/2 [00:00<00:00, 191.84it/s]\n"
     ]
    },
    {
     "name": "stdout",
     "output_type": "stream",
     "text": [
      "Segmentation Completed. \n",
      "total_meal: 26 TP:  7 FP:  16 FN:  0\n",
      "Segmentation Completed. \n"
     ]
    },
    {
     "name": "stderr",
     "output_type": "stream",
     "text": [
      "100%|██████████| 2/2 [00:00<00:00, 180.96it/s]\n"
     ]
    },
    {
     "name": "stdout",
     "output_type": "stream",
     "text": [
      "total_meal: 26 TP:  4 FP:  3 FN:  0\n",
      "Segmentation Completed. \n",
      "total_meal: 26 TP:  3 FP:  5 FN:  0\n"
     ]
    },
    {
     "name": "stderr",
     "output_type": "stream",
     "text": [
      "100%|██████████| 2/2 [00:00<00:00, 205.89it/s]\n",
      "100%|██████████| 3/3 [00:00<00:00, 207.53it/s]\n"
     ]
    },
    {
     "name": "stdout",
     "output_type": "stream",
     "text": [
      "Segmentation Completed. \n",
      "total_meal: 26 TP:  5 FP:  9 FN:  1\n",
      "  dataset   Ts   Te  TP  FN  FP    TPR  FP/TP\n",
      "0   james  0.8  0.2  25   1  47  0.962   1.88\n",
      "Segmentation Completed. \n",
      "total_meal: 26 TP:  6 FP:  14 FN:  0\n"
     ]
    },
    {
     "name": "stderr",
     "output_type": "stream",
     "text": [
      "100%|██████████| 3/3 [00:00<00:00, 186.73it/s]\n",
      "100%|██████████| 2/2 [00:00<00:00, 148.03it/s]\n"
     ]
    },
    {
     "name": "stdout",
     "output_type": "stream",
     "text": [
      "Segmentation Completed. \n",
      "total_meal: 26 TP:  7 FP:  16 FN:  0\n",
      "Segmentation Completed. \n"
     ]
    },
    {
     "name": "stderr",
     "output_type": "stream",
     "text": [
      "100%|██████████| 2/2 [00:00<00:00, 153.47it/s]"
     ]
    },
    {
     "name": "stdout",
     "output_type": "stream",
     "text": [
      "total_meal: 26 TP:  4 FP:  3 FN:  0\n",
      "Segmentation Completed. \n",
      "total_meal: 26 TP:  3 FP:  5 FN:  0\n"
     ]
    },
    {
     "name": "stderr",
     "output_type": "stream",
     "text": [
      "\n",
      "100%|██████████| 2/2 [00:00<00:00, 198.37it/s]\n",
      "100%|██████████| 3/3 [00:00<00:00, 191.33it/s]\n"
     ]
    },
    {
     "name": "stdout",
     "output_type": "stream",
     "text": [
      "Segmentation Completed. \n",
      "total_meal: 26 TP:  5 FP:  9 FN:  1\n",
      "  dataset   Ts    Te  TP  FN  FP    TPR  FP/TP\n",
      "0   james  0.8  0.25  25   1  47  0.962   1.88\n",
      "Segmentation Completed. \n"
     ]
    },
    {
     "name": "stderr",
     "output_type": "stream",
     "text": [
      "100%|██████████| 3/3 [00:00<00:00, 207.18it/s]\n"
     ]
    },
    {
     "name": "stdout",
     "output_type": "stream",
     "text": [
      "total_meal: 26 TP:  6 FP:  15 FN:  0\n",
      "Segmentation Completed. \n",
      "total_meal: 26 TP:  7 FP:  17 FN:  0\n"
     ]
    },
    {
     "name": "stderr",
     "output_type": "stream",
     "text": [
      "100%|██████████| 2/2 [00:00<00:00, 197.34it/s]\n",
      "100%|██████████| 2/2 [00:00<00:00, 178.64it/s]\n"
     ]
    },
    {
     "name": "stdout",
     "output_type": "stream",
     "text": [
      "Segmentation Completed. \n",
      "total_meal: 26 TP:  4 FP:  3 FN:  0\n",
      "Segmentation Completed. \n",
      "total_meal: 26 TP:  3 FP:  5 FN:  0\n"
     ]
    },
    {
     "name": "stderr",
     "output_type": "stream",
     "text": [
      "100%|██████████| 2/2 [00:00<00:00, 157.27it/s]\n"
     ]
    },
    {
     "name": "stdout",
     "output_type": "stream",
     "text": [
      "Segmentation Completed. \n",
      "total_meal: 26 TP:  4 FP:  10 FN:  2\n",
      "  dataset   Ts   Te  TP  FN  FP    TPR  FP/TP\n",
      "0   james  0.8  0.3  24   2  50  0.923  2.083\n"
     ]
    },
    {
     "name": "stderr",
     "output_type": "stream",
     "text": [
      "100%|██████████| 3/3 [00:00<00:00, 165.89it/s]\n",
      "100%|██████████| 3/3 [00:00<00:00, 185.92it/s]\n"
     ]
    },
    {
     "name": "stdout",
     "output_type": "stream",
     "text": [
      "Segmentation Completed. \n",
      "total_meal: 26 TP:  6 FP:  15 FN:  0\n",
      "Segmentation Completed. \n"
     ]
    },
    {
     "name": "stderr",
     "output_type": "stream",
     "text": [
      "100%|██████████| 2/2 [00:00<00:00, 184.83it/s]\n"
     ]
    },
    {
     "name": "stdout",
     "output_type": "stream",
     "text": [
      "total_meal: 26 TP:  7 FP:  17 FN:  0\n",
      "Segmentation Completed. \n",
      "total_meal: 26 TP:  4 FP:  3 FN:  0\n"
     ]
    },
    {
     "name": "stderr",
     "output_type": "stream",
     "text": [
      "100%|██████████| 2/2 [00:00<00:00, 201.75it/s]\n",
      "100%|██████████| 2/2 [00:00<00:00, 199.70it/s]\n"
     ]
    },
    {
     "name": "stdout",
     "output_type": "stream",
     "text": [
      "Segmentation Completed. \n",
      "total_meal: 26 TP:  3 FP:  5 FN:  0\n",
      "Segmentation Completed. \n",
      "total_meal: 26 TP:  4 FP:  10 FN:  2\n",
      "  dataset   Ts    Te  TP  FN  FP    TPR  FP/TP\n",
      "0   james  0.8  0.35  24   2  50  0.923  2.083\n"
     ]
    },
    {
     "name": "stderr",
     "output_type": "stream",
     "text": [
      "100%|██████████| 3/3 [00:00<00:00, 181.78it/s]\n",
      "100%|██████████| 3/3 [00:00<00:00, 152.18it/s]\n"
     ]
    },
    {
     "name": "stdout",
     "output_type": "stream",
     "text": [
      "Segmentation Completed. \n",
      "total_meal: 26 TP:  6 FP:  15 FN:  0\n",
      "Segmentation Completed. \n"
     ]
    },
    {
     "name": "stderr",
     "output_type": "stream",
     "text": [
      "100%|██████████| 2/2 [00:00<00:00, 159.89it/s]"
     ]
    },
    {
     "name": "stdout",
     "output_type": "stream",
     "text": [
      "total_meal: 26 TP:  7 FP:  17 FN:  0\n",
      "Segmentation Completed. \n",
      "total_meal: 26 TP:  4 FP:  3 FN:  0\n"
     ]
    },
    {
     "name": "stderr",
     "output_type": "stream",
     "text": [
      "\n",
      "100%|██████████| 2/2 [00:00<00:00, 192.18it/s]\n",
      "100%|██████████| 2/2 [00:00<00:00, 181.16it/s]\n"
     ]
    },
    {
     "name": "stdout",
     "output_type": "stream",
     "text": [
      "Segmentation Completed. \n",
      "total_meal: 26 TP:  3 FP:  5 FN:  0\n",
      "Segmentation Completed. \n",
      "total_meal: 26 TP:  4 FP:  10 FN:  2\n",
      "  dataset   Ts   Te  TP  FN  FP    TPR  FP/TP\n",
      "0   james  0.8  0.4  24   2  50  0.923  2.083\n"
     ]
    },
    {
     "name": "stderr",
     "output_type": "stream",
     "text": [
      "100%|██████████| 3/3 [00:00<00:00, 211.47it/s]\n",
      "100%|██████████| 3/3 [00:00<00:00, 200.67it/s]\n"
     ]
    },
    {
     "name": "stdout",
     "output_type": "stream",
     "text": [
      "Segmentation Completed. \n",
      "total_meal: 26 TP:  6 FP:  15 FN:  0\n",
      "Segmentation Completed. \n",
      "total_meal: 26 TP:  7 FP:  17 FN:  0\n"
     ]
    },
    {
     "name": "stderr",
     "output_type": "stream",
     "text": [
      "100%|██████████| 2/2 [00:00<00:00, 178.54it/s]\n",
      "100%|██████████| 2/2 [00:00<00:00, 201.96it/s]\n"
     ]
    },
    {
     "name": "stdout",
     "output_type": "stream",
     "text": [
      "Segmentation Completed. \n",
      "total_meal: 26 TP:  4 FP:  3 FN:  0\n",
      "Segmentation Completed. \n",
      "total_meal: 26 TP:  3 FP:  5 FN:  0\n"
     ]
    },
    {
     "name": "stderr",
     "output_type": "stream",
     "text": [
      "100%|██████████| 2/2 [00:00<00:00, 218.89it/s]\n",
      "100%|██████████| 3/3 [00:00<00:00, 229.38it/s]\n"
     ]
    },
    {
     "name": "stdout",
     "output_type": "stream",
     "text": [
      "Segmentation Completed. \n",
      "total_meal: 26 TP:  4 FP:  10 FN:  2\n",
      "  dataset   Ts    Te  TP  FN  FP    TPR  FP/TP\n",
      "0   james  0.8  0.45  24   2  50  0.923  2.083\n",
      "Segmentation Completed. \n",
      "total_meal: 26 TP:  5 FP:  9 FN:  1\n"
     ]
    },
    {
     "name": "stderr",
     "output_type": "stream",
     "text": [
      "100%|██████████| 3/3 [00:00<00:00, 221.04it/s]\n",
      "100%|██████████| 2/2 [00:00<00:00, 219.91it/s]\n"
     ]
    },
    {
     "name": "stdout",
     "output_type": "stream",
     "text": [
      "Segmentation Completed. \n",
      "total_meal: 26 TP:  7 FP:  15 FN:  0\n",
      "Segmentation Completed. \n",
      "total_meal: 26 TP:  4 FP:  2 FN:  0\n"
     ]
    },
    {
     "name": "stderr",
     "output_type": "stream",
     "text": [
      "100%|██████████| 2/2 [00:00<00:00, 221.87it/s]\n",
      "100%|██████████| 2/2 [00:00<00:00, 223.68it/s]\n"
     ]
    },
    {
     "name": "stdout",
     "output_type": "stream",
     "text": [
      "Segmentation Completed. \n",
      "total_meal: 26 TP:  3 FP:  3 FN:  0\n",
      "Segmentation Completed. \n",
      "total_meal: 26 TP:  5 FP:  6 FN:  1\n",
      "  dataset    Ts   Te  TP  FN  FP    TPR  FP/TP\n",
      "0   james  0.85  0.1  24   2  35  0.923  1.458\n"
     ]
    },
    {
     "name": "stderr",
     "output_type": "stream",
     "text": [
      "100%|██████████| 3/3 [00:00<00:00, 230.13it/s]\n",
      "100%|██████████| 3/3 [00:00<00:00, 205.25it/s]\n"
     ]
    },
    {
     "name": "stdout",
     "output_type": "stream",
     "text": [
      "Segmentation Completed. \n",
      "total_meal: 26 TP:  5 FP:  9 FN:  1\n",
      "Segmentation Completed. \n",
      "total_meal: 26 TP:  7 FP:  16 FN:  0\n"
     ]
    },
    {
     "name": "stderr",
     "output_type": "stream",
     "text": [
      "100%|██████████| 2/2 [00:00<00:00, 156.07it/s]\n",
      "100%|██████████| 2/2 [00:00<00:00, 207.30it/s]\n"
     ]
    },
    {
     "name": "stdout",
     "output_type": "stream",
     "text": [
      "Segmentation Completed. \n",
      "total_meal: 26 TP:  4 FP:  2 FN:  0\n",
      "Segmentation Completed. \n"
     ]
    },
    {
     "name": "stderr",
     "output_type": "stream",
     "text": [
      "100%|██████████| 2/2 [00:00<00:00, 187.42it/s]\n"
     ]
    },
    {
     "name": "stdout",
     "output_type": "stream",
     "text": [
      "total_meal: 26 TP:  3 FP:  3 FN:  0\n",
      "Segmentation Completed. \n",
      "total_meal: 26 TP:  5 FP:  7 FN:  1\n",
      "  dataset    Ts    Te  TP  FN  FP    TPR  FP/TP\n",
      "0   james  0.85  0.15  24   2  37  0.923  1.542\n"
     ]
    },
    {
     "name": "stderr",
     "output_type": "stream",
     "text": [
      "100%|██████████| 3/3 [00:00<00:00, 189.21it/s]\n",
      "100%|██████████| 3/3 [00:00<00:00, 205.46it/s]\n"
     ]
    },
    {
     "name": "stdout",
     "output_type": "stream",
     "text": [
      "Segmentation Completed. \n",
      "total_meal: 26 TP:  5 FP:  10 FN:  1\n",
      "Segmentation Completed. \n",
      "total_meal: 26 TP:  7 FP:  16 FN:  0\n"
     ]
    },
    {
     "name": "stderr",
     "output_type": "stream",
     "text": [
      "100%|██████████| 2/2 [00:00<00:00, 198.70it/s]\n",
      "100%|██████████| 2/2 [00:00<00:00, 172.88it/s]\n"
     ]
    },
    {
     "name": "stdout",
     "output_type": "stream",
     "text": [
      "Segmentation Completed. \n",
      "total_meal: 26 TP:  4 FP:  2 FN:  0\n",
      "Segmentation Completed. \n",
      "total_meal: 26 TP:  3 FP:  3 FN:  0\n"
     ]
    },
    {
     "name": "stderr",
     "output_type": "stream",
     "text": [
      "100%|██████████| 2/2 [00:00<00:00, 151.10it/s]\n"
     ]
    },
    {
     "name": "stdout",
     "output_type": "stream",
     "text": [
      "Segmentation Completed. \n",
      "total_meal: 26 TP:  5 FP:  7 FN:  1\n",
      "  dataset    Ts   Te  TP  FN  FP    TPR  FP/TP\n",
      "0   james  0.85  0.2  24   2  38  0.923  1.583\n"
     ]
    },
    {
     "name": "stderr",
     "output_type": "stream",
     "text": [
      "100%|██████████| 3/3 [00:00<00:00, 187.65it/s]\n",
      "100%|██████████| 3/3 [00:00<00:00, 196.93it/s]\n"
     ]
    },
    {
     "name": "stdout",
     "output_type": "stream",
     "text": [
      "Segmentation Completed. \n",
      "total_meal: 26 TP:  5 FP:  10 FN:  1\n",
      "Segmentation Completed. \n",
      "total_meal: 26 TP:  7 FP:  16 FN:  0\n"
     ]
    },
    {
     "name": "stderr",
     "output_type": "stream",
     "text": [
      "100%|██████████| 2/2 [00:00<00:00, 183.13it/s]\n",
      "100%|██████████| 2/2 [00:00<00:00, 204.03it/s]\n"
     ]
    },
    {
     "name": "stdout",
     "output_type": "stream",
     "text": [
      "Segmentation Completed. \n",
      "total_meal: 26 TP:  4 FP:  2 FN:  0\n",
      "Segmentation Completed. \n",
      "total_meal: 26 TP:  3 FP:  4 FN:  0\n"
     ]
    },
    {
     "name": "stderr",
     "output_type": "stream",
     "text": [
      "100%|██████████| 2/2 [00:00<00:00, 200.97it/s]\n",
      "100%|██████████| 3/3 [00:00<00:00, 183.85it/s]\n"
     ]
    },
    {
     "name": "stdout",
     "output_type": "stream",
     "text": [
      "Segmentation Completed. \n",
      "total_meal: 26 TP:  5 FP:  7 FN:  1\n",
      "  dataset    Ts    Te  TP  FN  FP    TPR  FP/TP\n",
      "0   james  0.85  0.25  24   2  39  0.923  1.625\n",
      "Segmentation Completed. \n"
     ]
    },
    {
     "name": "stderr",
     "output_type": "stream",
     "text": [
      "100%|██████████| 3/3 [00:00<00:00, 153.91it/s]\n"
     ]
    },
    {
     "name": "stdout",
     "output_type": "stream",
     "text": [
      "total_meal: 26 TP:  5 FP:  10 FN:  1\n",
      "Segmentation Completed. \n",
      "total_meal: 26 TP:  7 FP:  17 FN:  0\n"
     ]
    },
    {
     "name": "stderr",
     "output_type": "stream",
     "text": [
      "100%|██████████| 2/2 [00:00<00:00, 160.63it/s]\n",
      "100%|██████████| 2/2 [00:00<00:00, 194.17it/s]\n"
     ]
    },
    {
     "name": "stdout",
     "output_type": "stream",
     "text": [
      "Segmentation Completed. \n",
      "total_meal: 26 TP:  4 FP:  2 FN:  0\n",
      "Segmentation Completed. \n",
      "total_meal: 26 TP:  3 FP:  4 FN:  0\n"
     ]
    },
    {
     "name": "stderr",
     "output_type": "stream",
     "text": [
      "100%|██████████| 2/2 [00:00<00:00, 180.28it/s]\n",
      "100%|██████████| 3/3 [00:00<00:00, 214.40it/s]\n"
     ]
    },
    {
     "name": "stdout",
     "output_type": "stream",
     "text": [
      "Segmentation Completed. \n",
      "total_meal: 26 TP:  4 FP:  8 FN:  2\n",
      "  dataset    Ts   Te  TP  FN  FP    TPR  FP/TP\n",
      "0   james  0.85  0.3  23   3  41  0.885  1.783\n",
      "Segmentation Completed. \n",
      "total_meal: 26 TP:  5 FP:  10 FN:  1\n"
     ]
    },
    {
     "name": "stderr",
     "output_type": "stream",
     "text": [
      "100%|██████████| 3/3 [00:00<00:00, 201.52it/s]\n",
      "100%|██████████| 2/2 [00:00<00:00, 170.67it/s]\n"
     ]
    },
    {
     "name": "stdout",
     "output_type": "stream",
     "text": [
      "Segmentation Completed. \n",
      "total_meal: 26 TP:  7 FP:  17 FN:  0\n",
      "Segmentation Completed. \n",
      "total_meal: 26 TP:  4 FP:  2 FN:  0\n"
     ]
    },
    {
     "name": "stderr",
     "output_type": "stream",
     "text": [
      "100%|██████████| 2/2 [00:00<00:00, 152.30it/s]\n",
      "  0%|          | 0/2 [00:00<?, ?it/s]"
     ]
    },
    {
     "name": "stdout",
     "output_type": "stream",
     "text": [
      "Segmentation Completed. \n",
      "total_meal: 26 TP:  3 FP:  4 FN:  0\n"
     ]
    },
    {
     "name": "stderr",
     "output_type": "stream",
     "text": [
      "100%|██████████| 2/2 [00:00<00:00, 155.55it/s]\n",
      "100%|██████████| 3/3 [00:00<00:00, 204.73it/s]\n"
     ]
    },
    {
     "name": "stdout",
     "output_type": "stream",
     "text": [
      "Segmentation Completed. \n",
      "total_meal: 26 TP:  4 FP:  8 FN:  2\n",
      "  dataset    Ts    Te  TP  FN  FP    TPR  FP/TP\n",
      "0   james  0.85  0.35  23   3  41  0.885  1.783\n",
      "Segmentation Completed. \n"
     ]
    },
    {
     "name": "stderr",
     "output_type": "stream",
     "text": [
      "100%|██████████| 3/3 [00:00<00:00, 182.81it/s]\n"
     ]
    },
    {
     "name": "stdout",
     "output_type": "stream",
     "text": [
      "total_meal: 26 TP:  5 FP:  10 FN:  1\n",
      "Segmentation Completed. \n",
      "total_meal: 26 TP:  7 FP:  17 FN:  0\n"
     ]
    },
    {
     "name": "stderr",
     "output_type": "stream",
     "text": [
      "100%|██████████| 2/2 [00:00<00:00, 204.35it/s]\n",
      "100%|██████████| 2/2 [00:00<00:00, 200.50it/s]\n"
     ]
    },
    {
     "name": "stdout",
     "output_type": "stream",
     "text": [
      "Segmentation Completed. \n",
      "total_meal: 26 TP:  4 FP:  2 FN:  0\n",
      "Segmentation Completed. \n",
      "total_meal: 26 TP:  3 FP:  4 FN:  0\n"
     ]
    },
    {
     "name": "stderr",
     "output_type": "stream",
     "text": [
      "100%|██████████| 2/2 [00:00<00:00, 173.26it/s]\n",
      "100%|██████████| 3/3 [00:00<00:00, 163.12it/s]\n"
     ]
    },
    {
     "name": "stdout",
     "output_type": "stream",
     "text": [
      "Segmentation Completed. \n",
      "total_meal: 26 TP:  4 FP:  8 FN:  2\n",
      "  dataset    Ts   Te  TP  FN  FP    TPR  FP/TP\n",
      "0   james  0.85  0.4  23   3  41  0.885  1.783\n",
      "Segmentation Completed. \n"
     ]
    },
    {
     "name": "stderr",
     "output_type": "stream",
     "text": [
      "100%|██████████| 3/3 [00:00<00:00, 170.38it/s]"
     ]
    },
    {
     "name": "stdout",
     "output_type": "stream",
     "text": [
      "total_meal: 26 TP:  5 FP:  10 FN:  1\n",
      "Segmentation Completed. \n"
     ]
    },
    {
     "name": "stderr",
     "output_type": "stream",
     "text": [
      "\n",
      "100%|██████████| 2/2 [00:00<00:00, 194.45it/s]\n"
     ]
    },
    {
     "name": "stdout",
     "output_type": "stream",
     "text": [
      "total_meal: 26 TP:  7 FP:  17 FN:  0\n",
      "Segmentation Completed. \n",
      "total_meal: 26 TP:  4 FP:  2 FN:  0\n"
     ]
    },
    {
     "name": "stderr",
     "output_type": "stream",
     "text": [
      "100%|██████████| 2/2 [00:00<00:00, 188.01it/s]\n",
      "100%|██████████| 2/2 [00:00<00:00, 204.06it/s]\n"
     ]
    },
    {
     "name": "stdout",
     "output_type": "stream",
     "text": [
      "Segmentation Completed. \n",
      "total_meal: 26 TP:  3 FP:  5 FN:  0\n",
      "Segmentation Completed. \n",
      "total_meal: 26 TP:  4 FP:  8 FN:  2\n",
      "  dataset    Ts    Te  TP  FN  FP    TPR  FP/TP\n",
      "0   james  0.85  0.45  23   3  42  0.885  1.826\n",
      "CPU times: user 4min 59s, sys: 12.6 s, total: 5min 11s\n",
      "Wall time: 5min 23s\n"
     ]
    }
   ],
   "source": [
    "ts_ls = [0.5,0.55, 0.6,0.65, 0.7,0.75,0.8,0.85]\n",
    "te_ls = [0.1,0.15,0.2,0.25,0.3,0.35,0.4,0.45]\n",
    "\n",
    "%time threshold_results =  test_threshold_cv(datasets,ts_ls,te_ls)"
   ]
  },
  {
   "cell_type": "code",
   "execution_count": 25,
   "metadata": {},
   "outputs": [
    {
     "data": {
      "text/html": [
       "<div>\n",
       "<style scoped>\n",
       "    .dataframe tbody tr th:only-of-type {\n",
       "        vertical-align: middle;\n",
       "    }\n",
       "\n",
       "    .dataframe tbody tr th {\n",
       "        vertical-align: top;\n",
       "    }\n",
       "\n",
       "    .dataframe thead th {\n",
       "        text-align: right;\n",
       "    }\n",
       "</style>\n",
       "<table border=\"1\" class=\"dataframe\">\n",
       "  <thead>\n",
       "    <tr style=\"text-align: right;\">\n",
       "      <th></th>\n",
       "      <th>dataset</th>\n",
       "      <th>Ts</th>\n",
       "      <th>Te</th>\n",
       "      <th>TPR</th>\n",
       "      <th>FP/TP</th>\n",
       "      <th>TP</th>\n",
       "      <th>FP</th>\n",
       "      <th>FN</th>\n",
       "    </tr>\n",
       "  </thead>\n",
       "  <tbody>\n",
       "    <tr>\n",
       "      <th>56</th>\n",
       "      <td>wenkanw</td>\n",
       "      <td>0.85</td>\n",
       "      <td>0.1</td>\n",
       "      <td>0.969</td>\n",
       "      <td>0.484</td>\n",
       "      <td>31.0</td>\n",
       "      <td>15.0</td>\n",
       "      <td>1.0</td>\n",
       "    </tr>\n",
       "    <tr>\n",
       "      <th>120</th>\n",
       "      <td>adam</td>\n",
       "      <td>0.85</td>\n",
       "      <td>0.1</td>\n",
       "      <td>0.923</td>\n",
       "      <td>0.292</td>\n",
       "      <td>24.0</td>\n",
       "      <td>7.0</td>\n",
       "      <td>2.0</td>\n",
       "    </tr>\n",
       "    <tr>\n",
       "      <th>134</th>\n",
       "      <td>lawler</td>\n",
       "      <td>0.50</td>\n",
       "      <td>0.4</td>\n",
       "      <td>0.817</td>\n",
       "      <td>1.735</td>\n",
       "      <td>49.0</td>\n",
       "      <td>85.0</td>\n",
       "      <td>11.0</td>\n",
       "    </tr>\n",
       "    <tr>\n",
       "      <th>216</th>\n",
       "      <td>shaurya</td>\n",
       "      <td>0.65</td>\n",
       "      <td>0.1</td>\n",
       "      <td>0.816</td>\n",
       "      <td>1.774</td>\n",
       "      <td>31.0</td>\n",
       "      <td>55.0</td>\n",
       "      <td>7.0</td>\n",
       "    </tr>\n",
       "    <tr>\n",
       "      <th>280</th>\n",
       "      <td>tianyi</td>\n",
       "      <td>0.65</td>\n",
       "      <td>0.1</td>\n",
       "      <td>0.800</td>\n",
       "      <td>2.562</td>\n",
       "      <td>16.0</td>\n",
       "      <td>41.0</td>\n",
       "      <td>4.0</td>\n",
       "    </tr>\n",
       "    <tr>\n",
       "      <th>376</th>\n",
       "      <td>james</td>\n",
       "      <td>0.85</td>\n",
       "      <td>0.1</td>\n",
       "      <td>0.923</td>\n",
       "      <td>1.458</td>\n",
       "      <td>24.0</td>\n",
       "      <td>35.0</td>\n",
       "      <td>2.0</td>\n",
       "    </tr>\n",
       "  </tbody>\n",
       "</table>\n",
       "</div>"
      ],
      "text/plain": [
       "     dataset    Ts   Te    TPR  FP/TP    TP    FP    FN\n",
       "56   wenkanw  0.85  0.1  0.969  0.484  31.0  15.0   1.0\n",
       "120     adam  0.85  0.1  0.923  0.292  24.0   7.0   2.0\n",
       "134   lawler  0.50  0.4  0.817  1.735  49.0  85.0  11.0\n",
       "216  shaurya  0.65  0.1  0.816  1.774  31.0  55.0   7.0\n",
       "280   tianyi  0.65  0.1  0.800  2.562  16.0  41.0   4.0\n",
       "376    james  0.85  0.1  0.923  1.458  24.0  35.0   2.0"
      ]
     },
     "execution_count": 25,
     "metadata": {},
     "output_type": "execute_result"
    }
   ],
   "source": [
    "best_threshold ,hythreshold2  = find_optimal_threshold(threshold_results,min_tpr= 0.79, max_fp=2, mode= \"min_tpr\")\n",
    "best_threshold"
   ]
  },
  {
   "cell_type": "code",
   "execution_count": null,
   "metadata": {},
   "outputs": [],
   "source": []
  },
  {
   "cell_type": "code",
   "execution_count": 36,
   "metadata": {},
   "outputs": [],
   "source": [
    "## Save threshold results\n",
    "threshold_results.to_csv(\"../results/hysteresis_results/cv_threshold_results.csv\",index= False)\n",
    "best_threshold.to_csv(\"../results/hysteresis_results/cv_best_thresholds.csv\",index = False)"
   ]
  },
  {
   "cell_type": "code",
   "execution_count": 37,
   "metadata": {},
   "outputs": [],
   "source": [
    "## load threshold results\n",
    "threshold_results= pd.read_csv(\"../results/hysteresis_results/cv_threshold_results.csv\")\n",
    "best_threshold=pd.read_csv(\"../results/hysteresis_results/cv_best_thresholds.csv\")"
   ]
  },
  {
   "cell_type": "code",
   "execution_count": 28,
   "metadata": {},
   "outputs": [
    {
     "name": "stdout",
     "output_type": "stream",
     "text": [
      "Fixed Te, Change Ts\n"
     ]
    },
    {
     "data": {
      "image/png": "[encoded data removed]",
      "text/plain": [
       "<Figure size 864x720 with 4 Axes>"
      ]
     },
     "metadata": {
      "needs_background": "light"
     },
     "output_type": "display_data"
    }
   ],
   "source": [
    "from visualization import *\n",
    "plot_threshold_results(threshold_results,te_val = 0.1, ts_val=0.6)"
   ]
  },
  {
   "cell_type": "code",
   "execution_count": 29,
   "metadata": {},
   "outputs": [
    {
     "name": "stdout",
     "output_type": "stream",
     "text": [
      "Fixed Te, Change Ts\n"
     ]
    },
    {
     "data": {
      "image/png": "[encoded data removed]",
      "text/plain": [
       "<Figure size 864x720 with 4 Axes>"
      ]
     },
     "metadata": {
      "needs_background": "light"
     },
     "output_type": "display_data"
    }
   ],
   "source": [
    "plot_threshold_results(threshold_results,te_val = 0.3, ts_val=0.8)"
   ]
  },
  {
   "cell_type": "code",
   "execution_count": 30,
   "metadata": {},
   "outputs": [],
   "source": [
    "# ! ls ../models/tianyi_models\n",
    "# ! ls ../results/hysteresis_results/"
   ]
  },
  {
   "cell_type": "code",
   "execution_count": 31,
   "metadata": {},
   "outputs": [],
   "source": [
    "# person='tianyi'\n",
    "# model_name = '../models/{}_models/cv_fold_{}_acti_model_M_F_6.000000Min.h5'.format(person, 0)\n",
    "# print(model_name)\n",
    "# m = tf.keras.models.load_model(model_name)"
   ]
  },
  {
   "cell_type": "markdown",
   "metadata": {},
   "source": [
    "## 4.2 Apply individual parameters to Individual models and compare with group model"
   ]
  },
  {
   "cell_type": "code",
   "execution_count": 38,
   "metadata": {},
   "outputs": [],
   "source": [
    "threshold_results= pd.read_csv(\"../results/hysteresis_results/cv_threshold_results.csv\")\n",
    "best_threshold=pd.read_csv(\"../results/hysteresis_results/cv_best_thresholds.csv\")"
   ]
  },
  {
   "cell_type": "code",
   "execution_count": 45,
   "metadata": {},
   "outputs": [],
   "source": [
    "# best_threshold\n",
    "x = best_threshold[['dataset','Ts','Te']].T"
   ]
  },
  {
   "cell_type": "code",
   "execution_count": 49,
   "metadata": {},
   "outputs": [
    {
     "data": {
      "text/plain": [
       "{'wenkanw': [0.85, 0.1],\n",
       " 'adam': [0.85, 0.1],\n",
       " 'lawler': [0.5, 0.4],\n",
       " 'shaurya': [0.65, 0.1],\n",
       " 'tianyi': [0.65, 0.1],\n",
       " 'james': [0.85, 0.1]}"
      ]
     },
     "execution_count": 49,
     "metadata": {},
     "output_type": "execute_result"
    }
   ],
   "source": [
    "persons = ['wenkanw','adam','lawler','shaurya','tianyi','james']\n",
    "ind_thresholds = {}\n",
    "for p in persons:\n",
    "    ind_thresholds[p]=[]\n",
    "    ind_thresholds[p].append(best_threshold[best_threshold['dataset']==p]['Ts'].values[0])\n",
    "    ind_thresholds[p].append(best_threshold[best_threshold['dataset']==p]['Te'].values[0])\n",
    "ind_thresholds"
   ]
  },
  {
   "cell_type": "code",
   "execution_count": 52,
   "metadata": {
    "scrolled": true
   },
   "outputs": [
    {
     "name": "stderr",
     "output_type": "stream",
     "text": [
      "/home/wenkanw/.conda/envs/mlenv/lib/python3.8/site-packages/sklearn/model_selection/_split.py:293: FutureWarning: Setting a random_state has no effect since shuffle is False. This will raise an error in 0.24. You should leave random_state to its default (None), or set shuffle=True.\n",
      "  warnings.warn(\n"
     ]
    },
    {
     "name": "stdout",
     "output_type": "stream",
     "text": [
      "Loading Dataset ...\n",
      "Loading File:  ../data/IndividualData/wenkanw-data/11-14-20/11-14-20.shm\n",
      "Loading File:  ../data/IndividualData/wenkanw-data/10-13-20/10-13-20.shm\n",
      "Loading File:  ../data/IndividualData/wenkanw-data/10-9-20/10-10-20.shm\n",
      "Loading File:  ../data/IndividualData/wenkanw-data/11-21-20/Dinner/Dinner.shm\n",
      "Loading File:  ../data/IndividualData/wenkanw-data/9-17-20/9-17-20.shm\n",
      "Loading File:  ../data/IndividualData/wenkanw-data/9-29-20/9-29-20.shm\n",
      "Loading File:  ../data/IndividualData/wenkanw-data/11-22-20/Lunch/Lunch.shm\n",
      "Loading File:  ../data/IndividualData/wenkanw-data/11-21-20/lunch/lunch.shm\n",
      "Loading File:  ../data/IndividualData/wenkanw-data/10-9-20/10-9-20.shm\n",
      "Loading File:  ../data/IndividualData/wenkanw-data/11-18-20/11-18-20.shm\n",
      "Loading File:  ../data/IndividualData/wenkanw-data/10-14-20/10-14-20.shm\n",
      "Loading File:  ../data/IndividualData/wenkanw-data/10-12-20/10-12-20.shm\n",
      "Loading File:  ../data/IndividualData/wenkanw-data/11-16-20/11-16-20.shm\n",
      "Loading File:  ../data/IndividualData/wenkanw-data/9-27-20/9-27-20.shm\n",
      "Loading File:  ../data/IndividualData/wenkanw-data/10-3-20/10-3-20.shm\n",
      "Loading File:  ../data/IndividualData/wenkanw-data/10-10-20/10-10-20.shm\n",
      "Loading File:  ../data/IndividualData/wenkanw-data/11-22-20/Dinner/Dinner.shm\n",
      "Fold: 0 Train on days:  [ 4  5  6  7  8  9 10 11 12 13 14 15 16] Test on days:  [0 1 2 3]\n"
     ]
    },
    {
     "name": "stderr",
     "output_type": "stream",
     "text": [
      "100%|██████████| 4/4 [00:00<00:00, 354.65it/s]"
     ]
    },
    {
     "name": "stdout",
     "output_type": "stream",
     "text": [
      "Train set size: 6630, with 3315 positive samples and 3315 negative samples\n",
      "Test set size: 1658, with 829 positive samples and 829 negative samples\n",
      "Segmentation Completed. \n"
     ]
    },
    {
     "name": "stderr",
     "output_type": "stream",
     "text": [
      "\n",
      "100%|██████████| 4/4 [00:00<00:00, 332.48it/s]\n"
     ]
    },
    {
     "name": "stdout",
     "output_type": "stream",
     "text": [
      "total_meal: 32 TP:  6 FP:  2 FN:  1\n",
      "Segmentation Completed. \n",
      "total_meal: 32 TP:  3 FP:  2 FN:  4\n",
      "Fold: 1 Train on days:  [ 0  1  2  3  8  9 10 11 12 13 14 15 16] Test on days:  [4 5 6 7]\n"
     ]
    },
    {
     "name": "stderr",
     "output_type": "stream",
     "text": [
      "100%|██████████| 4/4 [00:00<00:00, 312.28it/s]"
     ]
    },
    {
     "name": "stdout",
     "output_type": "stream",
     "text": [
      "Train set size: 7209, with 3604 positive samples and 3605 negative samples\n",
      "Test set size: 1803, with 902 positive samples and 901 negative samples\n",
      "Segmentation Completed. \n"
     ]
    },
    {
     "name": "stderr",
     "output_type": "stream",
     "text": [
      "\n",
      "100%|██████████| 4/4 [00:00<00:00, 469.45it/s]\n"
     ]
    },
    {
     "name": "stdout",
     "output_type": "stream",
     "text": [
      "total_meal: 32 TP:  7 FP:  1 FN:  0\n",
      "Segmentation Completed. \n",
      "total_meal: 32 TP:  4 FP:  1 FN:  3\n",
      "Fold: 2 Train on days:  [ 0  1  2  3  4  5  6  7 11 12 13 14 15 16] Test on days:  [ 8  9 10]\n"
     ]
    },
    {
     "name": "stderr",
     "output_type": "stream",
     "text": [
      "100%|██████████| 3/3 [00:00<00:00, 259.55it/s]"
     ]
    },
    {
     "name": "stdout",
     "output_type": "stream",
     "text": [
      "Train set size: 7222, with 3611 positive samples and 3611 negative samples\n",
      "Test set size: 1806, with 903 positive samples and 903 negative samples\n"
     ]
    },
    {
     "name": "stderr",
     "output_type": "stream",
     "text": [
      "\n",
      "100%|██████████| 3/3 [00:00<00:00, 243.87it/s]\n"
     ]
    },
    {
     "name": "stdout",
     "output_type": "stream",
     "text": [
      "Segmentation Completed. \n",
      "total_meal: 32 TP:  6 FP:  8 FN:  0\n",
      "Segmentation Completed. \n",
      "total_meal: 32 TP:  5 FP:  3 FN:  1\n",
      "Fold: 3 Train on days:  [ 0  1  2  3  4  5  6  7  8  9 10 14 15 16] Test on days:  [11 12 13]\n"
     ]
    },
    {
     "name": "stderr",
     "output_type": "stream",
     "text": [
      "100%|██████████| 3/3 [00:00<00:00, 337.56it/s]"
     ]
    },
    {
     "name": "stdout",
     "output_type": "stream",
     "text": [
      "Train set size: 6971, with 3485 positive samples and 3486 negative samples\n",
      "Test set size: 1743, with 872 positive samples and 871 negative samples\n",
      "Segmentation Completed. \n"
     ]
    },
    {
     "name": "stderr",
     "output_type": "stream",
     "text": [
      "\n",
      "100%|██████████| 3/3 [00:00<00:00, 331.78it/s]\n"
     ]
    },
    {
     "name": "stdout",
     "output_type": "stream",
     "text": [
      "total_meal: 32 TP:  7 FP:  3 FN:  0\n",
      "Segmentation Completed. \n",
      "total_meal: 32 TP:  5 FP:  0 FN:  2\n",
      "Fold: 4 Train on days:  [ 0  1  2  3  4  5  6  7  8  9 10 11 12 13] Test on days:  [14 15 16]\n"
     ]
    },
    {
     "name": "stderr",
     "output_type": "stream",
     "text": [
      "100%|██████████| 3/3 [00:00<00:00, 370.72it/s]"
     ]
    },
    {
     "name": "stdout",
     "output_type": "stream",
     "text": [
      "Train set size: 6923, with 3461 positive samples and 3462 negative samples\n",
      "Test set size: 1731, with 866 positive samples and 865 negative samples\n",
      "Segmentation Completed. \n"
     ]
    },
    {
     "name": "stderr",
     "output_type": "stream",
     "text": [
      "\n",
      "100%|██████████| 3/3 [00:00<00:00, 250.93it/s]\n"
     ]
    },
    {
     "name": "stdout",
     "output_type": "stream",
     "text": [
      "total_meal: 32 TP:  5 FP:  1 FN:  0\n",
      "Segmentation Completed. \n",
      "total_meal: 32 TP:  3 FP:  0 FN:  2\n",
      "Loading Dataset ...\n",
      "Loading File:  ../data/IndividualData/adam-data/12-01-2020/12-01-2020.shm\n",
      "Loading File:  ../data/IndividualData/adam-data/11-24-2020/11-24-2020.shm\n",
      "Loading File:  ../data/IndividualData/adam-data/11-30-2020/11-30-2020.shm\n",
      "Loading File:  ../data/IndividualData/adam-data/09-22-2020/09-22-2020.shm\n",
      "Loading File:  ../data/IndividualData/adam-data/12-03-2020/12-03-2020.shm\n",
      "Loading File:  ../data/IndividualData/adam-data/12-11-2020/12-11-2020.shm\n",
      "Loading File:  ../data/IndividualData/adam-data/11-25-2020/11-25-2020.shm\n",
      "Loading File:  ../data/IndividualData/adam-data/12-08-2020/12-08-2020.shm\n",
      "Loading File:  ../data/IndividualData/adam-data/12-07-2020/12-07-2020.shm\n",
      "Loading File:  ../data/IndividualData/adam-data/11-26-2020/11-26-2020.shm\n",
      "Loading File:  ../data/IndividualData/adam-data/12-02-2020/12-02-2020.shm\n",
      "Loading File:  ../data/IndividualData/adam-data/12-04-2020/12-04-2020.shm\n",
      "Loading File:  ../data/IndividualData/adam-data/12-09-2020/12-09-2020.shm\n",
      "Loading File:  ../data/IndividualData/adam-data/12-10-2020/12-10-2020.shm\n",
      "Fold: 0 Train on days:  [ 3  4  5  6  7  8  9 10 11 12 13] Test on days:  [0 1 2]\n"
     ]
    },
    {
     "name": "stderr",
     "output_type": "stream",
     "text": [
      "  0%|          | 0/3 [00:00<?, ?it/s]"
     ]
    },
    {
     "name": "stdout",
     "output_type": "stream",
     "text": [
      "Train set size: 2536, with 1268 positive samples and 1268 negative samples\n",
      "Test set size: 634, with 317 positive samples and 317 negative samples\n"
     ]
    },
    {
     "name": "stderr",
     "output_type": "stream",
     "text": [
      "100%|██████████| 3/3 [00:00<00:00, 250.28it/s]\n",
      "100%|██████████| 3/3 [00:00<00:00, 204.29it/s]\n"
     ]
    },
    {
     "name": "stdout",
     "output_type": "stream",
     "text": [
      "Segmentation Completed. \n",
      "total_meal: 26 TP:  6 FP:  0 FN:  0\n",
      "Segmentation Completed. \n",
      "total_meal: 26 TP:  6 FP:  0 FN:  0\n",
      "Fold: 1 Train on days:  [ 0  1  2  6  7  8  9 10 11 12 13] Test on days:  [3 4 5]\n"
     ]
    },
    {
     "name": "stderr",
     "output_type": "stream",
     "text": [
      "100%|██████████| 3/3 [00:00<00:00, 422.26it/s]"
     ]
    },
    {
     "name": "stdout",
     "output_type": "stream",
     "text": [
      "Train set size: 3008, with 1504 positive samples and 1504 negative samples\n",
      "Test set size: 752, with 376 positive samples and 376 negative samples\n",
      "Segmentation Completed. \n"
     ]
    },
    {
     "name": "stderr",
     "output_type": "stream",
     "text": [
      "\n",
      "100%|██████████| 3/3 [00:00<00:00, 415.14it/s]\n"
     ]
    },
    {
     "name": "stdout",
     "output_type": "stream",
     "text": [
      "total_meal: 26 TP:  4 FP:  1 FN:  0\n",
      "Segmentation Completed. \n",
      "total_meal: 26 TP:  4 FP:  5 FN:  0\n",
      "Fold: 2 Train on days:  [ 0  1  2  3  4  5  9 10 11 12 13] Test on days:  [6 7 8]\n"
     ]
    },
    {
     "name": "stderr",
     "output_type": "stream",
     "text": [
      "100%|██████████| 3/3 [00:00<00:00, 311.15it/s]"
     ]
    },
    {
     "name": "stdout",
     "output_type": "stream",
     "text": [
      "Train set size: 2892, with 1446 positive samples and 1446 negative samples\n",
      "Test set size: 724, with 362 positive samples and 362 negative samples\n",
      "Segmentation Completed. \n"
     ]
    },
    {
     "name": "stderr",
     "output_type": "stream",
     "text": [
      "\n",
      "100%|██████████| 3/3 [00:00<00:00, 293.79it/s]\n"
     ]
    },
    {
     "name": "stdout",
     "output_type": "stream",
     "text": [
      "total_meal: 26 TP:  5 FP:  1 FN:  1\n",
      "Segmentation Completed. \n",
      "total_meal: 26 TP:  5 FP:  2 FN:  1\n",
      "Fold: 3 Train on days:  [ 0  1  2  3  4  5  6  7  8 12 13] Test on days:  [ 9 10 11]\n"
     ]
    },
    {
     "name": "stderr",
     "output_type": "stream",
     "text": [
      "100%|██████████| 3/3 [00:00<00:00, 348.81it/s]"
     ]
    },
    {
     "name": "stdout",
     "output_type": "stream",
     "text": [
      "Train set size: 3051, with 1525 positive samples and 1526 negative samples\n",
      "Test set size: 763, with 382 positive samples and 381 negative samples\n",
      "Segmentation Completed. \n"
     ]
    },
    {
     "name": "stderr",
     "output_type": "stream",
     "text": [
      "\n",
      "100%|██████████| 3/3 [00:00<00:00, 320.96it/s]\n"
     ]
    },
    {
     "name": "stdout",
     "output_type": "stream",
     "text": [
      "total_meal: 26 TP:  4 FP:  4 FN:  1\n",
      "Segmentation Completed. \n",
      "total_meal: 26 TP:  4 FP:  1 FN:  1\n",
      "Fold: 4 Train on days:  [ 0  1  2  3  4  5  6  7  8  9 10 11] Test on days:  [12 13]\n"
     ]
    },
    {
     "name": "stderr",
     "output_type": "stream",
     "text": [
      "100%|██████████| 2/2 [00:00<00:00, 240.96it/s]"
     ]
    },
    {
     "name": "stdout",
     "output_type": "stream",
     "text": [
      "Train set size: 2790, with 1395 positive samples and 1395 negative samples\n",
      "Test set size: 698, with 349 positive samples and 349 negative samples\n",
      "Segmentation Completed. \n"
     ]
    },
    {
     "name": "stderr",
     "output_type": "stream",
     "text": [
      "\n",
      "100%|██████████| 2/2 [00:00<00:00, 225.52it/s]\n"
     ]
    },
    {
     "name": "stdout",
     "output_type": "stream",
     "text": [
      "total_meal: 26 TP:  5 FP:  1 FN:  0\n",
      "Segmentation Completed. \n",
      "total_meal: 26 TP:  5 FP:  0 FN:  0\n",
      "Loading Dataset ...\n",
      "Loading File:  ../data/IndividualData/lawler-data/10.19/10.19.shm\n",
      "Loading File:  ../data/IndividualData/lawler-data/11.14/11.14.shm\n",
      "Loading File:  ../data/IndividualData/lawler-data/10.10/10.10.shm\n",
      "Loading File:  ../data/IndividualData/lawler-data/11.2/11.2.shm\n",
      "Loading File:  ../data/IndividualData/lawler-data/10.8/10.8.shm\n",
      "Loading File:  ../data/IndividualData/lawler-data/11.15/11.15.shm\n",
      "Loading File:  ../data/IndividualData/lawler-data/10.14/10.14.shm\n",
      "Loading File:  ../data/IndividualData/lawler-data/9.23/9.23_13hr.shm\n",
      "Loading File:  ../data/IndividualData/lawler-data/10.12/10.12.shm\n",
      "Loading File:  ../data/IndividualData/lawler-data/11.11/11.11.shm\n",
      "Loading File:  ../data/IndividualData/lawler-data/11.4/11.4.shm\n",
      "Loading File:  ../data/IndividualData/lawler-data/9.25/9.25_1-46.shm\n",
      "Loading File:  ../data/IndividualData/lawler-data/10.6/10.6.shm\n",
      "Loading File:  ../data/IndividualData/lawler-data/10.4/10.4.shm\n",
      "Loading File:  ../data/IndividualData/lawler-data/10.28/10.28.shm\n",
      "Loading File:  ../data/IndividualData/lawler-data/11.3/11.3.shm\n",
      "Loading File:  ../data/IndividualData/lawler-data/10.20/evening_2hr_20min/10.20.shm\n",
      "Loading File:  ../data/IndividualData/lawler-data/10.26/10.26.shm\n",
      "Loading File:  ../data/IndividualData/lawler-data/10.31/10.31.shm\n",
      "Loading File:  ../data/IndividualData/lawler-data/10.31/evening-2hr_goodDinnerTemplate_CFAmeal/10.31.shm\n",
      "Loading File:  ../data/IndividualData/lawler-data/10.21/10.21.shm\n",
      "Loading File:  ../data/IndividualData/lawler-data/10.16/10.16.shm\n",
      "Loading File:  ../data/IndividualData/lawler-data/10.20/afternoon_2hr33min/10.20.shm\n",
      "Fold: 0 Train on days:  [ 5  6  7  8  9 10 11 12 13 14 15 16 17 18 19 20 21 22] Test on days:  [0 1 2 3 4]\n"
     ]
    },
    {
     "name": "stderr",
     "output_type": "stream",
     "text": [
      "100%|██████████| 5/5 [00:00<00:00, 339.73it/s]"
     ]
    },
    {
     "name": "stdout",
     "output_type": "stream",
     "text": [
      "Train set size: 6892, with 3446 positive samples and 3446 negative samples\n",
      "Test set size: 1724, with 862 positive samples and 862 negative samples\n",
      "Segmentation Completed. \n"
     ]
    },
    {
     "name": "stderr",
     "output_type": "stream",
     "text": [
      "\n",
      "100%|██████████| 5/5 [00:00<00:00, 317.50it/s]\n"
     ]
    },
    {
     "name": "stdout",
     "output_type": "stream",
     "text": [
      "total_meal: 60 TP:  9 FP:  20 FN:  4\n",
      "Segmentation Completed. \n",
      "total_meal: 60 TP:  5 FP:  15 FN:  8\n",
      "Fold: 1 Train on days:  [ 0  1  2  3  4 10 11 12 13 14 15 16 17 18 19 20 21 22] Test on days:  [5 6 7 8 9]\n"
     ]
    },
    {
     "name": "stderr",
     "output_type": "stream",
     "text": [
      "100%|██████████| 5/5 [00:00<00:00, 270.76it/s]"
     ]
    },
    {
     "name": "stdout",
     "output_type": "stream",
     "text": [
      "Train set size: 5915, with 2957 positive samples and 2958 negative samples\n",
      "Test set size: 1479, with 740 positive samples and 739 negative samples\n",
      "Segmentation Completed. \n"
     ]
    },
    {
     "name": "stderr",
     "output_type": "stream",
     "text": [
      "\n",
      "100%|██████████| 5/5 [00:00<00:00, 263.55it/s]\n"
     ]
    },
    {
     "name": "stdout",
     "output_type": "stream",
     "text": [
      "total_meal: 60 TP:  9 FP:  29 FN:  4\n",
      "Segmentation Completed. \n",
      "total_meal: 60 TP:  2 FP:  13 FN:  11\n",
      "Fold: 2 Train on days:  [ 0  1  2  3  4  5  6  7  8  9 15 16 17 18 19 20 21 22] Test on days:  [10 11 12 13 14]\n"
     ]
    },
    {
     "name": "stderr",
     "output_type": "stream",
     "text": [
      "100%|██████████| 5/5 [00:00<00:00, 436.76it/s]"
     ]
    },
    {
     "name": "stdout",
     "output_type": "stream",
     "text": [
      "Train set size: 7139, with 3569 positive samples and 3570 negative samples\n",
      "Test set size: 1785, with 893 positive samples and 892 negative samples\n",
      "Segmentation Completed. \n"
     ]
    },
    {
     "name": "stderr",
     "output_type": "stream",
     "text": [
      "\n",
      "100%|██████████| 5/5 [00:00<00:00, 396.45it/s]\n"
     ]
    },
    {
     "name": "stdout",
     "output_type": "stream",
     "text": [
      "total_meal: 60 TP:  9 FP:  10 FN:  1\n",
      "Segmentation Completed. \n",
      "total_meal: 60 TP:  2 FP:  10 FN:  8\n",
      "Fold: 3 Train on days:  [ 0  1  2  3  4  5  6  7  8  9 10 11 12 13 14 19 20 21 22] Test on days:  [15 16 17 18]\n"
     ]
    },
    {
     "name": "stderr",
     "output_type": "stream",
     "text": [
      "100%|██████████| 4/4 [00:00<00:00, 253.03it/s]"
     ]
    },
    {
     "name": "stdout",
     "output_type": "stream",
     "text": [
      "Train set size: 6206, with 3103 positive samples and 3103 negative samples\n",
      "Test set size: 1552, with 776 positive samples and 776 negative samples\n",
      "Segmentation Completed. \n"
     ]
    },
    {
     "name": "stderr",
     "output_type": "stream",
     "text": [
      "\n",
      "100%|██████████| 4/4 [00:00<00:00, 382.82it/s]\n"
     ]
    },
    {
     "name": "stdout",
     "output_type": "stream",
     "text": [
      "total_meal: 60 TP:  13 FP:  13 FN:  0\n",
      "Segmentation Completed. \n",
      "total_meal: 60 TP:  7 FP:  6 FN:  6\n",
      "Fold: 4 Train on days:  [ 0  1  2  3  4  5  6  7  8  9 10 11 12 13 14 15 16 17 18] Test on days:  [19 20 21 22]\n"
     ]
    },
    {
     "name": "stderr",
     "output_type": "stream",
     "text": [
      "100%|██████████| 4/4 [00:00<00:00, 502.61it/s]"
     ]
    },
    {
     "name": "stdout",
     "output_type": "stream",
     "text": [
      "Train set size: 7318, with 3659 positive samples and 3659 negative samples\n",
      "Test set size: 1830, with 915 positive samples and 915 negative samples\n",
      "Segmentation Completed. \n"
     ]
    },
    {
     "name": "stderr",
     "output_type": "stream",
     "text": [
      "\n",
      "100%|██████████| 4/4 [00:00<00:00, 504.84it/s]\n"
     ]
    },
    {
     "name": "stdout",
     "output_type": "stream",
     "text": [
      "total_meal: 60 TP:  9 FP:  13 FN:  2\n",
      "Segmentation Completed. \n",
      "total_meal: 60 TP:  4 FP:  8 FN:  7\n",
      "Loading Dataset ...\n",
      "Loading File:  ../data/IndividualData/shaurya-data/12.3.2020/Consensys Exported Data.shm\n",
      "Loading File:  ../data/IndividualData/shaurya-data/11.15.2020/Data.shm\n",
      "Loading File:  ../data/IndividualData/shaurya-data/10.22.2020/Data.shm\n",
      "Loading File:  ../data/IndividualData/shaurya-data/1.16.2021/Consensys Exported Data.shm\n",
      "Loading File:  ../data/IndividualData/shaurya-data/1.10.2021/Consensys Exported Data.shm\n",
      "Loading File:  ../data/IndividualData/shaurya-data/10.25.2020/Data.shm\n",
      "Loading File:  ../data/IndividualData/shaurya-data/11.1.2020/Data.shm\n",
      "Loading File:  ../data/IndividualData/shaurya-data/11.18.2020/Data.shm\n",
      "Loading File:  ../data/IndividualData/shaurya-data/11.17.2020/Data.shm\n",
      "Loading File:  ../data/IndividualData/shaurya-data/1.13.2021/Consensys Exported Data.shm\n",
      "Loading File:  ../data/IndividualData/shaurya-data/1.11.2021/Consensys Exported Data.shm\n",
      "Loading File:  ../data/IndividualData/shaurya-data/1.12.2021/Consensys Exported Data.shm\n",
      "Loading File:  ../data/IndividualData/shaurya-data/1.19.2021/Consensys Exported Data.shm\n",
      "Fold: 0 Train on days:  [ 3  4  5  6  7  8  9 10 11 12] Test on days:  [0 1 2]\n"
     ]
    },
    {
     "name": "stderr",
     "output_type": "stream",
     "text": [
      "  0%|          | 0/3 [00:00<?, ?it/s]"
     ]
    },
    {
     "name": "stdout",
     "output_type": "stream",
     "text": [
      "Train set size: 7873, with 3936 positive samples and 3937 negative samples\n",
      "Test set size: 1969, with 985 positive samples and 984 negative samples\n"
     ]
    },
    {
     "name": "stderr",
     "output_type": "stream",
     "text": [
      "100%|██████████| 3/3 [00:00<00:00, 246.28it/s]\n",
      "100%|██████████| 3/3 [00:00<00:00, 225.88it/s]\n"
     ]
    },
    {
     "name": "stdout",
     "output_type": "stream",
     "text": [
      "Segmentation Completed. \n",
      "total_meal: 38 TP:  7 FP:  16 FN:  1\n",
      "Segmentation Completed. \n",
      "total_meal: 38 TP:  7 FP:  8 FN:  1\n",
      "Fold: 1 Train on days:  [ 0  1  2  6  7  8  9 10 11 12] Test on days:  [3 4 5]\n",
      "Train set size: 8523, with 4261 positive samples and 4262 negative samples\n",
      "Test set size: 2131, with 1066 positive samples and 1065 negative samples\n"
     ]
    },
    {
     "name": "stderr",
     "output_type": "stream",
     "text": [
      "100%|██████████| 3/3 [00:00<00:00, 238.02it/s]\n",
      "100%|██████████| 3/3 [00:00<00:00, 242.51it/s]\n"
     ]
    },
    {
     "name": "stdout",
     "output_type": "stream",
     "text": [
      "Segmentation Completed. \n",
      "total_meal: 38 TP:  5 FP:  10 FN:  4\n",
      "Segmentation Completed. \n",
      "total_meal: 38 TP:  7 FP:  5 FN:  2\n",
      "Fold: 2 Train on days:  [ 0  1  2  3  4  5  9 10 11 12] Test on days:  [6 7 8]\n",
      "Train set size: 8411, with 4205 positive samples and 4206 negative samples\n",
      "Test set size: 2103, with 1052 positive samples and 1051 negative samples\n"
     ]
    },
    {
     "name": "stderr",
     "output_type": "stream",
     "text": [
      "100%|██████████| 3/3 [00:00<00:00, 182.54it/s]\n",
      "100%|██████████| 3/3 [00:00<00:00, 173.69it/s]\n"
     ]
    },
    {
     "name": "stdout",
     "output_type": "stream",
     "text": [
      "Segmentation Completed. \n",
      "total_meal: 38 TP:  9 FP:  17 FN:  0\n",
      "Segmentation Completed. \n",
      "total_meal: 38 TP:  9 FP:  5 FN:  0\n",
      "Fold: 3 Train on days:  [ 0  1  2  3  4  5  6  7  8 11 12] Test on days:  [ 9 10]\n"
     ]
    },
    {
     "name": "stderr",
     "output_type": "stream",
     "text": [
      "100%|██████████| 2/2 [00:00<00:00, 262.05it/s]"
     ]
    },
    {
     "name": "stdout",
     "output_type": "stream",
     "text": [
      "Train set size: 8438, with 4219 positive samples and 4219 negative samples\n",
      "Test set size: 2110, with 1055 positive samples and 1055 negative samples\n",
      "Segmentation Completed. \n"
     ]
    },
    {
     "name": "stderr",
     "output_type": "stream",
     "text": [
      "\n",
      "100%|██████████| 2/2 [00:00<00:00, 240.80it/s]\n"
     ]
    },
    {
     "name": "stdout",
     "output_type": "stream",
     "text": [
      "total_meal: 38 TP:  6 FP:  4 FN:  0\n",
      "Segmentation Completed. \n",
      "total_meal: 38 TP:  5 FP:  3 FN:  1\n",
      "Fold: 4 Train on days:  [ 0  1  2  3  4  5  6  7  8  9 10] Test on days:  [11 12]\n"
     ]
    },
    {
     "name": "stderr",
     "output_type": "stream",
     "text": [
      "100%|██████████| 2/2 [00:00<00:00, 303.58it/s]"
     ]
    },
    {
     "name": "stdout",
     "output_type": "stream",
     "text": [
      "Train set size: 9217, with 4608 positive samples and 4609 negative samples\n",
      "Test set size: 2305, with 1153 positive samples and 1152 negative samples\n",
      "Segmentation Completed. \n"
     ]
    },
    {
     "name": "stderr",
     "output_type": "stream",
     "text": [
      "\n",
      "100%|██████████| 2/2 [00:00<00:00, 292.84it/s]\n"
     ]
    },
    {
     "name": "stdout",
     "output_type": "stream",
     "text": [
      "total_meal: 38 TP:  4 FP:  8 FN:  2\n",
      "Segmentation Completed. \n",
      "total_meal: 38 TP:  2 FP:  4 FN:  4\n",
      "Loading Dataset ...\n",
      "Loading File:  ../data/IndividualData/tianyi-data/1-18-21/Shimmer-Data.shm\n",
      "Loading File:  ../data/IndividualData/tianyi-data/2-3-21/Shimmer-Data.shm\n",
      "Loading File:  ../data/IndividualData/tianyi-data/1-25-21/Shimmer-Data.shm\n",
      "Loading File:  ../data/IndividualData/tianyi-data/1-19-21/Shimmer-Data.shm\n",
      "Loading File:  ../data/IndividualData/tianyi-data/1-26-21/Shimmer-Data.shm\n",
      "Loading File:  ../data/IndividualData/tianyi-data/1-20-21/Shimmer-Data.shm\n",
      "Loading File:  ../data/IndividualData/tianyi-data/1-31-21/Shimmer-Data.shm\n",
      "Loading File:  ../data/IndividualData/tianyi-data/1-16-21/Shimmer-Data.shm\n",
      "Loading File:  ../data/IndividualData/tianyi-data/1-27-21/Shimmer-Data.shm\n",
      "Loading File:  ../data/IndividualData/tianyi-data/1-14-21/Shimmer-Data.shm\n",
      "Loading File:  ../data/IndividualData/tianyi-data/2-2-21/Shimmer-Data.shm\n",
      "Loading File:  ../data/IndividualData/tianyi-data/1-28-21/Shimmer-Data.shm\n",
      "Loading File:  ../data/IndividualData/tianyi-data/1-22-21/Shimmer-Data.shm\n",
      "Loading File:  ../data/IndividualData/tianyi-data/1-17-21/Shimmer-Data.shm\n",
      "Fold: 0 Train on days:  [ 3  4  5  6  7  8  9 10 11 12 13] Test on days:  [0 1 2]\n"
     ]
    },
    {
     "name": "stderr",
     "output_type": "stream",
     "text": [
      "100%|██████████| 3/3 [00:00<00:00, 250.63it/s]"
     ]
    },
    {
     "name": "stdout",
     "output_type": "stream",
     "text": [
      "Train set size: 5016, with 2508 positive samples and 2508 negative samples\n",
      "Test set size: 1254, with 627 positive samples and 627 negative samples\n",
      "Segmentation Completed. \n"
     ]
    },
    {
     "name": "stderr",
     "output_type": "stream",
     "text": [
      "\n",
      "100%|██████████| 3/3 [00:00<00:00, 223.13it/s]\n"
     ]
    },
    {
     "name": "stdout",
     "output_type": "stream",
     "text": [
      "total_meal: 20 TP:  3 FP:  6 FN:  2\n",
      "Segmentation Completed. \n",
      "total_meal: 20 TP:  3 FP:  3 FN:  2\n",
      "Fold: 1 Train on days:  [ 0  1  2  6  7  8  9 10 11 12 13] Test on days:  [3 4 5]\n",
      "Train set size: 5630, with 2815 positive samples and 2815 negative samples\n",
      "Test set size: 1408, with 704 positive samples and 704 negative samples\n"
     ]
    },
    {
     "name": "stderr",
     "output_type": "stream",
     "text": [
      "100%|██████████| 3/3 [00:00<00:00, 217.75it/s]\n",
      "100%|██████████| 3/3 [00:00<00:00, 210.82it/s]\n"
     ]
    },
    {
     "name": "stdout",
     "output_type": "stream",
     "text": [
      "Segmentation Completed. \n",
      "total_meal: 20 TP:  3 FP:  11 FN:  0\n",
      "Segmentation Completed. \n",
      "total_meal: 20 TP:  3 FP:  5 FN:  0\n",
      "Fold: 2 Train on days:  [ 0  1  2  3  4  5  9 10 11 12 13] Test on days:  [6 7 8]\n"
     ]
    },
    {
     "name": "stderr",
     "output_type": "stream",
     "text": [
      "100%|██████████| 3/3 [00:00<00:00, 356.52it/s]"
     ]
    },
    {
     "name": "stdout",
     "output_type": "stream",
     "text": [
      "Train set size: 5380, with 2690 positive samples and 2690 negative samples\n",
      "Test set size: 1346, with 673 positive samples and 673 negative samples\n",
      "Segmentation Completed. \n"
     ]
    },
    {
     "name": "stderr",
     "output_type": "stream",
     "text": [
      "\n",
      "100%|██████████| 3/3 [00:00<00:00, 345.16it/s]\n"
     ]
    },
    {
     "name": "stdout",
     "output_type": "stream",
     "text": [
      "total_meal: 20 TP:  4 FP:  13 FN:  1\n",
      "Segmentation Completed. \n",
      "total_meal: 20 TP:  3 FP:  6 FN:  2\n",
      "Fold: 3 Train on days:  [ 0  1  2  3  4  5  6  7  8 12 13] Test on days:  [ 9 10 11]\n"
     ]
    },
    {
     "name": "stderr",
     "output_type": "stream",
     "text": [
      "100%|██████████| 3/3 [00:00<00:00, 316.31it/s]"
     ]
    },
    {
     "name": "stdout",
     "output_type": "stream",
     "text": [
      "Train set size: 5148, with 2574 positive samples and 2574 negative samples\n",
      "Test set size: 1288, with 644 positive samples and 644 negative samples\n",
      "Segmentation Completed. \n"
     ]
    },
    {
     "name": "stderr",
     "output_type": "stream",
     "text": [
      "\n",
      "100%|██████████| 3/3 [00:00<00:00, 293.08it/s]\n"
     ]
    },
    {
     "name": "stdout",
     "output_type": "stream",
     "text": [
      "total_meal: 20 TP:  3 FP:  3 FN:  1\n",
      "Segmentation Completed. \n",
      "total_meal: 20 TP:  3 FP:  3 FN:  1\n",
      "Fold: 4 Train on days:  [ 0  1  2  3  4  5  6  7  8  9 10 11] Test on days:  [12 13]\n"
     ]
    },
    {
     "name": "stderr",
     "output_type": "stream",
     "text": [
      "100%|██████████| 2/2 [00:00<00:00, 266.71it/s]"
     ]
    },
    {
     "name": "stdout",
     "output_type": "stream",
     "text": [
      "Train set size: 6030, with 3015 positive samples and 3015 negative samples\n",
      "Test set size: 1508, with 754 positive samples and 754 negative samples\n",
      "Segmentation Completed. \n"
     ]
    },
    {
     "name": "stderr",
     "output_type": "stream",
     "text": [
      "\n",
      "100%|██████████| 2/2 [00:00<00:00, 243.18it/s]\n"
     ]
    },
    {
     "name": "stdout",
     "output_type": "stream",
     "text": [
      "total_meal: 20 TP:  3 FP:  8 FN:  0\n",
      "Segmentation Completed. \n",
      "total_meal: 20 TP:  3 FP:  2 FN:  0\n",
      "Loading Dataset ...\n",
      "Loading File:  ../data/IndividualData/james-data/02-03-2021/Day13.shm\n",
      "Loading File:  ../data/IndividualData/james-data/02-02-2021/Day12.shm\n",
      "Loading File:  ../data/IndividualData/james-data/02-01-2021/Day11.shm\n",
      "Loading File:  ../data/IndividualData/james-data/1-30-2021/Day9.shm\n",
      "Loading File:  ../data/IndividualData/james-data/1-26-2021/Day5.shm\n",
      "Loading File:  ../data/IndividualData/james-data/1-25-2021/Day4.shm\n",
      "Loading File:  ../data/IndividualData/james-data/1-29-2021/Day8.shm\n",
      "Loading File:  ../data/IndividualData/james-data/1-24-2021/Day3.shm\n",
      "Loading File:  ../data/IndividualData/james-data/02-04-2021/Day14.shm\n",
      "Loading File:  ../data/IndividualData/james-data/1-31-2021/Day10.shm\n",
      "Loading File:  ../data/IndividualData/james-data/1-27-2021/Day6.shm\n",
      "Loading File:  ../data/IndividualData/james-data/1-28-2021/Day7.shm\n",
      "Fold: 0 Train on days:  [ 3  4  5  6  7  8  9 10 11] Test on days:  [0 1 2]\n"
     ]
    },
    {
     "name": "stderr",
     "output_type": "stream",
     "text": [
      "100%|██████████| 3/3 [00:00<00:00, 239.14it/s]"
     ]
    },
    {
     "name": "stdout",
     "output_type": "stream",
     "text": [
      "Train set size: 5969, with 2984 positive samples and 2985 negative samples\n",
      "Test set size: 1493, with 747 positive samples and 746 negative samples\n",
      "Segmentation Completed. \n"
     ]
    },
    {
     "name": "stderr",
     "output_type": "stream",
     "text": [
      "\n",
      "100%|██████████| 3/3 [00:00<00:00, 223.78it/s]\n"
     ]
    },
    {
     "name": "stdout",
     "output_type": "stream",
     "text": [
      "total_meal: 26 TP:  5 FP:  9 FN:  1\n",
      "Segmentation Completed. \n",
      "total_meal: 26 TP:  5 FP:  14 FN:  1\n",
      "Fold: 1 Train on days:  [ 0  1  2  6  7  8  9 10 11] Test on days:  [3 4 5]\n"
     ]
    },
    {
     "name": "stderr",
     "output_type": "stream",
     "text": [
      "100%|██████████| 3/3 [00:00<00:00, 235.53it/s]"
     ]
    },
    {
     "name": "stdout",
     "output_type": "stream",
     "text": [
      "Train set size: 5648, with 2824 positive samples and 2824 negative samples\n",
      "Test set size: 1412, with 706 positive samples and 706 negative samples\n",
      "Segmentation Completed. \n"
     ]
    },
    {
     "name": "stderr",
     "output_type": "stream",
     "text": [
      "\n",
      "100%|██████████| 3/3 [00:00<00:00, 225.15it/s]\n"
     ]
    },
    {
     "name": "stdout",
     "output_type": "stream",
     "text": [
      "total_meal: 26 TP:  7 FP:  15 FN:  0\n",
      "Segmentation Completed. \n",
      "total_meal: 26 TP:  6 FP:  10 FN:  1\n",
      "Fold: 2 Train on days:  [ 0  1  2  3  4  5  8  9 10 11] Test on days:  [6 7]\n"
     ]
    },
    {
     "name": "stderr",
     "output_type": "stream",
     "text": [
      "  0%|          | 0/2 [00:00<?, ?it/s]"
     ]
    },
    {
     "name": "stdout",
     "output_type": "stream",
     "text": [
      "Train set size: 6529, with 3264 positive samples and 3265 negative samples\n",
      "Test set size: 1633, with 817 positive samples and 816 negative samples\n"
     ]
    },
    {
     "name": "stderr",
     "output_type": "stream",
     "text": [
      "100%|██████████| 2/2 [00:00<00:00, 203.17it/s]\n",
      "100%|██████████| 2/2 [00:00<00:00, 178.67it/s]\n"
     ]
    },
    {
     "name": "stdout",
     "output_type": "stream",
     "text": [
      "Segmentation Completed. \n",
      "total_meal: 26 TP:  4 FP:  2 FN:  0\n",
      "Segmentation Completed. \n",
      "total_meal: 26 TP:  4 FP:  5 FN:  0\n",
      "Fold: 3 Train on days:  [ 0  1  2  3  4  5  6  7 10 11] Test on days:  [8 9]\n",
      "Train set size: 7297, with 3648 positive samples and 3649 negative samples\n",
      "Test set size: 1825, with 913 positive samples and 912 negative samples\n"
     ]
    },
    {
     "name": "stderr",
     "output_type": "stream",
     "text": [
      "100%|██████████| 2/2 [00:00<00:00, 182.63it/s]\n",
      "100%|██████████| 2/2 [00:00<00:00, 162.37it/s]\n"
     ]
    },
    {
     "name": "stdout",
     "output_type": "stream",
     "text": [
      "Segmentation Completed. \n",
      "total_meal: 26 TP:  3 FP:  3 FN:  0\n",
      "Segmentation Completed. \n",
      "total_meal: 26 TP:  3 FP:  4 FN:  0\n",
      "Fold: 4 Train on days:  [0 1 2 3 4 5 6 7 8 9] Test on days:  [10 11]\n"
     ]
    },
    {
     "name": "stderr",
     "output_type": "stream",
     "text": [
      "100%|██████████| 2/2 [00:00<00:00, 233.58it/s]"
     ]
    },
    {
     "name": "stdout",
     "output_type": "stream",
     "text": [
      "Train set size: 6740, with 3370 positive samples and 3370 negative samples\n",
      "Test set size: 1686, with 843 positive samples and 843 negative samples\n",
      "Segmentation Completed. \n"
     ]
    },
    {
     "name": "stderr",
     "output_type": "stream",
     "text": [
      "\n",
      "100%|██████████| 2/2 [00:00<00:00, 219.12it/s]"
     ]
    },
    {
     "name": "stdout",
     "output_type": "stream",
     "text": [
      "total_meal: 26 TP:  5 FP:  6 FN:  1\n",
      "Segmentation Completed. \n",
      "total_meal: 26 TP:  5 FP:  6 FN:  1\n",
      "CPU times: user 47.2 s, sys: 1.75 s, total: 49 s\n",
      "Wall time: 49.4 s\n"
     ]
    },
    {
     "name": "stderr",
     "output_type": "stream",
     "text": [
      "\n"
     ]
    }
   ],
   "source": [
    "\n",
    "\n",
    "\n",
    "%time meal_info, time_perf2,episode_perf2 = cross_validation_metrics(balance_ratio= balance_ratio, model_arch = acti_model, fold_num = 5, winmin=6, stridesec = 5, \\\n",
    "                                                             names= persons,model_name= \"acti_model\", \\\n",
    "                                                             random_seed=random_seed,  test_balance=False, re_train =False, \\\n",
    "                                                             test_CAD=False, metrics =['episode'], load_data =False, ind_threshold =ind_thresholds)\n",
    "\n",
    "episode_perf2 = pd.merge(left=meal_info,right=episode_perf2,on=\"dataset\")"
   ]
  },
  {
   "cell_type": "code",
   "execution_count": 55,
   "metadata": {},
   "outputs": [
    {
     "data": {
      "text/html": [
       "<div>\n",
       "<style scoped>\n",
       "    .dataframe tbody tr th:only-of-type {\n",
       "        vertical-align: middle;\n",
       "    }\n",
       "\n",
       "    .dataframe tbody tr th {\n",
       "        vertical-align: top;\n",
       "    }\n",
       "\n",
       "    .dataframe thead th {\n",
       "        text-align: right;\n",
       "    }\n",
       "</style>\n",
       "<table border=\"1\" class=\"dataframe\">\n",
       "  <thead>\n",
       "    <tr style=\"text-align: right;\">\n",
       "      <th></th>\n",
       "      <th>dataset</th>\n",
       "      <th>Days</th>\n",
       "      <th>Meal_Hours</th>\n",
       "      <th>Meal_Counts</th>\n",
       "      <th>win(sec)</th>\n",
       "      <th>TPR: Individual-Model</th>\n",
       "      <th>TPR: GroupModel</th>\n",
       "      <th>FP/TP: Individual-Model</th>\n",
       "      <th>FP/TP: GroupModel</th>\n",
       "      <th>TP: Individual-Model</th>\n",
       "      <th>TP: GroupModel</th>\n",
       "      <th>FP: Individual-Model</th>\n",
       "      <th>FP: GroupModel</th>\n",
       "      <th>FN: Individual-Model</th>\n",
       "      <th>FN: GroupModel</th>\n",
       "    </tr>\n",
       "  </thead>\n",
       "  <tbody>\n",
       "    <tr>\n",
       "      <th>0</th>\n",
       "      <td>wenkanw</td>\n",
       "      <td>17</td>\n",
       "      <td>7</td>\n",
       "      <td>32</td>\n",
       "      <td>360</td>\n",
       "      <td>0.969</td>\n",
       "      <td>0.625</td>\n",
       "      <td>0.484</td>\n",
       "      <td>0.3</td>\n",
       "      <td>31</td>\n",
       "      <td>20</td>\n",
       "      <td>15</td>\n",
       "      <td>6</td>\n",
       "      <td>1</td>\n",
       "      <td>12</td>\n",
       "    </tr>\n",
       "    <tr>\n",
       "      <th>1</th>\n",
       "      <td>adam</td>\n",
       "      <td>14</td>\n",
       "      <td>3</td>\n",
       "      <td>26</td>\n",
       "      <td>360</td>\n",
       "      <td>0.923</td>\n",
       "      <td>0.923</td>\n",
       "      <td>0.292</td>\n",
       "      <td>0.333</td>\n",
       "      <td>24</td>\n",
       "      <td>24</td>\n",
       "      <td>7</td>\n",
       "      <td>8</td>\n",
       "      <td>2</td>\n",
       "      <td>2</td>\n",
       "    </tr>\n",
       "    <tr>\n",
       "      <th>2</th>\n",
       "      <td>lawler</td>\n",
       "      <td>23</td>\n",
       "      <td>7</td>\n",
       "      <td>60</td>\n",
       "      <td>360</td>\n",
       "      <td>0.817</td>\n",
       "      <td>0.333</td>\n",
       "      <td>1.735</td>\n",
       "      <td>2.6</td>\n",
       "      <td>49</td>\n",
       "      <td>20</td>\n",
       "      <td>85</td>\n",
       "      <td>52</td>\n",
       "      <td>11</td>\n",
       "      <td>40</td>\n",
       "    </tr>\n",
       "    <tr>\n",
       "      <th>3</th>\n",
       "      <td>shaurya</td>\n",
       "      <td>13</td>\n",
       "      <td>9</td>\n",
       "      <td>38</td>\n",
       "      <td>360</td>\n",
       "      <td>0.816</td>\n",
       "      <td>0.789</td>\n",
       "      <td>1.774</td>\n",
       "      <td>0.833</td>\n",
       "      <td>31</td>\n",
       "      <td>30</td>\n",
       "      <td>55</td>\n",
       "      <td>25</td>\n",
       "      <td>7</td>\n",
       "      <td>8</td>\n",
       "    </tr>\n",
       "    <tr>\n",
       "      <th>4</th>\n",
       "      <td>tianyi</td>\n",
       "      <td>14</td>\n",
       "      <td>5</td>\n",
       "      <td>20</td>\n",
       "      <td>360</td>\n",
       "      <td>0.8</td>\n",
       "      <td>0.75</td>\n",
       "      <td>2.562</td>\n",
       "      <td>1.267</td>\n",
       "      <td>16</td>\n",
       "      <td>15</td>\n",
       "      <td>41</td>\n",
       "      <td>19</td>\n",
       "      <td>4</td>\n",
       "      <td>5</td>\n",
       "    </tr>\n",
       "    <tr>\n",
       "      <th>5</th>\n",
       "      <td>james</td>\n",
       "      <td>12</td>\n",
       "      <td>6</td>\n",
       "      <td>26</td>\n",
       "      <td>360</td>\n",
       "      <td>0.923</td>\n",
       "      <td>0.885</td>\n",
       "      <td>1.458</td>\n",
       "      <td>1.696</td>\n",
       "      <td>24</td>\n",
       "      <td>23</td>\n",
       "      <td>35</td>\n",
       "      <td>39</td>\n",
       "      <td>2</td>\n",
       "      <td>3</td>\n",
       "    </tr>\n",
       "    <tr>\n",
       "      <th>6</th>\n",
       "      <td>average performance</td>\n",
       "      <td>-</td>\n",
       "      <td>-</td>\n",
       "      <td>-</td>\n",
       "      <td>-</td>\n",
       "      <td>0.875</td>\n",
       "      <td>0.717</td>\n",
       "      <td>1.384</td>\n",
       "      <td>1.172</td>\n",
       "      <td>29.167</td>\n",
       "      <td>22</td>\n",
       "      <td>39.667</td>\n",
       "      <td>24.833</td>\n",
       "      <td>4.5</td>\n",
       "      <td>11.667</td>\n",
       "    </tr>\n",
       "  </tbody>\n",
       "</table>\n",
       "</div>"
      ],
      "text/plain": [
       "               dataset Days Meal_Hours Meal_Counts win(sec)  \\\n",
       "0              wenkanw   17          7          32      360   \n",
       "1                 adam   14          3          26      360   \n",
       "2               lawler   23          7          60      360   \n",
       "3              shaurya   13          9          38      360   \n",
       "4               tianyi   14          5          20      360   \n",
       "5                james   12          6          26      360   \n",
       "6  average performance    -          -           -        -   \n",
       "\n",
       "  TPR: Individual-Model TPR: GroupModel FP/TP: Individual-Model  \\\n",
       "0                 0.969           0.625                   0.484   \n",
       "1                 0.923           0.923                   0.292   \n",
       "2                 0.817           0.333                   1.735   \n",
       "3                 0.816           0.789                   1.774   \n",
       "4                   0.8            0.75                   2.562   \n",
       "5                 0.923           0.885                   1.458   \n",
       "6                 0.875           0.717                   1.384   \n",
       "\n",
       "  FP/TP: GroupModel TP: Individual-Model TP: GroupModel FP: Individual-Model  \\\n",
       "0               0.3                   31             20                   15   \n",
       "1             0.333                   24             24                    7   \n",
       "2               2.6                   49             20                   85   \n",
       "3             0.833                   31             30                   55   \n",
       "4             1.267                   16             15                   41   \n",
       "5             1.696                   24             23                   35   \n",
       "6             1.172               29.167             22               39.667   \n",
       "\n",
       "  FP: GroupModel FN: Individual-Model FN: GroupModel  \n",
       "0              6                    1             12  \n",
       "1              8                    2              2  \n",
       "2             52                   11             40  \n",
       "3             25                    7              8  \n",
       "4             19                    4              5  \n",
       "5             39                    2              3  \n",
       "6         24.833                  4.5         11.667  "
      ]
     },
     "execution_count": 55,
     "metadata": {},
     "output_type": "execute_result"
    }
   ],
   "source": [
    "episode_metrics_individual_param = print_episode_metrics(episode_perf2)\n",
    "episode_metrics_individual_param"
   ]
  },
  {
   "cell_type": "code",
   "execution_count": 56,
   "metadata": {},
   "outputs": [],
   "source": [
    "save_path = \"../results/\"\n",
    "episode_metrics_individual_param.to_csv(save_path+\"episode_metrics/updated_cv_fold5_episode_metrics_individual_param.csv\",index=False)"
   ]
  },
  {
   "cell_type": "code",
   "execution_count": 58,
   "metadata": {},
   "outputs": [],
   "source": [
    "# episode_metrics_individual_param = pd.read_csv(save_path+\"episode_metrics/updated_cv_fold5_episode_metrics_individual_param.csv\")\n"
   ]
  },
  {
   "cell_type": "code",
   "execution_count": null,
   "metadata": {},
   "outputs": [],
   "source": []
  }
 ],
 "metadata": {
  "kernelspec": {
   "display_name": "mlenv_v2",
   "language": "python",
   "name": "mlenv"
  },
  "language_info": {
   "codemirror_mode": {
    "name": "ipython",
    "version": 3
   },
   "file_extension": ".py",
   "mimetype": "text/x-python",
   "name": "python",
   "nbconvert_exporter": "python",
   "pygments_lexer": "ipython3",
   "version": "3.8.5"
  },
  "widgets": {
   "application/vnd.jupyter.widget-state+json": {
    "state": {},
    "version_major": 2,
    "version_minor": 0
   }
  }
 },
 "nbformat": 4,
 "nbformat_minor": 4
}
