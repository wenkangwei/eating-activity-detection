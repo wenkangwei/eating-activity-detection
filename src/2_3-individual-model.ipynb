{
 "cells": [
  {
   "cell_type": "markdown",
   "metadata": {},
   "source": [
    "# 2.3 Individual Model 3-lawler"
   ]
  },
  {
   "cell_type": "code",
   "execution_count": 1,
   "metadata": {},
   "outputs": [
    {
     "name": "stdout",
     "output_type": "stream",
     "text": [
      "Device:  cuda Device Count:  2 Device Name:  Tesla V100-PCIE-16GB\n",
      "Torch version: 1.7.1\n"
     ]
    },
    {
     "data": {
      "text/plain": [
       "device(type='cuda')"
      ]
     },
     "execution_count": 1,
     "metadata": {},
     "output_type": "execute_result"
    }
   ],
   "source": [
    "import numpy as np\n",
    "import pandas as pd\n",
    "import torch\n",
    "from torch import optim, nn\n",
    "import sklearn\n",
    "import seaborn as sns\n",
    "import matplotlib.pyplot as plt\n",
    "%matplotlib inline\n",
    "import os\n",
    "from dataset import create_train_test_file_list, Person_MealsDataset, balance_data_indices\n",
    "\n",
    "\n",
    "device = torch.device(\"cuda\" if torch.cuda.is_available() else \"cpu\")\n",
    "if torch.cuda.is_available():\n",
    "    print(\"Device: \",device,\"Device Count: \", torch.cuda.device_count(), \"Device Name: \",torch.cuda.get_device_name()  )\n",
    "    print(\"Torch version:\", torch.__version__)\n",
    "device"
   ]
  },
  {
   "cell_type": "code",
   "execution_count": 2,
   "metadata": {},
   "outputs": [],
   "source": [
    "import sys\n",
    "\n",
    "### imports\n",
    "import os\n",
    "os.environ['TF_CPP_MIN_LOG_LEVEL'] = '3' # Turn off TensorFlow logging\n",
    "import tensorflow.compat.v1 as tf # maintain compatibility with TensorFlow 2.2.0\n",
    "\n",
    "import keras\n",
    "# from tensorflow.compat.v1.keras import backend as K # changed for compatibility with TensorFlow 2.2.0\n",
    "import numpy as np\n",
    "import pandas as pd\n",
    "import random\n",
    "#from sklearn.metrics import classification_report, confusion_matrix\n",
    "from datetime import datetime\n",
    "import loadfile\n",
    "import addons\n",
    "\n",
    "import keras\n",
    "from keras.models import Sequential\n",
    "from keras.layers import Dense, Dropout, Flatten, Reshape, Activation\n",
    "from keras.layers import Conv1D, MaxPooling1D, GlobalAveragePooling1D\n",
    "from keras.utils import np_utils\n",
    "from keras.regularizers import l1\n",
    "from keras.models import load_model, save_model\n",
    "\n",
    "from tensorflow.compat.v1.keras import backend as K\n",
    "import numpy as np\n",
    "\n",
    "shimmer_global_mean = [-0.012359981,-0.0051663737,0.011612018,\n",
    "                        0.05796114,0.1477952,-0.034395125 ]\n",
    "\n",
    "shimmer_global_stddev = [0.05756385,0.040893298,0.043825723,\n",
    "                        17.199743,15.311142,21.229317 ]\n",
    "\n",
    "shimmer_trended_mean = [-0.000002,-0.000002,-0.000000,\n",
    "                0.058144,0.147621,-0.033260 ]\n",
    "\n",
    "shimmer_trended_stddev = [0.037592,0.034135,0.032263,\n",
    "                17.209038,15.321441,21.242532 ]\n",
    "\n",
    "all_zero_means = [0,0,0,0,0,0]\n",
    "\n",
    "meanvals = all_zero_means\n",
    "stdvals = shimmer_trended_stddev\n",
    "\n",
    "\n",
    "random_seed  = 1000\n",
    "batch_size = 128"
   ]
  },
  {
   "cell_type": "code",
   "execution_count": 3,
   "metadata": {},
   "outputs": [],
   "source": [
    "# Load my models and functions\n",
    "from dataset import create_train_test_file_list, Person_MealsDataset, balance_data_indices\n",
    "from utils import *\n",
    "from model import *\n"
   ]
  },
  {
   "cell_type": "code",
   "execution_count": 4,
   "metadata": {},
   "outputs": [
    {
     "name": "stdout",
     "output_type": "stream",
     "text": [
      "*****************************************************************\n",
      "\n",
      "Execution Started at 12/20/2020, 20:03:40\n",
      "WindowLength: 3.00 min (2700 datum)\tSlide: 15 (225 datum)\tEpochs:30\n",
      "\n"
     ]
    }
   ],
   "source": [
    "EPOCHS = 30\n",
    "winmin = 3 \n",
    "stridesec = 15\n",
    "\n",
    "print_settings(winmin,stridesec, EPOCHS)"
   ]
  },
  {
   "cell_type": "code",
   "execution_count": 5,
   "metadata": {},
   "outputs": [
    {
     "name": "stdout",
     "output_type": "stream",
     "text": [
      "Loading Dataset ...\n",
      "Loading File:  ../data/IndividualData/lawler-data/10.10/10.10.shm\n",
      "Loading File:  ../data/IndividualData/lawler-data/10.12/10.12.shm\n",
      "Loading File:  ../data/IndividualData/lawler-data/10.14/10.14.shm\n",
      "Loading File:  ../data/IndividualData/lawler-data/10.16/10.16.shm\n",
      "Loading File:  ../data/IndividualData/lawler-data/10.19/10.19.shm\n",
      "Loading File:  ../data/IndividualData/lawler-data/10.20/afternoon_2hr33min/10.20.shm\n",
      "Loading File:  ../data/IndividualData/lawler-data/10.20/evening_2hr_20min/10.20.shm\n",
      "Loading File:  ../data/IndividualData/lawler-data/10.21/10.21.shm\n",
      "Loading File:  ../data/IndividualData/lawler-data/10.26/10.26.shm\n",
      "Loading File:  ../data/IndividualData/lawler-data/10.28/10.28.shm\n",
      "Loading File:  ../data/IndividualData/lawler-data/10.31/10.31.shm\n",
      "Loading File:  ../data/IndividualData/lawler-data/10.31/evening-2hr_goodDinnerTemplate_CFAmeal/10.31.shm\n",
      "Loading File:  ../data/IndividualData/lawler-data/10.4/10.4.shm\n",
      "Loading File:  ../data/IndividualData/lawler-data/10.6/10.6.shm\n",
      "Loading File:  ../data/IndividualData/lawler-data/10.8/10.8.shm\n",
      "Loading File:  ../data/IndividualData/lawler-data/11.11/11.11.shm\n",
      "Loading File:  ../data/IndividualData/lawler-data/11.14/11.14.shm\n",
      "Loading File:  ../data/IndividualData/lawler-data/11.15/11.15.shm\n",
      "Loading File:  ../data/IndividualData/lawler-data/11.2/11.2.shm\n",
      "Loading File:  ../data/IndividualData/lawler-data/11.3/11.3.shm\n",
      "Loading File:  ../data/IndividualData/lawler-data/11.4/11.4.shm\n",
      "Loading File:  ../data/IndividualData/lawler-data/9.23/9.23_13hr.shm\n",
      "Loading File:  ../data/IndividualData/lawler-data/9.25/9.25_1-46.shm\n",
      "Train set size: 31896, with 1438 positive samples and 30458 negative samples\n",
      "Test set size: 7974, with 359 positive samples and 7615 negative samples\n"
     ]
    }
   ],
   "source": [
    "person = \"lawler\"\n",
    "meal_data = Person_MealsDataset(person_name= person, file_name = \"all_files_list\", winmin = winmin,stridesec = stridesec)\n",
    "samples,labels =  meal_data.data_indices, meal_data.labels\n",
    "# split train set and test set\n",
    "train_indices, test_indices = split_train_test_indices(X= [i for i in range(len(labels))],\n",
    "                                                        y = labels, test_size = 0.2,\n",
    "                                                       random_seed = random_seed)\n",
    "# balance train set\n",
    "trainset_labels = labels[train_indices]\n",
    "train_indices_balanced = balance_data_indices(trainset_labels,data_indices= train_indices,mode=\"under\", shuffle=True,random_state = random_seed,replace= False)\n"
   ]
  },
  {
   "cell_type": "code",
   "execution_count": 6,
   "metadata": {},
   "outputs": [
    {
     "name": "stdout",
     "output_type": "stream",
     "text": [
      "Data Loader Created\n"
     ]
    }
   ],
   "source": [
    "train_set_balanced = torch.utils.data.Subset(meal_data, train_indices_balanced)\n",
    "test_set = torch.utils.data.Subset(meal_data, test_indices)\n",
    "\n",
    "train_loader = torch.utils.data.DataLoader(train_set_balanced,batch_size=batch_size, shuffle=True,num_workers=2)\n",
    "test_loader = torch.utils.data.DataLoader(test_set ,batch_size=batch_size, shuffle=True,num_workers=2)\n",
    "\n",
    "print(\"Data Loader Created\")"
   ]
  },
  {
   "cell_type": "code",
   "execution_count": 7,
   "metadata": {},
   "outputs": [
    {
     "name": "stdout",
     "output_type": "stream",
     "text": [
      "Train set size: 2300, with 1150 positive samples and 1150 negative samples\n",
      "Test set size: 576, with 288 positive samples and 288 negative samples\n",
      "Training set batch amounts: 23\n",
      "Test set : 5\n",
      "Start Training..\n",
      "Epoch: 0,  Epoch_Loss: 1.7469, Train Acc: 51.1822 %, Train Recall: 0.4854, Validation Acc:  54.8611 %,  Validation Recall: 0.2049  \n",
      "Checkpoint Saved\n",
      "\n",
      "\n",
      "Epoch: 1,  Epoch_Loss: 0.7495, Train Acc: 55.8762 %, Train Recall: 0.5918, Validation Acc:  55.3819 %,  Validation Recall: 0.2882  \n",
      "Checkpoint Saved\n",
      "\n",
      "\n",
      "Epoch: 2,  Epoch_Loss: 0.6452, Train Acc: 60.5355 %, Train Recall: 0.6022, Validation Acc:  60.2431 %,  Validation Recall: 0.5104  \n",
      "Checkpoint Saved\n",
      "\n",
      "\n",
      "Epoch: 3,  Epoch_Loss: 0.6069, Train Acc: 66.3769 %, Train Recall: 0.6961, Validation Acc:  64.2361 %,  Validation Recall: 0.9201  \n",
      "Checkpoint Saved\n",
      "\n",
      "\n",
      "Epoch: 4,  Epoch_Loss: 0.5705, Train Acc: 71.5925 %, Train Recall: 0.7629, Validation Acc:  70.1389 %,  Validation Recall: 0.7882  \n",
      "Checkpoint Saved\n",
      "\n",
      "\n",
      "Epoch: 5,  Epoch_Loss: 0.5490, Train Acc: 72.7051 %, Train Recall: 0.7573, Validation Acc:  72.5694 %,  Validation Recall: 0.7674  \n",
      "Checkpoint Saved\n",
      "\n",
      "\n",
      "Epoch: 6,  Epoch_Loss: 0.5308, Train Acc: 73.4353 %, Train Recall: 0.7615, Validation Acc:  71.3542 %,  Validation Recall: 0.8819  \n",
      "\n",
      "\n",
      "Epoch: 7,  Epoch_Loss: 0.5209, Train Acc: 74.7218 %, Train Recall: 0.7928, Validation Acc:  72.0486 %,  Validation Recall: 0.7361  \n",
      "\n",
      "\n",
      "Epoch: 8,  Epoch_Loss: 0.5178, Train Acc: 75.5216 %, Train Recall: 0.7816, Validation Acc:  72.5694 %,  Validation Recall: 0.7361  \n",
      "\n",
      "\n",
      "Epoch: 9,  Epoch_Loss: 0.5157, Train Acc: 75.5911 %, Train Recall: 0.7754, Validation Acc:  72.5694 %,  Validation Recall: 0.7604  \n",
      "\n",
      "\n",
      "Epoch: 10,  Epoch_Loss: 0.5122, Train Acc: 75.0348 %, Train Recall: 0.7726, Validation Acc:  72.0486 %,  Validation Recall: 0.7326  \n",
      "\n",
      "\n",
      "Epoch: 11,  Epoch_Loss: 0.5166, Train Acc: 75.3825 %, Train Recall: 0.7761, Validation Acc:  72.2222 %,  Validation Recall: 0.7431  \n",
      "\n",
      "\n",
      "Epoch: 12,  Epoch_Loss: 0.5116, Train Acc: 74.8609 %, Train Recall: 0.7733, Validation Acc:  71.8750 %,  Validation Recall: 0.7361  \n",
      "\n",
      "\n",
      "Epoch: 13,  Epoch_Loss: 0.5138, Train Acc: 75.0348 %, Train Recall: 0.7747, Validation Acc:  72.0486 %,  Validation Recall: 0.7326  \n",
      "\n",
      "\n",
      "Epoch: 14,  Epoch_Loss: 0.5169, Train Acc: 75.3477 %, Train Recall: 0.7803, Validation Acc:  71.8750 %,  Validation Recall: 0.7361  \n",
      "\n",
      "\n",
      "Epoch: 15,  Epoch_Loss: 0.5128, Train Acc: 75.3129 %, Train Recall: 0.7768, Validation Acc:  72.7431 %,  Validation Recall: 0.7500  \n",
      "Checkpoint Saved\n",
      "\n",
      "\n",
      "Epoch: 16,  Epoch_Loss: 0.5117, Train Acc: 75.9388 %, Train Recall: 0.7886, Validation Acc:  72.0486 %,  Validation Recall: 0.7361  \n",
      "\n",
      "\n",
      "Epoch: 17,  Epoch_Loss: 0.5124, Train Acc: 75.5216 %, Train Recall: 0.7761, Validation Acc:  72.0486 %,  Validation Recall: 0.7326  \n",
      "\n",
      "\n",
      "Epoch: 18,  Epoch_Loss: 0.5164, Train Acc: 75.6606 %, Train Recall: 0.7830, Validation Acc:  72.0486 %,  Validation Recall: 0.7326  \n",
      "\n",
      "\n",
      "Epoch: 19,  Epoch_Loss: 0.5133, Train Acc: 75.5563 %, Train Recall: 0.7809, Validation Acc:  71.8750 %,  Validation Recall: 0.7326  \n",
      "\n",
      "\n",
      "Epoch: 20,  Epoch_Loss: 0.5099, Train Acc: 75.3129 %, Train Recall: 0.7768, Validation Acc:  71.8750 %,  Validation Recall: 0.7292  \n",
      "\n",
      "\n",
      "Epoch: 21,  Epoch_Loss: 0.5114, Train Acc: 75.5911 %, Train Recall: 0.7761, Validation Acc:  71.8750 %,  Validation Recall: 0.7292  \n",
      "\n",
      "\n",
      "Epoch: 22,  Epoch_Loss: 0.5100, Train Acc: 76.1474 %, Train Recall: 0.7837, Validation Acc:  71.8750 %,  Validation Recall: 0.7326  \n",
      "\n",
      "\n",
      "Epoch: 23,  Epoch_Loss: 0.5138, Train Acc: 75.1739 %, Train Recall: 0.7761, Validation Acc:  71.8750 %,  Validation Recall: 0.7326  \n",
      "\n",
      "\n",
      "Epoch: 24,  Epoch_Loss: 0.5120, Train Acc: 75.4868 %, Train Recall: 0.7761, Validation Acc:  72.0486 %,  Validation Recall: 0.7326  \n",
      "\n",
      "\n",
      "Epoch: 25,  Epoch_Loss: 0.5142, Train Acc: 75.4868 %, Train Recall: 0.7726, Validation Acc:  72.0486 %,  Validation Recall: 0.7326  \n",
      "\n",
      "\n",
      "Epoch: 26,  Epoch_Loss: 0.5110, Train Acc: 75.2434 %, Train Recall: 0.7733, Validation Acc:  72.2222 %,  Validation Recall: 0.7292  \n",
      "\n",
      "\n",
      "Epoch: 27,  Epoch_Loss: 0.5121, Train Acc: 75.6954 %, Train Recall: 0.7844, Validation Acc:  72.0486 %,  Validation Recall: 0.7326  \n",
      "\n",
      "\n",
      "Epoch: 28,  Epoch_Loss: 0.5087, Train Acc: 75.8693 %, Train Recall: 0.7851, Validation Acc:  72.3958 %,  Validation Recall: 0.7292  \n",
      "\n",
      "\n",
      "Epoch: 29,  Epoch_Loss: 0.5114, Train Acc: 74.9652 %, Train Recall: 0.7740, Validation Acc:  72.2222 %,  Validation Recall: 0.7361  \n",
      "\n",
      "\n",
      "Load Best Model.\n",
      "Training completed\n"
     ]
    }
   ],
   "source": [
    "torch.manual_seed(random_seed)\n",
    "\n",
    "# split validation set\n",
    "balanced_trainset_labels = labels[train_indices_balanced]\n",
    "train_indices, valid_indices = split_train_test_indices(X= train_indices_balanced,\n",
    "                                                        y = balanced_trainset_labels, test_size = 0.2,\n",
    "                                                       random_seed = random_seed)\n",
    "\n",
    "valid_set_balanced = torch.utils.data.Subset(meal_data, valid_indices)\n",
    "valid_loader = torch.utils.data.DataLoader(valid_set_balanced,batch_size=batch_size, shuffle=True,num_workers=2)\n",
    "\n",
    "# train model\n",
    "input_shape = (train_set_balanced[0][0].shape[0], train_set_balanced[0][0].shape[1])\n",
    "model_1 = Discriminator_ResNet( ngpu=1, input_shape =input_shape , out_fea = 1)\n",
    "_ = model_1(torch.rand((1, input_shape[0],input_shape[1])))\n",
    "model_1.to(device)\n",
    "criterion_1 = nn.BCEWithLogitsLoss()\n",
    "optimizer_1 = optim.Adam(model_1.parameters(),lr=0.01,  weight_decay=0.1)\n",
    "lrscheduler_1 = optim.lr_scheduler.ReduceLROnPlateau(optimizer_1, mode='min',patience= 2, factor = 0.1,threshold=0.01)\n",
    "dataloader = (train_loader, valid_loader)\n",
    "model_1, best_model_1,val_score_1,loss_ls_1, train_acc_ls_1, valid_acc_ls_1 = train_model(model_1,dataloader, optimizer_1, \n",
    "                                                                    criterion_1, lrscheduler_1, device= device,\n",
    "                                                                    n_epochs=30, patience = 5, l1_enabled=False,\n",
    "                                                                    checkpoint_name =\"../models/lawler_models/checkpoint_model_resnet.pt\" )"
   ]
  },
  {
   "cell_type": "code",
   "execution_count": 8,
   "metadata": {},
   "outputs": [
    {
     "name": "stdout",
     "output_type": "stream",
     "text": [
      "Test Accuracy: 68.82367695008779\n"
     ]
    }
   ],
   "source": [
    "best_model_1.eval()\n",
    "acc, recall = eval_model(best_model_1, test_loader,device)\n",
    "print(\"Test Accuracy:\", acc)"
   ]
  },
  {
   "cell_type": "code",
   "execution_count": 8,
   "metadata": {},
   "outputs": [],
   "source": [
    "# Test to check if random generated indices can be reproducted\n",
    "# ls = balance_data_indices(traininglabels,mode=\"under\", shuffle=True,random_state = random_seed)\n",
    "# ls ==train_shuffledUnderSampledBalancedIndices"
   ]
  },
  {
   "cell_type": "code",
   "execution_count": 15,
   "metadata": {},
   "outputs": [],
   "source": []
  },
  {
   "cell_type": "code",
   "execution_count": null,
   "metadata": {},
   "outputs": [],
   "source": []
  }
 ],
 "metadata": {
  "kernelspec": {
   "display_name": "Python3.8 mlenv",
   "language": "python",
   "name": "mlenv"
  },
  "language_info": {
   "codemirror_mode": {
    "name": "ipython",
    "version": 3
   },
   "file_extension": ".py",
   "mimetype": "text/x-python",
   "name": "python",
   "nbconvert_exporter": "python",
   "pygments_lexer": "ipython3",
   "version": "3.8.5"
  }
 },
 "nbformat": 4,
 "nbformat_minor": 4
}
