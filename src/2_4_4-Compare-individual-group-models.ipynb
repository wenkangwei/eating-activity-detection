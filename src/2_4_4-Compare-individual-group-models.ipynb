{
 "cells": [
  {
   "cell_type": "markdown",
   "metadata": {},
   "source": [
    "# 2.4.4 Compare Group individual models Version 3\n",
    "## Goals:\n",
    "### Question 1: Compare Group model and individual model\n",
    "1. Train Models\n",
    "+ Architecture: Surya's Model with 6 mins, slide = 5 sec for consistence in group model and individual models\n",
    "+ Train one group model on CAD, train individual models on different personal dataset\n",
    "\n",
    "2. Time Metrics\n",
    "+ Use train/test split based on number of windows\n",
    "+ Use WACC, Recall, F1, Precision  (ACC optional)on unbalanced test set. \n",
    "+ Test on One Group model,  N individual models\n",
    "\n",
    "3. Episode Metrics\n",
    "+ Use split by day \n",
    "+ Implement episode Metrics and hysteresis threshold\n",
    "+ Use 5-fold Cross-validation for individual models for one dataset\n",
    "+ Compare pre-trained Group model in step2 on individual test set with Cross-validation in individual models\n"
   ]
  },
  {
   "cell_type": "code",
   "execution_count": 1,
   "metadata": {},
   "outputs": [
    {
     "data": {
      "text/plain": [
       "device(type='cuda')"
      ]
     },
     "execution_count": 1,
     "metadata": {},
     "output_type": "execute_result"
    }
   ],
   "source": [
    "import numpy as np\n",
    "import pandas as pd\n",
    "import torch\n",
    "import sklearn\n",
    "import seaborn as sns\n",
    "import matplotlib.pyplot as plt\n",
    "%matplotlib inline\n",
    "import os\n",
    "from dataset import create_train_test_file_list, Person_MealsDataset, balance_data_indices\n",
    "\n",
    "\n",
    "device = torch.device(\"cuda\" if torch.cuda.is_available() else \"cpu\")\n",
    "device\n"
   ]
  },
  {
   "cell_type": "code",
   "execution_count": 2,
   "metadata": {},
   "outputs": [
    {
     "data": {
      "text/plain": [
       "'2.3.0'"
      ]
     },
     "execution_count": 2,
     "metadata": {},
     "output_type": "execute_result"
    }
   ],
   "source": [
    "import sys\n",
    "import numpy as np\n",
    "from numpy.random import seed\n",
    "### imports\n",
    "import os\n",
    "os.environ['TF_CPP_MIN_LOG_LEVEL'] = '3' # Turn off TensorFlow logging\n",
    "import tensorflow as tf\n",
    "\n",
    "\n",
    "import numpy as np\n",
    "import pandas as pd\n",
    "import random\n",
    "#from sklearn.metrics import classification_report, confusion_matrix\n",
    "from datetime import datetime\n",
    "import loadfile\n",
    "import addons\n",
    "\n",
    "import keras\n",
    "from tensorflow.keras.models import Sequential\n",
    "from tensorflow.keras.layers import Dense, Dropout, Flatten, Reshape, Activation\n",
    "from tensorflow.keras.layers import Conv1D, MaxPooling1D, GlobalAveragePooling1D, Input, add\n",
    "# from tensorflow.keras.utils import np_utils\n",
    "from tensorflow.keras.regularizers import l1\n",
    "from tensorflow.keras.models import load_model, save_model, Model\n",
    "\n",
    "\n",
    "from dataset import create_train_test_file_list, Person_MealsDataset, balance_data_indices\n",
    "from utils import *\n",
    "from model import *\n",
    "\n",
    "\n",
    "tf.__version__"
   ]
  },
  {
   "cell_type": "code",
   "execution_count": 3,
   "metadata": {},
   "outputs": [],
   "source": [
    "# # import tensorflow as tf\n",
    "\n",
    "# os.environ[\"CUDA_VISIBLE_DEVICES\"]='0'\n",
    "# print(\"Num GPUs Available: \", (tf.config.experimental.list_physical_devices('GPU')))\n",
    "# tf.config.list_physical_devices()\n",
    "# tf.test.is_gpu_available(), torch.cuda.is_available()"
   ]
  },
  {
   "cell_type": "code",
   "execution_count": 4,
   "metadata": {},
   "outputs": [],
   "source": [
    "\n",
    "shimmer_global_mean = [-0.012359981,-0.0051663737,0.011612018,\n",
    "                        0.05796114,0.1477952,-0.034395125 ]\n",
    "\n",
    "shimmer_global_stddev = [0.05756385,0.040893298,0.043825723,\n",
    "                        17.199743,15.311142,21.229317 ]\n",
    "\n",
    "shimmer_trended_mean = [-0.000002,-0.000002,-0.000000,\n",
    "                0.058144,0.147621,-0.033260 ]\n",
    "\n",
    "shimmer_trended_stddev = [0.037592,0.034135,0.032263,\n",
    "                17.209038,15.321441,21.242532 ]\n",
    "\n",
    "all_zero_means = [0,0,0,0,0,0]\n",
    "\n",
    "meanvals = all_zero_means\n",
    "stdvals = shimmer_trended_stddev\n",
    "\n",
    "\n",
    "random_seed  = 1000\n",
    "# seed(random_seed)\n",
    "# tf.random.set_seed(random_seed)\n",
    "# np.random.seed(random_seed)\n",
    "\n"
   ]
  },
  {
   "cell_type": "code",
   "execution_count": 5,
   "metadata": {},
   "outputs": [],
   "source": [
    "def seed_everything(seed= 1000):\n",
    "    np.random.seed(seed)\n",
    "    random.seed(seed)\n",
    "    tf.random.set_seed(seed)\n",
    "    os.environ['PYTHONHASHSEED'] = str(seed)\n",
    "    torch.manual_seed(seed)\n",
    "    torch.cuda.manual_seed(seed)\n",
    "    torch.backends.cudnn.deterministic = True\n",
    "    torch.backends.cudnn.benchmark = True\n",
    "    \n",
    "seed_everything(seed= random_seed)  "
   ]
  },
  {
   "cell_type": "code",
   "execution_count": 6,
   "metadata": {},
   "outputs": [],
   "source": [
    "def acti_model(input_shape):\n",
    "        \n",
    "        model = Sequential()\n",
    "        \n",
    "        model.add(Conv1D(10, 44, strides=2,activation='relu', input_shape=input_shape))\n",
    "        model.add(Conv1D(10, 20, strides=2, activation='relu',kernel_regularizer=tf.keras.regularizers.l1(0.01)))\n",
    "        model.add(Conv1D(10, 4, strides=2, activation='relu',kernel_regularizer=tf.keras.regularizers.l1(0.01)))\n",
    "        model.add(GlobalAveragePooling1D())\n",
    "        model.add(Dense(200, activation='relu'))\n",
    "        model.add(Dense(1, activation='sigmoid'))\n",
    "        return model\n",
    "\n",
    "\n",
    "# def residual_module(layer_in, n_filters):\n",
    "#             merge_input = layer_in\n",
    "#             # check if the number of filters needs to be increase, assumes channels last format\n",
    "#             if layer_in.shape[-1] != n_filters:\n",
    "#                 merge_input = Conv1D(n_filters, (1,), padding='same', kernel_initializer='he_normal',kernel_regularizer=tf.keras.regularizers.l1(0.01))(layer_in)\n",
    "#             # conv1\n",
    "#             # L2 for avoiding overfitting\n",
    "#             conv1 = Conv1D(n_filters, (5,), padding='same', kernel_initializer='he_normal',kernel_regularizer=tf.keras.regularizers.l2(0.01))(layer_in)\n",
    "#             # Batch normal for re-scaling data and better fit data\n",
    "#             conv1 = tf.keras.layers.BatchNormalization(1)(conv1)\n",
    "#             conv1 = tf.keras.layers.ReLU()(conv1)\n",
    "#             # conv2\n",
    "#             conv2 = Conv1D(n_filters, (5,), padding='same', kernel_initializer='he_normal',kernel_regularizer=tf.keras.regularizers.l2(0.01))(conv1)\n",
    "#             conv2 = tf.keras.layers.BatchNormalization(1)(conv2)\n",
    "            \n",
    "#             # add filters, assumes filters/channels last\n",
    "#             #out = conv2\n",
    "#             out = add([conv2, merge_input])\n",
    "#             # activation function\n",
    "#             layer_out = Activation('relu')(out)\n",
    "#             return layer_out\n",
    "        \n",
    "\n",
    "# def res_model(input_shape):\n",
    "#             in_layer = Input(shape = input_shape)\n",
    "#             out = Conv1D(10, 40, strides=2)(in_layer)\n",
    "#             out = residual_module(layer_in= out,  n_filters=10)\n",
    "#             out = residual_module(layer_in= out,  n_filters=10)\n",
    "#             out = GlobalAveragePooling1D()(out)\n",
    "#             # L1 for feature selection\n",
    "#             out = Dense(200, activation='relu',kernel_regularizer=tf.keras.regularizers.l1(0.01))(out)\n",
    "#             out = Dense(1, activation='sigmoid')(out)\n",
    "#             model = Model(inputs=in_layer, outputs=out)\n",
    "#             return model\n",
    "        \n",
    "# def transfer_model(input_shape, tf_model):\n",
    "#             in_layer = Input(shape = input_shape)\n",
    "#             out = tf_model(in_layer)\n",
    "#             out = Dense(1, activation='sigmoid')(out)\n",
    "#             model = Model(inputs=in_layer, outputs=out)\n",
    "#             return model\n",
    "    \n",
    "    \n",
    "    \n",
    "# def transfer_model_v2(input_shape, tf_model):\n",
    "#             in_layer = Input(shape = input_shape)\n",
    "            \n",
    "#             model = Sequential()\n",
    "#             model.add(in_layer)\n",
    "#             for layer in tf_model.layers[1:-1]:  # 跳过最后一层 \n",
    "#                 model.add(layer)\n",
    "#             model.add(Dense(1, activation='sigmoid'))\n",
    "#             return model\n",
    "    "
   ]
  },
  {
   "cell_type": "code",
   "execution_count": 7,
   "metadata": {},
   "outputs": [
    {
     "name": "stdout",
     "output_type": "stream",
     "text": [
      "Train:\n",
      "IndividualData/shaurya-data/10.22.2020/Data.shm\n",
      "IndividualData/shaurya-data/1.16.2021/Consensys Exported Data.shm\n",
      "IndividualData/shaurya-data/1.10.2021/Consensys Exported Data.shm\n",
      "IndividualData/shaurya-data/10.25.2020/Data.shm\n",
      "IndividualData/shaurya-data/11.1.2020/Data.shm\n",
      "IndividualData/shaurya-data/11.18.2020/Data.shm\n",
      "IndividualData/shaurya-data/11.17.2020/Data.shm\n",
      "IndividualData/shaurya-data/1.13.2021/Consensys Exported Data.shm\n",
      "IndividualData/shaurya-data/1.11.2021/Consensys Exported Data.shm\n",
      "IndividualData/shaurya-data/1.12.2021/Consensys Exported Data.shm\n",
      "IndividualData/shaurya-data/1.19.2021/Consensys Exported Data.shm\n",
      "\n",
      "test: \n",
      "IndividualData/shaurya-data/12.3.2020/Consensys Exported Data.shm\n",
      "IndividualData/shaurya-data/11.15.2020/Data.shm\n",
      "\n",
      "All files: \n",
      "IndividualData/shaurya-data/12.3.2020/Consensys Exported Data.shm\n",
      "IndividualData/shaurya-data/11.15.2020/Data.shm\n",
      "IndividualData/shaurya-data/10.22.2020/Data.shm\n",
      "IndividualData/shaurya-data/1.16.2021/Consensys Exported Data.shm\n",
      "IndividualData/shaurya-data/1.10.2021/Consensys Exported Data.shm\n",
      "IndividualData/shaurya-data/10.25.2020/Data.shm\n",
      "IndividualData/shaurya-data/11.1.2020/Data.shm\n",
      "IndividualData/shaurya-data/11.18.2020/Data.shm\n",
      "IndividualData/shaurya-data/11.17.2020/Data.shm\n",
      "IndividualData/shaurya-data/1.13.2021/Consensys Exported Data.shm\n",
      "IndividualData/shaurya-data/1.11.2021/Consensys Exported Data.shm\n",
      "IndividualData/shaurya-data/1.12.2021/Consensys Exported Data.shm\n",
      "IndividualData/shaurya-data/1.19.2021/Consensys Exported Data.shm\n",
      "\n"
     ]
    }
   ],
   "source": [
    "name_ls = [\"shaurya\"]\n",
    "for name in name_ls:\n",
    "    create_train_test_file_list(file_name= \"all_files_list.txt\",person_name =name,\n",
    "                         out_path = \"../data-file-indices/\",root_path= \"../\",\n",
    "                         test_ratio = 0.2, print_flag = True, shuffle=True, random_state=random_seed)"
   ]
  },
  {
   "cell_type": "markdown",
   "metadata": {},
   "source": [
    "# 0. Dataset Description"
   ]
  },
  {
   "cell_type": "code",
   "execution_count": 8,
   "metadata": {},
   "outputs": [],
   "source": [
    "from collections import defaultdict\n",
    "from data_loader import loadEvents\n",
    "def get_meal_info(person_name = None,file_ls = [], file_ls_doc=None,root_path = \"../data/\",print_file=False,round_decimal=1):\n",
    "        \"\"\"\n",
    "        if file_ls is not given, then get file_ls according to person_name\n",
    "        file path = root_path + file name in all_files_list.txt\n",
    "\n",
    "        return:\n",
    "            meal event count, total minutes of all meals, total hours of all meals,total day counts\n",
    "\n",
    "        \"\"\"\n",
    "        meal_counts = 0\n",
    "        sec_counts = 0\n",
    "        min_counts = 0\n",
    "        hour_counts = 0\n",
    "        total_hours = 0\n",
    "        total_mins = 0\n",
    "        total_sec = 0\n",
    "        day_counts = 0 \n",
    "        if person_name ==None:\n",
    "            return meal_counts, min_counts,hour_counts, day_counts, total_hours\n",
    "\n",
    "        data_indices_file = \"../data-file-indices/\" +person_name+\"/all_files_list.txt\"\n",
    "        fp = open(data_indices_file,\"r\")\n",
    "        txt = fp.read()\n",
    "        fp.close()\n",
    "        file_ls = txt.split(\"\\n\")\n",
    "        while '' in file_ls:\n",
    "            file_ls.remove('')\n",
    "       \n",
    "        day_counts = len(file_ls)\n",
    "        \n",
    "        for file_name in file_ls:\n",
    "            file_name = root_path + file_name\n",
    "            TotalEvents, EventStart, EventEnd, EventNames, TimeOffset,EndTime = loadEvents(file_name, debug_flag = False, print_file=print_file)\n",
    "            meal_counts += TotalEvents\n",
    "            total_sec +=  abs(EndTime - TimeOffset)\n",
    "            for i in range(len(EventStart)):\n",
    "                sec_counts += ( EventEnd[i]- EventStart[i])//15\n",
    "                \n",
    "        total_hours = total_sec/(60*60)\n",
    "        min_counts = sec_counts/60\n",
    "        hour_counts = min_counts/60\n",
    "        average_meal_per_day = meal_counts/len(file_ls)\n",
    "        average_hour_per_meal = hour_counts/meal_counts\n",
    "        # round numbers\n",
    "        total_hours = round(total_hours, round_decimal)\n",
    "        min_counts = round(min_counts, round_decimal)\n",
    "        hour_counts = round(hour_counts, round_decimal)\n",
    "        average_meal_per_day = round(average_meal_per_day,round_decimal)\n",
    "        average_hour_per_meal = round(average_hour_per_meal, round_decimal)\n",
    "        \n",
    "        no_eating_hours = total_hours - hour_counts\n",
    "        weight_ratio = round(no_eating_hours/hour_counts, round_decimal)\n",
    "        result = pd.DataFrame({\"dataset\": person_name,\"Days\":day_counts, \n",
    "                      \"Total Hours\":total_hours,\"Meal Counts\":meal_counts,\n",
    "                      \"Average Meal Counts Per Day\":average_meal_per_day,\"Average Hours Per Meal\": average_hour_per_meal,\n",
    "                      \"Eating Hours\":hour_counts, \"No Eating Hours\":no_eating_hours,\n",
    "                     \"Balance Ratio(no_eat/eat)\":weight_ratio},index=[0])\n",
    "    \n",
    "        return result\n",
    "\n",
    "          \n",
    "def get_dataset_info(names= [\"wenkanw\"],winmin=6,stridesec=5):\n",
    "    meal_info = defaultdict(list)\n",
    "    dataset_results = pd.DataFrame()\n",
    "    for name in names:\n",
    "        result = get_meal_info(person_name=name)\n",
    "        if dataset_results.empty:\n",
    "            dataset_results = result\n",
    "        else:\n",
    "            dataset_results = dataset_results.append(result,ignore_index=True)\n",
    "    \n",
    "    # append total summary\n",
    "#     print( dataset_results)\n",
    "    total_result=pd.DataFrame({\"dataset\":\"total\"},columns = dataset_results.columns,index=[0])\n",
    "    # append average summary\n",
    "    average_result=pd.DataFrame({\"dataset\":\"average\"},columns = dataset_results.columns,index=[0])\n",
    "    key_ls = [\"Days\",\"Total Hours\",\"Meal Counts\",\"Eating Hours\",\"No Eating Hours\"]\n",
    "    for key in dataset_results.columns:\n",
    "        if key in key_ls:\n",
    "            total_result[key].at[0] = round(dataset_results[key].sum() ,1)\n",
    "            average_result[key].at[0] = round(dataset_results[key].mean(),1)\n",
    "\n",
    "    ls = [total_result, average_result]\n",
    "    for df in ls:\n",
    "        df[\"Average Meal Counts Per Day\"].at[0] = round(df[\"Meal Counts\"].values[0]/df[\"Days\"].values[0], 1)\n",
    "        df[\"Average Hours Per Meal\"].at[0] =round( df[\"Eating Hours\"].values[0]/df[\"Meal Counts\"].values[0], 1)\n",
    "        df[\"Balance Ratio(no_eat/eat)\"].at[0] =round(df[\"No Eating Hours\"].values[0]/df[\"Eating Hours\"].values[0],1)\n",
    "        dataset_results =dataset_results.append(df,ignore_index=True)\n",
    "\n",
    "    return dataset_results"
   ]
  },
  {
   "cell_type": "code",
   "execution_count": 9,
   "metadata": {},
   "outputs": [
    {
     "data": {
      "text/html": [
       "<div>\n",
       "<style scoped>\n",
       "    .dataframe tbody tr th:only-of-type {\n",
       "        vertical-align: middle;\n",
       "    }\n",
       "\n",
       "    .dataframe tbody tr th {\n",
       "        vertical-align: top;\n",
       "    }\n",
       "\n",
       "    .dataframe thead th {\n",
       "        text-align: right;\n",
       "    }\n",
       "</style>\n",
       "<table border=\"1\" class=\"dataframe\">\n",
       "  <thead>\n",
       "    <tr style=\"text-align: right;\">\n",
       "      <th></th>\n",
       "      <th>dataset</th>\n",
       "      <th>Days</th>\n",
       "      <th>Total Hours</th>\n",
       "      <th>Meal Counts</th>\n",
       "      <th>Average Meal Counts Per Day</th>\n",
       "      <th>Average Hours Per Meal</th>\n",
       "      <th>Eating Hours</th>\n",
       "      <th>No Eating Hours</th>\n",
       "      <th>Balance Ratio(no_eat/eat)</th>\n",
       "    </tr>\n",
       "  </thead>\n",
       "  <tbody>\n",
       "    <tr>\n",
       "      <th>0</th>\n",
       "      <td>wenkanw</td>\n",
       "      <td>17</td>\n",
       "      <td>129.2</td>\n",
       "      <td>32</td>\n",
       "      <td>1.9</td>\n",
       "      <td>0.2</td>\n",
       "      <td>7.7</td>\n",
       "      <td>121.5</td>\n",
       "      <td>15.8</td>\n",
       "    </tr>\n",
       "    <tr>\n",
       "      <th>1</th>\n",
       "      <td>adam</td>\n",
       "      <td>14</td>\n",
       "      <td>125.6</td>\n",
       "      <td>26</td>\n",
       "      <td>1.9</td>\n",
       "      <td>0.1</td>\n",
       "      <td>3.3</td>\n",
       "      <td>122.3</td>\n",
       "      <td>37.1</td>\n",
       "    </tr>\n",
       "    <tr>\n",
       "      <th>2</th>\n",
       "      <td>lawler</td>\n",
       "      <td>23</td>\n",
       "      <td>173.9</td>\n",
       "      <td>61</td>\n",
       "      <td>2.7</td>\n",
       "      <td>0.4</td>\n",
       "      <td>25.9</td>\n",
       "      <td>148</td>\n",
       "      <td>5.7</td>\n",
       "    </tr>\n",
       "    <tr>\n",
       "      <th>3</th>\n",
       "      <td>shaurya</td>\n",
       "      <td>13</td>\n",
       "      <td>134</td>\n",
       "      <td>38</td>\n",
       "      <td>2.9</td>\n",
       "      <td>0.2</td>\n",
       "      <td>9.3</td>\n",
       "      <td>124.7</td>\n",
       "      <td>13.4</td>\n",
       "    </tr>\n",
       "    <tr>\n",
       "      <th>4</th>\n",
       "      <td>total</td>\n",
       "      <td>67</td>\n",
       "      <td>562.7</td>\n",
       "      <td>157</td>\n",
       "      <td>2.3</td>\n",
       "      <td>0.3</td>\n",
       "      <td>46.2</td>\n",
       "      <td>516.5</td>\n",
       "      <td>11.2</td>\n",
       "    </tr>\n",
       "    <tr>\n",
       "      <th>5</th>\n",
       "      <td>average</td>\n",
       "      <td>16.8</td>\n",
       "      <td>140.7</td>\n",
       "      <td>39.2</td>\n",
       "      <td>2.3</td>\n",
       "      <td>0.3</td>\n",
       "      <td>11.6</td>\n",
       "      <td>129.1</td>\n",
       "      <td>11.1</td>\n",
       "    </tr>\n",
       "  </tbody>\n",
       "</table>\n",
       "</div>"
      ],
      "text/plain": [
       "   dataset  Days Total Hours Meal Counts Average Meal Counts Per Day  \\\n",
       "0  wenkanw    17       129.2          32                         1.9   \n",
       "1     adam    14       125.6          26                         1.9   \n",
       "2   lawler    23       173.9          61                         2.7   \n",
       "3  shaurya    13         134          38                         2.9   \n",
       "4    total    67       562.7         157                         2.3   \n",
       "5  average  16.8       140.7        39.2                         2.3   \n",
       "\n",
       "  Average Hours Per Meal Eating Hours No Eating Hours  \\\n",
       "0                    0.2          7.7           121.5   \n",
       "1                    0.1          3.3           122.3   \n",
       "2                    0.4         25.9             148   \n",
       "3                    0.2          9.3           124.7   \n",
       "4                    0.3         46.2           516.5   \n",
       "5                    0.3         11.6           129.1   \n",
       "\n",
       "  Balance Ratio(no_eat/eat)  \n",
       "0                      15.8  \n",
       "1                      37.1  \n",
       "2                       5.7  \n",
       "3                      13.4  \n",
       "4                      11.2  \n",
       "5                      11.1  "
      ]
     },
     "execution_count": 9,
     "metadata": {},
     "output_type": "execute_result"
    }
   ],
   "source": [
    "name_ls = [\"wenkanw\",'adam',\"lawler\",\"shaurya\"]\n",
    "dataset_info = get_dataset_info(names= name_ls)\n",
    "dataset_info"
   ]
  },
  {
   "cell_type": "code",
   "execution_count": 10,
   "metadata": {},
   "outputs": [],
   "source": [
    "dataset_info.to_csv(\"../results/dataset_info.csv\",index=False)"
   ]
  },
  {
   "cell_type": "code",
   "execution_count": 11,
   "metadata": {},
   "outputs": [
    {
     "data": {
      "text/plain": [
       "11.2"
      ]
     },
     "execution_count": 11,
     "metadata": {},
     "output_type": "execute_result"
    }
   ],
   "source": [
    "dataset_info[dataset_info[\"dataset\"]==\"total\"]['Balance Ratio(no_eat/eat)'].values[0]"
   ]
  },
  {
   "cell_type": "markdown",
   "metadata": {},
   "source": [
    "# 1. Train Models"
   ]
  },
  {
   "cell_type": "code",
   "execution_count": 12,
   "metadata": {},
   "outputs": [],
   "source": [
    "\n",
    "from dataset import create_train_test_file_list,  balance_data_indices  #Person_MealsDataset,\n",
    "from utils import *\n",
    "from model import *\n",
    "def train_models(model, win_ls = [],EPOCHS = 10,stridesec = 5,name = \"wenkanw\",model_name=\"acti_6min\" ,\n",
    "                 random_seed= 1000, split_day=False,test_balanced=False,\n",
    "                create_file_ls = False):\n",
    "    from numpy.random import seed\n",
    "    seed(random_seed)\n",
    "    random.seed(random_seed)\n",
    "#     tf.set_random_seed(random_seed)\n",
    "    from datetime  import datetime\n",
    "    batch_size = 128\n",
    "    outfile = sys.stdout\n",
    "    perf = {\"model\":[],\"data\":[],\"win(sec)\":[], \"wacc\":[],\"f1\":[],\"recall\":[],\"acc\":[]}\n",
    "    model_ls = []\n",
    "    hist_ls = []\n",
    "    for winsize in win_ls:\n",
    "        tf.random.set_seed(random_seed)\n",
    "        seed(random_seed)\n",
    "        \n",
    "        winmin = winsize\n",
    "        winlength = int(winmin * 60 * 15)\n",
    "        step = int(stridesec * 15)\n",
    "        start_time = datetime.now()\n",
    "        arr = [\"echo -n 'PBS: node is '; cat $PBS_NODEFILE\",\\\n",
    "              \"echo PBS: job identifier is $PBS_JOBID\",\\\n",
    "              \"echo PBS: job name is $PBS_JOBNAME\"]\n",
    "        [os.system(cmd) for cmd in arr]\n",
    "        print(\"*****************************************************************\\n\", file=outfile, flush=True)\n",
    "        print(\"Execution Started at \" + start_time.strftime(\"%m/%d/%Y, %H:%M:%S\"), file=outfile, flush=True)\n",
    "        print(\"WindowLength: {:.2f} min ({:d} datum)\\tSlide: {:d} ({:d} datum)\\tEpochs:{:d}\\n\".format(winmin, winlength, stridesec, step, EPOCHS), file=outfile, flush=True)\n",
    "\n",
    "\n",
    "        if split_day:\n",
    "            pathtemp = \"../models/\" + name+\"_models\" +\"/\"+model_name+\"_split_day_M_F_\"\n",
    "        else:\n",
    "            pathtemp = \"../models/\" + name+\"_models\" +\"/\"+model_name+\"_M_F_\"\n",
    "            \n",
    "        #pathtemp = \"../models/\" + name +\"/\"+model_name+\"_M_F_\"\n",
    "        modelpath = pathtemp + \"{:f}Min.h5\".format(winmin)\n",
    "        jsonpath = pathtemp + \"{:f}Min.json\".format(winmin)\n",
    "        \n",
    "        print(\"Model to Save: \",modelpath)\n",
    "        print()\n",
    "        ########### Load the dataset################\n",
    "        person = name\n",
    "        if create_file_ls:\n",
    "            create_train_test_file_list(file_name= \"all_files_list.txt\",person_name =name,\n",
    "                         out_path = \"../data-file-indices/\",root_path= \"../\",\n",
    "                         test_ratio = 0.2, print_flag = True, shuffle=True, random_state=random_seed)\n",
    "        \n",
    "        if split_day:\n",
    "            \n",
    "\n",
    "            meal_data_train = Person_MealsDataset(person_name= person, file_name = \"train_files\", winmin = winmin,stridesec = stridesec)\n",
    "            meal_data_test = Person_MealsDataset(person_name= person, file_name = \"test_files\", winmin = winmin,stridesec = stridesec)\n",
    "\n",
    "            train_indices, valid_indices = split_train_test_indices(X= [i for i in range(len(meal_data_train.labels))],\n",
    "                                                                    y = meal_data_train.labels, test_size = 0.2,\n",
    "                                                                   random_seed = random_seed)\n",
    "            #balanced train set\n",
    "            trainset_labels = meal_data_train.labels[train_indices]\n",
    "            train_indices = balance_data_indices(trainset_labels,data_indices= train_indices,mode=\"under\", shuffle=True,random_state = random_seed,replace= False)\n",
    "\n",
    "            # balance test set\n",
    "            testset_labels = meal_data_test.labels\n",
    "            if test_balanced:\n",
    "                test_indices = balance_data_indices(testset_labels,data_indices=[i for i in range(len(meal_data_test))] ,mode=\"under\", shuffle=True,random_state = random_seed,replace= False)\n",
    "            else:\n",
    "                # without balancing data\n",
    "                test_indices = [i for i in range(len(meal_data_test))] \n",
    "                \n",
    "            # get numpy dataset\n",
    "            balancedData, balancedLabels = meal_data_train.get_subset(train_indices)\n",
    "            valid_balancedData, valid_balancedLabels = meal_data_train.get_subset(valid_indices)\n",
    "            test_Data, test_Labels = meal_data_test.get_subset(test_indices)\n",
    "\n",
    "        else:\n",
    "        \n",
    "            meal_data = Person_MealsDataset(person_name= person, file_name = \"all_files_list\", winmin = winmin,stridesec = stridesec)\n",
    "            samples,labels =  meal_data.data_indices, meal_data.labels\n",
    "            # split train set and test set\n",
    "            train_indices, test_indices = split_train_test_indices(X= [i for i in range(len(labels))],\n",
    "                                                                    y = labels, test_size = 0.2,\n",
    "                                                                   random_seed = random_seed)\n",
    "            # balance train set\n",
    "            trainset_labels = labels[train_indices]\n",
    "            train_indices_balanced = balance_data_indices(trainset_labels,data_indices= train_indices,mode=\"under\", shuffle=True,random_state = random_seed,replace= False)\n",
    "            \n",
    "            \n",
    "            testset_labels = labels[test_indices]\n",
    "            if test_balanced:\n",
    "                #balance test set\n",
    "                test_indices = balance_data_indices(testset_labels,data_indices= test_indices,mode=\"under\", shuffle=True,random_state = random_seed,replace= False)\n",
    "            else:\n",
    "                test_indices = test_indices \n",
    "            \n",
    "            \n",
    "            train_set_balanced = torch.utils.data.Subset(meal_data, train_indices_balanced)\n",
    "            test_set = torch.utils.data.Subset(meal_data, test_indices)\n",
    "\n",
    "            train_loader = torch.utils.data.DataLoader(train_set_balanced,batch_size=batch_size, shuffle=True,num_workers=2)\n",
    "            test_loader = torch.utils.data.DataLoader(test_set ,batch_size=batch_size, shuffle=True,num_workers=2)\n",
    "\n",
    "            print(\"Data Loader Created\")            \n",
    "            \n",
    "            # split validation set\n",
    "            balanced_trainset_labels = labels[train_indices_balanced]\n",
    "            train_indices, valid_indices = split_train_test_indices(X= train_indices_balanced,\n",
    "                                                                    y = balanced_trainset_labels, test_size = 0.2,\n",
    "                                                                   random_seed = random_seed)\n",
    "            valid_set_balanced = torch.utils.data.Subset(meal_data, valid_indices)\n",
    "            valid_loader = torch.utils.data.DataLoader(valid_set_balanced,batch_size=batch_size, shuffle=True,num_workers=2)\n",
    "\n",
    "            # Get numpy dataset: balanced trainset, validation set, test set\n",
    "            balancedData, balancedLabels = meal_data.get_subset(train_indices)\n",
    "            valid_balancedData, valid_balancedLabels = meal_data.get_subset(valid_indices)\n",
    "            test_Data, test_Labels = meal_data.get_subset(test_indices)\n",
    "        \n",
    "\n",
    "        #training settings\n",
    "        mcp_save = tf.keras.callbacks.ModelCheckpoint(modelpath, save_best_only=True, monitor='accuracy')\n",
    "        \n",
    "\n",
    "        scheduler = tf.keras.callbacks.ReduceLROnPlateau( monitor='val_loss', factor=0.1, patience=3, verbose=0,\n",
    "                                             mode='auto', min_delta=0.0001, cooldown=0, min_lr=0.)\n",
    "        \n",
    "        ##########train model ###############\n",
    "        H = model.fit(x=balancedData, y = balancedLabels,\n",
    "                       validation_data=(valid_balancedData, valid_balancedLabels),\n",
    "                    epochs = EPOCHS, batch_size=batch_size, verbose=1,\n",
    "                    callbacks=[mcp_save,scheduler]) # removed addons.LossHistory(jsonpath) for compatibility with TensorFlow 2.2.0, needs to be re-added at some point\n",
    "\n",
    "        print(\"Max value: \", max(H.history['accuracy']), \" at epoch\", np.argmax(H.history['accuracy']) + 1)\n",
    "\n",
    "        from sklearn.metrics import accuracy_score, recall_score, roc_auc_score, balanced_accuracy_score, f1_score\n",
    "        predictions = model.predict(x=test_Data)\n",
    "        threshold = 0.5\n",
    "        wacc =  balanced_accuracy_score(test_Labels,predictions>=threshold)\n",
    "        f1 =  f1_score(test_Labels,predictions>=threshold)\n",
    "        acc =  accuracy_score(test_Labels,predictions>=threshold)\n",
    "        recall = recall_score(test_Labels,predictions>=threshold)\n",
    "        \n",
    "        #auc = roc_auc_score(test_Labels,predictions>=threshold)\n",
    "        print(\"Weighted Accuracy:\", wacc)\n",
    "        print(\"Test Accuracy:\", acc)\n",
    "        print(\"F1-score:\", f1)\n",
    "        print(\"Recall Accuracy:\", recall)\n",
    "        #print(\"AUC Score:\", auc)\n",
    "\n",
    "        perf[\"model\"].append(\"ActiModel\")\n",
    "        perf[\"data\"].append(name)\n",
    "        perf[\"win(sec)\"].append(winmin*60)\n",
    "        perf[\"wacc\"].append(wacc)\n",
    "        perf[\"f1\"].append(f1)\n",
    "        perf[\"acc\"].append(acc)\n",
    "        perf[\"recall\"].append(recall)\n",
    "        #perf[\"auc\"].append(auc)\n",
    "        model_ls.append(model)\n",
    "        hist_ls.append(H)\n",
    "    perf_df = pd.DataFrame(perf)\n",
    "    print(perf_df)\n",
    "    return perf_df, model_ls, hist_ls\n",
    "\n"
   ]
  },
  {
   "cell_type": "markdown",
   "metadata": {},
   "source": [
    "## 1.1 Train Group Model"
   ]
  },
  {
   "cell_type": "code",
   "execution_count": 8,
   "metadata": {
    "scrolled": true
   },
   "outputs": [
    {
     "name": "stdout",
     "output_type": "stream",
     "text": [
      "*****************************************************************\n",
      "\n",
      "Execution Started at 01/13/2021, 11:45:11\n",
      "WindowLength: 6.00 min (5400 datum)\tSlide: 15 (225 datum)\tEpochs:20\n",
      "\n",
      "Model to Save:  ../models/CAD_models/acti_6min_M_F_6.000000Min.h5\n",
      "\n",
      "Loading Dataset ...\n",
      "Loading File:  ../data/ShimmerData/P2001/P2001.shm\n",
      "Loading File:  ../data/ShimmerData/P2011/P2011.shm\n",
      "Loading File:  ../data/ShimmerData/P2012/P2012.shm\n",
      "Loading File:  ../data/ShimmerData/P2013/P2013.shm\n",
      "Loading File:  ../data/ShimmerData/P2014/P2014.shm\n",
      "Loading File:  ../data/ShimmerData/P2015/P2015.shm\n",
      "Loading File:  ../data/ShimmerData/P2016/P2016.shm\n",
      "Loading File:  ../data/ShimmerData/P2017/P2017.shm\n",
      "Loading File:  ../data/ShimmerData/P2018/P2018.shm\n",
      "Loading File:  ../data/ShimmerData/P2020/P2020.shm\n",
      "Loading File:  ../data/ShimmerData/P2030/P2030.shm\n",
      "Loading File:  ../data/ShimmerData/P2031/P2031.shm\n",
      "Loading File:  ../data/ShimmerData/P2033/P2033.shm\n",
      "Loading File:  ../data/ShimmerData/P2035/P2035.shm\n",
      "Loading File:  ../data/ShimmerData/P2036/P2036.shm\n",
      "Loading File:  ../data/ShimmerData/P2037/P2037.shm\n",
      "Loading File:  ../data/ShimmerData/P2038/P2038.shm\n",
      "Loading File:  ../data/ShimmerData/P2044/P2044.shm\n",
      "Loading File:  ../data/ShimmerData/P2046/P2046.shm\n",
      "Loading File:  ../data/ShimmerData/P2051/P2051.shm\n",
      "Loading File:  ../data/ShimmerData/P2055/P2055.shm\n",
      "Loading File:  ../data/ShimmerData/P2057/P2057.shm\n",
      "Loading File:  ../data/ShimmerData/P2058/P2058.shm\n",
      "Loading File:  ../data/ShimmerData/P2063/P2063.shm\n",
      "Loading File:  ../data/ShimmerData/P2100/P2100.shm\n",
      "Loading File:  ../data/ShimmerData/P2101/P2101.shm\n",
      "Loading File:  ../data/ShimmerData/P2102/P2102.shm\n",
      "Loading File:  ../data/ShimmerData/P2103/P2103.shm\n",
      "Loading File:  ../data/ShimmerData/P2105/P2105.shm\n",
      "Loading File:  ../data/ShimmerData/P2106/P2106.shm\n",
      "Loading File:  ../data/ShimmerData/P2107/P2107.shm\n",
      "Loading File:  ../data/ShimmerData/P2108/P2108.shm\n",
      "Loading File:  ../data/ShimmerData/P2109/P2109.shm\n",
      "Loading File:  ../data/ShimmerData/P2110/P2110.shm\n",
      "Loading File:  ../data/ShimmerData/P2111/P2111.shm\n",
      "Loading File:  ../data/ShimmerData/P2113/P2113.shm\n",
      "Loading File:  ../data/ShimmerData/P2114/P2114.shm\n",
      "Loading File:  ../data/ShimmerData/P2115/P2115.shm\n",
      "Loading File:  ../data/ShimmerData/P2116/P2116.shm\n",
      "Loading File:  ../data/ShimmerData/P2117/P2117.shm\n",
      "Loading File:  ../data/ShimmerData/P2118/P2118.shm\n",
      "Loading File:  ../data/ShimmerData/P2120/P2120.shm\n",
      "Loading File:  ../data/ShimmerData/P2121/P2121.shm\n",
      "Loading File:  ../data/ShimmerData/P2122/P2122.shm\n",
      "Loading File:  ../data/ShimmerData/P2123/P2123.shm\n",
      "Loading File:  ../data/ShimmerData/P2125/P2125.shm\n",
      "Loading File:  ../data/ShimmerData/P2126/P2126.shm\n",
      "Loading File:  ../data/ShimmerData/P2127/P2127.shm\n",
      "Loading File:  ../data/ShimmerData/P2128/P2128.shm\n",
      "Loading File:  ../data/ShimmerData/P2129/P2129.shm\n",
      "Loading File:  ../data/ShimmerData/P2130/P2130.shm\n",
      "Loading File:  ../data/ShimmerData/P2131/P2131.shm\n",
      "Loading File:  ../data/ShimmerData/P2132/P2132.shm\n",
      "Loading File:  ../data/ShimmerData/P2133/P2133.shm\n",
      "Loading File:  ../data/ShimmerData/P2134/P2134.shm\n",
      "Loading File:  ../data/ShimmerData/P2135/P2135.shm\n",
      "Loading File:  ../data/ShimmerData/P2136/P2136.shm\n",
      "Loading File:  ../data/ShimmerData/P2137/P2137.shm\n",
      "Loading File:  ../data/ShimmerData/P2138/P2138.shm\n",
      "Loading File:  ../data/ShimmerData/P2139/P2139.shm\n",
      "Loading File:  ../data/ShimmerData/P2140/P2140.shm\n",
      "Loading File:  ../data/ShimmerData/P2141/P2141.shm\n",
      "Loading File:  ../data/ShimmerData/P2142/P2142.shm\n",
      "Loading File:  ../data/ShimmerData/P2143/P2143.shm\n",
      "Loading File:  ../data/ShimmerData/P2144/P2144.shm\n",
      "Loading File:  ../data/ShimmerData/P2145/P2145.shm\n",
      "Loading File:  ../data/ShimmerData/P2146/P2146.shm\n",
      "Loading File:  ../data/ShimmerData/P2147/P2147.shm\n",
      "Loading File:  ../data/ShimmerData/P2148/P2148.shm\n",
      "Loading File:  ../data/ShimmerData/P2149/P2149.shm\n",
      "Loading File:  ../data/ShimmerData/P2150/P2150.shm\n",
      "Loading File:  ../data/ShimmerData/P2151/P2151.shm\n",
      "Loading File:  ../data/ShimmerData/P2152/P2152.shm\n",
      "Loading File:  ../data/ShimmerData/P2153/P2153.shm\n",
      "Loading File:  ../data/ShimmerData/P2154/P2154.shm\n",
      "Loading File:  ../data/ShimmerData/P2155/P2155.shm\n",
      "Loading File:  ../data/ShimmerData/P2157/P2157.shm\n",
      "Loading File:  ../data/ShimmerData/P2158/P2158.shm\n",
      "Loading File:  ../data/ShimmerData/P2159/P2159.shm\n",
      "Loading File:  ../data/ShimmerData/P2160/P2160.shm\n",
      "Loading File:  ../data/ShimmerData/P2161/P2161.shm\n",
      "Loading File:  ../data/ShimmerData/P2164/P2164.shm\n",
      "Loading File:  ../data/ShimmerData/P2165/P2165.shm\n",
      "Loading File:  ../data/ShimmerData/P2166/P2166.shm\n",
      "Loading File:  ../data/ShimmerData/P2168/P2168.shm\n",
      "Loading File:  ../data/ShimmerData/P2169/P2169.shm\n",
      "Loading File:  ../data/ShimmerData/P2170/P2170.shm\n",
      "Loading File:  ../data/ShimmerData/P2171/P2171.shm\n",
      "Loading File:  ../data/ShimmerData/P2172/P2172.shm\n",
      "Loading File:  ../data/ShimmerData/P2173/P2173.shm\n",
      "Loading File:  ../data/ShimmerData/P2174/P2174.shm\n",
      "Loading File:  ../data/ShimmerData/P2175/P2175.shm\n",
      "Loading File:  ../data/ShimmerData/P2176/P2176.shm\n",
      "Loading File:  ../data/ShimmerData/P2177/P2177.shm\n",
      "Loading File:  ../data/ShimmerData/P2178/P2178.shm\n",
      "Loading File:  ../data/ShimmerData/P2179/P2179.shm\n",
      "Loading File:  ../data/ShimmerData/P2180/P2180.shm\n",
      "Loading File:  ../data/ShimmerData/P2181/P2181.shm\n",
      "Loading File:  ../data/ShimmerData/P2182/P2182.shm\n",
      "Loading File:  ../data/ShimmerData/P2183/P2183.shm\n",
      "Loading File:  ../data/ShimmerData/P2184/P2184.shm\n",
      "Loading File:  ../data/ShimmerData/P2185/P2185.shm\n",
      "Loading File:  ../data/ShimmerData/P2186/P2186.shm\n",
      "Loading File:  ../data/ShimmerData/P2187/P2187.shm\n",
      "Loading File:  ../data/ShimmerData/P2188/P2188.shm\n",
      "Loading File:  ../data/ShimmerData/P2189/P2189.shm\n",
      "Loading File:  ../data/ShimmerData/P2190/P2190.shm\n",
      "Loading File:  ../data/ShimmerData/P2191/P2191.shm\n",
      "Loading File:  ../data/ShimmerData/P2192/P2192.shm\n",
      "Loading File:  ../data/ShimmerData/P2193/P2193.shm\n",
      "Loading File:  ../data/ShimmerData/P2194/P2194.shm\n",
      "Loading File:  ../data/ShimmerData/P2195/P2195.shm\n",
      "Loading File:  ../data/ShimmerData/P2196/P2196.shm\n",
      "Loading File:  ../data/ShimmerData/P2197/P2197.shm\n",
      "Loading File:  ../data/ShimmerData/P2198/P2198.shm\n",
      "Loading File:  ../data/ShimmerData/P2200/P2200.shm\n",
      "Loading File:  ../data/ShimmerData/P2201/P2201.shm\n",
      "Loading File:  ../data/ShimmerData/P2203/P2203.shm\n",
      "Loading File:  ../data/ShimmerData/P2204/P2204.shm\n",
      "Loading File:  ../data/ShimmerData/P2205/P2205.shm\n",
      "Loading File:  ../data/ShimmerData/P2206/P2206.shm\n",
      "Loading File:  ../data/ShimmerData/P2207/P2207.shm\n",
      "Loading File:  ../data/ShimmerData/P2208/P2208.shm\n",
      "Loading File:  ../data/ShimmerData/P2209/P2209.shm\n",
      "Loading File:  ../data/ShimmerData/P2210/P2210.shm\n",
      "Loading File:  ../data/ShimmerData/P2211/P2211.shm\n",
      "Loading File:  ../data/ShimmerData/P2212/P2212.shm\n",
      "Loading File:  ../data/ShimmerData/P2213/P2213.shm\n",
      "Loading File:  ../data/ShimmerData/P2214/P2214.shm\n",
      "Loading File:  ../data/ShimmerData/P2215/P2215.shm\n",
      "Loading File:  ../data/ShimmerData/P2216/P2216.shm\n",
      "Loading File:  ../data/ShimmerData/P2217/P2217.shm\n",
      "Loading File:  ../data/ShimmerData/P2218/P2218.shm\n",
      "Loading File:  ../data/ShimmerData/P2219/P2219.shm\n",
      "Loading File:  ../data/ShimmerData/P2221/P2221.shm\n",
      "Loading File:  ../data/ShimmerData/P2222/P2222.shm\n",
      "Loading File:  ../data/ShimmerData/P2223/P2223.shm\n",
      "Loading File:  ../data/ShimmerData/P2224/P2224.shm\n",
      "Loading File:  ../data/ShimmerData/P2226/P2226.shm\n",
      "Loading File:  ../data/ShimmerData/P2227/P2227.shm\n",
      "Loading File:  ../data/ShimmerData/P2228/P2228.shm\n",
      "Loading File:  ../data/ShimmerData/P2229/P2229.shm\n",
      "Loading File:  ../data/ShimmerData/P2230/P2230.shm\n",
      "Loading File:  ../data/ShimmerData/P2231/P2231.shm\n",
      "Loading File:  ../data/ShimmerData/P2232/P2232.shm\n",
      "Loading File:  ../data/ShimmerData/P2233/P2233.shm\n",
      "Loading File:  ../data/ShimmerData/P2234/P2234.shm\n",
      "Loading File:  ../data/ShimmerData/P2235/P2235.shm\n",
      "Loading File:  ../data/ShimmerData/P2236/P2236.shm\n",
      "Loading File:  ../data/ShimmerData/P2237/P2237.shm\n",
      "Loading File:  ../data/ShimmerData/P2238/P2238.shm\n",
      "Loading File:  ../data/ShimmerData/P2239/P2239.shm\n",
      "Loading File:  ../data/ShimmerData/P2240/P2240.shm\n",
      "Loading File:  ../data/ShimmerData/P2242/P2242.shm\n",
      "Loading File:  ../data/ShimmerData/P2243/P2243.shm\n",
      "Loading File:  ../data/ShimmerData/P2244/P2244.shm\n",
      "Loading File:  ../data/ShimmerData/P2245/P2245.shm\n",
      "Loading File:  ../data/ShimmerData/P2246/P2246.shm\n",
      "Loading File:  ../data/ShimmerData/P2247/P2247.shm\n",
      "Loading File:  ../data/ShimmerData/P2248/P2248.shm\n",
      "Loading File:  ../data/ShimmerData/P2249/P2249.shm\n",
      "Loading File:  ../data/ShimmerData/P2250/P2250.shm\n",
      "Loading File:  ../data/ShimmerData/P2251/P2251.shm\n",
      "Loading File:  ../data/ShimmerData/P2253/P2253.shm\n",
      "Loading File:  ../data/ShimmerData/P2254/P2254.shm\n",
      "Loading File:  ../data/ShimmerData/P2255/P2255.shm\n",
      "Loading File:  ../data/ShimmerData/P2256/P2256.shm\n",
      "Loading File:  ../data/ShimmerData/P2257/P2257.shm\n",
      "Loading File:  ../data/ShimmerData/P2258/P2258.shm\n",
      "Loading File:  ../data/ShimmerData/P2259/P2259.shm\n",
      "Loading File:  ../data/ShimmerData/P2262/P2262.shm\n",
      "Loading File:  ../data/ShimmerData/P2263/P2263.shm\n",
      "Loading File:  ../data/ShimmerData/P2264/P2264.shm\n",
      "Loading File:  ../data/ShimmerData/P2265/P2265.shm\n",
      "Loading File:  ../data/ShimmerData/P2267/P2267.shm\n",
      "Loading File:  ../data/ShimmerData/P2268/P2268.shm\n",
      "Loading File:  ../data/ShimmerData/P2269/P2269.shm\n",
      "Loading File:  ../data/ShimmerData/P2270/P2270.shm\n",
      "Loading File:  ../data/ShimmerData/P2271/P2271.shm\n",
      "Loading File:  ../data/ShimmerData/P2272/P2272.shm\n",
      "Loading File:  ../data/ShimmerData/P2273/P2273.shm\n",
      "Loading File:  ../data/ShimmerData/P2274/P2274.shm\n",
      "Loading File:  ../data/ShimmerData/P2275/P2275.shm\n",
      "Loading File:  ../data/ShimmerData/P2276/P2276.shm\n",
      "Loading File:  ../data/ShimmerData/P2277/P2277.shm\n",
      "Loading File:  ../data/ShimmerData/P2278/P2278.shm\n",
      "Loading File:  ../data/ShimmerData/P2280/P2280.shm\n",
      "Loading File:  ../data/ShimmerData/P2282/P2282.shm\n",
      "Loading File:  ../data/ShimmerData/P2283/P2283.shm\n",
      "Loading File:  ../data/ShimmerData/P2284/P2284.shm\n",
      "Loading File:  ../data/ShimmerData/P2285/P2285.shm\n",
      "Loading File:  ../data/ShimmerData/P2286/P2286.shm\n",
      "Loading File:  ../data/ShimmerData/P2287/P2287.shm\n",
      "Loading File:  ../data/ShimmerData/P2288/P2288.shm\n",
      "Loading File:  ../data/ShimmerData/P2289/P2289.shm\n",
      "Loading File:  ../data/ShimmerData/P2290/P2290.shm\n",
      "Loading File:  ../data/ShimmerData/P2291/P2291.shm\n",
      "Loading File:  ../data/ShimmerData/P2292/P2292.shm\n",
      "Loading File:  ../data/ShimmerData/P2293/P2293.shm\n",
      "Loading File:  ../data/ShimmerData/P2294/P2294.shm\n",
      "Loading File:  ../data/ShimmerData/P2295/P2295.shm\n",
      "Loading File:  ../data/ShimmerData/P2296/P2296.shm\n",
      "Loading File:  ../data/ShimmerData/P2298/P2298.shm\n",
      "Loading File:  ../data/ShimmerData/P2299/P2299.shm\n",
      "Loading File:  ../data/ShimmerData/P2300/P2300.shm\n",
      "Loading File:  ../data/ShimmerData/P2301/P2301.shm\n",
      "Loading File:  ../data/ShimmerData/P2302/P2302.shm\n",
      "Loading File:  ../data/ShimmerData/P2303/P2303.shm\n",
      "Loading File:  ../data/ShimmerData/P2304/P2304.shm\n",
      "Loading File:  ../data/ShimmerData/P2305/P2305.shm\n",
      "Loading File:  ../data/ShimmerData/P2306/P2306.shm\n",
      "Loading File:  ../data/ShimmerData/P2307/P2307.shm\n",
      "Loading File:  ../data/ShimmerData/P2308/P2308.shm\n",
      "Loading File:  ../data/ShimmerData/P2309/P2309.shm\n",
      "Loading File:  ../data/ShimmerData/P2311/P2311.shm\n",
      "Loading File:  ../data/ShimmerData/P2312/P2312.shm\n",
      "Loading File:  ../data/ShimmerData/P2313/P2313.shm\n",
      "Loading File:  ../data/ShimmerData/P2314/P2314.shm\n",
      "Loading File:  ../data/ShimmerData/P2315/P2315.shm\n",
      "Loading File:  ../data/ShimmerData/P2316/P2316.shm\n",
      "Loading File:  ../data/ShimmerData/P2317/P2317.shm\n",
      "Loading File:  ../data/ShimmerData/P2318/P2318.shm\n",
      "Loading File:  ../data/ShimmerData/P2319/P2319.shm\n",
      "Loading File:  ../data/ShimmerData/P2320/P2320.shm\n",
      "Loading File:  ../data/ShimmerData/P2321/P2321.shm\n",
      "Loading File:  ../data/ShimmerData/P2323/P2323.shm\n",
      "Loading File:  ../data/ShimmerData/P2325/P2325.shm\n",
      "Loading File:  ../data/ShimmerData/P2326/P2326.shm\n",
      "Loading File:  ../data/ShimmerData/P2329/P2329.shm\n",
      "Loading File:  ../data/ShimmerData/P2331/P2331.shm\n",
      "Loading File:  ../data/ShimmerData/P2332/P2332.shm\n",
      "Loading File:  ../data/ShimmerData/P2334/P2334.shm\n",
      "Loading File:  ../data/ShimmerData/P2335/P2335.shm\n",
      "Loading File:  ../data/ShimmerData/P2336/P2336.shm\n",
      "Loading File:  ../data/ShimmerData/P2337/P2337.shm\n",
      "Loading File:  ../data/ShimmerData/P2338/P2338.shm\n",
      "Loading File:  ../data/ShimmerData/P2340/P2340.shm\n",
      "Loading File:  ../data/ShimmerData/P2341/P2341.shm\n",
      "Loading File:  ../data/ShimmerData/P2342/P2342.shm\n",
      "Loading File:  ../data/ShimmerData/P2343/P2343.shm\n",
      "Loading File:  ../data/ShimmerData/P2344/P2344.shm\n",
      "Loading File:  ../data/ShimmerData/P2345/P2345.shm\n",
      "Loading File:  ../data/ShimmerData/P2346/P2346.shm\n",
      "Loading File:  ../data/ShimmerData/P2347/P2347.shm\n",
      "Loading File:  ../data/ShimmerData/P2348/P2348.shm\n",
      "Loading File:  ../data/ShimmerData/P2350/P2350.shm\n",
      "Loading File:  ../data/ShimmerData/P2351/P2351.shm\n",
      "Loading File:  ../data/ShimmerData/P2352/P2352.shm\n",
      "Loading File:  ../data/ShimmerData/P2353/P2353.shm\n",
      "Loading File:  ../data/ShimmerData/P2354/P2354.shm\n",
      "Loading File:  ../data/ShimmerData/P2356/P2356.shm\n",
      "Loading File:  ../data/ShimmerData/P2357/P2357.shm\n",
      "Loading File:  ../data/ShimmerData/P2358/P2358.shm\n",
      "Loading File:  ../data/ShimmerData/P2359/P2359.shm\n",
      "Loading File:  ../data/ShimmerData/P2360/P2360.shm\n",
      "Loading File:  ../data/ShimmerData/P2361/P2361.shm\n",
      "Loading File:  ../data/ShimmerData/P2362/P2362.shm\n",
      "Loading File:  ../data/ShimmerData/P2363/P2363.shm\n",
      "Loading File:  ../data/ShimmerData/P2364/P2364.shm\n",
      "Loading File:  ../data/ShimmerData/P2365/P2365.shm\n",
      "Loading File:  ../data/ShimmerData/P2366/P2366.shm\n",
      "Loading File:  ../data/ShimmerData/P2367/P2367.shm\n",
      "Loading File:  ../data/ShimmerData/P2368/P2368.shm\n",
      "Loading File:  ../data/ShimmerData/P2369/P2369.shm\n",
      "Loading File:  ../data/ShimmerData/P2370/P2370.shm\n",
      "Loading File:  ../data/ShimmerData/P2373/P2373.shm\n",
      "Loading File:  ../data/ShimmerData/P2374/P2374.shm\n",
      "Loading File:  ../data/ShimmerData/P2375/P2375.shm\n",
      "Loading File:  ../data/ShimmerData/P2377/P2377.shm\n",
      "Loading File:  ../data/ShimmerData/P2378/P2378.shm\n",
      "Loading File:  ../data/ShimmerData/P2379/P2379.shm\n",
      "Loading File:  ../data/ShimmerData/P2380/P2380.shm\n",
      "Loading File:  ../data/ShimmerData/P2381/P2381.shm\n",
      "Loading File:  ../data/ShimmerData/P2382/P2382.shm\n",
      "Loading File:  ../data/ShimmerData/P2383/P2383.shm\n",
      "Loading File:  ../data/ShimmerData/P2384/P2384.shm\n",
      "Loading File:  ../data/ShimmerData/P2386/P2386.shm\n",
      "Loading File:  ../data/ShimmerData/P2387/P2387.shm\n",
      "Loading File:  ../data/ShimmerData/P2388/P2388.shm\n",
      "Loading File:  ../data/ShimmerData/P2390/P2390.shm\n",
      "Loading File:  ../data/ShimmerData/P2391/P2391.shm\n",
      "Loading File:  ../data/ShimmerData/P2392/P2392.shm\n",
      "Loading File:  ../data/ShimmerData/P2394/P2394.shm\n",
      "Loading File:  ../data/ShimmerData/P2395/P2395.shm\n",
      "Loading File:  ../data/ShimmerData/P2396/P2396.shm\n",
      "Loading File:  ../data/ShimmerData/P2398/P2398.shm\n",
      "Loading File:  ../data/ShimmerData/P2399/P2399.shm\n",
      "Loading File:  ../data/ShimmerData/P2401/P2401.shm\n",
      "Loading File:  ../data/ShimmerData/P2402/P2402.shm\n",
      "Loading File:  ../data/ShimmerData/P2403/P2403.shm\n",
      "Loading File:  ../data/ShimmerData/P2406/P2406.shm\n",
      "Loading File:  ../data/ShimmerData/P2407/P2407.shm\n",
      "Loading File:  ../data/ShimmerData/P2408/P2408.shm\n",
      "Loading File:  ../data/ShimmerData/P2409/P2409.shm\n",
      "Loading File:  ../data/ShimmerData/P2410/P2410.shm\n",
      "Loading File:  ../data/ShimmerData/P2413/P2413.shm\n",
      "Loading File:  ../data/ShimmerData/P2415/P2415.shm\n",
      "Loading File:  ../data/ShimmerData/P2416/P2416.shm\n",
      "Loading File:  ../data/ShimmerData/P2417/P2417.shm\n",
      "Loading File:  ../data/ShimmerData/P2418/P2418.shm\n",
      "Loading File:  ../data/ShimmerData/P2419/P2419.shm\n",
      "Loading File:  ../data/ShimmerData/P2421/P2421.shm\n",
      "Loading File:  ../data/ShimmerData/P2422/P2422.shm\n",
      "Loading File:  ../data/ShimmerData/P2423/P2423.shm\n",
      "Loading File:  ../data/ShimmerData/P2424/P2424.shm\n",
      "Loading File:  ../data/ShimmerData/P2425/P2425.shm\n",
      "Loading File:  ../data/ShimmerData/P2426/P2426.shm\n",
      "Loading File:  ../data/ShimmerData/P2427/P2427.shm\n",
      "Loading File:  ../data/ShimmerData/P2428/P2428.shm\n",
      "Loading File:  ../data/ShimmerData/P2429/P2429.shm\n",
      "Loading File:  ../data/ShimmerData/P2430/P2430.shm\n",
      "Loading File:  ../data/ShimmerData/P2432/P2432.shm\n",
      "Loading File:  ../data/ShimmerData/P2434/P2434.shm\n",
      "Loading File:  ../data/ShimmerData/P2436/P2436.shm\n",
      "Loading File:  ../data/ShimmerData/P2437/P2437.shm\n",
      "Loading File:  ../data/ShimmerData/P2438/P2438.shm\n",
      "Loading File:  ../data/ShimmerData/P2440/P2440.shm\n",
      "Loading File:  ../data/ShimmerData/P2442/P2442.shm\n",
      "Loading File:  ../data/ShimmerData/P2443/P2443.shm\n",
      "Loading File:  ../data/ShimmerData/P2444/P2444.shm\n",
      "Loading File:  ../data/ShimmerData/P2446/P2446.shm\n",
      "Loading File:  ../data/ShimmerData/P2447/P2447.shm\n",
      "Loading File:  ../data/ShimmerData/P2449/P2449.shm\n",
      "Loading File:  ../data/ShimmerData/P2451/P2451.shm\n",
      "Loading File:  ../data/ShimmerData/P2452/P2452.shm\n",
      "Loading File:  ../data/ShimmerData/P2453/P2453.shm\n",
      "Loading File:  ../data/ShimmerData/P2454/P2454.shm\n",
      "Loading File:  ../data/ShimmerData/P2455/P2455.shm\n",
      "Loading File:  ../data/ShimmerData/P2456/P2456.shm\n",
      "Loading File:  ../data/ShimmerData/P2457/P2457.shm\n",
      "Loading File:  ../data/ShimmerData/P2458/P2458.shm\n",
      "Loading File:  ../data/ShimmerData/P2459/P2459.shm\n",
      "Loading File:  ../data/ShimmerData/P2460/P2460.shm\n",
      "Loading File:  ../data/ShimmerData/P2461/P2461.shm\n",
      "Loading File:  ../data/ShimmerData/P2462/P2462.shm\n",
      "Loading File:  ../data/ShimmerData/P2463/P2463.shm\n",
      "Loading File:  ../data/ShimmerData/P2464/P2464.shm\n",
      "Loading File:  ../data/ShimmerData/P2465/P2465.shm\n",
      "Loading File:  ../data/ShimmerData/P2466/P2466.shm\n",
      "Loading File:  ../data/ShimmerData/P2467/P2467.shm\n",
      "Loading File:  ../data/ShimmerData/P2468/P2468.shm\n",
      "Loading File:  ../data/ShimmerData/P2469/P2469.shm\n",
      "Loading File:  ../data/ShimmerData/P2470/P2470.shm\n",
      "Loading File:  ../data/ShimmerData/P2471/P2471.shm\n",
      "Loading File:  ../data/ShimmerData/P2474/P2474.shm\n",
      "Loading File:  ../data/ShimmerData/P2475/P2475.shm\n",
      "Loading File:  ../data/ShimmerData/P2476/P2476.shm\n",
      "Loading File:  ../data/ShimmerData/P2477/P2477.shm\n",
      "Loading File:  ../data/ShimmerData/P2478/P2478.shm\n",
      "Loading File:  ../data/ShimmerData/P2479/P2479.shm\n",
      "Loading File:  ../data/ShimmerData/P2481/P2481.shm\n",
      "Loading File:  ../data/ShimmerData/P2482/P2482.shm\n",
      "Loading File:  ../data/ShimmerData/P2483/P2483.shm\n",
      "Loading File:  ../data/ShimmerData/P2484/P2484.shm\n",
      "Train set size: 896540, with 47610 positive samples and 848930 negative samples\n",
      "Test set size: 224135, with 11902 positive samples and 212233 negative samples\n",
      "Data Loader Created\n",
      "Train set size: 76176, with 38088 positive samples and 38088 negative samples\n",
      "Test set size: 19044, with 9522 positive samples and 9522 negative samples\n",
      "Epoch 1/20\n",
      "596/596 [==============================] - 132s 221ms/step - loss: 0.7556 - accuracy: 0.7516 - val_loss: 0.5320 - val_accuracy: 0.7681\n",
      "Epoch 2/20\n",
      "596/596 [==============================] - 129s 216ms/step - loss: 0.5161 - accuracy: 0.7737 - val_loss: 0.5067 - val_accuracy: 0.7767\n",
      "Epoch 3/20\n",
      "596/596 [==============================] - 128s 214ms/step - loss: 0.4977 - accuracy: 0.7805 - val_loss: 0.5130 - val_accuracy: 0.7708\n",
      "Epoch 4/20\n",
      "596/596 [==============================] - 128s 215ms/step - loss: 0.4906 - accuracy: 0.7834 - val_loss: 0.5234 - val_accuracy: 0.7630\n",
      "Epoch 5/20\n",
      "596/596 [==============================] - 128s 214ms/step - loss: 0.4857 - accuracy: 0.7874 - val_loss: 0.4852 - val_accuracy: 0.7878\n",
      "Epoch 6/20\n",
      "596/596 [==============================] - 128s 215ms/step - loss: 0.4803 - accuracy: 0.7906 - val_loss: 0.4819 - val_accuracy: 0.7908\n",
      "Epoch 7/20\n",
      "596/596 [==============================] - 128s 214ms/step - loss: 0.4767 - accuracy: 0.7914 - val_loss: 0.4900 - val_accuracy: 0.7836\n",
      "Epoch 8/20\n",
      "596/596 [==============================] - 127s 214ms/step - loss: 0.4735 - accuracy: 0.7939 - val_loss: 0.4826 - val_accuracy: 0.7890\n",
      "Epoch 9/20\n",
      "596/596 [==============================] - 127s 213ms/step - loss: 0.4718 - accuracy: 0.7955 - val_loss: 0.4997 - val_accuracy: 0.7756\n",
      "Epoch 10/20\n",
      "596/596 [==============================] - 128s 215ms/step - loss: 0.4593 - accuracy: 0.8017 - val_loss: 0.4668 - val_accuracy: 0.7984\n",
      "Epoch 11/20\n",
      "596/596 [==============================] - 128s 215ms/step - loss: 0.4582 - accuracy: 0.8024 - val_loss: 0.4671 - val_accuracy: 0.7988\n",
      "Epoch 12/20\n",
      "596/596 [==============================] - 128s 214ms/step - loss: 0.4576 - accuracy: 0.8024 - val_loss: 0.4677 - val_accuracy: 0.7951\n",
      "Epoch 13/20\n",
      "596/596 [==============================] - 128s 214ms/step - loss: 0.4572 - accuracy: 0.8021 - val_loss: 0.4646 - val_accuracy: 0.7984\n",
      "Epoch 14/20\n",
      "596/596 [==============================] - 129s 216ms/step - loss: 0.4565 - accuracy: 0.8021 - val_loss: 0.4645 - val_accuracy: 0.7974\n",
      "Epoch 15/20\n",
      "596/596 [==============================] - 128s 215ms/step - loss: 0.4555 - accuracy: 0.8032 - val_loss: 0.4642 - val_accuracy: 0.7983\n",
      "Epoch 16/20\n",
      "596/596 [==============================] - 129s 216ms/step - loss: 0.4551 - accuracy: 0.8026 - val_loss: 0.4638 - val_accuracy: 0.7980\n",
      "Epoch 17/20\n",
      "596/596 [==============================] - 128s 214ms/step - loss: 0.4548 - accuracy: 0.8027 - val_loss: 0.4626 - val_accuracy: 0.8005\n",
      "Epoch 18/20\n",
      "596/596 [==============================] - 129s 216ms/step - loss: 0.4541 - accuracy: 0.8032 - val_loss: 0.4624 - val_accuracy: 0.8005\n",
      "Epoch 19/20\n",
      "596/596 [==============================] - 128s 215ms/step - loss: 0.4540 - accuracy: 0.8036 - val_loss: 0.4620 - val_accuracy: 0.8006\n",
      "Epoch 20/20\n",
      "596/596 [==============================] - 128s 215ms/step - loss: 0.4531 - accuracy: 0.8036 - val_loss: 0.4628 - val_accuracy: 0.8001\n",
      "Max value:  0.8036258220672607  at epoch 19\n",
      "Weighted Accuracy: 0.804609253666914\n",
      "Test Accuracy: 0.8197381042675174\n",
      "F1-score: 0.31697462512467667\n",
      "Recall Accuracy: 0.7876827423962359\n",
      "       model data  win(sec)      wacc        f1    recall       acc\n",
      "0  ActiModel  CAD       360  0.804609  0.316975  0.787683  0.819738\n"
     ]
    }
   ],
   "source": [
    "person=\"CAD\"\n",
    "winmin= 6\n",
    "stridesec = 15\n",
    "win_size = 15*winmin*60\n",
    "model_g = acti_model(input_shape =(win_size,6) )\n",
    "model_g.compile(loss='binary_crossentropy',\n",
    "                optimizer='adam', metrics=['accuracy'])\n",
    "perf_df_g, model_ls_g, hist_ls_g = train_models(model_g,win_ls = [winmin],EPOCHS = 20,stridesec = stridesec,model_name=\"acti_6min\",name = person,split_day=False)\n"
   ]
  },
  {
   "cell_type": "code",
   "execution_count": 37,
   "metadata": {},
   "outputs": [],
   "source": [
    "# hist_df = pd.DataFrame(hist_ls_3[0].history)\n",
    "hist_df = pd.DataFrame(hist_ls_g[0].history)\n",
    "hist_df.to_csv(\"../results/train_results/group_model_6min_train_history.csv\")\n",
    "perf_train_df = pd.read_csv(\"../results/train_results/group_model_6min_train_history.csv\",index_col=0)\n",
    "\n",
    "perf_df_g.to_csv(\"../results/train_results/group_model_6min_train_time_metrics.csv\")\n",
    "time_metric_df = pd.read_csv(\"../results/train_results/group_model_6min_train_time_metrics.csv\", index_col=0)"
   ]
  },
  {
   "cell_type": "code",
   "execution_count": 38,
   "metadata": {},
   "outputs": [
    {
     "data": {
      "text/plain": [
       "<AxesSubplot:>"
      ]
     },
     "execution_count": 38,
     "metadata": {},
     "output_type": "execute_result"
    },
    {
     "data": {
      "image/png": "[encoded data removed]",
      "text/plain": [
       "<Figure size 432x288 with 1 Axes>"
      ]
     },
     "metadata": {
      "needs_background": "light"
     },
     "output_type": "display_data"
    }
   ],
   "source": [
    "perf_train_df[['accuracy', 'val_accuracy']].plot()"
   ]
  },
  {
   "cell_type": "code",
   "execution_count": 36,
   "metadata": {},
   "outputs": [],
   "source": [
    "# hist_ls_g = hist_ls_3\n",
    "# perf_df_g = perf_df_3\n",
    "# model_ls_g = model_ls_3"
   ]
  },
  {
   "cell_type": "code",
   "execution_count": 75,
   "metadata": {
    "scrolled": true
   },
   "outputs": [
    {
     "name": "stdout",
     "output_type": "stream",
     "text": [
      "*****************************************************************\n",
      "\n",
      "Execution Started at 01/13/2021, 23:20:59\n",
      "WindowLength: 6.00 min (5400 datum)\tSlide: 15 (225 datum)\tEpochs:20\n",
      "\n",
      "Model to Save:  ../models/CAD_models/acti_6min_split_day_M_F_6.000000Min.h5\n",
      "\n",
      "Train: 284\n",
      "ShimmerData/P2001/P2001.shm\n",
      "ShimmerData/P2011/P2011.shm\n",
      "ShimmerData/P2012/P2012.shm\n",
      "ShimmerData/P2013/P2013.shm\n",
      "ShimmerData/P2014/P2014.shm\n",
      "ShimmerData/P2015/P2015.shm\n",
      "ShimmerData/P2016/P2016.shm\n",
      "ShimmerData/P2017/P2017.shm\n",
      "ShimmerData/P2018/P2018.shm\n",
      "ShimmerData/P2020/P2020.shm\n",
      "ShimmerData/P2030/P2030.shm\n",
      "ShimmerData/P2031/P2031.shm\n",
      "ShimmerData/P2033/P2033.shm\n",
      "ShimmerData/P2035/P2035.shm\n",
      "ShimmerData/P2036/P2036.shm\n",
      "ShimmerData/P2037/P2037.shm\n",
      "ShimmerData/P2038/P2038.shm\n",
      "ShimmerData/P2044/P2044.shm\n",
      "ShimmerData/P2046/P2046.shm\n",
      "ShimmerData/P2051/P2051.shm\n",
      "ShimmerData/P2055/P2055.shm\n",
      "ShimmerData/P2057/P2057.shm\n",
      "ShimmerData/P2058/P2058.shm\n",
      "ShimmerData/P2063/P2063.shm\n",
      "ShimmerData/P2100/P2100.shm\n",
      "ShimmerData/P2101/P2101.shm\n",
      "ShimmerData/P2102/P2102.shm\n",
      "ShimmerData/P2103/P2103.shm\n",
      "ShimmerData/P2105/P2105.shm\n",
      "ShimmerData/P2106/P2106.shm\n",
      "ShimmerData/P2107/P2107.shm\n",
      "ShimmerData/P2108/P2108.shm\n",
      "ShimmerData/P2109/P2109.shm\n",
      "ShimmerData/P2110/P2110.shm\n",
      "ShimmerData/P2111/P2111.shm\n",
      "ShimmerData/P2113/P2113.shm\n",
      "ShimmerData/P2114/P2114.shm\n",
      "ShimmerData/P2115/P2115.shm\n",
      "ShimmerData/P2116/P2116.shm\n",
      "ShimmerData/P2117/P2117.shm\n",
      "ShimmerData/P2118/P2118.shm\n",
      "ShimmerData/P2120/P2120.shm\n",
      "ShimmerData/P2121/P2121.shm\n",
      "ShimmerData/P2122/P2122.shm\n",
      "ShimmerData/P2123/P2123.shm\n",
      "ShimmerData/P2125/P2125.shm\n",
      "ShimmerData/P2126/P2126.shm\n",
      "ShimmerData/P2127/P2127.shm\n",
      "ShimmerData/P2128/P2128.shm\n",
      "ShimmerData/P2129/P2129.shm\n",
      "ShimmerData/P2130/P2130.shm\n",
      "ShimmerData/P2131/P2131.shm\n",
      "ShimmerData/P2132/P2132.shm\n",
      "ShimmerData/P2133/P2133.shm\n",
      "ShimmerData/P2134/P2134.shm\n",
      "ShimmerData/P2135/P2135.shm\n",
      "ShimmerData/P2136/P2136.shm\n",
      "ShimmerData/P2137/P2137.shm\n",
      "ShimmerData/P2138/P2138.shm\n",
      "ShimmerData/P2139/P2139.shm\n",
      "ShimmerData/P2140/P2140.shm\n",
      "ShimmerData/P2141/P2141.shm\n",
      "ShimmerData/P2142/P2142.shm\n",
      "ShimmerData/P2143/P2143.shm\n",
      "ShimmerData/P2144/P2144.shm\n",
      "ShimmerData/P2145/P2145.shm\n",
      "ShimmerData/P2146/P2146.shm\n",
      "ShimmerData/P2147/P2147.shm\n",
      "ShimmerData/P2148/P2148.shm\n",
      "ShimmerData/P2149/P2149.shm\n",
      "ShimmerData/P2150/P2150.shm\n",
      "ShimmerData/P2151/P2151.shm\n",
      "ShimmerData/P2152/P2152.shm\n",
      "ShimmerData/P2153/P2153.shm\n",
      "ShimmerData/P2154/P2154.shm\n",
      "ShimmerData/P2155/P2155.shm\n",
      "ShimmerData/P2157/P2157.shm\n",
      "ShimmerData/P2158/P2158.shm\n",
      "ShimmerData/P2159/P2159.shm\n",
      "ShimmerData/P2160/P2160.shm\n",
      "ShimmerData/P2161/P2161.shm\n",
      "ShimmerData/P2164/P2164.shm\n",
      "ShimmerData/P2165/P2165.shm\n",
      "ShimmerData/P2166/P2166.shm\n",
      "ShimmerData/P2168/P2168.shm\n",
      "ShimmerData/P2169/P2169.shm\n",
      "ShimmerData/P2170/P2170.shm\n",
      "ShimmerData/P2171/P2171.shm\n",
      "ShimmerData/P2172/P2172.shm\n",
      "ShimmerData/P2173/P2173.shm\n",
      "ShimmerData/P2174/P2174.shm\n",
      "ShimmerData/P2175/P2175.shm\n",
      "ShimmerData/P2176/P2176.shm\n",
      "ShimmerData/P2177/P2177.shm\n",
      "ShimmerData/P2178/P2178.shm\n",
      "ShimmerData/P2179/P2179.shm\n",
      "ShimmerData/P2180/P2180.shm\n",
      "ShimmerData/P2181/P2181.shm\n",
      "ShimmerData/P2182/P2182.shm\n",
      "ShimmerData/P2183/P2183.shm\n",
      "ShimmerData/P2184/P2184.shm\n",
      "ShimmerData/P2185/P2185.shm\n",
      "ShimmerData/P2186/P2186.shm\n",
      "ShimmerData/P2187/P2187.shm\n",
      "ShimmerData/P2188/P2188.shm\n",
      "ShimmerData/P2189/P2189.shm\n",
      "ShimmerData/P2190/P2190.shm\n",
      "ShimmerData/P2191/P2191.shm\n",
      "ShimmerData/P2192/P2192.shm\n",
      "ShimmerData/P2193/P2193.shm\n",
      "ShimmerData/P2194/P2194.shm\n",
      "ShimmerData/P2195/P2195.shm\n",
      "ShimmerData/P2196/P2196.shm\n",
      "ShimmerData/P2197/P2197.shm\n",
      "ShimmerData/P2198/P2198.shm\n",
      "ShimmerData/P2200/P2200.shm\n",
      "ShimmerData/P2201/P2201.shm\n",
      "ShimmerData/P2203/P2203.shm\n",
      "ShimmerData/P2204/P2204.shm\n",
      "ShimmerData/P2205/P2205.shm\n",
      "ShimmerData/P2206/P2206.shm\n",
      "ShimmerData/P2207/P2207.shm\n",
      "ShimmerData/P2208/P2208.shm\n",
      "ShimmerData/P2209/P2209.shm\n",
      "ShimmerData/P2210/P2210.shm\n",
      "ShimmerData/P2211/P2211.shm\n",
      "ShimmerData/P2212/P2212.shm\n",
      "ShimmerData/P2213/P2213.shm\n",
      "ShimmerData/P2214/P2214.shm\n",
      "ShimmerData/P2215/P2215.shm\n",
      "ShimmerData/P2216/P2216.shm\n",
      "ShimmerData/P2217/P2217.shm\n",
      "ShimmerData/P2218/P2218.shm\n",
      "ShimmerData/P2219/P2219.shm\n",
      "ShimmerData/P2221/P2221.shm\n",
      "ShimmerData/P2222/P2222.shm\n",
      "ShimmerData/P2223/P2223.shm\n",
      "ShimmerData/P2224/P2224.shm\n",
      "ShimmerData/P2226/P2226.shm\n",
      "ShimmerData/P2227/P2227.shm\n",
      "ShimmerData/P2228/P2228.shm\n",
      "ShimmerData/P2229/P2229.shm\n",
      "ShimmerData/P2230/P2230.shm\n",
      "ShimmerData/P2231/P2231.shm\n",
      "ShimmerData/P2232/P2232.shm\n",
      "ShimmerData/P2233/P2233.shm\n",
      "ShimmerData/P2234/P2234.shm\n",
      "ShimmerData/P2235/P2235.shm\n",
      "ShimmerData/P2236/P2236.shm\n",
      "ShimmerData/P2237/P2237.shm\n",
      "ShimmerData/P2238/P2238.shm\n",
      "ShimmerData/P2239/P2239.shm\n",
      "ShimmerData/P2240/P2240.shm\n",
      "ShimmerData/P2242/P2242.shm\n",
      "ShimmerData/P2243/P2243.shm\n",
      "ShimmerData/P2244/P2244.shm\n",
      "ShimmerData/P2245/P2245.shm\n",
      "ShimmerData/P2246/P2246.shm\n",
      "ShimmerData/P2247/P2247.shm\n",
      "ShimmerData/P2248/P2248.shm\n",
      "ShimmerData/P2249/P2249.shm\n",
      "ShimmerData/P2250/P2250.shm\n",
      "ShimmerData/P2251/P2251.shm\n",
      "ShimmerData/P2253/P2253.shm\n",
      "ShimmerData/P2254/P2254.shm\n",
      "ShimmerData/P2255/P2255.shm\n",
      "ShimmerData/P2256/P2256.shm\n",
      "ShimmerData/P2257/P2257.shm\n",
      "ShimmerData/P2258/P2258.shm\n",
      "ShimmerData/P2259/P2259.shm\n",
      "ShimmerData/P2262/P2262.shm\n",
      "ShimmerData/P2263/P2263.shm\n",
      "ShimmerData/P2264/P2264.shm\n",
      "ShimmerData/P2265/P2265.shm\n",
      "ShimmerData/P2267/P2267.shm\n",
      "ShimmerData/P2268/P2268.shm\n",
      "ShimmerData/P2269/P2269.shm\n",
      "ShimmerData/P2270/P2270.shm\n",
      "ShimmerData/P2271/P2271.shm\n",
      "ShimmerData/P2272/P2272.shm\n",
      "ShimmerData/P2273/P2273.shm\n",
      "ShimmerData/P2274/P2274.shm\n",
      "ShimmerData/P2275/P2275.shm\n",
      "ShimmerData/P2276/P2276.shm\n",
      "ShimmerData/P2277/P2277.shm\n",
      "ShimmerData/P2278/P2278.shm\n",
      "ShimmerData/P2280/P2280.shm\n",
      "ShimmerData/P2282/P2282.shm\n",
      "ShimmerData/P2283/P2283.shm\n",
      "ShimmerData/P2284/P2284.shm\n",
      "ShimmerData/P2285/P2285.shm\n",
      "ShimmerData/P2286/P2286.shm\n",
      "ShimmerData/P2287/P2287.shm\n",
      "ShimmerData/P2288/P2288.shm\n",
      "ShimmerData/P2289/P2289.shm\n",
      "ShimmerData/P2290/P2290.shm\n",
      "ShimmerData/P2291/P2291.shm\n",
      "ShimmerData/P2292/P2292.shm\n",
      "ShimmerData/P2293/P2293.shm\n",
      "ShimmerData/P2294/P2294.shm\n",
      "ShimmerData/P2295/P2295.shm\n",
      "ShimmerData/P2296/P2296.shm\n",
      "ShimmerData/P2298/P2298.shm\n",
      "ShimmerData/P2299/P2299.shm\n",
      "ShimmerData/P2300/P2300.shm\n",
      "ShimmerData/P2301/P2301.shm\n",
      "ShimmerData/P2302/P2302.shm\n",
      "ShimmerData/P2303/P2303.shm\n",
      "ShimmerData/P2304/P2304.shm\n",
      "ShimmerData/P2305/P2305.shm\n",
      "ShimmerData/P2306/P2306.shm\n",
      "ShimmerData/P2307/P2307.shm\n",
      "ShimmerData/P2308/P2308.shm\n",
      "ShimmerData/P2309/P2309.shm\n",
      "ShimmerData/P2311/P2311.shm\n",
      "ShimmerData/P2312/P2312.shm\n",
      "ShimmerData/P2313/P2313.shm\n",
      "ShimmerData/P2314/P2314.shm\n",
      "ShimmerData/P2315/P2315.shm\n",
      "ShimmerData/P2316/P2316.shm\n",
      "ShimmerData/P2317/P2317.shm\n",
      "ShimmerData/P2318/P2318.shm\n",
      "ShimmerData/P2319/P2319.shm\n",
      "ShimmerData/P2320/P2320.shm\n",
      "ShimmerData/P2321/P2321.shm\n",
      "ShimmerData/P2323/P2323.shm\n",
      "ShimmerData/P2325/P2325.shm\n",
      "ShimmerData/P2326/P2326.shm\n",
      "ShimmerData/P2329/P2329.shm\n",
      "ShimmerData/P2331/P2331.shm\n",
      "ShimmerData/P2332/P2332.shm\n",
      "ShimmerData/P2334/P2334.shm\n",
      "ShimmerData/P2335/P2335.shm\n",
      "ShimmerData/P2336/P2336.shm\n",
      "ShimmerData/P2337/P2337.shm\n",
      "ShimmerData/P2338/P2338.shm\n",
      "ShimmerData/P2340/P2340.shm\n",
      "ShimmerData/P2341/P2341.shm\n",
      "ShimmerData/P2342/P2342.shm\n",
      "ShimmerData/P2343/P2343.shm\n",
      "ShimmerData/P2344/P2344.shm\n",
      "ShimmerData/P2345/P2345.shm\n",
      "ShimmerData/P2346/P2346.shm\n",
      "ShimmerData/P2347/P2347.shm\n",
      "ShimmerData/P2348/P2348.shm\n",
      "ShimmerData/P2350/P2350.shm\n",
      "ShimmerData/P2351/P2351.shm\n",
      "ShimmerData/P2352/P2352.shm\n",
      "ShimmerData/P2353/P2353.shm\n",
      "ShimmerData/P2354/P2354.shm\n",
      "ShimmerData/P2356/P2356.shm\n",
      "ShimmerData/P2357/P2357.shm\n",
      "ShimmerData/P2358/P2358.shm\n",
      "ShimmerData/P2359/P2359.shm\n",
      "ShimmerData/P2360/P2360.shm\n",
      "ShimmerData/P2361/P2361.shm\n",
      "ShimmerData/P2362/P2362.shm\n",
      "ShimmerData/P2363/P2363.shm\n",
      "ShimmerData/P2364/P2364.shm\n",
      "ShimmerData/P2365/P2365.shm\n",
      "ShimmerData/P2366/P2366.shm\n",
      "ShimmerData/P2367/P2367.shm\n",
      "ShimmerData/P2368/P2368.shm\n",
      "ShimmerData/P2369/P2369.shm\n",
      "ShimmerData/P2370/P2370.shm\n",
      "ShimmerData/P2373/P2373.shm\n",
      "ShimmerData/P2374/P2374.shm\n",
      "ShimmerData/P2375/P2375.shm\n",
      "ShimmerData/P2377/P2377.shm\n",
      "ShimmerData/P2378/P2378.shm\n",
      "ShimmerData/P2379/P2379.shm\n",
      "ShimmerData/P2380/P2380.shm\n",
      "ShimmerData/P2381/P2381.shm\n",
      "ShimmerData/P2382/P2382.shm\n",
      "ShimmerData/P2383/P2383.shm\n",
      "ShimmerData/P2384/P2384.shm\n",
      "ShimmerData/P2386/P2386.shm\n",
      "ShimmerData/P2387/P2387.shm\n",
      "ShimmerData/P2388/P2388.shm\n",
      "ShimmerData/P2390/P2390.shm\n",
      "ShimmerData/P2391/P2391.shm\n",
      "ShimmerData/P2392/P2392.shm\n",
      "ShimmerData/P2394/P2394.shm\n",
      "ShimmerData/P2395/P2395.shm\n",
      "\n",
      "test:  71\n",
      "ShimmerData/P2396/P2396.shm\n",
      "ShimmerData/P2398/P2398.shm\n",
      "ShimmerData/P2399/P2399.shm\n",
      "ShimmerData/P2401/P2401.shm\n",
      "ShimmerData/P2402/P2402.shm\n",
      "ShimmerData/P2403/P2403.shm\n",
      "ShimmerData/P2406/P2406.shm\n",
      "ShimmerData/P2407/P2407.shm\n",
      "ShimmerData/P2408/P2408.shm\n",
      "ShimmerData/P2409/P2409.shm\n",
      "ShimmerData/P2410/P2410.shm\n",
      "ShimmerData/P2413/P2413.shm\n",
      "ShimmerData/P2415/P2415.shm\n",
      "ShimmerData/P2416/P2416.shm\n",
      "ShimmerData/P2417/P2417.shm\n",
      "ShimmerData/P2418/P2418.shm\n",
      "ShimmerData/P2419/P2419.shm\n",
      "ShimmerData/P2421/P2421.shm\n",
      "ShimmerData/P2422/P2422.shm\n",
      "ShimmerData/P2423/P2423.shm\n",
      "ShimmerData/P2424/P2424.shm\n",
      "ShimmerData/P2425/P2425.shm\n",
      "ShimmerData/P2426/P2426.shm\n",
      "ShimmerData/P2427/P2427.shm\n",
      "ShimmerData/P2428/P2428.shm\n",
      "ShimmerData/P2429/P2429.shm\n",
      "ShimmerData/P2430/P2430.shm\n",
      "ShimmerData/P2432/P2432.shm\n",
      "ShimmerData/P2434/P2434.shm\n",
      "ShimmerData/P2436/P2436.shm\n",
      "ShimmerData/P2437/P2437.shm\n",
      "ShimmerData/P2438/P2438.shm\n",
      "ShimmerData/P2440/P2440.shm\n",
      "ShimmerData/P2442/P2442.shm\n",
      "ShimmerData/P2443/P2443.shm\n",
      "ShimmerData/P2444/P2444.shm\n",
      "ShimmerData/P2446/P2446.shm\n",
      "ShimmerData/P2447/P2447.shm\n",
      "ShimmerData/P2449/P2449.shm\n",
      "ShimmerData/P2451/P2451.shm\n",
      "ShimmerData/P2452/P2452.shm\n",
      "ShimmerData/P2453/P2453.shm\n",
      "ShimmerData/P2454/P2454.shm\n",
      "ShimmerData/P2455/P2455.shm\n",
      "ShimmerData/P2456/P2456.shm\n",
      "ShimmerData/P2457/P2457.shm\n",
      "ShimmerData/P2458/P2458.shm\n",
      "ShimmerData/P2459/P2459.shm\n",
      "ShimmerData/P2460/P2460.shm\n",
      "ShimmerData/P2461/P2461.shm\n",
      "ShimmerData/P2462/P2462.shm\n",
      "ShimmerData/P2463/P2463.shm\n",
      "ShimmerData/P2464/P2464.shm\n",
      "ShimmerData/P2465/P2465.shm\n",
      "ShimmerData/P2466/P2466.shm\n",
      "ShimmerData/P2467/P2467.shm\n",
      "ShimmerData/P2468/P2468.shm\n",
      "ShimmerData/P2469/P2469.shm\n",
      "ShimmerData/P2470/P2470.shm\n",
      "ShimmerData/P2471/P2471.shm\n",
      "ShimmerData/P2474/P2474.shm\n",
      "ShimmerData/P2475/P2475.shm\n",
      "ShimmerData/P2476/P2476.shm\n",
      "ShimmerData/P2477/P2477.shm\n",
      "ShimmerData/P2478/P2478.shm\n",
      "ShimmerData/P2479/P2479.shm\n",
      "ShimmerData/P2481/P2481.shm\n",
      "ShimmerData/P2482/P2482.shm\n",
      "ShimmerData/P2483/P2483.shm\n",
      "ShimmerData/P2484/P2484.shm\n",
      "\n",
      "\n",
      "Loading Dataset ...\n",
      "Loading File:  ../data/ShimmerData/P2001/P2001.shm\n",
      "Loading File:  ../data/ShimmerData/P2011/P2011.shm\n",
      "Loading File:  ../data/ShimmerData/P2012/P2012.shm\n",
      "Loading File:  ../data/ShimmerData/P2013/P2013.shm\n",
      "Loading File:  ../data/ShimmerData/P2014/P2014.shm\n",
      "Loading File:  ../data/ShimmerData/P2015/P2015.shm\n",
      "Loading File:  ../data/ShimmerData/P2016/P2016.shm\n",
      "Loading File:  ../data/ShimmerData/P2017/P2017.shm\n",
      "Loading File:  ../data/ShimmerData/P2018/P2018.shm\n",
      "Loading File:  ../data/ShimmerData/P2020/P2020.shm\n",
      "Loading File:  ../data/ShimmerData/P2030/P2030.shm\n",
      "Loading File:  ../data/ShimmerData/P2031/P2031.shm\n",
      "Loading File:  ../data/ShimmerData/P2033/P2033.shm\n",
      "Loading File:  ../data/ShimmerData/P2035/P2035.shm\n",
      "Loading File:  ../data/ShimmerData/P2036/P2036.shm\n",
      "Loading File:  ../data/ShimmerData/P2037/P2037.shm\n",
      "Loading File:  ../data/ShimmerData/P2038/P2038.shm\n",
      "Loading File:  ../data/ShimmerData/P2044/P2044.shm\n",
      "Loading File:  ../data/ShimmerData/P2046/P2046.shm\n",
      "Loading File:  ../data/ShimmerData/P2051/P2051.shm\n",
      "Loading File:  ../data/ShimmerData/P2055/P2055.shm\n",
      "Loading File:  ../data/ShimmerData/P2057/P2057.shm\n",
      "Loading File:  ../data/ShimmerData/P2058/P2058.shm\n",
      "Loading File:  ../data/ShimmerData/P2063/P2063.shm\n",
      "Loading File:  ../data/ShimmerData/P2100/P2100.shm\n",
      "Loading File:  ../data/ShimmerData/P2101/P2101.shm\n",
      "Loading File:  ../data/ShimmerData/P2102/P2102.shm\n",
      "Loading File:  ../data/ShimmerData/P2103/P2103.shm\n",
      "Loading File:  ../data/ShimmerData/P2105/P2105.shm\n",
      "Loading File:  ../data/ShimmerData/P2106/P2106.shm\n",
      "Loading File:  ../data/ShimmerData/P2107/P2107.shm\n",
      "Loading File:  ../data/ShimmerData/P2108/P2108.shm\n",
      "Loading File:  ../data/ShimmerData/P2109/P2109.shm\n",
      "Loading File:  ../data/ShimmerData/P2110/P2110.shm\n",
      "Loading File:  ../data/ShimmerData/P2111/P2111.shm\n",
      "Loading File:  ../data/ShimmerData/P2113/P2113.shm\n",
      "Loading File:  ../data/ShimmerData/P2114/P2114.shm\n",
      "Loading File:  ../data/ShimmerData/P2115/P2115.shm\n",
      "Loading File:  ../data/ShimmerData/P2116/P2116.shm\n",
      "Loading File:  ../data/ShimmerData/P2117/P2117.shm\n",
      "Loading File:  ../data/ShimmerData/P2118/P2118.shm\n",
      "Loading File:  ../data/ShimmerData/P2120/P2120.shm\n",
      "Loading File:  ../data/ShimmerData/P2121/P2121.shm\n",
      "Loading File:  ../data/ShimmerData/P2122/P2122.shm\n",
      "Loading File:  ../data/ShimmerData/P2123/P2123.shm\n",
      "Loading File:  ../data/ShimmerData/P2125/P2125.shm\n",
      "Loading File:  ../data/ShimmerData/P2126/P2126.shm\n",
      "Loading File:  ../data/ShimmerData/P2127/P2127.shm\n",
      "Loading File:  ../data/ShimmerData/P2128/P2128.shm\n",
      "Loading File:  ../data/ShimmerData/P2129/P2129.shm\n",
      "Loading File:  ../data/ShimmerData/P2130/P2130.shm\n",
      "Loading File:  ../data/ShimmerData/P2131/P2131.shm\n",
      "Loading File:  ../data/ShimmerData/P2132/P2132.shm\n",
      "Loading File:  ../data/ShimmerData/P2133/P2133.shm\n",
      "Loading File:  ../data/ShimmerData/P2134/P2134.shm\n",
      "Loading File:  ../data/ShimmerData/P2135/P2135.shm\n",
      "Loading File:  ../data/ShimmerData/P2136/P2136.shm\n",
      "Loading File:  ../data/ShimmerData/P2137/P2137.shm\n",
      "Loading File:  ../data/ShimmerData/P2138/P2138.shm\n",
      "Loading File:  ../data/ShimmerData/P2139/P2139.shm\n",
      "Loading File:  ../data/ShimmerData/P2140/P2140.shm\n",
      "Loading File:  ../data/ShimmerData/P2141/P2141.shm\n",
      "Loading File:  ../data/ShimmerData/P2142/P2142.shm\n",
      "Loading File:  ../data/ShimmerData/P2143/P2143.shm\n",
      "Loading File:  ../data/ShimmerData/P2144/P2144.shm\n",
      "Loading File:  ../data/ShimmerData/P2145/P2145.shm\n",
      "Loading File:  ../data/ShimmerData/P2146/P2146.shm\n",
      "Loading File:  ../data/ShimmerData/P2147/P2147.shm\n",
      "Loading File:  ../data/ShimmerData/P2148/P2148.shm\n",
      "Loading File:  ../data/ShimmerData/P2149/P2149.shm\n",
      "Loading File:  ../data/ShimmerData/P2150/P2150.shm\n",
      "Loading File:  ../data/ShimmerData/P2151/P2151.shm\n",
      "Loading File:  ../data/ShimmerData/P2152/P2152.shm\n",
      "Loading File:  ../data/ShimmerData/P2153/P2153.shm\n",
      "Loading File:  ../data/ShimmerData/P2154/P2154.shm\n",
      "Loading File:  ../data/ShimmerData/P2155/P2155.shm\n",
      "Loading File:  ../data/ShimmerData/P2157/P2157.shm\n",
      "Loading File:  ../data/ShimmerData/P2158/P2158.shm\n",
      "Loading File:  ../data/ShimmerData/P2159/P2159.shm\n",
      "Loading File:  ../data/ShimmerData/P2160/P2160.shm\n",
      "Loading File:  ../data/ShimmerData/P2161/P2161.shm\n",
      "Loading File:  ../data/ShimmerData/P2164/P2164.shm\n",
      "Loading File:  ../data/ShimmerData/P2165/P2165.shm\n",
      "Loading File:  ../data/ShimmerData/P2166/P2166.shm\n",
      "Loading File:  ../data/ShimmerData/P2168/P2168.shm\n",
      "Loading File:  ../data/ShimmerData/P2169/P2169.shm\n",
      "Loading File:  ../data/ShimmerData/P2170/P2170.shm\n",
      "Loading File:  ../data/ShimmerData/P2171/P2171.shm\n",
      "Loading File:  ../data/ShimmerData/P2172/P2172.shm\n",
      "Loading File:  ../data/ShimmerData/P2173/P2173.shm\n",
      "Loading File:  ../data/ShimmerData/P2174/P2174.shm\n",
      "Loading File:  ../data/ShimmerData/P2175/P2175.shm\n",
      "Loading File:  ../data/ShimmerData/P2176/P2176.shm\n",
      "Loading File:  ../data/ShimmerData/P2177/P2177.shm\n",
      "Loading File:  ../data/ShimmerData/P2178/P2178.shm\n",
      "Loading File:  ../data/ShimmerData/P2179/P2179.shm\n",
      "Loading File:  ../data/ShimmerData/P2180/P2180.shm\n",
      "Loading File:  ../data/ShimmerData/P2181/P2181.shm\n",
      "Loading File:  ../data/ShimmerData/P2182/P2182.shm\n",
      "Loading File:  ../data/ShimmerData/P2183/P2183.shm\n",
      "Loading File:  ../data/ShimmerData/P2184/P2184.shm\n",
      "Loading File:  ../data/ShimmerData/P2185/P2185.shm\n",
      "Loading File:  ../data/ShimmerData/P2186/P2186.shm\n",
      "Loading File:  ../data/ShimmerData/P2187/P2187.shm\n",
      "Loading File:  ../data/ShimmerData/P2188/P2188.shm\n",
      "Loading File:  ../data/ShimmerData/P2189/P2189.shm\n",
      "Loading File:  ../data/ShimmerData/P2190/P2190.shm\n",
      "Loading File:  ../data/ShimmerData/P2191/P2191.shm\n",
      "Loading File:  ../data/ShimmerData/P2192/P2192.shm\n",
      "Loading File:  ../data/ShimmerData/P2193/P2193.shm\n",
      "Loading File:  ../data/ShimmerData/P2194/P2194.shm\n",
      "Loading File:  ../data/ShimmerData/P2195/P2195.shm\n",
      "Loading File:  ../data/ShimmerData/P2196/P2196.shm\n",
      "Loading File:  ../data/ShimmerData/P2197/P2197.shm\n",
      "Loading File:  ../data/ShimmerData/P2198/P2198.shm\n",
      "Loading File:  ../data/ShimmerData/P2200/P2200.shm\n",
      "Loading File:  ../data/ShimmerData/P2201/P2201.shm\n",
      "Loading File:  ../data/ShimmerData/P2203/P2203.shm\n",
      "Loading File:  ../data/ShimmerData/P2204/P2204.shm\n",
      "Loading File:  ../data/ShimmerData/P2205/P2205.shm\n",
      "Loading File:  ../data/ShimmerData/P2206/P2206.shm\n",
      "Loading File:  ../data/ShimmerData/P2207/P2207.shm\n",
      "Loading File:  ../data/ShimmerData/P2208/P2208.shm\n",
      "Loading File:  ../data/ShimmerData/P2209/P2209.shm\n",
      "Loading File:  ../data/ShimmerData/P2210/P2210.shm\n",
      "Loading File:  ../data/ShimmerData/P2211/P2211.shm\n",
      "Loading File:  ../data/ShimmerData/P2212/P2212.shm\n",
      "Loading File:  ../data/ShimmerData/P2213/P2213.shm\n",
      "Loading File:  ../data/ShimmerData/P2214/P2214.shm\n",
      "Loading File:  ../data/ShimmerData/P2215/P2215.shm\n",
      "Loading File:  ../data/ShimmerData/P2216/P2216.shm\n",
      "Loading File:  ../data/ShimmerData/P2217/P2217.shm\n",
      "Loading File:  ../data/ShimmerData/P2218/P2218.shm\n",
      "Loading File:  ../data/ShimmerData/P2219/P2219.shm\n",
      "Loading File:  ../data/ShimmerData/P2221/P2221.shm\n",
      "Loading File:  ../data/ShimmerData/P2222/P2222.shm\n",
      "Loading File:  ../data/ShimmerData/P2223/P2223.shm\n",
      "Loading File:  ../data/ShimmerData/P2224/P2224.shm\n",
      "Loading File:  ../data/ShimmerData/P2226/P2226.shm\n",
      "Loading File:  ../data/ShimmerData/P2227/P2227.shm\n",
      "Loading File:  ../data/ShimmerData/P2228/P2228.shm\n",
      "Loading File:  ../data/ShimmerData/P2229/P2229.shm\n",
      "Loading File:  ../data/ShimmerData/P2230/P2230.shm\n",
      "Loading File:  ../data/ShimmerData/P2231/P2231.shm\n",
      "Loading File:  ../data/ShimmerData/P2232/P2232.shm\n",
      "Loading File:  ../data/ShimmerData/P2233/P2233.shm\n",
      "Loading File:  ../data/ShimmerData/P2234/P2234.shm\n",
      "Loading File:  ../data/ShimmerData/P2235/P2235.shm\n",
      "Loading File:  ../data/ShimmerData/P2236/P2236.shm\n",
      "Loading File:  ../data/ShimmerData/P2237/P2237.shm\n",
      "Loading File:  ../data/ShimmerData/P2238/P2238.shm\n",
      "Loading File:  ../data/ShimmerData/P2239/P2239.shm\n",
      "Loading File:  ../data/ShimmerData/P2240/P2240.shm\n",
      "Loading File:  ../data/ShimmerData/P2242/P2242.shm\n",
      "Loading File:  ../data/ShimmerData/P2243/P2243.shm\n",
      "Loading File:  ../data/ShimmerData/P2244/P2244.shm\n",
      "Loading File:  ../data/ShimmerData/P2245/P2245.shm\n",
      "Loading File:  ../data/ShimmerData/P2246/P2246.shm\n",
      "Loading File:  ../data/ShimmerData/P2247/P2247.shm\n",
      "Loading File:  ../data/ShimmerData/P2248/P2248.shm\n",
      "Loading File:  ../data/ShimmerData/P2249/P2249.shm\n",
      "Loading File:  ../data/ShimmerData/P2250/P2250.shm\n",
      "Loading File:  ../data/ShimmerData/P2251/P2251.shm\n",
      "Loading File:  ../data/ShimmerData/P2253/P2253.shm\n",
      "Loading File:  ../data/ShimmerData/P2254/P2254.shm\n",
      "Loading File:  ../data/ShimmerData/P2255/P2255.shm\n",
      "Loading File:  ../data/ShimmerData/P2256/P2256.shm\n",
      "Loading File:  ../data/ShimmerData/P2257/P2257.shm\n",
      "Loading File:  ../data/ShimmerData/P2258/P2258.shm\n",
      "Loading File:  ../data/ShimmerData/P2259/P2259.shm\n",
      "Loading File:  ../data/ShimmerData/P2262/P2262.shm\n",
      "Loading File:  ../data/ShimmerData/P2263/P2263.shm\n",
      "Loading File:  ../data/ShimmerData/P2264/P2264.shm\n",
      "Loading File:  ../data/ShimmerData/P2265/P2265.shm\n",
      "Loading File:  ../data/ShimmerData/P2267/P2267.shm\n",
      "Loading File:  ../data/ShimmerData/P2268/P2268.shm\n",
      "Loading File:  ../data/ShimmerData/P2269/P2269.shm\n",
      "Loading File:  ../data/ShimmerData/P2270/P2270.shm\n",
      "Loading File:  ../data/ShimmerData/P2271/P2271.shm\n",
      "Loading File:  ../data/ShimmerData/P2272/P2272.shm\n",
      "Loading File:  ../data/ShimmerData/P2273/P2273.shm\n",
      "Loading File:  ../data/ShimmerData/P2274/P2274.shm\n",
      "Loading File:  ../data/ShimmerData/P2275/P2275.shm\n",
      "Loading File:  ../data/ShimmerData/P2276/P2276.shm\n",
      "Loading File:  ../data/ShimmerData/P2277/P2277.shm\n",
      "Loading File:  ../data/ShimmerData/P2278/P2278.shm\n",
      "Loading File:  ../data/ShimmerData/P2280/P2280.shm\n",
      "Loading File:  ../data/ShimmerData/P2282/P2282.shm\n",
      "Loading File:  ../data/ShimmerData/P2283/P2283.shm\n",
      "Loading File:  ../data/ShimmerData/P2284/P2284.shm\n",
      "Loading File:  ../data/ShimmerData/P2285/P2285.shm\n",
      "Loading File:  ../data/ShimmerData/P2286/P2286.shm\n",
      "Loading File:  ../data/ShimmerData/P2287/P2287.shm\n",
      "Loading File:  ../data/ShimmerData/P2288/P2288.shm\n",
      "Loading File:  ../data/ShimmerData/P2289/P2289.shm\n",
      "Loading File:  ../data/ShimmerData/P2290/P2290.shm\n",
      "Loading File:  ../data/ShimmerData/P2291/P2291.shm\n",
      "Loading File:  ../data/ShimmerData/P2292/P2292.shm\n",
      "Loading File:  ../data/ShimmerData/P2293/P2293.shm\n",
      "Loading File:  ../data/ShimmerData/P2294/P2294.shm\n",
      "Loading File:  ../data/ShimmerData/P2295/P2295.shm\n",
      "Loading File:  ../data/ShimmerData/P2296/P2296.shm\n",
      "Loading File:  ../data/ShimmerData/P2298/P2298.shm\n",
      "Loading File:  ../data/ShimmerData/P2299/P2299.shm\n",
      "Loading File:  ../data/ShimmerData/P2300/P2300.shm\n",
      "Loading File:  ../data/ShimmerData/P2301/P2301.shm\n",
      "Loading File:  ../data/ShimmerData/P2302/P2302.shm\n",
      "Loading File:  ../data/ShimmerData/P2303/P2303.shm\n",
      "Loading File:  ../data/ShimmerData/P2304/P2304.shm\n",
      "Loading File:  ../data/ShimmerData/P2305/P2305.shm\n",
      "Loading File:  ../data/ShimmerData/P2306/P2306.shm\n",
      "Loading File:  ../data/ShimmerData/P2307/P2307.shm\n",
      "Loading File:  ../data/ShimmerData/P2308/P2308.shm\n",
      "Loading File:  ../data/ShimmerData/P2309/P2309.shm\n",
      "Loading File:  ../data/ShimmerData/P2311/P2311.shm\n",
      "Loading File:  ../data/ShimmerData/P2312/P2312.shm\n",
      "Loading File:  ../data/ShimmerData/P2313/P2313.shm\n",
      "Loading File:  ../data/ShimmerData/P2314/P2314.shm\n",
      "Loading File:  ../data/ShimmerData/P2315/P2315.shm\n",
      "Loading File:  ../data/ShimmerData/P2316/P2316.shm\n",
      "Loading File:  ../data/ShimmerData/P2317/P2317.shm\n",
      "Loading File:  ../data/ShimmerData/P2318/P2318.shm\n",
      "Loading File:  ../data/ShimmerData/P2319/P2319.shm\n",
      "Loading File:  ../data/ShimmerData/P2320/P2320.shm\n",
      "Loading File:  ../data/ShimmerData/P2321/P2321.shm\n",
      "Loading File:  ../data/ShimmerData/P2323/P2323.shm\n",
      "Loading File:  ../data/ShimmerData/P2325/P2325.shm\n",
      "Loading File:  ../data/ShimmerData/P2326/P2326.shm\n",
      "Loading File:  ../data/ShimmerData/P2329/P2329.shm\n",
      "Loading File:  ../data/ShimmerData/P2331/P2331.shm\n",
      "Loading File:  ../data/ShimmerData/P2332/P2332.shm\n",
      "Loading File:  ../data/ShimmerData/P2334/P2334.shm\n",
      "Loading File:  ../data/ShimmerData/P2335/P2335.shm\n",
      "Loading File:  ../data/ShimmerData/P2336/P2336.shm\n",
      "Loading File:  ../data/ShimmerData/P2337/P2337.shm\n",
      "Loading File:  ../data/ShimmerData/P2338/P2338.shm\n",
      "Loading File:  ../data/ShimmerData/P2340/P2340.shm\n",
      "Loading File:  ../data/ShimmerData/P2341/P2341.shm\n",
      "Loading File:  ../data/ShimmerData/P2342/P2342.shm\n",
      "Loading File:  ../data/ShimmerData/P2343/P2343.shm\n",
      "Loading File:  ../data/ShimmerData/P2344/P2344.shm\n",
      "Loading File:  ../data/ShimmerData/P2345/P2345.shm\n",
      "Loading File:  ../data/ShimmerData/P2346/P2346.shm\n",
      "Loading File:  ../data/ShimmerData/P2347/P2347.shm\n",
      "Loading File:  ../data/ShimmerData/P2348/P2348.shm\n",
      "Loading File:  ../data/ShimmerData/P2350/P2350.shm\n",
      "Loading File:  ../data/ShimmerData/P2351/P2351.shm\n",
      "Loading File:  ../data/ShimmerData/P2352/P2352.shm\n",
      "Loading File:  ../data/ShimmerData/P2353/P2353.shm\n",
      "Loading File:  ../data/ShimmerData/P2354/P2354.shm\n",
      "Loading File:  ../data/ShimmerData/P2356/P2356.shm\n",
      "Loading File:  ../data/ShimmerData/P2357/P2357.shm\n",
      "Loading File:  ../data/ShimmerData/P2358/P2358.shm\n",
      "Loading File:  ../data/ShimmerData/P2359/P2359.shm\n",
      "Loading File:  ../data/ShimmerData/P2360/P2360.shm\n",
      "Loading File:  ../data/ShimmerData/P2361/P2361.shm\n",
      "Loading File:  ../data/ShimmerData/P2362/P2362.shm\n",
      "Loading File:  ../data/ShimmerData/P2363/P2363.shm\n",
      "Loading File:  ../data/ShimmerData/P2364/P2364.shm\n",
      "Loading File:  ../data/ShimmerData/P2365/P2365.shm\n",
      "Loading File:  ../data/ShimmerData/P2366/P2366.shm\n",
      "Loading File:  ../data/ShimmerData/P2367/P2367.shm\n",
      "Loading File:  ../data/ShimmerData/P2368/P2368.shm\n",
      "Loading File:  ../data/ShimmerData/P2369/P2369.shm\n",
      "Loading File:  ../data/ShimmerData/P2370/P2370.shm\n",
      "Loading File:  ../data/ShimmerData/P2373/P2373.shm\n",
      "Loading File:  ../data/ShimmerData/P2374/P2374.shm\n",
      "Loading File:  ../data/ShimmerData/P2375/P2375.shm\n",
      "Loading File:  ../data/ShimmerData/P2377/P2377.shm\n",
      "Loading File:  ../data/ShimmerData/P2378/P2378.shm\n",
      "Loading File:  ../data/ShimmerData/P2379/P2379.shm\n",
      "Loading File:  ../data/ShimmerData/P2380/P2380.shm\n",
      "Loading File:  ../data/ShimmerData/P2381/P2381.shm\n",
      "Loading File:  ../data/ShimmerData/P2382/P2382.shm\n",
      "Loading File:  ../data/ShimmerData/P2383/P2383.shm\n",
      "Loading File:  ../data/ShimmerData/P2384/P2384.shm\n",
      "Loading File:  ../data/ShimmerData/P2386/P2386.shm\n",
      "Loading File:  ../data/ShimmerData/P2387/P2387.shm\n",
      "Loading File:  ../data/ShimmerData/P2388/P2388.shm\n",
      "Loading File:  ../data/ShimmerData/P2390/P2390.shm\n",
      "Loading File:  ../data/ShimmerData/P2391/P2391.shm\n",
      "Loading File:  ../data/ShimmerData/P2392/P2392.shm\n",
      "Loading File:  ../data/ShimmerData/P2394/P2394.shm\n",
      "Loading File:  ../data/ShimmerData/P2395/P2395.shm\n",
      "Loading Dataset ...\n",
      "Loading File:  ../data/ShimmerData/P2396/P2396.shm\n",
      "Loading File:  ../data/ShimmerData/P2398/P2398.shm\n",
      "Loading File:  ../data/ShimmerData/P2399/P2399.shm\n",
      "Loading File:  ../data/ShimmerData/P2401/P2401.shm\n",
      "Loading File:  ../data/ShimmerData/P2402/P2402.shm\n",
      "Loading File:  ../data/ShimmerData/P2403/P2403.shm\n",
      "Loading File:  ../data/ShimmerData/P2406/P2406.shm\n",
      "Loading File:  ../data/ShimmerData/P2407/P2407.shm\n",
      "Loading File:  ../data/ShimmerData/P2408/P2408.shm\n",
      "Loading File:  ../data/ShimmerData/P2409/P2409.shm\n",
      "Loading File:  ../data/ShimmerData/P2410/P2410.shm\n",
      "Loading File:  ../data/ShimmerData/P2413/P2413.shm\n",
      "Loading File:  ../data/ShimmerData/P2415/P2415.shm\n",
      "Loading File:  ../data/ShimmerData/P2416/P2416.shm\n",
      "Loading File:  ../data/ShimmerData/P2417/P2417.shm\n",
      "Loading File:  ../data/ShimmerData/P2418/P2418.shm\n",
      "Loading File:  ../data/ShimmerData/P2419/P2419.shm\n",
      "Loading File:  ../data/ShimmerData/P2421/P2421.shm\n",
      "Loading File:  ../data/ShimmerData/P2422/P2422.shm\n",
      "Loading File:  ../data/ShimmerData/P2423/P2423.shm\n",
      "Loading File:  ../data/ShimmerData/P2424/P2424.shm\n",
      "Loading File:  ../data/ShimmerData/P2425/P2425.shm\n",
      "Loading File:  ../data/ShimmerData/P2426/P2426.shm\n",
      "Loading File:  ../data/ShimmerData/P2427/P2427.shm\n",
      "Loading File:  ../data/ShimmerData/P2428/P2428.shm\n",
      "Loading File:  ../data/ShimmerData/P2429/P2429.shm\n",
      "Loading File:  ../data/ShimmerData/P2430/P2430.shm\n",
      "Loading File:  ../data/ShimmerData/P2432/P2432.shm\n",
      "Loading File:  ../data/ShimmerData/P2434/P2434.shm\n",
      "Loading File:  ../data/ShimmerData/P2436/P2436.shm\n",
      "Loading File:  ../data/ShimmerData/P2437/P2437.shm\n",
      "Loading File:  ../data/ShimmerData/P2438/P2438.shm\n",
      "Loading File:  ../data/ShimmerData/P2440/P2440.shm\n",
      "Loading File:  ../data/ShimmerData/P2442/P2442.shm\n",
      "Loading File:  ../data/ShimmerData/P2443/P2443.shm\n",
      "Loading File:  ../data/ShimmerData/P2444/P2444.shm\n",
      "Loading File:  ../data/ShimmerData/P2446/P2446.shm\n",
      "Loading File:  ../data/ShimmerData/P2447/P2447.shm\n",
      "Loading File:  ../data/ShimmerData/P2449/P2449.shm\n",
      "Loading File:  ../data/ShimmerData/P2451/P2451.shm\n",
      "Loading File:  ../data/ShimmerData/P2452/P2452.shm\n",
      "Loading File:  ../data/ShimmerData/P2453/P2453.shm\n",
      "Loading File:  ../data/ShimmerData/P2454/P2454.shm\n",
      "Loading File:  ../data/ShimmerData/P2455/P2455.shm\n",
      "Loading File:  ../data/ShimmerData/P2456/P2456.shm\n",
      "Loading File:  ../data/ShimmerData/P2457/P2457.shm\n",
      "Loading File:  ../data/ShimmerData/P2458/P2458.shm\n",
      "Loading File:  ../data/ShimmerData/P2459/P2459.shm\n",
      "Loading File:  ../data/ShimmerData/P2460/P2460.shm\n",
      "Loading File:  ../data/ShimmerData/P2461/P2461.shm\n",
      "Loading File:  ../data/ShimmerData/P2462/P2462.shm\n",
      "Loading File:  ../data/ShimmerData/P2463/P2463.shm\n",
      "Loading File:  ../data/ShimmerData/P2464/P2464.shm\n",
      "Loading File:  ../data/ShimmerData/P2465/P2465.shm\n",
      "Loading File:  ../data/ShimmerData/P2466/P2466.shm\n",
      "Loading File:  ../data/ShimmerData/P2467/P2467.shm\n",
      "Loading File:  ../data/ShimmerData/P2468/P2468.shm\n",
      "Loading File:  ../data/ShimmerData/P2469/P2469.shm\n",
      "Loading File:  ../data/ShimmerData/P2470/P2470.shm\n",
      "Loading File:  ../data/ShimmerData/P2471/P2471.shm\n",
      "Loading File:  ../data/ShimmerData/P2474/P2474.shm\n",
      "Loading File:  ../data/ShimmerData/P2475/P2475.shm\n",
      "Loading File:  ../data/ShimmerData/P2476/P2476.shm\n",
      "Loading File:  ../data/ShimmerData/P2477/P2477.shm\n",
      "Loading File:  ../data/ShimmerData/P2478/P2478.shm\n",
      "Loading File:  ../data/ShimmerData/P2479/P2479.shm\n",
      "Loading File:  ../data/ShimmerData/P2481/P2481.shm\n",
      "Loading File:  ../data/ShimmerData/P2482/P2482.shm\n",
      "Loading File:  ../data/ShimmerData/P2483/P2483.shm\n",
      "Loading File:  ../data/ShimmerData/P2484/P2484.shm\n",
      "Train set size: 721291, with 38023 positive samples and 683268 negative samples\n",
      "Test set size: 180323, with 9506 positive samples and 170817 negative samples\n",
      "Epoch 1/20\n",
      "595/595 [==============================] - 177s 297ms/step - loss: 0.7633 - accuracy: 0.7459 - val_loss: 0.7415 - val_accuracy: 0.6519\n",
      "Epoch 2/20\n",
      "595/595 [==============================] - 165s 278ms/step - loss: 0.5173 - accuracy: 0.7746 - val_loss: 0.4958 - val_accuracy: 0.8127\n",
      "Epoch 3/20\n",
      "595/595 [==============================] - 160s 269ms/step - loss: 0.4952 - accuracy: 0.7862 - val_loss: 0.4045 - val_accuracy: 0.8770\n",
      "Epoch 4/20\n",
      "595/595 [==============================] - 161s 270ms/step - loss: 0.4843 - accuracy: 0.7912 - val_loss: 0.3679 - val_accuracy: 0.9018\n",
      "Epoch 5/20\n",
      "595/595 [==============================] - 160s 269ms/step - loss: 0.4775 - accuracy: 0.7941 - val_loss: 0.6099 - val_accuracy: 0.7384\n",
      "Epoch 6/20\n",
      "595/595 [==============================] - 160s 269ms/step - loss: 0.4727 - accuracy: 0.7960 - val_loss: 0.4309 - val_accuracy: 0.8522\n",
      "Epoch 7/20\n",
      "595/595 [==============================] - 157s 264ms/step - loss: 0.4688 - accuracy: 0.7977 - val_loss: 0.3613 - val_accuracy: 0.8984\n",
      "Epoch 8/20\n",
      "595/595 [==============================] - 160s 269ms/step - loss: 0.4639 - accuracy: 0.8004 - val_loss: 0.3594 - val_accuracy: 0.8957\n",
      "Epoch 9/20\n",
      "595/595 [==============================] - 159s 268ms/step - loss: 0.4626 - accuracy: 0.8013 - val_loss: 0.3945 - val_accuracy: 0.8748\n",
      "Epoch 10/20\n",
      "595/595 [==============================] - 159s 267ms/step - loss: 0.4595 - accuracy: 0.8036 - val_loss: 0.5109 - val_accuracy: 0.7995\n",
      "Epoch 11/20\n",
      "595/595 [==============================] - 159s 267ms/step - loss: 0.4574 - accuracy: 0.8044 - val_loss: 0.3940 - val_accuracy: 0.8740\n",
      "Epoch 12/20\n",
      "595/595 [==============================] - 158s 265ms/step - loss: 0.4449 - accuracy: 0.8108 - val_loss: 0.4183 - val_accuracy: 0.8569\n",
      "Epoch 13/20\n",
      "595/595 [==============================] - 159s 267ms/step - loss: 0.4438 - accuracy: 0.8100 - val_loss: 0.4637 - val_accuracy: 0.8287\n",
      "Epoch 14/20\n",
      "595/595 [==============================] - 158s 265ms/step - loss: 0.4430 - accuracy: 0.8107 - val_loss: 0.4416 - val_accuracy: 0.8419\n",
      "Epoch 15/20\n",
      "595/595 [==============================] - 160s 269ms/step - loss: 0.4412 - accuracy: 0.8117 - val_loss: 0.4374 - val_accuracy: 0.8440\n",
      "Epoch 16/20\n",
      "595/595 [==============================] - 159s 267ms/step - loss: 0.4410 - accuracy: 0.8115 - val_loss: 0.4155 - val_accuracy: 0.8579\n",
      "Epoch 17/20\n",
      "595/595 [==============================] - 159s 267ms/step - loss: 0.4410 - accuracy: 0.8114 - val_loss: 0.4287 - val_accuracy: 0.8495\n",
      "Epoch 18/20\n",
      "595/595 [==============================] - 160s 268ms/step - loss: 0.4408 - accuracy: 0.8117 - val_loss: 0.4223 - val_accuracy: 0.8537\n",
      "Epoch 19/20\n",
      "595/595 [==============================] - 158s 265ms/step - loss: 0.4408 - accuracy: 0.8119 - val_loss: 0.4230 - val_accuracy: 0.8532\n",
      "Epoch 20/20\n",
      "595/595 [==============================] - 161s 270ms/step - loss: 0.4407 - accuracy: 0.8117 - val_loss: 0.4254 - val_accuracy: 0.8516\n",
      "Max value:  0.8118507266044617  at epoch 19\n",
      "Weighted Accuracy: 0.7854879067310994\n",
      "Test Accuracy: 0.8360639273992175\n",
      "F1-score: 0.3271882494004796\n",
      "Recall Accuracy: 0.7286989902361679\n",
      "       model data  win(sec)      wacc        f1    recall       acc\n",
      "0  ActiModel  CAD       360  0.785488  0.327188  0.728699  0.836064\n"
     ]
    }
   ],
   "source": [
    "person=\"CAD\"\n",
    "winmin= 6\n",
    "stridesec = 15\n",
    "win_size = 15*winmin*60\n",
    "model_g2 = acti_model(input_shape =(win_size,6) )\n",
    "model_g2.compile(loss='binary_crossentropy',\n",
    "                optimizer='adam', metrics=['accuracy'])\n",
    "perf_df_g2, model_ls_g2, hist_ls_g2 = train_models(model_g2,win_ls = [winmin],EPOCHS = 20,\n",
    "                                                stridesec = stridesec,model_name=\"acti_6min\",name = person,split_day=True)\n"
   ]
  },
  {
   "cell_type": "code",
   "execution_count": 76,
   "metadata": {},
   "outputs": [],
   "source": [
    "hist_df2 = pd.DataFrame(hist_ls_g2[0].history)\n",
    "hist_df2.to_csv(\"../results/train_results/group_model_6min_split_day_train_history.csv\")\n",
    "perf_train_df2 = pd.read_csv(\"../results/train_results/group_model_6min_split_day_train_history.csv\",index_col=0)\n",
    "\n",
    "perf_df_g2.to_csv(\"../results/train_results/group_model_6min_split_day_train_time_metrics.csv\")\n",
    "time_metric_df2 = pd.read_csv(\"../results/train_results/group_model_6min_split_day_train_time_metrics.csv\", index_col=0)"
   ]
  },
  {
   "cell_type": "code",
   "execution_count": 78,
   "metadata": {},
   "outputs": [
    {
     "data": {
      "text/plain": [
       "<AxesSubplot:>"
      ]
     },
     "execution_count": 78,
     "metadata": {},
     "output_type": "execute_result"
    },
    {
     "data": {
      "image/png": "[encoded data removed]",
      "text/plain": [
       "<Figure size 432x288 with 1 Axes>"
      ]
     },
     "metadata": {
      "needs_background": "light"
     },
     "output_type": "display_data"
    }
   ],
   "source": [
    "hist_df2[['accuracy', 'val_accuracy']].plot()"
   ]
  },
  {
   "cell_type": "code",
   "execution_count": 77,
   "metadata": {},
   "outputs": [
    {
     "data": {
      "text/html": [
       "<div>\n",
       "<style scoped>\n",
       "    .dataframe tbody tr th:only-of-type {\n",
       "        vertical-align: middle;\n",
       "    }\n",
       "\n",
       "    .dataframe tbody tr th {\n",
       "        vertical-align: top;\n",
       "    }\n",
       "\n",
       "    .dataframe thead th {\n",
       "        text-align: right;\n",
       "    }\n",
       "</style>\n",
       "<table border=\"1\" class=\"dataframe\">\n",
       "  <thead>\n",
       "    <tr style=\"text-align: right;\">\n",
       "      <th></th>\n",
       "      <th>model</th>\n",
       "      <th>data</th>\n",
       "      <th>win(sec)</th>\n",
       "      <th>wacc</th>\n",
       "      <th>f1</th>\n",
       "      <th>recall</th>\n",
       "      <th>acc</th>\n",
       "    </tr>\n",
       "  </thead>\n",
       "  <tbody>\n",
       "    <tr>\n",
       "      <th>0</th>\n",
       "      <td>ActiModel</td>\n",
       "      <td>CAD</td>\n",
       "      <td>360</td>\n",
       "      <td>0.785488</td>\n",
       "      <td>0.327188</td>\n",
       "      <td>0.728699</td>\n",
       "      <td>0.836064</td>\n",
       "    </tr>\n",
       "  </tbody>\n",
       "</table>\n",
       "</div>"
      ],
      "text/plain": [
       "       model data  win(sec)      wacc        f1    recall       acc\n",
       "0  ActiModel  CAD       360  0.785488  0.327188  0.728699  0.836064"
      ]
     },
     "execution_count": 77,
     "metadata": {},
     "output_type": "execute_result"
    }
   ],
   "source": [
    "time_metric_df2"
   ]
  },
  {
   "cell_type": "markdown",
   "metadata": {},
   "source": [
    "## 1.2 Train individual models "
   ]
  },
  {
   "cell_type": "code",
   "execution_count": 27,
   "metadata": {
    "scrolled": true
   },
   "outputs": [
    {
     "name": "stdout",
     "output_type": "stream",
     "text": [
      "*****************************************************************\n",
      "\n",
      "Execution Started at 01/13/2021, 12:52:18\n",
      "WindowLength: 6.00 min (5400 datum)\tSlide: 5 (75 datum)\tEpochs:20\n",
      "\n",
      "Model to Save:  ../models/wenkanw_models/acti_6min_M_F_6.000000Min.h5\n",
      "\n",
      "Loading Dataset ...\n",
      "Loading File:  ../data/IndividualData/wenkanw-data/11-14-20/11-14-20.shm\n",
      "Loading File:  ../data/IndividualData/wenkanw-data/10-13-20/10-13-20.shm\n",
      "Loading File:  ../data/IndividualData/wenkanw-data/10-9-20/10-10-20.shm\n",
      "Loading File:  ../data/IndividualData/wenkanw-data/11-21-20/Dinner/Dinner.shm\n",
      "Loading File:  ../data/IndividualData/wenkanw-data/9-17-20/9-17-20.shm\n",
      "Loading File:  ../data/IndividualData/wenkanw-data/9-29-20/9-29-20.shm\n",
      "Loading File:  ../data/IndividualData/wenkanw-data/11-22-20/Lunch/Lunch.shm\n",
      "Loading File:  ../data/IndividualData/wenkanw-data/11-21-20/lunch/lunch.shm\n",
      "Loading File:  ../data/IndividualData/wenkanw-data/10-9-20/10-9-20.shm\n",
      "Loading File:  ../data/IndividualData/wenkanw-data/11-18-20/11-18-20.shm\n",
      "Loading File:  ../data/IndividualData/wenkanw-data/10-14-20/10-14-20.shm\n",
      "Loading File:  ../data/IndividualData/wenkanw-data/10-12-20/10-12-20.shm\n",
      "Loading File:  ../data/IndividualData/wenkanw-data/11-16-20/11-16-20.shm\n",
      "Loading File:  ../data/IndividualData/wenkanw-data/9-27-20/9-27-20.shm\n",
      "Loading File:  ../data/IndividualData/wenkanw-data/10-3-20/10-3-20.shm\n",
      "Loading File:  ../data/IndividualData/wenkanw-data/10-10-20/10-10-20.shm\n",
      "Loading File:  ../data/IndividualData/wenkanw-data/11-22-20/Dinner/Dinner.shm\n",
      "Train set size: 73424, with 4370 positive samples and 69054 negative samples\n",
      "Test set size: 18356, with 1092 positive samples and 17264 negative samples\n",
      "Data Loader Created\n",
      "Train set size: 6992, with 3496 positive samples and 3496 negative samples\n",
      "Test set size: 1748, with 874 positive samples and 874 negative samples\n",
      "Epoch 1/20\n",
      "55/55 [==============================] - 11s 209ms/step - loss: 1.8470 - accuracy: 0.6785 - val_loss: 1.3111 - val_accuracy: 0.8455\n",
      "Epoch 2/20\n",
      "55/55 [==============================] - 11s 205ms/step - loss: 0.9464 - accuracy: 0.8438 - val_loss: 0.6822 - val_accuracy: 0.8844\n",
      "Epoch 3/20\n",
      "55/55 [==============================] - 11s 206ms/step - loss: 0.6186 - accuracy: 0.8826 - val_loss: 0.5542 - val_accuracy: 0.9022\n",
      "Epoch 4/20\n",
      "55/55 [==============================] - 11s 206ms/step - loss: 0.4925 - accuracy: 0.8989 - val_loss: 0.4458 - val_accuracy: 0.9022\n",
      "Epoch 5/20\n",
      "55/55 [==============================] - 11s 208ms/step - loss: 0.4226 - accuracy: 0.9068 - val_loss: 0.4260 - val_accuracy: 0.9039\n",
      "Epoch 6/20\n",
      "55/55 [==============================] - 11s 204ms/step - loss: 0.4094 - accuracy: 0.9029 - val_loss: 0.3803 - val_accuracy: 0.9130\n",
      "Epoch 7/20\n",
      "55/55 [==============================] - 11s 207ms/step - loss: 0.3676 - accuracy: 0.9132 - val_loss: 0.3717 - val_accuracy: 0.9062\n",
      "Epoch 8/20\n",
      "55/55 [==============================] - 11s 207ms/step - loss: 0.3532 - accuracy: 0.9125 - val_loss: 0.3913 - val_accuracy: 0.8867\n",
      "Epoch 9/20\n",
      "55/55 [==============================] - 11s 205ms/step - loss: 0.3393 - accuracy: 0.9148 - val_loss: 0.3431 - val_accuracy: 0.9073\n",
      "Epoch 10/20\n",
      "55/55 [==============================] - 11s 205ms/step - loss: 0.3332 - accuracy: 0.9135 - val_loss: 0.3286 - val_accuracy: 0.9113\n",
      "Epoch 11/20\n",
      "55/55 [==============================] - 11s 206ms/step - loss: 0.3167 - accuracy: 0.9201 - val_loss: 0.3157 - val_accuracy: 0.9130\n",
      "Epoch 12/20\n",
      "55/55 [==============================] - 11s 204ms/step - loss: 0.3066 - accuracy: 0.9211 - val_loss: 0.2968 - val_accuracy: 0.9296\n",
      "Epoch 13/20\n",
      "55/55 [==============================] - 11s 204ms/step - loss: 0.3097 - accuracy: 0.9148 - val_loss: 0.2926 - val_accuracy: 0.9245\n",
      "Epoch 14/20\n",
      "55/55 [==============================] - 11s 203ms/step - loss: 0.2938 - accuracy: 0.9231 - val_loss: 0.2749 - val_accuracy: 0.9365\n",
      "Epoch 15/20\n",
      "55/55 [==============================] - 11s 204ms/step - loss: 0.2772 - accuracy: 0.9286 - val_loss: 0.2738 - val_accuracy: 0.9291\n",
      "Epoch 16/20\n",
      "55/55 [==============================] - 11s 205ms/step - loss: 0.2679 - accuracy: 0.9348 - val_loss: 0.2858 - val_accuracy: 0.9193\n",
      "Epoch 17/20\n",
      "55/55 [==============================] - 11s 207ms/step - loss: 0.2788 - accuracy: 0.9282 - val_loss: 0.2644 - val_accuracy: 0.9359\n",
      "Epoch 18/20\n",
      "55/55 [==============================] - 11s 203ms/step - loss: 0.2577 - accuracy: 0.9361 - val_loss: 0.2524 - val_accuracy: 0.9399\n",
      "Epoch 19/20\n",
      "55/55 [==============================] - 11s 204ms/step - loss: 0.2545 - accuracy: 0.9352 - val_loss: 0.2535 - val_accuracy: 0.9354\n",
      "Epoch 20/20\n",
      "55/55 [==============================] - 11s 204ms/step - loss: 0.2670 - accuracy: 0.9282 - val_loss: 0.2419 - val_accuracy: 0.9457\n",
      "Max value:  0.9360697865486145  at epoch 18\n",
      "Weighted Accuracy: 0.9442288384306456\n",
      "Test Accuracy: 0.9515689692743518\n",
      "F1-score: 0.6968973747016707\n",
      "Recall Accuracy: 0.9358974358974359\n",
      "       model     data  win(sec)      wacc        f1    recall       acc\n",
      "0  ActiModel  wenkanw       360  0.944229  0.696897  0.935897  0.951569\n"
     ]
    }
   ],
   "source": [
    "person=\"wenkanw\"\n",
    "winmin= 6\n",
    "stridesec = 5\n",
    "win_size = 15*winmin*60\n",
    "model_1 = acti_model(input_shape =(win_size,6) )\n",
    "model_1.compile(loss='binary_crossentropy',\n",
    "                optimizer='adam', metrics=['accuracy'])\n",
    "perf_df_1, model_ls_1, hist_ls_1 = train_models(model_1,win_ls = [winmin],EPOCHS = 20,stridesec = stridesec,model_name=\"acti_6min\",name = person,split_day=False)\n"
   ]
  },
  {
   "cell_type": "code",
   "execution_count": 39,
   "metadata": {},
   "outputs": [],
   "source": [
    "path = \"../results/train_results/individual_model_\"+ person+\"_6min_train_\"\n",
    "hist1_df = pd.DataFrame(hist_ls_1[0].history)\n",
    "hist1_df.to_csv(path+\"history.csv\")\n",
    "perf_df_1.to_csv(path+\"time_metrics.csv\")\n",
    "\n",
    "hist1_df = pd.read_csv(path+\"history.csv\", index_col=0)\n",
    "perf1_df = pd.read_csv(path+\"time_metrics.csv\", index_col=0)"
   ]
  },
  {
   "cell_type": "code",
   "execution_count": 68,
   "metadata": {},
   "outputs": [
    {
     "data": {
      "text/html": [
       "<div>\n",
       "<style scoped>\n",
       "    .dataframe tbody tr th:only-of-type {\n",
       "        vertical-align: middle;\n",
       "    }\n",
       "\n",
       "    .dataframe tbody tr th {\n",
       "        vertical-align: top;\n",
       "    }\n",
       "\n",
       "    .dataframe thead th {\n",
       "        text-align: right;\n",
       "    }\n",
       "</style>\n",
       "<table border=\"1\" class=\"dataframe\">\n",
       "  <thead>\n",
       "    <tr style=\"text-align: right;\">\n",
       "      <th></th>\n",
       "      <th>model</th>\n",
       "      <th>data</th>\n",
       "      <th>win(sec)</th>\n",
       "      <th>wacc</th>\n",
       "      <th>f1</th>\n",
       "      <th>recall</th>\n",
       "      <th>acc</th>\n",
       "    </tr>\n",
       "  </thead>\n",
       "  <tbody>\n",
       "    <tr>\n",
       "      <th>0</th>\n",
       "      <td>ActiModel</td>\n",
       "      <td>wenkanw</td>\n",
       "      <td>360</td>\n",
       "      <td>0.944229</td>\n",
       "      <td>0.696897</td>\n",
       "      <td>0.935897</td>\n",
       "      <td>0.951569</td>\n",
       "    </tr>\n",
       "  </tbody>\n",
       "</table>\n",
       "</div>"
      ],
      "text/plain": [
       "       model     data  win(sec)      wacc        f1    recall       acc\n",
       "0  ActiModel  wenkanw       360  0.944229  0.696897  0.935897  0.951569"
      ]
     },
     "execution_count": 68,
     "metadata": {},
     "output_type": "execute_result"
    }
   ],
   "source": [
    "perf1_df"
   ]
  },
  {
   "cell_type": "code",
   "execution_count": 39,
   "metadata": {
    "scrolled": true
   },
   "outputs": [
    {
     "name": "stdout",
     "output_type": "stream",
     "text": [
      "*****************************************************************\n",
      "\n",
      "Execution Started at 01/14/2021, 20:11:30\n",
      "WindowLength: 6.00 min (5400 datum)\tSlide: 5 (75 datum)\tEpochs:20\n",
      "\n",
      "Model to Save:  ../models/adam_models/acti_6min_M_F_6.000000Min.h5\n",
      "\n",
      "Train:\n",
      "IndividualData/adam-data/11-30-2020/11-30-2020.shm\n",
      "IndividualData/adam-data/09-22-2020/09-22-2020.shm\n",
      "IndividualData/adam-data/12-03-2020/12-03-2020.shm\n",
      "IndividualData/adam-data/12-11-2020/12-11-2020.shm\n",
      "IndividualData/adam-data/11-25-2020/11-25-2020.shm\n",
      "IndividualData/adam-data/12-08-2020/12-08-2020.shm\n",
      "IndividualData/adam-data/12-07-2020/12-07-2020.shm\n",
      "IndividualData/adam-data/11-26-2020/11-26-2020.shm\n",
      "IndividualData/adam-data/12-02-2020/12-02-2020.shm\n",
      "IndividualData/adam-data/12-04-2020/12-04-2020.shm\n",
      "IndividualData/adam-data/12-09-2020/12-09-2020.shm\n",
      "IndividualData/adam-data/12-10-2020/12-10-2020.shm\n",
      "\n",
      "test: \n",
      "IndividualData/adam-data/12-01-2020/12-01-2020.shm\n",
      "IndividualData/adam-data/11-24-2020/11-24-2020.shm\n",
      "\n",
      "All files: \n",
      "IndividualData/adam-data/12-01-2020/12-01-2020.shm\n",
      "IndividualData/adam-data/11-24-2020/11-24-2020.shm\n",
      "IndividualData/adam-data/11-30-2020/11-30-2020.shm\n",
      "IndividualData/adam-data/09-22-2020/09-22-2020.shm\n",
      "IndividualData/adam-data/12-03-2020/12-03-2020.shm\n",
      "IndividualData/adam-data/12-11-2020/12-11-2020.shm\n",
      "IndividualData/adam-data/11-25-2020/11-25-2020.shm\n",
      "IndividualData/adam-data/12-08-2020/12-08-2020.shm\n",
      "IndividualData/adam-data/12-07-2020/12-07-2020.shm\n",
      "IndividualData/adam-data/11-26-2020/11-26-2020.shm\n",
      "IndividualData/adam-data/12-02-2020/12-02-2020.shm\n",
      "IndividualData/adam-data/12-04-2020/12-04-2020.shm\n",
      "IndividualData/adam-data/12-09-2020/12-09-2020.shm\n",
      "IndividualData/adam-data/12-10-2020/12-10-2020.shm\n",
      "\n",
      "Loading Dataset ...\n",
      "Loading File:  ../data/IndividualData/adam-data/12-01-2020/12-01-2020.shm\n",
      "Loading File:  ../data/IndividualData/adam-data/11-24-2020/11-24-2020.shm\n",
      "Loading File:  ../data/IndividualData/adam-data/11-30-2020/11-30-2020.shm\n",
      "Loading File:  ../data/IndividualData/adam-data/09-22-2020/09-22-2020.shm\n",
      "Loading File:  ../data/IndividualData/adam-data/12-03-2020/12-03-2020.shm\n",
      "Loading File:  ../data/IndividualData/adam-data/12-11-2020/12-11-2020.shm\n",
      "Loading File:  ../data/IndividualData/adam-data/11-25-2020/11-25-2020.shm\n",
      "Loading File:  ../data/IndividualData/adam-data/12-08-2020/12-08-2020.shm\n",
      "Loading File:  ../data/IndividualData/adam-data/12-07-2020/12-07-2020.shm\n",
      "Loading File:  ../data/IndividualData/adam-data/11-26-2020/11-26-2020.shm\n",
      "Loading File:  ../data/IndividualData/adam-data/12-02-2020/12-02-2020.shm\n",
      "Loading File:  ../data/IndividualData/adam-data/12-04-2020/12-04-2020.shm\n",
      "Loading File:  ../data/IndividualData/adam-data/12-09-2020/12-09-2020.shm\n",
      "Loading File:  ../data/IndividualData/adam-data/12-10-2020/12-10-2020.shm\n",
      "Train set size: 71542, with 1785 positive samples and 69757 negative samples\n",
      "Test set size: 17886, with 446 positive samples and 17440 negative samples\n",
      "Data Loader Created\n",
      "Train set size: 2856, with 1428 positive samples and 1428 negative samples\n",
      "Test set size: 714, with 357 positive samples and 357 negative samples\n",
      "Epoch 1/20\n",
      "23/23 [==============================] - 5s 204ms/step - loss: 2.1750 - accuracy: 0.5707 - val_loss: 1.8799 - val_accuracy: 0.6709\n",
      "Epoch 2/20\n",
      "23/23 [==============================] - 5s 199ms/step - loss: 1.6268 - accuracy: 0.7861 - val_loss: 1.3128 - val_accuracy: 0.8529\n",
      "Epoch 3/20\n",
      "23/23 [==============================] - 5s 199ms/step - loss: 1.1289 - accuracy: 0.8911 - val_loss: 0.9504 - val_accuracy: 0.9300\n",
      "Epoch 4/20\n",
      "23/23 [==============================] - 5s 202ms/step - loss: 0.8220 - accuracy: 0.9335 - val_loss: 0.7333 - val_accuracy: 0.9384\n",
      "Epoch 5/20\n",
      "23/23 [==============================] - 5s 197ms/step - loss: 0.6745 - accuracy: 0.9394 - val_loss: 0.6116 - val_accuracy: 0.9482\n",
      "Epoch 6/20\n",
      "23/23 [==============================] - 5s 202ms/step - loss: 0.5669 - accuracy: 0.9545 - val_loss: 0.5183 - val_accuracy: 0.9524\n",
      "Epoch 7/20\n",
      "23/23 [==============================] - 5s 196ms/step - loss: 0.4993 - accuracy: 0.9496 - val_loss: 0.5028 - val_accuracy: 0.9454\n",
      "Epoch 8/20\n",
      "23/23 [==============================] - 5s 197ms/step - loss: 0.4408 - accuracy: 0.9615 - val_loss: 0.4186 - val_accuracy: 0.9552\n",
      "Epoch 9/20\n",
      "23/23 [==============================] - 4s 195ms/step - loss: 0.4074 - accuracy: 0.9604 - val_loss: 0.3790 - val_accuracy: 0.9650\n",
      "Epoch 10/20\n",
      "23/23 [==============================] - 5s 198ms/step - loss: 0.3669 - accuracy: 0.9594 - val_loss: 0.4005 - val_accuracy: 0.9482\n",
      "Epoch 11/20\n",
      "23/23 [==============================] - 5s 196ms/step - loss: 0.3417 - accuracy: 0.9646 - val_loss: 0.3210 - val_accuracy: 0.9594\n",
      "Epoch 12/20\n",
      "23/23 [==============================] - 5s 199ms/step - loss: 0.3113 - accuracy: 0.9674 - val_loss: 0.3060 - val_accuracy: 0.9566\n",
      "Epoch 13/20\n",
      "23/23 [==============================] - 4s 195ms/step - loss: 0.2942 - accuracy: 0.9660 - val_loss: 0.2759 - val_accuracy: 0.9706\n",
      "Epoch 14/20\n",
      "23/23 [==============================] - 5s 199ms/step - loss: 0.2780 - accuracy: 0.9709 - val_loss: 0.2802 - val_accuracy: 0.9664\n",
      "Epoch 15/20\n",
      "23/23 [==============================] - 5s 198ms/step - loss: 0.2653 - accuracy: 0.9664 - val_loss: 0.2532 - val_accuracy: 0.9678\n",
      "Epoch 16/20\n",
      "23/23 [==============================] - 4s 194ms/step - loss: 0.2409 - accuracy: 0.9734 - val_loss: 0.2393 - val_accuracy: 0.9734\n",
      "Epoch 17/20\n",
      "23/23 [==============================] - 5s 201ms/step - loss: 0.2338 - accuracy: 0.9741 - val_loss: 0.2285 - val_accuracy: 0.9734\n",
      "Epoch 18/20\n",
      "23/23 [==============================] - 5s 199ms/step - loss: 0.2280 - accuracy: 0.9723 - val_loss: 0.2202 - val_accuracy: 0.9706\n",
      "Epoch 19/20\n",
      "23/23 [==============================] - 5s 196ms/step - loss: 0.2261 - accuracy: 0.9723 - val_loss: 0.2088 - val_accuracy: 0.9748\n",
      "Epoch 20/20\n",
      "23/23 [==============================] - 4s 194ms/step - loss: 0.2113 - accuracy: 0.9734 - val_loss: 0.2110 - val_accuracy: 0.9650\n",
      "Max value:  0.9740896224975586  at epoch 17\n",
      "Weighted Accuracy: 0.9760480520014811\n",
      "Test Accuracy: 0.9831152856983115\n",
      "F1-score: 0.7409948542024013\n",
      "Recall Accuracy: 0.968609865470852\n",
      "       model  data  win(sec)      wacc        f1   recall       acc\n",
      "0  ActiModel  adam       360  0.976048  0.740995  0.96861  0.983115\n"
     ]
    }
   ],
   "source": [
    "person=\"adam\"\n",
    "winmin= 6\n",
    "stridesec = 5\n",
    "win_size = 15*winmin*60\n",
    "model_2 = acti_model(input_shape =(win_size,6) )\n",
    "model_2.compile(loss='binary_crossentropy',\n",
    "                optimizer='adam', metrics=['accuracy'])\n",
    "perf_df_2, model_ls_2, hist_ls_2 = train_models(model_2,win_ls = [winmin],EPOCHS = 20,\n",
    "                                                stridesec = stridesec,model_name=\"acti_6min\",name = person,split_day=False,create_file_ls=True)\n"
   ]
  },
  {
   "cell_type": "code",
   "execution_count": 44,
   "metadata": {},
   "outputs": [],
   "source": [
    "path = \"../results/train_results/individual_model_\"+ person+\"_6min_train_\"\n",
    "hist2_df = pd.DataFrame(hist_ls_2[0].history)\n",
    "hist2_df.to_csv(path+\"history.csv\")\n",
    "perf_df_2.to_csv(path+\"time_metrics.csv\")\n",
    "\n",
    "hist2_df = pd.read_csv(path+\"history.csv\", index_col=0)\n",
    "perf2_df = pd.read_csv(path+\"time_metrics.csv\", index_col=0)"
   ]
  },
  {
   "cell_type": "code",
   "execution_count": 46,
   "metadata": {},
   "outputs": [
    {
     "data": {
      "text/html": [
       "<div>\n",
       "<style scoped>\n",
       "    .dataframe tbody tr th:only-of-type {\n",
       "        vertical-align: middle;\n",
       "    }\n",
       "\n",
       "    .dataframe tbody tr th {\n",
       "        vertical-align: top;\n",
       "    }\n",
       "\n",
       "    .dataframe thead th {\n",
       "        text-align: right;\n",
       "    }\n",
       "</style>\n",
       "<table border=\"1\" class=\"dataframe\">\n",
       "  <thead>\n",
       "    <tr style=\"text-align: right;\">\n",
       "      <th></th>\n",
       "      <th>model</th>\n",
       "      <th>data</th>\n",
       "      <th>win(sec)</th>\n",
       "      <th>wacc</th>\n",
       "      <th>f1</th>\n",
       "      <th>recall</th>\n",
       "      <th>acc</th>\n",
       "    </tr>\n",
       "  </thead>\n",
       "  <tbody>\n",
       "    <tr>\n",
       "      <th>0</th>\n",
       "      <td>ActiModel</td>\n",
       "      <td>adam</td>\n",
       "      <td>360</td>\n",
       "      <td>0.90895</td>\n",
       "      <td>0.317578</td>\n",
       "      <td>0.925697</td>\n",
       "      <td>0.893104</td>\n",
       "    </tr>\n",
       "  </tbody>\n",
       "</table>\n",
       "</div>"
      ],
      "text/plain": [
       "       model  data  win(sec)     wacc        f1    recall       acc\n",
       "0  ActiModel  adam       360  0.90895  0.317578  0.925697  0.893104"
      ]
     },
     "execution_count": 46,
     "metadata": {},
     "output_type": "execute_result"
    }
   ],
   "source": [
    "perf2_df"
   ]
  },
  {
   "cell_type": "code",
   "execution_count": 47,
   "metadata": {
    "scrolled": true
   },
   "outputs": [
    {
     "name": "stdout",
     "output_type": "stream",
     "text": [
      "*****************************************************************\n",
      "\n",
      "Execution Started at 01/13/2021, 13:15:57\n",
      "WindowLength: 6.00 min (5400 datum)\tSlide: 5 (75 datum)\tEpochs:20\n",
      "\n",
      "Model to Save:  ../models/lawler_models/acti_6min_M_F_6.000000Min.h5\n",
      "\n",
      "Loading Dataset ...\n",
      "Loading File:  ../data/IndividualData/lawler-data/10.19/10.19.shm\n",
      "Loading File:  ../data/IndividualData/lawler-data/11.14/11.14.shm\n",
      "Loading File:  ../data/IndividualData/lawler-data/10.10/10.10.shm\n",
      "Loading File:  ../data/IndividualData/lawler-data/11.2/11.2.shm\n",
      "Loading File:  ../data/IndividualData/lawler-data/10.8/10.8.shm\n",
      "Loading File:  ../data/IndividualData/lawler-data/11.15/11.15.shm\n",
      "Loading File:  ../data/IndividualData/lawler-data/10.14/10.14.shm\n",
      "Loading File:  ../data/IndividualData/lawler-data/9.23/9.23_13hr.shm\n",
      "Loading File:  ../data/IndividualData/lawler-data/10.12/10.12.shm\n",
      "Loading File:  ../data/IndividualData/lawler-data/11.11/11.11.shm\n",
      "Loading File:  ../data/IndividualData/lawler-data/11.4/11.4.shm\n",
      "Loading File:  ../data/IndividualData/lawler-data/9.25/9.25_1-46.shm\n",
      "Loading File:  ../data/IndividualData/lawler-data/10.6/10.6.shm\n",
      "Loading File:  ../data/IndividualData/lawler-data/10.4/10.4.shm\n",
      "Loading File:  ../data/IndividualData/lawler-data/10.28/10.28.shm\n",
      "Loading File:  ../data/IndividualData/lawler-data/11.3/11.3.shm\n",
      "Loading File:  ../data/IndividualData/lawler-data/10.20/evening_2hr_20min/10.20.shm\n",
      "Loading File:  ../data/IndividualData/lawler-data/10.26/10.26.shm\n",
      "Loading File:  ../data/IndividualData/lawler-data/10.31/10.31.shm\n",
      "Loading File:  ../data/IndividualData/lawler-data/10.31/evening-2hr_goodDinnerTemplate_CFAmeal/10.31.shm\n",
      "Loading File:  ../data/IndividualData/lawler-data/10.21/10.21.shm\n",
      "Loading File:  ../data/IndividualData/lawler-data/10.16/10.16.shm\n",
      "Loading File:  ../data/IndividualData/lawler-data/10.20/afternoon_2hr33min/10.20.shm\n",
      "Train set size: 95012, with 4184 positive samples and 90828 negative samples\n",
      "Test set size: 23753, with 1046 positive samples and 22707 negative samples\n",
      "Data Loader Created\n",
      "Train set size: 6694, with 3347 positive samples and 3347 negative samples\n",
      "Test set size: 1674, with 837 positive samples and 837 negative samples\n",
      "Epoch 1/20\n",
      "53/53 [==============================] - 11s 203ms/step - loss: 1.9000 - accuracy: 0.5814 - val_loss: 1.4167 - val_accuracy: 0.6057\n",
      "Epoch 2/20\n",
      "53/53 [==============================] - 11s 204ms/step - loss: 1.1310 - accuracy: 0.6404 - val_loss: 0.9070 - val_accuracy: 0.6685\n",
      "Epoch 3/20\n",
      "53/53 [==============================] - 11s 203ms/step - loss: 0.8176 - accuracy: 0.7075 - val_loss: 0.7837 - val_accuracy: 0.6995\n",
      "Epoch 4/20\n",
      "53/53 [==============================] - 11s 201ms/step - loss: 0.7172 - accuracy: 0.7274 - val_loss: 0.6837 - val_accuracy: 0.7485\n",
      "Epoch 5/20\n",
      "53/53 [==============================] - 11s 202ms/step - loss: 0.6542 - accuracy: 0.7502 - val_loss: 0.6424 - val_accuracy: 0.7569\n",
      "Epoch 6/20\n",
      "53/53 [==============================] - 11s 203ms/step - loss: 0.6239 - accuracy: 0.7617 - val_loss: 0.6144 - val_accuracy: 0.7694\n",
      "Epoch 7/20\n",
      "53/53 [==============================] - 11s 203ms/step - loss: 0.5997 - accuracy: 0.7696 - val_loss: 0.6014 - val_accuracy: 0.7706\n",
      "Epoch 8/20\n",
      "53/53 [==============================] - 11s 202ms/step - loss: 0.5925 - accuracy: 0.7717 - val_loss: 0.5832 - val_accuracy: 0.7838\n",
      "Epoch 9/20\n",
      "53/53 [==============================] - 11s 202ms/step - loss: 0.5714 - accuracy: 0.7837 - val_loss: 0.5722 - val_accuracy: 0.7832\n",
      "Epoch 10/20\n",
      "53/53 [==============================] - 11s 203ms/step - loss: 0.5600 - accuracy: 0.7895 - val_loss: 0.5626 - val_accuracy: 0.7987\n",
      "Epoch 11/20\n",
      "53/53 [==============================] - 11s 202ms/step - loss: 0.5506 - accuracy: 0.7959 - val_loss: 0.5540 - val_accuracy: 0.7945\n",
      "Epoch 12/20\n",
      "53/53 [==============================] - 11s 203ms/step - loss: 0.5378 - accuracy: 0.8040 - val_loss: 0.5297 - val_accuracy: 0.8142\n",
      "Epoch 13/20\n",
      "53/53 [==============================] - 11s 201ms/step - loss: 0.5397 - accuracy: 0.8048 - val_loss: 0.5340 - val_accuracy: 0.8053\n",
      "Epoch 14/20\n",
      "53/53 [==============================] - 11s 202ms/step - loss: 0.5124 - accuracy: 0.8225 - val_loss: 0.5288 - val_accuracy: 0.8053\n",
      "Epoch 15/20\n",
      "53/53 [==============================] - 11s 200ms/step - loss: 0.4982 - accuracy: 0.8293 - val_loss: 0.4889 - val_accuracy: 0.8417\n",
      "Epoch 16/20\n",
      "53/53 [==============================] - 11s 200ms/step - loss: 0.4929 - accuracy: 0.8349 - val_loss: 0.4981 - val_accuracy: 0.8286\n",
      "Epoch 17/20\n",
      "53/53 [==============================] - 11s 201ms/step - loss: 0.4822 - accuracy: 0.8409 - val_loss: 0.5016 - val_accuracy: 0.8178\n",
      "Epoch 18/20\n",
      "53/53 [==============================] - 11s 199ms/step - loss: 0.4838 - accuracy: 0.8360 - val_loss: 0.4626 - val_accuracy: 0.8536\n",
      "Epoch 19/20\n",
      "53/53 [==============================] - 11s 201ms/step - loss: 0.4770 - accuracy: 0.8425 - val_loss: 0.4939 - val_accuracy: 0.8292\n",
      "Epoch 20/20\n",
      "53/53 [==============================] - 11s 205ms/step - loss: 0.4763 - accuracy: 0.8364 - val_loss: 0.4748 - val_accuracy: 0.8363\n",
      "Max value:  0.8425455689430237  at epoch 19\n",
      "Weighted Accuracy: 0.834298071508849\n",
      "Test Accuracy: 0.9098640171767777\n",
      "F1-score: 0.42337732291947205\n",
      "Recall Accuracy: 0.751434034416826\n",
      "       model    data  win(sec)      wacc        f1    recall       acc\n",
      "0  ActiModel  lawler       360  0.834298  0.423377  0.751434  0.909864\n"
     ]
    }
   ],
   "source": [
    "person=\"lawler\"\n",
    "winmin= 6\n",
    "stridesec = 5\n",
    "win_size = 15*winmin*60\n",
    "model_3 = acti_model(input_shape =(win_size,6) )\n",
    "model_3.compile(loss='binary_crossentropy',\n",
    "                optimizer='adam', metrics=['accuracy'])\n",
    "perf_df_3, model_ls_3, hist_ls_3 = train_models(model_3,win_ls = [winmin],EPOCHS = 20,stridesec = stridesec,model_name=\"acti_6min\",name = person,split_day=False)\n"
   ]
  },
  {
   "cell_type": "code",
   "execution_count": 48,
   "metadata": {},
   "outputs": [],
   "source": [
    "path = \"../results/train_results/individual_model_\"+ person+\"_6min_train_\"\n",
    "hist3_df = pd.DataFrame(hist_ls_3[0].history)\n",
    "hist3_df.to_csv(path+\"history.csv\")\n",
    "perf_df_3.to_csv(path+\"time_metrics.csv\")\n",
    "\n",
    "hist3_df = pd.read_csv(path+\"history.csv\", index_col=0)\n",
    "perf3_df = pd.read_csv(path+\"time_metrics.csv\", index_col=0)"
   ]
  },
  {
   "cell_type": "code",
   "execution_count": 52,
   "metadata": {},
   "outputs": [
    {
     "data": {
      "text/plain": [
       "<AxesSubplot:>"
      ]
     },
     "execution_count": 52,
     "metadata": {},
     "output_type": "execute_result"
    },
    {
     "data": {
      "image/png": "[encoded data removed]",
      "text/plain": [
       "<Figure size 432x288 with 1 Axes>"
      ]
     },
     "metadata": {
      "needs_background": "light"
     },
     "output_type": "display_data"
    }
   ],
   "source": [
    "hist3_df[[\"accuracy\",\"val_accuracy\"]].plot()"
   ]
  },
  {
   "cell_type": "code",
   "execution_count": 13,
   "metadata": {
    "scrolled": true
   },
   "outputs": [
    {
     "name": "stdout",
     "output_type": "stream",
     "text": [
      "*****************************************************************\n",
      "\n",
      "Execution Started at 01/25/2021, 14:17:16\n",
      "WindowLength: 6.00 min (5400 datum)\tSlide: 5 (75 datum)\tEpochs:20\n",
      "\n",
      "Model to Save:  ../models/shaurya_models/acti_6min_M_F_6.000000Min.h5\n",
      "\n",
      "Loading Dataset ...\n",
      "Loading File:  ../data/IndividualData/shaurya-data/12.3.2020/Consensys Exported Data.shm\n",
      "Loading File:  ../data/IndividualData/shaurya-data/11.15.2020/Data.shm\n",
      "Loading File:  ../data/IndividualData/shaurya-data/10.22.2020/Data.shm\n",
      "Loading File:  ../data/IndividualData/shaurya-data/1.16.2021/Consensys Exported Data.shm\n",
      "Loading File:  ../data/IndividualData/shaurya-data/1.10.2021/Consensys Exported Data.shm\n",
      "Loading File:  ../data/IndividualData/shaurya-data/10.25.2020/Data.shm\n",
      "Loading File:  ../data/IndividualData/shaurya-data/11.1.2020/Data.shm\n",
      "Loading File:  ../data/IndividualData/shaurya-data/11.18.2020/Data.shm\n",
      "Loading File:  ../data/IndividualData/shaurya-data/11.17.2020/Data.shm\n",
      "Loading File:  ../data/IndividualData/shaurya-data/1.13.2021/Consensys Exported Data.shm\n",
      "Loading File:  ../data/IndividualData/shaurya-data/1.11.2021/Consensys Exported Data.shm\n",
      "Loading File:  ../data/IndividualData/shaurya-data/1.12.2021/Consensys Exported Data.shm\n",
      "Loading File:  ../data/IndividualData/shaurya-data/1.19.2021/Consensys Exported Data.shm\n",
      "Train set size: 76469, with 5308 positive samples and 71161 negative samples\n",
      "Test set size: 19118, with 1327 positive samples and 17791 negative samples\n",
      "Data Loader Created\n",
      "Train set size: 8492, with 4246 positive samples and 4246 negative samples\n",
      "Test set size: 2124, with 1062 positive samples and 1062 negative samples\n",
      "Epoch 1/20\n",
      "67/67 [==============================] - 27s 409ms/step - loss: 1.7591 - accuracy: 0.6463 - val_loss: 1.1874 - val_accuracy: 0.7024\n",
      "Epoch 2/20\n",
      "67/67 [==============================] - 23s 340ms/step - loss: 0.9276 - accuracy: 0.7467 - val_loss: 0.7727 - val_accuracy: 0.7717\n",
      "Epoch 3/20\n",
      "67/67 [==============================] - 22s 331ms/step - loss: 0.6949 - accuracy: 0.7745 - val_loss: 0.6284 - val_accuracy: 0.7891\n",
      "Epoch 4/20\n",
      "67/67 [==============================] - 22s 331ms/step - loss: 0.5968 - accuracy: 0.7917 - val_loss: 0.5705 - val_accuracy: 0.7980\n",
      "Epoch 5/20\n",
      "67/67 [==============================] - 22s 325ms/step - loss: 0.5473 - accuracy: 0.7970 - val_loss: 0.5552 - val_accuracy: 0.7910\n",
      "Epoch 6/20\n",
      "67/67 [==============================] - 22s 322ms/step - loss: 0.5261 - accuracy: 0.8036 - val_loss: 0.5150 - val_accuracy: 0.8079\n",
      "Epoch 7/20\n",
      "67/67 [==============================] - 21s 320ms/step - loss: 0.5131 - accuracy: 0.8042 - val_loss: 0.5050 - val_accuracy: 0.8070\n",
      "Epoch 8/20\n",
      "67/67 [==============================] - 22s 336ms/step - loss: 0.4952 - accuracy: 0.8114 - val_loss: 0.4910 - val_accuracy: 0.8112\n",
      "Epoch 9/20\n",
      "67/67 [==============================] - 22s 326ms/step - loss: 0.4861 - accuracy: 0.8134 - val_loss: 0.4803 - val_accuracy: 0.8263\n",
      "Epoch 10/20\n",
      "67/67 [==============================] - 23s 344ms/step - loss: 0.4781 - accuracy: 0.8187 - val_loss: 0.5008 - val_accuracy: 0.8027\n",
      "Epoch 11/20\n",
      "67/67 [==============================] - 23s 337ms/step - loss: 0.4704 - accuracy: 0.8209 - val_loss: 0.4692 - val_accuracy: 0.8211\n",
      "Epoch 12/20\n",
      "67/67 [==============================] - 22s 325ms/step - loss: 0.4665 - accuracy: 0.8225 - val_loss: 0.4617 - val_accuracy: 0.8366\n",
      "Epoch 13/20\n",
      "67/67 [==============================] - 20s 299ms/step - loss: 0.4576 - accuracy: 0.8297 - val_loss: 0.4905 - val_accuracy: 0.8089\n",
      "Epoch 14/20\n",
      "67/67 [==============================] - 22s 333ms/step - loss: 0.4627 - accuracy: 0.8256 - val_loss: 0.4475 - val_accuracy: 0.8395\n",
      "Epoch 15/20\n",
      "67/67 [==============================] - 20s 305ms/step - loss: 0.4446 - accuracy: 0.8364 - val_loss: 0.4524 - val_accuracy: 0.8427\n",
      "Epoch 16/20\n",
      "67/67 [==============================] - 20s 303ms/step - loss: 0.4340 - accuracy: 0.8436 - val_loss: 0.4296 - val_accuracy: 0.8446\n",
      "Epoch 17/20\n",
      "67/67 [==============================] - 23s 340ms/step - loss: 0.4311 - accuracy: 0.8456 - val_loss: 0.4693 - val_accuracy: 0.8202\n",
      "Epoch 18/20\n",
      "67/67 [==============================] - 21s 320ms/step - loss: 0.4247 - accuracy: 0.8462 - val_loss: 0.4254 - val_accuracy: 0.8508\n",
      "Epoch 19/20\n",
      "67/67 [==============================] - 20s 305ms/step - loss: 0.4144 - accuracy: 0.8537 - val_loss: 0.4297 - val_accuracy: 0.8432\n",
      "Epoch 20/20\n",
      "67/67 [==============================] - 26s 386ms/step - loss: 0.4025 - accuracy: 0.8614 - val_loss: 0.3975 - val_accuracy: 0.8719\n",
      "Max value:  0.8613989353179932  at epoch 20\n",
      "Weighted Accuracy: 0.8698419821169836\n",
      "Test Accuracy: 0.8778114865571712\n",
      "F1-score: 0.49437229437229435\n",
      "Recall Accuracy: 0.8605877920120573\n",
      "       model     data  win(sec)      wacc        f1    recall       acc\n",
      "0  ActiModel  shaurya       360  0.869842  0.494372  0.860588  0.877811\n"
     ]
    }
   ],
   "source": [
    "person=\"shaurya\"\n",
    "winmin= 6\n",
    "stridesec = 5\n",
    "win_size = 15*winmin*60\n",
    "model_4 = acti_model(input_shape =(win_size,6) )\n",
    "model_4.compile(loss='binary_crossentropy',\n",
    "                optimizer='adam', metrics=['accuracy'])\n",
    "perf_df_4, model_ls_4, hist_ls_4 = train_models(model_4,win_ls = [winmin],EPOCHS = 20,stridesec = stridesec,model_name=\"acti_6min\",name = person,split_day=False)\n"
   ]
  },
  {
   "cell_type": "code",
   "execution_count": 54,
   "metadata": {},
   "outputs": [],
   "source": [
    "path = \"../results/train_results/individual_model_\"+ person+\"_6min_train_\"\n",
    "hist4_df = pd.DataFrame(hist_ls_4[0].history)\n",
    "hist4_df.to_csv(path+\"history.csv\")\n",
    "perf_df_4.to_csv(path+\"time_metrics.csv\")\n",
    "\n",
    "hist4_df = pd.read_csv(path+\"history.csv\", index_col=0)\n",
    "perf4_df = pd.read_csv(path+\"time_metrics.csv\", index_col=0)"
   ]
  },
  {
   "cell_type": "code",
   "execution_count": 56,
   "metadata": {},
   "outputs": [
    {
     "data": {
      "text/plain": [
       "<AxesSubplot:>"
      ]
     },
     "execution_count": 56,
     "metadata": {},
     "output_type": "execute_result"
    },
    {
     "data": {
      "image/png": "[encoded data removed]",
      "text/plain": [
       "<Figure size 432x288 with 1 Axes>"
      ]
     },
     "metadata": {
      "needs_background": "light"
     },
     "output_type": "display_data"
    }
   ],
   "source": [
    "# perf4_df\n",
    "hist4_df[[\"accuracy\",\"val_accuracy\"]].plot()"
   ]
  },
  {
   "cell_type": "markdown",
   "metadata": {},
   "source": [
    "# 1.2 Train other inidividual  models in a for-loop here"
   ]
  },
  {
   "cell_type": "code",
   "execution_count": null,
   "metadata": {},
   "outputs": [],
   "source": []
  },
  {
   "cell_type": "code",
   "execution_count": null,
   "metadata": {},
   "outputs": [],
   "source": []
  },
  {
   "cell_type": "code",
   "execution_count": null,
   "metadata": {},
   "outputs": [],
   "source": []
  },
  {
   "cell_type": "markdown",
   "metadata": {},
   "source": [
    "## 1.3 Train models based on data splited by days "
   ]
  },
  {
   "cell_type": "code",
   "execution_count": 40,
   "metadata": {
    "scrolled": true
   },
   "outputs": [
    {
     "name": "stdout",
     "output_type": "stream",
     "text": [
      "*****************************************************************\n",
      "\n",
      "Execution Started at 01/13/2021, 19:32:52\n",
      "WindowLength: 6.00 min (5400 datum)\tSlide: 5 (75 datum)\tEpochs:20\n",
      "\n",
      "Model to Save:  ../models/wenkanw_models/acti_6min_split_day_M_F_6.000000Min.h5\n",
      "\n",
      "Train:\n",
      "IndividualData/wenkanw-data/11-21-20/Dinner/Dinner.shm\n",
      "IndividualData/wenkanw-data/9-17-20/9-17-20.shm\n",
      "IndividualData/wenkanw-data/9-29-20/9-29-20.shm\n",
      "IndividualData/wenkanw-data/11-22-20/Lunch/Lunch.shm\n",
      "IndividualData/wenkanw-data/11-21-20/lunch/lunch.shm\n",
      "IndividualData/wenkanw-data/10-9-20/10-9-20.shm\n",
      "IndividualData/wenkanw-data/11-18-20/11-18-20.shm\n",
      "IndividualData/wenkanw-data/10-14-20/10-14-20.shm\n",
      "IndividualData/wenkanw-data/10-12-20/10-12-20.shm\n",
      "IndividualData/wenkanw-data/11-16-20/11-16-20.shm\n",
      "IndividualData/wenkanw-data/9-27-20/9-27-20.shm\n",
      "IndividualData/wenkanw-data/10-3-20/10-3-20.shm\n",
      "IndividualData/wenkanw-data/10-10-20/10-10-20.shm\n",
      "IndividualData/wenkanw-data/11-22-20/Dinner/Dinner.shm\n",
      "\n",
      "test: \n",
      "IndividualData/wenkanw-data/11-14-20/11-14-20.shm\n",
      "IndividualData/wenkanw-data/10-13-20/10-13-20.shm\n",
      "IndividualData/wenkanw-data/10-9-20/10-10-20.shm\n",
      "\n",
      "All files: \n",
      "IndividualData/wenkanw-data/11-14-20/11-14-20.shm\n",
      "IndividualData/wenkanw-data/10-13-20/10-13-20.shm\n",
      "IndividualData/wenkanw-data/10-9-20/10-10-20.shm\n",
      "IndividualData/wenkanw-data/11-21-20/Dinner/Dinner.shm\n",
      "IndividualData/wenkanw-data/9-17-20/9-17-20.shm\n",
      "IndividualData/wenkanw-data/9-29-20/9-29-20.shm\n",
      "IndividualData/wenkanw-data/11-22-20/Lunch/Lunch.shm\n",
      "IndividualData/wenkanw-data/11-21-20/lunch/lunch.shm\n",
      "IndividualData/wenkanw-data/10-9-20/10-9-20.shm\n",
      "IndividualData/wenkanw-data/11-18-20/11-18-20.shm\n",
      "IndividualData/wenkanw-data/10-14-20/10-14-20.shm\n",
      "IndividualData/wenkanw-data/10-12-20/10-12-20.shm\n",
      "IndividualData/wenkanw-data/11-16-20/11-16-20.shm\n",
      "IndividualData/wenkanw-data/9-27-20/9-27-20.shm\n",
      "IndividualData/wenkanw-data/10-3-20/10-3-20.shm\n",
      "IndividualData/wenkanw-data/10-10-20/10-10-20.shm\n",
      "IndividualData/wenkanw-data/11-22-20/Dinner/Dinner.shm\n",
      "\n",
      "Loading Dataset ...\n",
      "Loading File:  ../data/IndividualData/wenkanw-data/11-21-20/Dinner/Dinner.shm\n",
      "Loading File:  ../data/IndividualData/wenkanw-data/9-17-20/9-17-20.shm\n",
      "Loading File:  ../data/IndividualData/wenkanw-data/9-29-20/9-29-20.shm\n",
      "Loading File:  ../data/IndividualData/wenkanw-data/11-22-20/Lunch/Lunch.shm\n",
      "Loading File:  ../data/IndividualData/wenkanw-data/11-21-20/lunch/lunch.shm\n",
      "Loading File:  ../data/IndividualData/wenkanw-data/10-9-20/10-9-20.shm\n",
      "Loading File:  ../data/IndividualData/wenkanw-data/11-18-20/11-18-20.shm\n",
      "Loading File:  ../data/IndividualData/wenkanw-data/10-14-20/10-14-20.shm\n",
      "Loading File:  ../data/IndividualData/wenkanw-data/10-12-20/10-12-20.shm\n",
      "Loading File:  ../data/IndividualData/wenkanw-data/11-16-20/11-16-20.shm\n",
      "Loading File:  ../data/IndividualData/wenkanw-data/9-27-20/9-27-20.shm\n",
      "Loading File:  ../data/IndividualData/wenkanw-data/10-3-20/10-3-20.shm\n",
      "Loading File:  ../data/IndividualData/wenkanw-data/10-10-20/10-10-20.shm\n",
      "Loading File:  ../data/IndividualData/wenkanw-data/11-22-20/Dinner/Dinner.shm\n",
      "Loading Dataset ...\n",
      "Loading File:  ../data/IndividualData/wenkanw-data/11-14-20/11-14-20.shm\n",
      "Loading File:  ../data/IndividualData/wenkanw-data/10-13-20/10-13-20.shm\n",
      "Loading File:  ../data/IndividualData/wenkanw-data/10-9-20/10-10-20.shm\n",
      "Train set size: 55353, with 3332 positive samples and 52021 negative samples\n",
      "Test set size: 13839, with 833 positive samples and 13006 negative samples\n",
      "Epoch 1/20\n",
      "53/53 [==============================] - 14s 262ms/step - loss: 1.8666 - accuracy: 0.7032 - val_loss: 1.3962 - val_accuracy: 0.8199\n",
      "Epoch 2/20\n",
      "53/53 [==============================] - 13s 252ms/step - loss: 0.9846 - accuracy: 0.8508 - val_loss: 1.0847 - val_accuracy: 0.7113\n",
      "Epoch 3/20\n",
      "53/53 [==============================] - 13s 250ms/step - loss: 0.6927 - accuracy: 0.8815 - val_loss: 0.7330 - val_accuracy: 0.8545\n",
      "Epoch 4/20\n",
      "53/53 [==============================] - 13s 248ms/step - loss: 0.5517 - accuracy: 0.8999 - val_loss: 0.4521 - val_accuracy: 0.9496\n",
      "Epoch 5/20\n",
      "53/53 [==============================] - 13s 250ms/step - loss: 0.4650 - accuracy: 0.9160 - val_loss: 0.3464 - val_accuracy: 0.9686\n",
      "Epoch 6/20\n",
      "53/53 [==============================] - 13s 247ms/step - loss: 0.4196 - accuracy: 0.9181 - val_loss: 0.4024 - val_accuracy: 0.9367\n",
      "Epoch 7/20\n",
      "53/53 [==============================] - 13s 248ms/step - loss: 0.4029 - accuracy: 0.9139 - val_loss: 0.3520 - val_accuracy: 0.9542\n",
      "Epoch 8/20\n",
      "53/53 [==============================] - 13s 251ms/step - loss: 0.3810 - accuracy: 0.9185 - val_loss: 0.3563 - val_accuracy: 0.9427\n",
      "Epoch 9/20\n",
      "53/53 [==============================] - 13s 249ms/step - loss: 0.3488 - accuracy: 0.9298 - val_loss: 0.3073 - val_accuracy: 0.9616\n",
      "Epoch 10/20\n",
      "53/53 [==============================] - 13s 249ms/step - loss: 0.3458 - accuracy: 0.9332 - val_loss: 0.3403 - val_accuracy: 0.9479\n",
      "Epoch 11/20\n",
      "53/53 [==============================] - 13s 249ms/step - loss: 0.3429 - accuracy: 0.9323 - val_loss: 0.3355 - val_accuracy: 0.9491\n",
      "Epoch 12/20\n",
      "53/53 [==============================] - 13s 251ms/step - loss: 0.3405 - accuracy: 0.9314 - val_loss: 0.2995 - val_accuracy: 0.9617\n",
      "Epoch 13/20\n",
      "53/53 [==============================] - 13s 252ms/step - loss: 0.3386 - accuracy: 0.9319 - val_loss: 0.3087 - val_accuracy: 0.9582\n",
      "Epoch 14/20\n",
      "53/53 [==============================] - 13s 247ms/step - loss: 0.3376 - accuracy: 0.9337 - val_loss: 0.3411 - val_accuracy: 0.9454\n",
      "Epoch 15/20\n",
      "53/53 [==============================] - 13s 250ms/step - loss: 0.3351 - accuracy: 0.9337 - val_loss: 0.3694 - val_accuracy: 0.9314\n",
      "Epoch 16/20\n",
      "53/53 [==============================] - 13s 249ms/step - loss: 0.3334 - accuracy: 0.9320 - val_loss: 0.3150 - val_accuracy: 0.9539\n",
      "Epoch 17/20\n",
      "53/53 [==============================] - 13s 249ms/step - loss: 0.3317 - accuracy: 0.9326 - val_loss: 0.3317 - val_accuracy: 0.9473\n",
      "Epoch 18/20\n",
      "53/53 [==============================] - 13s 252ms/step - loss: 0.3312 - accuracy: 0.9329 - val_loss: 0.3245 - val_accuracy: 0.9504\n",
      "Epoch 19/20\n",
      "53/53 [==============================] - 13s 252ms/step - loss: 0.3310 - accuracy: 0.9328 - val_loss: 0.3241 - val_accuracy: 0.9505\n",
      "Epoch 20/20\n",
      "53/53 [==============================] - 13s 248ms/step - loss: 0.3309 - accuracy: 0.9329 - val_loss: 0.3241 - val_accuracy: 0.9505\n",
      "Max value:  0.9336734414100647  at epoch 14\n",
      "Weighted Accuracy: 0.8582360046797277\n",
      "Test Accuracy: 0.9340800425004427\n",
      "F1-score: 0.5737188663040367\n",
      "Recall Accuracy: 0.7725520431765613\n",
      "       model     data  win(sec)      wacc        f1    recall      acc\n",
      "0  ActiModel  wenkanw       360  0.858236  0.573719  0.772552  0.93408\n"
     ]
    }
   ],
   "source": [
    "person=\"wenkanw\"\n",
    "winmin= 6\n",
    "stridesec = 5\n",
    "win_size = 15*winmin*60\n",
    "model_day_1 = acti_model(input_shape =(win_size,6) )\n",
    "model_day_1.compile(loss='binary_crossentropy',\n",
    "                optimizer='adam', metrics=['accuracy'])\n",
    "perf_df_day_1, model_ls_day_1, hist_ls_day_1 = train_models(model_day_1,win_ls = [winmin],EPOCHS = 20,\n",
    "                                                stridesec = stridesec,model_name=\"acti_6min\",name = person,split_day=True)\n"
   ]
  },
  {
   "cell_type": "code",
   "execution_count": 41,
   "metadata": {
    "scrolled": true
   },
   "outputs": [
    {
     "name": "stdout",
     "output_type": "stream",
     "text": [
      "*****************************************************************\n",
      "\n",
      "Execution Started at 01/13/2021, 19:38:07\n",
      "WindowLength: 6.00 min (5400 datum)\tSlide: 5 (75 datum)\tEpochs:20\n",
      "\n",
      "Model to Save:  ../models/adam_models/acti_6min_split_day_M_F_6.000000Min.h5\n",
      "\n",
      "Train:\n",
      "IndividualData/adam-data/12-02-2020/12-02-2020.shm\n",
      "IndividualData/adam-data/12-10-2020/12-10-2020.shm\n",
      "IndividualData/adam-data/09-22-2020/09-22-2020.shm\n",
      "IndividualData/adam-data/11-25-2020/11-25-2020.shm\n",
      "IndividualData/adam-data/11-12-2020/11-12-2020.shm\n",
      "IndividualData/adam-data/11-26-2020/11-26-2020.shm\n",
      "IndividualData/adam-data/11-17-2020/11-17-2020.shm\n",
      "IndividualData/adam-data/10-28-2020/10-28-2020.shm\n",
      "IndividualData/adam-data/12-07-2020/12-07-2020.shm\n",
      "IndividualData/adam-data/12-04-2020/12-04-2020.shm\n",
      "IndividualData/adam-data/12-03-2020/12-03-2020.shm\n",
      "IndividualData/adam-data/11-11-2020/11-11-2020-1.shm\n",
      "IndividualData/adam-data/12-11-2020/12-11-2020.shm\n",
      "IndividualData/adam-data/11-16-2020/11-16-2020.shm\n",
      "IndividualData/adam-data/11-09-2020/11-09-2020.shm\n",
      "IndividualData/adam-data/12-01-2020/12-01-2020.shm\n",
      "\n",
      "test: \n",
      "IndividualData/adam-data/12-08-2020/12-08-2020.shm\n",
      "IndividualData/adam-data/11-24-2020/11-24-2020.shm\n",
      "IndividualData/adam-data/11-30-2020/11-30-2020.shm\n",
      "IndividualData/adam-data/12-09-2020/12-09-2020.shm\n",
      "\n",
      "All files: \n",
      "IndividualData/adam-data/12-08-2020/12-08-2020.shm\n",
      "IndividualData/adam-data/11-24-2020/11-24-2020.shm\n",
      "IndividualData/adam-data/11-30-2020/11-30-2020.shm\n",
      "IndividualData/adam-data/12-09-2020/12-09-2020.shm\n",
      "IndividualData/adam-data/12-02-2020/12-02-2020.shm\n",
      "IndividualData/adam-data/12-10-2020/12-10-2020.shm\n",
      "IndividualData/adam-data/09-22-2020/09-22-2020.shm\n",
      "IndividualData/adam-data/11-25-2020/11-25-2020.shm\n",
      "IndividualData/adam-data/11-12-2020/11-12-2020.shm\n",
      "IndividualData/adam-data/11-26-2020/11-26-2020.shm\n",
      "IndividualData/adam-data/11-17-2020/11-17-2020.shm\n",
      "IndividualData/adam-data/10-28-2020/10-28-2020.shm\n",
      "IndividualData/adam-data/12-07-2020/12-07-2020.shm\n",
      "IndividualData/adam-data/12-04-2020/12-04-2020.shm\n",
      "IndividualData/adam-data/12-03-2020/12-03-2020.shm\n",
      "IndividualData/adam-data/11-11-2020/11-11-2020-1.shm\n",
      "IndividualData/adam-data/12-11-2020/12-11-2020.shm\n",
      "IndividualData/adam-data/11-16-2020/11-16-2020.shm\n",
      "IndividualData/adam-data/11-09-2020/11-09-2020.shm\n",
      "IndividualData/adam-data/12-01-2020/12-01-2020.shm\n",
      "\n",
      "Loading Dataset ...\n",
      "Loading File:  ../data/IndividualData/adam-data/12-02-2020/12-02-2020.shm\n",
      "Loading File:  ../data/IndividualData/adam-data/12-10-2020/12-10-2020.shm\n",
      "Loading File:  ../data/IndividualData/adam-data/09-22-2020/09-22-2020.shm\n",
      "Loading File:  ../data/IndividualData/adam-data/11-25-2020/11-25-2020.shm\n",
      "Loading File:  ../data/IndividualData/adam-data/11-12-2020/11-12-2020.shm\n",
      "Loading File:  ../data/IndividualData/adam-data/11-26-2020/11-26-2020.shm\n",
      "Loading File:  ../data/IndividualData/adam-data/11-17-2020/11-17-2020.shm\n",
      "Loading File:  ../data/IndividualData/adam-data/10-28-2020/10-28-2020.shm\n",
      "Loading File:  ../data/IndividualData/adam-data/12-07-2020/12-07-2020.shm\n",
      "Loading File:  ../data/IndividualData/adam-data/12-04-2020/12-04-2020.shm\n",
      "Loading File:  ../data/IndividualData/adam-data/12-03-2020/12-03-2020.shm\n",
      "Loading File:  ../data/IndividualData/adam-data/11-11-2020/11-11-2020-1.shm\n",
      "Loading File:  ../data/IndividualData/adam-data/12-11-2020/12-11-2020.shm\n",
      "Loading File:  ../data/IndividualData/adam-data/11-16-2020/11-16-2020.shm\n",
      "Loading File:  ../data/IndividualData/adam-data/11-09-2020/11-09-2020.shm\n",
      "Loading File:  ../data/IndividualData/adam-data/12-01-2020/12-01-2020.shm\n",
      "Loading Dataset ...\n",
      "Loading File:  ../data/IndividualData/adam-data/12-08-2020/12-08-2020.shm\n",
      "Loading File:  ../data/IndividualData/adam-data/11-24-2020/11-24-2020.shm\n",
      "Loading File:  ../data/IndividualData/adam-data/11-30-2020/11-30-2020.shm\n",
      "Loading File:  ../data/IndividualData/adam-data/12-09-2020/12-09-2020.shm\n",
      "Train set size: 73462, with 1974 positive samples and 71488 negative samples\n",
      "Test set size: 18366, with 494 positive samples and 17872 negative samples\n",
      "Epoch 1/20\n",
      "31/31 [==============================] - 11s 348ms/step - loss: 2.0859 - accuracy: 0.6702 - val_loss: 1.7647 - val_accuracy: 0.7493\n",
      "Epoch 2/20\n",
      "31/31 [==============================] - 10s 318ms/step - loss: 1.4736 - accuracy: 0.7596 - val_loss: 1.2760 - val_accuracy: 0.7396\n",
      "Epoch 3/20\n",
      "31/31 [==============================] - 10s 315ms/step - loss: 1.0499 - accuracy: 0.8214 - val_loss: 0.8334 - val_accuracy: 0.8863\n",
      "Epoch 4/20\n",
      "31/31 [==============================] - 10s 317ms/step - loss: 0.8243 - accuracy: 0.8521 - val_loss: 0.7046 - val_accuracy: 0.8795\n",
      "Epoch 5/20\n",
      "31/31 [==============================] - 10s 318ms/step - loss: 0.7207 - accuracy: 0.8511 - val_loss: 0.7420 - val_accuracy: 0.8217\n",
      "Epoch 6/20\n",
      "31/31 [==============================] - 10s 315ms/step - loss: 0.6415 - accuracy: 0.8602 - val_loss: 0.6196 - val_accuracy: 0.8538\n",
      "Epoch 7/20\n",
      "31/31 [==============================] - 10s 325ms/step - loss: 0.5798 - accuracy: 0.8683 - val_loss: 0.5800 - val_accuracy: 0.8514\n",
      "Epoch 8/20\n",
      "31/31 [==============================] - 10s 319ms/step - loss: 0.5242 - accuracy: 0.8812 - val_loss: 0.5100 - val_accuracy: 0.8768\n",
      "Epoch 9/20\n",
      "31/31 [==============================] - 10s 318ms/step - loss: 0.4903 - accuracy: 0.8893 - val_loss: 0.4883 - val_accuracy: 0.8769\n",
      "Epoch 10/20\n",
      "31/31 [==============================] - 10s 316ms/step - loss: 0.4769 - accuracy: 0.8835 - val_loss: 0.4951 - val_accuracy: 0.8621\n",
      "Epoch 11/20\n",
      "31/31 [==============================] - 10s 316ms/step - loss: 0.4498 - accuracy: 0.8924 - val_loss: 0.5335 - val_accuracy: 0.8386\n",
      "Epoch 12/20\n",
      "31/31 [==============================] - 10s 312ms/step - loss: 0.4396 - accuracy: 0.8921 - val_loss: 0.5400 - val_accuracy: 0.8255\n",
      "Epoch 13/20\n",
      "31/31 [==============================] - 10s 313ms/step - loss: 0.4129 - accuracy: 0.9055 - val_loss: 0.4291 - val_accuracy: 0.8830\n",
      "Epoch 14/20\n",
      "31/31 [==============================] - 10s 316ms/step - loss: 0.4045 - accuracy: 0.9101 - val_loss: 0.4389 - val_accuracy: 0.8774\n",
      "Epoch 15/20\n",
      "31/31 [==============================] - 10s 312ms/step - loss: 0.4006 - accuracy: 0.9096 - val_loss: 0.4615 - val_accuracy: 0.8673\n",
      "Epoch 16/20\n",
      "31/31 [==============================] - 10s 315ms/step - loss: 0.4000 - accuracy: 0.9063 - val_loss: 0.4233 - val_accuracy: 0.8835\n",
      "Epoch 17/20\n",
      "31/31 [==============================] - 10s 315ms/step - loss: 0.4007 - accuracy: 0.9063 - val_loss: 0.4467 - val_accuracy: 0.8733\n",
      "Epoch 18/20\n",
      "31/31 [==============================] - 10s 314ms/step - loss: 0.3962 - accuracy: 0.9088 - val_loss: 0.4237 - val_accuracy: 0.8822\n",
      "Epoch 19/20\n",
      "31/31 [==============================] - 10s 313ms/step - loss: 0.3944 - accuracy: 0.9093 - val_loss: 0.4522 - val_accuracy: 0.8693\n",
      "Epoch 20/20\n",
      "31/31 [==============================] - 10s 314ms/step - loss: 0.3917 - accuracy: 0.9091 - val_loss: 0.4324 - val_accuracy: 0.8781\n",
      "Max value:  0.9100810289382935  at epoch 14\n",
      "Weighted Accuracy: 0.9741729242570241\n",
      "Test Accuracy: 0.9733281657388486\n",
      "F1-score: 0.6625055728934462\n",
      "Recall Accuracy: 0.9750656167979003\n",
      "       model  data  win(sec)      wacc        f1    recall       acc\n",
      "0  ActiModel  adam       360  0.974173  0.662506  0.975066  0.973328\n"
     ]
    }
   ],
   "source": [
    "person=\"adam\"\n",
    "winmin= 6\n",
    "stridesec = 5\n",
    "win_size = 15*winmin*60\n",
    "model_day_2 = acti_model(input_shape =(win_size,6) )\n",
    "model_day_2.compile(loss='binary_crossentropy',\n",
    "                optimizer='adam', metrics=['accuracy'])\n",
    "perf_df_day_2, model_ls_day_2, hist_ls_day_2 = train_models(model_day_2,win_ls = [winmin],EPOCHS = 20,\n",
    "                                                stridesec = stridesec,model_name=\"acti_6min\",name = person,split_day=True)\n"
   ]
  },
  {
   "cell_type": "code",
   "execution_count": 42,
   "metadata": {
    "scrolled": true
   },
   "outputs": [
    {
     "name": "stdout",
     "output_type": "stream",
     "text": [
      "*****************************************************************\n",
      "\n",
      "Execution Started at 01/13/2021, 19:42:23\n",
      "WindowLength: 6.00 min (5400 datum)\tSlide: 5 (75 datum)\tEpochs:20\n",
      "\n",
      "Model to Save:  ../models/lawler_models/acti_6min_split_day_M_F_6.000000Min.h5\n",
      "\n",
      "Train:\n",
      "IndividualData/lawler-data/10.8/10.8.shm\n",
      "IndividualData/lawler-data/11.15/11.15.shm\n",
      "IndividualData/lawler-data/10.14/10.14.shm\n",
      "IndividualData/lawler-data/9.23/9.23_13hr.shm\n",
      "IndividualData/lawler-data/10.12/10.12.shm\n",
      "IndividualData/lawler-data/11.11/11.11.shm\n",
      "IndividualData/lawler-data/11.4/11.4.shm\n",
      "IndividualData/lawler-data/9.25/9.25_1-46.shm\n",
      "IndividualData/lawler-data/10.6/10.6.shm\n",
      "IndividualData/lawler-data/10.4/10.4.shm\n",
      "IndividualData/lawler-data/10.28/10.28.shm\n",
      "IndividualData/lawler-data/11.3/11.3.shm\n",
      "IndividualData/lawler-data/10.20/evening_2hr_20min/10.20.shm\n",
      "IndividualData/lawler-data/10.26/10.26.shm\n",
      "IndividualData/lawler-data/10.31/10.31.shm\n",
      "IndividualData/lawler-data/10.31/evening-2hr_goodDinnerTemplate_CFAmeal/10.31.shm\n",
      "IndividualData/lawler-data/10.21/10.21.shm\n",
      "IndividualData/lawler-data/10.16/10.16.shm\n",
      "IndividualData/lawler-data/10.20/afternoon_2hr33min/10.20.shm\n",
      "\n",
      "test: \n",
      "IndividualData/lawler-data/10.19/10.19.shm\n",
      "IndividualData/lawler-data/11.14/11.14.shm\n",
      "IndividualData/lawler-data/10.10/10.10.shm\n",
      "IndividualData/lawler-data/11.2/11.2.shm\n",
      "\n",
      "All files: \n",
      "IndividualData/lawler-data/10.19/10.19.shm\n",
      "IndividualData/lawler-data/11.14/11.14.shm\n",
      "IndividualData/lawler-data/10.10/10.10.shm\n",
      "IndividualData/lawler-data/11.2/11.2.shm\n",
      "IndividualData/lawler-data/10.8/10.8.shm\n",
      "IndividualData/lawler-data/11.15/11.15.shm\n",
      "IndividualData/lawler-data/10.14/10.14.shm\n",
      "IndividualData/lawler-data/9.23/9.23_13hr.shm\n",
      "IndividualData/lawler-data/10.12/10.12.shm\n",
      "IndividualData/lawler-data/11.11/11.11.shm\n",
      "IndividualData/lawler-data/11.4/11.4.shm\n",
      "IndividualData/lawler-data/9.25/9.25_1-46.shm\n",
      "IndividualData/lawler-data/10.6/10.6.shm\n",
      "IndividualData/lawler-data/10.4/10.4.shm\n",
      "IndividualData/lawler-data/10.28/10.28.shm\n",
      "IndividualData/lawler-data/11.3/11.3.shm\n",
      "IndividualData/lawler-data/10.20/evening_2hr_20min/10.20.shm\n",
      "IndividualData/lawler-data/10.26/10.26.shm\n",
      "IndividualData/lawler-data/10.31/10.31.shm\n",
      "IndividualData/lawler-data/10.31/evening-2hr_goodDinnerTemplate_CFAmeal/10.31.shm\n",
      "IndividualData/lawler-data/10.21/10.21.shm\n",
      "IndividualData/lawler-data/10.16/10.16.shm\n",
      "IndividualData/lawler-data/10.20/afternoon_2hr33min/10.20.shm\n",
      "\n",
      "Loading Dataset ...\n",
      "Loading File:  ../data/IndividualData/lawler-data/10.8/10.8.shm\n",
      "Loading File:  ../data/IndividualData/lawler-data/11.15/11.15.shm\n",
      "Loading File:  ../data/IndividualData/lawler-data/10.14/10.14.shm\n",
      "Loading File:  ../data/IndividualData/lawler-data/9.23/9.23_13hr.shm\n",
      "Loading File:  ../data/IndividualData/lawler-data/10.12/10.12.shm\n",
      "Loading File:  ../data/IndividualData/lawler-data/11.11/11.11.shm\n",
      "Loading File:  ../data/IndividualData/lawler-data/11.4/11.4.shm\n",
      "Loading File:  ../data/IndividualData/lawler-data/9.25/9.25_1-46.shm\n",
      "Loading File:  ../data/IndividualData/lawler-data/10.6/10.6.shm\n",
      "Loading File:  ../data/IndividualData/lawler-data/10.4/10.4.shm\n",
      "Loading File:  ../data/IndividualData/lawler-data/10.28/10.28.shm\n",
      "Loading File:  ../data/IndividualData/lawler-data/11.3/11.3.shm\n",
      "Loading File:  ../data/IndividualData/lawler-data/10.20/evening_2hr_20min/10.20.shm\n",
      "Loading File:  ../data/IndividualData/lawler-data/10.26/10.26.shm\n",
      "Loading File:  ../data/IndividualData/lawler-data/10.31/10.31.shm\n",
      "Loading File:  ../data/IndividualData/lawler-data/10.31/evening-2hr_goodDinnerTemplate_CFAmeal/10.31.shm\n",
      "Loading File:  ../data/IndividualData/lawler-data/10.21/10.21.shm\n",
      "Loading File:  ../data/IndividualData/lawler-data/10.16/10.16.shm\n",
      "Loading File:  ../data/IndividualData/lawler-data/10.20/afternoon_2hr33min/10.20.shm\n",
      "Loading Dataset ...\n",
      "Loading File:  ../data/IndividualData/lawler-data/10.19/10.19.shm\n",
      "Loading File:  ../data/IndividualData/lawler-data/11.14/11.14.shm\n",
      "Loading File:  ../data/IndividualData/lawler-data/10.10/10.10.shm\n",
      "Loading File:  ../data/IndividualData/lawler-data/11.2/11.2.shm\n",
      "Train set size: 73436, with 3590 positive samples and 69846 negative samples\n",
      "Test set size: 18359, with 898 positive samples and 17461 negative samples\n",
      "Epoch 1/20\n",
      "57/57 [==============================] - 16s 279ms/step - loss: 1.8634 - accuracy: 0.5928 - val_loss: 1.3382 - val_accuracy: 0.6097\n",
      "Epoch 2/20\n",
      "57/57 [==============================] - 15s 264ms/step - loss: 1.0726 - accuracy: 0.6682 - val_loss: 0.6734 - val_accuracy: 0.8725\n",
      "Epoch 3/20\n",
      "57/57 [==============================] - 15s 259ms/step - loss: 0.7862 - accuracy: 0.7315 - val_loss: 0.6340 - val_accuracy: 0.7798\n",
      "Epoch 4/20\n",
      "57/57 [==============================] - 15s 261ms/step - loss: 0.6909 - accuracy: 0.7462 - val_loss: 0.5347 - val_accuracy: 0.8116\n",
      "Epoch 5/20\n",
      "57/57 [==============================] - 15s 260ms/step - loss: 0.6344 - accuracy: 0.7546 - val_loss: 0.8634 - val_accuracy: 0.5267\n",
      "Epoch 6/20\n",
      "57/57 [==============================] - 15s 263ms/step - loss: 0.6085 - accuracy: 0.7609 - val_loss: 0.4939 - val_accuracy: 0.7962\n",
      "Epoch 7/20\n",
      "57/57 [==============================] - 15s 259ms/step - loss: 0.5898 - accuracy: 0.7695 - val_loss: 0.4204 - val_accuracy: 0.8474\n",
      "Epoch 8/20\n",
      "57/57 [==============================] - 15s 262ms/step - loss: 0.5790 - accuracy: 0.7662 - val_loss: 0.6487 - val_accuracy: 0.6588\n",
      "Epoch 9/20\n",
      "57/57 [==============================] - 15s 262ms/step - loss: 0.5525 - accuracy: 0.7880 - val_loss: 0.4434 - val_accuracy: 0.8126\n",
      "Epoch 10/20\n",
      "57/57 [==============================] - 15s 261ms/step - loss: 0.5501 - accuracy: 0.7808 - val_loss: 0.4874 - val_accuracy: 0.7765\n",
      "Epoch 11/20\n",
      "57/57 [==============================] - 15s 262ms/step - loss: 0.5306 - accuracy: 0.8000 - val_loss: 0.5305 - val_accuracy: 0.7446\n",
      "Epoch 12/20\n",
      "57/57 [==============================] - 15s 261ms/step - loss: 0.5279 - accuracy: 0.8031 - val_loss: 0.5117 - val_accuracy: 0.7598\n",
      "Epoch 13/20\n",
      "57/57 [==============================] - 15s 261ms/step - loss: 0.5250 - accuracy: 0.8075 - val_loss: 0.5286 - val_accuracy: 0.7484\n",
      "Epoch 14/20\n",
      "57/57 [==============================] - 15s 259ms/step - loss: 0.5235 - accuracy: 0.8050 - val_loss: 0.5337 - val_accuracy: 0.7433\n",
      "Epoch 15/20\n",
      "57/57 [==============================] - 15s 262ms/step - loss: 0.5232 - accuracy: 0.8061 - val_loss: 0.5429 - val_accuracy: 0.7365\n",
      "Epoch 16/20\n",
      "57/57 [==============================] - 15s 262ms/step - loss: 0.5231 - accuracy: 0.8061 - val_loss: 0.5350 - val_accuracy: 0.7426\n",
      "Epoch 17/20\n",
      "57/57 [==============================] - 15s 262ms/step - loss: 0.5229 - accuracy: 0.8058 - val_loss: 0.5357 - val_accuracy: 0.7421\n",
      "Epoch 18/20\n",
      "57/57 [==============================] - 15s 260ms/step - loss: 0.5228 - accuracy: 0.8061 - val_loss: 0.5370 - val_accuracy: 0.7409\n",
      "Epoch 19/20\n",
      "57/57 [==============================] - 15s 261ms/step - loss: 0.5228 - accuracy: 0.8063 - val_loss: 0.5373 - val_accuracy: 0.7403\n",
      "Epoch 20/20\n",
      "57/57 [==============================] - 15s 259ms/step - loss: 0.5228 - accuracy: 0.8063 - val_loss: 0.5374 - val_accuracy: 0.7402\n",
      "Max value:  0.807520866394043  at epoch 13\n",
      "Weighted Accuracy: 0.7467463939486494\n",
      "Test Accuracy: 0.7736002966258806\n",
      "F1-score: 0.14863357501394311\n",
      "Recall Accuracy: 0.7183288409703504\n",
      "       model    data  win(sec)      wacc        f1    recall     acc\n",
      "0  ActiModel  lawler       360  0.746746  0.148634  0.718329  0.7736\n"
     ]
    }
   ],
   "source": [
    "person=\"lawler\"\n",
    "winmin= 6\n",
    "stridesec = 5\n",
    "win_size = 15*winmin*60\n",
    "model_day_3 = acti_model(input_shape =(win_size,6) )\n",
    "model_day_3.compile(loss='binary_crossentropy',\n",
    "                optimizer='adam', metrics=['accuracy'])\n",
    "perf_df_day_3, model_ls_day_3, hist_ls_day_3 = train_models(model_day_3,win_ls = [winmin],EPOCHS = 20,\n",
    "                                                stridesec = stridesec,model_name=\"acti_6min\",name = person,split_day=True)\n"
   ]
  },
  {
   "cell_type": "code",
   "execution_count": 43,
   "metadata": {
    "scrolled": true
   },
   "outputs": [
    {
     "name": "stdout",
     "output_type": "stream",
     "text": [
      "*****************************************************************\n",
      "\n",
      "Execution Started at 01/13/2021, 19:48:20\n",
      "WindowLength: 6.00 min (5400 datum)\tSlide: 5 (75 datum)\tEpochs:20\n",
      "\n",
      "Model to Save:  ../models/shaurya_models/acti_6min_split_day_M_F_6.000000Min.h5\n",
      "\n",
      "Train:\n",
      "IndividualData/shaurya-data/10.22.2020/Data.shm\n",
      "IndividualData/shaurya-data/11.15.2020/Data.shm\n",
      "IndividualData/shaurya-data/11.17.2020/Data.shm\n",
      "IndividualData/shaurya-data/11.1.2020/Data.shm\n",
      "IndividualData/shaurya-data/11.18.2020/Data.shm\n",
      "\n",
      "test: \n",
      "IndividualData/shaurya-data/10.25.2020/Data.shm\n",
      "\n",
      "All files: \n",
      "IndividualData/shaurya-data/10.25.2020/Data.shm\n",
      "IndividualData/shaurya-data/10.22.2020/Data.shm\n",
      "IndividualData/shaurya-data/11.15.2020/Data.shm\n",
      "IndividualData/shaurya-data/11.17.2020/Data.shm\n",
      "IndividualData/shaurya-data/11.1.2020/Data.shm\n",
      "IndividualData/shaurya-data/11.18.2020/Data.shm\n",
      "\n",
      "Loading Dataset ...\n",
      "Loading File:  ../data/IndividualData/shaurya-data/10.22.2020/Data.shm\n",
      "Loading File:  ../data/IndividualData/shaurya-data/11.15.2020/Data.shm\n",
      "Loading File:  ../data/IndividualData/shaurya-data/11.17.2020/Data.shm\n",
      "Loading File:  ../data/IndividualData/shaurya-data/11.1.2020/Data.shm\n",
      "Loading File:  ../data/IndividualData/shaurya-data/11.18.2020/Data.shm\n",
      "Loading Dataset ...\n",
      "Loading File:  ../data/IndividualData/shaurya-data/10.25.2020/Data.shm\n",
      "Train set size: 31924, with 2001 positive samples and 29923 negative samples\n",
      "Test set size: 7981, with 500 positive samples and 7481 negative samples\n",
      "Epoch 1/20\n",
      "32/32 [==============================] - 8s 255ms/step - loss: 2.0802 - accuracy: 0.6297 - val_loss: 1.8732 - val_accuracy: 0.4704\n",
      "Epoch 2/20\n",
      "32/32 [==============================] - 8s 244ms/step - loss: 1.4651 - accuracy: 0.7514 - val_loss: 1.3241 - val_accuracy: 0.6536\n",
      "Epoch 3/20\n",
      "32/32 [==============================] - 8s 245ms/step - loss: 1.0057 - accuracy: 0.8028 - val_loss: 0.8691 - val_accuracy: 0.8184\n",
      "Epoch 4/20\n",
      "32/32 [==============================] - 8s 241ms/step - loss: 0.7736 - accuracy: 0.8246 - val_loss: 0.8969 - val_accuracy: 0.7484\n",
      "Epoch 5/20\n",
      "32/32 [==============================] - 8s 244ms/step - loss: 0.6630 - accuracy: 0.8386 - val_loss: 0.6123 - val_accuracy: 0.8498\n",
      "Epoch 6/20\n",
      "32/32 [==============================] - 8s 244ms/step - loss: 0.5869 - accuracy: 0.8426 - val_loss: 0.8022 - val_accuracy: 0.7469\n",
      "Epoch 7/20\n",
      "32/32 [==============================] - 8s 242ms/step - loss: 0.5420 - accuracy: 0.8506 - val_loss: 0.4301 - val_accuracy: 0.9028\n",
      "Epoch 8/20\n",
      "32/32 [==============================] - 8s 244ms/step - loss: 0.5093 - accuracy: 0.8551 - val_loss: 0.4019 - val_accuracy: 0.9072\n",
      "Epoch 9/20\n",
      "32/32 [==============================] - 8s 244ms/step - loss: 0.4878 - accuracy: 0.8508 - val_loss: 0.4119 - val_accuracy: 0.8902\n",
      "Epoch 10/20\n",
      "32/32 [==============================] - 8s 242ms/step - loss: 0.4454 - accuracy: 0.8623 - val_loss: 0.4548 - val_accuracy: 0.8625\n",
      "Epoch 11/20\n",
      "32/32 [==============================] - 8s 248ms/step - loss: 0.4278 - accuracy: 0.8676 - val_loss: 0.4007 - val_accuracy: 0.8816\n",
      "Epoch 12/20\n",
      "32/32 [==============================] - 8s 243ms/step - loss: 0.4120 - accuracy: 0.8703 - val_loss: 0.4402 - val_accuracy: 0.8583\n",
      "Epoch 13/20\n",
      "32/32 [==============================] - 8s 243ms/step - loss: 0.4011 - accuracy: 0.8661 - val_loss: 0.4065 - val_accuracy: 0.8716\n",
      "Epoch 14/20\n",
      "32/32 [==============================] - 8s 242ms/step - loss: 0.3876 - accuracy: 0.8748 - val_loss: 0.3961 - val_accuracy: 0.8713\n",
      "Epoch 15/20\n",
      "32/32 [==============================] - 8s 242ms/step - loss: 0.3775 - accuracy: 0.8823 - val_loss: 0.4450 - val_accuracy: 0.8495\n",
      "Epoch 16/20\n",
      "32/32 [==============================] - 8s 242ms/step - loss: 0.3767 - accuracy: 0.8796 - val_loss: 0.2913 - val_accuracy: 0.9176\n",
      "Epoch 17/20\n",
      "32/32 [==============================] - 8s 240ms/step - loss: 0.3840 - accuracy: 0.8713 - val_loss: 0.3141 - val_accuracy: 0.9058\n",
      "Epoch 18/20\n",
      "32/32 [==============================] - 8s 242ms/step - loss: 0.3619 - accuracy: 0.8858 - val_loss: 0.3475 - val_accuracy: 0.8865\n",
      "Epoch 19/20\n",
      "32/32 [==============================] - 8s 243ms/step - loss: 0.3616 - accuracy: 0.8793 - val_loss: 0.4976 - val_accuracy: 0.8171\n",
      "Epoch 20/20\n",
      "32/32 [==============================] - 8s 244ms/step - loss: 0.3518 - accuracy: 0.8898 - val_loss: 0.3724 - val_accuracy: 0.8747\n",
      "Max value:  0.8898050785064697  at epoch 20\n",
      "Weighted Accuracy: 0.5024025157232704\n",
      "Test Accuracy: 0.8577617328519855\n",
      "F1-score: 0.06457739791073124\n",
      "Recall Accuracy: 0.11333333333333333\n",
      "       model     data  win(sec)      wacc        f1    recall       acc\n",
      "0  ActiModel  shaurya       360  0.502403  0.064577  0.113333  0.857762\n"
     ]
    }
   ],
   "source": [
    "person=\"shaurya\"\n",
    "winmin= 6\n",
    "stridesec = 5\n",
    "win_size = 15*winmin*60\n",
    "model_day_4 = acti_model(input_shape =(win_size,6) )\n",
    "model_day_4.compile(loss='binary_crossentropy',\n",
    "                optimizer='adam', metrics=['accuracy'])\n",
    "perf_df_day_4, model_ls_day_4, hist_ls_day_4 = train_models(model_day_4,win_ls = [winmin],EPOCHS = 20,\n",
    "                                                stridesec = stridesec,model_name=\"acti_6min\",name = person,split_day=True)\n"
   ]
  },
  {
   "cell_type": "code",
   "execution_count": null,
   "metadata": {},
   "outputs": [],
   "source": []
  },
  {
   "cell_type": "code",
   "execution_count": null,
   "metadata": {},
   "outputs": [],
   "source": []
  },
  {
   "cell_type": "code",
   "execution_count": null,
   "metadata": {},
   "outputs": [],
   "source": []
  },
  {
   "cell_type": "code",
   "execution_count": null,
   "metadata": {},
   "outputs": [],
   "source": []
  },
  {
   "cell_type": "markdown",
   "metadata": {},
   "source": [
    "# 2. Test Time-based Metric Performance"
   ]
  },
  {
   "cell_type": "markdown",
   "metadata": {},
   "source": [
    "## 2.1 Test time metrics "
   ]
  },
  {
   "cell_type": "code",
   "execution_count": 14,
   "metadata": {},
   "outputs": [],
   "source": [
    "from collections import defaultdict\n",
    "\n",
    "balance_ratio = dataset_info[dataset_info[\"dataset\"]==\"total\"]['Balance Ratio(no_eat/eat)'].values[0]\n",
    "\n",
    "def weight_accuracy(y_true, y_pred,weight= balance_ratio):\n",
    "    TP = sum( (y_true==1) &(y_pred==1) )\n",
    "    FN = sum( (y_true==1) &(y_pred==0) )\n",
    "    TN = sum( (y_true==0) &(y_pred==0) )\n",
    "    FP = sum( (y_true==0) &(y_pred==1) )\n",
    "    print(\"TP: \",TP, \"FP: \",FP, \"TN: \",TN, \"FN: \",FN)\n",
    "    return (weight*TP + TN)/(weight*(TP+FN) + (TN+FP))\n",
    "\n",
    "def test_models_time_metric(winmin=1, stridesec = 5,names= [\"wenkanw\"],random_seed=1000, split_day=False, test_balance=False, test_CAD=False):\n",
    "    perf = defaultdict(list)\n",
    "    meal_info = defaultdict(list)\n",
    "    # Don't test on CAD test set if it is not enabled\n",
    "    if not test_CAD and \"CAD\" in names:\n",
    "        names.remove(\"CAD\")\n",
    "        \n",
    "    for name in names:\n",
    "        person = name\n",
    "        if split_day:\n",
    "            meal_data = Person_MealsDataset(person_name= person, file_name = \"test_files\", winmin = winmin,stridesec = stridesec)\n",
    "\n",
    "            # balance test set\n",
    "            testset_labels = meal_data.labels\n",
    "            if test_balance:\n",
    "                test_indices = balance_data_indices(testset_labels,data_indices=[i for i in range(len(meal_data))] ,mode=\"under\", shuffle=True,random_state = random_seed,replace= False)\n",
    "            else:\n",
    "                test_indices = [i for i in range(len(meal_data))]\n",
    "            # get numpy dataset\n",
    "            test_Data, test_Labels = meal_data.get_subset(test_indices)\n",
    "        else:            \n",
    "            meal_data = Person_MealsDataset(person_name= person, file_name = \"all_files_list\", winmin = winmin,stridesec = stridesec)\n",
    "            samples,labels =  meal_data.data_indices, meal_data.labels\n",
    "            # split train set and test set\n",
    "            train_indices, test_indices = split_train_test_indices(X= [i for i in range(len(labels))],\n",
    "                                                                            y = labels, test_size = 0.2,\n",
    "                                                                           random_seed = random_seed)\n",
    "            \n",
    "            if test_balance:\n",
    "                testset_labels = labels[test_indices]\n",
    "                test_indices = balance_data_indices(testset_labels,data_indices= test_indices,mode=\"under\", shuffle=True,random_state = random_seed,replace= False)\n",
    "            else:\n",
    "                test_indices = test_indices\n",
    "            testset_labels = labels[test_indices]\n",
    "            print(\"Testing on : \", sum(testset_labels==1),\"positive samples, \",sum(testset_labels==0),\" negative samples\" )\n",
    "            test_Data, test_Labels = meal_data.get_subset(test_indices)\n",
    "        if name !=\"CAD\":\n",
    "            meal_counts, min_counts,hour_counts, day_counts,total_hours = meal_data.get_mealdataset_info(person_name=name, file_ls_doc=\"all_files_list.txt\")\n",
    "        else:\n",
    "            # data from paper\n",
    "            meal_counts, min_counts,hour_counts, day_counts,total_hours = 1063, 250*60,250, 354, 4680\n",
    "        meal_info[\"dataset\"].append(name)\n",
    "        meal_info[\"Days\"].append(day_counts)\n",
    "        meal_info[\"Meal_Hours\"].append(round(hour_counts,1)) \n",
    "        meal_info[\"Meal_Counts\"].append(meal_counts) \n",
    "        meal_info[\"Total_Hours\"].append(total_hours) \n",
    "        \n",
    "        perf[\"dataset\"].append(name)\n",
    "        perf[\"win(sec)\"].append(winmin*60)\n",
    "        \n",
    "            \n",
    "        \n",
    "        \n",
    "        from sklearn.metrics import accuracy_score, recall_score, roc_auc_score, f1_score, balanced_accuracy_score, precision_score\n",
    "        group_model_W  = tf.keras.models.load_model('../models/CAD_models/acti_6min_M_F_6.000000Min.h5')\n",
    "        \n",
    "        if name != \"CAD\":\n",
    "            if split_day:\n",
    "                individual_model = tf.keras.models.load_model('../models/'+ name+ '_models/acti_6min_split_day_M_F_6.000000Min.h5')\n",
    "            else:    \n",
    "                individual_model = tf.keras.models.load_model('../models/'+ name+ '_models/acti_6min_M_F_6.000000Min.h5')\n",
    "        models = {\"suffix\":['Individual-Model','GroupModel'],  \"model\":[individual_model,group_model_W]}\n",
    "        \n",
    "        for i in range(len(models[\"suffix\"])):\n",
    "            suffix = models[\"suffix\"][i]\n",
    "            model = models[\"model\"][i]\n",
    "            # if the dataset is CAD group dataset and model is individual model\n",
    "            # we don't need to make prediction on that data\n",
    "            if name == \"CAD\" and suffix =='Individual-Model':\n",
    "                acc = None\n",
    "                auc = None\n",
    "                recall = None\n",
    "            else:\n",
    "\n",
    "                predictions = model.predict(x=test_Data).squeeze(1)\n",
    "                threshold = 0.5\n",
    "                prediction = (predictions>=threshold).astype(int)\n",
    "                wacc =  balanced_accuracy_score(test_Labels,prediction)\n",
    "                acc =  accuracy_score(test_Labels,prediction)\n",
    "                recall = recall_score(test_Labels,prediction)\n",
    "                f1 = f1_score(test_Labels,prediction)\n",
    "                precision = precision_score(test_Labels,prediction)\n",
    "                print(\"Test label: \",test_Labels)\n",
    "                print(\"Predictions:\",prediction)\n",
    "                \n",
    "                # weighted accuracy 2 is computed by (weight*TP +TN)/(weight*(TP+FN) + (TN+FP))\n",
    "                wacc2 = weight_accuracy(test_Labels,prediction)\n",
    "            \n",
    "            \n",
    "            print(\"Weighted Accuracy:\", wacc)\n",
    "            print(\"Weighted Accuracy2:\", wacc2)\n",
    "            print(\"Recall:\", recall)\n",
    "            print(\"Precision:\", precision)\n",
    "            print(\"F1:\", f1)\n",
    "            print(\"Test Accuracy:\", acc)\n",
    "            \n",
    "            perf[\"WAcc: \"+suffix].append(wacc)\n",
    "            perf[\"WAcc2: \"+suffix].append(wacc2)\n",
    "            perf[\"Recall: \"+suffix].append(recall)\n",
    "            perf[\"Precision: \"+suffix].append(precision)\n",
    "            perf[\"F1: \"+suffix].append(f1)\n",
    "            perf[\"Acc: \"+suffix].append(acc)\n",
    "\n",
    "    meal_info = pd.DataFrame(meal_info)\n",
    "    perf_df = pd.DataFrame(perf)\n",
    "    return meal_info, perf_df"
   ]
  },
  {
   "cell_type": "code",
   "execution_count": null,
   "metadata": {},
   "outputs": [],
   "source": []
  },
  {
   "cell_type": "code",
   "execution_count": 148,
   "metadata": {
    "scrolled": true
   },
   "outputs": [
    {
     "name": "stdout",
     "output_type": "stream",
     "text": [
      "Loading Dataset ...\n",
      "Loading File:  ../data/IndividualData/wenkanw-data/11-14-20/11-14-20.shm\n",
      "Loading File:  ../data/IndividualData/wenkanw-data/10-13-20/10-13-20.shm\n",
      "Loading File:  ../data/IndividualData/wenkanw-data/10-9-20/10-10-20.shm\n",
      "Loading File:  ../data/IndividualData/wenkanw-data/11-21-20/Dinner/Dinner.shm\n",
      "Loading File:  ../data/IndividualData/wenkanw-data/9-17-20/9-17-20.shm\n",
      "Loading File:  ../data/IndividualData/wenkanw-data/9-29-20/9-29-20.shm\n",
      "Loading File:  ../data/IndividualData/wenkanw-data/11-22-20/Lunch/Lunch.shm\n",
      "Loading File:  ../data/IndividualData/wenkanw-data/11-21-20/lunch/lunch.shm\n",
      "Loading File:  ../data/IndividualData/wenkanw-data/10-9-20/10-9-20.shm\n",
      "Loading File:  ../data/IndividualData/wenkanw-data/11-18-20/11-18-20.shm\n",
      "Loading File:  ../data/IndividualData/wenkanw-data/10-14-20/10-14-20.shm\n",
      "Loading File:  ../data/IndividualData/wenkanw-data/10-12-20/10-12-20.shm\n",
      "Loading File:  ../data/IndividualData/wenkanw-data/11-16-20/11-16-20.shm\n",
      "Loading File:  ../data/IndividualData/wenkanw-data/9-27-20/9-27-20.shm\n",
      "Loading File:  ../data/IndividualData/wenkanw-data/10-3-20/10-3-20.shm\n",
      "Loading File:  ../data/IndividualData/wenkanw-data/10-10-20/10-10-20.shm\n",
      "Loading File:  ../data/IndividualData/wenkanw-data/11-22-20/Dinner/Dinner.shm\n",
      "Train set size: 73424, with 4370 positive samples and 69054 negative samples\n",
      "Test set size: 18356, with 1092 positive samples and 17264 negative samples\n",
      "Testing on :  1092 positive samples,  17264  negative samples\n",
      "Test label:  [0 0 0 ... 1 0 0]\n",
      "Predictions: [0 0 0 ... 1 0 0]\n",
      "TP:  1012 FP:  835 TN:  16429 FN:  80\n",
      "Weighted Accuracy: 0.939186691822234\n",
      "Weighted Accuracy2: 0.9413650409049453\n",
      "Recall: 0.9267399267399268\n",
      "Precision: 0.547915538711424\n",
      "F1: 0.6886696155154816\n",
      "Test Accuracy: 0.9501525386794508\n",
      "Test label:  [0 0 0 ... 1 0 0]\n",
      "Predictions: [0 0 0 ... 1 0 0]\n",
      "TP:  695 FP:  1584 TN:  15680 FN:  397\n",
      "Weighted Accuracy: 0.7723476322873912\n",
      "Weighted Accuracy2: 0.796132066482447\n",
      "Recall: 0.6364468864468864\n",
      "Precision: 0.3049583150504607\n",
      "F1: 0.4123405517650549\n",
      "Test Accuracy: 0.892078884288516\n",
      "Loading Dataset ...\n",
      "Loading File:  ../data/IndividualData/adam-data/12-01-2020/12-01-2020.shm\n",
      "Loading File:  ../data/IndividualData/adam-data/11-24-2020/11-24-2020.shm\n",
      "Loading File:  ../data/IndividualData/adam-data/11-30-2020/11-30-2020.shm\n",
      "Loading File:  ../data/IndividualData/adam-data/09-22-2020/09-22-2020.shm\n",
      "Loading File:  ../data/IndividualData/adam-data/12-03-2020/12-03-2020.shm\n",
      "Loading File:  ../data/IndividualData/adam-data/12-11-2020/12-11-2020.shm\n",
      "Loading File:  ../data/IndividualData/adam-data/11-25-2020/11-25-2020.shm\n",
      "Loading File:  ../data/IndividualData/adam-data/12-08-2020/12-08-2020.shm\n",
      "Loading File:  ../data/IndividualData/adam-data/12-07-2020/12-07-2020.shm\n",
      "Loading File:  ../data/IndividualData/adam-data/11-26-2020/11-26-2020.shm\n",
      "Loading File:  ../data/IndividualData/adam-data/12-02-2020/12-02-2020.shm\n",
      "Loading File:  ../data/IndividualData/adam-data/12-04-2020/12-04-2020.shm\n",
      "Loading File:  ../data/IndividualData/adam-data/12-09-2020/12-09-2020.shm\n",
      "Loading File:  ../data/IndividualData/adam-data/12-10-2020/12-10-2020.shm\n",
      "Train set size: 71542, with 1785 positive samples and 69757 negative samples\n",
      "Test set size: 17886, with 446 positive samples and 17440 negative samples\n",
      "Testing on :  446 positive samples,  17440  negative samples\n",
      "Test label:  [0 0 0 ... 1 0 0]\n",
      "Predictions: [0 0 0 ... 1 0 0]\n",
      "TP:  435 FP:  357 TN:  17083 FN:  11\n",
      "Weighted Accuracy: 0.9774330696918583\n",
      "Weighted Accuracy2: 0.978602627888489\n",
      "Recall: 0.9753363228699552\n",
      "Precision: 0.5492424242424242\n",
      "F1: 0.702746365105008\n",
      "Test Accuracy: 0.9794252487979426\n",
      "Test label:  [0 0 0 ... 1 0 0]\n",
      "Predictions: [0 0 1 ... 1 0 0]\n",
      "TP:  442 FP:  1194 TN:  16246 FN:  4\n",
      "Weighted Accuracy: 0.9612840436911178\n",
      "Weighted Accuracy2: 0.9446910757192751\n",
      "Recall: 0.9910313901345291\n",
      "Precision: 0.2701711491442543\n",
      "F1: 0.4245917387127762\n",
      "Test Accuracy: 0.933020239293302\n",
      "Loading Dataset ...\n",
      "Loading File:  ../data/IndividualData/lawler-data/10.19/10.19.shm\n",
      "Loading File:  ../data/IndividualData/lawler-data/11.14/11.14.shm\n",
      "Loading File:  ../data/IndividualData/lawler-data/10.10/10.10.shm\n",
      "Loading File:  ../data/IndividualData/lawler-data/11.2/11.2.shm\n",
      "Loading File:  ../data/IndividualData/lawler-data/10.8/10.8.shm\n",
      "Loading File:  ../data/IndividualData/lawler-data/11.15/11.15.shm\n",
      "Loading File:  ../data/IndividualData/lawler-data/10.14/10.14.shm\n",
      "Loading File:  ../data/IndividualData/lawler-data/9.23/9.23_13hr.shm\n",
      "Loading File:  ../data/IndividualData/lawler-data/10.12/10.12.shm\n",
      "Loading File:  ../data/IndividualData/lawler-data/11.11/11.11.shm\n",
      "Loading File:  ../data/IndividualData/lawler-data/11.4/11.4.shm\n",
      "Loading File:  ../data/IndividualData/lawler-data/9.25/9.25_1-46.shm\n",
      "Loading File:  ../data/IndividualData/lawler-data/10.6/10.6.shm\n",
      "Loading File:  ../data/IndividualData/lawler-data/10.4/10.4.shm\n",
      "Loading File:  ../data/IndividualData/lawler-data/10.28/10.28.shm\n",
      "Loading File:  ../data/IndividualData/lawler-data/11.3/11.3.shm\n",
      "Loading File:  ../data/IndividualData/lawler-data/10.20/evening_2hr_20min/10.20.shm\n",
      "Loading File:  ../data/IndividualData/lawler-data/10.26/10.26.shm\n",
      "Loading File:  ../data/IndividualData/lawler-data/10.31/10.31.shm\n",
      "Loading File:  ../data/IndividualData/lawler-data/10.31/evening-2hr_goodDinnerTemplate_CFAmeal/10.31.shm\n",
      "Loading File:  ../data/IndividualData/lawler-data/10.21/10.21.shm\n",
      "Loading File:  ../data/IndividualData/lawler-data/10.16/10.16.shm\n",
      "Loading File:  ../data/IndividualData/lawler-data/10.20/afternoon_2hr33min/10.20.shm\n",
      "Train set size: 95012, with 4184 positive samples and 90828 negative samples\n",
      "Test set size: 23753, with 1046 positive samples and 22707 negative samples\n",
      "Testing on :  1046 positive samples,  22707  negative samples\n",
      "Test label:  [0 0 0 ... 0 0 0]\n",
      "Predictions: [0 0 1 ... 0 0 1]\n",
      "TP:  965 FP:  6046 TN:  16661 FN:  81\n",
      "Weighted Accuracy: 0.8281503181143508\n",
      "Weighted Accuracy2: 0.797622794134788\n",
      "Recall: 0.9225621414913958\n",
      "Precision: 0.13764085009271146\n",
      "F1: 0.2395432543130197\n",
      "Test Accuracy: 0.742053635330274\n",
      "Test label:  [0 0 0 ... 0 0 0]\n",
      "Predictions: [0 0 1 ... 0 0 0]\n",
      "TP:  463 FP:  6301 TN:  16406 FN:  583\n",
      "Weighted Accuracy: 0.5825735504444726\n",
      "Weighted Accuracy2: 0.6278207100729655\n",
      "Recall: 0.44263862332695986\n",
      "Precision: 0.06845062093435837\n",
      "F1: 0.11856594110115239\n",
      "Test Accuracy: 0.7101839767608302\n",
      "Loading Dataset ...\n",
      "Loading File:  ../data/IndividualData/shaurya-data/10.25.2020/Data.shm\n",
      "Loading File:  ../data/IndividualData/shaurya-data/10.22.2020/Data.shm\n",
      "Loading File:  ../data/IndividualData/shaurya-data/11.15.2020/Data.shm\n",
      "Loading File:  ../data/IndividualData/shaurya-data/11.17.2020/Data.shm\n",
      "Loading File:  ../data/IndividualData/shaurya-data/11.1.2020/Data.shm\n",
      "Loading File:  ../data/IndividualData/shaurya-data/11.18.2020/Data.shm\n",
      "Train set size: 37464, with 2241 positive samples and 35223 negative samples\n",
      "Test set size: 9366, with 560 positive samples and 8806 negative samples\n",
      "Testing on :  560 positive samples,  8806  negative samples\n",
      "Test label:  [0 0 0 ... 0 0 0]\n",
      "Predictions: [0 1 0 ... 0 0 0]\n",
      "TP:  468 FP:  1444 TN:  7362 FN:  92\n",
      "Weighted Accuracy: 0.835867590279355\n",
      "Weighted Accuracy2: 0.8358940221009186\n",
      "Recall: 0.8357142857142857\n",
      "Precision: 0.24476987447698745\n",
      "F1: 0.3786407766990292\n",
      "Test Accuracy: 0.8360025624599615\n",
      "Test label:  [0 0 0 ... 0 0 0]\n",
      "Predictions: [0 1 0 ... 0 0 1]\n",
      "TP:  342 FP:  815 TN:  7991 FN:  218\n",
      "Weighted Accuracy: 0.7590818759936407\n",
      "Weighted Accuracy2: 0.7846624950073227\n",
      "Recall: 0.6107142857142858\n",
      "Precision: 0.29559204840103714\n",
      "F1: 0.39836924868957485\n",
      "Test Accuracy: 0.8897074524877215\n",
      "CPU times: user 4min 4s, sys: 11.1 s, total: 4min 15s\n",
      "Wall time: 2min 26s\n"
     ]
    }
   ],
   "source": [
    "# [\"wenkanw\",\"adam\",\"lawler\",\"shaurya\",\"CAD\"]\n",
    "\n",
    "%time meal_info_split_day, performance_split_day = test_models_time_metric(winmin=6, stridesec = 5,names= [\"wenkanw\",\"adam\",\"lawler\",\"shaurya\",\"CAD\"],split_day=False, test_balance=False)"
   ]
  },
  {
   "cell_type": "code",
   "execution_count": 151,
   "metadata": {},
   "outputs": [
    {
     "data": {
      "text/html": [
       "<div>\n",
       "<style scoped>\n",
       "    .dataframe tbody tr th:only-of-type {\n",
       "        vertical-align: middle;\n",
       "    }\n",
       "\n",
       "    .dataframe tbody tr th {\n",
       "        vertical-align: top;\n",
       "    }\n",
       "\n",
       "    .dataframe thead th {\n",
       "        text-align: right;\n",
       "    }\n",
       "</style>\n",
       "<table border=\"1\" class=\"dataframe\">\n",
       "  <thead>\n",
       "    <tr style=\"text-align: right;\">\n",
       "      <th></th>\n",
       "      <th>dataset</th>\n",
       "      <th>win(sec)</th>\n",
       "      <th>WAcc: Individual-Model</th>\n",
       "      <th>WAcc2: Individual-Model</th>\n",
       "      <th>WAcc: GroupModel</th>\n",
       "      <th>WAcc2: GroupModel</th>\n",
       "      <th>F1: Individual-Model</th>\n",
       "      <th>F1: GroupModel</th>\n",
       "      <th>Precision: Individual-Model</th>\n",
       "      <th>Precision: GroupModel</th>\n",
       "      <th>Recall: Individual-Model</th>\n",
       "      <th>Recall: GroupModel</th>\n",
       "      <th>Acc: Individual-Model</th>\n",
       "      <th>Acc: GroupModel</th>\n",
       "    </tr>\n",
       "  </thead>\n",
       "  <tbody>\n",
       "    <tr>\n",
       "      <th>0</th>\n",
       "      <td>wenkanw</td>\n",
       "      <td>360</td>\n",
       "      <td>0.939</td>\n",
       "      <td>0.941</td>\n",
       "      <td>0.772</td>\n",
       "      <td>0.796</td>\n",
       "      <td>0.689</td>\n",
       "      <td>0.412</td>\n",
       "      <td>0.548</td>\n",
       "      <td>0.305</td>\n",
       "      <td>0.927</td>\n",
       "      <td>0.636</td>\n",
       "      <td>0.95</td>\n",
       "      <td>0.892</td>\n",
       "    </tr>\n",
       "    <tr>\n",
       "      <th>1</th>\n",
       "      <td>adam</td>\n",
       "      <td>360</td>\n",
       "      <td>0.977</td>\n",
       "      <td>0.979</td>\n",
       "      <td>0.961</td>\n",
       "      <td>0.945</td>\n",
       "      <td>0.703</td>\n",
       "      <td>0.425</td>\n",
       "      <td>0.549</td>\n",
       "      <td>0.27</td>\n",
       "      <td>0.975</td>\n",
       "      <td>0.991</td>\n",
       "      <td>0.979</td>\n",
       "      <td>0.933</td>\n",
       "    </tr>\n",
       "    <tr>\n",
       "      <th>2</th>\n",
       "      <td>lawler</td>\n",
       "      <td>360</td>\n",
       "      <td>0.828</td>\n",
       "      <td>0.798</td>\n",
       "      <td>0.583</td>\n",
       "      <td>0.628</td>\n",
       "      <td>0.24</td>\n",
       "      <td>0.119</td>\n",
       "      <td>0.138</td>\n",
       "      <td>0.068</td>\n",
       "      <td>0.923</td>\n",
       "      <td>0.443</td>\n",
       "      <td>0.742</td>\n",
       "      <td>0.71</td>\n",
       "    </tr>\n",
       "    <tr>\n",
       "      <th>3</th>\n",
       "      <td>shaurya</td>\n",
       "      <td>360</td>\n",
       "      <td>0.836</td>\n",
       "      <td>0.836</td>\n",
       "      <td>0.759</td>\n",
       "      <td>0.785</td>\n",
       "      <td>0.379</td>\n",
       "      <td>0.398</td>\n",
       "      <td>0.245</td>\n",
       "      <td>0.296</td>\n",
       "      <td>0.836</td>\n",
       "      <td>0.611</td>\n",
       "      <td>0.836</td>\n",
       "      <td>0.89</td>\n",
       "    </tr>\n",
       "    <tr>\n",
       "      <th>4</th>\n",
       "      <td>average performance</td>\n",
       "      <td>-</td>\n",
       "      <td>0.895</td>\n",
       "      <td>0.888</td>\n",
       "      <td>0.769</td>\n",
       "      <td>0.789</td>\n",
       "      <td>0.503</td>\n",
       "      <td>0.338</td>\n",
       "      <td>0.37</td>\n",
       "      <td>0.235</td>\n",
       "      <td>0.915</td>\n",
       "      <td>0.67</td>\n",
       "      <td>0.877</td>\n",
       "      <td>0.856</td>\n",
       "    </tr>\n",
       "  </tbody>\n",
       "</table>\n",
       "</div>"
      ],
      "text/plain": [
       "               dataset win(sec) WAcc: Individual-Model  \\\n",
       "0              wenkanw      360                  0.939   \n",
       "1                 adam      360                  0.977   \n",
       "2               lawler      360                  0.828   \n",
       "3              shaurya      360                  0.836   \n",
       "4  average performance        -                  0.895   \n",
       "\n",
       "  WAcc2: Individual-Model WAcc: GroupModel WAcc2: GroupModel  \\\n",
       "0                   0.941            0.772             0.796   \n",
       "1                   0.979            0.961             0.945   \n",
       "2                   0.798            0.583             0.628   \n",
       "3                   0.836            0.759             0.785   \n",
       "4                   0.888            0.769             0.789   \n",
       "\n",
       "  F1: Individual-Model F1: GroupModel Precision: Individual-Model  \\\n",
       "0                0.689          0.412                       0.548   \n",
       "1                0.703          0.425                       0.549   \n",
       "2                 0.24          0.119                       0.138   \n",
       "3                0.379          0.398                       0.245   \n",
       "4                0.503          0.338                        0.37   \n",
       "\n",
       "  Precision: GroupModel Recall: Individual-Model Recall: GroupModel  \\\n",
       "0                 0.305                    0.927              0.636   \n",
       "1                  0.27                    0.975              0.991   \n",
       "2                 0.068                    0.923              0.443   \n",
       "3                 0.296                    0.836              0.611   \n",
       "4                 0.235                    0.915               0.67   \n",
       "\n",
       "  Acc: Individual-Model Acc: GroupModel  \n",
       "0                  0.95           0.892  \n",
       "1                 0.979           0.933  \n",
       "2                 0.742            0.71  \n",
       "3                 0.836            0.89  \n",
       "4                 0.877           0.856  "
      ]
     },
     "execution_count": 151,
     "metadata": {},
     "output_type": "execute_result"
    }
   ],
   "source": [
    "print_time_metrics(performance_split_day)"
   ]
  },
  {
   "cell_type": "markdown",
   "metadata": {},
   "source": [
    "## 2.2 Save Time Metric Comparison Results"
   ]
  },
  {
   "cell_type": "code",
   "execution_count": 51,
   "metadata": {},
   "outputs": [],
   "source": [
    "def print_time_metrics(result, old_result = None,round_decimal = 3,):\n",
    "    perf_df = pd.DataFrame()\n",
    "    mykeys = [\"dataset\",\"win(sec)\",\"WAcc\", \"F1\",\"Precision\",\"Recall\"]\n",
    "    numerics = ['int16', 'int32', 'int64', 'float16', 'float32', 'float64']    \n",
    "    for k in mykeys:\n",
    "        for key in result.keys():\n",
    "            if k in key:\n",
    "                perf_df[key] = result[key]\n",
    "                if result[key].dtype in numerics:\n",
    "                    perf_df[key] = np.round(perf_df[key],round_decimal)\n",
    "    for key in result.keys():\n",
    "        if \"WAcc\" not in key and \"Acc\" in key:\n",
    "            perf_df[key] = result[key].values.round(round_decimal)\n",
    "    \n",
    "    if not isinstance(old_result, type(None)):\n",
    "        # remove average performance from old results and append new data to table\n",
    "        idx =old_result[(old_result['dataset']==\"average performance\") | (old_result['dataset']==result[\"dataset\"].values[0])].index\n",
    "        print(\"index\",idx)\n",
    "        new_result = old_result.drop(index=idx,axis=0)\n",
    "        perf_df= new_result.append(perf_df, ignore_index=True)\n",
    "        \n",
    "    mean_perf = pd.DataFrame(columns = perf_df.keys())\n",
    "    mean_perf = mean_perf.append({\"dataset\":\"average performance\",\"win(sec)\":\"-\"},ignore_index=True)\n",
    "    for key in perf_df.keys():\n",
    "        if key.lower() != \"dataset\" and  key.lower() != \"win(sec)\":\n",
    "            mean_perf[key].at[0] = perf_df[key].mean().round(round_decimal)\n",
    "    \n",
    "    perf_df = perf_df.append(mean_perf,ignore_index=True)\n",
    "            \n",
    "    return perf_df"
   ]
  },
  {
   "cell_type": "code",
   "execution_count": 177,
   "metadata": {},
   "outputs": [
    {
     "data": {
      "text/html": [
       "<div>\n",
       "<style scoped>\n",
       "    .dataframe tbody tr th:only-of-type {\n",
       "        vertical-align: middle;\n",
       "    }\n",
       "\n",
       "    .dataframe tbody tr th {\n",
       "        vertical-align: top;\n",
       "    }\n",
       "\n",
       "    .dataframe thead th {\n",
       "        text-align: right;\n",
       "    }\n",
       "</style>\n",
       "<table border=\"1\" class=\"dataframe\">\n",
       "  <thead>\n",
       "    <tr style=\"text-align: right;\">\n",
       "      <th></th>\n",
       "      <th>dataset</th>\n",
       "      <th>win(sec)</th>\n",
       "      <th>WAcc: Individual-Model</th>\n",
       "      <th>WAcc2: Individual-Model</th>\n",
       "      <th>WAcc: GroupModel</th>\n",
       "      <th>WAcc2: GroupModel</th>\n",
       "      <th>F1: Individual-Model</th>\n",
       "      <th>F1: GroupModel</th>\n",
       "      <th>Precision: Individual-Model</th>\n",
       "      <th>Precision: GroupModel</th>\n",
       "      <th>Recall: Individual-Model</th>\n",
       "      <th>Recall: GroupModel</th>\n",
       "      <th>Acc: Individual-Model</th>\n",
       "      <th>Acc: GroupModel</th>\n",
       "    </tr>\n",
       "  </thead>\n",
       "  <tbody>\n",
       "    <tr>\n",
       "      <th>0</th>\n",
       "      <td>wenkanw</td>\n",
       "      <td>360</td>\n",
       "      <td>0.939</td>\n",
       "      <td>0.941</td>\n",
       "      <td>0.772</td>\n",
       "      <td>0.796</td>\n",
       "      <td>0.689</td>\n",
       "      <td>0.412</td>\n",
       "      <td>0.548</td>\n",
       "      <td>0.305</td>\n",
       "      <td>0.927</td>\n",
       "      <td>0.636</td>\n",
       "      <td>0.950</td>\n",
       "      <td>0.892</td>\n",
       "    </tr>\n",
       "    <tr>\n",
       "      <th>1</th>\n",
       "      <td>adam</td>\n",
       "      <td>360</td>\n",
       "      <td>0.977</td>\n",
       "      <td>0.979</td>\n",
       "      <td>0.961</td>\n",
       "      <td>0.945</td>\n",
       "      <td>0.703</td>\n",
       "      <td>0.425</td>\n",
       "      <td>0.549</td>\n",
       "      <td>0.270</td>\n",
       "      <td>0.975</td>\n",
       "      <td>0.991</td>\n",
       "      <td>0.979</td>\n",
       "      <td>0.933</td>\n",
       "    </tr>\n",
       "    <tr>\n",
       "      <th>2</th>\n",
       "      <td>lawler</td>\n",
       "      <td>360</td>\n",
       "      <td>0.828</td>\n",
       "      <td>0.798</td>\n",
       "      <td>0.583</td>\n",
       "      <td>0.628</td>\n",
       "      <td>0.240</td>\n",
       "      <td>0.119</td>\n",
       "      <td>0.138</td>\n",
       "      <td>0.068</td>\n",
       "      <td>0.923</td>\n",
       "      <td>0.443</td>\n",
       "      <td>0.742</td>\n",
       "      <td>0.710</td>\n",
       "    </tr>\n",
       "    <tr>\n",
       "      <th>3</th>\n",
       "      <td>shaurya</td>\n",
       "      <td>360</td>\n",
       "      <td>0.836</td>\n",
       "      <td>0.836</td>\n",
       "      <td>0.759</td>\n",
       "      <td>0.785</td>\n",
       "      <td>0.379</td>\n",
       "      <td>0.398</td>\n",
       "      <td>0.245</td>\n",
       "      <td>0.296</td>\n",
       "      <td>0.836</td>\n",
       "      <td>0.611</td>\n",
       "      <td>0.836</td>\n",
       "      <td>0.890</td>\n",
       "    </tr>\n",
       "    <tr>\n",
       "      <th>4</th>\n",
       "      <td>average performance</td>\n",
       "      <td>-</td>\n",
       "      <td>0.895</td>\n",
       "      <td>0.888</td>\n",
       "      <td>0.769</td>\n",
       "      <td>0.789</td>\n",
       "      <td>0.503</td>\n",
       "      <td>0.338</td>\n",
       "      <td>0.370</td>\n",
       "      <td>0.235</td>\n",
       "      <td>0.915</td>\n",
       "      <td>0.670</td>\n",
       "      <td>0.877</td>\n",
       "      <td>0.856</td>\n",
       "    </tr>\n",
       "  </tbody>\n",
       "</table>\n",
       "</div>"
      ],
      "text/plain": [
       "               dataset win(sec)  WAcc: Individual-Model  \\\n",
       "0              wenkanw      360                   0.939   \n",
       "1                 adam      360                   0.977   \n",
       "2               lawler      360                   0.828   \n",
       "3              shaurya      360                   0.836   \n",
       "4  average performance        -                   0.895   \n",
       "\n",
       "   WAcc2: Individual-Model  WAcc: GroupModel  WAcc2: GroupModel  \\\n",
       "0                    0.941             0.772              0.796   \n",
       "1                    0.979             0.961              0.945   \n",
       "2                    0.798             0.583              0.628   \n",
       "3                    0.836             0.759              0.785   \n",
       "4                    0.888             0.769              0.789   \n",
       "\n",
       "   F1: Individual-Model  F1: GroupModel  Precision: Individual-Model  \\\n",
       "0                 0.689           0.412                        0.548   \n",
       "1                 0.703           0.425                        0.549   \n",
       "2                 0.240           0.119                        0.138   \n",
       "3                 0.379           0.398                        0.245   \n",
       "4                 0.503           0.338                        0.370   \n",
       "\n",
       "   Precision: GroupModel  Recall: Individual-Model  Recall: GroupModel  \\\n",
       "0                  0.305                     0.927               0.636   \n",
       "1                  0.270                     0.975               0.991   \n",
       "2                  0.068                     0.923               0.443   \n",
       "3                  0.296                     0.836               0.611   \n",
       "4                  0.235                     0.915               0.670   \n",
       "\n",
       "   Acc: Individual-Model  Acc: GroupModel  \n",
       "0                  0.950            0.892  \n",
       "1                  0.979            0.933  \n",
       "2                  0.742            0.710  \n",
       "3                  0.836            0.890  \n",
       "4                  0.877            0.856  "
      ]
     },
     "execution_count": 177,
     "metadata": {},
     "output_type": "execute_result"
    }
   ],
   "source": [
    "\n",
    "comparison_perf_df = print_time_metrics(performance_split_day)\n",
    "num_subject = len(comparison_perf_df)-1\n",
    "path = \"../results/time_metrics/\" +str(num_subject)+\"_subjects_individuals_group_comparison_time_metrics.csv\"\n",
    "comparison_perf_df.to_csv(path)\n",
    "comparison_perf_df = pd.read_csv(path,index_col=0)\n",
    "comparison_perf_df"
   ]
  },
  {
   "cell_type": "code",
   "execution_count": null,
   "metadata": {},
   "outputs": [],
   "source": []
  },
  {
   "cell_type": "code",
   "execution_count": 23,
   "metadata": {},
   "outputs": [],
   "source": [
    "if not isinstance(performance_split_day, type(None)):\n",
    "    print(type(performance_split_day))"
   ]
  },
  {
   "cell_type": "code",
   "execution_count": null,
   "metadata": {},
   "outputs": [],
   "source": []
  },
  {
   "cell_type": "code",
   "execution_count": null,
   "metadata": {},
   "outputs": [],
   "source": []
  },
  {
   "cell_type": "markdown",
   "metadata": {},
   "source": [
    "# 2.3 Update individual performances here"
   ]
  },
  {
   "cell_type": "code",
   "execution_count": 54,
   "metadata": {},
   "outputs": [
    {
     "data": {
      "text/html": [
       "<div>\n",
       "<style scoped>\n",
       "    .dataframe tbody tr th:only-of-type {\n",
       "        vertical-align: middle;\n",
       "    }\n",
       "\n",
       "    .dataframe tbody tr th {\n",
       "        vertical-align: top;\n",
       "    }\n",
       "\n",
       "    .dataframe thead th {\n",
       "        text-align: right;\n",
       "    }\n",
       "</style>\n",
       "<table border=\"1\" class=\"dataframe\">\n",
       "  <thead>\n",
       "    <tr style=\"text-align: right;\">\n",
       "      <th></th>\n",
       "      <th>win(sec)</th>\n",
       "      <th>WAcc: Individual-Model</th>\n",
       "      <th>WAcc2: Individual-Model</th>\n",
       "      <th>WAcc: GroupModel</th>\n",
       "      <th>WAcc2: GroupModel</th>\n",
       "      <th>F1: Individual-Model</th>\n",
       "      <th>F1: GroupModel</th>\n",
       "      <th>Precision: Individual-Model</th>\n",
       "      <th>Precision: GroupModel</th>\n",
       "      <th>Recall: Individual-Model</th>\n",
       "      <th>Recall: GroupModel</th>\n",
       "      <th>Acc: Individual-Model</th>\n",
       "      <th>Acc: GroupModel</th>\n",
       "    </tr>\n",
       "    <tr>\n",
       "      <th>dataset</th>\n",
       "      <th></th>\n",
       "      <th></th>\n",
       "      <th></th>\n",
       "      <th></th>\n",
       "      <th></th>\n",
       "      <th></th>\n",
       "      <th></th>\n",
       "      <th></th>\n",
       "      <th></th>\n",
       "      <th></th>\n",
       "      <th></th>\n",
       "      <th></th>\n",
       "      <th></th>\n",
       "    </tr>\n",
       "  </thead>\n",
       "  <tbody>\n",
       "    <tr>\n",
       "      <th>wenkanw</th>\n",
       "      <td>360</td>\n",
       "      <td>0.939</td>\n",
       "      <td>0.941</td>\n",
       "      <td>0.772</td>\n",
       "      <td>0.796</td>\n",
       "      <td>0.689</td>\n",
       "      <td>0.412</td>\n",
       "      <td>0.548</td>\n",
       "      <td>0.305</td>\n",
       "      <td>0.927</td>\n",
       "      <td>0.636</td>\n",
       "      <td>0.950</td>\n",
       "      <td>0.892</td>\n",
       "    </tr>\n",
       "    <tr>\n",
       "      <th>adam</th>\n",
       "      <td>360</td>\n",
       "      <td>0.977</td>\n",
       "      <td>0.979</td>\n",
       "      <td>0.961</td>\n",
       "      <td>0.945</td>\n",
       "      <td>0.703</td>\n",
       "      <td>0.425</td>\n",
       "      <td>0.549</td>\n",
       "      <td>0.270</td>\n",
       "      <td>0.975</td>\n",
       "      <td>0.991</td>\n",
       "      <td>0.979</td>\n",
       "      <td>0.933</td>\n",
       "    </tr>\n",
       "    <tr>\n",
       "      <th>lawler</th>\n",
       "      <td>360</td>\n",
       "      <td>0.828</td>\n",
       "      <td>0.798</td>\n",
       "      <td>0.583</td>\n",
       "      <td>0.628</td>\n",
       "      <td>0.240</td>\n",
       "      <td>0.119</td>\n",
       "      <td>0.138</td>\n",
       "      <td>0.068</td>\n",
       "      <td>0.923</td>\n",
       "      <td>0.443</td>\n",
       "      <td>0.742</td>\n",
       "      <td>0.710</td>\n",
       "    </tr>\n",
       "    <tr>\n",
       "      <th>shaurya</th>\n",
       "      <td>360</td>\n",
       "      <td>0.870</td>\n",
       "      <td>0.871</td>\n",
       "      <td>0.769</td>\n",
       "      <td>0.780</td>\n",
       "      <td>0.494</td>\n",
       "      <td>0.416</td>\n",
       "      <td>0.347</td>\n",
       "      <td>0.307</td>\n",
       "      <td>0.861</td>\n",
       "      <td>0.646</td>\n",
       "      <td>0.878</td>\n",
       "      <td>0.874</td>\n",
       "    </tr>\n",
       "    <tr>\n",
       "      <th>average performance</th>\n",
       "      <td>-</td>\n",
       "      <td>0.904</td>\n",
       "      <td>0.897</td>\n",
       "      <td>0.771</td>\n",
       "      <td>0.787</td>\n",
       "      <td>0.532</td>\n",
       "      <td>0.343</td>\n",
       "      <td>0.395</td>\n",
       "      <td>0.238</td>\n",
       "      <td>0.922</td>\n",
       "      <td>0.679</td>\n",
       "      <td>0.887</td>\n",
       "      <td>0.852</td>\n",
       "    </tr>\n",
       "  </tbody>\n",
       "</table>\n",
       "</div>"
      ],
      "text/plain": [
       "                    win(sec)  WAcc: Individual-Model  WAcc2: Individual-Model  \\\n",
       "dataset                                                                         \n",
       "wenkanw                  360                   0.939                    0.941   \n",
       "adam                     360                   0.977                    0.979   \n",
       "lawler                   360                   0.828                    0.798   \n",
       "shaurya                  360                   0.870                    0.871   \n",
       "average performance        -                   0.904                    0.897   \n",
       "\n",
       "                     WAcc: GroupModel  WAcc2: GroupModel  \\\n",
       "dataset                                                    \n",
       "wenkanw                         0.772              0.796   \n",
       "adam                            0.961              0.945   \n",
       "lawler                          0.583              0.628   \n",
       "shaurya                         0.769              0.780   \n",
       "average performance             0.771              0.787   \n",
       "\n",
       "                     F1: Individual-Model  F1: GroupModel  \\\n",
       "dataset                                                     \n",
       "wenkanw                             0.689           0.412   \n",
       "adam                                0.703           0.425   \n",
       "lawler                              0.240           0.119   \n",
       "shaurya                             0.494           0.416   \n",
       "average performance                 0.532           0.343   \n",
       "\n",
       "                     Precision: Individual-Model  Precision: GroupModel  \\\n",
       "dataset                                                                   \n",
       "wenkanw                                    0.548                  0.305   \n",
       "adam                                       0.549                  0.270   \n",
       "lawler                                     0.138                  0.068   \n",
       "shaurya                                    0.347                  0.307   \n",
       "average performance                        0.395                  0.238   \n",
       "\n",
       "                     Recall: Individual-Model  Recall: GroupModel  \\\n",
       "dataset                                                             \n",
       "wenkanw                                 0.927               0.636   \n",
       "adam                                    0.975               0.991   \n",
       "lawler                                  0.923               0.443   \n",
       "shaurya                                 0.861               0.646   \n",
       "average performance                     0.922               0.679   \n",
       "\n",
       "                     Acc: Individual-Model  Acc: GroupModel  \n",
       "dataset                                                      \n",
       "wenkanw                              0.950            0.892  \n",
       "adam                                 0.979            0.933  \n",
       "lawler                               0.742            0.710  \n",
       "shaurya                              0.878            0.874  \n",
       "average performance                  0.887            0.852  "
      ]
     },
     "execution_count": 54,
     "metadata": {},
     "output_type": "execute_result"
    }
   ],
   "source": [
    "time_metric_path = \"../results/time_metrics/updated_subjects_individuals_group_comparison_time_metrics.csv\"\n",
    "comparison_perf_df = pd.read_csv(time_metric_path,index_col=0)\n",
    "comparison_perf_df"
   ]
  },
  {
   "cell_type": "code",
   "execution_count": 15,
   "metadata": {
    "scrolled": true
   },
   "outputs": [
    {
     "name": "stdout",
     "output_type": "stream",
     "text": [
      "Loading Dataset ...\n",
      "Loading File:  ../data/IndividualData/shaurya-data/12.3.2020/Consensys Exported Data.shm\n",
      "Loading File:  ../data/IndividualData/shaurya-data/11.15.2020/Data.shm\n",
      "Loading File:  ../data/IndividualData/shaurya-data/10.22.2020/Data.shm\n",
      "Loading File:  ../data/IndividualData/shaurya-data/1.16.2021/Consensys Exported Data.shm\n",
      "Loading File:  ../data/IndividualData/shaurya-data/1.10.2021/Consensys Exported Data.shm\n",
      "Loading File:  ../data/IndividualData/shaurya-data/10.25.2020/Data.shm\n",
      "Loading File:  ../data/IndividualData/shaurya-data/11.1.2020/Data.shm\n",
      "Loading File:  ../data/IndividualData/shaurya-data/11.18.2020/Data.shm\n",
      "Loading File:  ../data/IndividualData/shaurya-data/11.17.2020/Data.shm\n",
      "Loading File:  ../data/IndividualData/shaurya-data/1.13.2021/Consensys Exported Data.shm\n",
      "Loading File:  ../data/IndividualData/shaurya-data/1.11.2021/Consensys Exported Data.shm\n",
      "Loading File:  ../data/IndividualData/shaurya-data/1.12.2021/Consensys Exported Data.shm\n",
      "Loading File:  ../data/IndividualData/shaurya-data/1.19.2021/Consensys Exported Data.shm\n",
      "Train set size: 76469, with 5308 positive samples and 71161 negative samples\n",
      "Test set size: 19118, with 1327 positive samples and 17791 negative samples\n",
      "Testing on :  1327 positive samples,  17791  negative samples\n",
      "Test label:  [0 0 0 ... 0 0 0]\n",
      "Predictions: [0 0 0 ... 0 0 0]\n",
      "TP:  1142 FP:  2151 TN:  15640 FN:  185\n",
      "Weighted Accuracy: 0.8698419821169836\n",
      "Weighted Accuracy2: 0.8706719667783447\n",
      "Recall: 0.8605877920120573\n",
      "Precision: 0.3467962344366839\n",
      "F1: 0.49437229437229435\n",
      "Test Accuracy: 0.8778114865571712\n",
      "Test label:  [0 0 0 ... 0 0 0]\n",
      "Predictions: [0 1 0 ... 0 0 1]\n",
      "TP:  857 FP:  1932 TN:  15859 FN:  470\n",
      "Weighted Accuracy: 0.7686117003605923\n",
      "Weighted Accuracy2: 0.7796247863928412\n",
      "Recall: 0.6458176337603617\n",
      "Precision: 0.30727859447830763\n",
      "F1: 0.4164237123420797\n",
      "Test Accuracy: 0.8743592425985982\n",
      "CPU times: user 49.6 s, sys: 1.77 s, total: 51.3 s\n",
      "Wall time: 38.4 s\n"
     ]
    }
   ],
   "source": [
    "%time meal_info_split_day, performance_split_day = test_models_time_metric(winmin=6, stridesec = 5,names= [\"shaurya\"],split_day=False, test_balance=False)"
   ]
  },
  {
   "cell_type": "code",
   "execution_count": 53,
   "metadata": {},
   "outputs": [
    {
     "name": "stdout",
     "output_type": "stream",
     "text": [
      "index Int64Index([3, 4], dtype='int64')\n"
     ]
    },
    {
     "data": {
      "text/html": [
       "<div>\n",
       "<style scoped>\n",
       "    .dataframe tbody tr th:only-of-type {\n",
       "        vertical-align: middle;\n",
       "    }\n",
       "\n",
       "    .dataframe tbody tr th {\n",
       "        vertical-align: top;\n",
       "    }\n",
       "\n",
       "    .dataframe thead th {\n",
       "        text-align: right;\n",
       "    }\n",
       "</style>\n",
       "<table border=\"1\" class=\"dataframe\">\n",
       "  <thead>\n",
       "    <tr style=\"text-align: right;\">\n",
       "      <th></th>\n",
       "      <th>dataset</th>\n",
       "      <th>win(sec)</th>\n",
       "      <th>WAcc: Individual-Model</th>\n",
       "      <th>WAcc2: Individual-Model</th>\n",
       "      <th>WAcc: GroupModel</th>\n",
       "      <th>WAcc2: GroupModel</th>\n",
       "      <th>F1: Individual-Model</th>\n",
       "      <th>F1: GroupModel</th>\n",
       "      <th>Precision: Individual-Model</th>\n",
       "      <th>Precision: GroupModel</th>\n",
       "      <th>Recall: Individual-Model</th>\n",
       "      <th>Recall: GroupModel</th>\n",
       "      <th>Acc: Individual-Model</th>\n",
       "      <th>Acc: GroupModel</th>\n",
       "    </tr>\n",
       "  </thead>\n",
       "  <tbody>\n",
       "    <tr>\n",
       "      <th>0</th>\n",
       "      <td>wenkanw</td>\n",
       "      <td>360</td>\n",
       "      <td>0.939</td>\n",
       "      <td>0.941</td>\n",
       "      <td>0.772</td>\n",
       "      <td>0.796</td>\n",
       "      <td>0.689</td>\n",
       "      <td>0.412</td>\n",
       "      <td>0.548</td>\n",
       "      <td>0.305</td>\n",
       "      <td>0.927</td>\n",
       "      <td>0.636</td>\n",
       "      <td>0.950</td>\n",
       "      <td>0.892</td>\n",
       "    </tr>\n",
       "    <tr>\n",
       "      <th>1</th>\n",
       "      <td>adam</td>\n",
       "      <td>360</td>\n",
       "      <td>0.977</td>\n",
       "      <td>0.979</td>\n",
       "      <td>0.961</td>\n",
       "      <td>0.945</td>\n",
       "      <td>0.703</td>\n",
       "      <td>0.425</td>\n",
       "      <td>0.549</td>\n",
       "      <td>0.270</td>\n",
       "      <td>0.975</td>\n",
       "      <td>0.991</td>\n",
       "      <td>0.979</td>\n",
       "      <td>0.933</td>\n",
       "    </tr>\n",
       "    <tr>\n",
       "      <th>2</th>\n",
       "      <td>lawler</td>\n",
       "      <td>360</td>\n",
       "      <td>0.828</td>\n",
       "      <td>0.798</td>\n",
       "      <td>0.583</td>\n",
       "      <td>0.628</td>\n",
       "      <td>0.240</td>\n",
       "      <td>0.119</td>\n",
       "      <td>0.138</td>\n",
       "      <td>0.068</td>\n",
       "      <td>0.923</td>\n",
       "      <td>0.443</td>\n",
       "      <td>0.742</td>\n",
       "      <td>0.710</td>\n",
       "    </tr>\n",
       "    <tr>\n",
       "      <th>3</th>\n",
       "      <td>shaurya</td>\n",
       "      <td>360</td>\n",
       "      <td>0.870</td>\n",
       "      <td>0.871</td>\n",
       "      <td>0.769</td>\n",
       "      <td>0.780</td>\n",
       "      <td>0.494</td>\n",
       "      <td>0.416</td>\n",
       "      <td>0.347</td>\n",
       "      <td>0.307</td>\n",
       "      <td>0.861</td>\n",
       "      <td>0.646</td>\n",
       "      <td>0.878</td>\n",
       "      <td>0.874</td>\n",
       "    </tr>\n",
       "    <tr>\n",
       "      <th>4</th>\n",
       "      <td>average performance</td>\n",
       "      <td>-</td>\n",
       "      <td>0.904</td>\n",
       "      <td>0.897</td>\n",
       "      <td>0.771</td>\n",
       "      <td>0.787</td>\n",
       "      <td>0.532</td>\n",
       "      <td>0.343</td>\n",
       "      <td>0.395</td>\n",
       "      <td>0.238</td>\n",
       "      <td>0.922</td>\n",
       "      <td>0.679</td>\n",
       "      <td>0.887</td>\n",
       "      <td>0.852</td>\n",
       "    </tr>\n",
       "  </tbody>\n",
       "</table>\n",
       "</div>"
      ],
      "text/plain": [
       "               dataset win(sec)  WAcc: Individual-Model  \\\n",
       "0              wenkanw      360                   0.939   \n",
       "1                 adam      360                   0.977   \n",
       "2               lawler      360                   0.828   \n",
       "3              shaurya      360                   0.870   \n",
       "4  average performance        -                   0.904   \n",
       "\n",
       "   WAcc2: Individual-Model  WAcc: GroupModel  WAcc2: GroupModel  \\\n",
       "0                    0.941             0.772              0.796   \n",
       "1                    0.979             0.961              0.945   \n",
       "2                    0.798             0.583              0.628   \n",
       "3                    0.871             0.769              0.780   \n",
       "4                    0.897             0.771              0.787   \n",
       "\n",
       "   F1: Individual-Model  F1: GroupModel  Precision: Individual-Model  \\\n",
       "0                 0.689           0.412                        0.548   \n",
       "1                 0.703           0.425                        0.549   \n",
       "2                 0.240           0.119                        0.138   \n",
       "3                 0.494           0.416                        0.347   \n",
       "4                 0.532           0.343                        0.395   \n",
       "\n",
       "   Precision: GroupModel  Recall: Individual-Model  Recall: GroupModel  \\\n",
       "0                  0.305                     0.927               0.636   \n",
       "1                  0.270                     0.975               0.991   \n",
       "2                  0.068                     0.923               0.443   \n",
       "3                  0.307                     0.861               0.646   \n",
       "4                  0.238                     0.922               0.679   \n",
       "\n",
       "   Acc: Individual-Model  Acc: GroupModel  \n",
       "0                  0.950            0.892  \n",
       "1                  0.979            0.933  \n",
       "2                  0.742            0.710  \n",
       "3                  0.878            0.874  \n",
       "4                  0.887            0.852  "
      ]
     },
     "execution_count": 53,
     "metadata": {},
     "output_type": "execute_result"
    }
   ],
   "source": [
    "update_perf_df = print_time_metrics(performance_split_day, old_result = comparison_perf_df)\n",
    "time_metric_path = \"../results/time_metrics/updated_subjects_individuals_group_comparison_time_metrics.csv\"\n",
    "update_perf_df.to_csv(time_metric_path,index= False)\n",
    "update_perf_df = pd.read_csv(time_metric_path)\n",
    "update_perf_df"
   ]
  },
  {
   "cell_type": "code",
   "execution_count": null,
   "metadata": {},
   "outputs": [],
   "source": []
  },
  {
   "cell_type": "code",
   "execution_count": null,
   "metadata": {},
   "outputs": [],
   "source": []
  },
  {
   "cell_type": "code",
   "execution_count": null,
   "metadata": {},
   "outputs": [],
   "source": []
  },
  {
   "cell_type": "code",
   "execution_count": null,
   "metadata": {},
   "outputs": [],
   "source": []
  },
  {
   "cell_type": "markdown",
   "metadata": {},
   "source": [
    "# 3. Test Episode-Based Metric Performance"
   ]
  },
  {
   "cell_type": "markdown",
   "metadata": {},
   "source": [
    "## 3.1 Hysteresis Threshold"
   ]
  },
  {
   "cell_type": "code",
   "execution_count": 55,
   "metadata": {},
   "outputs": [],
   "source": [
    "def save_proba(result,path=\"proba.csv\"):\n",
    "    \"\"\"\n",
    "    Save predicted probability to csv files\n",
    "    \"\"\"\n",
    "    df = pd.DataFrame(columns=[\"day\",\"proba\",\"labels\"])\n",
    "    for day in range(len(result)):\n",
    "        dat = {\"day\":[],\"proba\":[],\"labels\":[]}\n",
    "        dat[\"proba\"] = result[\"proba\"].iloc[day]\n",
    "        dat[\"day\"] = [day]*len(result[\"proba\"].iloc[day])\n",
    "        dat[\"labels\"] = result[\"labels\"].iloc[day]\n",
    "        dat = pd.DataFrame(dat)\n",
    "        df =df.append(dat)\n",
    "    df.to_csv(path, index=False)\n",
    "    print(\"File \"+path+\" Saved\")\n",
    "    \n",
    "def load_proba(path):\n",
    "    \"\"\"\n",
    "    Load predicted probability on individual dataset\n",
    "    \"\"\"\n",
    "    proba_ls = []\n",
    "    labels_ls = []\n",
    "    df = pd.read_csv(path)\n",
    "    for i in df['day'].unique():\n",
    "        probas = df[df['day']==i][\"proba\"].values\n",
    "        labels = df[df['day']==i][\"labels\"].values\n",
    "        proba_ls.append(probas)\n",
    "        labels_ls.append(labels)\n",
    "    return proba_ls,labels_ls\n",
    "    \n",
    "def hysteresis_threshold(model, data,start_threshold=0.8, end_threshold=0.3, winmin = 6,\n",
    "                        stepsec=5, episode_min = 1.,t_pause = 900,load_proba_flag = True,\n",
    "                         path =\"../results/possibility_results/\", file_name= None):\n",
    "    \"\"\"\n",
    "    model: tensorflow model\n",
    "    data:  This dataset must be the self-defined class of Person_MealsDataset  datasetset in my dataset.py/pytorch dataset without using shuffle. \n",
    "    Keep the order of dataset after extracting window samples!  You can also define your own dataset using class object to create the interface\n",
    "    \n",
    "    start_threshold: the high threshold of the beginning of segmentation\n",
    "    \n",
    "    end_threshold: the end threshold of the end of segmentation\n",
    "    \n",
    "    winmin: size of a window sample in unit of  minute\n",
    "    \n",
    "    stepsec: stride to move the window in unit of second / the number of second between two adjacent window samples\n",
    "    \n",
    "    episode_min: the minimum length of eating episode in unit of minute. If end of segmentation -start of segmentation < episode_min,\n",
    "        then the episode will not be counted\n",
    "    file_name: csv file that store predicted possibility of model\n",
    "    path: path to load / save predicted probability\n",
    "    \n",
    "    load_proba_flag: if enabled,  load saved probability to do hysteresis threshold\n",
    "    \"\"\"\n",
    "    result_ls = []\n",
    "    proba_ls,labels_ls = [],[]\n",
    "    if file_name == None:\n",
    "        file_name =path+\"{}_{}min_{}slide_proba.csv\".format(data.person_name, winmin,stepsec)\n",
    "    \n",
    "    if load_proba_flag and  os.path.isfile(file_name):\n",
    "        # load generated probability if we already generate it\n",
    "        proba_ls,labels_ls = load_proba(file_name)\n",
    "        pass\n",
    "    else:\n",
    "        # generate possibility for hysteresis threshold if we have not done yet\n",
    "        days = set(data.data_indices[:,0])\n",
    "        #pbar = tqdm(days, total=len(days))\n",
    "        for day in days:\n",
    "            # Select and Extract the data and labels of the corresponding day from the whole dataset\n",
    "            sample_indices= np.where(data.data_indices[:,0]==day)[0]\n",
    "\n",
    "            # get the numpy array of samples and labels\n",
    "            import time\n",
    "            start_time = time.time()\n",
    "            samples, labels = data.get_subset(sample_indices)\n",
    "            #print(\"--- Get data:  %s seconds ---\" % (time.time() - start_time))\n",
    "            probas = model(samples).numpy().squeeze()\n",
    "            #print(\"--- Prediction %s seconds ---\" % (time.time() - start_time))\n",
    "            print(\"--- Day %d: %s seconds ---\" % (day, time.time() - start_time))\n",
    "            proba_ls.append(probas)\n",
    "            labels_ls.append(labels)\n",
    "        df = {}\n",
    "        df[\"day\"] = list(days)\n",
    "        df[\"proba\"]=proba_ls\n",
    "        df['labels'] = labels_ls\n",
    "        df = pd.DataFrame(df)\n",
    "        save_proba(df,path=file_name)   \n",
    "\n",
    "        \n",
    "    days = set(data.data_indices[:,0])\n",
    "    pbar = tqdm(days, total=len(days))\n",
    "    for day in pbar:\n",
    "        \n",
    "        # Select and Extract the data and labels of the corresponding day from the whole dataset\n",
    "        sample_indices= np.where(data.data_indices[:,0]==day)[0]\n",
    "        \n",
    "#         # get the numpy array of samples and labels\n",
    "#         import time\n",
    "#         start_time = time.time()\n",
    "#         samples, labels = data.get_subset(sample_indices)\n",
    "#         print(\"--- Get data:  %s seconds ---\" % (time.time() - start_time))\n",
    "#         probas = model(samples).numpy().squeeze()\n",
    "#         print(\"--- Prediction %s seconds ---\" % (time.time() - start_time))\n",
    "        probas = proba_ls[day]\n",
    "        labels = labels_ls[day]\n",
    "        result = {'day':day,\"stepsec\": stepsec,'segment_start':[], 'segment_end':[],'proba':[],'predictions':np.zeros([len(sample_indices)]),'labels':[],\"segment_count\":0}\n",
    "        state = 0\n",
    "        start = 0\n",
    "        end = 0 \n",
    "        pause_counter = 0\n",
    "        # one day data\n",
    "        #print(\"Day: \",day)\n",
    "        for i in range(len(sample_indices)):\n",
    "            #print(\"i:\",i)\n",
    "            #sample, label = data[i][0].numpy(),data[i][1]\n",
    "            #sample = np.expand_dims(sample,axis=0)\n",
    "            #proba = model(sample).numpy()[0][0]\n",
    "            #sample = samples[i]\n",
    "            label = labels[i]\n",
    "            proba = probas[i]\n",
    "            \n",
    "            result['proba'].append(proba)\n",
    "            result['labels'].append(label)\n",
    "            \n",
    "            if state ==0 and proba > start_threshold:\n",
    "                state = 1\n",
    "                start = i\n",
    "            elif state == 1 and proba <end_threshold:\n",
    "                state = 2\n",
    "                end = i+1\n",
    "                pause_counter = 0\n",
    "            elif state ==2:\n",
    "                if proba > start_threshold:\n",
    "                    state = 1\n",
    "                else:\n",
    "                    pause_counter += stepsec\n",
    "                    if pause_counter >= t_pause:\n",
    "                        # convert time to second and check threshold\n",
    "                        if (end-start)*stepsec >= episode_min*60:\n",
    "                            # save data\n",
    "                            result['segment_start'].append(start)\n",
    "                            result['segment_end'].append(end)\n",
    "                            result['segment_count'] += 1\n",
    "                            result['predictions'][start:end] = 1\n",
    "                            pass\n",
    "                        end = 0\n",
    "                        state = 0\n",
    "        if state != 0:\n",
    "            # if segment ended at the end of data\n",
    "            if end != 0:\n",
    "                result['segment_start'].append(start)\n",
    "                result['segment_end'].append(end)\n",
    "                result['predictions'][start:end] = 1\n",
    "            else:\n",
    "                result['segment_count'] -= 1  \n",
    "            result['segment_count'] += 1\n",
    "#         print(\"--- One Day: %s seconds ---\" % (time.time() - start_time))    \n",
    "        result_ls.append(result)\n",
    "    print(\"Segmentation Completed. \")\n",
    "    result_ls = pd.DataFrame(result_ls)\n",
    "                      \n",
    "    return result_ls"
   ]
  },
  {
   "cell_type": "code",
   "execution_count": 56,
   "metadata": {},
   "outputs": [],
   "source": [
    "def get_episode_metrics(result, meal_data):\n",
    "    \"\"\"\n",
    "    Obtain and format the episode metric results \n",
    "    \n",
    "    result: result from  hysteresis threshold function\n",
    "    meal_data: meal dataset of Person_MealData\n",
    "    \n",
    "    \"\"\"\n",
    "    \n",
    "    from sklearn.metrics import accuracy_score, recall_score, roc_auc_score\n",
    "    total_preds = []\n",
    "    total_labels = []\n",
    "    perf = {\"TPR\":[],\"FP/TP\":[],\"TP\":[], \"FP\":[],\"FN\":[]}\n",
    "    tpr = 0. \n",
    "    FP_TP = 0.\n",
    "    TP = 0\n",
    "    FP = 0\n",
    "    FN = 0\n",
    "    # get segmentation of ground truth labeled by user\n",
    "    start_ls, end_ls = meal_data.get_GT_segment()\n",
    "    \n",
    "    meal_counts, min_counts,hour_counts, day_counts,total_hours = meal_data.get_mealdataset_info()\n",
    "    \n",
    "    # iterate every day\n",
    "    for i in range(len(result)):\n",
    "        #preds = result.iloc[i]['predictions']\n",
    "        #labels =  result.iloc[i]['labels']\n",
    "        event_start, event_end= start_ls[i], end_ls[i]\n",
    "        detect_start, detect_end = result.iloc[i]['segment_start'],result.iloc[i]['segment_end']\n",
    "        GT = np.array([-1]*len(event_start) )  # default all meals are missing -1, FN\n",
    "        detect = np.array([-1]*len(detect_start)) # default all detected meals are wrong -1, FP\n",
    "        for index in range(len(event_start)):\n",
    "            # e_s: event start,  e_e: event end\n",
    "            # d_s: detection start,  d_e: detection end\n",
    "            e_s, e_e = event_start[index], event_end[index]\n",
    "            for index2 in range(len(detect_start)):\n",
    "                # convert segment from sec to index of data point\n",
    "                d_s = detect_start[index2] * result.iloc[i]['stepsec']*15\n",
    "                d_e = detect_end[index2]* result.iloc[i]['stepsec']*15\n",
    "                #print(\"ds: {} d_e: {}, e_s:{}, e_e: {}\".format(d_s,d_e, e_s, e_e))\n",
    "                if (e_s>=d_s and e_s <= d_e) or (d_s>= e_s and d_s<= e_e):\n",
    "                    GT[index] = index2\n",
    "                    detect[index2] = index\n",
    "        #print(\"GT:\",GT, \"Detect:\", detect)\n",
    "        TP += sum(GT!=-1)\n",
    "        FN += sum(GT==-1)\n",
    "        FP += sum(detect==-1)\n",
    "                \n",
    "    \n",
    "    print(\"total_meal:\",meal_counts, \"TP: \", TP, \"FP: \", FP, \"FN: \", FN)\n",
    "    perf['TPR'].append(TP/(TP+FN))\n",
    "    if TP ==0:\n",
    "        perf['FP/TP'].append(None)\n",
    "    else:\n",
    "        perf['FP/TP'].append(FP/TP)\n",
    "    perf[\"TP\"].append(TP)\n",
    "    perf[\"FP\"].append(FP)\n",
    "    perf[\"FN\"].append(FN)\n",
    "    result_df = pd.DataFrame(perf)\n",
    "        \n",
    "    return pd.DataFrame(result_df)\n"
   ]
  },
  {
   "cell_type": "code",
   "execution_count": null,
   "metadata": {},
   "outputs": [],
   "source": []
  },
  {
   "cell_type": "code",
   "execution_count": null,
   "metadata": {},
   "outputs": [],
   "source": []
  },
  {
   "cell_type": "code",
   "execution_count": null,
   "metadata": {},
   "outputs": [],
   "source": []
  },
  {
   "cell_type": "code",
   "execution_count": null,
   "metadata": {},
   "outputs": [],
   "source": []
  },
  {
   "cell_type": "code",
   "execution_count": null,
   "metadata": {},
   "outputs": [],
   "source": []
  },
  {
   "cell_type": "markdown",
   "metadata": {},
   "source": [
    "## 3.2 Episode Metrics Function"
   ]
  },
  {
   "cell_type": "code",
   "execution_count": 107,
   "metadata": {},
   "outputs": [],
   "source": [
    "from collections import defaultdict\n",
    "\n",
    "def test_models_episode_metric(winmin=6, stridesec = 5,names= [\"wenkanw\"],random_seed=1000,\n",
    "                               test_balance=False, test_CAD=False,\n",
    "                               test_alldata=False,threshold= hythreshold,\n",
    "                               load_proba_flag=True, use_group_threshold = 0,\n",
    "                              proba_path =\"../results/possibility_results/\"):\n",
    "    perf = defaultdict(list)\n",
    "    meal_info = defaultdict(list)\n",
    "    \n",
    "    # Don't test on CAD test set if it is not enabled\n",
    "    if not test_CAD and \"CAD\" in names:\n",
    "        names.remove(\"CAD\")\n",
    "    group_threshold = {'wenkanw':[0.8, 0.3], 'adam':[0.8,0.3],'lawler':[0.8,0.3], 'shaurya':[0.8,0.3]}\n",
    "    for name in names:\n",
    "        \n",
    "        \n",
    "        person = name\n",
    "        # test episode metrics that split dataset by days\n",
    "        if not test_alldata:\n",
    "            meal_data = Person_MealsDataset(person_name= person, file_name = \"test_files\", winmin = winmin,stridesec = stridesec)\n",
    "        else:\n",
    "            meal_data = Person_MealsDataset(person_name= person, file_name = \"all_files_list\", winmin = winmin,stridesec = stridesec)\n",
    "        # balance test set    \n",
    "        if test_balance:\n",
    "            testset_labels = meal_data.labels\n",
    "            test_indices = balance_data_indices(testset_labels,data_indices=[i for i in range(len(meal_data))] ,mode=\"under\", shuffle=True,random_state = random_seed,replace= False)\n",
    "        else:\n",
    "            test_indices = [i for i in range(len(meal_data))]\n",
    "        # get numpy dataset\n",
    "        #test_Data, test_Labels = meal_data.get_subset(test_indices)\n",
    "        \n",
    "        \n",
    "        meal_counts, min_counts,hour_counts, day_counts,total_hours = meal_data.get_mealdataset_info(person_name=name)\n",
    "                \n",
    "        \n",
    "        perf[\"Days\"].append(day_counts)\n",
    "        perf[\"Meal_Hours\"].append(round(hour_counts,1)) \n",
    "        perf[\"Meal_Counts\"].append(meal_counts) \n",
    "        perf[\"dataset\"].append(name)\n",
    "        perf[\"win(sec)\"].append(winmin*60)\n",
    "        \n",
    "            \n",
    "        from sklearn.metrics import accuracy_score, recall_score, roc_auc_score, f1_score, balanced_accuracy_score, precision_score\n",
    "        group_model_W  = tf.keras.models.load_model('../models/CAD_models/acti_6min_M_F_6.000000Min.h5')\n",
    "        \n",
    "        individual_model = tf.keras.models.load_model('../models/'+ name+ '_models/acti_6min_split_day_M_F_6.000000Min.h5')\n",
    "            \n",
    "        models = {\"suffix\":['Individual-Model','GroupModel'],  \"model\":[individual_model,group_model_W]}\n",
    "        \n",
    "        for i in range(len(models[\"suffix\"])):\n",
    "            suffix = models[\"suffix\"][i]\n",
    "            model = models[\"model\"][i]\n",
    "            # if the dataset is CAD group dataset and model is individual model\n",
    "            # we don't need to make prediction on that data\n",
    "            path= proba_path\n",
    "            if use_group_threshold==0:\n",
    "                high_th, low_th = threshold[name][0], threshold[name][1]\n",
    "            elif use_group_threshold==1:\n",
    "                if suffix == \"GroupModel\":\n",
    "                    high_th, low_th = group_threshold[name][0], group_threshold[name][1]\n",
    "                else:\n",
    "                    high_th, low_th = threshold[name][0], threshold[name][1]\n",
    "            else:\n",
    "                high_th, low_th = group_threshold[name][0], group_threshold[name][1]\n",
    "                \n",
    "            \n",
    "            if suffix == \"GroupModel\":\n",
    "                path = proba_path +\"group_\"\n",
    "                \n",
    "                \n",
    "            result = hysteresis_threshold(model, meal_data,start_threshold=high_th, end_threshold=low_th,\n",
    "                                          winmin = 6, stepsec=5, episode_min = 1.,\n",
    "                                         load_proba_flag=load_proba_flag, path =path)\n",
    "            episode_perf_df = get_episode_metrics(result,meal_data)\n",
    "            perf[\"TPR: \"+suffix].append(episode_perf_df[\"TPR\"].iloc[0])\n",
    "            perf[\"FP/TP: \"+suffix].append(episode_perf_df[\"FP/TP\"].iloc[0])\n",
    "            perf[\"TP: \"+suffix].append(episode_perf_df[\"TP\"].iloc[0])\n",
    "            perf[\"FP: \"+suffix].append(episode_perf_df[\"FP\"].iloc[0])\n",
    "            perf[\"FN: \"+suffix].append(episode_perf_df[\"FN\"].iloc[0])\n",
    "            \n",
    "            print(episode_perf_df)\n",
    "\n",
    "    perf_df = pd.DataFrame(perf)\n",
    "    return perf_df\n",
    "\n",
    "\n",
    "def print_episode_metrics(result,old_result= None, round_decimal=3):\n",
    "    \"\"\"\n",
    "    print the episode_perf_df result from test_models_episode_metric\n",
    "    in suitable order\n",
    "    \"\"\"\n",
    "    result_df= result[['dataset','Days' ,'Meal_Hours',\"Meal_Counts\",\"win(sec)\",\n",
    "            \"TPR: Individual-Model\",\"TPR: GroupModel\",\"FP/TP: Individual-Model\",\"FP/TP: GroupModel\",\n",
    "           \"TP: Individual-Model\",\"TP: GroupModel\",\n",
    "           \"FP: Individual-Model\",\"FP: GroupModel\",\n",
    "           \"FN: Individual-Model\",\"FN: GroupModel\"]]\n",
    "    numerics = ['int16', 'int32', 'int64', 'float16', 'float32', 'float64']   \n",
    "    for key in result_df.columns:\n",
    "        if result_df[key].dtype in numerics:\n",
    "            result_df[key] = result_df[key].values.round(round_decimal) \n",
    "            \n",
    "    if not isinstance(old_result, type(None)):\n",
    "        # remove average performance from old results and append new data to table\n",
    "        idx =old_result[(old_result['dataset']==\"average performance\") | (old_result['dataset'] in result[\"dataset\"].values)].index\n",
    "        print(\"index\",idx)\n",
    "        new_result = old_result.drop(index=idx,axis=0)\n",
    "        result_df= new_result.append(result_df, ignore_index=True)\n",
    "    \n",
    "    mean_perf = pd.DataFrame(columns = result_df.keys())\n",
    "    mean_perf = mean_perf.append({\"dataset\":\"average performance\",\"win(sec)\":\"-\",'Days':\"-\" ,\n",
    "                                  'Meal_Hours':\"-\",\"Meal_Counts\":\"-\"},ignore_index=True)\n",
    "    for key in mean_perf.keys():\n",
    "        if key not in ['dataset','Days' ,'Meal_Hours',\"Meal_Counts\",\"win(sec)\"]:\n",
    "            mean_perf[key].at[0] = result_df[key].mean().round(round_decimal)\n",
    "    \n",
    "    result_df = result_df.append(mean_perf,ignore_index=True)\n",
    "    return result_df"
   ]
  },
  {
   "cell_type": "markdown",
   "metadata": {},
   "source": [
    "### Test on all days of data using Episode metrics"
   ]
  },
  {
   "cell_type": "code",
   "execution_count": 195,
   "metadata": {
    "scrolled": true
   },
   "outputs": [
    {
     "name": "stdout",
     "output_type": "stream",
     "text": [
      "Loading Dataset ...\n",
      "Loading File:  ../data/IndividualData/wenkanw-data/11-14-20/11-14-20.shm\n",
      "Loading File:  ../data/IndividualData/wenkanw-data/10-13-20/10-13-20.shm\n",
      "Loading File:  ../data/IndividualData/wenkanw-data/10-9-20/10-10-20.shm\n",
      "Loading File:  ../data/IndividualData/wenkanw-data/11-21-20/Dinner/Dinner.shm\n",
      "Loading File:  ../data/IndividualData/wenkanw-data/9-17-20/9-17-20.shm\n",
      "Loading File:  ../data/IndividualData/wenkanw-data/9-29-20/9-29-20.shm\n",
      "Loading File:  ../data/IndividualData/wenkanw-data/11-22-20/Lunch/Lunch.shm\n",
      "Loading File:  ../data/IndividualData/wenkanw-data/11-21-20/lunch/lunch.shm\n",
      "Loading File:  ../data/IndividualData/wenkanw-data/10-9-20/10-9-20.shm\n",
      "Loading File:  ../data/IndividualData/wenkanw-data/11-18-20/11-18-20.shm\n",
      "Loading File:  ../data/IndividualData/wenkanw-data/10-14-20/10-14-20.shm\n",
      "Loading File:  ../data/IndividualData/wenkanw-data/10-12-20/10-12-20.shm\n",
      "Loading File:  ../data/IndividualData/wenkanw-data/11-16-20/11-16-20.shm\n",
      "Loading File:  ../data/IndividualData/wenkanw-data/9-27-20/9-27-20.shm\n",
      "Loading File:  ../data/IndividualData/wenkanw-data/10-3-20/10-3-20.shm\n",
      "Loading File:  ../data/IndividualData/wenkanw-data/10-10-20/10-10-20.shm\n",
      "Loading File:  ../data/IndividualData/wenkanw-data/11-22-20/Dinner/Dinner.shm\n",
      "--- Day 0: 5.239868640899658 seconds ---\n",
      "--- Day 1: 7.528571605682373 seconds ---\n",
      "--- Day 2: 8.42037296295166 seconds ---\n",
      "--- Day 3: 0.024028301239013672 seconds ---\n",
      "--- Day 4: 7.242108583450317 seconds ---\n",
      "--- Day 5: 7.4183385372161865 seconds ---\n",
      "--- Day 6: 0.2891225814819336 seconds ---\n",
      "--- Day 7: 0.20931792259216309 seconds ---\n",
      "--- Day 8: 8.525686740875244 seconds ---\n",
      "--- Day 9: 6.062872648239136 seconds ---\n",
      "--- Day 10: 6.5767436027526855 seconds ---\n",
      "--- Day 11: 6.574655532836914 seconds ---\n",
      "--- Day 12: 4.79516339302063 seconds ---\n",
      "--- Day 13: 4.898717641830444 seconds ---\n",
      "--- Day 14: 7.171584367752075 seconds ---\n",
      "--- Day 15: 6.730435848236084 seconds ---\n",
      "--- Day 16: 0.2436361312866211 seconds ---\n",
      "File ../results/possibility_results/wenkanw_6min_5slide_proba.csv Saved\n",
      "Day:  0\n",
      "Segmentation Completed. \n",
      "Day:  1\n",
      "Segmentation Completed. \n",
      "Day:  2\n",
      "Segmentation Completed. \n",
      "Day:  3\n",
      "Segmentation Completed. \n",
      "Day:  4\n",
      "Segmentation Completed. \n",
      "Day:  5\n",
      "Segmentation Completed. \n",
      "Day:  6\n",
      "Segmentation Completed. \n",
      "Day:  7\n",
      "Segmentation Completed. \n",
      "Day:  8\n",
      "Segmentation Completed. \n",
      "Day:  9\n",
      "Segmentation Completed. \n",
      "Day:  10\n",
      "Segmentation Completed. \n",
      "Day:  11\n",
      "Segmentation Completed. \n",
      "Day:  12\n",
      "Segmentation Completed. \n",
      "Day:  13\n",
      "Segmentation Completed. \n",
      "Day:  14\n",
      "Segmentation Completed. \n",
      "Day:  15\n",
      "Segmentation Completed. \n",
      "Day:  16\n",
      "Segmentation Completed. \n",
      "total_meal: 32 TP:  31 FP:  16 FN:  1\n",
      "       TPR     FP/TP  TP  FP  FN\n",
      "0  0.96875  0.516129  31  16   1\n",
      "--- Day 0: 5.315619230270386 seconds ---\n",
      "--- Day 1: 7.533521890640259 seconds ---\n",
      "--- Day 2: 8.510289192199707 seconds ---\n",
      "--- Day 3: 0.022932767868041992 seconds ---\n",
      "--- Day 4: 6.79141902923584 seconds ---\n",
      "--- Day 5: 7.162416219711304 seconds ---\n",
      "--- Day 6: 0.2934865951538086 seconds ---\n",
      "--- Day 7: 0.20929503440856934 seconds ---\n",
      "--- Day 8: 8.47816777229309 seconds ---\n",
      "--- Day 9: 6.107059478759766 seconds ---\n",
      "--- Day 10: 6.62932825088501 seconds ---\n",
      "--- Day 11: 6.547911643981934 seconds ---\n",
      "--- Day 12: 4.830136775970459 seconds ---\n",
      "--- Day 13: 4.919955492019653 seconds ---\n",
      "--- Day 14: 7.25205397605896 seconds ---\n",
      "--- Day 15: 6.658043622970581 seconds ---\n",
      "--- Day 16: 0.2421274185180664 seconds ---\n",
      "File ../results/possibility_results/group_wenkanw_6min_5slide_proba.csv Saved\n",
      "Day:  0\n",
      "Segmentation Completed. \n",
      "Day:  1\n",
      "Segmentation Completed. \n",
      "Day:  2\n",
      "Segmentation Completed. \n",
      "Day:  3\n",
      "Segmentation Completed. \n",
      "Day:  4\n",
      "Segmentation Completed. \n",
      "Day:  5\n",
      "Segmentation Completed. \n",
      "Day:  6\n",
      "Segmentation Completed. \n",
      "Day:  7\n",
      "Segmentation Completed. \n",
      "Day:  8\n",
      "Segmentation Completed. \n",
      "Day:  9\n",
      "Segmentation Completed. \n",
      "Day:  10\n",
      "Segmentation Completed. \n",
      "Day:  11\n",
      "Segmentation Completed. \n",
      "Day:  12\n",
      "Segmentation Completed. \n",
      "Day:  13\n",
      "Segmentation Completed. \n",
      "Day:  14\n",
      "Segmentation Completed. \n",
      "Day:  15\n",
      "Segmentation Completed. \n",
      "Day:  16\n",
      "Segmentation Completed. \n",
      "total_meal: 32 TP:  20 FP:  6 FN:  12\n",
      "     TPR  FP/TP  TP  FP  FN\n",
      "0  0.625    0.3  20   6  12\n",
      "Loading Dataset ...\n",
      "Loading File:  ../data/IndividualData/adam-data/12-01-2020/12-01-2020.shm\n",
      "Loading File:  ../data/IndividualData/adam-data/11-24-2020/11-24-2020.shm\n",
      "Loading File:  ../data/IndividualData/adam-data/11-30-2020/11-30-2020.shm\n",
      "Loading File:  ../data/IndividualData/adam-data/09-22-2020/09-22-2020.shm\n",
      "Loading File:  ../data/IndividualData/adam-data/12-03-2020/12-03-2020.shm\n",
      "Loading File:  ../data/IndividualData/adam-data/12-11-2020/12-11-2020.shm\n",
      "Loading File:  ../data/IndividualData/adam-data/11-25-2020/11-25-2020.shm\n",
      "Loading File:  ../data/IndividualData/adam-data/12-08-2020/12-08-2020.shm\n",
      "Loading File:  ../data/IndividualData/adam-data/12-07-2020/12-07-2020.shm\n",
      "Loading File:  ../data/IndividualData/adam-data/11-26-2020/11-26-2020.shm\n",
      "Loading File:  ../data/IndividualData/adam-data/12-02-2020/12-02-2020.shm\n",
      "Loading File:  ../data/IndividualData/adam-data/12-04-2020/12-04-2020.shm\n",
      "Loading File:  ../data/IndividualData/adam-data/12-09-2020/12-09-2020.shm\n",
      "Loading File:  ../data/IndividualData/adam-data/12-10-2020/12-10-2020.shm\n",
      "--- Day 0: 8.779501676559448 seconds ---\n",
      "--- Day 1: 7.2896974086761475 seconds ---\n",
      "--- Day 2: 5.592787504196167 seconds ---\n",
      "--- Day 3: 4.2350194454193115 seconds ---\n",
      "--- Day 4: 6.090009689331055 seconds ---\n",
      "--- Day 5: 2.718371868133545 seconds ---\n",
      "--- Day 6: 6.802891492843628 seconds ---\n",
      "--- Day 7: 6.345282316207886 seconds ---\n",
      "--- Day 8: 5.55164361000061 seconds ---\n",
      "--- Day 9: 2.8510777950286865 seconds ---\n",
      "--- Day 10: 6.856687068939209 seconds ---\n",
      "--- Day 11: 6.418304204940796 seconds ---\n",
      "--- Day 12: 7.7694714069366455 seconds ---\n",
      "--- Day 13: 8.1115562915802 seconds ---\n",
      "File ../results/possibility_results/adam_6min_5slide_proba.csv Saved\n",
      "Day:  0\n",
      "Segmentation Completed. \n",
      "Day:  1\n",
      "Segmentation Completed. \n",
      "Day:  2\n",
      "Segmentation Completed. \n",
      "Day:  3\n",
      "Segmentation Completed. \n",
      "Day:  4\n",
      "Segmentation Completed. \n",
      "Day:  5\n",
      "Segmentation Completed. \n",
      "Day:  6\n",
      "Segmentation Completed. \n",
      "Day:  7\n",
      "Segmentation Completed. \n",
      "Day:  8\n",
      "Segmentation Completed. \n",
      "Day:  9\n",
      "Segmentation Completed. \n",
      "Day:  10\n",
      "Segmentation Completed. \n",
      "Day:  11\n",
      "Segmentation Completed. \n",
      "Day:  12\n",
      "Segmentation Completed. \n",
      "Day:  13\n",
      "Segmentation Completed. \n",
      "total_meal: 26 TP:  23 FP:  5 FN:  3\n",
      "        TPR     FP/TP  TP  FP  FN\n",
      "0  0.884615  0.217391  23   5   3\n",
      "--- Day 0: 8.719698667526245 seconds ---\n",
      "--- Day 1: 7.324761390686035 seconds ---\n",
      "--- Day 2: 5.589368104934692 seconds ---\n",
      "--- Day 3: 4.190395355224609 seconds ---\n",
      "--- Day 4: 6.096609830856323 seconds ---\n",
      "--- Day 5: 2.7255005836486816 seconds ---\n",
      "--- Day 6: 6.803332090377808 seconds ---\n",
      "--- Day 7: 6.371952533721924 seconds ---\n",
      "--- Day 8: 5.590529918670654 seconds ---\n",
      "--- Day 9: 2.8100695610046387 seconds ---\n",
      "--- Day 10: 6.8528733253479 seconds ---\n",
      "--- Day 11: 6.377190828323364 seconds ---\n",
      "--- Day 12: 7.747478008270264 seconds ---\n",
      "--- Day 13: 8.174408674240112 seconds ---\n",
      "File ../results/possibility_results/group_adam_6min_5slide_proba.csv Saved\n",
      "Day:  0\n",
      "Segmentation Completed. \n",
      "Day:  1\n",
      "Segmentation Completed. \n",
      "Day:  2\n",
      "Segmentation Completed. \n",
      "Day:  3\n",
      "Segmentation Completed. \n",
      "Day:  4\n",
      "Segmentation Completed. \n",
      "Day:  5\n",
      "Segmentation Completed. \n",
      "Day:  6\n",
      "Segmentation Completed. \n",
      "Day:  7\n",
      "Segmentation Completed. \n",
      "Day:  8\n",
      "Segmentation Completed. \n",
      "Day:  9\n",
      "Segmentation Completed. \n",
      "Day:  10\n",
      "Segmentation Completed. \n",
      "Day:  11\n",
      "Segmentation Completed. \n",
      "Day:  12\n",
      "Segmentation Completed. \n",
      "Day:  13\n",
      "Segmentation Completed. \n",
      "total_meal: 26 TP:  24 FP:  8 FN:  2\n",
      "        TPR     FP/TP  TP  FP  FN\n",
      "0  0.923077  0.333333  24   8   2\n",
      "Loading Dataset ...\n",
      "Loading File:  ../data/IndividualData/lawler-data/10.19/10.19.shm\n",
      "Loading File:  ../data/IndividualData/lawler-data/11.14/11.14.shm\n",
      "Loading File:  ../data/IndividualData/lawler-data/10.10/10.10.shm\n",
      "Loading File:  ../data/IndividualData/lawler-data/11.2/11.2.shm\n",
      "Loading File:  ../data/IndividualData/lawler-data/10.8/10.8.shm\n",
      "Loading File:  ../data/IndividualData/lawler-data/11.15/11.15.shm\n",
      "Loading File:  ../data/IndividualData/lawler-data/10.14/10.14.shm\n",
      "Loading File:  ../data/IndividualData/lawler-data/9.23/9.23_13hr.shm\n",
      "Loading File:  ../data/IndividualData/lawler-data/10.12/10.12.shm\n",
      "Loading File:  ../data/IndividualData/lawler-data/11.11/11.11.shm\n",
      "Loading File:  ../data/IndividualData/lawler-data/11.4/11.4.shm\n",
      "Loading File:  ../data/IndividualData/lawler-data/9.25/9.25_1-46.shm\n",
      "Loading File:  ../data/IndividualData/lawler-data/10.6/10.6.shm\n",
      "Loading File:  ../data/IndividualData/lawler-data/10.4/10.4.shm\n",
      "Loading File:  ../data/IndividualData/lawler-data/10.28/10.28.shm\n",
      "Loading File:  ../data/IndividualData/lawler-data/11.3/11.3.shm\n",
      "Loading File:  ../data/IndividualData/lawler-data/10.20/evening_2hr_20min/10.20.shm\n",
      "Loading File:  ../data/IndividualData/lawler-data/10.26/10.26.shm\n",
      "Loading File:  ../data/IndividualData/lawler-data/10.31/10.31.shm\n",
      "Loading File:  ../data/IndividualData/lawler-data/10.31/evening-2hr_goodDinnerTemplate_CFAmeal/10.31.shm\n",
      "Loading File:  ../data/IndividualData/lawler-data/10.21/10.21.shm\n",
      "Loading File:  ../data/IndividualData/lawler-data/10.16/10.16.shm\n",
      "Loading File:  ../data/IndividualData/lawler-data/10.20/afternoon_2hr33min/10.20.shm\n",
      "--- Day 0: 7.979243040084839 seconds ---\n",
      "--- Day 1: 9.539725303649902 seconds ---\n",
      "--- Day 2: 0.6037404537200928 seconds ---\n",
      "--- Day 3: 7.34808087348938 seconds ---\n",
      "--- Day 4: 2.169060468673706 seconds ---\n",
      "--- Day 5: 8.272783517837524 seconds ---\n",
      "--- Day 6: 9.874011754989624 seconds ---\n",
      "--- Day 7: 8.897615671157837 seconds ---\n",
      "--- Day 8: 6.467241525650024 seconds ---\n",
      "--- Day 9: 1.3174753189086914 seconds ---\n",
      "--- Day 10: 4.839215040206909 seconds ---\n",
      "--- Day 11: 1.145723581314087 seconds ---\n",
      "--- Day 12: 3.7516567707061768 seconds ---\n",
      "--- Day 13: 2.1329405307769775 seconds ---\n",
      "--- Day 14: 6.837896823883057 seconds ---\n",
      "--- Day 15: 10.119481563568115 seconds ---\n",
      "--- Day 16: 1.510810375213623 seconds ---\n",
      "--- Day 17: 3.827575206756592 seconds ---\n",
      "--- Day 18: 2.7491743564605713 seconds ---\n",
      "--- Day 19: 1.5885894298553467 seconds ---\n",
      "--- Day 20: 1.7501389980316162 seconds ---\n",
      "--- Day 21: 8.292519330978394 seconds ---\n",
      "--- Day 22: 1.6768803596496582 seconds ---\n",
      "File ../results/possibility_results/lawler_6min_5slide_proba.csv Saved\n",
      "Day:  0\n",
      "Segmentation Completed. \n",
      "Day:  1\n",
      "Segmentation Completed. \n",
      "Day:  2\n",
      "Segmentation Completed. \n",
      "Day:  3\n",
      "Segmentation Completed. \n",
      "Day:  4\n",
      "Segmentation Completed. \n",
      "Day:  5\n",
      "Segmentation Completed. \n",
      "Day:  6\n",
      "Segmentation Completed. \n",
      "Day:  7\n",
      "Segmentation Completed. \n",
      "Day:  8\n",
      "Segmentation Completed. \n",
      "Day:  9\n",
      "Segmentation Completed. \n",
      "Day:  10\n",
      "Segmentation Completed. \n",
      "Day:  11\n",
      "Segmentation Completed. \n",
      "Day:  12\n",
      "Segmentation Completed. \n",
      "Day:  13\n",
      "Segmentation Completed. \n",
      "Day:  14\n",
      "Segmentation Completed. \n",
      "Day:  15\n",
      "Segmentation Completed. \n",
      "Day:  16\n",
      "Segmentation Completed. \n",
      "Day:  17\n",
      "Segmentation Completed. \n",
      "Day:  18\n",
      "Segmentation Completed. \n",
      "Day:  19\n",
      "Segmentation Completed. \n",
      "Day:  20\n",
      "Segmentation Completed. \n",
      "Day:  21\n",
      "Segmentation Completed. \n",
      "Day:  22\n",
      "Segmentation Completed. \n",
      "total_meal: 61 TP:  27 FP:  26 FN:  34\n",
      "        TPR     FP/TP  TP  FP  FN\n",
      "0  0.442623  0.962963  27  26  34\n",
      "--- Day 0: 7.9640069007873535 seconds ---\n",
      "--- Day 1: 9.534741640090942 seconds ---\n",
      "--- Day 2: 0.604013204574585 seconds ---\n",
      "--- Day 3: 7.362863540649414 seconds ---\n",
      "--- Day 4: 2.175105571746826 seconds ---\n",
      "--- Day 5: 8.290205478668213 seconds ---\n",
      "--- Day 6: 9.757144212722778 seconds ---\n",
      "--- Day 7: 8.960645198822021 seconds ---\n",
      "--- Day 8: 6.435422420501709 seconds ---\n",
      "--- Day 9: 1.3326027393341064 seconds ---\n",
      "--- Day 10: 4.99957537651062 seconds ---\n",
      "--- Day 11: 1.1647143363952637 seconds ---\n",
      "--- Day 12: 3.7571654319763184 seconds ---\n",
      "--- Day 13: 2.1367225646972656 seconds ---\n",
      "--- Day 14: 6.681116342544556 seconds ---\n",
      "--- Day 15: 10.15347170829773 seconds ---\n",
      "--- Day 16: 1.586930751800537 seconds ---\n",
      "--- Day 17: 3.826627016067505 seconds ---\n",
      "--- Day 18: 2.7343740463256836 seconds ---\n",
      "--- Day 19: 1.663977861404419 seconds ---\n",
      "--- Day 20: 1.7047061920166016 seconds ---\n",
      "--- Day 21: 8.464802265167236 seconds ---\n",
      "--- Day 22: 1.6893081665039062 seconds ---\n",
      "File ../results/possibility_results/group_lawler_6min_5slide_proba.csv Saved\n",
      "Day:  0\n",
      "Segmentation Completed. \n",
      "Day:  1\n",
      "Segmentation Completed. \n",
      "Day:  2\n",
      "Segmentation Completed. \n",
      "Day:  3\n",
      "Segmentation Completed. \n",
      "Day:  4\n",
      "Segmentation Completed. \n",
      "Day:  5\n",
      "Segmentation Completed. \n",
      "Day:  6\n",
      "Segmentation Completed. \n",
      "Day:  7\n",
      "Segmentation Completed. \n",
      "Day:  8\n",
      "Segmentation Completed. \n",
      "Day:  9\n",
      "Segmentation Completed. \n",
      "Day:  10\n",
      "Segmentation Completed. \n",
      "Day:  11\n",
      "Segmentation Completed. \n",
      "Day:  12\n",
      "Segmentation Completed. \n",
      "Day:  13\n",
      "Segmentation Completed. \n",
      "Day:  14\n",
      "Segmentation Completed. \n",
      "Day:  15\n",
      "Segmentation Completed. \n",
      "Day:  16\n",
      "Segmentation Completed. \n",
      "Day:  17\n",
      "Segmentation Completed. \n",
      "Day:  18\n",
      "Segmentation Completed. \n",
      "Day:  19\n",
      "Segmentation Completed. \n",
      "Day:  20\n",
      "Segmentation Completed. \n",
      "Day:  21\n",
      "Segmentation Completed. \n",
      "Day:  22\n",
      "Segmentation Completed. \n",
      "total_meal: 61 TP:  20 FP:  52 FN:  41\n",
      "        TPR  FP/TP  TP  FP  FN\n",
      "0  0.327869    2.6  20  52  41\n",
      "Loading Dataset ...\n",
      "Loading File:  ../data/IndividualData/shaurya-data/10.25.2020/Data.shm\n",
      "Loading File:  ../data/IndividualData/shaurya-data/10.22.2020/Data.shm\n",
      "Loading File:  ../data/IndividualData/shaurya-data/11.15.2020/Data.shm\n",
      "Loading File:  ../data/IndividualData/shaurya-data/11.17.2020/Data.shm\n",
      "Loading File:  ../data/IndividualData/shaurya-data/11.1.2020/Data.shm\n",
      "Loading File:  ../data/IndividualData/shaurya-data/11.18.2020/Data.shm\n",
      "--- Day 0: 6.688703536987305 seconds ---\n",
      "--- Day 1: 7.13055419921875 seconds ---\n",
      "--- Day 2: 7.666671276092529 seconds ---\n",
      "--- Day 3: 5.595951557159424 seconds ---\n",
      "--- Day 4: 9.070913076400757 seconds ---\n",
      "--- Day 5: 8.352680921554565 seconds ---\n",
      "File ../results/possibility_results/shaurya_6min_5slide_proba.csv Saved\n",
      "Day:  0\n",
      "Segmentation Completed. \n",
      "Day:  1\n",
      "Segmentation Completed. \n",
      "Day:  2\n",
      "Segmentation Completed. \n",
      "Day:  3\n",
      "Segmentation Completed. \n",
      "Day:  4\n",
      "Segmentation Completed. \n",
      "Day:  5\n",
      "Segmentation Completed. \n",
      "total_meal: 17 TP:  14 FP:  30 FN:  3\n",
      "        TPR     FP/TP  TP  FP  FN\n",
      "0  0.823529  2.142857  14  30   3\n",
      "--- Day 0: 6.7246620655059814 seconds ---\n",
      "--- Day 1: 7.14676570892334 seconds ---\n",
      "--- Day 2: 7.722388029098511 seconds ---\n",
      "--- Day 3: 5.626651048660278 seconds ---\n",
      "--- Day 4: 9.0769681930542 seconds ---\n",
      "--- Day 5: 8.340396165847778 seconds ---\n",
      "File ../results/possibility_results/group_shaurya_6min_5slide_proba.csv Saved\n",
      "Day:  0\n",
      "Segmentation Completed. \n",
      "Day:  1\n",
      "Segmentation Completed. \n",
      "Day:  2\n",
      "Segmentation Completed. \n",
      "Day:  3\n",
      "Segmentation Completed. \n",
      "Day:  4\n",
      "Segmentation Completed. \n",
      "Day:  5\n",
      "Segmentation Completed. \n",
      "total_meal: 17 TP:  14 FP:  9 FN:  3\n",
      "        TPR     FP/TP  TP  FP  FN\n",
      "0  0.823529  0.642857  14   9   3\n",
      "CPU times: user 17min 13s, sys: 10.7 s, total: 17min 24s\n",
      "Wall time: 11min 15s\n"
     ]
    }
   ],
   "source": [
    "%time all_data_episode_perf_df = test_models_episode_metric(winmin=6, stridesec = 5,names= [\"wenkanw\",\"adam\",\"lawler\",\"shaurya\"],random_seed=1000, test_balance=False, test_CAD=False,test_alldata=True)"
   ]
  },
  {
   "cell_type": "code",
   "execution_count": 200,
   "metadata": {},
   "outputs": [
    {
     "data": {
      "text/html": [
       "<div>\n",
       "<style scoped>\n",
       "    .dataframe tbody tr th:only-of-type {\n",
       "        vertical-align: middle;\n",
       "    }\n",
       "\n",
       "    .dataframe tbody tr th {\n",
       "        vertical-align: top;\n",
       "    }\n",
       "\n",
       "    .dataframe thead th {\n",
       "        text-align: right;\n",
       "    }\n",
       "</style>\n",
       "<table border=\"1\" class=\"dataframe\">\n",
       "  <thead>\n",
       "    <tr style=\"text-align: right;\">\n",
       "      <th></th>\n",
       "      <th>Days</th>\n",
       "      <th>Meal_Hours</th>\n",
       "      <th>Meal_Counts</th>\n",
       "      <th>dataset</th>\n",
       "      <th>win(sec)</th>\n",
       "      <th>TPR: Individual-Model</th>\n",
       "      <th>FP/TP: Individual-Model</th>\n",
       "      <th>TP: Individual-Model</th>\n",
       "      <th>FP: Individual-Model</th>\n",
       "      <th>FN: Individual-Model</th>\n",
       "      <th>TPR: GroupModel</th>\n",
       "      <th>FP/TP: GroupModel</th>\n",
       "      <th>TP: GroupModel</th>\n",
       "      <th>FP: GroupModel</th>\n",
       "      <th>FN: GroupModel</th>\n",
       "    </tr>\n",
       "  </thead>\n",
       "  <tbody>\n",
       "    <tr>\n",
       "      <th>0</th>\n",
       "      <td>17</td>\n",
       "      <td>7</td>\n",
       "      <td>32</td>\n",
       "      <td>wenkanw</td>\n",
       "      <td>360</td>\n",
       "      <td>0.968750</td>\n",
       "      <td>0.516129</td>\n",
       "      <td>31</td>\n",
       "      <td>16</td>\n",
       "      <td>1</td>\n",
       "      <td>0.625000</td>\n",
       "      <td>0.300000</td>\n",
       "      <td>20</td>\n",
       "      <td>6</td>\n",
       "      <td>12</td>\n",
       "    </tr>\n",
       "    <tr>\n",
       "      <th>1</th>\n",
       "      <td>14</td>\n",
       "      <td>3</td>\n",
       "      <td>26</td>\n",
       "      <td>adam</td>\n",
       "      <td>360</td>\n",
       "      <td>0.884615</td>\n",
       "      <td>0.217391</td>\n",
       "      <td>23</td>\n",
       "      <td>5</td>\n",
       "      <td>3</td>\n",
       "      <td>0.923077</td>\n",
       "      <td>0.333333</td>\n",
       "      <td>24</td>\n",
       "      <td>8</td>\n",
       "      <td>2</td>\n",
       "    </tr>\n",
       "    <tr>\n",
       "      <th>2</th>\n",
       "      <td>23</td>\n",
       "      <td>25</td>\n",
       "      <td>61</td>\n",
       "      <td>lawler</td>\n",
       "      <td>360</td>\n",
       "      <td>0.442623</td>\n",
       "      <td>0.962963</td>\n",
       "      <td>27</td>\n",
       "      <td>26</td>\n",
       "      <td>34</td>\n",
       "      <td>0.327869</td>\n",
       "      <td>2.600000</td>\n",
       "      <td>20</td>\n",
       "      <td>52</td>\n",
       "      <td>41</td>\n",
       "    </tr>\n",
       "    <tr>\n",
       "      <th>3</th>\n",
       "      <td>6</td>\n",
       "      <td>3</td>\n",
       "      <td>17</td>\n",
       "      <td>shaurya</td>\n",
       "      <td>360</td>\n",
       "      <td>0.823529</td>\n",
       "      <td>2.142857</td>\n",
       "      <td>14</td>\n",
       "      <td>30</td>\n",
       "      <td>3</td>\n",
       "      <td>0.823529</td>\n",
       "      <td>0.642857</td>\n",
       "      <td>14</td>\n",
       "      <td>9</td>\n",
       "      <td>3</td>\n",
       "    </tr>\n",
       "  </tbody>\n",
       "</table>\n",
       "</div>"
      ],
      "text/plain": [
       "   Days  Meal_Hours  Meal_Counts  dataset  win(sec)  TPR: Individual-Model  \\\n",
       "0    17           7           32  wenkanw       360               0.968750   \n",
       "1    14           3           26     adam       360               0.884615   \n",
       "2    23          25           61   lawler       360               0.442623   \n",
       "3     6           3           17  shaurya       360               0.823529   \n",
       "\n",
       "   FP/TP: Individual-Model  TP: Individual-Model  FP: Individual-Model  \\\n",
       "0                 0.516129                    31                    16   \n",
       "1                 0.217391                    23                     5   \n",
       "2                 0.962963                    27                    26   \n",
       "3                 2.142857                    14                    30   \n",
       "\n",
       "   FN: Individual-Model  TPR: GroupModel  FP/TP: GroupModel  TP: GroupModel  \\\n",
       "0                     1         0.625000           0.300000              20   \n",
       "1                     3         0.923077           0.333333              24   \n",
       "2                    34         0.327869           2.600000              20   \n",
       "3                     3         0.823529           0.642857              14   \n",
       "\n",
       "   FP: GroupModel  FN: GroupModel  \n",
       "0               6              12  \n",
       "1               8               2  \n",
       "2              52              41  \n",
       "3               9               3  "
      ]
     },
     "execution_count": 200,
     "metadata": {},
     "output_type": "execute_result"
    }
   ],
   "source": [
    "all_data_episode_perf_df"
   ]
  },
  {
   "cell_type": "code",
   "execution_count": 199,
   "metadata": {},
   "outputs": [
    {
     "data": {
      "text/html": [
       "<div>\n",
       "<style scoped>\n",
       "    .dataframe tbody tr th:only-of-type {\n",
       "        vertical-align: middle;\n",
       "    }\n",
       "\n",
       "    .dataframe tbody tr th {\n",
       "        vertical-align: top;\n",
       "    }\n",
       "\n",
       "    .dataframe thead th {\n",
       "        text-align: right;\n",
       "    }\n",
       "</style>\n",
       "<table border=\"1\" class=\"dataframe\">\n",
       "  <thead>\n",
       "    <tr style=\"text-align: right;\">\n",
       "      <th></th>\n",
       "      <th>dataset</th>\n",
       "      <th>Days</th>\n",
       "      <th>Meal_Hours</th>\n",
       "      <th>Meal_Counts</th>\n",
       "      <th>win(sec)</th>\n",
       "      <th>TPR: Individual-Model</th>\n",
       "      <th>TPR: GroupModel</th>\n",
       "      <th>FP/TP: Individual-Model</th>\n",
       "      <th>FP/TP: GroupModel</th>\n",
       "      <th>TP: Individual-Model</th>\n",
       "      <th>TP: GroupModel</th>\n",
       "      <th>FP: Individual-Model</th>\n",
       "      <th>FP: GroupModel</th>\n",
       "      <th>FN: Individual-Model</th>\n",
       "      <th>FN: GroupModel</th>\n",
       "    </tr>\n",
       "  </thead>\n",
       "  <tbody>\n",
       "    <tr>\n",
       "      <th>0</th>\n",
       "      <td>wenkanw</td>\n",
       "      <td>17</td>\n",
       "      <td>7</td>\n",
       "      <td>32</td>\n",
       "      <td>360</td>\n",
       "      <td>0.969</td>\n",
       "      <td>0.625</td>\n",
       "      <td>0.516</td>\n",
       "      <td>0.300</td>\n",
       "      <td>31.00</td>\n",
       "      <td>20.0</td>\n",
       "      <td>16.00</td>\n",
       "      <td>6.00</td>\n",
       "      <td>1.00</td>\n",
       "      <td>12.0</td>\n",
       "    </tr>\n",
       "    <tr>\n",
       "      <th>1</th>\n",
       "      <td>adam</td>\n",
       "      <td>14</td>\n",
       "      <td>3</td>\n",
       "      <td>26</td>\n",
       "      <td>360</td>\n",
       "      <td>0.885</td>\n",
       "      <td>0.923</td>\n",
       "      <td>0.217</td>\n",
       "      <td>0.333</td>\n",
       "      <td>23.00</td>\n",
       "      <td>24.0</td>\n",
       "      <td>5.00</td>\n",
       "      <td>8.00</td>\n",
       "      <td>3.00</td>\n",
       "      <td>2.0</td>\n",
       "    </tr>\n",
       "    <tr>\n",
       "      <th>2</th>\n",
       "      <td>lawler</td>\n",
       "      <td>23</td>\n",
       "      <td>25</td>\n",
       "      <td>61</td>\n",
       "      <td>360</td>\n",
       "      <td>0.443</td>\n",
       "      <td>0.328</td>\n",
       "      <td>0.963</td>\n",
       "      <td>2.600</td>\n",
       "      <td>27.00</td>\n",
       "      <td>20.0</td>\n",
       "      <td>26.00</td>\n",
       "      <td>52.00</td>\n",
       "      <td>34.00</td>\n",
       "      <td>41.0</td>\n",
       "    </tr>\n",
       "    <tr>\n",
       "      <th>3</th>\n",
       "      <td>shaurya</td>\n",
       "      <td>6</td>\n",
       "      <td>3</td>\n",
       "      <td>17</td>\n",
       "      <td>360</td>\n",
       "      <td>0.824</td>\n",
       "      <td>0.824</td>\n",
       "      <td>2.143</td>\n",
       "      <td>0.643</td>\n",
       "      <td>14.00</td>\n",
       "      <td>14.0</td>\n",
       "      <td>30.00</td>\n",
       "      <td>9.00</td>\n",
       "      <td>3.00</td>\n",
       "      <td>3.0</td>\n",
       "    </tr>\n",
       "    <tr>\n",
       "      <th>4</th>\n",
       "      <td>average performance</td>\n",
       "      <td>-</td>\n",
       "      <td>-</td>\n",
       "      <td>-</td>\n",
       "      <td>-</td>\n",
       "      <td>0.780</td>\n",
       "      <td>0.675</td>\n",
       "      <td>0.960</td>\n",
       "      <td>0.969</td>\n",
       "      <td>23.75</td>\n",
       "      <td>19.5</td>\n",
       "      <td>19.25</td>\n",
       "      <td>18.75</td>\n",
       "      <td>10.25</td>\n",
       "      <td>14.5</td>\n",
       "    </tr>\n",
       "  </tbody>\n",
       "</table>\n",
       "</div>"
      ],
      "text/plain": [
       "               dataset Days Meal_Hours Meal_Counts win(sec)  \\\n",
       "0              wenkanw   17          7          32      360   \n",
       "1                 adam   14          3          26      360   \n",
       "2               lawler   23         25          61      360   \n",
       "3              shaurya    6          3          17      360   \n",
       "4  average performance    -          -           -        -   \n",
       "\n",
       "   TPR: Individual-Model  TPR: GroupModel  FP/TP: Individual-Model  \\\n",
       "0                  0.969            0.625                    0.516   \n",
       "1                  0.885            0.923                    0.217   \n",
       "2                  0.443            0.328                    0.963   \n",
       "3                  0.824            0.824                    2.143   \n",
       "4                  0.780            0.675                    0.960   \n",
       "\n",
       "   FP/TP: GroupModel  TP: Individual-Model  TP: GroupModel  \\\n",
       "0              0.300                 31.00            20.0   \n",
       "1              0.333                 23.00            24.0   \n",
       "2              2.600                 27.00            20.0   \n",
       "3              0.643                 14.00            14.0   \n",
       "4              0.969                 23.75            19.5   \n",
       "\n",
       "   FP: Individual-Model  FP: GroupModel  FN: Individual-Model  FN: GroupModel  \n",
       "0                 16.00            6.00                  1.00            12.0  \n",
       "1                  5.00            8.00                  3.00             2.0  \n",
       "2                 26.00           52.00                 34.00            41.0  \n",
       "3                 30.00            9.00                  3.00             3.0  \n",
       "4                 19.25           18.75                 10.25            14.5  "
      ]
     },
     "execution_count": 199,
     "metadata": {},
     "output_type": "execute_result"
    }
   ],
   "source": [
    "episode_metrics = print_episode_metrics(all_data_episode_perf_df)\n",
    "num_subject = len(episode_metrics )-1\n",
    "episode_metrics.to_csv(\"../results/episode_metrics/\"+str(num_subject)+\"_subjects_alldata_episode_metrics.csv\")\n",
    "episode_df = pd.read_csv(\"../results/episode_metrics/\"+str(num_subject)+\"_subjects_alldata_episode_metrics.csv\", index_col=0)\n",
    "episode_df"
   ]
  },
  {
   "cell_type": "code",
   "execution_count": 167,
   "metadata": {
    "scrolled": true
   },
   "outputs": [
    {
     "name": "stdout",
     "output_type": "stream",
     "text": [
      "Loading Dataset ...\n",
      "Loading File:  ../data/IndividualData/wenkanw-data/11-14-20/11-14-20.shm\n",
      "Loading File:  ../data/IndividualData/wenkanw-data/10-13-20/10-13-20.shm\n",
      "Loading File:  ../data/IndividualData/wenkanw-data/10-9-20/10-10-20.shm\n",
      "Loading File:  ../data/IndividualData/wenkanw-data/11-21-20/Dinner/Dinner.shm\n",
      "Loading File:  ../data/IndividualData/wenkanw-data/9-17-20/9-17-20.shm\n",
      "Loading File:  ../data/IndividualData/wenkanw-data/9-29-20/9-29-20.shm\n",
      "Loading File:  ../data/IndividualData/wenkanw-data/11-22-20/Lunch/Lunch.shm\n",
      "Loading File:  ../data/IndividualData/wenkanw-data/11-21-20/lunch/lunch.shm\n",
      "Loading File:  ../data/IndividualData/wenkanw-data/10-9-20/10-9-20.shm\n",
      "Loading File:  ../data/IndividualData/wenkanw-data/11-18-20/11-18-20.shm\n",
      "Loading File:  ../data/IndividualData/wenkanw-data/10-14-20/10-14-20.shm\n",
      "Loading File:  ../data/IndividualData/wenkanw-data/10-12-20/10-12-20.shm\n",
      "Loading File:  ../data/IndividualData/wenkanw-data/11-16-20/11-16-20.shm\n",
      "Loading File:  ../data/IndividualData/wenkanw-data/9-27-20/9-27-20.shm\n",
      "Loading File:  ../data/IndividualData/wenkanw-data/10-3-20/10-3-20.shm\n",
      "Loading File:  ../data/IndividualData/wenkanw-data/10-10-20/10-10-20.shm\n",
      "Loading File:  ../data/IndividualData/wenkanw-data/11-22-20/Dinner/Dinner.shm\n",
      "Day:  0\n",
      "Segmentation Completed. \n",
      "Day:  1\n",
      "Segmentation Completed. \n",
      "Day:  2\n",
      "Segmentation Completed. \n",
      "Day:  3\n",
      "Segmentation Completed. \n",
      "Day:  4\n",
      "Segmentation Completed. \n",
      "Day:  5\n",
      "Segmentation Completed. \n",
      "Day:  6\n",
      "Segmentation Completed. \n",
      "Day:  7\n",
      "Segmentation Completed. \n",
      "Day:  8\n",
      "Segmentation Completed. \n",
      "Day:  9\n",
      "Segmentation Completed. \n",
      "Day:  10\n",
      "Segmentation Completed. \n",
      "Day:  11\n",
      "Segmentation Completed. \n",
      "Day:  12\n",
      "Segmentation Completed. \n",
      "Day:  13\n",
      "Segmentation Completed. \n",
      "Day:  14\n",
      "Segmentation Completed. \n",
      "Day:  15\n",
      "Segmentation Completed. \n",
      "Day:  16\n",
      "Segmentation Completed. \n",
      "total_meal: 32 TP:  31 FP:  16 FN:  1\n",
      "       TPR     FP/TP  TP  FP  FN\n",
      "0  0.96875  0.516129  31  16   1\n",
      "Day:  0\n",
      "Segmentation Completed. \n",
      "Day:  1\n",
      "Segmentation Completed. \n",
      "Day:  2\n",
      "Segmentation Completed. \n",
      "Day:  3\n",
      "Segmentation Completed. \n",
      "Day:  4\n",
      "Segmentation Completed. \n",
      "Day:  5\n",
      "Segmentation Completed. \n",
      "Day:  6\n",
      "Segmentation Completed. \n",
      "Day:  7\n",
      "Segmentation Completed. \n",
      "Day:  8\n",
      "Segmentation Completed. \n",
      "Day:  9\n",
      "Segmentation Completed. \n",
      "Day:  10\n",
      "Segmentation Completed. \n",
      "Day:  11\n",
      "Segmentation Completed. \n",
      "Day:  12\n",
      "Segmentation Completed. \n",
      "Day:  13\n",
      "Segmentation Completed. \n",
      "Day:  14\n",
      "Segmentation Completed. \n",
      "Day:  15\n",
      "Segmentation Completed. \n",
      "Day:  16\n",
      "Segmentation Completed. \n",
      "total_meal: 32 TP:  20 FP:  6 FN:  12\n",
      "     TPR  FP/TP  TP  FP  FN\n",
      "0  0.625    0.3  20   6  12\n",
      "Loading Dataset ...\n",
      "Loading File:  ../data/IndividualData/adam-data/12-01-2020/12-01-2020.shm\n",
      "Loading File:  ../data/IndividualData/adam-data/11-24-2020/11-24-2020.shm\n",
      "Loading File:  ../data/IndividualData/adam-data/11-30-2020/11-30-2020.shm\n",
      "Loading File:  ../data/IndividualData/adam-data/09-22-2020/09-22-2020.shm\n",
      "Loading File:  ../data/IndividualData/adam-data/12-03-2020/12-03-2020.shm\n",
      "Loading File:  ../data/IndividualData/adam-data/12-11-2020/12-11-2020.shm\n",
      "Loading File:  ../data/IndividualData/adam-data/11-25-2020/11-25-2020.shm\n",
      "Loading File:  ../data/IndividualData/adam-data/12-08-2020/12-08-2020.shm\n",
      "Loading File:  ../data/IndividualData/adam-data/12-07-2020/12-07-2020.shm\n",
      "Loading File:  ../data/IndividualData/adam-data/11-26-2020/11-26-2020.shm\n",
      "Loading File:  ../data/IndividualData/adam-data/12-02-2020/12-02-2020.shm\n",
      "Loading File:  ../data/IndividualData/adam-data/12-04-2020/12-04-2020.shm\n",
      "Loading File:  ../data/IndividualData/adam-data/12-09-2020/12-09-2020.shm\n",
      "Loading File:  ../data/IndividualData/adam-data/12-10-2020/12-10-2020.shm\n",
      "Day:  0\n",
      "Segmentation Completed. \n",
      "Day:  1\n",
      "Segmentation Completed. \n",
      "Day:  2\n",
      "Segmentation Completed. \n",
      "Day:  3\n",
      "Segmentation Completed. \n",
      "Day:  4\n",
      "Segmentation Completed. \n",
      "Day:  5\n",
      "Segmentation Completed. \n",
      "Day:  6\n",
      "Segmentation Completed. \n",
      "Day:  7\n",
      "Segmentation Completed. \n",
      "Day:  8\n",
      "Segmentation Completed. \n",
      "Day:  9\n",
      "Segmentation Completed. \n",
      "Day:  10\n",
      "Segmentation Completed. \n",
      "Day:  11\n",
      "Segmentation Completed. \n",
      "Day:  12\n",
      "Segmentation Completed. \n",
      "Day:  13\n",
      "Segmentation Completed. \n",
      "total_meal: 26 TP:  23 FP:  5 FN:  3\n",
      "        TPR     FP/TP  TP  FP  FN\n",
      "0  0.884615  0.217391  23   5   3\n",
      "Day:  0\n",
      "Segmentation Completed. \n",
      "Day:  1\n",
      "Segmentation Completed. \n",
      "Day:  2\n",
      "Segmentation Completed. \n",
      "Day:  3\n",
      "Segmentation Completed. \n",
      "Day:  4\n",
      "Segmentation Completed. \n",
      "Day:  5\n",
      "Segmentation Completed. \n",
      "Day:  6\n",
      "Segmentation Completed. \n",
      "Day:  7\n",
      "Segmentation Completed. \n",
      "Day:  8\n",
      "Segmentation Completed. \n",
      "Day:  9\n",
      "Segmentation Completed. \n",
      "Day:  10\n",
      "Segmentation Completed. \n",
      "Day:  11\n",
      "Segmentation Completed. \n",
      "Day:  12\n",
      "Segmentation Completed. \n",
      "Day:  13\n",
      "Segmentation Completed. \n",
      "total_meal: 26 TP:  24 FP:  8 FN:  2\n",
      "        TPR     FP/TP  TP  FP  FN\n",
      "0  0.923077  0.333333  24   8   2\n",
      "Loading Dataset ...\n",
      "Loading File:  ../data/IndividualData/lawler-data/10.19/10.19.shm\n",
      "Loading File:  ../data/IndividualData/lawler-data/11.14/11.14.shm\n",
      "Loading File:  ../data/IndividualData/lawler-data/10.10/10.10.shm\n",
      "Loading File:  ../data/IndividualData/lawler-data/11.2/11.2.shm\n",
      "Loading File:  ../data/IndividualData/lawler-data/10.8/10.8.shm\n",
      "Loading File:  ../data/IndividualData/lawler-data/11.15/11.15.shm\n",
      "Loading File:  ../data/IndividualData/lawler-data/10.14/10.14.shm\n",
      "Loading File:  ../data/IndividualData/lawler-data/9.23/9.23_13hr.shm\n",
      "Loading File:  ../data/IndividualData/lawler-data/10.12/10.12.shm\n",
      "Loading File:  ../data/IndividualData/lawler-data/11.11/11.11.shm\n",
      "Loading File:  ../data/IndividualData/lawler-data/11.4/11.4.shm\n",
      "Loading File:  ../data/IndividualData/lawler-data/9.25/9.25_1-46.shm\n",
      "Loading File:  ../data/IndividualData/lawler-data/10.6/10.6.shm\n",
      "Loading File:  ../data/IndividualData/lawler-data/10.4/10.4.shm\n",
      "Loading File:  ../data/IndividualData/lawler-data/10.28/10.28.shm\n",
      "Loading File:  ../data/IndividualData/lawler-data/11.3/11.3.shm\n",
      "Loading File:  ../data/IndividualData/lawler-data/10.20/evening_2hr_20min/10.20.shm\n",
      "Loading File:  ../data/IndividualData/lawler-data/10.26/10.26.shm\n",
      "Loading File:  ../data/IndividualData/lawler-data/10.31/10.31.shm\n",
      "Loading File:  ../data/IndividualData/lawler-data/10.31/evening-2hr_goodDinnerTemplate_CFAmeal/10.31.shm\n",
      "Loading File:  ../data/IndividualData/lawler-data/10.21/10.21.shm\n",
      "Loading File:  ../data/IndividualData/lawler-data/10.16/10.16.shm\n",
      "Loading File:  ../data/IndividualData/lawler-data/10.20/afternoon_2hr33min/10.20.shm\n",
      "Day:  0\n",
      "Segmentation Completed. \n",
      "Day:  1\n",
      "Segmentation Completed. \n",
      "Day:  2\n",
      "Segmentation Completed. \n",
      "Day:  3\n",
      "Segmentation Completed. \n",
      "Day:  4\n",
      "Segmentation Completed. \n",
      "Day:  5\n",
      "Segmentation Completed. \n",
      "Day:  6\n",
      "Segmentation Completed. \n",
      "Day:  7\n",
      "Segmentation Completed. \n",
      "Day:  8\n",
      "Segmentation Completed. \n",
      "Day:  9\n",
      "Segmentation Completed. \n",
      "Day:  10\n",
      "Segmentation Completed. \n",
      "Day:  11\n",
      "Segmentation Completed. \n",
      "Day:  12\n",
      "Segmentation Completed. \n",
      "Day:  13\n",
      "Segmentation Completed. \n",
      "Day:  14\n",
      "Segmentation Completed. \n",
      "Day:  15\n",
      "Segmentation Completed. \n",
      "Day:  16\n",
      "Segmentation Completed. \n",
      "Day:  17\n",
      "Segmentation Completed. \n",
      "Day:  18\n",
      "Segmentation Completed. \n",
      "Day:  19\n",
      "Segmentation Completed. \n",
      "Day:  20\n",
      "Segmentation Completed. \n",
      "Day:  21\n",
      "Segmentation Completed. \n",
      "Day:  22\n",
      "Segmentation Completed. \n",
      "total_meal: 61 TP:  27 FP:  26 FN:  34\n",
      "        TPR     FP/TP  TP  FP  FN\n",
      "0  0.442623  0.962963  27  26  34\n",
      "Day:  0\n",
      "Segmentation Completed. \n",
      "Day:  1\n",
      "Segmentation Completed. \n",
      "Day:  2\n",
      "Segmentation Completed. \n",
      "Day:  3\n",
      "Segmentation Completed. \n",
      "Day:  4\n",
      "Segmentation Completed. \n",
      "Day:  5\n",
      "Segmentation Completed. \n",
      "Day:  6\n",
      "Segmentation Completed. \n",
      "Day:  7\n",
      "Segmentation Completed. \n",
      "Day:  8\n",
      "Segmentation Completed. \n",
      "Day:  9\n",
      "Segmentation Completed. \n",
      "Day:  10\n",
      "Segmentation Completed. \n",
      "Day:  11\n",
      "Segmentation Completed. \n",
      "Day:  12\n",
      "Segmentation Completed. \n",
      "Day:  13\n",
      "Segmentation Completed. \n",
      "Day:  14\n",
      "Segmentation Completed. \n",
      "Day:  15\n",
      "Segmentation Completed. \n",
      "Day:  16\n",
      "Segmentation Completed. \n",
      "Day:  17\n",
      "Segmentation Completed. \n",
      "Day:  18\n",
      "Segmentation Completed. \n",
      "Day:  19\n",
      "Segmentation Completed. \n",
      "Day:  20\n",
      "Segmentation Completed. \n",
      "Day:  21\n",
      "Segmentation Completed. \n",
      "Day:  22\n",
      "Segmentation Completed. \n",
      "total_meal: 61 TP:  20 FP:  52 FN:  41\n",
      "        TPR  FP/TP  TP  FP  FN\n",
      "0  0.327869    2.6  20  52  41\n",
      "Loading Dataset ...\n",
      "Loading File:  ../data/IndividualData/shaurya-data/10.25.2020/Data.shm\n",
      "Loading File:  ../data/IndividualData/shaurya-data/10.22.2020/Data.shm\n",
      "Loading File:  ../data/IndividualData/shaurya-data/11.15.2020/Data.shm\n",
      "Loading File:  ../data/IndividualData/shaurya-data/11.17.2020/Data.shm\n",
      "Loading File:  ../data/IndividualData/shaurya-data/11.1.2020/Data.shm\n",
      "Loading File:  ../data/IndividualData/shaurya-data/11.18.2020/Data.shm\n",
      "Day:  0\n",
      "Segmentation Completed. \n",
      "Day:  1\n",
      "Segmentation Completed. \n",
      "Day:  2\n",
      "Segmentation Completed. \n",
      "Day:  3\n",
      "Segmentation Completed. \n",
      "Day:  4\n",
      "Segmentation Completed. \n",
      "Day:  5\n",
      "Segmentation Completed. \n",
      "total_meal: 17 TP:  14 FP:  30 FN:  3\n",
      "        TPR     FP/TP  TP  FP  FN\n",
      "0  0.823529  2.142857  14  30   3\n",
      "Day:  0\n",
      "Segmentation Completed. \n",
      "Day:  1\n",
      "Segmentation Completed. \n",
      "Day:  2\n",
      "Segmentation Completed. \n",
      "Day:  3\n",
      "Segmentation Completed. \n",
      "Day:  4\n",
      "Segmentation Completed. \n",
      "Day:  5\n",
      "Segmentation Completed. \n",
      "total_meal: 17 TP:  14 FP:  9 FN:  3\n",
      "        TPR     FP/TP  TP  FP  FN\n",
      "0  0.823529  0.642857  14   9   3\n"
     ]
    }
   ],
   "source": [
    "%time all_data_episode_perf_df = test_models_episode_metric(winmin=6, stridesec = 5,names= [\"wenkanw\",\"adam\",\"lawler\",\"shaurya\"],random_seed=1000, test_balance=False, test_CAD=False,test_alldata=True)"
   ]
  },
  {
   "cell_type": "code",
   "execution_count": null,
   "metadata": {},
   "outputs": [],
   "source": []
  },
  {
   "cell_type": "code",
   "execution_count": 308,
   "metadata": {},
   "outputs": [],
   "source": [
    "hythreshold2 = {'wenkanw':[0.6, 0.3], 'adam':[0.6,0.3],'lawler':[0.6,0.3], 'shaurya':[0.6,0.3]}"
   ]
  },
  {
   "cell_type": "code",
   "execution_count": 309,
   "metadata": {
    "scrolled": true
   },
   "outputs": [
    {
     "name": "stdout",
     "output_type": "stream",
     "text": [
      "Loading Dataset ...\n",
      "Loading File:  ../data/IndividualData/wenkanw-data/11-14-20/11-14-20.shm\n",
      "Loading File:  ../data/IndividualData/wenkanw-data/10-13-20/10-13-20.shm\n",
      "Loading File:  ../data/IndividualData/wenkanw-data/10-9-20/10-10-20.shm\n",
      "Loading File:  ../data/IndividualData/wenkanw-data/11-21-20/Dinner/Dinner.shm\n",
      "Loading File:  ../data/IndividualData/wenkanw-data/9-17-20/9-17-20.shm\n",
      "Loading File:  ../data/IndividualData/wenkanw-data/9-29-20/9-29-20.shm\n",
      "Loading File:  ../data/IndividualData/wenkanw-data/11-22-20/Lunch/Lunch.shm\n",
      "Loading File:  ../data/IndividualData/wenkanw-data/11-21-20/lunch/lunch.shm\n",
      "Loading File:  ../data/IndividualData/wenkanw-data/10-9-20/10-9-20.shm\n",
      "Loading File:  ../data/IndividualData/wenkanw-data/11-18-20/11-18-20.shm\n",
      "Loading File:  ../data/IndividualData/wenkanw-data/10-14-20/10-14-20.shm\n",
      "Loading File:  ../data/IndividualData/wenkanw-data/10-12-20/10-12-20.shm\n",
      "Loading File:  ../data/IndividualData/wenkanw-data/11-16-20/11-16-20.shm\n",
      "Loading File:  ../data/IndividualData/wenkanw-data/9-27-20/9-27-20.shm\n",
      "Loading File:  ../data/IndividualData/wenkanw-data/10-3-20/10-3-20.shm\n",
      "Loading File:  ../data/IndividualData/wenkanw-data/10-10-20/10-10-20.shm\n",
      "Loading File:  ../data/IndividualData/wenkanw-data/11-22-20/Dinner/Dinner.shm\n",
      "Day:  0\n",
      "Segmentation Completed. \n",
      "Day:  1\n",
      "Segmentation Completed. \n",
      "Day:  2\n",
      "Segmentation Completed. \n",
      "Day:  3\n",
      "Segmentation Completed. \n",
      "Day:  4\n",
      "Segmentation Completed. \n",
      "Day:  5\n",
      "Segmentation Completed. \n",
      "Day:  6\n",
      "Segmentation Completed. \n",
      "Day:  7\n",
      "Segmentation Completed. \n",
      "Day:  8\n",
      "Segmentation Completed. \n",
      "Day:  9\n",
      "Segmentation Completed. \n",
      "Day:  10\n",
      "Segmentation Completed. \n",
      "Day:  11\n",
      "Segmentation Completed. \n",
      "Day:  12\n",
      "Segmentation Completed. \n",
      "Day:  13\n",
      "Segmentation Completed. \n",
      "Day:  14\n",
      "Segmentation Completed. \n",
      "Day:  15\n",
      "Segmentation Completed. \n",
      "Day:  16\n",
      "Segmentation Completed. \n",
      "total_meal: 32 TP:  31 FP:  40 FN:  1\n",
      "       TPR     FP/TP  TP  FP  FN\n",
      "0  0.96875  1.290323  31  40   1\n",
      "Day:  0\n",
      "Segmentation Completed. \n",
      "Day:  1\n",
      "Segmentation Completed. \n",
      "Day:  2\n",
      "Segmentation Completed. \n",
      "Day:  3\n",
      "Segmentation Completed. \n",
      "Day:  4\n",
      "Segmentation Completed. \n",
      "Day:  5\n",
      "Segmentation Completed. \n",
      "Day:  6\n",
      "Segmentation Completed. \n",
      "Day:  7\n",
      "Segmentation Completed. \n",
      "Day:  8\n",
      "Segmentation Completed. \n",
      "Day:  9\n",
      "Segmentation Completed. \n",
      "Day:  10\n",
      "Segmentation Completed. \n",
      "Day:  11\n",
      "Segmentation Completed. \n",
      "Day:  12\n",
      "Segmentation Completed. \n",
      "Day:  13\n",
      "Segmentation Completed. \n",
      "Day:  14\n",
      "Segmentation Completed. \n",
      "Day:  15\n",
      "Segmentation Completed. \n",
      "Day:  16\n",
      "Segmentation Completed. \n",
      "total_meal: 32 TP:  27 FP:  41 FN:  5\n",
      "       TPR     FP/TP  TP  FP  FN\n",
      "0  0.84375  1.518519  27  41   5\n",
      "Loading Dataset ...\n",
      "Loading File:  ../data/IndividualData/adam-data/12-01-2020/12-01-2020.shm\n",
      "Loading File:  ../data/IndividualData/adam-data/11-24-2020/11-24-2020.shm\n",
      "Loading File:  ../data/IndividualData/adam-data/11-30-2020/11-30-2020.shm\n",
      "Loading File:  ../data/IndividualData/adam-data/09-22-2020/09-22-2020.shm\n",
      "Loading File:  ../data/IndividualData/adam-data/12-03-2020/12-03-2020.shm\n",
      "Loading File:  ../data/IndividualData/adam-data/12-11-2020/12-11-2020.shm\n",
      "Loading File:  ../data/IndividualData/adam-data/11-25-2020/11-25-2020.shm\n",
      "Loading File:  ../data/IndividualData/adam-data/12-08-2020/12-08-2020.shm\n",
      "Loading File:  ../data/IndividualData/adam-data/12-07-2020/12-07-2020.shm\n",
      "Loading File:  ../data/IndividualData/adam-data/11-26-2020/11-26-2020.shm\n",
      "Loading File:  ../data/IndividualData/adam-data/12-02-2020/12-02-2020.shm\n",
      "Loading File:  ../data/IndividualData/adam-data/12-04-2020/12-04-2020.shm\n",
      "Loading File:  ../data/IndividualData/adam-data/12-09-2020/12-09-2020.shm\n",
      "Loading File:  ../data/IndividualData/adam-data/12-10-2020/12-10-2020.shm\n",
      "Day:  0\n",
      "Segmentation Completed. \n",
      "Day:  1\n",
      "Segmentation Completed. \n",
      "Day:  2\n",
      "Segmentation Completed. \n",
      "Day:  3\n",
      "Segmentation Completed. \n",
      "Day:  4\n",
      "Segmentation Completed. \n",
      "Day:  5\n",
      "Segmentation Completed. \n",
      "Day:  6\n",
      "Segmentation Completed. \n",
      "Day:  7\n",
      "Segmentation Completed. \n",
      "Day:  8\n",
      "Segmentation Completed. \n",
      "Day:  9\n",
      "Segmentation Completed. \n",
      "Day:  10\n",
      "Segmentation Completed. \n",
      "Day:  11\n",
      "Segmentation Completed. \n",
      "Day:  12\n",
      "Segmentation Completed. \n",
      "Day:  13\n",
      "Segmentation Completed. \n",
      "total_meal: 26 TP:  24 FP:  23 FN:  2\n",
      "        TPR     FP/TP  TP  FP  FN\n",
      "0  0.923077  0.958333  24  23   2\n",
      "Day:  0\n",
      "Segmentation Completed. \n",
      "Day:  1\n",
      "Segmentation Completed. \n",
      "Day:  2\n",
      "Segmentation Completed. \n",
      "Day:  3\n",
      "Segmentation Completed. \n",
      "Day:  4\n",
      "Segmentation Completed. \n",
      "Day:  5\n",
      "Segmentation Completed. \n",
      "Day:  6\n",
      "Segmentation Completed. \n",
      "Day:  7\n",
      "Segmentation Completed. \n",
      "Day:  8\n",
      "Segmentation Completed. \n",
      "Day:  9\n",
      "Segmentation Completed. \n",
      "Day:  10\n",
      "Segmentation Completed. \n",
      "Day:  11\n",
      "Segmentation Completed. \n",
      "Day:  12\n",
      "Segmentation Completed. \n",
      "Day:  13\n",
      "Segmentation Completed. \n",
      "total_meal: 26 TP:  25 FP:  33 FN:  1\n",
      "        TPR  FP/TP  TP  FP  FN\n",
      "0  0.961538   1.32  25  33   1\n",
      "Loading Dataset ...\n",
      "Loading File:  ../data/IndividualData/lawler-data/10.19/10.19.shm\n",
      "Loading File:  ../data/IndividualData/lawler-data/11.14/11.14.shm\n",
      "Loading File:  ../data/IndividualData/lawler-data/10.10/10.10.shm\n",
      "Loading File:  ../data/IndividualData/lawler-data/11.2/11.2.shm\n",
      "Loading File:  ../data/IndividualData/lawler-data/10.8/10.8.shm\n",
      "Loading File:  ../data/IndividualData/lawler-data/11.15/11.15.shm\n",
      "Loading File:  ../data/IndividualData/lawler-data/10.14/10.14.shm\n",
      "Loading File:  ../data/IndividualData/lawler-data/9.23/9.23_13hr.shm\n",
      "Loading File:  ../data/IndividualData/lawler-data/10.12/10.12.shm\n",
      "Loading File:  ../data/IndividualData/lawler-data/11.11/11.11.shm\n",
      "Loading File:  ../data/IndividualData/lawler-data/11.4/11.4.shm\n",
      "Loading File:  ../data/IndividualData/lawler-data/9.25/9.25_1-46.shm\n",
      "Loading File:  ../data/IndividualData/lawler-data/10.6/10.6.shm\n",
      "Loading File:  ../data/IndividualData/lawler-data/10.4/10.4.shm\n",
      "Loading File:  ../data/IndividualData/lawler-data/10.28/10.28.shm\n",
      "Loading File:  ../data/IndividualData/lawler-data/11.3/11.3.shm\n",
      "Loading File:  ../data/IndividualData/lawler-data/10.20/evening_2hr_20min/10.20.shm\n",
      "Loading File:  ../data/IndividualData/lawler-data/10.26/10.26.shm\n",
      "Loading File:  ../data/IndividualData/lawler-data/10.31/10.31.shm\n",
      "Loading File:  ../data/IndividualData/lawler-data/10.31/evening-2hr_goodDinnerTemplate_CFAmeal/10.31.shm\n",
      "Loading File:  ../data/IndividualData/lawler-data/10.21/10.21.shm\n",
      "Loading File:  ../data/IndividualData/lawler-data/10.16/10.16.shm\n",
      "Loading File:  ../data/IndividualData/lawler-data/10.20/afternoon_2hr33min/10.20.shm\n",
      "Day:  0\n",
      "Segmentation Completed. \n",
      "Day:  1\n",
      "Segmentation Completed. \n",
      "Day:  2\n",
      "Segmentation Completed. \n",
      "Day:  3\n",
      "Segmentation Completed. \n",
      "Day:  4\n",
      "Segmentation Completed. \n",
      "Day:  5\n",
      "Segmentation Completed. \n",
      "Day:  6\n",
      "Segmentation Completed. \n",
      "Day:  7\n",
      "Segmentation Completed. \n",
      "Day:  8\n",
      "Segmentation Completed. \n",
      "Day:  9\n",
      "Segmentation Completed. \n",
      "Day:  10\n",
      "Segmentation Completed. \n",
      "Day:  11\n",
      "Segmentation Completed. \n",
      "Day:  12\n",
      "Segmentation Completed. \n",
      "Day:  13\n",
      "Segmentation Completed. \n",
      "Day:  14\n",
      "Segmentation Completed. \n",
      "Day:  15\n",
      "Segmentation Completed. \n",
      "Day:  16\n",
      "Segmentation Completed. \n",
      "Day:  17\n",
      "Segmentation Completed. \n",
      "Day:  18\n",
      "Segmentation Completed. \n",
      "Day:  19\n",
      "Segmentation Completed. \n",
      "Day:  20\n",
      "Segmentation Completed. \n",
      "Day:  21\n",
      "Segmentation Completed. \n",
      "Day:  22\n",
      "Segmentation Completed. \n",
      "total_meal: 61 TP:  51 FP:  79 FN:  10\n",
      "        TPR    FP/TP  TP  FP  FN\n",
      "0  0.836066  1.54902  51  79  10\n",
      "Day:  0\n",
      "Segmentation Completed. \n",
      "Day:  1\n",
      "Segmentation Completed. \n",
      "Day:  2\n",
      "Segmentation Completed. \n",
      "Day:  3\n",
      "Segmentation Completed. \n",
      "Day:  4\n",
      "Segmentation Completed. \n",
      "Day:  5\n",
      "Segmentation Completed. \n",
      "Day:  6\n",
      "Segmentation Completed. \n",
      "Day:  7\n",
      "Segmentation Completed. \n",
      "Day:  8\n",
      "Segmentation Completed. \n",
      "Day:  9\n",
      "Segmentation Completed. \n",
      "Day:  10\n",
      "Segmentation Completed. \n",
      "Day:  11\n",
      "Segmentation Completed. \n",
      "Day:  12\n",
      "Segmentation Completed. \n",
      "Day:  13\n",
      "Segmentation Completed. \n",
      "Day:  14\n",
      "Segmentation Completed. \n",
      "Day:  15\n",
      "Segmentation Completed. \n",
      "Day:  16\n",
      "Segmentation Completed. \n",
      "Day:  17\n",
      "Segmentation Completed. \n",
      "Day:  18\n",
      "Segmentation Completed. \n",
      "Day:  19\n",
      "Segmentation Completed. \n",
      "Day:  20\n",
      "Segmentation Completed. \n",
      "Day:  21\n",
      "Segmentation Completed. \n",
      "Day:  22\n",
      "Segmentation Completed. \n",
      "total_meal: 61 TP:  39 FP:  87 FN:  22\n",
      "        TPR     FP/TP  TP  FP  FN\n",
      "0  0.639344  2.230769  39  87  22\n",
      "Loading Dataset ...\n",
      "Loading File:  ../data/IndividualData/shaurya-data/10.25.2020/Data.shm\n",
      "Loading File:  ../data/IndividualData/shaurya-data/10.22.2020/Data.shm\n",
      "Loading File:  ../data/IndividualData/shaurya-data/11.15.2020/Data.shm\n",
      "Loading File:  ../data/IndividualData/shaurya-data/11.17.2020/Data.shm\n",
      "Loading File:  ../data/IndividualData/shaurya-data/11.1.2020/Data.shm\n",
      "Loading File:  ../data/IndividualData/shaurya-data/11.18.2020/Data.shm\n",
      "Day:  0\n",
      "Segmentation Completed. \n",
      "Day:  1\n",
      "Segmentation Completed. \n",
      "Day:  2\n",
      "Segmentation Completed. \n",
      "Day:  3\n",
      "Segmentation Completed. \n",
      "Day:  4\n",
      "Segmentation Completed. \n",
      "Day:  5\n",
      "Segmentation Completed. \n",
      "total_meal: 17 TP:  15 FP:  35 FN:  2\n",
      "        TPR     FP/TP  TP  FP  FN\n",
      "0  0.882353  2.333333  15  35   2\n",
      "Day:  0\n",
      "Segmentation Completed. \n",
      "Day:  1\n",
      "Segmentation Completed. \n",
      "Day:  2\n",
      "Segmentation Completed. \n",
      "Day:  3\n",
      "Segmentation Completed. \n",
      "Day:  4\n",
      "Segmentation Completed. \n",
      "Day:  5\n",
      "Segmentation Completed. \n",
      "total_meal: 17 TP:  15 FP:  23 FN:  2\n",
      "        TPR     FP/TP  TP  FP  FN\n",
      "0  0.882353  1.533333  15  23   2\n",
      "CPU times: user 18min 34s, sys: 1min 53s, total: 20min 28s\n",
      "Wall time: 13min 25s\n"
     ]
    }
   ],
   "source": [
    "%time all_data_episode_perf_df = test_models_episode_metric(winmin=6, stridesec = 5,names= [\"wenkanw\",\"adam\",\"lawler\",\"shaurya\"],random_seed=1000, test_balance=False, test_CAD=False,test_alldata=True,threshold=hythreshold2)"
   ]
  },
  {
   "cell_type": "code",
   "execution_count": 312,
   "metadata": {},
   "outputs": [
    {
     "data": {
      "text/html": [
       "<div>\n",
       "<style scoped>\n",
       "    .dataframe tbody tr th:only-of-type {\n",
       "        vertical-align: middle;\n",
       "    }\n",
       "\n",
       "    .dataframe tbody tr th {\n",
       "        vertical-align: top;\n",
       "    }\n",
       "\n",
       "    .dataframe thead th {\n",
       "        text-align: right;\n",
       "    }\n",
       "</style>\n",
       "<table border=\"1\" class=\"dataframe\">\n",
       "  <thead>\n",
       "    <tr style=\"text-align: right;\">\n",
       "      <th></th>\n",
       "      <th>dataset</th>\n",
       "      <th>Days</th>\n",
       "      <th>Meal_Hours</th>\n",
       "      <th>Meal_Counts</th>\n",
       "      <th>win(sec)</th>\n",
       "      <th>TPR: Individual-Model</th>\n",
       "      <th>TPR: GroupModel</th>\n",
       "      <th>FP/TP: Individual-Model</th>\n",
       "      <th>FP/TP: GroupModel</th>\n",
       "      <th>TP: Individual-Model</th>\n",
       "      <th>TP: GroupModel</th>\n",
       "      <th>FP: Individual-Model</th>\n",
       "      <th>FP: GroupModel</th>\n",
       "      <th>FN: Individual-Model</th>\n",
       "      <th>FN: GroupModel</th>\n",
       "    </tr>\n",
       "  </thead>\n",
       "  <tbody>\n",
       "    <tr>\n",
       "      <th>0</th>\n",
       "      <td>wenkanw</td>\n",
       "      <td>17</td>\n",
       "      <td>7</td>\n",
       "      <td>32</td>\n",
       "      <td>360</td>\n",
       "      <td>0.969</td>\n",
       "      <td>0.844</td>\n",
       "      <td>1.29</td>\n",
       "      <td>1.519</td>\n",
       "      <td>31</td>\n",
       "      <td>27</td>\n",
       "      <td>40</td>\n",
       "      <td>41</td>\n",
       "      <td>1</td>\n",
       "      <td>5</td>\n",
       "    </tr>\n",
       "    <tr>\n",
       "      <th>1</th>\n",
       "      <td>adam</td>\n",
       "      <td>14</td>\n",
       "      <td>3</td>\n",
       "      <td>26</td>\n",
       "      <td>360</td>\n",
       "      <td>0.923</td>\n",
       "      <td>0.962</td>\n",
       "      <td>0.958</td>\n",
       "      <td>1.32</td>\n",
       "      <td>24</td>\n",
       "      <td>25</td>\n",
       "      <td>23</td>\n",
       "      <td>33</td>\n",
       "      <td>2</td>\n",
       "      <td>1</td>\n",
       "    </tr>\n",
       "    <tr>\n",
       "      <th>2</th>\n",
       "      <td>lawler</td>\n",
       "      <td>23</td>\n",
       "      <td>25</td>\n",
       "      <td>61</td>\n",
       "      <td>360</td>\n",
       "      <td>0.836</td>\n",
       "      <td>0.639</td>\n",
       "      <td>1.549</td>\n",
       "      <td>2.231</td>\n",
       "      <td>51</td>\n",
       "      <td>39</td>\n",
       "      <td>79</td>\n",
       "      <td>87</td>\n",
       "      <td>10</td>\n",
       "      <td>22</td>\n",
       "    </tr>\n",
       "    <tr>\n",
       "      <th>3</th>\n",
       "      <td>shaurya</td>\n",
       "      <td>6</td>\n",
       "      <td>3</td>\n",
       "      <td>17</td>\n",
       "      <td>360</td>\n",
       "      <td>0.882</td>\n",
       "      <td>0.882</td>\n",
       "      <td>2.333</td>\n",
       "      <td>1.533</td>\n",
       "      <td>15</td>\n",
       "      <td>15</td>\n",
       "      <td>35</td>\n",
       "      <td>23</td>\n",
       "      <td>2</td>\n",
       "      <td>2</td>\n",
       "    </tr>\n",
       "    <tr>\n",
       "      <th>4</th>\n",
       "      <td>average performance</td>\n",
       "      <td>-</td>\n",
       "      <td>-</td>\n",
       "      <td>-</td>\n",
       "      <td>-</td>\n",
       "      <td>0.902</td>\n",
       "      <td>0.832</td>\n",
       "      <td>1.533</td>\n",
       "      <td>1.651</td>\n",
       "      <td>30.25</td>\n",
       "      <td>26.5</td>\n",
       "      <td>44.25</td>\n",
       "      <td>46</td>\n",
       "      <td>3.75</td>\n",
       "      <td>7.5</td>\n",
       "    </tr>\n",
       "  </tbody>\n",
       "</table>\n",
       "</div>"
      ],
      "text/plain": [
       "               dataset Days Meal_Hours Meal_Counts win(sec)  \\\n",
       "0              wenkanw   17          7          32      360   \n",
       "1                 adam   14          3          26      360   \n",
       "2               lawler   23         25          61      360   \n",
       "3              shaurya    6          3          17      360   \n",
       "4  average performance    -          -           -        -   \n",
       "\n",
       "  TPR: Individual-Model TPR: GroupModel FP/TP: Individual-Model  \\\n",
       "0                 0.969           0.844                    1.29   \n",
       "1                 0.923           0.962                   0.958   \n",
       "2                 0.836           0.639                   1.549   \n",
       "3                 0.882           0.882                   2.333   \n",
       "4                 0.902           0.832                   1.533   \n",
       "\n",
       "  FP/TP: GroupModel TP: Individual-Model TP: GroupModel FP: Individual-Model  \\\n",
       "0             1.519                   31             27                   40   \n",
       "1              1.32                   24             25                   23   \n",
       "2             2.231                   51             39                   79   \n",
       "3             1.533                   15             15                   35   \n",
       "4             1.651                30.25           26.5                44.25   \n",
       "\n",
       "  FP: GroupModel FN: Individual-Model FN: GroupModel  \n",
       "0             41                    1              5  \n",
       "1             33                    2              1  \n",
       "2             87                   10             22  \n",
       "3             23                    2              2  \n",
       "4             46                 3.75            7.5  "
      ]
     },
     "execution_count": 312,
     "metadata": {},
     "output_type": "execute_result"
    }
   ],
   "source": [
    "episode_metrics = print_episode_metrics(all_data_episode_perf_df)\n",
    "episode_metrics "
   ]
  },
  {
   "cell_type": "code",
   "execution_count": null,
   "metadata": {},
   "outputs": [],
   "source": []
  },
  {
   "cell_type": "code",
   "execution_count": null,
   "metadata": {},
   "outputs": [],
   "source": []
  },
  {
   "cell_type": "code",
   "execution_count": null,
   "metadata": {},
   "outputs": [],
   "source": []
  },
  {
   "cell_type": "code",
   "execution_count": null,
   "metadata": {},
   "outputs": [],
   "source": []
  },
  {
   "cell_type": "code",
   "execution_count": null,
   "metadata": {},
   "outputs": [],
   "source": []
  },
  {
   "cell_type": "markdown",
   "metadata": {},
   "source": [
    "# 4. Visualize generated probability sequence"
   ]
  },
  {
   "cell_type": "code",
   "execution_count": 61,
   "metadata": {},
   "outputs": [],
   "source": [
    "def map_prediction_gt(meal_data, day,possib_result ):\n",
    "    \"\"\"\n",
    "    Convert segmentation back to binary labels\n",
    "    and Map the prediction possibility sequence  back to the same shape\n",
    "    \"\"\"\n",
    "    day = int(day)\n",
    "    res = possib_result \n",
    "    possib = np.array(res.proba.iloc[day])\n",
    "    step= res[\"stepsec\"].iloc[0] *15\n",
    "    start_ls, end_ls = meal_data.get_GT_segment()\n",
    "    start_ls = start_ls[day]\n",
    "    end_ls = end_ls[day]\n",
    "    proba = np.zeros([len(meal_data.data[day]), ] )\n",
    "    labels = np.zeros([len(meal_data.data[day]), ] )\n",
    "    preds = np.zeros([len(meal_data.data[day]), ] )\n",
    "    \n",
    "    #probability sequence\n",
    "    for i in range(len(possib)):\n",
    "        proba[i*step: (i+1)*step]= possib[i]\n",
    "    \n",
    "    # GT label\n",
    "    for i in range(len(start_ls)):\n",
    "        labels[start_ls[i]:end_ls[i]+1] = 1\n",
    "        \n",
    "    # prediction label by hysteresis threshold\n",
    "    seg_start_ls = res[\"segment_start\"].iloc[day]\n",
    "    seg_end_ls = res[\"segment_end\"].iloc[day]\n",
    "    for i in range(len(seg_start_ls)):\n",
    "        s = int(seg_start_ls[i] * step)\n",
    "        e = int(seg_end_ls[i] * step)\n",
    "        preds[s:e] =1\n",
    "    return proba, labels, preds\n",
    "\n",
    "def map_results(meal_data,possib_result):\n",
    "    \"\"\"\n",
    "    Convert segmentation back to binary labels\n",
    "    and Map the prediction possibility sequence  back to the same shape\n",
    "    for all days of data\n",
    "    \"\"\"\n",
    "    proba_ls, labels_ls, preds_ls = [],[],[]\n",
    "\n",
    "    for day in range(len(possib_result)):\n",
    "        proba, labels, preds = map_prediction_gt(meal_data, day,possib_result )\n",
    "        proba_ls.append(proba)\n",
    "        labels_ls.append(labels)\n",
    "        preds_ls.append(preds)\n",
    "    return  proba_ls, labels_ls, preds_ls"
   ]
  },
  {
   "cell_type": "code",
   "execution_count": 62,
   "metadata": {},
   "outputs": [],
   "source": [
    "\n",
    "def get_episode_output(names= [], threshold= None, use_group_model= False,load_proba_flag=True):\n",
    "    \"\"\"\n",
    "    Generate probability sequences for all days of data in all dataset\n",
    "    \"\"\"\n",
    "    output_df = {\"dataset\":[],\"proba_ls\":[],\"labels_ls\":[],\"preds_ls\":[]}\n",
    "    if not threshold:\n",
    "        threshold = {'wenkanw':[0.8, 0.3], 'adam':[0.8,0.3],'lawler':[0.8,0.3], 'shaurya':[0.8,0.3]}\n",
    "    for person in names:\n",
    "        output_df[\"dataset\"].append(person)\n",
    "        meal_data = Person_MealsDataset(person_name= person, file_name = \"all_files_list\", winmin = 6,stridesec = 5,smooth_flag = 1,\n",
    "                         normalize_flag = 1)\n",
    "        high_th, low_th = threshold[person][0], threshold[person][1]\n",
    "        if use_group_model:\n",
    "            model = tf.keras.models.load_model('../models/CAD_models/acti_6min_M_F_6.000000Min.h5')\n",
    "            result = hysteresis_threshold(model, meal_data,start_threshold=high_th, end_threshold=low_th, winmin = 6, stepsec=5, episode_min = 1.,\n",
    "                                     load_proba_flag=load_proba_flag,path=\"../results/possibility_results/group_\")\n",
    "        else:\n",
    "            model = tf.keras.models.load_model('../models/'+ person + '_models/acti_6min_split_day_M_F_6.000000Min.h5')\n",
    "            result = hysteresis_threshold(model, meal_data,start_threshold=high_th, end_threshold=low_th, winmin = 6, stepsec=5, episode_min = 1.,\n",
    "                                     load_proba_flag=load_proba_flag)\n",
    "            \n",
    "        proba_ls, labels_ls, preds_ls =map_results(meal_data,result)\n",
    "        output_df[\"proba_ls\"].append(proba_ls)\n",
    "        output_df[\"labels_ls\"].append(labels_ls)\n",
    "        output_df[\"preds_ls\"].append(preds_ls)\n",
    "    return pd.DataFrame(output_df)"
   ]
  },
  {
   "cell_type": "code",
   "execution_count": 63,
   "metadata": {},
   "outputs": [],
   "source": [
    "def transform_output(proba_ls,labels_ls):\n",
    "    \"\"\"\n",
    "    Concatenate probabilities, labels of all days\n",
    "    \"\"\"\n",
    "    proba_df= np.array([])\n",
    "    label_df= np.array([])\n",
    "    for i in range(len(proba_ls)):\n",
    "            proba_df = np.concatenate((proba_df,proba_ls[i]), axis=None)\n",
    "            label_df = np.concatenate((label_df,labels_ls[i]), axis=None)\n",
    "    return proba_df ,label_df"
   ]
  },
  {
   "cell_type": "markdown",
   "metadata": {},
   "source": [
    "## 4.1 Obtain Probability sequence, episode predictions and GT label"
   ]
  },
  {
   "cell_type": "code",
   "execution_count": 66,
   "metadata": {
    "scrolled": true
   },
   "outputs": [
    {
     "name": "stdout",
     "output_type": "stream",
     "text": [
      "Loading Dataset ...\n",
      "Loading File:  ../data/IndividualData/wenkanw-data/11-14-20/11-14-20.shm\n",
      "Loading File:  ../data/IndividualData/wenkanw-data/10-13-20/10-13-20.shm\n",
      "Loading File:  ../data/IndividualData/wenkanw-data/10-9-20/10-10-20.shm\n",
      "Loading File:  ../data/IndividualData/wenkanw-data/11-21-20/Dinner/Dinner.shm\n",
      "Loading File:  ../data/IndividualData/wenkanw-data/9-17-20/9-17-20.shm\n",
      "Loading File:  ../data/IndividualData/wenkanw-data/9-29-20/9-29-20.shm\n",
      "Loading File:  ../data/IndividualData/wenkanw-data/11-22-20/Lunch/Lunch.shm\n",
      "Loading File:  ../data/IndividualData/wenkanw-data/11-21-20/lunch/lunch.shm\n",
      "Loading File:  ../data/IndividualData/wenkanw-data/10-9-20/10-9-20.shm\n",
      "Loading File:  ../data/IndividualData/wenkanw-data/11-18-20/11-18-20.shm\n",
      "Loading File:  ../data/IndividualData/wenkanw-data/10-14-20/10-14-20.shm\n",
      "Loading File:  ../data/IndividualData/wenkanw-data/10-12-20/10-12-20.shm\n",
      "Loading File:  ../data/IndividualData/wenkanw-data/11-16-20/11-16-20.shm\n",
      "Loading File:  ../data/IndividualData/wenkanw-data/9-27-20/9-27-20.shm\n",
      "Loading File:  ../data/IndividualData/wenkanw-data/10-3-20/10-3-20.shm\n",
      "Loading File:  ../data/IndividualData/wenkanw-data/10-10-20/10-10-20.shm\n",
      "Loading File:  ../data/IndividualData/wenkanw-data/11-22-20/Dinner/Dinner.shm\n"
     ]
    },
    {
     "name": "stderr",
     "output_type": "stream",
     "text": [
      "100%|██████████| 17/17 [00:00<00:00, 399.93it/s]\n"
     ]
    },
    {
     "name": "stdout",
     "output_type": "stream",
     "text": [
      "Segmentation Completed. \n",
      "Loading Dataset ...\n",
      "Loading File:  ../data/IndividualData/adam-data/12-01-2020/12-01-2020.shm\n",
      "Loading File:  ../data/IndividualData/adam-data/11-24-2020/11-24-2020.shm\n",
      "Loading File:  ../data/IndividualData/adam-data/11-30-2020/11-30-2020.shm\n",
      "Loading File:  ../data/IndividualData/adam-data/09-22-2020/09-22-2020.shm\n",
      "Loading File:  ../data/IndividualData/adam-data/12-03-2020/12-03-2020.shm\n",
      "Loading File:  ../data/IndividualData/adam-data/12-11-2020/12-11-2020.shm\n",
      "Loading File:  ../data/IndividualData/adam-data/11-25-2020/11-25-2020.shm\n",
      "Loading File:  ../data/IndividualData/adam-data/12-08-2020/12-08-2020.shm\n",
      "Loading File:  ../data/IndividualData/adam-data/12-07-2020/12-07-2020.shm\n",
      "Loading File:  ../data/IndividualData/adam-data/11-26-2020/11-26-2020.shm\n",
      "Loading File:  ../data/IndividualData/adam-data/12-02-2020/12-02-2020.shm\n",
      "Loading File:  ../data/IndividualData/adam-data/12-04-2020/12-04-2020.shm\n",
      "Loading File:  ../data/IndividualData/adam-data/12-09-2020/12-09-2020.shm\n",
      "Loading File:  ../data/IndividualData/adam-data/12-10-2020/12-10-2020.shm\n"
     ]
    },
    {
     "name": "stderr",
     "output_type": "stream",
     "text": [
      "100%|██████████| 14/14 [00:00<00:00, 335.98it/s]\n"
     ]
    },
    {
     "name": "stdout",
     "output_type": "stream",
     "text": [
      "Segmentation Completed. \n",
      "Loading Dataset ...\n",
      "Loading File:  ../data/IndividualData/lawler-data/10.19/10.19.shm\n",
      "Loading File:  ../data/IndividualData/lawler-data/11.14/11.14.shm\n",
      "Loading File:  ../data/IndividualData/lawler-data/10.10/10.10.shm\n",
      "Loading File:  ../data/IndividualData/lawler-data/11.2/11.2.shm\n",
      "Loading File:  ../data/IndividualData/lawler-data/10.8/10.8.shm\n",
      "Loading File:  ../data/IndividualData/lawler-data/11.15/11.15.shm\n",
      "Loading File:  ../data/IndividualData/lawler-data/10.14/10.14.shm\n",
      "Loading File:  ../data/IndividualData/lawler-data/9.23/9.23_13hr.shm\n",
      "Loading File:  ../data/IndividualData/lawler-data/10.12/10.12.shm\n",
      "Loading File:  ../data/IndividualData/lawler-data/11.11/11.11.shm\n",
      "Loading File:  ../data/IndividualData/lawler-data/11.4/11.4.shm\n",
      "Loading File:  ../data/IndividualData/lawler-data/9.25/9.25_1-46.shm\n",
      "Loading File:  ../data/IndividualData/lawler-data/10.6/10.6.shm\n",
      "Loading File:  ../data/IndividualData/lawler-data/10.4/10.4.shm\n",
      "Loading File:  ../data/IndividualData/lawler-data/10.28/10.28.shm\n",
      "Loading File:  ../data/IndividualData/lawler-data/11.3/11.3.shm\n",
      "Loading File:  ../data/IndividualData/lawler-data/10.20/evening_2hr_20min/10.20.shm\n",
      "Loading File:  ../data/IndividualData/lawler-data/10.26/10.26.shm\n",
      "Loading File:  ../data/IndividualData/lawler-data/10.31/10.31.shm\n",
      "Loading File:  ../data/IndividualData/lawler-data/10.31/evening-2hr_goodDinnerTemplate_CFAmeal/10.31.shm\n",
      "Loading File:  ../data/IndividualData/lawler-data/10.21/10.21.shm\n",
      "Loading File:  ../data/IndividualData/lawler-data/10.16/10.16.shm\n",
      "Loading File:  ../data/IndividualData/lawler-data/10.20/afternoon_2hr33min/10.20.shm\n"
     ]
    },
    {
     "name": "stderr",
     "output_type": "stream",
     "text": [
      "100%|██████████| 23/23 [00:00<00:00, 422.18it/s]\n"
     ]
    },
    {
     "name": "stdout",
     "output_type": "stream",
     "text": [
      "Segmentation Completed. \n",
      "Loading Dataset ...\n",
      "Loading File:  ../data/IndividualData/shaurya-data/12.3.2020/Consensys Exported Data.shm\n",
      "Loading File:  ../data/IndividualData/shaurya-data/11.15.2020/Data.shm\n",
      "Loading File:  ../data/IndividualData/shaurya-data/10.22.2020/Data.shm\n",
      "Loading File:  ../data/IndividualData/shaurya-data/1.16.2021/Consensys Exported Data.shm\n",
      "Loading File:  ../data/IndividualData/shaurya-data/1.10.2021/Consensys Exported Data.shm\n",
      "Loading File:  ../data/IndividualData/shaurya-data/10.25.2020/Data.shm\n",
      "Loading File:  ../data/IndividualData/shaurya-data/11.1.2020/Data.shm\n",
      "Loading File:  ../data/IndividualData/shaurya-data/11.18.2020/Data.shm\n",
      "Loading File:  ../data/IndividualData/shaurya-data/11.17.2020/Data.shm\n",
      "Loading File:  ../data/IndividualData/shaurya-data/1.13.2021/Consensys Exported Data.shm\n",
      "Loading File:  ../data/IndividualData/shaurya-data/1.11.2021/Consensys Exported Data.shm\n",
      "Loading File:  ../data/IndividualData/shaurya-data/1.12.2021/Consensys Exported Data.shm\n",
      "Loading File:  ../data/IndividualData/shaurya-data/1.19.2021/Consensys Exported Data.shm\n",
      "--- Day 0: 10.39293122291565 seconds ---\n",
      "--- Day 1: 10.40945053100586 seconds ---\n",
      "--- Day 2: 10.47782278060913 seconds ---\n",
      "--- Day 3: 9.996010065078735 seconds ---\n",
      "--- Day 4: 8.616770505905151 seconds ---\n",
      "--- Day 5: 9.130356311798096 seconds ---\n",
      "--- Day 6: 12.342888355255127 seconds ---\n",
      "--- Day 7: 10.928481101989746 seconds ---\n",
      "--- Day 8: 7.329174518585205 seconds ---\n",
      "--- Day 9: 9.683776140213013 seconds ---\n",
      "--- Day 10: 8.80311632156372 seconds ---\n",
      "--- Day 11: 8.276566982269287 seconds ---\n",
      "--- Day 12: 7.6311914920806885 seconds ---\n"
     ]
    },
    {
     "name": "stderr",
     "output_type": "stream",
     "text": [
      "100%|██████████| 13/13 [00:00<00:00, 80.03it/s]"
     ]
    },
    {
     "name": "stdout",
     "output_type": "stream",
     "text": [
      "File ../results/possibility_results/shaurya_6min_5slide_proba.csv Saved\n",
      "Segmentation Completed. \n"
     ]
    },
    {
     "name": "stderr",
     "output_type": "stream",
     "text": [
      "\n"
     ]
    }
   ],
   "source": [
    "persons =[\"wenkanw\",\"adam\",\"lawler\",\"shaurya\"]\n",
    "output_df = get_episode_output(names= persons, threshold= None)"
   ]
  },
  {
   "cell_type": "code",
   "execution_count": 67,
   "metadata": {},
   "outputs": [
    {
     "data": {
      "text/html": [
       "<div>\n",
       "<style scoped>\n",
       "    .dataframe tbody tr th:only-of-type {\n",
       "        vertical-align: middle;\n",
       "    }\n",
       "\n",
       "    .dataframe tbody tr th {\n",
       "        vertical-align: top;\n",
       "    }\n",
       "\n",
       "    .dataframe thead th {\n",
       "        text-align: right;\n",
       "    }\n",
       "</style>\n",
       "<table border=\"1\" class=\"dataframe\">\n",
       "  <thead>\n",
       "    <tr style=\"text-align: right;\">\n",
       "      <th></th>\n",
       "      <th>dataset</th>\n",
       "      <th>proba_ls</th>\n",
       "      <th>labels_ls</th>\n",
       "      <th>preds_ls</th>\n",
       "    </tr>\n",
       "  </thead>\n",
       "  <tbody>\n",
       "    <tr>\n",
       "      <th>0</th>\n",
       "      <td>wenkanw</td>\n",
       "      <td>[[0.007257163499999999, 0.007257163499999999, ...</td>\n",
       "      <td>[[0.0, 0.0, 0.0, 0.0, 0.0, 0.0, 0.0, 0.0, 0.0,...</td>\n",
       "      <td>[[0.0, 0.0, 0.0, 0.0, 0.0, 0.0, 0.0, 0.0, 0.0,...</td>\n",
       "    </tr>\n",
       "    <tr>\n",
       "      <th>1</th>\n",
       "      <td>adam</td>\n",
       "      <td>[[0.30553532, 0.30553532, 0.30553532, 0.305535...</td>\n",
       "      <td>[[0.0, 0.0, 0.0, 0.0, 0.0, 0.0, 0.0, 0.0, 0.0,...</td>\n",
       "      <td>[[0.0, 0.0, 0.0, 0.0, 0.0, 0.0, 0.0, 0.0, 0.0,...</td>\n",
       "    </tr>\n",
       "    <tr>\n",
       "      <th>2</th>\n",
       "      <td>lawler</td>\n",
       "      <td>[[0.58255893, 0.58255893, 0.58255893, 0.582558...</td>\n",
       "      <td>[[0.0, 0.0, 0.0, 0.0, 0.0, 0.0, 0.0, 0.0, 0.0,...</td>\n",
       "      <td>[[0.0, 0.0, 0.0, 0.0, 0.0, 0.0, 0.0, 0.0, 0.0,...</td>\n",
       "    </tr>\n",
       "    <tr>\n",
       "      <th>3</th>\n",
       "      <td>shaurya</td>\n",
       "      <td>[[0.7323043346405029, 0.7323043346405029, 0.73...</td>\n",
       "      <td>[[0.0, 0.0, 0.0, 0.0, 0.0, 0.0, 0.0, 0.0, 0.0,...</td>\n",
       "      <td>[[0.0, 0.0, 0.0, 0.0, 0.0, 0.0, 0.0, 0.0, 0.0,...</td>\n",
       "    </tr>\n",
       "  </tbody>\n",
       "</table>\n",
       "</div>"
      ],
      "text/plain": [
       "   dataset                                           proba_ls  \\\n",
       "0  wenkanw  [[0.007257163499999999, 0.007257163499999999, ...   \n",
       "1     adam  [[0.30553532, 0.30553532, 0.30553532, 0.305535...   \n",
       "2   lawler  [[0.58255893, 0.58255893, 0.58255893, 0.582558...   \n",
       "3  shaurya  [[0.7323043346405029, 0.7323043346405029, 0.73...   \n",
       "\n",
       "                                           labels_ls  \\\n",
       "0  [[0.0, 0.0, 0.0, 0.0, 0.0, 0.0, 0.0, 0.0, 0.0,...   \n",
       "1  [[0.0, 0.0, 0.0, 0.0, 0.0, 0.0, 0.0, 0.0, 0.0,...   \n",
       "2  [[0.0, 0.0, 0.0, 0.0, 0.0, 0.0, 0.0, 0.0, 0.0,...   \n",
       "3  [[0.0, 0.0, 0.0, 0.0, 0.0, 0.0, 0.0, 0.0, 0.0,...   \n",
       "\n",
       "                                            preds_ls  \n",
       "0  [[0.0, 0.0, 0.0, 0.0, 0.0, 0.0, 0.0, 0.0, 0.0,...  \n",
       "1  [[0.0, 0.0, 0.0, 0.0, 0.0, 0.0, 0.0, 0.0, 0.0,...  \n",
       "2  [[0.0, 0.0, 0.0, 0.0, 0.0, 0.0, 0.0, 0.0, 0.0,...  \n",
       "3  [[0.0, 0.0, 0.0, 0.0, 0.0, 0.0, 0.0, 0.0, 0.0,...  "
      ]
     },
     "execution_count": 67,
     "metadata": {},
     "output_type": "execute_result"
    }
   ],
   "source": [
    "output_df"
   ]
  },
  {
   "cell_type": "code",
   "execution_count": null,
   "metadata": {},
   "outputs": [],
   "source": []
  },
  {
   "cell_type": "markdown",
   "metadata": {},
   "source": [
    "## 4.2 Visualize possibility and GT"
   ]
  },
  {
   "cell_type": "code",
   "execution_count": 60,
   "metadata": {},
   "outputs": [],
   "source": [
    "from __future__ import print_function\n",
    "from ipywidgets import interact, interactive, fixed, interact_manual\n",
    "import ipywidgets as widgets\n",
    "import warnings\n",
    "warnings.filterwarnings('ignore')\n",
    "import seaborn as sns\n",
    "import matplotlib.pyplot as plt\n",
    "\n",
    "\n",
    "def f(offset,winsize,day, model_result=\"I\"    ):\n",
    "    stride  = 5 *15 # 5 seconds between two adjacent labels/window samples\n",
    "    \n",
    "    day = int(day)\n",
    "    if model_result ==\"I\":\n",
    "        proba_list=proba_ls\n",
    "        labels_list= labels_ls\n",
    "        preds_list=preds_ls\n",
    "    else:\n",
    "        proba_list=proba_ls_g\n",
    "        labels_list= labels_ls_g\n",
    "        preds_list=preds_ls_g\n",
    "    proba, labels, preds = proba_list[day], labels_list[day], preds_list[day]    \n",
    "    \n",
    "    offset = offset *15\n",
    "    if winsize == -1:\n",
    "        winsize = len(labels)\n",
    "        offset = 0\n",
    "    else:\n",
    "        winsize = winsize*15\n",
    "    \n",
    "    if  len(labels)-winsize <0:\n",
    "        #offset = len(labels)-winsize\n",
    "        offset =0\n",
    "        winsize = len(labels)\n",
    "        \n",
    "    t = np.arange(start = offset, stop= offset+winsize, step=1)\n",
    "    print(\"Offset: \",offset, \"winszie: \",winsize,\"t shape: \",t.shape, \"label shape:\", labels.shape, preds.shape)\n",
    "    fig, ax = plt.subplots(3,1,figsize= (20,12))\n",
    "    df1 = proba[offset:offset+winsize]\n",
    "    df2 = np.array(preds[offset:offset+winsize]) #*10-5\n",
    "    df3 = np.array(labels[offset:offset+winsize])#*10-5\n",
    "    x1= sns.lineplot(x=t, y=df1 , ax =ax[0],color= 'grey',label=\"Possibility\")\n",
    "    x2 = sns.lineplot(t,df2 , ax =ax[1],color='g', linewidth=1.5,label=\"Prediction(Eat)\")\n",
    "    x3 = sns.lineplot(t,df3 , ax =ax[2],color='b', linewidth=1.5, label=\"Label(Eat)\")\n",
    "        \n",
    "    ax[0].fill_between( t, df1, \n",
    "                interpolate=True, color='grey')\n",
    "    \n",
    "    ax[0].fill_between(t, df3, where=(df3==1), \n",
    "                interpolate=True, color='blue')\n",
    "    ax[0].fill_between( t,df2, where=(df2==1), \n",
    "                interpolate=True, color='green')\n",
    "    ax[0].set_ylim(0,1)\n",
    "    print(offset,len(labels)-winsize )\n",
    "    if offset >= len(labels)-winsize:\n",
    "        title_txt =\"Day: \"+ str(day) + \" Whole Day samples: \"+str(len(labels)) +\" . \" + \"Sample plotted: \"+str(winsize)+\". \"\n",
    "    else:\n",
    "        title_txt = \"Day: \"+ str(day) + \"Samples from \"+str(offset) +\"~\" + str((offset+winsize)) +\". \"+ \"Number of Sample plotted: \"+str(winsize)+\". \"\n",
    "    ax[0].set_title(title_txt)\n",
    "    ax[2].set_xlabel(\"index of sample\")\n",
    "    ax[0].set_ylabel(\"Possibility\")\n",
    "    ax[1].set_ylabel(\"Predictions\")\n",
    "    ax[2].set_ylabel(\"Ground Truch\")\n",
    "    \n",
    "    ax[0].legend([\"Possibility\"],loc='upper left')\n",
    "    ax[1].legend([\"1: Eat, 0:Other\"],loc='upper left')\n",
    "    ax[2].legend([\"1: Eat, 0:Other\"],loc='upper left')\n",
    "        \n",
    "    return "
   ]
  },
  {
   "cell_type": "code",
   "execution_count": 158,
   "metadata": {},
   "outputs": [],
   "source": [
    "\n",
    "style = {'description_width': 'initial'}\n",
    "bound_text = widgets.BoundedIntText(\n",
    "    value=0,\n",
    "    min=0,\n",
    "    max=10*3600,\n",
    "    step=1,\n",
    "    description='offset(sec):[0~'+ str(10*3600)+\"]\",\n",
    "    disabled=False,\n",
    "    style = {'description_width': 'initial'}\n",
    ")\n",
    "slidebar= widgets.IntSlider(min=0, max=len(result.proba.iloc[0]), step=1, value=0)\n",
    "winsize = widgets.Dropdown(\n",
    "    options=[-1, 60,60*60],\n",
    "    value=-1,\n",
    "    description='Num of sec plotted ',\n",
    "    disabled=False,\n",
    "    style = style\n",
    ")\n",
    "# interact(f, offset=bound_text, winsize= winsize, day = [i for i in range(len(result))]);"
   ]
  },
  {
   "cell_type": "code",
   "execution_count": 229,
   "metadata": {},
   "outputs": [
    {
     "data": {
      "application/vnd.jupyter.widget-view+json": {
       "model_id": "b815f93f9bea4fb7a554028b6cb6e8ff",
       "version_major": 2,
       "version_minor": 0
      },
      "text/plain": [
       "interactive(children=(BoundedIntText(value=0, description='offset(sec):[0~36000]', max=36000, style=Descriptio…"
      ]
     },
     "metadata": {},
     "output_type": "display_data"
    }
   ],
   "source": [
    "interact(f, offset=bound_text, winsize= winsize, day = 3,model_result= \"I\");"
   ]
  },
  {
   "cell_type": "code",
   "execution_count": 230,
   "metadata": {},
   "outputs": [
    {
     "data": {
      "application/vnd.jupyter.widget-view+json": {
       "model_id": "8d5117c567bd40a39055d464bcf42972",
       "version_major": 2,
       "version_minor": 0
      },
      "text/plain": [
       "interactive(children=(BoundedIntText(value=0, description='offset(sec):[0~36000]', max=36000, style=Descriptio…"
      ]
     },
     "metadata": {},
     "output_type": "display_data"
    }
   ],
   "source": [
    "interact(f, offset=bound_text, winsize= winsize, day = 3,model_result= \"G\");"
   ]
  },
  {
   "cell_type": "code",
   "execution_count": null,
   "metadata": {},
   "outputs": [],
   "source": []
  },
  {
   "cell_type": "code",
   "execution_count": 161,
   "metadata": {},
   "outputs": [
    {
     "data": {
      "application/vnd.jupyter.widget-view+json": {
       "model_id": "fa75d5abf5ec43a2875d020299dae4ca",
       "version_major": 2,
       "version_minor": 0
      },
      "text/plain": [
       "interactive(children=(BoundedIntText(value=0, description='offset(sec):[0~36000]', max=36000, style=Descriptio…"
      ]
     },
     "metadata": {},
     "output_type": "display_data"
    }
   ],
   "source": [
    "interact(f, offset=bound_text, winsize= winsize, day = 14,model_result= \"I\");"
   ]
  },
  {
   "cell_type": "code",
   "execution_count": 162,
   "metadata": {},
   "outputs": [
    {
     "data": {
      "application/vnd.jupyter.widget-view+json": {
       "model_id": "2cebfa766e774f45919bf0114f8873ce",
       "version_major": 2,
       "version_minor": 0
      },
      "text/plain": [
       "interactive(children=(BoundedIntText(value=0, description='offset(sec):[0~36000]', max=36000, style=Descriptio…"
      ]
     },
     "metadata": {},
     "output_type": "display_data"
    }
   ],
   "source": [
    "interact(f, offset=bound_text, winsize= winsize, day = 14,model_result= \"G\");"
   ]
  },
  {
   "cell_type": "code",
   "execution_count": null,
   "metadata": {},
   "outputs": [],
   "source": []
  },
  {
   "cell_type": "code",
   "execution_count": null,
   "metadata": {},
   "outputs": [],
   "source": []
  },
  {
   "cell_type": "code",
   "execution_count": 165,
   "metadata": {},
   "outputs": [
    {
     "data": {
      "application/vnd.jupyter.widget-view+json": {
       "model_id": "5fedc1c574a6475999c41679dbc52307",
       "version_major": 2,
       "version_minor": 0
      },
      "text/plain": [
       "interactive(children=(BoundedIntText(value=0, description='offset(sec):[0~36000]', max=36000, style=Descriptio…"
      ]
     },
     "metadata": {},
     "output_type": "display_data"
    }
   ],
   "source": [
    "interact(f, offset=bound_text, winsize= winsize, day = 10,model_result= \"I\");"
   ]
  },
  {
   "cell_type": "code",
   "execution_count": 166,
   "metadata": {},
   "outputs": [
    {
     "data": {
      "application/vnd.jupyter.widget-view+json": {
       "model_id": "bf62064e6fd1499f98ba26b5d6e1584b",
       "version_major": 2,
       "version_minor": 0
      },
      "text/plain": [
       "interactive(children=(BoundedIntText(value=0, description='offset(sec):[0~36000]', max=36000, style=Descriptio…"
      ]
     },
     "metadata": {},
     "output_type": "display_data"
    }
   ],
   "source": [
    "interact(f, offset=bound_text, winsize= winsize, day = 10,model_result= \"G\");"
   ]
  },
  {
   "cell_type": "code",
   "execution_count": 169,
   "metadata": {},
   "outputs": [
    {
     "data": {
      "application/vnd.jupyter.widget-view+json": {
       "model_id": "3e751c6bbc6b4263b3cfd08d17a99981",
       "version_major": 2,
       "version_minor": 0
      },
      "text/plain": [
       "interactive(children=(BoundedIntText(value=0, description='offset(sec):[0~36000]', max=36000, style=Descriptio…"
      ]
     },
     "metadata": {},
     "output_type": "display_data"
    }
   ],
   "source": [
    "interact(f, offset=bound_text, winsize= winsize, day = 5,model_result= \"I\");"
   ]
  },
  {
   "cell_type": "code",
   "execution_count": 170,
   "metadata": {},
   "outputs": [
    {
     "data": {
      "application/vnd.jupyter.widget-view+json": {
       "model_id": "271374be715f4f41a7b205f45e8e9a18",
       "version_major": 2,
       "version_minor": 0
      },
      "text/plain": [
       "interactive(children=(BoundedIntText(value=0, description='offset(sec):[0~36000]', max=36000, style=Descriptio…"
      ]
     },
     "metadata": {},
     "output_type": "display_data"
    }
   ],
   "source": [
    "interact(f, offset=bound_text, winsize= winsize, day = 5,model_result= \"G\");"
   ]
  },
  {
   "cell_type": "code",
   "execution_count": null,
   "metadata": {},
   "outputs": [],
   "source": []
  },
  {
   "cell_type": "code",
   "execution_count": null,
   "metadata": {},
   "outputs": [],
   "source": []
  },
  {
   "cell_type": "markdown",
   "metadata": {},
   "source": [
    "## 4.3 Visualize distribution of generated probability"
   ]
  },
  {
   "cell_type": "code",
   "execution_count": 68,
   "metadata": {},
   "outputs": [],
   "source": [
    "def plot_proba_dist(output_df, persons=[]):\n",
    "    for person in persons:\n",
    "        proba_df = output_df[output_df[\"dataset\"]==person].proba_ls.values[0]\n",
    "        label_df = output_df[output_df[\"dataset\"]==person].labels_ls.values[0]\n",
    "        proba_df,label_df = transform_output(proba_df,label_df)\n",
    "\n",
    "        fig, ax = plt.subplots(1, figsize=(10,5))\n",
    "        sns.histplot(x=proba_df[label_df==0],common_norm=False,bins=20,stat=\"probability\",ax=ax,color=\"orange\")\n",
    "        sns.histplot(x=proba_df[label_df==1],common_norm=False,bins=20,stat=\"probability\",ax=ax,color=\"blue\")\n",
    "        ax.legend([\"No Eat\",\"Eat\"])\n",
    "        _ =ax.set(title=\"Probability of predicted possibility in \"+person+\" dataset\",xlabel=\"Predicted Possibility\")"
   ]
  },
  {
   "cell_type": "code",
   "execution_count": 69,
   "metadata": {},
   "outputs": [
    {
     "data": {
      "image/png": "[encoded data removed]",
      "text/plain": [
       "<Figure size 720x360 with 1 Axes>"
      ]
     },
     "metadata": {
      "needs_background": "light"
     },
     "output_type": "display_data"
    },
    {
     "data": {
      "image/png": "[encoded data removed]",
      "text/plain": [
       "<Figure size 720x360 with 1 Axes>"
      ]
     },
     "metadata": {
      "needs_background": "light"
     },
     "output_type": "display_data"
    },
    {
     "data": {
      "image/png": "[encoded data removed]",
      "text/plain": [
       "<Figure size 720x360 with 1 Axes>"
      ]
     },
     "metadata": {
      "needs_background": "light"
     },
     "output_type": "display_data"
    },
    {
     "data": {
      "image/png": "[encoded data removed]",
      "text/plain": [
       "<Figure size 720x360 with 1 Axes>"
      ]
     },
     "metadata": {
      "needs_background": "light"
     },
     "output_type": "display_data"
    }
   ],
   "source": [
    "plot_proba_dist(output_df, persons=[\"wenkanw\",\"adam\",\"lawler\",\"shaurya\"])"
   ]
  },
  {
   "cell_type": "code",
   "execution_count": null,
   "metadata": {},
   "outputs": [],
   "source": []
  },
  {
   "cell_type": "markdown",
   "metadata": {},
   "source": [
    "## 4.4 Test Ts, Te for each individual  models"
   ]
  },
  {
   "cell_type": "code",
   "execution_count": 54,
   "metadata": {},
   "outputs": [
    {
     "name": "stderr",
     "output_type": "stream",
     "text": [
      "100%|██████████| 23/23 [00:00<00:00, 403.79it/s]\n"
     ]
    },
    {
     "name": "stdout",
     "output_type": "stream",
     "text": [
      "Segmentation Completed. \n",
      "total_meal: 61 TP:  51 FP:  79 FN:  10\n"
     ]
    },
    {
     "data": {
      "text/html": [
       "<div>\n",
       "<style scoped>\n",
       "    .dataframe tbody tr th:only-of-type {\n",
       "        vertical-align: middle;\n",
       "    }\n",
       "\n",
       "    .dataframe tbody tr th {\n",
       "        vertical-align: top;\n",
       "    }\n",
       "\n",
       "    .dataframe thead th {\n",
       "        text-align: right;\n",
       "    }\n",
       "</style>\n",
       "<table border=\"1\" class=\"dataframe\">\n",
       "  <thead>\n",
       "    <tr style=\"text-align: right;\">\n",
       "      <th></th>\n",
       "      <th>TPR</th>\n",
       "      <th>FP/TP</th>\n",
       "      <th>TP</th>\n",
       "      <th>FP</th>\n",
       "      <th>FN</th>\n",
       "    </tr>\n",
       "  </thead>\n",
       "  <tbody>\n",
       "    <tr>\n",
       "      <th>0</th>\n",
       "      <td>0.836066</td>\n",
       "      <td>1.54902</td>\n",
       "      <td>51</td>\n",
       "      <td>79</td>\n",
       "      <td>10</td>\n",
       "    </tr>\n",
       "  </tbody>\n",
       "</table>\n",
       "</div>"
      ],
      "text/plain": [
       "        TPR    FP/TP  TP  FP  FN\n",
       "0  0.836066  1.54902  51  79  10"
      ]
     },
     "execution_count": 54,
     "metadata": {},
     "output_type": "execute_result"
    }
   ],
   "source": [
    "# person = 'lawler'\n",
    "# meal_data = Person_MealsDataset(person_name= person, file_name = \"all_files_list\", winmin = 6,stridesec = 5,smooth_flag = 1,\n",
    "#                  normalize_flag = 1)\n",
    "# model = tf.keras.models.load_model('../models/'+ person + '_models/acti_6min_split_day_M_F_6.000000Min.h5')\n",
    "threshold = {'wenkanw':[0.8, 0.3], 'adam':[0.8,0.3],'lawler':[0.6,0.3], 'shaurya':[0.8,0.3]}\n",
    "high_th, low_th = threshold[person][0], threshold[person][1]\n",
    "result = hysteresis_threshold(model, meal_data,start_threshold=high_th, end_threshold=low_th, \n",
    "                              winmin = 6, stepsec=5, episode_min = 1., load_proba_flag=True)\n",
    "episode_perf_df1 = get_episode_metrics(result,meal_data)\n",
    "episode_perf_df1"
   ]
  },
  {
   "cell_type": "code",
   "execution_count": 70,
   "metadata": {},
   "outputs": [],
   "source": [
    "def test_threshod(datasets ,ts_ls=[],te_ls=[]):\n",
    "    res = pd.DataFrame()\n",
    "    for person in datasets.keys():\n",
    "        data = datasets[person]\n",
    "        for ts in ts_ls:\n",
    "            for te in te_ls:\n",
    "                model = tf.keras.models.load_model('../models/'+ person + '_models/acti_6min_M_F_6.000000Min.h5')\n",
    "                ht_result = hysteresis_threshold(model, data,start_threshold=ts, end_threshold=te, \n",
    "                              winmin = 6, stepsec=5, episode_min = 1., load_proba_flag=True)\n",
    "                episode_perf = get_episode_metrics(ht_result,data)\n",
    "                episode_perf[\"dataset\"] = person\n",
    "                episode_perf[\"Ts\"] = ts\n",
    "                episode_perf[\"Te\"] = te\n",
    "                \n",
    "                res = res.append(episode_perf, ignore_index=True)\n",
    "                \n",
    "    return res  \n",
    "    "
   ]
  },
  {
   "cell_type": "code",
   "execution_count": 71,
   "metadata": {},
   "outputs": [],
   "source": [
    "def create_datasets(names=[]):\n",
    "    datasets = {}\n",
    "    for person in names:\n",
    "        meal_data = Person_MealsDataset(person_name= person, file_name = \"all_files_list\", winmin = 6,stridesec = 5,smooth_flag = 1,\n",
    "                     normalize_flag = 1)\n",
    "        datasets[person]  = meal_data\n",
    "    return datasets"
   ]
  },
  {
   "cell_type": "code",
   "execution_count": 72,
   "metadata": {
    "scrolled": true
   },
   "outputs": [
    {
     "name": "stdout",
     "output_type": "stream",
     "text": [
      "Loading Dataset ...\n",
      "Loading File:  ../data/IndividualData/wenkanw-data/11-14-20/11-14-20.shm\n",
      "Loading File:  ../data/IndividualData/wenkanw-data/10-13-20/10-13-20.shm\n",
      "Loading File:  ../data/IndividualData/wenkanw-data/10-9-20/10-10-20.shm\n",
      "Loading File:  ../data/IndividualData/wenkanw-data/11-21-20/Dinner/Dinner.shm\n",
      "Loading File:  ../data/IndividualData/wenkanw-data/9-17-20/9-17-20.shm\n",
      "Loading File:  ../data/IndividualData/wenkanw-data/9-29-20/9-29-20.shm\n",
      "Loading File:  ../data/IndividualData/wenkanw-data/11-22-20/Lunch/Lunch.shm\n",
      "Loading File:  ../data/IndividualData/wenkanw-data/11-21-20/lunch/lunch.shm\n",
      "Loading File:  ../data/IndividualData/wenkanw-data/10-9-20/10-9-20.shm\n",
      "Loading File:  ../data/IndividualData/wenkanw-data/11-18-20/11-18-20.shm\n",
      "Loading File:  ../data/IndividualData/wenkanw-data/10-14-20/10-14-20.shm\n",
      "Loading File:  ../data/IndividualData/wenkanw-data/10-12-20/10-12-20.shm\n",
      "Loading File:  ../data/IndividualData/wenkanw-data/11-16-20/11-16-20.shm\n",
      "Loading File:  ../data/IndividualData/wenkanw-data/9-27-20/9-27-20.shm\n",
      "Loading File:  ../data/IndividualData/wenkanw-data/10-3-20/10-3-20.shm\n",
      "Loading File:  ../data/IndividualData/wenkanw-data/10-10-20/10-10-20.shm\n",
      "Loading File:  ../data/IndividualData/wenkanw-data/11-22-20/Dinner/Dinner.shm\n",
      "Loading Dataset ...\n",
      "Loading File:  ../data/IndividualData/adam-data/12-01-2020/12-01-2020.shm\n",
      "Loading File:  ../data/IndividualData/adam-data/11-24-2020/11-24-2020.shm\n",
      "Loading File:  ../data/IndividualData/adam-data/11-30-2020/11-30-2020.shm\n",
      "Loading File:  ../data/IndividualData/adam-data/09-22-2020/09-22-2020.shm\n",
      "Loading File:  ../data/IndividualData/adam-data/12-03-2020/12-03-2020.shm\n",
      "Loading File:  ../data/IndividualData/adam-data/12-11-2020/12-11-2020.shm\n",
      "Loading File:  ../data/IndividualData/adam-data/11-25-2020/11-25-2020.shm\n",
      "Loading File:  ../data/IndividualData/adam-data/12-08-2020/12-08-2020.shm\n",
      "Loading File:  ../data/IndividualData/adam-data/12-07-2020/12-07-2020.shm\n",
      "Loading File:  ../data/IndividualData/adam-data/11-26-2020/11-26-2020.shm\n",
      "Loading File:  ../data/IndividualData/adam-data/12-02-2020/12-02-2020.shm\n",
      "Loading File:  ../data/IndividualData/adam-data/12-04-2020/12-04-2020.shm\n",
      "Loading File:  ../data/IndividualData/adam-data/12-09-2020/12-09-2020.shm\n",
      "Loading File:  ../data/IndividualData/adam-data/12-10-2020/12-10-2020.shm\n",
      "Loading Dataset ...\n",
      "Loading File:  ../data/IndividualData/lawler-data/10.19/10.19.shm\n",
      "Loading File:  ../data/IndividualData/lawler-data/11.14/11.14.shm\n",
      "Loading File:  ../data/IndividualData/lawler-data/10.10/10.10.shm\n",
      "Loading File:  ../data/IndividualData/lawler-data/11.2/11.2.shm\n",
      "Loading File:  ../data/IndividualData/lawler-data/10.8/10.8.shm\n",
      "Loading File:  ../data/IndividualData/lawler-data/11.15/11.15.shm\n",
      "Loading File:  ../data/IndividualData/lawler-data/10.14/10.14.shm\n",
      "Loading File:  ../data/IndividualData/lawler-data/9.23/9.23_13hr.shm\n",
      "Loading File:  ../data/IndividualData/lawler-data/10.12/10.12.shm\n",
      "Loading File:  ../data/IndividualData/lawler-data/11.11/11.11.shm\n",
      "Loading File:  ../data/IndividualData/lawler-data/11.4/11.4.shm\n",
      "Loading File:  ../data/IndividualData/lawler-data/9.25/9.25_1-46.shm\n",
      "Loading File:  ../data/IndividualData/lawler-data/10.6/10.6.shm\n",
      "Loading File:  ../data/IndividualData/lawler-data/10.4/10.4.shm\n",
      "Loading File:  ../data/IndividualData/lawler-data/10.28/10.28.shm\n",
      "Loading File:  ../data/IndividualData/lawler-data/11.3/11.3.shm\n",
      "Loading File:  ../data/IndividualData/lawler-data/10.20/evening_2hr_20min/10.20.shm\n",
      "Loading File:  ../data/IndividualData/lawler-data/10.26/10.26.shm\n",
      "Loading File:  ../data/IndividualData/lawler-data/10.31/10.31.shm\n",
      "Loading File:  ../data/IndividualData/lawler-data/10.31/evening-2hr_goodDinnerTemplate_CFAmeal/10.31.shm\n",
      "Loading File:  ../data/IndividualData/lawler-data/10.21/10.21.shm\n",
      "Loading File:  ../data/IndividualData/lawler-data/10.16/10.16.shm\n",
      "Loading File:  ../data/IndividualData/lawler-data/10.20/afternoon_2hr33min/10.20.shm\n",
      "Loading Dataset ...\n",
      "Loading File:  ../data/IndividualData/shaurya-data/12.3.2020/Consensys Exported Data.shm\n",
      "Loading File:  ../data/IndividualData/shaurya-data/11.15.2020/Data.shm\n",
      "Loading File:  ../data/IndividualData/shaurya-data/10.22.2020/Data.shm\n",
      "Loading File:  ../data/IndividualData/shaurya-data/1.16.2021/Consensys Exported Data.shm\n",
      "Loading File:  ../data/IndividualData/shaurya-data/1.10.2021/Consensys Exported Data.shm\n",
      "Loading File:  ../data/IndividualData/shaurya-data/10.25.2020/Data.shm\n",
      "Loading File:  ../data/IndividualData/shaurya-data/11.1.2020/Data.shm\n",
      "Loading File:  ../data/IndividualData/shaurya-data/11.18.2020/Data.shm\n",
      "Loading File:  ../data/IndividualData/shaurya-data/11.17.2020/Data.shm\n",
      "Loading File:  ../data/IndividualData/shaurya-data/1.13.2021/Consensys Exported Data.shm\n",
      "Loading File:  ../data/IndividualData/shaurya-data/1.11.2021/Consensys Exported Data.shm\n",
      "Loading File:  ../data/IndividualData/shaurya-data/1.12.2021/Consensys Exported Data.shm\n",
      "Loading File:  ../data/IndividualData/shaurya-data/1.19.2021/Consensys Exported Data.shm\n"
     ]
    }
   ],
   "source": [
    "datasets = create_datasets(names = [\"wenkanw\",\"adam\",\"lawler\",\"shaurya\"])"
   ]
  },
  {
   "cell_type": "code",
   "execution_count": 73,
   "metadata": {
    "scrolled": true
   },
   "outputs": [
    {
     "name": "stderr",
     "output_type": "stream",
     "text": [
      "100%|██████████| 17/17 [00:00<00:00, 393.00it/s]\n",
      "  0%|          | 0/17 [00:00<?, ?it/s]"
     ]
    },
    {
     "name": "stdout",
     "output_type": "stream",
     "text": [
      "Segmentation Completed. \n",
      "total_meal: 32 TP:  30 FP:  53 FN:  2\n"
     ]
    },
    {
     "name": "stderr",
     "output_type": "stream",
     "text": [
      "100%|██████████| 17/17 [00:00<00:00, 391.11it/s]\n"
     ]
    },
    {
     "name": "stdout",
     "output_type": "stream",
     "text": [
      "Segmentation Completed. \n",
      "total_meal: 32 TP:  30 FP:  56 FN:  2\n"
     ]
    },
    {
     "name": "stderr",
     "output_type": "stream",
     "text": [
      "100%|██████████| 17/17 [00:00<00:00, 387.93it/s]\n",
      "  0%|          | 0/17 [00:00<?, ?it/s]"
     ]
    },
    {
     "name": "stdout",
     "output_type": "stream",
     "text": [
      "Segmentation Completed. \n",
      "total_meal: 32 TP:  31 FP:  55 FN:  1\n"
     ]
    },
    {
     "name": "stderr",
     "output_type": "stream",
     "text": [
      "100%|██████████| 17/17 [00:00<00:00, 391.96it/s]\n"
     ]
    },
    {
     "name": "stdout",
     "output_type": "stream",
     "text": [
      "Segmentation Completed. \n",
      "total_meal: 32 TP:  31 FP:  55 FN:  1\n"
     ]
    },
    {
     "name": "stderr",
     "output_type": "stream",
     "text": [
      "100%|██████████| 17/17 [00:00<00:00, 389.89it/s]\n",
      "  0%|          | 0/17 [00:00<?, ?it/s]"
     ]
    },
    {
     "name": "stdout",
     "output_type": "stream",
     "text": [
      "Segmentation Completed. \n",
      "total_meal: 32 TP:  31 FP:  51 FN:  1\n"
     ]
    },
    {
     "name": "stderr",
     "output_type": "stream",
     "text": [
      "100%|██████████| 17/17 [00:00<00:00, 387.33it/s]\n",
      "  0%|          | 0/17 [00:00<?, ?it/s]"
     ]
    },
    {
     "name": "stdout",
     "output_type": "stream",
     "text": [
      "Segmentation Completed. \n",
      "total_meal: 32 TP:  31 FP:  47 FN:  1\n"
     ]
    },
    {
     "name": "stderr",
     "output_type": "stream",
     "text": [
      "100%|██████████| 17/17 [00:00<00:00, 355.74it/s]\n",
      "  0%|          | 0/17 [00:00<?, ?it/s]"
     ]
    },
    {
     "name": "stdout",
     "output_type": "stream",
     "text": [
      "Segmentation Completed. \n",
      "total_meal: 32 TP:  31 FP:  44 FN:  1\n"
     ]
    },
    {
     "name": "stderr",
     "output_type": "stream",
     "text": [
      "100%|██████████| 17/17 [00:00<00:00, 378.66it/s]\n",
      "  0%|          | 0/17 [00:00<?, ?it/s]"
     ]
    },
    {
     "name": "stdout",
     "output_type": "stream",
     "text": [
      "Segmentation Completed. \n",
      "total_meal: 32 TP:  31 FP:  43 FN:  1\n"
     ]
    },
    {
     "name": "stderr",
     "output_type": "stream",
     "text": [
      "100%|██████████| 17/17 [00:00<00:00, 366.24it/s]\n",
      "  0%|          | 0/17 [00:00<?, ?it/s]"
     ]
    },
    {
     "name": "stdout",
     "output_type": "stream",
     "text": [
      "Segmentation Completed. \n",
      "total_meal: 32 TP:  30 FP:  43 FN:  2\n"
     ]
    },
    {
     "name": "stderr",
     "output_type": "stream",
     "text": [
      "100%|██████████| 17/17 [00:00<00:00, 379.16it/s]\n",
      "  0%|          | 0/17 [00:00<?, ?it/s]"
     ]
    },
    {
     "name": "stdout",
     "output_type": "stream",
     "text": [
      "Segmentation Completed. \n",
      "total_meal: 32 TP:  30 FP:  45 FN:  2\n"
     ]
    },
    {
     "name": "stderr",
     "output_type": "stream",
     "text": [
      "100%|██████████| 17/17 [00:00<00:00, 383.75it/s]\n",
      "  0%|          | 0/17 [00:00<?, ?it/s]"
     ]
    },
    {
     "name": "stdout",
     "output_type": "stream",
     "text": [
      "Segmentation Completed. \n",
      "total_meal: 32 TP:  31 FP:  46 FN:  1\n"
     ]
    },
    {
     "name": "stderr",
     "output_type": "stream",
     "text": [
      "100%|██████████| 17/17 [00:00<00:00, 383.68it/s]\n",
      "  0%|          | 0/17 [00:00<?, ?it/s]"
     ]
    },
    {
     "name": "stdout",
     "output_type": "stream",
     "text": [
      "Segmentation Completed. \n",
      "total_meal: 32 TP:  31 FP:  45 FN:  1\n"
     ]
    },
    {
     "name": "stderr",
     "output_type": "stream",
     "text": [
      "100%|██████████| 17/17 [00:00<00:00, 377.81it/s]\n",
      "  0%|          | 0/17 [00:00<?, ?it/s]"
     ]
    },
    {
     "name": "stdout",
     "output_type": "stream",
     "text": [
      "Segmentation Completed. \n",
      "total_meal: 32 TP:  31 FP:  44 FN:  1\n"
     ]
    },
    {
     "name": "stderr",
     "output_type": "stream",
     "text": [
      "100%|██████████| 17/17 [00:00<00:00, 385.67it/s]\n"
     ]
    },
    {
     "name": "stdout",
     "output_type": "stream",
     "text": [
      "Segmentation Completed. \n"
     ]
    },
    {
     "name": "stderr",
     "output_type": "stream",
     "text": [
      "100%|██████████| 17/17 [00:00<00:00, 238.94it/s]"
     ]
    },
    {
     "name": "stdout",
     "output_type": "stream",
     "text": [
      "total_meal: 32 TP:  31 FP:  43 FN:  1\n",
      "Segmentation Completed. \n"
     ]
    },
    {
     "name": "stderr",
     "output_type": "stream",
     "text": [
      "\n",
      "  0%|          | 0/17 [00:00<?, ?it/s]"
     ]
    },
    {
     "name": "stdout",
     "output_type": "stream",
     "text": [
      "total_meal: 32 TP:  31 FP:  38 FN:  1\n"
     ]
    },
    {
     "name": "stderr",
     "output_type": "stream",
     "text": [
      "100%|██████████| 17/17 [00:00<00:00, 212.66it/s]\n"
     ]
    },
    {
     "name": "stdout",
     "output_type": "stream",
     "text": [
      "Segmentation Completed. \n",
      "total_meal: 32 TP:  31 FP:  37 FN:  1\n"
     ]
    },
    {
     "name": "stderr",
     "output_type": "stream",
     "text": [
      "100%|██████████| 17/17 [00:00<00:00, 386.29it/s]\n"
     ]
    },
    {
     "name": "stdout",
     "output_type": "stream",
     "text": [
      "Segmentation Completed. \n",
      "total_meal: 32 TP:  30 FP:  38 FN:  2\n"
     ]
    },
    {
     "name": "stderr",
     "output_type": "stream",
     "text": [
      "100%|██████████| 17/17 [00:00<00:00, 156.90it/s]\n"
     ]
    },
    {
     "name": "stdout",
     "output_type": "stream",
     "text": [
      "Segmentation Completed. \n",
      "total_meal: 32 TP:  30 FP:  40 FN:  2\n"
     ]
    },
    {
     "name": "stderr",
     "output_type": "stream",
     "text": [
      "100%|██████████| 17/17 [00:00<00:00, 354.72it/s]\n"
     ]
    },
    {
     "name": "stdout",
     "output_type": "stream",
     "text": [
      "Segmentation Completed. \n",
      "total_meal: 32 TP:  31 FP:  40 FN:  1\n"
     ]
    },
    {
     "name": "stderr",
     "output_type": "stream",
     "text": [
      "100%|██████████| 17/17 [00:00<00:00, 243.59it/s]\n"
     ]
    },
    {
     "name": "stdout",
     "output_type": "stream",
     "text": [
      "Segmentation Completed. \n",
      "total_meal: 32 TP:  31 FP:  40 FN:  1\n"
     ]
    },
    {
     "name": "stderr",
     "output_type": "stream",
     "text": [
      "100%|██████████| 17/17 [00:00<00:00, 207.17it/s]\n"
     ]
    },
    {
     "name": "stdout",
     "output_type": "stream",
     "text": [
      "Segmentation Completed. \n",
      "total_meal: 32 TP:  31 FP:  40 FN:  1\n"
     ]
    },
    {
     "name": "stderr",
     "output_type": "stream",
     "text": [
      "100%|██████████| 17/17 [00:00<00:00, 143.17it/s]\n"
     ]
    },
    {
     "name": "stdout",
     "output_type": "stream",
     "text": [
      "Segmentation Completed. \n"
     ]
    },
    {
     "name": "stderr",
     "output_type": "stream",
     "text": [
      "100%|██████████| 17/17 [00:00<00:00, 376.09it/s]"
     ]
    },
    {
     "name": "stdout",
     "output_type": "stream",
     "text": [
      "total_meal: 32 TP:  31 FP:  38 FN:  1\n",
      "Segmentation Completed. \n"
     ]
    },
    {
     "name": "stderr",
     "output_type": "stream",
     "text": [
      "\n",
      "100%|██████████| 17/17 [00:00<00:00, 374.27it/s]"
     ]
    },
    {
     "name": "stdout",
     "output_type": "stream",
     "text": [
      "total_meal: 32 TP:  31 FP:  34 FN:  1\n",
      "Segmentation Completed. \n"
     ]
    },
    {
     "name": "stderr",
     "output_type": "stream",
     "text": [
      "\n",
      "100%|██████████| 17/17 [00:00<00:00, 386.06it/s]"
     ]
    },
    {
     "name": "stdout",
     "output_type": "stream",
     "text": [
      "total_meal: 32 TP:  31 FP:  30 FN:  1\n",
      "Segmentation Completed. \n"
     ]
    },
    {
     "name": "stderr",
     "output_type": "stream",
     "text": [
      "\n",
      "100%|██████████| 17/17 [00:00<00:00, 383.12it/s]"
     ]
    },
    {
     "name": "stdout",
     "output_type": "stream",
     "text": [
      "total_meal: 32 TP:  30 FP:  26 FN:  2\n",
      "Segmentation Completed. \n"
     ]
    },
    {
     "name": "stderr",
     "output_type": "stream",
     "text": [
      "\n",
      "100%|██████████| 17/17 [00:00<00:00, 390.18it/s]\n",
      "  0%|          | 0/17 [00:00<?, ?it/s]"
     ]
    },
    {
     "name": "stdout",
     "output_type": "stream",
     "text": [
      "total_meal: 32 TP:  30 FP:  30 FN:  2\n",
      "Segmentation Completed. \n",
      "total_meal: 32 TP:  31 FP:  30 FN:  1\n"
     ]
    },
    {
     "name": "stderr",
     "output_type": "stream",
     "text": [
      "100%|██████████| 17/17 [00:00<00:00, 361.52it/s]\n",
      "  0%|          | 0/17 [00:00<?, ?it/s]"
     ]
    },
    {
     "name": "stdout",
     "output_type": "stream",
     "text": [
      "Segmentation Completed. \n",
      "total_meal: 32 TP:  31 FP:  29 FN:  1\n"
     ]
    },
    {
     "name": "stderr",
     "output_type": "stream",
     "text": [
      "100%|██████████| 17/17 [00:00<00:00, 348.91it/s]\n"
     ]
    },
    {
     "name": "stdout",
     "output_type": "stream",
     "text": [
      "Segmentation Completed. \n",
      "total_meal: 32 TP:  31 FP:  29 FN:  1\n"
     ]
    },
    {
     "name": "stderr",
     "output_type": "stream",
     "text": [
      "100%|██████████| 17/17 [00:00<00:00, 335.04it/s]\n"
     ]
    },
    {
     "name": "stdout",
     "output_type": "stream",
     "text": [
      "Segmentation Completed. \n",
      "total_meal: 32 TP:  31 FP:  27 FN:  1\n"
     ]
    },
    {
     "name": "stderr",
     "output_type": "stream",
     "text": [
      "100%|██████████| 17/17 [00:00<00:00, 295.27it/s]\n"
     ]
    },
    {
     "name": "stdout",
     "output_type": "stream",
     "text": [
      "Segmentation Completed. \n",
      "total_meal: 32 TP:  31 FP:  26 FN:  1\n"
     ]
    },
    {
     "name": "stderr",
     "output_type": "stream",
     "text": [
      "100%|██████████| 17/17 [00:00<00:00, 366.43it/s]\n",
      "  0%|          | 0/17 [00:00<?, ?it/s]"
     ]
    },
    {
     "name": "stdout",
     "output_type": "stream",
     "text": [
      "Segmentation Completed. \n",
      "total_meal: 32 TP:  31 FP:  25 FN:  1\n"
     ]
    },
    {
     "name": "stderr",
     "output_type": "stream",
     "text": [
      "100%|██████████| 17/17 [00:00<00:00, 301.92it/s]\n",
      "  0%|          | 0/17 [00:00<?, ?it/s]"
     ]
    },
    {
     "name": "stdout",
     "output_type": "stream",
     "text": [
      "Segmentation Completed. \n",
      "total_meal: 32 TP:  30 FP:  22 FN:  2\n"
     ]
    },
    {
     "name": "stderr",
     "output_type": "stream",
     "text": [
      "100%|██████████| 17/17 [00:00<00:00, 369.42it/s]\n",
      "  0%|          | 0/17 [00:00<?, ?it/s]"
     ]
    },
    {
     "name": "stdout",
     "output_type": "stream",
     "text": [
      "Segmentation Completed. \n",
      "total_meal: 32 TP:  30 FP:  24 FN:  2\n"
     ]
    },
    {
     "name": "stderr",
     "output_type": "stream",
     "text": [
      "100%|██████████| 17/17 [00:00<00:00, 389.29it/s]\n",
      "  0%|          | 0/17 [00:00<?, ?it/s]"
     ]
    },
    {
     "name": "stdout",
     "output_type": "stream",
     "text": [
      "Segmentation Completed. \n",
      "total_meal: 32 TP:  31 FP:  23 FN:  1\n"
     ]
    },
    {
     "name": "stderr",
     "output_type": "stream",
     "text": [
      "100%|██████████| 17/17 [00:00<00:00, 377.29it/s]\n",
      "100%|██████████| 17/17 [00:00<00:00, 388.26it/s]"
     ]
    },
    {
     "name": "stdout",
     "output_type": "stream",
     "text": [
      "Segmentation Completed. \n",
      "total_meal: 32 TP:  31 FP:  24 FN:  1\n"
     ]
    },
    {
     "name": "stderr",
     "output_type": "stream",
     "text": [
      "\n",
      "  0%|          | 0/17 [00:00<?, ?it/s]"
     ]
    },
    {
     "name": "stdout",
     "output_type": "stream",
     "text": [
      "Segmentation Completed. \n",
      "total_meal: 32 TP:  31 FP:  24 FN:  1\n"
     ]
    },
    {
     "name": "stderr",
     "output_type": "stream",
     "text": [
      "100%|██████████| 17/17 [00:00<00:00, 337.67it/s]\n"
     ]
    },
    {
     "name": "stdout",
     "output_type": "stream",
     "text": [
      "Segmentation Completed. \n",
      "total_meal: 32 TP:  31 FP:  24 FN:  1\n"
     ]
    },
    {
     "name": "stderr",
     "output_type": "stream",
     "text": [
      "100%|██████████| 17/17 [00:00<00:00, 194.15it/s]\n",
      "  0%|          | 0/17 [00:00<?, ?it/s]"
     ]
    },
    {
     "name": "stdout",
     "output_type": "stream",
     "text": [
      "Segmentation Completed. \n",
      "total_meal: 32 TP:  31 FP:  25 FN:  1\n"
     ]
    },
    {
     "name": "stderr",
     "output_type": "stream",
     "text": [
      "100%|██████████| 17/17 [00:00<00:00, 387.29it/s]\n"
     ]
    },
    {
     "name": "stdout",
     "output_type": "stream",
     "text": [
      "Segmentation Completed. \n",
      "total_meal: 32 TP:  31 FP:  24 FN:  1\n"
     ]
    },
    {
     "name": "stderr",
     "output_type": "stream",
     "text": [
      "100%|██████████| 17/17 [00:00<00:00, 361.54it/s]\n",
      "  0%|          | 0/17 [00:00<?, ?it/s]"
     ]
    },
    {
     "name": "stdout",
     "output_type": "stream",
     "text": [
      "Segmentation Completed. \n",
      "total_meal: 32 TP:  30 FP:  16 FN:  2\n"
     ]
    },
    {
     "name": "stderr",
     "output_type": "stream",
     "text": [
      "100%|██████████| 17/17 [00:00<00:00, 373.22it/s]\n",
      "  0%|          | 0/17 [00:00<?, ?it/s]"
     ]
    },
    {
     "name": "stdout",
     "output_type": "stream",
     "text": [
      "Segmentation Completed. \n",
      "total_meal: 32 TP:  30 FP:  17 FN:  2\n"
     ]
    },
    {
     "name": "stderr",
     "output_type": "stream",
     "text": [
      "100%|██████████| 17/17 [00:00<00:00, 265.07it/s]\n"
     ]
    },
    {
     "name": "stdout",
     "output_type": "stream",
     "text": [
      "Segmentation Completed. \n",
      "total_meal: 32 TP:  31 FP:  18 FN:  1\n"
     ]
    },
    {
     "name": "stderr",
     "output_type": "stream",
     "text": [
      "100%|██████████| 17/17 [00:00<00:00, 389.76it/s]\n"
     ]
    },
    {
     "name": "stdout",
     "output_type": "stream",
     "text": [
      "Segmentation Completed. \n",
      "total_meal: 32 TP:  31 FP:  19 FN:  1\n"
     ]
    },
    {
     "name": "stderr",
     "output_type": "stream",
     "text": [
      "100%|██████████| 17/17 [00:00<00:00, 331.86it/s]\n"
     ]
    },
    {
     "name": "stdout",
     "output_type": "stream",
     "text": [
      "Segmentation Completed. \n",
      "total_meal: 32 TP:  31 FP:  19 FN:  1\n"
     ]
    },
    {
     "name": "stderr",
     "output_type": "stream",
     "text": [
      "100%|██████████| 17/17 [00:00<00:00, 367.54it/s]\n"
     ]
    },
    {
     "name": "stdout",
     "output_type": "stream",
     "text": [
      "Segmentation Completed. \n",
      "total_meal: 32 TP:  31 FP:  19 FN:  1\n"
     ]
    },
    {
     "name": "stderr",
     "output_type": "stream",
     "text": [
      "100%|██████████| 17/17 [00:00<00:00, 257.77it/s]\n",
      "  0%|          | 0/17 [00:00<?, ?it/s]"
     ]
    },
    {
     "name": "stdout",
     "output_type": "stream",
     "text": [
      "Segmentation Completed. \n",
      "total_meal: 32 TP:  31 FP:  19 FN:  1\n"
     ]
    },
    {
     "name": "stderr",
     "output_type": "stream",
     "text": [
      "100%|██████████| 17/17 [00:00<00:00, 391.30it/s]\n",
      "  0%|          | 0/17 [00:00<?, ?it/s]"
     ]
    },
    {
     "name": "stdout",
     "output_type": "stream",
     "text": [
      "Segmentation Completed. \n",
      "total_meal: 32 TP:  31 FP:  19 FN:  1\n"
     ]
    },
    {
     "name": "stderr",
     "output_type": "stream",
     "text": [
      "100%|██████████| 17/17 [00:00<00:00, 386.92it/s]\n"
     ]
    },
    {
     "name": "stdout",
     "output_type": "stream",
     "text": [
      "Segmentation Completed. \n",
      "total_meal: 32 TP:  30 FP:  14 FN:  2\n"
     ]
    },
    {
     "name": "stderr",
     "output_type": "stream",
     "text": [
      "100%|██████████| 17/17 [00:00<00:00, 387.30it/s]\n",
      "  0%|          | 0/17 [00:00<?, ?it/s]"
     ]
    },
    {
     "name": "stdout",
     "output_type": "stream",
     "text": [
      "Segmentation Completed. \n",
      "total_meal: 32 TP:  30 FP:  15 FN:  2\n"
     ]
    },
    {
     "name": "stderr",
     "output_type": "stream",
     "text": [
      "100%|██████████| 17/17 [00:00<00:00, 378.41it/s]\n",
      "  0%|          | 0/17 [00:00<?, ?it/s]"
     ]
    },
    {
     "name": "stdout",
     "output_type": "stream",
     "text": [
      "Segmentation Completed. \n",
      "total_meal: 32 TP:  31 FP:  16 FN:  1\n"
     ]
    },
    {
     "name": "stderr",
     "output_type": "stream",
     "text": [
      "100%|██████████| 17/17 [00:00<00:00, 378.42it/s]\n"
     ]
    },
    {
     "name": "stdout",
     "output_type": "stream",
     "text": [
      "Segmentation Completed. \n",
      "total_meal: 32 TP:  31 FP:  16 FN:  1\n"
     ]
    },
    {
     "name": "stderr",
     "output_type": "stream",
     "text": [
      "100%|██████████| 17/17 [00:00<00:00, 388.91it/s]\n"
     ]
    },
    {
     "name": "stdout",
     "output_type": "stream",
     "text": [
      "Segmentation Completed. \n",
      "total_meal: 32 TP:  31 FP:  16 FN:  1\n"
     ]
    },
    {
     "name": "stderr",
     "output_type": "stream",
     "text": [
      "100%|██████████| 17/17 [00:00<00:00, 267.16it/s]\n"
     ]
    },
    {
     "name": "stdout",
     "output_type": "stream",
     "text": [
      "Segmentation Completed. \n",
      "total_meal: 32 TP:  31 FP:  16 FN:  1\n"
     ]
    },
    {
     "name": "stderr",
     "output_type": "stream",
     "text": [
      "100%|██████████| 17/17 [00:00<00:00, 375.96it/s]\n"
     ]
    },
    {
     "name": "stdout",
     "output_type": "stream",
     "text": [
      "Segmentation Completed. \n",
      "total_meal: 32 TP:  31 FP:  16 FN:  1\n"
     ]
    },
    {
     "name": "stderr",
     "output_type": "stream",
     "text": [
      "100%|██████████| 17/17 [00:00<00:00, 386.13it/s]\n",
      "  0%|          | 0/17 [00:00<?, ?it/s]"
     ]
    },
    {
     "name": "stdout",
     "output_type": "stream",
     "text": [
      "Segmentation Completed. \n",
      "total_meal: 32 TP:  31 FP:  16 FN:  1\n"
     ]
    },
    {
     "name": "stderr",
     "output_type": "stream",
     "text": [
      "100%|██████████| 17/17 [00:00<00:00, 383.59it/s]\n"
     ]
    },
    {
     "name": "stdout",
     "output_type": "stream",
     "text": [
      "Segmentation Completed. \n",
      "total_meal: 32 TP:  30 FP:  9 FN:  2\n"
     ]
    },
    {
     "name": "stderr",
     "output_type": "stream",
     "text": [
      "100%|██████████| 17/17 [00:00<00:00, 364.84it/s]\n"
     ]
    },
    {
     "name": "stdout",
     "output_type": "stream",
     "text": [
      "Segmentation Completed. \n",
      "total_meal: 32 TP:  30 FP:  9 FN:  2\n"
     ]
    },
    {
     "name": "stderr",
     "output_type": "stream",
     "text": [
      "100%|██████████| 17/17 [00:00<00:00, 138.22it/s]\n"
     ]
    },
    {
     "name": "stdout",
     "output_type": "stream",
     "text": [
      "Segmentation Completed. \n"
     ]
    },
    {
     "name": "stderr",
     "output_type": "stream",
     "text": [
      "100%|██████████| 17/17 [00:00<00:00, 326.44it/s]"
     ]
    },
    {
     "name": "stdout",
     "output_type": "stream",
     "text": [
      "total_meal: 32 TP:  31 FP:  9 FN:  1\n",
      "Segmentation Completed. \n"
     ]
    },
    {
     "name": "stderr",
     "output_type": "stream",
     "text": [
      "\n",
      "  0%|          | 0/17 [00:00<?, ?it/s]"
     ]
    },
    {
     "name": "stdout",
     "output_type": "stream",
     "text": [
      "total_meal: 32 TP:  31 FP:  9 FN:  1\n"
     ]
    },
    {
     "name": "stderr",
     "output_type": "stream",
     "text": [
      "100%|██████████| 17/17 [00:00<00:00, 357.28it/s]\n"
     ]
    },
    {
     "name": "stdout",
     "output_type": "stream",
     "text": [
      "Segmentation Completed. \n",
      "total_meal: 32 TP:  31 FP:  9 FN:  1\n"
     ]
    },
    {
     "name": "stderr",
     "output_type": "stream",
     "text": [
      "100%|██████████| 17/17 [00:00<00:00, 219.66it/s]\n"
     ]
    },
    {
     "name": "stdout",
     "output_type": "stream",
     "text": [
      "Segmentation Completed. \n"
     ]
    },
    {
     "name": "stderr",
     "output_type": "stream",
     "text": [
      "100%|██████████| 17/17 [00:00<00:00, 390.89it/s]"
     ]
    },
    {
     "name": "stdout",
     "output_type": "stream",
     "text": [
      "total_meal: 32 TP:  31 FP:  9 FN:  1\n",
      "Segmentation Completed. \n"
     ]
    },
    {
     "name": "stderr",
     "output_type": "stream",
     "text": [
      "\n",
      "  0%|          | 0/17 [00:00<?, ?it/s]"
     ]
    },
    {
     "name": "stdout",
     "output_type": "stream",
     "text": [
      "total_meal: 32 TP:  31 FP:  8 FN:  1\n"
     ]
    },
    {
     "name": "stderr",
     "output_type": "stream",
     "text": [
      "100%|██████████| 17/17 [00:00<00:00, 258.72it/s]\n"
     ]
    },
    {
     "name": "stdout",
     "output_type": "stream",
     "text": [
      "Segmentation Completed. \n"
     ]
    },
    {
     "name": "stderr",
     "output_type": "stream",
     "text": [
      "100%|██████████| 14/14 [00:00<00:00, 297.15it/s]\n"
     ]
    },
    {
     "name": "stdout",
     "output_type": "stream",
     "text": [
      "total_meal: 32 TP:  31 FP:  8 FN:  1\n",
      "Segmentation Completed. \n",
      "total_meal: 26 TP:  24 FP:  32 FN:  2\n"
     ]
    },
    {
     "name": "stderr",
     "output_type": "stream",
     "text": [
      "100%|██████████| 14/14 [00:00<00:00, 216.93it/s]\n"
     ]
    },
    {
     "name": "stdout",
     "output_type": "stream",
     "text": [
      "Segmentation Completed. \n"
     ]
    },
    {
     "name": "stderr",
     "output_type": "stream",
     "text": [
      "\r",
      "  0%|          | 0/14 [00:00<?, ?it/s]"
     ]
    },
    {
     "name": "stdout",
     "output_type": "stream",
     "text": [
      "total_meal: 26 TP:  24 FP:  33 FN:  2\n"
     ]
    },
    {
     "name": "stderr",
     "output_type": "stream",
     "text": [
      "100%|██████████| 14/14 [00:00<00:00, 207.62it/s]\n"
     ]
    },
    {
     "name": "stdout",
     "output_type": "stream",
     "text": [
      "Segmentation Completed. \n"
     ]
    },
    {
     "name": "stderr",
     "output_type": "stream",
     "text": [
      "\r",
      "  0%|          | 0/14 [00:00<?, ?it/s]"
     ]
    },
    {
     "name": "stdout",
     "output_type": "stream",
     "text": [
      "total_meal: 26 TP:  24 FP:  35 FN:  2\n"
     ]
    },
    {
     "name": "stderr",
     "output_type": "stream",
     "text": [
      "100%|██████████| 14/14 [00:00<00:00, 201.46it/s]\n"
     ]
    },
    {
     "name": "stdout",
     "output_type": "stream",
     "text": [
      "Segmentation Completed. \n",
      "total_meal: 26 TP:  24 FP:  34 FN:  2\n"
     ]
    },
    {
     "name": "stderr",
     "output_type": "stream",
     "text": [
      "100%|██████████| 14/14 [00:00<00:00, 320.06it/s]\n"
     ]
    },
    {
     "name": "stdout",
     "output_type": "stream",
     "text": [
      "Segmentation Completed. \n",
      "total_meal: 26 TP:  24 FP:  35 FN:  2\n"
     ]
    },
    {
     "name": "stderr",
     "output_type": "stream",
     "text": [
      "100%|██████████| 14/14 [00:00<00:00, 206.23it/s]\n"
     ]
    },
    {
     "name": "stdout",
     "output_type": "stream",
     "text": [
      "Segmentation Completed. \n",
      "total_meal: 26 TP:  24 FP:  34 FN:  2\n"
     ]
    },
    {
     "name": "stderr",
     "output_type": "stream",
     "text": [
      "100%|██████████| 14/14 [00:00<00:00, 202.97it/s]\n",
      "  0%|          | 0/14 [00:00<?, ?it/s]"
     ]
    },
    {
     "name": "stdout",
     "output_type": "stream",
     "text": [
      "Segmentation Completed. \n",
      "total_meal: 26 TP:  24 FP:  34 FN:  2\n"
     ]
    },
    {
     "name": "stderr",
     "output_type": "stream",
     "text": [
      "100%|██████████| 14/14 [00:00<00:00, 314.47it/s]\n",
      "  0%|          | 0/14 [00:00<?, ?it/s]"
     ]
    },
    {
     "name": "stdout",
     "output_type": "stream",
     "text": [
      "Segmentation Completed. \n",
      "total_meal: 26 TP:  24 FP:  32 FN:  2\n"
     ]
    },
    {
     "name": "stderr",
     "output_type": "stream",
     "text": [
      "100%|██████████| 14/14 [00:00<00:00, 318.20it/s]\n",
      "  0%|          | 0/14 [00:00<?, ?it/s]"
     ]
    },
    {
     "name": "stdout",
     "output_type": "stream",
     "text": [
      "Segmentation Completed. \n",
      "total_meal: 26 TP:  24 FP:  27 FN:  2\n"
     ]
    },
    {
     "name": "stderr",
     "output_type": "stream",
     "text": [
      "100%|██████████| 14/14 [00:00<00:00, 251.50it/s]\n"
     ]
    },
    {
     "name": "stdout",
     "output_type": "stream",
     "text": [
      "Segmentation Completed. \n",
      "total_meal: 26 TP:  24 FP:  29 FN:  2\n"
     ]
    },
    {
     "name": "stderr",
     "output_type": "stream",
     "text": [
      "100%|██████████| 14/14 [00:00<00:00, 253.01it/s]\n",
      "  0%|          | 0/14 [00:00<?, ?it/s]"
     ]
    },
    {
     "name": "stdout",
     "output_type": "stream",
     "text": [
      "Segmentation Completed. \n",
      "total_meal: 26 TP:  24 FP:  29 FN:  2\n"
     ]
    },
    {
     "name": "stderr",
     "output_type": "stream",
     "text": [
      "100%|██████████| 14/14 [00:00<00:00, 325.12it/s]\n"
     ]
    },
    {
     "name": "stdout",
     "output_type": "stream",
     "text": [
      "Segmentation Completed. \n",
      "total_meal: 26 TP:  24 FP:  29 FN:  2\n"
     ]
    },
    {
     "name": "stderr",
     "output_type": "stream",
     "text": [
      "100%|██████████| 14/14 [00:00<00:00, 145.55it/s]\n"
     ]
    },
    {
     "name": "stdout",
     "output_type": "stream",
     "text": [
      "Segmentation Completed. \n",
      "total_meal: 26 TP:  24 FP:  29 FN:  2\n"
     ]
    },
    {
     "name": "stderr",
     "output_type": "stream",
     "text": [
      "100%|██████████| 14/14 [00:00<00:00, 319.91it/s]\n",
      "  0%|          | 0/14 [00:00<?, ?it/s]"
     ]
    },
    {
     "name": "stdout",
     "output_type": "stream",
     "text": [
      "Segmentation Completed. \n",
      "total_meal: 26 TP:  24 FP:  30 FN:  2\n"
     ]
    },
    {
     "name": "stderr",
     "output_type": "stream",
     "text": [
      "100%|██████████| 14/14 [00:00<00:00, 180.83it/s]\n"
     ]
    },
    {
     "name": "stdout",
     "output_type": "stream",
     "text": [
      "Segmentation Completed. \n",
      "total_meal: 26 TP:  24 FP:  31 FN:  2\n"
     ]
    },
    {
     "name": "stderr",
     "output_type": "stream",
     "text": [
      "100%|██████████| 14/14 [00:00<00:00, 174.53it/s]\n"
     ]
    },
    {
     "name": "stdout",
     "output_type": "stream",
     "text": [
      "Segmentation Completed. \n",
      "total_meal: 26 TP:  24 FP:  30 FN:  2\n"
     ]
    },
    {
     "name": "stderr",
     "output_type": "stream",
     "text": [
      "100%|██████████| 14/14 [00:00<00:00, 251.00it/s]\n"
     ]
    },
    {
     "name": "stdout",
     "output_type": "stream",
     "text": [
      "Segmentation Completed. \n",
      "total_meal: 26 TP:  24 FP:  21 FN:  2\n"
     ]
    },
    {
     "name": "stderr",
     "output_type": "stream",
     "text": [
      "100%|██████████| 14/14 [00:00<00:00, 285.91it/s]\n"
     ]
    },
    {
     "name": "stdout",
     "output_type": "stream",
     "text": [
      "Segmentation Completed. \n",
      "total_meal: 26 TP:  24 FP:  22 FN:  2\n"
     ]
    },
    {
     "name": "stderr",
     "output_type": "stream",
     "text": [
      "100%|██████████| 14/14 [00:00<00:00, 314.81it/s]\n"
     ]
    },
    {
     "name": "stdout",
     "output_type": "stream",
     "text": [
      "Segmentation Completed. \n",
      "total_meal: 26 TP:  24 FP:  22 FN:  2\n"
     ]
    },
    {
     "name": "stderr",
     "output_type": "stream",
     "text": [
      "100%|██████████| 14/14 [00:00<00:00, 237.73it/s]\n"
     ]
    },
    {
     "name": "stdout",
     "output_type": "stream",
     "text": [
      "Segmentation Completed. \n",
      "total_meal: 26 TP:  24 FP:  23 FN:  2\n"
     ]
    },
    {
     "name": "stderr",
     "output_type": "stream",
     "text": [
      "100%|██████████| 14/14 [00:00<00:00, 267.07it/s]\n"
     ]
    },
    {
     "name": "stdout",
     "output_type": "stream",
     "text": [
      "Segmentation Completed. \n",
      "total_meal: 26 TP:  24 FP:  23 FN:  2\n"
     ]
    },
    {
     "name": "stderr",
     "output_type": "stream",
     "text": [
      "100%|██████████| 14/14 [00:00<00:00, 295.10it/s]\n",
      "  0%|          | 0/14 [00:00<?, ?it/s]"
     ]
    },
    {
     "name": "stdout",
     "output_type": "stream",
     "text": [
      "Segmentation Completed. \n",
      "total_meal: 26 TP:  24 FP:  24 FN:  2\n"
     ]
    },
    {
     "name": "stderr",
     "output_type": "stream",
     "text": [
      "100%|██████████| 14/14 [00:00<00:00, 331.77it/s]\n"
     ]
    },
    {
     "name": "stdout",
     "output_type": "stream",
     "text": [
      "Segmentation Completed. \n",
      "total_meal: 26 TP:  24 FP:  25 FN:  2\n"
     ]
    },
    {
     "name": "stderr",
     "output_type": "stream",
     "text": [
      "100%|██████████| 14/14 [00:00<00:00, 332.66it/s]\n",
      "  0%|          | 0/14 [00:00<?, ?it/s]"
     ]
    },
    {
     "name": "stdout",
     "output_type": "stream",
     "text": [
      "Segmentation Completed. \n",
      "total_meal: 26 TP:  24 FP:  25 FN:  2\n"
     ]
    },
    {
     "name": "stderr",
     "output_type": "stream",
     "text": [
      "100%|██████████| 14/14 [00:00<00:00, 321.21it/s]\n",
      "  0%|          | 0/14 [00:00<?, ?it/s]"
     ]
    },
    {
     "name": "stdout",
     "output_type": "stream",
     "text": [
      "Segmentation Completed. \n",
      "total_meal: 26 TP:  24 FP:  16 FN:  2\n"
     ]
    },
    {
     "name": "stderr",
     "output_type": "stream",
     "text": [
      "100%|██████████| 14/14 [00:00<00:00, 306.92it/s]\n",
      "100%|██████████| 14/14 [00:00<00:00, 285.81it/s]"
     ]
    },
    {
     "name": "stdout",
     "output_type": "stream",
     "text": [
      "Segmentation Completed. \n",
      "total_meal: 26 TP:  24 FP:  17 FN:  2\n"
     ]
    },
    {
     "name": "stderr",
     "output_type": "stream",
     "text": [
      "\n"
     ]
    },
    {
     "name": "stdout",
     "output_type": "stream",
     "text": [
      "Segmentation Completed. \n",
      "total_meal: 26 TP:  24 FP:  17 FN:  2\n"
     ]
    },
    {
     "name": "stderr",
     "output_type": "stream",
     "text": [
      "100%|██████████| 14/14 [00:00<00:00, 335.36it/s]\n",
      "  0%|          | 0/14 [00:00<?, ?it/s]"
     ]
    },
    {
     "name": "stdout",
     "output_type": "stream",
     "text": [
      "Segmentation Completed. \n",
      "total_meal: 26 TP:  24 FP:  18 FN:  2\n"
     ]
    },
    {
     "name": "stderr",
     "output_type": "stream",
     "text": [
      "100%|██████████| 14/14 [00:00<00:00, 274.42it/s]\n",
      "  0%|          | 0/14 [00:00<?, ?it/s]"
     ]
    },
    {
     "name": "stdout",
     "output_type": "stream",
     "text": [
      "Segmentation Completed. \n",
      "total_meal: 26 TP:  24 FP:  19 FN:  2\n"
     ]
    },
    {
     "name": "stderr",
     "output_type": "stream",
     "text": [
      "100%|██████████| 14/14 [00:00<00:00, 322.03it/s]\n",
      "  0%|          | 0/14 [00:00<?, ?it/s]"
     ]
    },
    {
     "name": "stdout",
     "output_type": "stream",
     "text": [
      "Segmentation Completed. \n",
      "total_meal: 26 TP:  24 FP:  19 FN:  2\n"
     ]
    },
    {
     "name": "stderr",
     "output_type": "stream",
     "text": [
      "100%|██████████| 14/14 [00:00<00:00, 281.11it/s]\n",
      "  0%|          | 0/14 [00:00<?, ?it/s]"
     ]
    },
    {
     "name": "stdout",
     "output_type": "stream",
     "text": [
      "Segmentation Completed. \n",
      "total_meal: 26 TP:  24 FP:  20 FN:  2\n"
     ]
    },
    {
     "name": "stderr",
     "output_type": "stream",
     "text": [
      "100%|██████████| 14/14 [00:00<00:00, 294.98it/s]\n"
     ]
    },
    {
     "name": "stdout",
     "output_type": "stream",
     "text": [
      "Segmentation Completed. \n",
      "total_meal: 26 TP:  24 FP:  19 FN:  2\n"
     ]
    },
    {
     "name": "stderr",
     "output_type": "stream",
     "text": [
      "100%|██████████| 14/14 [00:00<00:00, 154.17it/s]\n"
     ]
    },
    {
     "name": "stdout",
     "output_type": "stream",
     "text": [
      "Segmentation Completed. \n",
      "total_meal: 26 TP:  24 FP:  11 FN:  2\n"
     ]
    },
    {
     "name": "stderr",
     "output_type": "stream",
     "text": [
      "100%|██████████| 14/14 [00:00<00:00, 141.95it/s]\n"
     ]
    },
    {
     "name": "stdout",
     "output_type": "stream",
     "text": [
      "Segmentation Completed. \n"
     ]
    },
    {
     "name": "stderr",
     "output_type": "stream",
     "text": [
      "100%|██████████| 14/14 [00:00<00:00, 206.80it/s]\n"
     ]
    },
    {
     "name": "stdout",
     "output_type": "stream",
     "text": [
      "total_meal: 26 TP:  24 FP:  12 FN:  2\n",
      "Segmentation Completed. \n",
      "total_meal: 26 TP:  24 FP:  12 FN:  2\n"
     ]
    },
    {
     "name": "stderr",
     "output_type": "stream",
     "text": [
      "100%|██████████| 14/14 [00:00<00:00, 172.04it/s]\n"
     ]
    },
    {
     "name": "stdout",
     "output_type": "stream",
     "text": [
      "Segmentation Completed. \n",
      "total_meal: 26 TP:  24 FP:  12 FN:  2\n"
     ]
    },
    {
     "name": "stderr",
     "output_type": "stream",
     "text": [
      "100%|██████████| 14/14 [00:00<00:00, 172.85it/s]\n"
     ]
    },
    {
     "name": "stdout",
     "output_type": "stream",
     "text": [
      "Segmentation Completed. \n"
     ]
    },
    {
     "name": "stderr",
     "output_type": "stream",
     "text": [
      "\r",
      "  0%|          | 0/14 [00:00<?, ?it/s]"
     ]
    },
    {
     "name": "stdout",
     "output_type": "stream",
     "text": [
      "total_meal: 26 TP:  24 FP:  13 FN:  2\n"
     ]
    },
    {
     "name": "stderr",
     "output_type": "stream",
     "text": [
      "100%|██████████| 14/14 [00:00<00:00, 216.77it/s]\n"
     ]
    },
    {
     "name": "stdout",
     "output_type": "stream",
     "text": [
      "Segmentation Completed. \n",
      "total_meal: 26 TP:  24 FP:  14 FN:  2\n"
     ]
    },
    {
     "name": "stderr",
     "output_type": "stream",
     "text": [
      "100%|██████████| 14/14 [00:00<00:00, 196.73it/s]\n"
     ]
    },
    {
     "name": "stdout",
     "output_type": "stream",
     "text": [
      "Segmentation Completed. \n",
      "total_meal: 26 TP:  24 FP:  14 FN:  2\n"
     ]
    },
    {
     "name": "stderr",
     "output_type": "stream",
     "text": [
      "100%|██████████| 14/14 [00:00<00:00, 260.30it/s]\n"
     ]
    },
    {
     "name": "stdout",
     "output_type": "stream",
     "text": [
      "Segmentation Completed. \n",
      "total_meal: 26 TP:  24 FP:  15 FN:  2\n"
     ]
    },
    {
     "name": "stderr",
     "output_type": "stream",
     "text": [
      "100%|██████████| 14/14 [00:00<00:00, 310.21it/s]\n",
      "  0%|          | 0/14 [00:00<?, ?it/s]"
     ]
    },
    {
     "name": "stdout",
     "output_type": "stream",
     "text": [
      "Segmentation Completed. \n",
      "total_meal: 26 TP:  23 FP:  8 FN:  3\n"
     ]
    },
    {
     "name": "stderr",
     "output_type": "stream",
     "text": [
      "100%|██████████| 14/14 [00:00<00:00, 304.11it/s]\n"
     ]
    },
    {
     "name": "stdout",
     "output_type": "stream",
     "text": [
      "Segmentation Completed. \n",
      "total_meal: 26 TP:  23 FP:  9 FN:  3\n"
     ]
    },
    {
     "name": "stderr",
     "output_type": "stream",
     "text": [
      "100%|██████████| 14/14 [00:00<00:00, 179.90it/s]\n"
     ]
    },
    {
     "name": "stdout",
     "output_type": "stream",
     "text": [
      "Segmentation Completed. \n",
      "total_meal: 26 TP:  23 FP:  9 FN:  3\n"
     ]
    },
    {
     "name": "stderr",
     "output_type": "stream",
     "text": [
      "100%|██████████| 14/14 [00:00<00:00, 258.40it/s]\n"
     ]
    },
    {
     "name": "stdout",
     "output_type": "stream",
     "text": [
      "Segmentation Completed. \n",
      "total_meal: 26 TP:  23 FP:  9 FN:  3\n"
     ]
    },
    {
     "name": "stderr",
     "output_type": "stream",
     "text": [
      "100%|██████████| 14/14 [00:00<00:00, 193.25it/s]\n"
     ]
    },
    {
     "name": "stdout",
     "output_type": "stream",
     "text": [
      "Segmentation Completed. \n"
     ]
    },
    {
     "name": "stderr",
     "output_type": "stream",
     "text": [
      "\r",
      "  0%|          | 0/14 [00:00<?, ?it/s]"
     ]
    },
    {
     "name": "stdout",
     "output_type": "stream",
     "text": [
      "total_meal: 26 TP:  23 FP:  10 FN:  3\n"
     ]
    },
    {
     "name": "stderr",
     "output_type": "stream",
     "text": [
      "100%|██████████| 14/14 [00:00<00:00, 333.19it/s]\n",
      "  0%|          | 0/14 [00:00<?, ?it/s]"
     ]
    },
    {
     "name": "stdout",
     "output_type": "stream",
     "text": [
      "Segmentation Completed. \n",
      "total_meal: 26 TP:  23 FP:  11 FN:  3\n"
     ]
    },
    {
     "name": "stderr",
     "output_type": "stream",
     "text": [
      "100%|██████████| 14/14 [00:00<00:00, 318.50it/s]\n",
      "  0%|          | 0/14 [00:00<?, ?it/s]"
     ]
    },
    {
     "name": "stdout",
     "output_type": "stream",
     "text": [
      "Segmentation Completed. \n",
      "total_meal: 26 TP:  23 FP:  12 FN:  3\n"
     ]
    },
    {
     "name": "stderr",
     "output_type": "stream",
     "text": [
      "100%|██████████| 14/14 [00:00<00:00, 331.13it/s]\n",
      "100%|██████████| 14/14 [00:00<00:00, 331.46it/s]\n"
     ]
    },
    {
     "name": "stdout",
     "output_type": "stream",
     "text": [
      "Segmentation Completed. \n",
      "total_meal: 26 TP:  23 FP:  12 FN:  3\n",
      "Segmentation Completed. \n"
     ]
    },
    {
     "name": "stderr",
     "output_type": "stream",
     "text": [
      "\r",
      "  0%|          | 0/14 [00:00<?, ?it/s]"
     ]
    },
    {
     "name": "stdout",
     "output_type": "stream",
     "text": [
      "total_meal: 26 TP:  23 FP:  4 FN:  3\n"
     ]
    },
    {
     "name": "stderr",
     "output_type": "stream",
     "text": [
      "100%|██████████| 14/14 [00:00<00:00, 326.19it/s]\n",
      "  0%|          | 0/14 [00:00<?, ?it/s]"
     ]
    },
    {
     "name": "stdout",
     "output_type": "stream",
     "text": [
      "Segmentation Completed. \n",
      "total_meal: 26 TP:  23 FP:  4 FN:  3\n"
     ]
    },
    {
     "name": "stderr",
     "output_type": "stream",
     "text": [
      "100%|██████████| 14/14 [00:00<00:00, 332.54it/s]\n",
      "100%|██████████| 14/14 [00:00<00:00, 311.10it/s]"
     ]
    },
    {
     "name": "stdout",
     "output_type": "stream",
     "text": [
      "Segmentation Completed. \n",
      "total_meal: 26 TP:  23 FP:  4 FN:  3\n"
     ]
    },
    {
     "name": "stderr",
     "output_type": "stream",
     "text": [
      "\n",
      "\r",
      "  0%|          | 0/14 [00:00<?, ?it/s]"
     ]
    },
    {
     "name": "stdout",
     "output_type": "stream",
     "text": [
      "Segmentation Completed. \n",
      "total_meal: 26 TP:  23 FP:  5 FN:  3\n"
     ]
    },
    {
     "name": "stderr",
     "output_type": "stream",
     "text": [
      "100%|██████████| 14/14 [00:00<00:00, 266.99it/s]\n",
      "  0%|          | 0/14 [00:00<?, ?it/s]"
     ]
    },
    {
     "name": "stdout",
     "output_type": "stream",
     "text": [
      "Segmentation Completed. \n",
      "total_meal: 26 TP:  23 FP:  5 FN:  3\n"
     ]
    },
    {
     "name": "stderr",
     "output_type": "stream",
     "text": [
      "100%|██████████| 14/14 [00:00<00:00, 329.39it/s]\n",
      "  0%|          | 0/14 [00:00<?, ?it/s]"
     ]
    },
    {
     "name": "stdout",
     "output_type": "stream",
     "text": [
      "Segmentation Completed. \n",
      "total_meal: 26 TP:  23 FP:  5 FN:  3\n"
     ]
    },
    {
     "name": "stderr",
     "output_type": "stream",
     "text": [
      "100%|██████████| 14/14 [00:00<00:00, 332.90it/s]\n",
      "  0%|          | 0/14 [00:00<?, ?it/s]"
     ]
    },
    {
     "name": "stdout",
     "output_type": "stream",
     "text": [
      "Segmentation Completed. \n",
      "total_meal: 26 TP:  23 FP:  6 FN:  3\n"
     ]
    },
    {
     "name": "stderr",
     "output_type": "stream",
     "text": [
      "100%|██████████| 14/14 [00:00<00:00, 331.96it/s]\n",
      "100%|██████████| 14/14 [00:00<00:00, 333.92it/s]\n"
     ]
    },
    {
     "name": "stdout",
     "output_type": "stream",
     "text": [
      "Segmentation Completed. \n",
      "total_meal: 26 TP:  23 FP:  6 FN:  3\n",
      "Segmentation Completed. \n"
     ]
    },
    {
     "name": "stderr",
     "output_type": "stream",
     "text": [
      "100%|██████████| 14/14 [00:00<00:00, 332.18it/s]"
     ]
    },
    {
     "name": "stdout",
     "output_type": "stream",
     "text": [
      "total_meal: 26 TP:  23 FP:  3 FN:  3\n",
      "Segmentation Completed. \n",
      "total_meal: 26 TP:  23 FP:  3 FN:  3\n"
     ]
    },
    {
     "name": "stderr",
     "output_type": "stream",
     "text": [
      "\n",
      "100%|██████████| 14/14 [00:00<00:00, 333.94it/s]\n",
      "100%|██████████| 14/14 [00:00<00:00, 327.50it/s]\n"
     ]
    },
    {
     "name": "stdout",
     "output_type": "stream",
     "text": [
      "Segmentation Completed. \n",
      "total_meal: 26 TP:  23 FP:  3 FN:  3\n",
      "Segmentation Completed. \n"
     ]
    },
    {
     "name": "stderr",
     "output_type": "stream",
     "text": [
      "100%|██████████| 14/14 [00:00<00:00, 329.15it/s]"
     ]
    },
    {
     "name": "stdout",
     "output_type": "stream",
     "text": [
      "total_meal: 26 TP:  23 FP:  3 FN:  3\n",
      "Segmentation Completed. \n",
      "total_meal: 26 TP:  23 FP:  3 FN:  3\n"
     ]
    },
    {
     "name": "stderr",
     "output_type": "stream",
     "text": [
      "\n",
      "100%|██████████| 14/14 [00:00<00:00, 321.93it/s]\n",
      "100%|██████████| 14/14 [00:00<00:00, 316.25it/s]"
     ]
    },
    {
     "name": "stdout",
     "output_type": "stream",
     "text": [
      "Segmentation Completed. \n",
      "total_meal: 26 TP:  23 FP:  3 FN:  3\n"
     ]
    },
    {
     "name": "stderr",
     "output_type": "stream",
     "text": [
      "\n",
      "100%|██████████| 14/14 [00:00<00:00, 321.78it/s]\n"
     ]
    },
    {
     "name": "stdout",
     "output_type": "stream",
     "text": [
      "Segmentation Completed. \n",
      "total_meal: 26 TP:  23 FP:  4 FN:  3\n",
      "Segmentation Completed. \n"
     ]
    },
    {
     "name": "stderr",
     "output_type": "stream",
     "text": [
      "\r",
      "  0%|          | 0/23 [00:00<?, ?it/s]"
     ]
    },
    {
     "name": "stdout",
     "output_type": "stream",
     "text": [
      "total_meal: 26 TP:  23 FP:  4 FN:  3\n"
     ]
    },
    {
     "name": "stderr",
     "output_type": "stream",
     "text": [
      "100%|██████████| 23/23 [00:00<00:00, 370.19it/s]\n"
     ]
    },
    {
     "name": "stdout",
     "output_type": "stream",
     "text": [
      "Segmentation Completed. \n",
      "total_meal: 61 TP:  51 FP:  53 FN:  10\n"
     ]
    },
    {
     "name": "stderr",
     "output_type": "stream",
     "text": [
      "100%|██████████| 23/23 [00:00<00:00, 383.64it/s]\n"
     ]
    },
    {
     "name": "stdout",
     "output_type": "stream",
     "text": [
      "Segmentation Completed. \n",
      "total_meal: 61 TP:  51 FP:  74 FN:  10\n"
     ]
    },
    {
     "name": "stderr",
     "output_type": "stream",
     "text": [
      "100%|██████████| 23/23 [00:00<00:00, 383.21it/s]\n"
     ]
    },
    {
     "name": "stdout",
     "output_type": "stream",
     "text": [
      "Segmentation Completed. \n",
      "total_meal: 61 TP:  52 FP:  80 FN:  9\n"
     ]
    },
    {
     "name": "stderr",
     "output_type": "stream",
     "text": [
      "100%|██████████| 23/23 [00:00<00:00, 384.42it/s]\n"
     ]
    },
    {
     "name": "stdout",
     "output_type": "stream",
     "text": [
      "Segmentation Completed. \n",
      "total_meal: 61 TP:  53 FP:  84 FN:  8\n"
     ]
    },
    {
     "name": "stderr",
     "output_type": "stream",
     "text": [
      "100%|██████████| 23/23 [00:00<00:00, 385.76it/s]\n"
     ]
    },
    {
     "name": "stdout",
     "output_type": "stream",
     "text": [
      "Segmentation Completed. \n",
      "total_meal: 61 TP:  53 FP:  87 FN:  8\n"
     ]
    },
    {
     "name": "stderr",
     "output_type": "stream",
     "text": [
      "100%|██████████| 23/23 [00:00<00:00, 374.69it/s]\n"
     ]
    },
    {
     "name": "stdout",
     "output_type": "stream",
     "text": [
      "Segmentation Completed. \n",
      "total_meal: 61 TP:  52 FP:  91 FN:  9\n"
     ]
    },
    {
     "name": "stderr",
     "output_type": "stream",
     "text": [
      "100%|██████████| 23/23 [00:00<00:00, 385.42it/s]\n"
     ]
    },
    {
     "name": "stdout",
     "output_type": "stream",
     "text": [
      "Segmentation Completed. \n",
      "total_meal: 61 TP:  52 FP:  94 FN:  9\n"
     ]
    },
    {
     "name": "stderr",
     "output_type": "stream",
     "text": [
      "100%|██████████| 23/23 [00:00<00:00, 386.99it/s]\n"
     ]
    },
    {
     "name": "stdout",
     "output_type": "stream",
     "text": [
      "Segmentation Completed. \n",
      "total_meal: 61 TP:  53 FP:  95 FN:  8\n"
     ]
    },
    {
     "name": "stderr",
     "output_type": "stream",
     "text": [
      "100%|██████████| 23/23 [00:00<00:00, 393.60it/s]\n"
     ]
    },
    {
     "name": "stdout",
     "output_type": "stream",
     "text": [
      "Segmentation Completed. \n",
      "total_meal: 61 TP:  51 FP:  49 FN:  10\n"
     ]
    },
    {
     "name": "stderr",
     "output_type": "stream",
     "text": [
      "100%|██████████| 23/23 [00:00<00:00, 392.76it/s]\n"
     ]
    },
    {
     "name": "stdout",
     "output_type": "stream",
     "text": [
      "Segmentation Completed. \n",
      "total_meal: 61 TP:  51 FP:  65 FN:  10\n"
     ]
    },
    {
     "name": "stderr",
     "output_type": "stream",
     "text": [
      "100%|██████████| 23/23 [00:00<00:00, 395.28it/s]\n"
     ]
    },
    {
     "name": "stdout",
     "output_type": "stream",
     "text": [
      "Segmentation Completed. \n",
      "total_meal: 61 TP:  51 FP:  69 FN:  10\n"
     ]
    },
    {
     "name": "stderr",
     "output_type": "stream",
     "text": [
      "100%|██████████| 23/23 [00:00<00:00, 354.79it/s]\n"
     ]
    },
    {
     "name": "stdout",
     "output_type": "stream",
     "text": [
      "Segmentation Completed. \n",
      "total_meal: 61 TP:  53 FP:  74 FN:  8\n"
     ]
    },
    {
     "name": "stderr",
     "output_type": "stream",
     "text": [
      "100%|██████████| 23/23 [00:00<00:00, 388.59it/s]\n"
     ]
    },
    {
     "name": "stdout",
     "output_type": "stream",
     "text": [
      "Segmentation Completed. \n",
      "total_meal: 61 TP:  53 FP:  83 FN:  8\n"
     ]
    },
    {
     "name": "stderr",
     "output_type": "stream",
     "text": [
      "100%|██████████| 23/23 [00:00<00:00, 383.34it/s]\n"
     ]
    },
    {
     "name": "stdout",
     "output_type": "stream",
     "text": [
      "Segmentation Completed. \n",
      "total_meal: 61 TP:  52 FP:  89 FN:  9\n"
     ]
    },
    {
     "name": "stderr",
     "output_type": "stream",
     "text": [
      "100%|██████████| 23/23 [00:00<00:00, 382.88it/s]\n"
     ]
    },
    {
     "name": "stdout",
     "output_type": "stream",
     "text": [
      "Segmentation Completed. \n"
     ]
    },
    {
     "name": "stderr",
     "output_type": "stream",
     "text": [
      "100%|██████████| 23/23 [00:00<00:00, 386.91it/s]\n"
     ]
    },
    {
     "name": "stdout",
     "output_type": "stream",
     "text": [
      "total_meal: 61 TP:  52 FP:  91 FN:  9\n",
      "Segmentation Completed. \n"
     ]
    },
    {
     "name": "stderr",
     "output_type": "stream",
     "text": [
      "100%|██████████| 23/23 [00:00<00:00, 390.76it/s]\n"
     ]
    },
    {
     "name": "stdout",
     "output_type": "stream",
     "text": [
      "total_meal: 61 TP:  53 FP:  93 FN:  8\n",
      "Segmentation Completed. \n",
      "total_meal: 61 TP:  49 FP:  56 FN:  12\n"
     ]
    },
    {
     "name": "stderr",
     "output_type": "stream",
     "text": [
      "100%|██████████| 23/23 [00:00<00:00, 395.08it/s]\n"
     ]
    },
    {
     "name": "stdout",
     "output_type": "stream",
     "text": [
      "Segmentation Completed. \n",
      "total_meal: 61 TP:  50 FP:  64 FN:  11\n"
     ]
    },
    {
     "name": "stderr",
     "output_type": "stream",
     "text": [
      "100%|██████████| 23/23 [00:00<00:00, 393.41it/s]\n"
     ]
    },
    {
     "name": "stdout",
     "output_type": "stream",
     "text": [
      "Segmentation Completed. \n",
      "total_meal: 61 TP:  50 FP:  69 FN:  11\n"
     ]
    },
    {
     "name": "stderr",
     "output_type": "stream",
     "text": [
      "100%|██████████| 23/23 [00:00<00:00, 378.76it/s]\n"
     ]
    },
    {
     "name": "stdout",
     "output_type": "stream",
     "text": [
      "Segmentation Completed. \n",
      "total_meal: 61 TP:  51 FP:  73 FN:  10\n"
     ]
    },
    {
     "name": "stderr",
     "output_type": "stream",
     "text": [
      "100%|██████████| 23/23 [00:00<00:00, 392.41it/s]\n"
     ]
    },
    {
     "name": "stdout",
     "output_type": "stream",
     "text": [
      "Segmentation Completed. \n",
      "total_meal: 61 TP:  51 FP:  79 FN:  10\n"
     ]
    },
    {
     "name": "stderr",
     "output_type": "stream",
     "text": [
      "100%|██████████| 23/23 [00:00<00:00, 391.74it/s]\n"
     ]
    },
    {
     "name": "stdout",
     "output_type": "stream",
     "text": [
      "Segmentation Completed. \n",
      "total_meal: 61 TP:  51 FP:  82 FN:  10\n"
     ]
    },
    {
     "name": "stderr",
     "output_type": "stream",
     "text": [
      "100%|██████████| 23/23 [00:00<00:00, 389.82it/s]\n"
     ]
    },
    {
     "name": "stdout",
     "output_type": "stream",
     "text": [
      "Segmentation Completed. \n",
      "total_meal: 61 TP:  51 FP:  82 FN:  10\n"
     ]
    },
    {
     "name": "stderr",
     "output_type": "stream",
     "text": [
      "100%|██████████| 23/23 [00:00<00:00, 393.04it/s]\n"
     ]
    },
    {
     "name": "stdout",
     "output_type": "stream",
     "text": [
      "Segmentation Completed. \n",
      "total_meal: 61 TP:  51 FP:  84 FN:  10\n"
     ]
    },
    {
     "name": "stderr",
     "output_type": "stream",
     "text": [
      "100%|██████████| 23/23 [00:00<00:00, 394.91it/s]\n"
     ]
    },
    {
     "name": "stdout",
     "output_type": "stream",
     "text": [
      "Segmentation Completed. \n",
      "total_meal: 61 TP:  47 FP:  54 FN:  14\n"
     ]
    },
    {
     "name": "stderr",
     "output_type": "stream",
     "text": [
      "100%|██████████| 23/23 [00:00<00:00, 381.28it/s]\n"
     ]
    },
    {
     "name": "stdout",
     "output_type": "stream",
     "text": [
      "Segmentation Completed. \n",
      "total_meal: 61 TP:  48 FP:  62 FN:  13\n"
     ]
    },
    {
     "name": "stderr",
     "output_type": "stream",
     "text": [
      "100%|██████████| 23/23 [00:00<00:00, 394.70it/s]\n"
     ]
    },
    {
     "name": "stdout",
     "output_type": "stream",
     "text": [
      "Segmentation Completed. \n",
      "total_meal: 61 TP:  48 FP:  67 FN:  13\n"
     ]
    },
    {
     "name": "stderr",
     "output_type": "stream",
     "text": [
      "100%|██████████| 23/23 [00:00<00:00, 395.10it/s]\n"
     ]
    },
    {
     "name": "stdout",
     "output_type": "stream",
     "text": [
      "Segmentation Completed. \n",
      "total_meal: 61 TP:  49 FP:  69 FN:  12\n"
     ]
    },
    {
     "name": "stderr",
     "output_type": "stream",
     "text": [
      "100%|██████████| 23/23 [00:00<00:00, 389.22it/s]\n"
     ]
    },
    {
     "name": "stdout",
     "output_type": "stream",
     "text": [
      "Segmentation Completed. \n",
      "total_meal: 61 TP:  49 FP:  76 FN:  12\n"
     ]
    },
    {
     "name": "stderr",
     "output_type": "stream",
     "text": [
      "100%|██████████| 23/23 [00:00<00:00, 394.78it/s]\n"
     ]
    },
    {
     "name": "stdout",
     "output_type": "stream",
     "text": [
      "Segmentation Completed. \n",
      "total_meal: 61 TP:  48 FP:  79 FN:  13\n"
     ]
    },
    {
     "name": "stderr",
     "output_type": "stream",
     "text": [
      "100%|██████████| 23/23 [00:00<00:00, 391.34it/s]\n"
     ]
    },
    {
     "name": "stdout",
     "output_type": "stream",
     "text": [
      "Segmentation Completed. \n",
      "total_meal: 61 TP:  48 FP:  81 FN:  13\n"
     ]
    },
    {
     "name": "stderr",
     "output_type": "stream",
     "text": [
      "100%|██████████| 23/23 [00:00<00:00, 388.80it/s]\n"
     ]
    },
    {
     "name": "stdout",
     "output_type": "stream",
     "text": [
      "Segmentation Completed. \n",
      "total_meal: 61 TP:  49 FP:  83 FN:  12\n"
     ]
    },
    {
     "name": "stderr",
     "output_type": "stream",
     "text": [
      "100%|██████████| 23/23 [00:00<00:00, 395.08it/s]\n"
     ]
    },
    {
     "name": "stdout",
     "output_type": "stream",
     "text": [
      "Segmentation Completed. \n",
      "total_meal: 61 TP:  45 FP:  50 FN:  16\n"
     ]
    },
    {
     "name": "stderr",
     "output_type": "stream",
     "text": [
      "100%|██████████| 23/23 [00:00<00:00, 394.82it/s]\n"
     ]
    },
    {
     "name": "stdout",
     "output_type": "stream",
     "text": [
      "Segmentation Completed. \n",
      "total_meal: 61 TP:  46 FP:  58 FN:  15\n"
     ]
    },
    {
     "name": "stderr",
     "output_type": "stream",
     "text": [
      "100%|██████████| 23/23 [00:00<00:00, 393.04it/s]\n"
     ]
    },
    {
     "name": "stdout",
     "output_type": "stream",
     "text": [
      "Segmentation Completed. \n",
      "total_meal: 61 TP:  46 FP:  64 FN:  15\n"
     ]
    },
    {
     "name": "stderr",
     "output_type": "stream",
     "text": [
      "100%|██████████| 23/23 [00:00<00:00, 393.00it/s]\n"
     ]
    },
    {
     "name": "stdout",
     "output_type": "stream",
     "text": [
      "Segmentation Completed. \n",
      "total_meal: 61 TP:  47 FP:  69 FN:  14\n"
     ]
    },
    {
     "name": "stderr",
     "output_type": "stream",
     "text": [
      "100%|██████████| 23/23 [00:00<00:00, 393.17it/s]\n"
     ]
    },
    {
     "name": "stdout",
     "output_type": "stream",
     "text": [
      "Segmentation Completed. \n",
      "total_meal: 61 TP:  47 FP:  71 FN:  14\n"
     ]
    },
    {
     "name": "stderr",
     "output_type": "stream",
     "text": [
      "100%|██████████| 23/23 [00:00<00:00, 379.79it/s]\n"
     ]
    },
    {
     "name": "stdout",
     "output_type": "stream",
     "text": [
      "Segmentation Completed. \n",
      "total_meal: 61 TP:  46 FP:  75 FN:  15\n"
     ]
    },
    {
     "name": "stderr",
     "output_type": "stream",
     "text": [
      "100%|██████████| 23/23 [00:00<00:00, 392.71it/s]\n"
     ]
    },
    {
     "name": "stdout",
     "output_type": "stream",
     "text": [
      "Segmentation Completed. \n",
      "total_meal: 61 TP:  47 FP:  78 FN:  14\n"
     ]
    },
    {
     "name": "stderr",
     "output_type": "stream",
     "text": [
      "100%|██████████| 23/23 [00:00<00:00, 389.39it/s]\n"
     ]
    },
    {
     "name": "stdout",
     "output_type": "stream",
     "text": [
      "Segmentation Completed. \n",
      "total_meal: 61 TP:  47 FP:  80 FN:  14\n"
     ]
    },
    {
     "name": "stderr",
     "output_type": "stream",
     "text": [
      "100%|██████████| 23/23 [00:00<00:00, 397.50it/s]\n"
     ]
    },
    {
     "name": "stdout",
     "output_type": "stream",
     "text": [
      "Segmentation Completed. \n",
      "total_meal: 61 TP:  42 FP:  37 FN:  19\n"
     ]
    },
    {
     "name": "stderr",
     "output_type": "stream",
     "text": [
      "100%|██████████| 23/23 [00:00<00:00, 394.48it/s]\n"
     ]
    },
    {
     "name": "stdout",
     "output_type": "stream",
     "text": [
      "Segmentation Completed. \n",
      "total_meal: 61 TP:  41 FP:  47 FN:  20\n"
     ]
    },
    {
     "name": "stderr",
     "output_type": "stream",
     "text": [
      "100%|██████████| 23/23 [00:00<00:00, 396.07it/s]\n"
     ]
    },
    {
     "name": "stdout",
     "output_type": "stream",
     "text": [
      "Segmentation Completed. \n",
      "total_meal: 61 TP:  40 FP:  52 FN:  21\n"
     ]
    },
    {
     "name": "stderr",
     "output_type": "stream",
     "text": [
      "100%|██████████| 23/23 [00:00<00:00, 394.34it/s]\n"
     ]
    },
    {
     "name": "stdout",
     "output_type": "stream",
     "text": [
      "Segmentation Completed. \n",
      "total_meal: 61 TP:  41 FP:  56 FN:  20\n"
     ]
    },
    {
     "name": "stderr",
     "output_type": "stream",
     "text": [
      "100%|██████████| 23/23 [00:00<00:00, 396.10it/s]\n"
     ]
    },
    {
     "name": "stdout",
     "output_type": "stream",
     "text": [
      "Segmentation Completed. \n",
      "total_meal: 61 TP:  41 FP:  56 FN:  20\n"
     ]
    },
    {
     "name": "stderr",
     "output_type": "stream",
     "text": [
      "100%|██████████| 23/23 [00:00<00:00, 396.14it/s]\n"
     ]
    },
    {
     "name": "stdout",
     "output_type": "stream",
     "text": [
      "Segmentation Completed. \n",
      "total_meal: 61 TP:  39 FP:  60 FN:  22\n"
     ]
    },
    {
     "name": "stderr",
     "output_type": "stream",
     "text": [
      "100%|██████████| 23/23 [00:00<00:00, 395.81it/s]\n"
     ]
    },
    {
     "name": "stdout",
     "output_type": "stream",
     "text": [
      "Segmentation Completed. \n",
      "total_meal: 61 TP:  40 FP:  64 FN:  21\n"
     ]
    },
    {
     "name": "stderr",
     "output_type": "stream",
     "text": [
      "100%|██████████| 23/23 [00:00<00:00, 394.49it/s]\n"
     ]
    },
    {
     "name": "stdout",
     "output_type": "stream",
     "text": [
      "Segmentation Completed. \n",
      "total_meal: 61 TP:  41 FP:  66 FN:  20\n"
     ]
    },
    {
     "name": "stderr",
     "output_type": "stream",
     "text": [
      "100%|██████████| 23/23 [00:00<00:00, 399.03it/s]\n"
     ]
    },
    {
     "name": "stdout",
     "output_type": "stream",
     "text": [
      "Segmentation Completed. \n",
      "total_meal: 61 TP:  29 FP:  19 FN:  32\n"
     ]
    },
    {
     "name": "stderr",
     "output_type": "stream",
     "text": [
      "100%|██████████| 23/23 [00:00<00:00, 397.20it/s]\n"
     ]
    },
    {
     "name": "stdout",
     "output_type": "stream",
     "text": [
      "Segmentation Completed. \n",
      "total_meal: 61 TP:  28 FP:  24 FN:  33\n"
     ]
    },
    {
     "name": "stderr",
     "output_type": "stream",
     "text": [
      "100%|██████████| 23/23 [00:00<00:00, 396.78it/s]\n",
      "  0%|          | 0/23 [00:00<?, ?it/s]"
     ]
    },
    {
     "name": "stdout",
     "output_type": "stream",
     "text": [
      "Segmentation Completed. \n",
      "total_meal: 61 TP:  27 FP:  26 FN:  34\n"
     ]
    },
    {
     "name": "stderr",
     "output_type": "stream",
     "text": [
      "100%|██████████| 23/23 [00:00<00:00, 391.52it/s]\n"
     ]
    },
    {
     "name": "stdout",
     "output_type": "stream",
     "text": [
      "Segmentation Completed. \n",
      "total_meal: 61 TP:  27 FP:  26 FN:  34\n"
     ]
    },
    {
     "name": "stderr",
     "output_type": "stream",
     "text": [
      "100%|██████████| 23/23 [00:00<00:00, 400.46it/s]\n"
     ]
    },
    {
     "name": "stdout",
     "output_type": "stream",
     "text": [
      "Segmentation Completed. \n",
      "total_meal: 61 TP:  27 FP:  26 FN:  34\n"
     ]
    },
    {
     "name": "stderr",
     "output_type": "stream",
     "text": [
      "100%|██████████| 23/23 [00:00<00:00, 397.24it/s]\n"
     ]
    },
    {
     "name": "stdout",
     "output_type": "stream",
     "text": [
      "Segmentation Completed. \n",
      "total_meal: 61 TP:  27 FP:  27 FN:  34\n"
     ]
    },
    {
     "name": "stderr",
     "output_type": "stream",
     "text": [
      "100%|██████████| 23/23 [00:00<00:00, 397.92it/s]\n"
     ]
    },
    {
     "name": "stdout",
     "output_type": "stream",
     "text": [
      "Segmentation Completed. \n",
      "total_meal: 61 TP:  27 FP:  28 FN:  34\n"
     ]
    },
    {
     "name": "stderr",
     "output_type": "stream",
     "text": [
      "100%|██████████| 23/23 [00:00<00:00, 396.81it/s]\n"
     ]
    },
    {
     "name": "stdout",
     "output_type": "stream",
     "text": [
      "Segmentation Completed. \n",
      "total_meal: 61 TP:  27 FP:  30 FN:  34\n"
     ]
    },
    {
     "name": "stderr",
     "output_type": "stream",
     "text": [
      "100%|██████████| 23/23 [00:00<00:00, 401.93it/s]\n",
      "  0%|          | 0/23 [00:00<?, ?it/s]"
     ]
    },
    {
     "name": "stdout",
     "output_type": "stream",
     "text": [
      "Segmentation Completed. \n",
      "total_meal: 61 TP:  9 FP:  5 FN:  52\n"
     ]
    },
    {
     "name": "stderr",
     "output_type": "stream",
     "text": [
      "100%|██████████| 23/23 [00:00<00:00, 386.13it/s]\n",
      "  0%|          | 0/23 [00:00<?, ?it/s]"
     ]
    },
    {
     "name": "stdout",
     "output_type": "stream",
     "text": [
      "Segmentation Completed. \n",
      "total_meal: 61 TP:  8 FP:  8 FN:  53\n"
     ]
    },
    {
     "name": "stderr",
     "output_type": "stream",
     "text": [
      "100%|██████████| 23/23 [00:00<00:00, 400.21it/s]\n",
      "  0%|          | 0/23 [00:00<?, ?it/s]"
     ]
    },
    {
     "name": "stdout",
     "output_type": "stream",
     "text": [
      "Segmentation Completed. \n",
      "total_meal: 61 TP:  8 FP:  8 FN:  53\n"
     ]
    },
    {
     "name": "stderr",
     "output_type": "stream",
     "text": [
      "100%|██████████| 23/23 [00:00<00:00, 397.79it/s]\n",
      "  0%|          | 0/23 [00:00<?, ?it/s]"
     ]
    },
    {
     "name": "stdout",
     "output_type": "stream",
     "text": [
      "Segmentation Completed. \n",
      "total_meal: 61 TP:  8 FP:  8 FN:  53\n"
     ]
    },
    {
     "name": "stderr",
     "output_type": "stream",
     "text": [
      "100%|██████████| 23/23 [00:00<00:00, 377.41it/s]\n",
      "  0%|          | 0/23 [00:00<?, ?it/s]"
     ]
    },
    {
     "name": "stdout",
     "output_type": "stream",
     "text": [
      "Segmentation Completed. \n",
      "total_meal: 61 TP:  8 FP:  8 FN:  53\n"
     ]
    },
    {
     "name": "stderr",
     "output_type": "stream",
     "text": [
      "100%|██████████| 23/23 [00:00<00:00, 378.82it/s]\n",
      "  0%|          | 0/23 [00:00<?, ?it/s]"
     ]
    },
    {
     "name": "stdout",
     "output_type": "stream",
     "text": [
      "Segmentation Completed. \n",
      "total_meal: 61 TP:  8 FP:  8 FN:  53\n"
     ]
    },
    {
     "name": "stderr",
     "output_type": "stream",
     "text": [
      "100%|██████████| 23/23 [00:00<00:00, 399.81it/s]\n",
      "  0%|          | 0/23 [00:00<?, ?it/s]"
     ]
    },
    {
     "name": "stdout",
     "output_type": "stream",
     "text": [
      "Segmentation Completed. \n",
      "total_meal: 61 TP:  7 FP:  9 FN:  54\n"
     ]
    },
    {
     "name": "stderr",
     "output_type": "stream",
     "text": [
      "100%|██████████| 23/23 [00:00<00:00, 398.56it/s]\n",
      "  0%|          | 0/13 [00:00<?, ?it/s]"
     ]
    },
    {
     "name": "stdout",
     "output_type": "stream",
     "text": [
      "Segmentation Completed. \n",
      "total_meal: 61 TP:  7 FP:  9 FN:  54\n"
     ]
    },
    {
     "name": "stderr",
     "output_type": "stream",
     "text": [
      "100%|██████████| 13/13 [00:00<00:00, 281.62it/s]\n",
      "  0%|          | 0/13 [00:00<?, ?it/s]"
     ]
    },
    {
     "name": "stdout",
     "output_type": "stream",
     "text": [
      "Segmentation Completed. \n",
      "total_meal: 38 TP:  32 FP:  68 FN:  6\n"
     ]
    },
    {
     "name": "stderr",
     "output_type": "stream",
     "text": [
      "100%|██████████| 13/13 [00:00<00:00, 277.30it/s]\n",
      "  0%|          | 0/13 [00:00<?, ?it/s]"
     ]
    },
    {
     "name": "stdout",
     "output_type": "stream",
     "text": [
      "Segmentation Completed. \n",
      "total_meal: 38 TP:  32 FP:  71 FN:  6\n"
     ]
    },
    {
     "name": "stderr",
     "output_type": "stream",
     "text": [
      "100%|██████████| 13/13 [00:00<00:00, 276.50it/s]\n",
      "  0%|          | 0/13 [00:00<?, ?it/s]"
     ]
    },
    {
     "name": "stdout",
     "output_type": "stream",
     "text": [
      "Segmentation Completed. \n",
      "total_meal: 38 TP:  32 FP:  74 FN:  6\n"
     ]
    },
    {
     "name": "stderr",
     "output_type": "stream",
     "text": [
      "100%|██████████| 13/13 [00:00<00:00, 275.97it/s]\n",
      "  0%|          | 0/13 [00:00<?, ?it/s]"
     ]
    },
    {
     "name": "stdout",
     "output_type": "stream",
     "text": [
      "Segmentation Completed. \n",
      "total_meal: 38 TP:  32 FP:  75 FN:  6\n"
     ]
    },
    {
     "name": "stderr",
     "output_type": "stream",
     "text": [
      "100%|██████████| 13/13 [00:00<00:00, 279.87it/s]\n",
      "  0%|          | 0/13 [00:00<?, ?it/s]"
     ]
    },
    {
     "name": "stdout",
     "output_type": "stream",
     "text": [
      "Segmentation Completed. \n",
      "total_meal: 38 TP:  32 FP:  75 FN:  6\n"
     ]
    },
    {
     "name": "stderr",
     "output_type": "stream",
     "text": [
      "100%|██████████| 13/13 [00:00<00:00, 280.72it/s]\n"
     ]
    },
    {
     "name": "stdout",
     "output_type": "stream",
     "text": [
      "Segmentation Completed. \n",
      "total_meal: 38 TP:  32 FP:  75 FN:  6\n"
     ]
    },
    {
     "name": "stderr",
     "output_type": "stream",
     "text": [
      "100%|██████████| 13/13 [00:00<00:00, 280.76it/s]\n",
      "  0%|          | 0/13 [00:00<?, ?it/s]"
     ]
    },
    {
     "name": "stdout",
     "output_type": "stream",
     "text": [
      "Segmentation Completed. \n",
      "total_meal: 38 TP:  32 FP:  74 FN:  6\n"
     ]
    },
    {
     "name": "stderr",
     "output_type": "stream",
     "text": [
      "100%|██████████| 13/13 [00:00<00:00, 259.24it/s]\n"
     ]
    },
    {
     "name": "stdout",
     "output_type": "stream",
     "text": [
      "Segmentation Completed. \n",
      "total_meal: 38 TP:  32 FP:  74 FN:  6\n"
     ]
    },
    {
     "name": "stderr",
     "output_type": "stream",
     "text": [
      "100%|██████████| 13/13 [00:00<00:00, 281.57it/s]\n",
      "  0%|          | 0/13 [00:00<?, ?it/s]"
     ]
    },
    {
     "name": "stdout",
     "output_type": "stream",
     "text": [
      "Segmentation Completed. \n",
      "total_meal: 38 TP:  32 FP:  63 FN:  6\n"
     ]
    },
    {
     "name": "stderr",
     "output_type": "stream",
     "text": [
      "100%|██████████| 13/13 [00:00<00:00, 281.85it/s]\n",
      "  0%|          | 0/13 [00:00<?, ?it/s]"
     ]
    },
    {
     "name": "stdout",
     "output_type": "stream",
     "text": [
      "Segmentation Completed. \n",
      "total_meal: 38 TP:  32 FP:  68 FN:  6\n"
     ]
    },
    {
     "name": "stderr",
     "output_type": "stream",
     "text": [
      "100%|██████████| 13/13 [00:00<00:00, 275.80it/s]\n",
      "  0%|          | 0/13 [00:00<?, ?it/s]"
     ]
    },
    {
     "name": "stdout",
     "output_type": "stream",
     "text": [
      "Segmentation Completed. \n",
      "total_meal: 38 TP:  32 FP:  71 FN:  6\n"
     ]
    },
    {
     "name": "stderr",
     "output_type": "stream",
     "text": [
      "100%|██████████| 13/13 [00:00<00:00, 281.11it/s]\n",
      "  0%|          | 0/13 [00:00<?, ?it/s]"
     ]
    },
    {
     "name": "stdout",
     "output_type": "stream",
     "text": [
      "Segmentation Completed. \n",
      "total_meal: 38 TP:  32 FP:  72 FN:  6\n"
     ]
    },
    {
     "name": "stderr",
     "output_type": "stream",
     "text": [
      "100%|██████████| 13/13 [00:00<00:00, 275.48it/s]\n"
     ]
    },
    {
     "name": "stdout",
     "output_type": "stream",
     "text": [
      "Segmentation Completed. \n",
      "total_meal: 38 TP:  32 FP:  73 FN:  6\n"
     ]
    },
    {
     "name": "stderr",
     "output_type": "stream",
     "text": [
      "100%|██████████| 13/13 [00:00<00:00, 278.63it/s]\n",
      "  0%|          | 0/13 [00:00<?, ?it/s]"
     ]
    },
    {
     "name": "stdout",
     "output_type": "stream",
     "text": [
      "Segmentation Completed. \n",
      "total_meal: 38 TP:  32 FP:  72 FN:  6\n"
     ]
    },
    {
     "name": "stderr",
     "output_type": "stream",
     "text": [
      "100%|██████████| 13/13 [00:00<00:00, 277.28it/s]\n",
      "  0%|          | 0/13 [00:00<?, ?it/s]"
     ]
    },
    {
     "name": "stdout",
     "output_type": "stream",
     "text": [
      "Segmentation Completed. \n",
      "total_meal: 38 TP:  32 FP:  72 FN:  6\n"
     ]
    },
    {
     "name": "stderr",
     "output_type": "stream",
     "text": [
      "100%|██████████| 13/13 [00:00<00:00, 278.28it/s]\n"
     ]
    },
    {
     "name": "stdout",
     "output_type": "stream",
     "text": [
      "Segmentation Completed. \n",
      "total_meal: 38 TP:  32 FP:  73 FN:  6\n"
     ]
    },
    {
     "name": "stderr",
     "output_type": "stream",
     "text": [
      "100%|██████████| 13/13 [00:00<00:00, 270.25it/s]\n",
      "  0%|          | 0/13 [00:00<?, ?it/s]"
     ]
    },
    {
     "name": "stdout",
     "output_type": "stream",
     "text": [
      "Segmentation Completed. \n",
      "total_meal: 38 TP:  32 FP:  63 FN:  6\n"
     ]
    },
    {
     "name": "stderr",
     "output_type": "stream",
     "text": [
      "100%|██████████| 13/13 [00:00<00:00, 276.77it/s]\n",
      "  0%|          | 0/13 [00:00<?, ?it/s]"
     ]
    },
    {
     "name": "stdout",
     "output_type": "stream",
     "text": [
      "Segmentation Completed. \n",
      "total_meal: 38 TP:  32 FP:  66 FN:  6\n"
     ]
    },
    {
     "name": "stderr",
     "output_type": "stream",
     "text": [
      "100%|██████████| 13/13 [00:00<00:00, 280.26it/s]\n",
      "  0%|          | 0/13 [00:00<?, ?it/s]"
     ]
    },
    {
     "name": "stdout",
     "output_type": "stream",
     "text": [
      "Segmentation Completed. \n",
      "total_meal: 38 TP:  32 FP:  69 FN:  6\n"
     ]
    },
    {
     "name": "stderr",
     "output_type": "stream",
     "text": [
      "100%|██████████| 13/13 [00:00<00:00, 274.73it/s]\n",
      "  0%|          | 0/13 [00:00<?, ?it/s]"
     ]
    },
    {
     "name": "stdout",
     "output_type": "stream",
     "text": [
      "Segmentation Completed. \n",
      "total_meal: 38 TP:  32 FP:  70 FN:  6\n"
     ]
    },
    {
     "name": "stderr",
     "output_type": "stream",
     "text": [
      "100%|██████████| 13/13 [00:00<00:00, 277.85it/s]\n",
      "  0%|          | 0/13 [00:00<?, ?it/s]"
     ]
    },
    {
     "name": "stdout",
     "output_type": "stream",
     "text": [
      "Segmentation Completed. \n",
      "total_meal: 38 TP:  32 FP:  70 FN:  6\n"
     ]
    },
    {
     "name": "stderr",
     "output_type": "stream",
     "text": [
      "100%|██████████| 13/13 [00:00<00:00, 269.36it/s]\n"
     ]
    },
    {
     "name": "stdout",
     "output_type": "stream",
     "text": [
      "Segmentation Completed. \n",
      "total_meal: 38 TP:  32 FP:  69 FN:  6\n"
     ]
    },
    {
     "name": "stderr",
     "output_type": "stream",
     "text": [
      "100%|██████████| 13/13 [00:00<00:00, 281.26it/s]\n",
      "  0%|          | 0/13 [00:00<?, ?it/s]"
     ]
    },
    {
     "name": "stdout",
     "output_type": "stream",
     "text": [
      "Segmentation Completed. \n",
      "total_meal: 38 TP:  32 FP:  70 FN:  6\n"
     ]
    },
    {
     "name": "stderr",
     "output_type": "stream",
     "text": [
      "100%|██████████| 13/13 [00:00<00:00, 271.50it/s]\n",
      "  0%|          | 0/13 [00:00<?, ?it/s]"
     ]
    },
    {
     "name": "stdout",
     "output_type": "stream",
     "text": [
      "Segmentation Completed. \n",
      "total_meal: 38 TP:  32 FP:  70 FN:  6\n"
     ]
    },
    {
     "name": "stderr",
     "output_type": "stream",
     "text": [
      "100%|██████████| 13/13 [00:00<00:00, 273.80it/s]\n"
     ]
    },
    {
     "name": "stdout",
     "output_type": "stream",
     "text": [
      "Segmentation Completed. \n",
      "total_meal: 38 TP:  32 FP:  61 FN:  6\n"
     ]
    },
    {
     "name": "stderr",
     "output_type": "stream",
     "text": [
      "100%|██████████| 13/13 [00:00<00:00, 281.17it/s]\n",
      "  0%|          | 0/13 [00:00<?, ?it/s]"
     ]
    },
    {
     "name": "stdout",
     "output_type": "stream",
     "text": [
      "Segmentation Completed. \n",
      "total_meal: 38 TP:  32 FP:  62 FN:  6\n"
     ]
    },
    {
     "name": "stderr",
     "output_type": "stream",
     "text": [
      "100%|██████████| 13/13 [00:00<00:00, 282.96it/s]\n",
      "  0%|          | 0/13 [00:00<?, ?it/s]"
     ]
    },
    {
     "name": "stdout",
     "output_type": "stream",
     "text": [
      "Segmentation Completed. \n",
      "total_meal: 38 TP:  32 FP:  65 FN:  6\n"
     ]
    },
    {
     "name": "stderr",
     "output_type": "stream",
     "text": [
      "100%|██████████| 13/13 [00:00<00:00, 278.95it/s]\n",
      "  0%|          | 0/13 [00:00<?, ?it/s]"
     ]
    },
    {
     "name": "stdout",
     "output_type": "stream",
     "text": [
      "Segmentation Completed. \n",
      "total_meal: 38 TP:  32 FP:  66 FN:  6\n"
     ]
    },
    {
     "name": "stderr",
     "output_type": "stream",
     "text": [
      "100%|██████████| 13/13 [00:00<00:00, 281.15it/s]\n",
      "  0%|          | 0/13 [00:00<?, ?it/s]"
     ]
    },
    {
     "name": "stdout",
     "output_type": "stream",
     "text": [
      "Segmentation Completed. \n",
      "total_meal: 38 TP:  32 FP:  66 FN:  6\n"
     ]
    },
    {
     "name": "stderr",
     "output_type": "stream",
     "text": [
      "100%|██████████| 13/13 [00:00<00:00, 282.62it/s]\n",
      "  0%|          | 0/13 [00:00<?, ?it/s]"
     ]
    },
    {
     "name": "stdout",
     "output_type": "stream",
     "text": [
      "Segmentation Completed. \n",
      "total_meal: 38 TP:  32 FP:  66 FN:  6\n"
     ]
    },
    {
     "name": "stderr",
     "output_type": "stream",
     "text": [
      "100%|██████████| 13/13 [00:00<00:00, 277.58it/s]\n",
      "  0%|          | 0/13 [00:00<?, ?it/s]"
     ]
    },
    {
     "name": "stdout",
     "output_type": "stream",
     "text": [
      "Segmentation Completed. \n",
      "total_meal: 38 TP:  32 FP:  67 FN:  6\n"
     ]
    },
    {
     "name": "stderr",
     "output_type": "stream",
     "text": [
      "100%|██████████| 13/13 [00:00<00:00, 277.58it/s]\n",
      "  0%|          | 0/13 [00:00<?, ?it/s]"
     ]
    },
    {
     "name": "stdout",
     "output_type": "stream",
     "text": [
      "Segmentation Completed. \n",
      "total_meal: 38 TP:  32 FP:  68 FN:  6\n"
     ]
    },
    {
     "name": "stderr",
     "output_type": "stream",
     "text": [
      "100%|██████████| 13/13 [00:00<00:00, 283.06it/s]\n",
      "  0%|          | 0/13 [00:00<?, ?it/s]"
     ]
    },
    {
     "name": "stdout",
     "output_type": "stream",
     "text": [
      "Segmentation Completed. \n",
      "total_meal: 38 TP:  31 FP:  59 FN:  7\n"
     ]
    },
    {
     "name": "stderr",
     "output_type": "stream",
     "text": [
      "100%|██████████| 13/13 [00:00<00:00, 277.71it/s]\n",
      "  0%|          | 0/13 [00:00<?, ?it/s]"
     ]
    },
    {
     "name": "stdout",
     "output_type": "stream",
     "text": [
      "Segmentation Completed. \n",
      "total_meal: 38 TP:  31 FP:  60 FN:  7\n"
     ]
    },
    {
     "name": "stderr",
     "output_type": "stream",
     "text": [
      "100%|██████████| 13/13 [00:00<00:00, 256.51it/s]\n",
      "  0%|          | 0/13 [00:00<?, ?it/s]"
     ]
    },
    {
     "name": "stdout",
     "output_type": "stream",
     "text": [
      "Segmentation Completed. \n",
      "total_meal: 38 TP:  31 FP:  62 FN:  7\n"
     ]
    },
    {
     "name": "stderr",
     "output_type": "stream",
     "text": [
      "100%|██████████| 13/13 [00:00<00:00, 267.74it/s]\n",
      "  0%|          | 0/13 [00:00<?, ?it/s]"
     ]
    },
    {
     "name": "stdout",
     "output_type": "stream",
     "text": [
      "Segmentation Completed. \n",
      "total_meal: 38 TP:  31 FP:  63 FN:  7\n"
     ]
    },
    {
     "name": "stderr",
     "output_type": "stream",
     "text": [
      "100%|██████████| 13/13 [00:00<00:00, 273.94it/s]\n",
      "  0%|          | 0/13 [00:00<?, ?it/s]"
     ]
    },
    {
     "name": "stdout",
     "output_type": "stream",
     "text": [
      "Segmentation Completed. \n",
      "total_meal: 38 TP:  31 FP:  63 FN:  7\n"
     ]
    },
    {
     "name": "stderr",
     "output_type": "stream",
     "text": [
      "100%|██████████| 13/13 [00:00<00:00, 275.93it/s]\n",
      "  0%|          | 0/13 [00:00<?, ?it/s]"
     ]
    },
    {
     "name": "stdout",
     "output_type": "stream",
     "text": [
      "Segmentation Completed. \n",
      "total_meal: 38 TP:  31 FP:  64 FN:  7\n"
     ]
    },
    {
     "name": "stderr",
     "output_type": "stream",
     "text": [
      "100%|██████████| 13/13 [00:00<00:00, 278.59it/s]\n",
      "  0%|          | 0/13 [00:00<?, ?it/s]"
     ]
    },
    {
     "name": "stdout",
     "output_type": "stream",
     "text": [
      "Segmentation Completed. \n",
      "total_meal: 38 TP:  31 FP:  64 FN:  7\n"
     ]
    },
    {
     "name": "stderr",
     "output_type": "stream",
     "text": [
      "100%|██████████| 13/13 [00:00<00:00, 269.93it/s]\n",
      "  0%|          | 0/13 [00:00<?, ?it/s]"
     ]
    },
    {
     "name": "stdout",
     "output_type": "stream",
     "text": [
      "Segmentation Completed. \n",
      "total_meal: 38 TP:  31 FP:  65 FN:  7\n"
     ]
    },
    {
     "name": "stderr",
     "output_type": "stream",
     "text": [
      "100%|██████████| 13/13 [00:00<00:00, 272.57it/s]\n",
      "  0%|          | 0/13 [00:00<?, ?it/s]"
     ]
    },
    {
     "name": "stdout",
     "output_type": "stream",
     "text": [
      "Segmentation Completed. \n",
      "total_meal: 38 TP:  31 FP:  54 FN:  7\n"
     ]
    },
    {
     "name": "stderr",
     "output_type": "stream",
     "text": [
      "100%|██████████| 13/13 [00:00<00:00, 276.04it/s]\n",
      "  0%|          | 0/13 [00:00<?, ?it/s]"
     ]
    },
    {
     "name": "stdout",
     "output_type": "stream",
     "text": [
      "Segmentation Completed. \n",
      "total_meal: 38 TP:  31 FP:  54 FN:  7\n"
     ]
    },
    {
     "name": "stderr",
     "output_type": "stream",
     "text": [
      "100%|██████████| 13/13 [00:00<00:00, 283.96it/s]\n",
      "  0%|          | 0/13 [00:00<?, ?it/s]"
     ]
    },
    {
     "name": "stdout",
     "output_type": "stream",
     "text": [
      "Segmentation Completed. \n",
      "total_meal: 38 TP:  31 FP:  56 FN:  7\n"
     ]
    },
    {
     "name": "stderr",
     "output_type": "stream",
     "text": [
      "100%|██████████| 13/13 [00:00<00:00, 273.94it/s]\n",
      "  0%|          | 0/13 [00:00<?, ?it/s]"
     ]
    },
    {
     "name": "stdout",
     "output_type": "stream",
     "text": [
      "Segmentation Completed. \n",
      "total_meal: 38 TP:  31 FP:  59 FN:  7\n"
     ]
    },
    {
     "name": "stderr",
     "output_type": "stream",
     "text": [
      "100%|██████████| 13/13 [00:00<00:00, 279.59it/s]\n",
      "  0%|          | 0/13 [00:00<?, ?it/s]"
     ]
    },
    {
     "name": "stdout",
     "output_type": "stream",
     "text": [
      "Segmentation Completed. \n",
      "total_meal: 38 TP:  31 FP:  59 FN:  7\n"
     ]
    },
    {
     "name": "stderr",
     "output_type": "stream",
     "text": [
      "100%|██████████| 13/13 [00:00<00:00, 279.48it/s]\n",
      "  0%|          | 0/13 [00:00<?, ?it/s]"
     ]
    },
    {
     "name": "stdout",
     "output_type": "stream",
     "text": [
      "Segmentation Completed. \n",
      "total_meal: 38 TP:  31 FP:  60 FN:  7\n"
     ]
    },
    {
     "name": "stderr",
     "output_type": "stream",
     "text": [
      "100%|██████████| 13/13 [00:00<00:00, 279.47it/s]\n",
      "  0%|          | 0/13 [00:00<?, ?it/s]"
     ]
    },
    {
     "name": "stdout",
     "output_type": "stream",
     "text": [
      "Segmentation Completed. \n",
      "total_meal: 38 TP:  31 FP:  61 FN:  7\n"
     ]
    },
    {
     "name": "stderr",
     "output_type": "stream",
     "text": [
      "100%|██████████| 13/13 [00:00<00:00, 280.06it/s]\n",
      "  0%|          | 0/13 [00:00<?, ?it/s]"
     ]
    },
    {
     "name": "stdout",
     "output_type": "stream",
     "text": [
      "Segmentation Completed. \n",
      "total_meal: 38 TP:  31 FP:  63 FN:  7\n"
     ]
    },
    {
     "name": "stderr",
     "output_type": "stream",
     "text": [
      "100%|██████████| 13/13 [00:00<00:00, 280.42it/s]\n",
      "  0%|          | 0/13 [00:00<?, ?it/s]"
     ]
    },
    {
     "name": "stdout",
     "output_type": "stream",
     "text": [
      "Segmentation Completed. \n",
      "total_meal: 38 TP:  31 FP:  49 FN:  7\n"
     ]
    },
    {
     "name": "stderr",
     "output_type": "stream",
     "text": [
      "100%|██████████| 13/13 [00:00<00:00, 280.01it/s]\n",
      "  0%|          | 0/13 [00:00<?, ?it/s]"
     ]
    },
    {
     "name": "stdout",
     "output_type": "stream",
     "text": [
      "Segmentation Completed. \n",
      "total_meal: 38 TP:  31 FP:  50 FN:  7\n"
     ]
    },
    {
     "name": "stderr",
     "output_type": "stream",
     "text": [
      "100%|██████████| 13/13 [00:00<00:00, 282.72it/s]\n"
     ]
    },
    {
     "name": "stdout",
     "output_type": "stream",
     "text": [
      "Segmentation Completed. \n",
      "total_meal: 38 TP:  31 FP:  52 FN:  7\n"
     ]
    },
    {
     "name": "stderr",
     "output_type": "stream",
     "text": [
      "100%|██████████| 13/13 [00:00<00:00, 284.80it/s]\n",
      "  0%|          | 0/13 [00:00<?, ?it/s]"
     ]
    },
    {
     "name": "stdout",
     "output_type": "stream",
     "text": [
      "Segmentation Completed. \n",
      "total_meal: 38 TP:  31 FP:  55 FN:  7\n"
     ]
    },
    {
     "name": "stderr",
     "output_type": "stream",
     "text": [
      "100%|██████████| 13/13 [00:00<00:00, 279.26it/s]\n"
     ]
    },
    {
     "name": "stdout",
     "output_type": "stream",
     "text": [
      "Segmentation Completed. \n",
      "total_meal: 38 TP:  31 FP:  55 FN:  7\n"
     ]
    },
    {
     "name": "stderr",
     "output_type": "stream",
     "text": [
      "100%|██████████| 13/13 [00:00<00:00, 282.40it/s]\n"
     ]
    },
    {
     "name": "stdout",
     "output_type": "stream",
     "text": [
      "Segmentation Completed. \n",
      "total_meal: 38 TP:  31 FP:  56 FN:  7\n"
     ]
    },
    {
     "name": "stderr",
     "output_type": "stream",
     "text": [
      "100%|██████████| 13/13 [00:00<00:00, 284.24it/s]\n",
      "  0%|          | 0/13 [00:00<?, ?it/s]"
     ]
    },
    {
     "name": "stdout",
     "output_type": "stream",
     "text": [
      "Segmentation Completed. \n",
      "total_meal: 38 TP:  31 FP:  56 FN:  7\n"
     ]
    },
    {
     "name": "stderr",
     "output_type": "stream",
     "text": [
      "100%|██████████| 13/13 [00:00<00:00, 279.78it/s]\n",
      "  0%|          | 0/13 [00:00<?, ?it/s]"
     ]
    },
    {
     "name": "stdout",
     "output_type": "stream",
     "text": [
      "Segmentation Completed. \n",
      "total_meal: 38 TP:  31 FP:  59 FN:  7\n"
     ]
    },
    {
     "name": "stderr",
     "output_type": "stream",
     "text": [
      "100%|██████████| 13/13 [00:00<00:00, 281.70it/s]\n",
      "  0%|          | 0/13 [00:00<?, ?it/s]"
     ]
    },
    {
     "name": "stdout",
     "output_type": "stream",
     "text": [
      "Segmentation Completed. \n",
      "total_meal: 38 TP:  30 FP:  40 FN:  8\n"
     ]
    },
    {
     "name": "stderr",
     "output_type": "stream",
     "text": [
      "100%|██████████| 13/13 [00:00<00:00, 279.62it/s]\n",
      "  0%|          | 0/13 [00:00<?, ?it/s]"
     ]
    },
    {
     "name": "stdout",
     "output_type": "stream",
     "text": [
      "Segmentation Completed. \n",
      "total_meal: 38 TP:  30 FP:  42 FN:  8\n"
     ]
    },
    {
     "name": "stderr",
     "output_type": "stream",
     "text": [
      "100%|██████████| 13/13 [00:00<00:00, 280.08it/s]\n",
      "  0%|          | 0/13 [00:00<?, ?it/s]"
     ]
    },
    {
     "name": "stdout",
     "output_type": "stream",
     "text": [
      "Segmentation Completed. \n",
      "total_meal: 38 TP:  30 FP:  44 FN:  8\n"
     ]
    },
    {
     "name": "stderr",
     "output_type": "stream",
     "text": [
      "100%|██████████| 13/13 [00:00<00:00, 277.45it/s]\n",
      "  0%|          | 0/13 [00:00<?, ?it/s]"
     ]
    },
    {
     "name": "stdout",
     "output_type": "stream",
     "text": [
      "Segmentation Completed. \n",
      "total_meal: 38 TP:  30 FP:  45 FN:  8\n"
     ]
    },
    {
     "name": "stderr",
     "output_type": "stream",
     "text": [
      "100%|██████████| 13/13 [00:00<00:00, 279.26it/s]\n",
      "  0%|          | 0/13 [00:00<?, ?it/s]"
     ]
    },
    {
     "name": "stdout",
     "output_type": "stream",
     "text": [
      "Segmentation Completed. \n",
      "total_meal: 38 TP:  30 FP:  47 FN:  8\n"
     ]
    },
    {
     "name": "stderr",
     "output_type": "stream",
     "text": [
      "100%|██████████| 13/13 [00:00<00:00, 279.65it/s]\n",
      "  0%|          | 0/13 [00:00<?, ?it/s]"
     ]
    },
    {
     "name": "stdout",
     "output_type": "stream",
     "text": [
      "Segmentation Completed. \n",
      "total_meal: 38 TP:  30 FP:  47 FN:  8\n"
     ]
    },
    {
     "name": "stderr",
     "output_type": "stream",
     "text": [
      "100%|██████████| 13/13 [00:00<00:00, 283.51it/s]\n",
      "  0%|          | 0/13 [00:00<?, ?it/s]"
     ]
    },
    {
     "name": "stdout",
     "output_type": "stream",
     "text": [
      "Segmentation Completed. \n",
      "total_meal: 38 TP:  30 FP:  47 FN:  8\n"
     ]
    },
    {
     "name": "stderr",
     "output_type": "stream",
     "text": [
      "\r",
      "100%|██████████| 13/13 [00:00<00:00, 285.54it/s]"
     ]
    },
    {
     "name": "stdout",
     "output_type": "stream",
     "text": [
      "Segmentation Completed. \n",
      "total_meal: 38 TP:  30 FP:  47 FN:  8\n",
      "CPU times: user 1min 3s, sys: 1.2 s, total: 1min 4s\n",
      "Wall time: 1min 18s\n"
     ]
    },
    {
     "name": "stderr",
     "output_type": "stream",
     "text": [
      "\n"
     ]
    }
   ],
   "source": [
    "ts_ls = [0.5,0.55, 0.6,0.65, 0.7,0.75,0.8,0.85]\n",
    "te_ls = [0.1,0.15,0.2,0.25,0.3,0.35,0.4,0.45]\n",
    "%time threshold_results =  test_threshod(datasets ,ts_ls,te_ls)"
   ]
  },
  {
   "cell_type": "code",
   "execution_count": 74,
   "metadata": {},
   "outputs": [
    {
     "data": {
      "text/html": [
       "<div>\n",
       "<style scoped>\n",
       "    .dataframe tbody tr th:only-of-type {\n",
       "        vertical-align: middle;\n",
       "    }\n",
       "\n",
       "    .dataframe tbody tr th {\n",
       "        vertical-align: top;\n",
       "    }\n",
       "\n",
       "    .dataframe thead th {\n",
       "        text-align: right;\n",
       "    }\n",
       "</style>\n",
       "<table border=\"1\" class=\"dataframe\">\n",
       "  <thead>\n",
       "    <tr style=\"text-align: right;\">\n",
       "      <th></th>\n",
       "      <th>TPR</th>\n",
       "      <th>FP/TP</th>\n",
       "      <th>TP</th>\n",
       "      <th>FP</th>\n",
       "      <th>FN</th>\n",
       "      <th>dataset</th>\n",
       "      <th>Ts</th>\n",
       "      <th>Te</th>\n",
       "    </tr>\n",
       "  </thead>\n",
       "  <tbody>\n",
       "    <tr>\n",
       "      <th>0</th>\n",
       "      <td>0.937500</td>\n",
       "      <td>1.766667</td>\n",
       "      <td>30</td>\n",
       "      <td>53</td>\n",
       "      <td>2</td>\n",
       "      <td>wenkanw</td>\n",
       "      <td>0.50</td>\n",
       "      <td>0.10</td>\n",
       "    </tr>\n",
       "    <tr>\n",
       "      <th>1</th>\n",
       "      <td>0.937500</td>\n",
       "      <td>1.866667</td>\n",
       "      <td>30</td>\n",
       "      <td>56</td>\n",
       "      <td>2</td>\n",
       "      <td>wenkanw</td>\n",
       "      <td>0.50</td>\n",
       "      <td>0.15</td>\n",
       "    </tr>\n",
       "    <tr>\n",
       "      <th>2</th>\n",
       "      <td>0.968750</td>\n",
       "      <td>1.774194</td>\n",
       "      <td>31</td>\n",
       "      <td>55</td>\n",
       "      <td>1</td>\n",
       "      <td>wenkanw</td>\n",
       "      <td>0.50</td>\n",
       "      <td>0.20</td>\n",
       "    </tr>\n",
       "    <tr>\n",
       "      <th>3</th>\n",
       "      <td>0.968750</td>\n",
       "      <td>1.774194</td>\n",
       "      <td>31</td>\n",
       "      <td>55</td>\n",
       "      <td>1</td>\n",
       "      <td>wenkanw</td>\n",
       "      <td>0.50</td>\n",
       "      <td>0.25</td>\n",
       "    </tr>\n",
       "    <tr>\n",
       "      <th>4</th>\n",
       "      <td>0.968750</td>\n",
       "      <td>1.645161</td>\n",
       "      <td>31</td>\n",
       "      <td>51</td>\n",
       "      <td>1</td>\n",
       "      <td>wenkanw</td>\n",
       "      <td>0.50</td>\n",
       "      <td>0.30</td>\n",
       "    </tr>\n",
       "    <tr>\n",
       "      <th>...</th>\n",
       "      <td>...</td>\n",
       "      <td>...</td>\n",
       "      <td>...</td>\n",
       "      <td>...</td>\n",
       "      <td>...</td>\n",
       "      <td>...</td>\n",
       "      <td>...</td>\n",
       "      <td>...</td>\n",
       "    </tr>\n",
       "    <tr>\n",
       "      <th>251</th>\n",
       "      <td>0.789474</td>\n",
       "      <td>1.500000</td>\n",
       "      <td>30</td>\n",
       "      <td>45</td>\n",
       "      <td>8</td>\n",
       "      <td>shaurya</td>\n",
       "      <td>0.85</td>\n",
       "      <td>0.25</td>\n",
       "    </tr>\n",
       "    <tr>\n",
       "      <th>252</th>\n",
       "      <td>0.789474</td>\n",
       "      <td>1.566667</td>\n",
       "      <td>30</td>\n",
       "      <td>47</td>\n",
       "      <td>8</td>\n",
       "      <td>shaurya</td>\n",
       "      <td>0.85</td>\n",
       "      <td>0.30</td>\n",
       "    </tr>\n",
       "    <tr>\n",
       "      <th>253</th>\n",
       "      <td>0.789474</td>\n",
       "      <td>1.566667</td>\n",
       "      <td>30</td>\n",
       "      <td>47</td>\n",
       "      <td>8</td>\n",
       "      <td>shaurya</td>\n",
       "      <td>0.85</td>\n",
       "      <td>0.35</td>\n",
       "    </tr>\n",
       "    <tr>\n",
       "      <th>254</th>\n",
       "      <td>0.789474</td>\n",
       "      <td>1.566667</td>\n",
       "      <td>30</td>\n",
       "      <td>47</td>\n",
       "      <td>8</td>\n",
       "      <td>shaurya</td>\n",
       "      <td>0.85</td>\n",
       "      <td>0.40</td>\n",
       "    </tr>\n",
       "    <tr>\n",
       "      <th>255</th>\n",
       "      <td>0.789474</td>\n",
       "      <td>1.566667</td>\n",
       "      <td>30</td>\n",
       "      <td>47</td>\n",
       "      <td>8</td>\n",
       "      <td>shaurya</td>\n",
       "      <td>0.85</td>\n",
       "      <td>0.45</td>\n",
       "    </tr>\n",
       "  </tbody>\n",
       "</table>\n",
       "<p>256 rows × 8 columns</p>\n",
       "</div>"
      ],
      "text/plain": [
       "          TPR     FP/TP  TP  FP  FN  dataset    Ts    Te\n",
       "0    0.937500  1.766667  30  53   2  wenkanw  0.50  0.10\n",
       "1    0.937500  1.866667  30  56   2  wenkanw  0.50  0.15\n",
       "2    0.968750  1.774194  31  55   1  wenkanw  0.50  0.20\n",
       "3    0.968750  1.774194  31  55   1  wenkanw  0.50  0.25\n",
       "4    0.968750  1.645161  31  51   1  wenkanw  0.50  0.30\n",
       "..        ...       ...  ..  ..  ..      ...   ...   ...\n",
       "251  0.789474  1.500000  30  45   8  shaurya  0.85  0.25\n",
       "252  0.789474  1.566667  30  47   8  shaurya  0.85  0.30\n",
       "253  0.789474  1.566667  30  47   8  shaurya  0.85  0.35\n",
       "254  0.789474  1.566667  30  47   8  shaurya  0.85  0.40\n",
       "255  0.789474  1.566667  30  47   8  shaurya  0.85  0.45\n",
       "\n",
       "[256 rows x 8 columns]"
      ]
     },
     "execution_count": 74,
     "metadata": {},
     "output_type": "execute_result"
    }
   ],
   "source": [
    "threshold_results"
   ]
  },
  {
   "cell_type": "code",
   "execution_count": 63,
   "metadata": {},
   "outputs": [
    {
     "data": {
      "text/html": [
       "<div>\n",
       "<style scoped>\n",
       "    .dataframe tbody tr th:only-of-type {\n",
       "        vertical-align: middle;\n",
       "    }\n",
       "\n",
       "    .dataframe tbody tr th {\n",
       "        vertical-align: top;\n",
       "    }\n",
       "\n",
       "    .dataframe thead th {\n",
       "        text-align: right;\n",
       "    }\n",
       "</style>\n",
       "<table border=\"1\" class=\"dataframe\">\n",
       "  <thead>\n",
       "    <tr style=\"text-align: right;\">\n",
       "      <th></th>\n",
       "      <th>TPR</th>\n",
       "      <th>FP/TP</th>\n",
       "      <th>TP</th>\n",
       "      <th>FP</th>\n",
       "      <th>FN</th>\n",
       "      <th>dataset</th>\n",
       "      <th>Ts</th>\n",
       "      <th>Te</th>\n",
       "    </tr>\n",
       "  </thead>\n",
       "  <tbody>\n",
       "    <tr>\n",
       "      <th>0</th>\n",
       "      <td>0.937500</td>\n",
       "      <td>1.766667</td>\n",
       "      <td>30</td>\n",
       "      <td>53</td>\n",
       "      <td>2</td>\n",
       "      <td>wenkanw</td>\n",
       "      <td>0.50</td>\n",
       "      <td>0.10</td>\n",
       "    </tr>\n",
       "    <tr>\n",
       "      <th>1</th>\n",
       "      <td>0.937500</td>\n",
       "      <td>1.866667</td>\n",
       "      <td>30</td>\n",
       "      <td>56</td>\n",
       "      <td>2</td>\n",
       "      <td>wenkanw</td>\n",
       "      <td>0.50</td>\n",
       "      <td>0.15</td>\n",
       "    </tr>\n",
       "    <tr>\n",
       "      <th>2</th>\n",
       "      <td>0.968750</td>\n",
       "      <td>1.774194</td>\n",
       "      <td>31</td>\n",
       "      <td>55</td>\n",
       "      <td>1</td>\n",
       "      <td>wenkanw</td>\n",
       "      <td>0.50</td>\n",
       "      <td>0.20</td>\n",
       "    </tr>\n",
       "    <tr>\n",
       "      <th>3</th>\n",
       "      <td>0.968750</td>\n",
       "      <td>1.774194</td>\n",
       "      <td>31</td>\n",
       "      <td>55</td>\n",
       "      <td>1</td>\n",
       "      <td>wenkanw</td>\n",
       "      <td>0.50</td>\n",
       "      <td>0.25</td>\n",
       "    </tr>\n",
       "    <tr>\n",
       "      <th>4</th>\n",
       "      <td>0.968750</td>\n",
       "      <td>1.645161</td>\n",
       "      <td>31</td>\n",
       "      <td>51</td>\n",
       "      <td>1</td>\n",
       "      <td>wenkanw</td>\n",
       "      <td>0.50</td>\n",
       "      <td>0.30</td>\n",
       "    </tr>\n",
       "    <tr>\n",
       "      <th>...</th>\n",
       "      <td>...</td>\n",
       "      <td>...</td>\n",
       "      <td>...</td>\n",
       "      <td>...</td>\n",
       "      <td>...</td>\n",
       "      <td>...</td>\n",
       "      <td>...</td>\n",
       "      <td>...</td>\n",
       "    </tr>\n",
       "    <tr>\n",
       "      <th>251</th>\n",
       "      <td>0.823529</td>\n",
       "      <td>1.642857</td>\n",
       "      <td>14</td>\n",
       "      <td>23</td>\n",
       "      <td>3</td>\n",
       "      <td>shaurya</td>\n",
       "      <td>0.85</td>\n",
       "      <td>0.25</td>\n",
       "    </tr>\n",
       "    <tr>\n",
       "      <th>252</th>\n",
       "      <td>0.823529</td>\n",
       "      <td>1.785714</td>\n",
       "      <td>14</td>\n",
       "      <td>25</td>\n",
       "      <td>3</td>\n",
       "      <td>shaurya</td>\n",
       "      <td>0.85</td>\n",
       "      <td>0.30</td>\n",
       "    </tr>\n",
       "    <tr>\n",
       "      <th>253</th>\n",
       "      <td>0.823529</td>\n",
       "      <td>1.785714</td>\n",
       "      <td>14</td>\n",
       "      <td>25</td>\n",
       "      <td>3</td>\n",
       "      <td>shaurya</td>\n",
       "      <td>0.85</td>\n",
       "      <td>0.35</td>\n",
       "    </tr>\n",
       "    <tr>\n",
       "      <th>254</th>\n",
       "      <td>0.823529</td>\n",
       "      <td>1.785714</td>\n",
       "      <td>14</td>\n",
       "      <td>25</td>\n",
       "      <td>3</td>\n",
       "      <td>shaurya</td>\n",
       "      <td>0.85</td>\n",
       "      <td>0.40</td>\n",
       "    </tr>\n",
       "    <tr>\n",
       "      <th>255</th>\n",
       "      <td>0.823529</td>\n",
       "      <td>1.785714</td>\n",
       "      <td>14</td>\n",
       "      <td>25</td>\n",
       "      <td>3</td>\n",
       "      <td>shaurya</td>\n",
       "      <td>0.85</td>\n",
       "      <td>0.45</td>\n",
       "    </tr>\n",
       "  </tbody>\n",
       "</table>\n",
       "<p>256 rows × 8 columns</p>\n",
       "</div>"
      ],
      "text/plain": [
       "          TPR     FP/TP  TP  FP  FN  dataset    Ts    Te\n",
       "0    0.937500  1.766667  30  53   2  wenkanw  0.50  0.10\n",
       "1    0.937500  1.866667  30  56   2  wenkanw  0.50  0.15\n",
       "2    0.968750  1.774194  31  55   1  wenkanw  0.50  0.20\n",
       "3    0.968750  1.774194  31  55   1  wenkanw  0.50  0.25\n",
       "4    0.968750  1.645161  31  51   1  wenkanw  0.50  0.30\n",
       "..        ...       ...  ..  ..  ..      ...   ...   ...\n",
       "251  0.823529  1.642857  14  23   3  shaurya  0.85  0.25\n",
       "252  0.823529  1.785714  14  25   3  shaurya  0.85  0.30\n",
       "253  0.823529  1.785714  14  25   3  shaurya  0.85  0.35\n",
       "254  0.823529  1.785714  14  25   3  shaurya  0.85  0.40\n",
       "255  0.823529  1.785714  14  25   3  shaurya  0.85  0.45\n",
       "\n",
       "[256 rows x 8 columns]"
      ]
     },
     "execution_count": 63,
     "metadata": {},
     "output_type": "execute_result"
    }
   ],
   "source": [
    "threshold_results "
   ]
  },
  {
   "cell_type": "code",
   "execution_count": 173,
   "metadata": {},
   "outputs": [],
   "source": [
    "threshold_results.to_csv(\"../results/hysteresis_results/threshold_results.csv\", index = False)\n"
   ]
  },
  {
   "cell_type": "code",
   "execution_count": 24,
   "metadata": {},
   "outputs": [],
   "source": [
    "threshold_results = pd.read_csv(\"../results/hysteresis_results/threshold_results.csv\")\n"
   ]
  },
  {
   "cell_type": "code",
   "execution_count": 77,
   "metadata": {},
   "outputs": [],
   "source": [
    "def plot_threshold_results(threshold_results):\n",
    "    print(\"Fixed Te, Change Ts\")\n",
    "    fig, ax= plt.subplots(2,2, figsize=(12,10))\n",
    "    te_val = 0.4\n",
    "    th_df = threshold_results[(threshold_results['Te']==te_val)]\n",
    "    _ = sns.lineplot(data=th_df, x=\"Ts\", y= \"TPR\", hue=\"dataset\",ax=ax[0,0])\n",
    "    _ = sns.lineplot(data=th_df, x=\"Ts\", y= \"FP/TP\", hue=\"dataset\",ax=ax[0,1])\n",
    "    _ = ax[0,0].set_title(\"Te = \"+str(te_val))\n",
    "    _ = ax[0,1].set_title(\"Te = \"+str(te_val))\n",
    "\n",
    "    te_val = 0.1\n",
    "    th_df = threshold_results[(threshold_results['Te']==te_val)]\n",
    "    _ = sns.lineplot(data=th_df, x=\"Ts\", y= \"TPR\", hue=\"dataset\",ax=ax[1,0])\n",
    "    _ = sns.lineplot(data=th_df, x=\"Ts\", y= \"FP/TP\", hue=\"dataset\",ax=ax[1,1])\n",
    "    _ = ax[1,0].set_title(\"Te = \"+str(te_val))\n",
    "    _ = ax[1,1].set_title(\"Te = \"+str(te_val))\n",
    "    \n",
    "    print(\"Fixed Ts, Change Te\")\n",
    "    fig, ax= plt.subplots(2,2, figsize=(12,10))\n",
    "    ts_val = 0.5\n",
    "    th_df = threshold_results[(threshold_results['Ts']==ts_val)]\n",
    "    _ = sns.lineplot(data=th_df, x=\"Te\", y= \"TPR\", hue=\"dataset\",ax=ax[0,0])\n",
    "    _ = sns.lineplot(data=th_df, x=\"Te\", y= \"FP/TP\", hue=\"dataset\",ax=ax[0,1])\n",
    "    _ = ax[0,0].set_title(\"Ts = \"+str(ts_val))\n",
    "    _ = ax[0,1].set_title(\"Ts = \"+str(ts_val))\n",
    "\n",
    "    ts_val = 0.6\n",
    "    th_df = threshold_results[(threshold_results['Ts']==ts_val)]\n",
    "    _ = sns.lineplot(data=th_df, x=\"Te\", y= \"TPR\", hue=\"dataset\",ax=ax[1,0])\n",
    "    _ = sns.lineplot(data=th_df, x=\"Te\", y= \"FP/TP\", hue=\"dataset\",ax=ax[1,1])\n",
    "    _ = ax[1,0].set_title(\"Ts = \"+str(ts_val))\n",
    "    _ = ax[1,1].set_title(\"Ts = \"+str(ts_val))\n",
    "    "
   ]
  },
  {
   "cell_type": "code",
   "execution_count": 78,
   "metadata": {},
   "outputs": [
    {
     "name": "stdout",
     "output_type": "stream",
     "text": [
      "Fixed Te, Change Ts\n",
      "Fixed Ts, Change Te\n"
     ]
    },
    {
     "data": {
      "image/png": "[encoded data removed]",
      "text/plain": [
       "<Figure size 864x720 with 4 Axes>"
      ]
     },
     "metadata": {
      "needs_background": "light"
     },
     "output_type": "display_data"
    },
    {
     "data": {
      "image/png": "[encoded data removed]",
      "text/plain": [
       "<Figure size 864x720 with 4 Axes>"
      ]
     },
     "metadata": {
      "needs_background": "light"
     },
     "output_type": "display_data"
    }
   ],
   "source": [
    "plot_threshold_results(threshold_results)"
   ]
  },
  {
   "cell_type": "code",
   "execution_count": 25,
   "metadata": {},
   "outputs": [
    {
     "data": {
      "image/png": "[encoded data removed]",
      "text/plain": [
       "<Figure size 864x720 with 4 Axes>"
      ]
     },
     "metadata": {
      "needs_background": "light"
     },
     "output_type": "display_data"
    }
   ],
   "source": [
    "fig, ax= plt.subplots(2,2, figsize=(12,10))\n",
    "te_val = 0.4\n",
    "th_df = threshold_results[(threshold_results['Te']==te_val)]\n",
    "_ = sns.lineplot(data=th_df, x=\"Ts\", y= \"TPR\", hue=\"dataset\",ax=ax[0,0])\n",
    "_ = sns.lineplot(data=th_df, x=\"Ts\", y= \"FP/TP\", hue=\"dataset\",ax=ax[0,1])\n",
    "_ = ax[0,0].set_title(\"Te = \"+str(te_val))\n",
    "_ = ax[0,1].set_title(\"Te = \"+str(te_val))\n",
    "\n",
    "te_val = 0.1\n",
    "th_df = threshold_results[(threshold_results['Te']==te_val)]\n",
    "_ = sns.lineplot(data=th_df, x=\"Ts\", y= \"TPR\", hue=\"dataset\",ax=ax[1,0])\n",
    "_ = sns.lineplot(data=th_df, x=\"Ts\", y= \"FP/TP\", hue=\"dataset\",ax=ax[1,1])\n",
    "_ = ax[1,0].set_title(\"Te = \"+str(te_val))\n",
    "_ = ax[1,1].set_title(\"Te = \"+str(te_val))"
   ]
  },
  {
   "cell_type": "code",
   "execution_count": 26,
   "metadata": {},
   "outputs": [
    {
     "data": {
      "image/png": "[encoded data removed]",
      "text/plain": [
       "<Figure size 864x720 with 4 Axes>"
      ]
     },
     "metadata": {
      "needs_background": "light"
     },
     "output_type": "display_data"
    }
   ],
   "source": [
    "fig, ax= plt.subplots(2,2, figsize=(12,10))\n",
    "ts_val = 0.5\n",
    "th_df = threshold_results[(threshold_results['Ts']==ts_val)]\n",
    "_ = sns.lineplot(data=th_df, x=\"Te\", y= \"TPR\", hue=\"dataset\",ax=ax[0,0])\n",
    "_ = sns.lineplot(data=th_df, x=\"Te\", y= \"FP/TP\", hue=\"dataset\",ax=ax[0,1])\n",
    "_ = ax[0,0].set_title(\"Ts = \"+str(ts_val))\n",
    "_ = ax[0,1].set_title(\"Ts = \"+str(ts_val))\n",
    "\n",
    "ts_val = 0.6\n",
    "th_df = threshold_results[(threshold_results['Ts']==ts_val)]\n",
    "_ = sns.lineplot(data=th_df, x=\"Te\", y= \"TPR\", hue=\"dataset\",ax=ax[1,0])\n",
    "_ = sns.lineplot(data=th_df, x=\"Te\", y= \"FP/TP\", hue=\"dataset\",ax=ax[1,1])\n",
    "_ = ax[1,0].set_title(\"Ts = \"+str(ts_val))\n",
    "_ = ax[1,1].set_title(\"Ts = \"+str(ts_val))"
   ]
  },
  {
   "cell_type": "code",
   "execution_count": null,
   "metadata": {},
   "outputs": [],
   "source": []
  },
  {
   "cell_type": "code",
   "execution_count": 96,
   "metadata": {},
   "outputs": [],
   "source": [
    "def find_optimal_threshold(threshold_results,mode=\"min_fp\", min_tpr= 0.85, max_fp=1.):\n",
    "    best_threshold = pd.DataFrame()\n",
    "    for person in threshold_results[\"dataset\"].unique():\n",
    "        df= threshold_results.loc[threshold_results['dataset']==person]\n",
    "        if mode ==\"min_fp\":\n",
    "            # find min FP/TP with TPR inside range\n",
    "            df= df.loc[threshold_results[\"TPR\"]>min_tpr]\n",
    "            df = df.iloc[df[\"FP/TP\"].argmin()]\n",
    "        else:\n",
    "            # find max TPR with FP/TP inside range\n",
    "            df = df.loc[df[\"FP/TP\"]<max_fp]\n",
    "            df= df.iloc[threshold_results[\"TPR\"].argmax()]\n",
    "            \n",
    "        best_threshold = best_threshold.append(df)\n",
    "        thresholds = {}\n",
    "        for name in best_threshold['dataset'].values:\n",
    "            thresholds[name] = [ best_threshold[best_threshold['dataset']==name]['Ts'].values[0] ,\n",
    "                                best_threshold[best_threshold['dataset']==name]['Te'].values[0] ]\n",
    "        #best_threshold[[\"dataset\",\"Ts\",\"Te\"]]\n",
    "    return best_threshold , thresholds\n",
    "\n"
   ]
  },
  {
   "cell_type": "code",
   "execution_count": 101,
   "metadata": {},
   "outputs": [
    {
     "data": {
      "text/html": [
       "<div>\n",
       "<style scoped>\n",
       "    .dataframe tbody tr th:only-of-type {\n",
       "        vertical-align: middle;\n",
       "    }\n",
       "\n",
       "    .dataframe tbody tr th {\n",
       "        vertical-align: top;\n",
       "    }\n",
       "\n",
       "    .dataframe thead th {\n",
       "        text-align: right;\n",
       "    }\n",
       "</style>\n",
       "<table border=\"1\" class=\"dataframe\">\n",
       "  <thead>\n",
       "    <tr style=\"text-align: right;\">\n",
       "      <th></th>\n",
       "      <th>FN</th>\n",
       "      <th>FP</th>\n",
       "      <th>FP/TP</th>\n",
       "      <th>TP</th>\n",
       "      <th>TPR</th>\n",
       "      <th>Te</th>\n",
       "      <th>Ts</th>\n",
       "      <th>dataset</th>\n",
       "    </tr>\n",
       "  </thead>\n",
       "  <tbody>\n",
       "    <tr>\n",
       "      <th>62</th>\n",
       "      <td>1.0</td>\n",
       "      <td>8.0</td>\n",
       "      <td>0.258065</td>\n",
       "      <td>31.0</td>\n",
       "      <td>0.968750</td>\n",
       "      <td>0.4</td>\n",
       "      <td>0.85</td>\n",
       "      <td>wenkanw</td>\n",
       "    </tr>\n",
       "    <tr>\n",
       "      <th>120</th>\n",
       "      <td>3.0</td>\n",
       "      <td>3.0</td>\n",
       "      <td>0.130435</td>\n",
       "      <td>23.0</td>\n",
       "      <td>0.884615</td>\n",
       "      <td>0.1</td>\n",
       "      <td>0.85</td>\n",
       "      <td>adam</td>\n",
       "    </tr>\n",
       "    <tr>\n",
       "      <th>136</th>\n",
       "      <td>10.0</td>\n",
       "      <td>49.0</td>\n",
       "      <td>0.960784</td>\n",
       "      <td>51.0</td>\n",
       "      <td>0.836066</td>\n",
       "      <td>0.1</td>\n",
       "      <td>0.55</td>\n",
       "      <td>lawler</td>\n",
       "    </tr>\n",
       "    <tr>\n",
       "      <th>240</th>\n",
       "      <td>7.0</td>\n",
       "      <td>49.0</td>\n",
       "      <td>1.580645</td>\n",
       "      <td>31.0</td>\n",
       "      <td>0.815789</td>\n",
       "      <td>0.1</td>\n",
       "      <td>0.80</td>\n",
       "      <td>shaurya</td>\n",
       "    </tr>\n",
       "  </tbody>\n",
       "</table>\n",
       "</div>"
      ],
      "text/plain": [
       "       FN    FP     FP/TP    TP       TPR   Te    Ts  dataset\n",
       "62    1.0   8.0  0.258065  31.0  0.968750  0.4  0.85  wenkanw\n",
       "120   3.0   3.0  0.130435  23.0  0.884615  0.1  0.85     adam\n",
       "136  10.0  49.0  0.960784  51.0  0.836066  0.1  0.55   lawler\n",
       "240   7.0  49.0  1.580645  31.0  0.815789  0.1  0.80  shaurya"
      ]
     },
     "execution_count": 101,
     "metadata": {},
     "output_type": "execute_result"
    }
   ],
   "source": [
    "best_threshold ,hythreshold2  = find_optimal_threshold(threshold_results,min_tpr= 0.8, max_fp=2.5, mode= \"min_fp\")\n",
    "best_threshold #, hythreshold2 "
   ]
  },
  {
   "cell_type": "code",
   "execution_count": 102,
   "metadata": {},
   "outputs": [],
   "source": [
    "# hythreshold2 = {'wenkanw':[0.85, 0.4], 'adam':[0.85,0.1],'lawler':[0.55,0.25], 'shaurya':[0.65,0.1]}"
   ]
  },
  {
   "cell_type": "code",
   "execution_count": 110,
   "metadata": {
    "scrolled": true
   },
   "outputs": [
    {
     "name": "stdout",
     "output_type": "stream",
     "text": [
      "Loading Dataset ...\n",
      "Loading File:  ../data/IndividualData/wenkanw-data/11-14-20/11-14-20.shm\n",
      "Loading File:  ../data/IndividualData/wenkanw-data/10-13-20/10-13-20.shm\n",
      "Loading File:  ../data/IndividualData/wenkanw-data/10-9-20/10-10-20.shm\n",
      "Loading File:  ../data/IndividualData/wenkanw-data/11-21-20/Dinner/Dinner.shm\n",
      "Loading File:  ../data/IndividualData/wenkanw-data/9-17-20/9-17-20.shm\n",
      "Loading File:  ../data/IndividualData/wenkanw-data/9-29-20/9-29-20.shm\n",
      "Loading File:  ../data/IndividualData/wenkanw-data/11-22-20/Lunch/Lunch.shm\n",
      "Loading File:  ../data/IndividualData/wenkanw-data/11-21-20/lunch/lunch.shm\n",
      "Loading File:  ../data/IndividualData/wenkanw-data/10-9-20/10-9-20.shm\n",
      "Loading File:  ../data/IndividualData/wenkanw-data/11-18-20/11-18-20.shm\n",
      "Loading File:  ../data/IndividualData/wenkanw-data/10-14-20/10-14-20.shm\n",
      "Loading File:  ../data/IndividualData/wenkanw-data/10-12-20/10-12-20.shm\n",
      "Loading File:  ../data/IndividualData/wenkanw-data/11-16-20/11-16-20.shm\n",
      "Loading File:  ../data/IndividualData/wenkanw-data/9-27-20/9-27-20.shm\n",
      "Loading File:  ../data/IndividualData/wenkanw-data/10-3-20/10-3-20.shm\n",
      "Loading File:  ../data/IndividualData/wenkanw-data/10-10-20/10-10-20.shm\n",
      "Loading File:  ../data/IndividualData/wenkanw-data/11-22-20/Dinner/Dinner.shm\n"
     ]
    },
    {
     "name": "stderr",
     "output_type": "stream",
     "text": [
      "100%|██████████| 17/17 [00:00<00:00, 454.35it/s]\n",
      "100%|██████████| 17/17 [00:00<00:00, 410.58it/s]\n"
     ]
    },
    {
     "name": "stdout",
     "output_type": "stream",
     "text": [
      "Segmentation Completed. \n",
      "total_meal: 32 TP:  31 FP:  8 FN:  1\n",
      "       TPR     FP/TP  TP  FP  FN\n",
      "0  0.96875  0.258065  31   8   1\n",
      "Segmentation Completed. \n",
      "total_meal: 32 TP:  20 FP:  6 FN:  12\n",
      "     TPR  FP/TP  TP  FP  FN\n",
      "0  0.625    0.3  20   6  12\n",
      "Loading Dataset ...\n",
      "Loading File:  ../data/IndividualData/adam-data/12-01-2020/12-01-2020.shm\n",
      "Loading File:  ../data/IndividualData/adam-data/11-24-2020/11-24-2020.shm\n",
      "Loading File:  ../data/IndividualData/adam-data/11-30-2020/11-30-2020.shm\n",
      "Loading File:  ../data/IndividualData/adam-data/09-22-2020/09-22-2020.shm\n",
      "Loading File:  ../data/IndividualData/adam-data/12-03-2020/12-03-2020.shm\n",
      "Loading File:  ../data/IndividualData/adam-data/12-11-2020/12-11-2020.shm\n",
      "Loading File:  ../data/IndividualData/adam-data/11-25-2020/11-25-2020.shm\n",
      "Loading File:  ../data/IndividualData/adam-data/12-08-2020/12-08-2020.shm\n",
      "Loading File:  ../data/IndividualData/adam-data/12-07-2020/12-07-2020.shm\n",
      "Loading File:  ../data/IndividualData/adam-data/11-26-2020/11-26-2020.shm\n",
      "Loading File:  ../data/IndividualData/adam-data/12-02-2020/12-02-2020.shm\n",
      "Loading File:  ../data/IndividualData/adam-data/12-04-2020/12-04-2020.shm\n",
      "Loading File:  ../data/IndividualData/adam-data/12-09-2020/12-09-2020.shm\n",
      "Loading File:  ../data/IndividualData/adam-data/12-10-2020/12-10-2020.shm\n"
     ]
    },
    {
     "name": "stderr",
     "output_type": "stream",
     "text": [
      "100%|██████████| 14/14 [00:00<00:00, 391.28it/s]\n",
      "100%|██████████| 14/14 [00:00<00:00, 347.09it/s]\n"
     ]
    },
    {
     "name": "stdout",
     "output_type": "stream",
     "text": [
      "Segmentation Completed. \n",
      "total_meal: 26 TP:  23 FP:  3 FN:  3\n",
      "        TPR     FP/TP  TP  FP  FN\n",
      "0  0.884615  0.130435  23   3   3\n",
      "Segmentation Completed. \n",
      "total_meal: 26 TP:  24 FP:  8 FN:  2\n",
      "        TPR     FP/TP  TP  FP  FN\n",
      "0  0.923077  0.333333  24   8   2\n",
      "Loading Dataset ...\n",
      "Loading File:  ../data/IndividualData/lawler-data/10.19/10.19.shm\n",
      "Loading File:  ../data/IndividualData/lawler-data/11.14/11.14.shm\n",
      "Loading File:  ../data/IndividualData/lawler-data/10.10/10.10.shm\n",
      "Loading File:  ../data/IndividualData/lawler-data/11.2/11.2.shm\n",
      "Loading File:  ../data/IndividualData/lawler-data/10.8/10.8.shm\n",
      "Loading File:  ../data/IndividualData/lawler-data/11.15/11.15.shm\n",
      "Loading File:  ../data/IndividualData/lawler-data/10.14/10.14.shm\n",
      "Loading File:  ../data/IndividualData/lawler-data/9.23/9.23_13hr.shm\n",
      "Loading File:  ../data/IndividualData/lawler-data/10.12/10.12.shm\n",
      "Loading File:  ../data/IndividualData/lawler-data/11.11/11.11.shm\n",
      "Loading File:  ../data/IndividualData/lawler-data/11.4/11.4.shm\n",
      "Loading File:  ../data/IndividualData/lawler-data/9.25/9.25_1-46.shm\n",
      "Loading File:  ../data/IndividualData/lawler-data/10.6/10.6.shm\n",
      "Loading File:  ../data/IndividualData/lawler-data/10.4/10.4.shm\n",
      "Loading File:  ../data/IndividualData/lawler-data/10.28/10.28.shm\n",
      "Loading File:  ../data/IndividualData/lawler-data/11.3/11.3.shm\n",
      "Loading File:  ../data/IndividualData/lawler-data/10.20/evening_2hr_20min/10.20.shm\n",
      "Loading File:  ../data/IndividualData/lawler-data/10.26/10.26.shm\n",
      "Loading File:  ../data/IndividualData/lawler-data/10.31/10.31.shm\n",
      "Loading File:  ../data/IndividualData/lawler-data/10.31/evening-2hr_goodDinnerTemplate_CFAmeal/10.31.shm\n",
      "Loading File:  ../data/IndividualData/lawler-data/10.21/10.21.shm\n",
      "Loading File:  ../data/IndividualData/lawler-data/10.16/10.16.shm\n",
      "Loading File:  ../data/IndividualData/lawler-data/10.20/afternoon_2hr33min/10.20.shm\n"
     ]
    },
    {
     "name": "stderr",
     "output_type": "stream",
     "text": [
      "100%|██████████| 23/23 [00:00<00:00, 456.10it/s]\n",
      "  0%|          | 0/23 [00:00<?, ?it/s]"
     ]
    },
    {
     "name": "stdout",
     "output_type": "stream",
     "text": [
      "Segmentation Completed. \n",
      "total_meal: 61 TP:  51 FP:  49 FN:  10\n",
      "        TPR     FP/TP  TP  FP  FN\n",
      "0  0.836066  0.960784  51  49  10\n"
     ]
    },
    {
     "name": "stderr",
     "output_type": "stream",
     "text": [
      "100%|██████████| 23/23 [00:00<00:00, 402.78it/s]\n"
     ]
    },
    {
     "name": "stdout",
     "output_type": "stream",
     "text": [
      "Segmentation Completed. \n",
      "total_meal: 61 TP:  20 FP:  52 FN:  41\n",
      "        TPR  FP/TP  TP  FP  FN\n",
      "0  0.327869    2.6  20  52  41\n",
      "Loading Dataset ...\n",
      "Loading File:  ../data/IndividualData/shaurya-data/12.3.2020/Consensys Exported Data.shm\n",
      "Loading File:  ../data/IndividualData/shaurya-data/11.15.2020/Data.shm\n",
      "Loading File:  ../data/IndividualData/shaurya-data/10.22.2020/Data.shm\n",
      "Loading File:  ../data/IndividualData/shaurya-data/1.16.2021/Consensys Exported Data.shm\n",
      "Loading File:  ../data/IndividualData/shaurya-data/1.10.2021/Consensys Exported Data.shm\n",
      "Loading File:  ../data/IndividualData/shaurya-data/10.25.2020/Data.shm\n",
      "Loading File:  ../data/IndividualData/shaurya-data/11.1.2020/Data.shm\n",
      "Loading File:  ../data/IndividualData/shaurya-data/11.18.2020/Data.shm\n",
      "Loading File:  ../data/IndividualData/shaurya-data/11.17.2020/Data.shm\n",
      "Loading File:  ../data/IndividualData/shaurya-data/1.13.2021/Consensys Exported Data.shm\n",
      "Loading File:  ../data/IndividualData/shaurya-data/1.11.2021/Consensys Exported Data.shm\n",
      "Loading File:  ../data/IndividualData/shaurya-data/1.12.2021/Consensys Exported Data.shm\n",
      "Loading File:  ../data/IndividualData/shaurya-data/1.19.2021/Consensys Exported Data.shm\n"
     ]
    },
    {
     "name": "stderr",
     "output_type": "stream",
     "text": [
      "100%|██████████| 13/13 [00:00<00:00, 328.43it/s]\n",
      "100%|██████████| 13/13 [00:00<00:00, 294.03it/s]\n"
     ]
    },
    {
     "name": "stdout",
     "output_type": "stream",
     "text": [
      "Segmentation Completed. \n",
      "total_meal: 38 TP:  31 FP:  49 FN:  7\n",
      "        TPR     FP/TP  TP  FP  FN\n",
      "0  0.815789  1.580645  31  49   7\n",
      "Segmentation Completed. \n",
      "total_meal: 38 TP:  30 FP:  25 FN:  8\n",
      "        TPR     FP/TP  TP  FP  FN\n",
      "0  0.789474  0.833333  30  25   8\n",
      "CPU times: user 14.8 s, sys: 400 ms, total: 15.2 s\n",
      "Wall time: 15.6 s\n"
     ]
    }
   ],
   "source": [
    "%time all_data_episode_perf_df = test_models_episode_metric(winmin=6, stridesec = 5,\\\n",
    "                                                            names= [\"wenkanw\",\"adam\",\"lawler\",\"shaurya\"],random_seed=1000, \\\n",
    "                                                            test_balance=False, test_CAD=False,test_alldata=True, \\\n",
    "                                                            threshold=hythreshold2,  use_group_threshold=1)"
   ]
  },
  {
   "cell_type": "code",
   "execution_count": 111,
   "metadata": {},
   "outputs": [
    {
     "data": {
      "text/html": [
       "<div>\n",
       "<style scoped>\n",
       "    .dataframe tbody tr th:only-of-type {\n",
       "        vertical-align: middle;\n",
       "    }\n",
       "\n",
       "    .dataframe tbody tr th {\n",
       "        vertical-align: top;\n",
       "    }\n",
       "\n",
       "    .dataframe thead th {\n",
       "        text-align: right;\n",
       "    }\n",
       "</style>\n",
       "<table border=\"1\" class=\"dataframe\">\n",
       "  <thead>\n",
       "    <tr style=\"text-align: right;\">\n",
       "      <th></th>\n",
       "      <th>dataset</th>\n",
       "      <th>Days</th>\n",
       "      <th>Meal_Hours</th>\n",
       "      <th>Meal_Counts</th>\n",
       "      <th>win(sec)</th>\n",
       "      <th>TPR: Individual-Model</th>\n",
       "      <th>TPR: GroupModel</th>\n",
       "      <th>FP/TP: Individual-Model</th>\n",
       "      <th>FP/TP: GroupModel</th>\n",
       "      <th>TP: Individual-Model</th>\n",
       "      <th>TP: GroupModel</th>\n",
       "      <th>FP: Individual-Model</th>\n",
       "      <th>FP: GroupModel</th>\n",
       "      <th>FN: Individual-Model</th>\n",
       "      <th>FN: GroupModel</th>\n",
       "    </tr>\n",
       "  </thead>\n",
       "  <tbody>\n",
       "    <tr>\n",
       "      <th>0</th>\n",
       "      <td>wenkanw</td>\n",
       "      <td>17</td>\n",
       "      <td>7</td>\n",
       "      <td>32</td>\n",
       "      <td>360</td>\n",
       "      <td>0.969</td>\n",
       "      <td>0.625</td>\n",
       "      <td>0.258</td>\n",
       "      <td>0.3</td>\n",
       "      <td>31</td>\n",
       "      <td>20</td>\n",
       "      <td>8</td>\n",
       "      <td>6</td>\n",
       "      <td>1</td>\n",
       "      <td>12</td>\n",
       "    </tr>\n",
       "    <tr>\n",
       "      <th>1</th>\n",
       "      <td>adam</td>\n",
       "      <td>14</td>\n",
       "      <td>3</td>\n",
       "      <td>26</td>\n",
       "      <td>360</td>\n",
       "      <td>0.885</td>\n",
       "      <td>0.923</td>\n",
       "      <td>0.13</td>\n",
       "      <td>0.333</td>\n",
       "      <td>23</td>\n",
       "      <td>24</td>\n",
       "      <td>3</td>\n",
       "      <td>8</td>\n",
       "      <td>3</td>\n",
       "      <td>2</td>\n",
       "    </tr>\n",
       "    <tr>\n",
       "      <th>2</th>\n",
       "      <td>lawler</td>\n",
       "      <td>23</td>\n",
       "      <td>25</td>\n",
       "      <td>61</td>\n",
       "      <td>360</td>\n",
       "      <td>0.836</td>\n",
       "      <td>0.328</td>\n",
       "      <td>0.961</td>\n",
       "      <td>2.6</td>\n",
       "      <td>51</td>\n",
       "      <td>20</td>\n",
       "      <td>49</td>\n",
       "      <td>52</td>\n",
       "      <td>10</td>\n",
       "      <td>41</td>\n",
       "    </tr>\n",
       "    <tr>\n",
       "      <th>3</th>\n",
       "      <td>shaurya</td>\n",
       "      <td>13</td>\n",
       "      <td>9</td>\n",
       "      <td>38</td>\n",
       "      <td>360</td>\n",
       "      <td>0.816</td>\n",
       "      <td>0.789</td>\n",
       "      <td>1.581</td>\n",
       "      <td>0.833</td>\n",
       "      <td>31</td>\n",
       "      <td>30</td>\n",
       "      <td>49</td>\n",
       "      <td>25</td>\n",
       "      <td>7</td>\n",
       "      <td>8</td>\n",
       "    </tr>\n",
       "    <tr>\n",
       "      <th>4</th>\n",
       "      <td>average performance</td>\n",
       "      <td>-</td>\n",
       "      <td>-</td>\n",
       "      <td>-</td>\n",
       "      <td>-</td>\n",
       "      <td>0.876</td>\n",
       "      <td>0.666</td>\n",
       "      <td>0.732</td>\n",
       "      <td>1.016</td>\n",
       "      <td>34</td>\n",
       "      <td>23.5</td>\n",
       "      <td>27.25</td>\n",
       "      <td>22.75</td>\n",
       "      <td>5.25</td>\n",
       "      <td>15.75</td>\n",
       "    </tr>\n",
       "  </tbody>\n",
       "</table>\n",
       "</div>"
      ],
      "text/plain": [
       "               dataset Days Meal_Hours Meal_Counts win(sec)  \\\n",
       "0              wenkanw   17          7          32      360   \n",
       "1                 adam   14          3          26      360   \n",
       "2               lawler   23         25          61      360   \n",
       "3              shaurya   13          9          38      360   \n",
       "4  average performance    -          -           -        -   \n",
       "\n",
       "  TPR: Individual-Model TPR: GroupModel FP/TP: Individual-Model  \\\n",
       "0                 0.969           0.625                   0.258   \n",
       "1                 0.885           0.923                    0.13   \n",
       "2                 0.836           0.328                   0.961   \n",
       "3                 0.816           0.789                   1.581   \n",
       "4                 0.876           0.666                   0.732   \n",
       "\n",
       "  FP/TP: GroupModel TP: Individual-Model TP: GroupModel FP: Individual-Model  \\\n",
       "0               0.3                   31             20                    8   \n",
       "1             0.333                   23             24                    3   \n",
       "2               2.6                   51             20                   49   \n",
       "3             0.833                   31             30                   49   \n",
       "4             1.016                   34           23.5                27.25   \n",
       "\n",
       "  FP: GroupModel FN: Individual-Model FN: GroupModel  \n",
       "0              6                    1             12  \n",
       "1              8                    3              2  \n",
       "2             52                   10             41  \n",
       "3             25                    7              8  \n",
       "4          22.75                 5.25          15.75  "
      ]
     },
     "execution_count": 111,
     "metadata": {},
     "output_type": "execute_result"
    }
   ],
   "source": [
    "episode_metrics = print_episode_metrics(all_data_episode_perf_df)\n",
    "episode_metrics"
   ]
  },
  {
   "cell_type": "code",
   "execution_count": 35,
   "metadata": {},
   "outputs": [],
   "source": [
    "num_subject = 4\n",
    "episode_metrics.to_csv(\"../results/episode_metrics/\"+str(num_subject)+\"_subjects_alldata_best_thresholds_episode_metrics.csv\")"
   ]
  },
  {
   "cell_type": "code",
   "execution_count": null,
   "metadata": {},
   "outputs": [],
   "source": []
  },
  {
   "cell_type": "code",
   "execution_count": null,
   "metadata": {},
   "outputs": [],
   "source": []
  },
  {
   "cell_type": "markdown",
   "metadata": {},
   "source": [
    "## 4.5 update data "
   ]
  },
  {
   "cell_type": "code",
   "execution_count": 113,
   "metadata": {},
   "outputs": [
    {
     "data": {
      "text/html": [
       "<div>\n",
       "<style scoped>\n",
       "    .dataframe tbody tr th:only-of-type {\n",
       "        vertical-align: middle;\n",
       "    }\n",
       "\n",
       "    .dataframe tbody tr th {\n",
       "        vertical-align: top;\n",
       "    }\n",
       "\n",
       "    .dataframe thead th {\n",
       "        text-align: right;\n",
       "    }\n",
       "</style>\n",
       "<table border=\"1\" class=\"dataframe\">\n",
       "  <thead>\n",
       "    <tr style=\"text-align: right;\">\n",
       "      <th></th>\n",
       "      <th>Unnamed: 0</th>\n",
       "      <th>dataset</th>\n",
       "      <th>Days</th>\n",
       "      <th>Meal_Hours</th>\n",
       "      <th>Meal_Counts</th>\n",
       "      <th>win(sec)</th>\n",
       "      <th>TPR: Individual-Model</th>\n",
       "      <th>TPR: GroupModel</th>\n",
       "      <th>FP/TP: Individual-Model</th>\n",
       "      <th>FP/TP: GroupModel</th>\n",
       "      <th>TP: Individual-Model</th>\n",
       "      <th>TP: GroupModel</th>\n",
       "      <th>FP: Individual-Model</th>\n",
       "      <th>FP: GroupModel</th>\n",
       "      <th>FN: Individual-Model</th>\n",
       "      <th>FN: GroupModel</th>\n",
       "    </tr>\n",
       "  </thead>\n",
       "  <tbody>\n",
       "    <tr>\n",
       "      <th>0</th>\n",
       "      <td>0</td>\n",
       "      <td>wenkanw</td>\n",
       "      <td>17</td>\n",
       "      <td>7</td>\n",
       "      <td>32</td>\n",
       "      <td>360</td>\n",
       "      <td>0.969</td>\n",
       "      <td>0.500</td>\n",
       "      <td>0.258</td>\n",
       "      <td>0.188</td>\n",
       "      <td>31.0</td>\n",
       "      <td>16.00</td>\n",
       "      <td>8.00</td>\n",
       "      <td>3.00</td>\n",
       "      <td>1.0</td>\n",
       "      <td>16.00</td>\n",
       "    </tr>\n",
       "    <tr>\n",
       "      <th>1</th>\n",
       "      <td>1</td>\n",
       "      <td>adam</td>\n",
       "      <td>14</td>\n",
       "      <td>3</td>\n",
       "      <td>26</td>\n",
       "      <td>360</td>\n",
       "      <td>0.885</td>\n",
       "      <td>0.808</td>\n",
       "      <td>0.130</td>\n",
       "      <td>0.095</td>\n",
       "      <td>23.0</td>\n",
       "      <td>21.00</td>\n",
       "      <td>3.00</td>\n",
       "      <td>2.00</td>\n",
       "      <td>3.0</td>\n",
       "      <td>5.00</td>\n",
       "    </tr>\n",
       "    <tr>\n",
       "      <th>2</th>\n",
       "      <td>2</td>\n",
       "      <td>lawler</td>\n",
       "      <td>23</td>\n",
       "      <td>25</td>\n",
       "      <td>61</td>\n",
       "      <td>360</td>\n",
       "      <td>0.869</td>\n",
       "      <td>0.721</td>\n",
       "      <td>1.396</td>\n",
       "      <td>1.659</td>\n",
       "      <td>53.0</td>\n",
       "      <td>44.00</td>\n",
       "      <td>74.00</td>\n",
       "      <td>73.00</td>\n",
       "      <td>8.0</td>\n",
       "      <td>17.00</td>\n",
       "    </tr>\n",
       "    <tr>\n",
       "      <th>3</th>\n",
       "      <td>3</td>\n",
       "      <td>shaurya</td>\n",
       "      <td>6</td>\n",
       "      <td>3</td>\n",
       "      <td>17</td>\n",
       "      <td>360</td>\n",
       "      <td>0.882</td>\n",
       "      <td>0.824</td>\n",
       "      <td>2.000</td>\n",
       "      <td>0.786</td>\n",
       "      <td>15.0</td>\n",
       "      <td>14.00</td>\n",
       "      <td>30.00</td>\n",
       "      <td>11.00</td>\n",
       "      <td>2.0</td>\n",
       "      <td>3.00</td>\n",
       "    </tr>\n",
       "    <tr>\n",
       "      <th>4</th>\n",
       "      <td>4</td>\n",
       "      <td>average performance</td>\n",
       "      <td>-</td>\n",
       "      <td>-</td>\n",
       "      <td>-</td>\n",
       "      <td>-</td>\n",
       "      <td>0.901</td>\n",
       "      <td>0.713</td>\n",
       "      <td>0.946</td>\n",
       "      <td>0.682</td>\n",
       "      <td>30.5</td>\n",
       "      <td>23.75</td>\n",
       "      <td>28.75</td>\n",
       "      <td>22.25</td>\n",
       "      <td>3.5</td>\n",
       "      <td>10.25</td>\n",
       "    </tr>\n",
       "  </tbody>\n",
       "</table>\n",
       "</div>"
      ],
      "text/plain": [
       "   Unnamed: 0              dataset Days Meal_Hours Meal_Counts win(sec)  \\\n",
       "0           0              wenkanw   17          7          32      360   \n",
       "1           1                 adam   14          3          26      360   \n",
       "2           2               lawler   23         25          61      360   \n",
       "3           3              shaurya    6          3          17      360   \n",
       "4           4  average performance    -          -           -        -   \n",
       "\n",
       "   TPR: Individual-Model  TPR: GroupModel  FP/TP: Individual-Model  \\\n",
       "0                  0.969            0.500                    0.258   \n",
       "1                  0.885            0.808                    0.130   \n",
       "2                  0.869            0.721                    1.396   \n",
       "3                  0.882            0.824                    2.000   \n",
       "4                  0.901            0.713                    0.946   \n",
       "\n",
       "   FP/TP: GroupModel  TP: Individual-Model  TP: GroupModel  \\\n",
       "0              0.188                  31.0           16.00   \n",
       "1              0.095                  23.0           21.00   \n",
       "2              1.659                  53.0           44.00   \n",
       "3              0.786                  15.0           14.00   \n",
       "4              0.682                  30.5           23.75   \n",
       "\n",
       "   FP: Individual-Model  FP: GroupModel  FN: Individual-Model  FN: GroupModel  \n",
       "0                  8.00            3.00                   1.0           16.00  \n",
       "1                  3.00            2.00                   3.0            5.00  \n",
       "2                 74.00           73.00                   8.0           17.00  \n",
       "3                 30.00           11.00                   2.0            3.00  \n",
       "4                 28.75           22.25                   3.5           10.25  "
      ]
     },
     "execution_count": 113,
     "metadata": {},
     "output_type": "execute_result"
    }
   ],
   "source": [
    "pd.read_csv(\"../results/episode_metrics/\"+str(4)+\"_subjects_alldata_best_thresholds_episode_metrics.csv\")"
   ]
  },
  {
   "cell_type": "code",
   "execution_count": null,
   "metadata": {},
   "outputs": [],
   "source": []
  },
  {
   "cell_type": "code",
   "execution_count": null,
   "metadata": {},
   "outputs": [],
   "source": []
  },
  {
   "cell_type": "code",
   "execution_count": null,
   "metadata": {},
   "outputs": [],
   "source": []
  },
  {
   "cell_type": "code",
   "execution_count": 37,
   "metadata": {},
   "outputs": [],
   "source": [
    "# np.quantile(proba_df[label_df==1], q= [0.4,0.5])\n",
    "# np.histogram(proba_df[label_df==1], bins=[0.1*i for i in range(10)])\n",
    "# y, x = np.histogram(proba_df[label_df==0], bins=[0.05*i for i in range(20)])\n",
    "# y = y/(sum(y))\n",
    "# y2, x2 = np.histogram(proba_df[label_df==1], bins=[0.05*i for i in range(20)])\n",
    "# y2 = y2/(sum(y2))\n",
    "# x_axis = []\n",
    "# for i in range(1,len(x)):\n",
    "#     x_axis.append((x[i-1]+x[i])/2)\n",
    "# fig,ax = plt.subplots(1,1,figsize=(10,5))\n",
    "# # plt.plot(x=x_axis,height=y, width = 0.15)\n",
    "# # plt.plot(x=x_axis,height=y2, width = 0.15)\n",
    "# # plt.plot(x_axis, y)\n",
    "# # plt.plot(x_axis, y2)\n",
    "# plt.hist([y], bins = 20, \n",
    "#          color = ['b'], label=x_axis)\n",
    "# # x_axis,y"
   ]
  },
  {
   "cell_type": "markdown",
   "metadata": {},
   "source": [
    "## 3.3 Cross-Validation for individual model and compare with group model"
   ]
  },
  {
   "cell_type": "code",
   "execution_count": null,
   "metadata": {},
   "outputs": [],
   "source": []
  },
  {
   "cell_type": "code",
   "execution_count": null,
   "metadata": {},
   "outputs": [],
   "source": []
  },
  {
   "cell_type": "code",
   "execution_count": null,
   "metadata": {},
   "outputs": [],
   "source": []
  },
  {
   "cell_type": "code",
   "execution_count": null,
   "metadata": {},
   "outputs": [],
   "source": []
  },
  {
   "cell_type": "code",
   "execution_count": null,
   "metadata": {},
   "outputs": [],
   "source": []
  },
  {
   "cell_type": "code",
   "execution_count": null,
   "metadata": {},
   "outputs": [],
   "source": []
  },
  {
   "cell_type": "code",
   "execution_count": null,
   "metadata": {},
   "outputs": [],
   "source": []
  },
  {
   "cell_type": "markdown",
   "metadata": {},
   "source": [
    "# 4. Codes to update result tables when new data comes in"
   ]
  },
  {
   "cell_type": "code",
   "execution_count": null,
   "metadata": {},
   "outputs": [],
   "source": []
  },
  {
   "cell_type": "code",
   "execution_count": 8,
   "metadata": {},
   "outputs": [
    {
     "data": {
      "text/html": [
       "<div>\n",
       "<style scoped>\n",
       "    .dataframe tbody tr th:only-of-type {\n",
       "        vertical-align: middle;\n",
       "    }\n",
       "\n",
       "    .dataframe tbody tr th {\n",
       "        vertical-align: top;\n",
       "    }\n",
       "\n",
       "    .dataframe thead th {\n",
       "        text-align: right;\n",
       "    }\n",
       "</style>\n",
       "<table border=\"1\" class=\"dataframe\">\n",
       "  <thead>\n",
       "    <tr style=\"text-align: right;\">\n",
       "      <th></th>\n",
       "      <th>dataset</th>\n",
       "      <th>Days</th>\n",
       "      <th>Meal_Hours</th>\n",
       "      <th>Meal_Counts</th>\n",
       "      <th>win(sec)</th>\n",
       "      <th>TPR: Individual-Model</th>\n",
       "      <th>TPR: GroupModel</th>\n",
       "      <th>FP/TP: Individual-Model</th>\n",
       "      <th>FP/TP: GroupModel</th>\n",
       "      <th>TP: Individual-Model</th>\n",
       "      <th>TP: GroupModel</th>\n",
       "      <th>FP: Individual-Model</th>\n",
       "      <th>FP: GroupModel</th>\n",
       "      <th>FN: Individual-Model</th>\n",
       "      <th>FN: GroupModel</th>\n",
       "    </tr>\n",
       "  </thead>\n",
       "  <tbody>\n",
       "    <tr>\n",
       "      <th>0</th>\n",
       "      <td>wenkanw</td>\n",
       "      <td>17</td>\n",
       "      <td>7</td>\n",
       "      <td>32</td>\n",
       "      <td>360</td>\n",
       "      <td>0.968750</td>\n",
       "      <td>0.625000</td>\n",
       "      <td>0.516129</td>\n",
       "      <td>0.300000</td>\n",
       "      <td>31.00</td>\n",
       "      <td>20.0</td>\n",
       "      <td>16.00</td>\n",
       "      <td>6.0</td>\n",
       "      <td>1.00</td>\n",
       "      <td>12.0</td>\n",
       "    </tr>\n",
       "    <tr>\n",
       "      <th>1</th>\n",
       "      <td>adam</td>\n",
       "      <td>20</td>\n",
       "      <td>4</td>\n",
       "      <td>36</td>\n",
       "      <td>360</td>\n",
       "      <td>0.861111</td>\n",
       "      <td>0.666667</td>\n",
       "      <td>1.129032</td>\n",
       "      <td>0.541667</td>\n",
       "      <td>31.00</td>\n",
       "      <td>24.0</td>\n",
       "      <td>35.00</td>\n",
       "      <td>13.0</td>\n",
       "      <td>5.00</td>\n",
       "      <td>12.0</td>\n",
       "    </tr>\n",
       "    <tr>\n",
       "      <th>2</th>\n",
       "      <td>lawler</td>\n",
       "      <td>23</td>\n",
       "      <td>25</td>\n",
       "      <td>61</td>\n",
       "      <td>360</td>\n",
       "      <td>0.442623</td>\n",
       "      <td>0.327869</td>\n",
       "      <td>0.962963</td>\n",
       "      <td>2.600000</td>\n",
       "      <td>27.00</td>\n",
       "      <td>20.0</td>\n",
       "      <td>26.00</td>\n",
       "      <td>52.0</td>\n",
       "      <td>34.00</td>\n",
       "      <td>41.0</td>\n",
       "    </tr>\n",
       "    <tr>\n",
       "      <th>3</th>\n",
       "      <td>shaurya</td>\n",
       "      <td>6</td>\n",
       "      <td>3</td>\n",
       "      <td>17</td>\n",
       "      <td>360</td>\n",
       "      <td>0.823529</td>\n",
       "      <td>0.823529</td>\n",
       "      <td>2.142857</td>\n",
       "      <td>0.642857</td>\n",
       "      <td>14.00</td>\n",
       "      <td>14.0</td>\n",
       "      <td>30.00</td>\n",
       "      <td>9.0</td>\n",
       "      <td>3.00</td>\n",
       "      <td>3.0</td>\n",
       "    </tr>\n",
       "    <tr>\n",
       "      <th>4</th>\n",
       "      <td>average performance</td>\n",
       "      <td>-</td>\n",
       "      <td>-</td>\n",
       "      <td>-</td>\n",
       "      <td>-</td>\n",
       "      <td>0.774003</td>\n",
       "      <td>0.610766</td>\n",
       "      <td>1.187745</td>\n",
       "      <td>1.021131</td>\n",
       "      <td>25.75</td>\n",
       "      <td>19.5</td>\n",
       "      <td>26.75</td>\n",
       "      <td>20.0</td>\n",
       "      <td>10.75</td>\n",
       "      <td>17.0</td>\n",
       "    </tr>\n",
       "  </tbody>\n",
       "</table>\n",
       "</div>"
      ],
      "text/plain": [
       "               dataset Days Meal_Hours Meal_Counts win(sec)  \\\n",
       "0              wenkanw   17          7          32      360   \n",
       "1                 adam   20          4          36      360   \n",
       "2               lawler   23         25          61      360   \n",
       "3              shaurya    6          3          17      360   \n",
       "4  average performance    -          -           -        -   \n",
       "\n",
       "   TPR: Individual-Model  TPR: GroupModel  FP/TP: Individual-Model  \\\n",
       "0               0.968750         0.625000                 0.516129   \n",
       "1               0.861111         0.666667                 1.129032   \n",
       "2               0.442623         0.327869                 0.962963   \n",
       "3               0.823529         0.823529                 2.142857   \n",
       "4               0.774003         0.610766                 1.187745   \n",
       "\n",
       "   FP/TP: GroupModel  TP: Individual-Model  TP: GroupModel  \\\n",
       "0           0.300000                 31.00            20.0   \n",
       "1           0.541667                 31.00            24.0   \n",
       "2           2.600000                 27.00            20.0   \n",
       "3           0.642857                 14.00            14.0   \n",
       "4           1.021131                 25.75            19.5   \n",
       "\n",
       "   FP: Individual-Model  FP: GroupModel  FN: Individual-Model  FN: GroupModel  \n",
       "0                 16.00             6.0                  1.00            12.0  \n",
       "1                 35.00            13.0                  5.00            12.0  \n",
       "2                 26.00            52.0                 34.00            41.0  \n",
       "3                 30.00             9.0                  3.00             3.0  \n",
       "4                 26.75            20.0                 10.75            17.0  "
      ]
     },
     "execution_count": 8,
     "metadata": {},
     "output_type": "execute_result"
    }
   ],
   "source": [
    "all_data_episode_df = pd.read_csv(\"../results/episode_metrics/\"+str(5)+\"_subjects_alldata_episode_metrics.csv\", index_col=0)\n",
    "all_data_episode_df"
   ]
  },
  {
   "cell_type": "code",
   "execution_count": 9,
   "metadata": {},
   "outputs": [
    {
     "data": {
      "text/html": [
       "<div>\n",
       "<style scoped>\n",
       "    .dataframe tbody tr th:only-of-type {\n",
       "        vertical-align: middle;\n",
       "    }\n",
       "\n",
       "    .dataframe tbody tr th {\n",
       "        vertical-align: top;\n",
       "    }\n",
       "\n",
       "    .dataframe thead th {\n",
       "        text-align: right;\n",
       "    }\n",
       "</style>\n",
       "<table border=\"1\" class=\"dataframe\">\n",
       "  <thead>\n",
       "    <tr style=\"text-align: right;\">\n",
       "      <th></th>\n",
       "      <th>dataset</th>\n",
       "      <th>Days</th>\n",
       "      <th>Meal_Hours</th>\n",
       "      <th>Meal_Counts</th>\n",
       "      <th>win(sec)</th>\n",
       "      <th>TPR: Individual-Model</th>\n",
       "      <th>TPR: GroupModel</th>\n",
       "      <th>FP/TP: Individual-Model</th>\n",
       "      <th>FP/TP: GroupModel</th>\n",
       "      <th>TP: Individual-Model</th>\n",
       "      <th>TP: GroupModel</th>\n",
       "      <th>FP: Individual-Model</th>\n",
       "      <th>FP: GroupModel</th>\n",
       "      <th>FN: Individual-Model</th>\n",
       "      <th>FN: GroupModel</th>\n",
       "    </tr>\n",
       "  </thead>\n",
       "  <tbody>\n",
       "    <tr>\n",
       "      <th>0</th>\n",
       "      <td>wenkanw</td>\n",
       "      <td>3</td>\n",
       "      <td>1</td>\n",
       "      <td>6</td>\n",
       "      <td>360</td>\n",
       "      <td>1.000000</td>\n",
       "      <td>0.500000</td>\n",
       "      <td>1.166667</td>\n",
       "      <td>0.666667</td>\n",
       "      <td>6.00</td>\n",
       "      <td>3.00</td>\n",
       "      <td>7.00</td>\n",
       "      <td>2.0</td>\n",
       "      <td>0.00</td>\n",
       "      <td>3.00</td>\n",
       "    </tr>\n",
       "    <tr>\n",
       "      <th>1</th>\n",
       "      <td>adam</td>\n",
       "      <td>4</td>\n",
       "      <td>1</td>\n",
       "      <td>10</td>\n",
       "      <td>360</td>\n",
       "      <td>0.900000</td>\n",
       "      <td>0.900000</td>\n",
       "      <td>0.333333</td>\n",
       "      <td>0.222222</td>\n",
       "      <td>9.00</td>\n",
       "      <td>9.00</td>\n",
       "      <td>3.00</td>\n",
       "      <td>2.0</td>\n",
       "      <td>1.00</td>\n",
       "      <td>1.00</td>\n",
       "    </tr>\n",
       "    <tr>\n",
       "      <th>2</th>\n",
       "      <td>lawler</td>\n",
       "      <td>4</td>\n",
       "      <td>1</td>\n",
       "      <td>11</td>\n",
       "      <td>360</td>\n",
       "      <td>0.454545</td>\n",
       "      <td>0.363636</td>\n",
       "      <td>0.800000</td>\n",
       "      <td>3.750000</td>\n",
       "      <td>5.00</td>\n",
       "      <td>4.00</td>\n",
       "      <td>4.00</td>\n",
       "      <td>15.0</td>\n",
       "      <td>6.00</td>\n",
       "      <td>7.00</td>\n",
       "    </tr>\n",
       "    <tr>\n",
       "      <th>3</th>\n",
       "      <td>shaurya</td>\n",
       "      <td>1</td>\n",
       "      <td>0</td>\n",
       "      <td>3</td>\n",
       "      <td>360</td>\n",
       "      <td>0.333333</td>\n",
       "      <td>0.333333</td>\n",
       "      <td>3.000000</td>\n",
       "      <td>1.000000</td>\n",
       "      <td>1.00</td>\n",
       "      <td>1.00</td>\n",
       "      <td>3.00</td>\n",
       "      <td>1.0</td>\n",
       "      <td>2.00</td>\n",
       "      <td>2.00</td>\n",
       "    </tr>\n",
       "    <tr>\n",
       "      <th>4</th>\n",
       "      <td>average performance</td>\n",
       "      <td>-</td>\n",
       "      <td>-</td>\n",
       "      <td>-</td>\n",
       "      <td>-</td>\n",
       "      <td>0.671970</td>\n",
       "      <td>0.524242</td>\n",
       "      <td>1.325000</td>\n",
       "      <td>1.409722</td>\n",
       "      <td>5.25</td>\n",
       "      <td>4.25</td>\n",
       "      <td>4.25</td>\n",
       "      <td>5.0</td>\n",
       "      <td>2.25</td>\n",
       "      <td>3.25</td>\n",
       "    </tr>\n",
       "  </tbody>\n",
       "</table>\n",
       "</div>"
      ],
      "text/plain": [
       "               dataset Days Meal_Hours Meal_Counts win(sec)  \\\n",
       "0              wenkanw    3          1           6      360   \n",
       "1                 adam    4          1          10      360   \n",
       "2               lawler    4          1          11      360   \n",
       "3              shaurya    1          0           3      360   \n",
       "4  average performance    -          -           -        -   \n",
       "\n",
       "   TPR: Individual-Model  TPR: GroupModel  FP/TP: Individual-Model  \\\n",
       "0               1.000000         0.500000                 1.166667   \n",
       "1               0.900000         0.900000                 0.333333   \n",
       "2               0.454545         0.363636                 0.800000   \n",
       "3               0.333333         0.333333                 3.000000   \n",
       "4               0.671970         0.524242                 1.325000   \n",
       "\n",
       "   FP/TP: GroupModel  TP: Individual-Model  TP: GroupModel  \\\n",
       "0           0.666667                  6.00            3.00   \n",
       "1           0.222222                  9.00            9.00   \n",
       "2           3.750000                  5.00            4.00   \n",
       "3           1.000000                  1.00            1.00   \n",
       "4           1.409722                  5.25            4.25   \n",
       "\n",
       "   FP: Individual-Model  FP: GroupModel  FN: Individual-Model  FN: GroupModel  \n",
       "0                  7.00             2.0                  0.00            3.00  \n",
       "1                  3.00             2.0                  1.00            1.00  \n",
       "2                  4.00            15.0                  6.00            7.00  \n",
       "3                  3.00             1.0                  2.00            2.00  \n",
       "4                  4.25             5.0                  2.25            3.25  "
      ]
     },
     "execution_count": 9,
     "metadata": {},
     "output_type": "execute_result"
    }
   ],
   "source": [
    "test_data_episode_df = pd.read_csv(\"../results/episode_metrics/\"+str(5)+\"_subjects_testset_episode_metrics.csv\", index_col=0)\n",
    "test_data_episode_df"
   ]
  },
  {
   "cell_type": "code",
   "execution_count": 12,
   "metadata": {},
   "outputs": [
    {
     "data": {
      "text/html": [
       "<div>\n",
       "<style scoped>\n",
       "    .dataframe tbody tr th:only-of-type {\n",
       "        vertical-align: middle;\n",
       "    }\n",
       "\n",
       "    .dataframe tbody tr th {\n",
       "        vertical-align: top;\n",
       "    }\n",
       "\n",
       "    .dataframe thead th {\n",
       "        text-align: right;\n",
       "    }\n",
       "</style>\n",
       "<table border=\"1\" class=\"dataframe\">\n",
       "  <thead>\n",
       "    <tr style=\"text-align: right;\">\n",
       "      <th></th>\n",
       "      <th>dataset</th>\n",
       "      <th>win(sec)</th>\n",
       "      <th>WAcc: Individual-Model</th>\n",
       "      <th>WAcc2: Individual-Model</th>\n",
       "      <th>WAcc: GroupModel</th>\n",
       "      <th>WAcc2: GroupModel</th>\n",
       "      <th>F1: Individual-Model</th>\n",
       "      <th>F1: GroupModel</th>\n",
       "      <th>Precision: Individual-Model</th>\n",
       "      <th>Precision: GroupModel</th>\n",
       "      <th>Recall: Individual-Model</th>\n",
       "      <th>Recall: GroupModel</th>\n",
       "      <th>Acc: Individual-Model</th>\n",
       "      <th>Acc: GroupModel</th>\n",
       "    </tr>\n",
       "  </thead>\n",
       "  <tbody>\n",
       "    <tr>\n",
       "      <th>0</th>\n",
       "      <td>wenkanw</td>\n",
       "      <td>360</td>\n",
       "      <td>0.939187</td>\n",
       "      <td>0.937730</td>\n",
       "      <td>0.772348</td>\n",
       "      <td>0.756444</td>\n",
       "      <td>0.688670</td>\n",
       "      <td>0.412341</td>\n",
       "      <td>0.547916</td>\n",
       "      <td>0.304958</td>\n",
       "      <td>0.926740</td>\n",
       "      <td>0.636447</td>\n",
       "      <td>0.950153</td>\n",
       "      <td>0.892079</td>\n",
       "    </tr>\n",
       "    <tr>\n",
       "      <th>1</th>\n",
       "      <td>adam</td>\n",
       "      <td>360</td>\n",
       "      <td>0.902165</td>\n",
       "      <td>0.908773</td>\n",
       "      <td>0.809033</td>\n",
       "      <td>0.848166</td>\n",
       "      <td>0.382878</td>\n",
       "      <td>0.366316</td>\n",
       "      <td>0.244722</td>\n",
       "      <td>0.251591</td>\n",
       "      <td>0.879257</td>\n",
       "      <td>0.673375</td>\n",
       "      <td>0.923842</td>\n",
       "      <td>0.937401</td>\n",
       "    </tr>\n",
       "    <tr>\n",
       "      <th>2</th>\n",
       "      <td>lawler</td>\n",
       "      <td>360</td>\n",
       "      <td>0.828150</td>\n",
       "      <td>0.824283</td>\n",
       "      <td>0.582574</td>\n",
       "      <td>0.588305</td>\n",
       "      <td>0.239543</td>\n",
       "      <td>0.118566</td>\n",
       "      <td>0.137641</td>\n",
       "      <td>0.068451</td>\n",
       "      <td>0.922562</td>\n",
       "      <td>0.442639</td>\n",
       "      <td>0.742054</td>\n",
       "      <td>0.710184</td>\n",
       "    </tr>\n",
       "    <tr>\n",
       "      <th>3</th>\n",
       "      <td>shaurya</td>\n",
       "      <td>360</td>\n",
       "      <td>0.835868</td>\n",
       "      <td>0.835849</td>\n",
       "      <td>0.759082</td>\n",
       "      <td>0.741328</td>\n",
       "      <td>0.378641</td>\n",
       "      <td>0.398369</td>\n",
       "      <td>0.244770</td>\n",
       "      <td>0.295592</td>\n",
       "      <td>0.835714</td>\n",
       "      <td>0.610714</td>\n",
       "      <td>0.836003</td>\n",
       "      <td>0.889707</td>\n",
       "    </tr>\n",
       "    <tr>\n",
       "      <th>4</th>\n",
       "      <td>average performance</td>\n",
       "      <td>-</td>\n",
       "      <td>0.876342</td>\n",
       "      <td>0.876659</td>\n",
       "      <td>0.730759</td>\n",
       "      <td>0.733561</td>\n",
       "      <td>0.422433</td>\n",
       "      <td>0.323898</td>\n",
       "      <td>0.293762</td>\n",
       "      <td>0.230148</td>\n",
       "      <td>0.891068</td>\n",
       "      <td>0.590794</td>\n",
       "      <td>0.863013</td>\n",
       "      <td>0.857343</td>\n",
       "    </tr>\n",
       "  </tbody>\n",
       "</table>\n",
       "</div>"
      ],
      "text/plain": [
       "               dataset win(sec)  WAcc: Individual-Model  \\\n",
       "0              wenkanw      360                0.939187   \n",
       "1                 adam      360                0.902165   \n",
       "2               lawler      360                0.828150   \n",
       "3              shaurya      360                0.835868   \n",
       "4  average performance        -                0.876342   \n",
       "\n",
       "   WAcc2: Individual-Model  WAcc: GroupModel  WAcc2: GroupModel  \\\n",
       "0                 0.937730          0.772348           0.756444   \n",
       "1                 0.908773          0.809033           0.848166   \n",
       "2                 0.824283          0.582574           0.588305   \n",
       "3                 0.835849          0.759082           0.741328   \n",
       "4                 0.876659          0.730759           0.733561   \n",
       "\n",
       "   F1: Individual-Model  F1: GroupModel  Precision: Individual-Model  \\\n",
       "0              0.688670        0.412341                     0.547916   \n",
       "1              0.382878        0.366316                     0.244722   \n",
       "2              0.239543        0.118566                     0.137641   \n",
       "3              0.378641        0.398369                     0.244770   \n",
       "4              0.422433        0.323898                     0.293762   \n",
       "\n",
       "   Precision: GroupModel  Recall: Individual-Model  Recall: GroupModel  \\\n",
       "0               0.304958                  0.926740            0.636447   \n",
       "1               0.251591                  0.879257            0.673375   \n",
       "2               0.068451                  0.922562            0.442639   \n",
       "3               0.295592                  0.835714            0.610714   \n",
       "4               0.230148                  0.891068            0.590794   \n",
       "\n",
       "   Acc: Individual-Model  Acc: GroupModel  \n",
       "0               0.950153         0.892079  \n",
       "1               0.923842         0.937401  \n",
       "2               0.742054         0.710184  \n",
       "3               0.836003         0.889707  \n",
       "4               0.863013         0.857343  "
      ]
     },
     "execution_count": 12,
     "metadata": {},
     "output_type": "execute_result"
    }
   ],
   "source": [
    "path = \"../results/time_metrics/\" +str(4)+\"people_individuals_group_comparison.csv\"\n",
    "time_metrics = pd.read_csv(path,index_col=0)\n",
    "time_metrics"
   ]
  },
  {
   "cell_type": "code",
   "execution_count": 14,
   "metadata": {},
   "outputs": [],
   "source": [
    "partial_time_metrics = time_metrics[['dataset','win(sec)','WAcc: Individual-Model','WAcc2: Individual-Model','WAcc: GroupModel','WAcc2: GroupModel']]\n"
   ]
  },
  {
   "cell_type": "code",
   "execution_count": 20,
   "metadata": {},
   "outputs": [],
   "source": [
    "partial_time_metrics.to_csv(\"../results/time_metrics/4_subjects_individuals_group_comparison_time_metrics.csv\",index=False)\n"
   ]
  },
  {
   "cell_type": "code",
   "execution_count": 21,
   "metadata": {},
   "outputs": [
    {
     "data": {
      "text/html": [
       "<div>\n",
       "<style scoped>\n",
       "    .dataframe tbody tr th:only-of-type {\n",
       "        vertical-align: middle;\n",
       "    }\n",
       "\n",
       "    .dataframe tbody tr th {\n",
       "        vertical-align: top;\n",
       "    }\n",
       "\n",
       "    .dataframe thead th {\n",
       "        text-align: right;\n",
       "    }\n",
       "</style>\n",
       "<table border=\"1\" class=\"dataframe\">\n",
       "  <thead>\n",
       "    <tr style=\"text-align: right;\">\n",
       "      <th></th>\n",
       "      <th>dataset</th>\n",
       "      <th>win(sec)</th>\n",
       "      <th>WAcc: Individual-Model</th>\n",
       "      <th>WAcc2: Individual-Model</th>\n",
       "      <th>WAcc: GroupModel</th>\n",
       "      <th>WAcc2: GroupModel</th>\n",
       "    </tr>\n",
       "  </thead>\n",
       "  <tbody>\n",
       "    <tr>\n",
       "      <th>0</th>\n",
       "      <td>wenkanw</td>\n",
       "      <td>360</td>\n",
       "      <td>0.939187</td>\n",
       "      <td>0.937730</td>\n",
       "      <td>0.772348</td>\n",
       "      <td>0.756444</td>\n",
       "    </tr>\n",
       "    <tr>\n",
       "      <th>1</th>\n",
       "      <td>adam</td>\n",
       "      <td>360</td>\n",
       "      <td>0.902165</td>\n",
       "      <td>0.908773</td>\n",
       "      <td>0.809033</td>\n",
       "      <td>0.848166</td>\n",
       "    </tr>\n",
       "    <tr>\n",
       "      <th>2</th>\n",
       "      <td>lawler</td>\n",
       "      <td>360</td>\n",
       "      <td>0.828150</td>\n",
       "      <td>0.824283</td>\n",
       "      <td>0.582574</td>\n",
       "      <td>0.588305</td>\n",
       "    </tr>\n",
       "    <tr>\n",
       "      <th>3</th>\n",
       "      <td>shaurya</td>\n",
       "      <td>360</td>\n",
       "      <td>0.835868</td>\n",
       "      <td>0.835849</td>\n",
       "      <td>0.759082</td>\n",
       "      <td>0.741328</td>\n",
       "    </tr>\n",
       "    <tr>\n",
       "      <th>4</th>\n",
       "      <td>average performance</td>\n",
       "      <td>-</td>\n",
       "      <td>0.876342</td>\n",
       "      <td>0.876659</td>\n",
       "      <td>0.730759</td>\n",
       "      <td>0.733561</td>\n",
       "    </tr>\n",
       "  </tbody>\n",
       "</table>\n",
       "</div>"
      ],
      "text/plain": [
       "               dataset win(sec)  WAcc: Individual-Model  \\\n",
       "0              wenkanw      360                0.939187   \n",
       "1                 adam      360                0.902165   \n",
       "2               lawler      360                0.828150   \n",
       "3              shaurya      360                0.835868   \n",
       "4  average performance        -                0.876342   \n",
       "\n",
       "   WAcc2: Individual-Model  WAcc: GroupModel  WAcc2: GroupModel  \n",
       "0                 0.937730          0.772348           0.756444  \n",
       "1                 0.908773          0.809033           0.848166  \n",
       "2                 0.824283          0.582574           0.588305  \n",
       "3                 0.835849          0.759082           0.741328  \n",
       "4                 0.876659          0.730759           0.733561  "
      ]
     },
     "execution_count": 21,
     "metadata": {},
     "output_type": "execute_result"
    }
   ],
   "source": [
    "pd.read_csv(\"../results/time_metrics/4_subjects_individuals_group_comparison_time_metrics.csv\")"
   ]
  },
  {
   "cell_type": "code",
   "execution_count": 23,
   "metadata": {},
   "outputs": [],
   "source": [
    "all_data_episode_df.to_csv(\"../results/episode_metrics/4_subjects_all_days_episode_metrics.csv\",index=False)"
   ]
  },
  {
   "cell_type": "code",
   "execution_count": 25,
   "metadata": {},
   "outputs": [],
   "source": [
    "test_data_episode_df.to_csv(\"../results/episode_metrics/4_subjects_testset_episode_metrics.csv\",index=False)"
   ]
  },
  {
   "cell_type": "code",
   "execution_count": 27,
   "metadata": {},
   "outputs": [
    {
     "data": {
      "text/html": [
       "<div>\n",
       "<style scoped>\n",
       "    .dataframe tbody tr th:only-of-type {\n",
       "        vertical-align: middle;\n",
       "    }\n",
       "\n",
       "    .dataframe tbody tr th {\n",
       "        vertical-align: top;\n",
       "    }\n",
       "\n",
       "    .dataframe thead th {\n",
       "        text-align: right;\n",
       "    }\n",
       "</style>\n",
       "<table border=\"1\" class=\"dataframe\">\n",
       "  <thead>\n",
       "    <tr style=\"text-align: right;\">\n",
       "      <th></th>\n",
       "      <th>dataset</th>\n",
       "      <th>Days</th>\n",
       "      <th>Meal_Hours</th>\n",
       "      <th>Meal_Counts</th>\n",
       "      <th>win(sec)</th>\n",
       "      <th>TPR: Individual-Model</th>\n",
       "      <th>TPR: GroupModel</th>\n",
       "      <th>FP/TP: Individual-Model</th>\n",
       "      <th>FP/TP: GroupModel</th>\n",
       "      <th>TP: Individual-Model</th>\n",
       "      <th>TP: GroupModel</th>\n",
       "      <th>FP: Individual-Model</th>\n",
       "      <th>FP: GroupModel</th>\n",
       "      <th>FN: Individual-Model</th>\n",
       "      <th>FN: GroupModel</th>\n",
       "    </tr>\n",
       "  </thead>\n",
       "  <tbody>\n",
       "    <tr>\n",
       "      <th>0</th>\n",
       "      <td>wenkanw</td>\n",
       "      <td>3</td>\n",
       "      <td>1</td>\n",
       "      <td>6</td>\n",
       "      <td>360</td>\n",
       "      <td>1.000000</td>\n",
       "      <td>0.500000</td>\n",
       "      <td>1.166667</td>\n",
       "      <td>0.666667</td>\n",
       "      <td>6.00</td>\n",
       "      <td>3.00</td>\n",
       "      <td>7.00</td>\n",
       "      <td>2.0</td>\n",
       "      <td>0.00</td>\n",
       "      <td>3.00</td>\n",
       "    </tr>\n",
       "    <tr>\n",
       "      <th>1</th>\n",
       "      <td>adam</td>\n",
       "      <td>4</td>\n",
       "      <td>1</td>\n",
       "      <td>10</td>\n",
       "      <td>360</td>\n",
       "      <td>0.900000</td>\n",
       "      <td>0.900000</td>\n",
       "      <td>0.333333</td>\n",
       "      <td>0.222222</td>\n",
       "      <td>9.00</td>\n",
       "      <td>9.00</td>\n",
       "      <td>3.00</td>\n",
       "      <td>2.0</td>\n",
       "      <td>1.00</td>\n",
       "      <td>1.00</td>\n",
       "    </tr>\n",
       "    <tr>\n",
       "      <th>2</th>\n",
       "      <td>lawler</td>\n",
       "      <td>4</td>\n",
       "      <td>1</td>\n",
       "      <td>11</td>\n",
       "      <td>360</td>\n",
       "      <td>0.454545</td>\n",
       "      <td>0.363636</td>\n",
       "      <td>0.800000</td>\n",
       "      <td>3.750000</td>\n",
       "      <td>5.00</td>\n",
       "      <td>4.00</td>\n",
       "      <td>4.00</td>\n",
       "      <td>15.0</td>\n",
       "      <td>6.00</td>\n",
       "      <td>7.00</td>\n",
       "    </tr>\n",
       "    <tr>\n",
       "      <th>3</th>\n",
       "      <td>shaurya</td>\n",
       "      <td>1</td>\n",
       "      <td>0</td>\n",
       "      <td>3</td>\n",
       "      <td>360</td>\n",
       "      <td>0.333333</td>\n",
       "      <td>0.333333</td>\n",
       "      <td>3.000000</td>\n",
       "      <td>1.000000</td>\n",
       "      <td>1.00</td>\n",
       "      <td>1.00</td>\n",
       "      <td>3.00</td>\n",
       "      <td>1.0</td>\n",
       "      <td>2.00</td>\n",
       "      <td>2.00</td>\n",
       "    </tr>\n",
       "    <tr>\n",
       "      <th>4</th>\n",
       "      <td>average performance</td>\n",
       "      <td>-</td>\n",
       "      <td>-</td>\n",
       "      <td>-</td>\n",
       "      <td>-</td>\n",
       "      <td>0.671970</td>\n",
       "      <td>0.524242</td>\n",
       "      <td>1.325000</td>\n",
       "      <td>1.409722</td>\n",
       "      <td>5.25</td>\n",
       "      <td>4.25</td>\n",
       "      <td>4.25</td>\n",
       "      <td>5.0</td>\n",
       "      <td>2.25</td>\n",
       "      <td>3.25</td>\n",
       "    </tr>\n",
       "  </tbody>\n",
       "</table>\n",
       "</div>"
      ],
      "text/plain": [
       "               dataset Days Meal_Hours Meal_Counts win(sec)  \\\n",
       "0              wenkanw    3          1           6      360   \n",
       "1                 adam    4          1          10      360   \n",
       "2               lawler    4          1          11      360   \n",
       "3              shaurya    1          0           3      360   \n",
       "4  average performance    -          -           -        -   \n",
       "\n",
       "   TPR: Individual-Model  TPR: GroupModel  FP/TP: Individual-Model  \\\n",
       "0               1.000000         0.500000                 1.166667   \n",
       "1               0.900000         0.900000                 0.333333   \n",
       "2               0.454545         0.363636                 0.800000   \n",
       "3               0.333333         0.333333                 3.000000   \n",
       "4               0.671970         0.524242                 1.325000   \n",
       "\n",
       "   FP/TP: GroupModel  TP: Individual-Model  TP: GroupModel  \\\n",
       "0           0.666667                  6.00            3.00   \n",
       "1           0.222222                  9.00            9.00   \n",
       "2           3.750000                  5.00            4.00   \n",
       "3           1.000000                  1.00            1.00   \n",
       "4           1.409722                  5.25            4.25   \n",
       "\n",
       "   FP: Individual-Model  FP: GroupModel  FN: Individual-Model  FN: GroupModel  \n",
       "0                  7.00             2.0                  0.00            3.00  \n",
       "1                  3.00             2.0                  1.00            1.00  \n",
       "2                  4.00            15.0                  6.00            7.00  \n",
       "3                  3.00             1.0                  2.00            2.00  \n",
       "4                  4.25             5.0                  2.25            3.25  "
      ]
     },
     "execution_count": 27,
     "metadata": {},
     "output_type": "execute_result"
    }
   ],
   "source": [
    "pd.read_csv(\"../results/episode_metrics/4_subjects_testset_episode_metrics.csv\")"
   ]
  },
  {
   "cell_type": "code",
   "execution_count": 28,
   "metadata": {},
   "outputs": [
    {
     "data": {
      "text/html": [
       "<div>\n",
       "<style scoped>\n",
       "    .dataframe tbody tr th:only-of-type {\n",
       "        vertical-align: middle;\n",
       "    }\n",
       "\n",
       "    .dataframe tbody tr th {\n",
       "        vertical-align: top;\n",
       "    }\n",
       "\n",
       "    .dataframe thead th {\n",
       "        text-align: right;\n",
       "    }\n",
       "</style>\n",
       "<table border=\"1\" class=\"dataframe\">\n",
       "  <thead>\n",
       "    <tr style=\"text-align: right;\">\n",
       "      <th></th>\n",
       "      <th>dataset</th>\n",
       "      <th>Days</th>\n",
       "      <th>Meal_Hours</th>\n",
       "      <th>Meal_Counts</th>\n",
       "      <th>win(sec)</th>\n",
       "      <th>TPR: Individual-Model</th>\n",
       "      <th>TPR: GroupModel</th>\n",
       "      <th>FP/TP: Individual-Model</th>\n",
       "      <th>FP/TP: GroupModel</th>\n",
       "      <th>TP: Individual-Model</th>\n",
       "      <th>TP: GroupModel</th>\n",
       "      <th>FP: Individual-Model</th>\n",
       "      <th>FP: GroupModel</th>\n",
       "      <th>FN: Individual-Model</th>\n",
       "      <th>FN: GroupModel</th>\n",
       "    </tr>\n",
       "  </thead>\n",
       "  <tbody>\n",
       "    <tr>\n",
       "      <th>0</th>\n",
       "      <td>wenkanw</td>\n",
       "      <td>17</td>\n",
       "      <td>7</td>\n",
       "      <td>32</td>\n",
       "      <td>360</td>\n",
       "      <td>0.968750</td>\n",
       "      <td>0.625000</td>\n",
       "      <td>0.516129</td>\n",
       "      <td>0.300000</td>\n",
       "      <td>31.00</td>\n",
       "      <td>20.0</td>\n",
       "      <td>16.00</td>\n",
       "      <td>6.0</td>\n",
       "      <td>1.00</td>\n",
       "      <td>12.0</td>\n",
       "    </tr>\n",
       "    <tr>\n",
       "      <th>1</th>\n",
       "      <td>adam</td>\n",
       "      <td>20</td>\n",
       "      <td>4</td>\n",
       "      <td>36</td>\n",
       "      <td>360</td>\n",
       "      <td>0.861111</td>\n",
       "      <td>0.666667</td>\n",
       "      <td>1.129032</td>\n",
       "      <td>0.541667</td>\n",
       "      <td>31.00</td>\n",
       "      <td>24.0</td>\n",
       "      <td>35.00</td>\n",
       "      <td>13.0</td>\n",
       "      <td>5.00</td>\n",
       "      <td>12.0</td>\n",
       "    </tr>\n",
       "    <tr>\n",
       "      <th>2</th>\n",
       "      <td>lawler</td>\n",
       "      <td>23</td>\n",
       "      <td>25</td>\n",
       "      <td>61</td>\n",
       "      <td>360</td>\n",
       "      <td>0.442623</td>\n",
       "      <td>0.327869</td>\n",
       "      <td>0.962963</td>\n",
       "      <td>2.600000</td>\n",
       "      <td>27.00</td>\n",
       "      <td>20.0</td>\n",
       "      <td>26.00</td>\n",
       "      <td>52.0</td>\n",
       "      <td>34.00</td>\n",
       "      <td>41.0</td>\n",
       "    </tr>\n",
       "    <tr>\n",
       "      <th>3</th>\n",
       "      <td>shaurya</td>\n",
       "      <td>6</td>\n",
       "      <td>3</td>\n",
       "      <td>17</td>\n",
       "      <td>360</td>\n",
       "      <td>0.823529</td>\n",
       "      <td>0.823529</td>\n",
       "      <td>2.142857</td>\n",
       "      <td>0.642857</td>\n",
       "      <td>14.00</td>\n",
       "      <td>14.0</td>\n",
       "      <td>30.00</td>\n",
       "      <td>9.0</td>\n",
       "      <td>3.00</td>\n",
       "      <td>3.0</td>\n",
       "    </tr>\n",
       "    <tr>\n",
       "      <th>4</th>\n",
       "      <td>average performance</td>\n",
       "      <td>-</td>\n",
       "      <td>-</td>\n",
       "      <td>-</td>\n",
       "      <td>-</td>\n",
       "      <td>0.774003</td>\n",
       "      <td>0.610766</td>\n",
       "      <td>1.187745</td>\n",
       "      <td>1.021131</td>\n",
       "      <td>25.75</td>\n",
       "      <td>19.5</td>\n",
       "      <td>26.75</td>\n",
       "      <td>20.0</td>\n",
       "      <td>10.75</td>\n",
       "      <td>17.0</td>\n",
       "    </tr>\n",
       "  </tbody>\n",
       "</table>\n",
       "</div>"
      ],
      "text/plain": [
       "               dataset Days Meal_Hours Meal_Counts win(sec)  \\\n",
       "0              wenkanw   17          7          32      360   \n",
       "1                 adam   20          4          36      360   \n",
       "2               lawler   23         25          61      360   \n",
       "3              shaurya    6          3          17      360   \n",
       "4  average performance    -          -           -        -   \n",
       "\n",
       "   TPR: Individual-Model  TPR: GroupModel  FP/TP: Individual-Model  \\\n",
       "0               0.968750         0.625000                 0.516129   \n",
       "1               0.861111         0.666667                 1.129032   \n",
       "2               0.442623         0.327869                 0.962963   \n",
       "3               0.823529         0.823529                 2.142857   \n",
       "4               0.774003         0.610766                 1.187745   \n",
       "\n",
       "   FP/TP: GroupModel  TP: Individual-Model  TP: GroupModel  \\\n",
       "0           0.300000                 31.00            20.0   \n",
       "1           0.541667                 31.00            24.0   \n",
       "2           2.600000                 27.00            20.0   \n",
       "3           0.642857                 14.00            14.0   \n",
       "4           1.021131                 25.75            19.5   \n",
       "\n",
       "   FP: Individual-Model  FP: GroupModel  FN: Individual-Model  FN: GroupModel  \n",
       "0                 16.00             6.0                  1.00            12.0  \n",
       "1                 35.00            13.0                  5.00            12.0  \n",
       "2                 26.00            52.0                 34.00            41.0  \n",
       "3                 30.00             9.0                  3.00             3.0  \n",
       "4                 26.75            20.0                 10.75            17.0  "
      ]
     },
     "execution_count": 28,
     "metadata": {},
     "output_type": "execute_result"
    }
   ],
   "source": [
    "pd.read_csv(\"../results/episode_metrics/4_subjects_all_days_episode_metrics.csv\")"
   ]
  },
  {
   "cell_type": "code",
   "execution_count": 178,
   "metadata": {},
   "outputs": [],
   "source": [
    "# meal_data = Person_MealsDataset(person_name= 'wenkanw', file_name = \"all_files_list\", winmin = 6,stridesec = 5,smooth_flag = 1,\n",
    "#                  normalize_flag = 1)\n",
    "# meal_counts, min_counts,hour_counts, day_counts,total_hours = meal_data.get_mealdataset_info()\n",
    "# meal_counts, min_counts,hour_counts, day_counts,total_hours"
   ]
  },
  {
   "cell_type": "code",
   "execution_count": 179,
   "metadata": {},
   "outputs": [],
   "source": [
    "# import datetime\n",
    "# # d1 = datetime.strptime('Jun 1 2005  1:33PM', '%b %d %Y %I:%M%p')\n",
    "# d1 = datetime.timedelta(hours=13,minutes=50,seconds=0,microseconds= 0)\n",
    "# d2 = datetime.timedelta(hours=24,minutes=10,seconds=1,microseconds= 0)\n",
    "# # d2 = datetime.datetime(2014, 10, 27, 9, 50, 16)\n",
    "# # (d1-d2).seconds\n",
    "# (d2-d1)"
   ]
  },
  {
   "cell_type": "code",
   "execution_count": 116,
   "metadata": {},
   "outputs": [],
   "source": [
    "#  def loadEvents(filename ,debug_flag=False, print_file= True,root_path=\"../data-file-indices/CAD/\"):\n",
    "#     \"\"\"\n",
    "#     loads events data given the .shm filename\n",
    "#     and parse the event.txt file to obtain meal duration\n",
    "#     Input: \n",
    "#         filename:  <filename>-events.txt name of label file we want to load\n",
    "#     output:\n",
    "#         TotalEvents: amount of event loaded\n",
    "#         EventStart: a list of starting moment of meals\n",
    "#         EventEnd: a list of ending moment of meals\n",
    "#         EventNames: name of meal in string\n",
    "#     \"\"\"\n",
    "#     # Load the meals file to get any triaged meals.\n",
    "#     SkippedMeals = []\n",
    "#     if print_file:\n",
    "#         print(\"Loading File: \", filename)\n",
    "#     mealsfile = open( root_path +\"meals-shimmer.txt\", \"r\") \n",
    "    \n",
    "#     for line in mealsfile:\n",
    "#         #print(line)\n",
    "#         data = line.split()\n",
    "#         #print(data[0], data[1], data[13])\n",
    "#         if(int(data[13]) == 0):\n",
    "#             Mdata = [data[0][-9:], data[1], int(data[13])]\n",
    "#             SkippedMeals.append(Mdata)\n",
    "    \n",
    "#     EventsFileName = filename.replace(\".shm\",\"-events.txt\")\n",
    "    \n",
    "#     # Load the meals\n",
    "#     e_s_ls = []\n",
    "#     e_e_ls = []\n",
    "#     EventNames = []\n",
    "#     EventStart = (np.zeros((100))).astype(int)\n",
    "#     EventEnd = (np.zeros((100))).astype(int)\n",
    "#     TotalEvents = 0\n",
    "#     TimeOffset = 0\n",
    "#     EndTime = 0\n",
    "#     file = open(EventsFileName, \"r\") \n",
    "#     for lines in file:\n",
    "        \n",
    "#         words = lines.split()\n",
    "#         if debug_flag:\n",
    "#             print(\"Words:\", words)\n",
    "            \n",
    "#         if(len(words) == 0): continue # Skip empty lines\n",
    "#         # Convert Start time to offset\n",
    "#         if(words[0] == \"START\"): # Get Start Time (TimeOffset) from file\n",
    "#             #print(words)\n",
    "#             if words[2].count(\":\") <2:\n",
    "#                 words[2] = words[2] +\":00\"\n",
    "#             if debug_flag:\n",
    "#                 print(words[2])\n",
    "#             hours = int(words[2].split(\":\")[0])\n",
    "#             minutes = int(words[2].split(\":\")[1])\n",
    "#             seconds = int(words[2].split(\":\")[2])\n",
    "#             print(\"Start:\",datetime.timedelta(hours=hours,minutes=minutes,seconds=seconds,microseconds= 0))\n",
    "#             #print(\"{}h:{}m:{}s\".format(hours, minutes,seconds))\n",
    "#             TimeOffset = (hours * 60 * 60) + (minutes * 60) + seconds\n",
    "#             s_time = datetime.timedelta(hours=hours,minutes=minutes,seconds=seconds,microseconds= 0)#\n",
    "#             continue\n",
    "#         if(words[0] == \"END\"):\n",
    "#             if words[2].count(\":\") <2:\n",
    "#                 words[2] = words[2] +\":00\"\n",
    "#             if debug_flag:\n",
    "#                 print(words[2])\n",
    "#             hours = int(\"24\" if words[2].split(\":\")[0] == \"00\" else words[2].split(\":\")[0])\n",
    "            \n",
    "#             minutes = int(words[2].split(\":\")[1])\n",
    "#             seconds = int(words[2].split(\":\")[2])\n",
    "#             print(\"End: \",datetime.timedelta(hours=hours,minutes=minutes,seconds=seconds,microseconds= 0))\n",
    "#             #print(\"{}h:{}m:{}s\".format(hours, minutes,seconds))\n",
    "#             EndTime = ((hours * 60 * 60) + (minutes * 60) + seconds ) \n",
    "#             e_time =datetime.timedelta(hours=hours,minutes=minutes,seconds=seconds,microseconds= 0) #\n",
    "#             continue\n",
    "         \n",
    "#         # word index \n",
    "#         word_index = 0\n",
    "#         count = 0\n",
    "#         if debug_flag:\n",
    "#             print(\"Debug: \",words)\n",
    "#         while count <2 and word_index < len(words): # Process Events Data\n",
    "#             # skip all not- numeric string\n",
    "#             if words[word_index].replace(\":\",\"\").isnumeric():\n",
    "#                 count += 1\n",
    "#                 # check if time format is correct, if not, add \":00\"\n",
    "#                 if words[word_index].count(\":\") <2:\n",
    "#                     words[word_index] = words[word_index] +\":00\"\n",
    "                    \n",
    "#                 if debug_flag:\n",
    "#                     print(words[word_index])\n",
    "\n",
    "#                 hours = int(words[word_index].split(\":\")[0])\n",
    "#                 minutes = int(words[word_index].split(\":\")[1])\n",
    "#                 seconds = int(words[word_index].split(\":\")[2])\n",
    "#                 event_time =datetime.timedelta(hours=hours,minutes=minutes,seconds=seconds,microseconds= 0) #\n",
    "#                 #delta_time = event_time - s_time\n",
    "#                 #print(\"Event time:\",s_time,event_time,delta_time)\n",
    "#                 EventTime = (hours * 60 * 60) + (minutes * 60) + seconds\n",
    "#                 EventTime = EventTime - TimeOffset\n",
    "#                 if(count == 1): \n",
    "#                     EventStart[TotalEvents] = EventTime * 15\n",
    "#                     e_s_ls.append(event_time)\n",
    "#                 if(count == 2): \n",
    "#                     e_e_ls.append(event_time)\n",
    "#                     EventEnd[TotalEvents] = EventTime * 15\n",
    "            \n",
    "#             word_index += 1\n",
    "            \n",
    "#         if(TotalEvents>0):\n",
    "#             if(EventStart[TotalEvents]<EventStart[TotalEvents-1]):\n",
    "#                 EventStart[TotalEvents] = EventStart[TotalEvents] + (24*60*60*15)\n",
    "#             if(EventEnd[TotalEvents]<EventEnd[TotalEvents-1]):\n",
    "#                 EventEnd[TotalEvents] = EventEnd[TotalEvents] + (24*60*60*15)\n",
    "        \n",
    "        \n",
    "#         # Check if meal was triaged out for too much walking or rest\n",
    "#         ename = words[0]\n",
    "#         fname = filename[-9:]\n",
    "#         skipmeal = 0\n",
    "#         #print(fname, ename)\n",
    "#         for skippedmeal in SkippedMeals:\n",
    "#             Pname, EventName, Keep = skippedmeal\n",
    "#             if(Pname == fname and ename == EventName):\n",
    "#                 #print(Pname, EventName, Keep, ename, fname, Pname == fname, ename == EventName)\n",
    "#                 skipmeal = 1\n",
    "#                 break\n",
    "        \n",
    "#         if(skipmeal == 1): continue\n",
    "#         TotalEvents = TotalEvents + 1\n",
    "#         EventNames.append(ename)\n",
    "#     return TotalEvents, EventStart, EventEnd, EventNames, TimeOffset, EndTime, s_time, e_time, e_s_ls, e_e_ls\n",
    "    \n",
    "    \n",
    "    \n",
    "# def get_mealdataset_info(person_name = None,file_ls = [], file_ls_doc=None,root_path = \"../data/\",print_file=False):\n",
    "#         \"\"\"\n",
    "#         if file_ls is not given, then get file_ls according to person_name\n",
    "#         file path = root_path + file name in all_files_list.txt\n",
    "\n",
    "#         return:\n",
    "#             meal event count, total minutes of all meals, total hours of all meals,total day counts\n",
    "\n",
    "#         \"\"\"\n",
    "#         if person_name !=None:\n",
    "        \n",
    "        \n",
    "#             data_indices_file = \"../data-file-indices/\" +person_name+\"/\"+ file_ls_doc\n",
    "#             fp = open(data_indices_file,\"r\")\n",
    "            \n",
    "#             txt = fp.read()\n",
    "#             fp.close()\n",
    "#             file_ls = txt.split(\"\\n\")\n",
    "#             while '' in file_ls:\n",
    "#                 file_ls.remove('')\n",
    "\n",
    "#         meal_counts = 0\n",
    "#         sec_counts = 0\n",
    "#         min_counts = 0\n",
    "#         hour_counts = 0\n",
    "#         total_hours = 0\n",
    "#         total_mins = 0\n",
    "#         total_sec = 0\n",
    "#         total_s = 0\n",
    "#         sec_count = 0\n",
    "#         day_counts = len(file_ls)\n",
    "#         for file_name in file_ls:\n",
    "#             file_name = root_path + file_name\n",
    "#             TotalEvents, EventStart, EventEnd, EventNames, TimeOffset,EndTime,s_time, e_time,e_s_ls, e_e_ls = loadEvents(file_name, debug_flag = False, print_file=print_file)\n",
    "#             meal_counts += TotalEvents\n",
    "#             total_sec +=  (EndTime - TimeOffset)\n",
    "#             total_s += (e_time-s_time).seconds\n",
    "#             print(\"Day Hours: \",e_time-s_time)\n",
    "# #             total_hours += (EndTime//(60*60) - TimeOffset//(60*60))\n",
    "# #             total_mins  += (EndTime%(60*60) - TimeOffset//(60*60))\n",
    "#             for i in range(len(EventStart)):\n",
    "#                 sec_counts += ( EventEnd[i]- EventStart[i])//(15)\n",
    "#             for i in range(len(e_s_ls)):\n",
    "#                 sec_count += (e_e_ls[i] - e_s_ls[i]).seconds\n",
    "#                 print(\"Second Difference\",e_e_ls[i] - e_s_ls[i],(e_e_ls[i] - e_s_ls[i]).seconds)\n",
    "#         total_hours = total_sec//(60*60)\n",
    "#         min_counts = sec_counts//60\n",
    "#         hour_counts = min_counts//60\n",
    "#         print(\"total second: \",total_sec, total_s)\n",
    "#         print(\"Second: \",sec_count,sec_count/(60*60))\n",
    "        \n",
    "#         return meal_counts, min_counts,hour_counts, day_counts, total_hours\n",
    "    \n",
    "    \n",
    "# get_mealdataset_info(person_name = \"adam\",file_ls = [], file_ls_doc=\"all_files_list.txt\",root_path = \"../data/\",print_file=False)"
   ]
  },
  {
   "cell_type": "code",
   "execution_count": null,
   "metadata": {},
   "outputs": [],
   "source": []
  },
  {
   "cell_type": "code",
   "execution_count": 180,
   "metadata": {},
   "outputs": [],
   "source": [
    "# 1110/60"
   ]
  },
  {
   "cell_type": "code",
   "execution_count": null,
   "metadata": {},
   "outputs": [],
   "source": []
  }
 ],
 "metadata": {
  "kernelspec": {
   "display_name": "mlenv_v2",
   "language": "python",
   "name": "mlenv"
  },
  "language_info": {
   "codemirror_mode": {
    "name": "ipython",
    "version": 3
   },
   "file_extension": ".py",
   "mimetype": "text/x-python",
   "name": "python",
   "nbconvert_exporter": "python",
   "pygments_lexer": "ipython3",
   "version": "3.8.5"
  },
  "widgets": {
   "application/vnd.jupyter.widget-state+json": {
    "state": {},
    "version_major": 2,
    "version_minor": 0
   }
  }
 },
 "nbformat": 4,
 "nbformat_minor": 4
}
