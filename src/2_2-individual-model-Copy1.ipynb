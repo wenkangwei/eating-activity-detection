{
 "cells": [
  {
   "cell_type": "markdown",
   "metadata": {},
   "source": [
    "# 2.4 Individual Model 4-shaurya"
   ]
  },
  {
   "cell_type": "code",
   "execution_count": 1,
   "metadata": {},
   "outputs": [
    {
     "name": "stdout",
     "output_type": "stream",
     "text": [
      "Device:  cuda Device Count:  2 Device Name:  Tesla V100-PCIE-16GB\n",
      "Torch version: 1.7.1\n"
     ]
    },
    {
     "data": {
      "text/plain": [
       "device(type='cuda')"
      ]
     },
     "execution_count": 1,
     "metadata": {},
     "output_type": "execute_result"
    }
   ],
   "source": [
    "import numpy as np\n",
    "import pandas as pd\n",
    "import torch\n",
    "from torch import optim, nn\n",
    "import sklearn\n",
    "import seaborn as sns\n",
    "import matplotlib.pyplot as plt\n",
    "%matplotlib inline\n",
    "import os\n",
    "from dataset import create_train_test_file_list, Person_MealsDataset, balance_data_indices\n",
    "\n",
    "\n",
    "device = torch.device(\"cuda\" if torch.cuda.is_available() else \"cpu\")\n",
    "if torch.cuda.is_available():\n",
    "    print(\"Device: \",device,\"Device Count: \", torch.cuda.device_count(), \"Device Name: \",torch.cuda.get_device_name()  )\n",
    "    print(\"Torch version:\", torch.__version__)\n",
    "device"
   ]
  },
  {
   "cell_type": "code",
   "execution_count": 2,
   "metadata": {},
   "outputs": [],
   "source": [
    "import sys\n",
    "\n",
    "### imports\n",
    "import os\n",
    "os.environ['TF_CPP_MIN_LOG_LEVEL'] = '3' # Turn off TensorFlow logging\n",
    "import tensorflow.compat.v1 as tf # maintain compatibility with TensorFlow 2.2.0\n",
    "\n",
    "import keras\n",
    "# from tensorflow.compat.v1.keras import backend as K # changed for compatibility with TensorFlow 2.2.0\n",
    "import numpy as np\n",
    "import pandas as pd\n",
    "import random\n",
    "#from sklearn.metrics import classification_report, confusion_matrix\n",
    "from datetime import datetime\n",
    "import loadfile\n",
    "import addons\n",
    "\n",
    "import keras\n",
    "from keras.models import Sequential\n",
    "from keras.layers import Dense, Dropout, Flatten, Reshape, Activation\n",
    "from keras.layers import Conv1D, MaxPooling1D, GlobalAveragePooling1D\n",
    "from keras.utils import np_utils\n",
    "from keras.regularizers import l1\n",
    "from keras.models import load_model, save_model\n",
    "\n",
    "from tensorflow.compat.v1.keras import backend as K\n",
    "import numpy as np\n",
    "\n",
    "shimmer_global_mean = [-0.012359981,-0.0051663737,0.011612018,\n",
    "                        0.05796114,0.1477952,-0.034395125 ]\n",
    "\n",
    "shimmer_global_stddev = [0.05756385,0.040893298,0.043825723,\n",
    "                        17.199743,15.311142,21.229317 ]\n",
    "\n",
    "shimmer_trended_mean = [-0.000002,-0.000002,-0.000000,\n",
    "                0.058144,0.147621,-0.033260 ]\n",
    "\n",
    "shimmer_trended_stddev = [0.037592,0.034135,0.032263,\n",
    "                17.209038,15.321441,21.242532 ]\n",
    "\n",
    "all_zero_means = [0,0,0,0,0,0]\n",
    "\n",
    "meanvals = all_zero_means\n",
    "stdvals = shimmer_trended_stddev\n",
    "\n",
    "\n",
    "random_seed  = 1000\n",
    "batch_size = 128"
   ]
  },
  {
   "cell_type": "code",
   "execution_count": 3,
   "metadata": {},
   "outputs": [],
   "source": [
    "# Load my models and functions\n",
    "from dataset import create_train_test_file_list, Person_MealsDataset, balance_data_indices\n",
    "from utils import *\n",
    "from model import *\n"
   ]
  },
  {
   "cell_type": "code",
   "execution_count": 4,
   "metadata": {},
   "outputs": [
    {
     "name": "stdout",
     "output_type": "stream",
     "text": [
      "*****************************************************************\n",
      "\n",
      "Execution Started at 12/20/2020, 20:07:31\n",
      "WindowLength: 3.00 min (2700 datum)\tSlide: 15 (225 datum)\tEpochs:30\n",
      "\n"
     ]
    }
   ],
   "source": [
    "EPOCHS = 30\n",
    "winmin = 3 \n",
    "stridesec = 15\n",
    "\n",
    "print_settings(winmin,stridesec, EPOCHS)"
   ]
  },
  {
   "cell_type": "code",
   "execution_count": 5,
   "metadata": {},
   "outputs": [
    {
     "name": "stdout",
     "output_type": "stream",
     "text": [
      "Loading Dataset ...\n",
      "Loading File:  ../data/IndividualData/shaurya-data/10.22.2020/Data.shm\n",
      "Loading File:  ../data/IndividualData/shaurya-data/10.25.2020/Data.shm\n",
      "Loading File:  ../data/IndividualData/shaurya-data/11.1.2020/Data.shm\n",
      "Loading File:  ../data/IndividualData/shaurya-data/11.15.2020/Data.shm\n",
      "Loading File:  ../data/IndividualData/shaurya-data/11.17.2020/Data.shm\n",
      "Loading File:  ../data/IndividualData/shaurya-data/11.18.2020/Data.shm\n",
      "Train set size: 12547, with 752 positive samples and 11795 negative samples\n",
      "Test set size: 3137, with 188 positive samples and 2949 negative samples\n"
     ]
    }
   ],
   "source": [
    "person = \"shaurya\"\n",
    "meal_data = Person_MealsDataset(person_name= person, file_name = \"all_files_list\", winmin = winmin,stridesec = stridesec)\n",
    "samples,labels =  meal_data.data_indices, meal_data.labels\n",
    "# split train set and test set\n",
    "train_indices, test_indices = split_train_test_indices(X= [i for i in range(len(labels))],\n",
    "                                                        y = labels, test_size = 0.2,\n",
    "                                                       random_seed = random_seed)\n",
    "# balance train set\n",
    "trainset_labels = labels[train_indices]\n",
    "train_indices_balanced = balance_data_indices(trainset_labels,data_indices= train_indices,mode=\"under\", shuffle=True,random_state = random_seed,replace= False)\n"
   ]
  },
  {
   "cell_type": "code",
   "execution_count": 6,
   "metadata": {},
   "outputs": [
    {
     "name": "stdout",
     "output_type": "stream",
     "text": [
      "Data Loader Created\n"
     ]
    }
   ],
   "source": [
    "train_set_balanced = torch.utils.data.Subset(meal_data, train_indices_balanced)\n",
    "test_set = torch.utils.data.Subset(meal_data, test_indices)\n",
    "\n",
    "train_loader = torch.utils.data.DataLoader(train_set_balanced,batch_size=batch_size, shuffle=True,num_workers=2)\n",
    "test_loader = torch.utils.data.DataLoader(test_set ,batch_size=batch_size, shuffle=True,num_workers=2)\n",
    "\n",
    "print(\"Data Loader Created\")"
   ]
  },
  {
   "cell_type": "code",
   "execution_count": 11,
   "metadata": {},
   "outputs": [
    {
     "name": "stdout",
     "output_type": "stream",
     "text": [
      "Train set size: 1203, with 601 positive samples and 602 negative samples\n",
      "Test set size: 301, with 151 positive samples and 150 negative samples\n",
      "Training set batch amounts: 12\n",
      "Test set : 3\n",
      "Start Training..\n",
      "Epoch: 0,  Epoch_Loss: 1.7956, Train Acc: 59.6410 %, Train Recall: 0.5426, Validation Acc:  59.1362 %,  Validation Recall: 0.4503  \n",
      "Checkpoint Saved\n",
      "\n",
      "\n",
      "Epoch: 1,  Epoch_Loss: 0.7998, Train Acc: 64.0293 %, Train Recall: 0.6489, Validation Acc:  60.1329 %,  Validation Recall: 0.2649  \n",
      "Checkpoint Saved\n",
      "\n",
      "\n",
      "Epoch: 2,  Epoch_Loss: 0.5869, Train Acc: 69.5479 %, Train Recall: 0.6769, Validation Acc:  72.7575 %,  Validation Recall: 0.8675  \n",
      "Checkpoint Saved\n",
      "\n",
      "\n",
      "Epoch: 3,  Epoch_Loss: 0.5257, Train Acc: 74.2021 %, Train Recall: 0.7726, Validation Acc:  73.4219 %,  Validation Recall: 0.8013  \n",
      "Checkpoint Saved\n",
      "\n",
      "\n",
      "Epoch: 4,  Epoch_Loss: 0.4865, Train Acc: 76.0638 %, Train Recall: 0.7314, Validation Acc:  76.7442 %,  Validation Recall: 0.8079  \n",
      "Checkpoint Saved\n",
      "\n",
      "\n",
      "Epoch: 5,  Epoch_Loss: 0.4770, Train Acc: 76.9282 %, Train Recall: 0.7394, Validation Acc:  77.0764 %,  Validation Recall: 0.8079  \n",
      "Checkpoint Saved\n",
      "\n",
      "\n",
      "Epoch: 6,  Epoch_Loss: 0.4713, Train Acc: 76.8617 %, Train Recall: 0.7527, Validation Acc:  78.0731 %,  Validation Recall: 0.7881  \n",
      "Checkpoint Saved\n",
      "\n",
      "\n",
      "Epoch: 7,  Epoch_Loss: 0.4691, Train Acc: 77.5931 %, Train Recall: 0.7527, Validation Acc:  78.7375 %,  Validation Recall: 0.7815  \n",
      "Checkpoint Saved\n",
      "\n",
      "\n",
      "Epoch: 8,  Epoch_Loss: 0.4685, Train Acc: 76.8617 %, Train Recall: 0.7447, Validation Acc:  78.7375 %,  Validation Recall: 0.7881  \n",
      "\n",
      "\n",
      "Epoch: 9,  Epoch_Loss: 0.4700, Train Acc: 77.4601 %, Train Recall: 0.7580, Validation Acc:  79.0698 %,  Validation Recall: 0.7947  \n",
      "Checkpoint Saved\n",
      "\n",
      "\n",
      "Epoch: 10,  Epoch_Loss: 0.4671, Train Acc: 77.8590 %, Train Recall: 0.7593, Validation Acc:  78.4053 %,  Validation Recall: 0.7881  \n",
      "\n",
      "\n",
      "Epoch: 11,  Epoch_Loss: 0.4671, Train Acc: 76.8617 %, Train Recall: 0.7487, Validation Acc:  78.7375 %,  Validation Recall: 0.7881  \n",
      "\n",
      "\n",
      "Epoch: 12,  Epoch_Loss: 0.4657, Train Acc: 76.6622 %, Train Recall: 0.7540, Validation Acc:  78.7375 %,  Validation Recall: 0.7947  \n",
      "\n",
      "\n",
      "Epoch: 13,  Epoch_Loss: 0.4679, Train Acc: 76.9282 %, Train Recall: 0.7527, Validation Acc:  78.7375 %,  Validation Recall: 0.7881  \n",
      "\n",
      "\n",
      "Epoch: 14,  Epoch_Loss: 0.4662, Train Acc: 77.4601 %, Train Recall: 0.7580, Validation Acc:  78.4053 %,  Validation Recall: 0.7881  \n",
      "\n",
      "\n",
      "Epoch: 15,  Epoch_Loss: 0.4638, Train Acc: 77.7261 %, Train Recall: 0.7606, Validation Acc:  78.4053 %,  Validation Recall: 0.7881  \n",
      "\n",
      "\n",
      "Epoch: 16,  Epoch_Loss: 0.4700, Train Acc: 76.9947 %, Train Recall: 0.7566, Validation Acc:  78.4053 %,  Validation Recall: 0.7881  \n",
      "\n",
      "\n",
      "Epoch: 17,  Epoch_Loss: 0.4692, Train Acc: 76.3298 %, Train Recall: 0.7434, Validation Acc:  78.7375 %,  Validation Recall: 0.7881  \n",
      "\n",
      "\n",
      "Epoch: 18,  Epoch_Loss: 0.4701, Train Acc: 76.9282 %, Train Recall: 0.7500, Validation Acc:  79.0698 %,  Validation Recall: 0.7947  \n",
      "\n",
      "\n",
      "Epoch: 19,  Epoch_Loss: 0.4650, Train Acc: 77.3271 %, Train Recall: 0.7620, Validation Acc:  78.7375 %,  Validation Recall: 0.7881  \n",
      "\n",
      "\n",
      "Epoch: 20,  Epoch_Loss: 0.4655, Train Acc: 77.7926 %, Train Recall: 0.7566, Validation Acc:  79.0698 %,  Validation Recall: 0.7947  \n",
      "\n",
      "\n",
      "Epoch: 21,  Epoch_Loss: 0.4693, Train Acc: 76.4628 %, Train Recall: 0.7447, Validation Acc:  78.7375 %,  Validation Recall: 0.7881  \n",
      "\n",
      "\n",
      "Epoch: 22,  Epoch_Loss: 0.4687, Train Acc: 76.8617 %, Train Recall: 0.7500, Validation Acc:  78.7375 %,  Validation Recall: 0.7881  \n",
      "\n",
      "\n",
      "Epoch: 23,  Epoch_Loss: 0.4646, Train Acc: 76.9282 %, Train Recall: 0.7487, Validation Acc:  78.4053 %,  Validation Recall: 0.7947  \n",
      "\n",
      "\n",
      "Epoch: 24,  Epoch_Loss: 0.4685, Train Acc: 77.3936 %, Train Recall: 0.7513, Validation Acc:  78.7375 %,  Validation Recall: 0.7947  \n",
      "\n",
      "\n",
      "Epoch: 25,  Epoch_Loss: 0.4689, Train Acc: 76.9282 %, Train Recall: 0.7500, Validation Acc:  78.7375 %,  Validation Recall: 0.7881  \n",
      "\n",
      "\n",
      "Epoch: 26,  Epoch_Loss: 0.4647, Train Acc: 77.0612 %, Train Recall: 0.7540, Validation Acc:  78.7375 %,  Validation Recall: 0.7881  \n",
      "\n",
      "\n",
      "Epoch: 27,  Epoch_Loss: 0.4680, Train Acc: 76.7287 %, Train Recall: 0.7540, Validation Acc:  78.4053 %,  Validation Recall: 0.7881  \n",
      "\n",
      "\n",
      "Epoch: 28,  Epoch_Loss: 0.4657, Train Acc: 77.5931 %, Train Recall: 0.7566, Validation Acc:  78.7375 %,  Validation Recall: 0.7881  \n",
      "\n",
      "\n",
      "Epoch: 29,  Epoch_Loss: 0.4686, Train Acc: 77.2606 %, Train Recall: 0.7566, Validation Acc:  78.7375 %,  Validation Recall: 0.7881  \n",
      "\n",
      "\n",
      "Epoch: 30,  Epoch_Loss: 0.4652, Train Acc: 77.2606 %, Train Recall: 0.7487, Validation Acc:  78.7375 %,  Validation Recall: 0.7881  \n",
      "\n",
      "\n",
      "Epoch: 31,  Epoch_Loss: 0.4645, Train Acc: 77.6596 %, Train Recall: 0.7593, Validation Acc:  78.4053 %,  Validation Recall: 0.7881  \n",
      "\n",
      "\n",
      "Epoch: 32,  Epoch_Loss: 0.4660, Train Acc: 76.8617 %, Train Recall: 0.7620, Validation Acc:  78.7375 %,  Validation Recall: 0.7881  \n",
      "\n",
      "\n",
      "Epoch: 33,  Epoch_Loss: 0.4686, Train Acc: 76.8617 %, Train Recall: 0.7553, Validation Acc:  78.4053 %,  Validation Recall: 0.7881  \n",
      "\n",
      "\n",
      "Epoch: 34,  Epoch_Loss: 0.4680, Train Acc: 77.0612 %, Train Recall: 0.7473, Validation Acc:  78.7375 %,  Validation Recall: 0.7881  \n",
      "\n",
      "\n",
      "Epoch: 35,  Epoch_Loss: 0.4666, Train Acc: 77.1941 %, Train Recall: 0.7513, Validation Acc:  78.7375 %,  Validation Recall: 0.7947  \n",
      "\n",
      "\n",
      "Epoch: 36,  Epoch_Loss: 0.4703, Train Acc: 76.9947 %, Train Recall: 0.7566, Validation Acc:  79.0698 %,  Validation Recall: 0.7947  \n",
      "\n",
      "\n",
      "Epoch: 37,  Epoch_Loss: 0.4655, Train Acc: 77.3271 %, Train Recall: 0.7566, Validation Acc:  78.7375 %,  Validation Recall: 0.7947  \n",
      "\n",
      "\n",
      "Epoch: 38,  Epoch_Loss: 0.4716, Train Acc: 77.0612 %, Train Recall: 0.7620, Validation Acc:  78.7375 %,  Validation Recall: 0.7881  \n",
      "\n",
      "\n",
      "Epoch: 39,  Epoch_Loss: 0.4688, Train Acc: 77.7261 %, Train Recall: 0.7646, Validation Acc:  78.7375 %,  Validation Recall: 0.7881  \n",
      "\n",
      "\n",
      "Epoch: 40,  Epoch_Loss: 0.4661, Train Acc: 76.3963 %, Train Recall: 0.7447, Validation Acc:  78.7375 %,  Validation Recall: 0.7881  \n",
      "\n",
      "\n",
      "Epoch: 41,  Epoch_Loss: 0.4664, Train Acc: 77.5266 %, Train Recall: 0.7646, Validation Acc:  78.4053 %,  Validation Recall: 0.7881  \n",
      "\n",
      "\n",
      "Epoch: 42,  Epoch_Loss: 0.4635, Train Acc: 77.0612 %, Train Recall: 0.7527, Validation Acc:  78.7375 %,  Validation Recall: 0.7881  \n",
      "\n",
      "\n",
      "Epoch: 43,  Epoch_Loss: 0.4672, Train Acc: 77.5266 %, Train Recall: 0.7580, Validation Acc:  78.4053 %,  Validation Recall: 0.7881  \n",
      "\n",
      "\n",
      "Epoch: 44,  Epoch_Loss: 0.4653, Train Acc: 77.2606 %, Train Recall: 0.7593, Validation Acc:  78.7375 %,  Validation Recall: 0.7881  \n",
      "\n",
      "\n",
      "Epoch: 45,  Epoch_Loss: 0.4698, Train Acc: 76.6622 %, Train Recall: 0.7513, Validation Acc:  78.7375 %,  Validation Recall: 0.7947  \n",
      "\n",
      "\n",
      "Epoch: 46,  Epoch_Loss: 0.4696, Train Acc: 77.1277 %, Train Recall: 0.7553, Validation Acc:  78.7375 %,  Validation Recall: 0.7947  \n",
      "\n",
      "\n",
      "Epoch: 47,  Epoch_Loss: 0.4646, Train Acc: 76.5957 %, Train Recall: 0.7527, Validation Acc:  79.0698 %,  Validation Recall: 0.7947  \n",
      "\n",
      "\n",
      "Epoch: 48,  Epoch_Loss: 0.4680, Train Acc: 77.5266 %, Train Recall: 0.7527, Validation Acc:  78.4053 %,  Validation Recall: 0.7881  \n",
      "\n",
      "\n",
      "Epoch: 49,  Epoch_Loss: 0.4689, Train Acc: 76.8617 %, Train Recall: 0.7473, Validation Acc:  78.4053 %,  Validation Recall: 0.7947  \n",
      "\n",
      "\n",
      "Load Best Model.\n",
      "Training completed\n"
     ]
    }
   ],
   "source": [
    "torch.manual_seed(random_seed)\n",
    "\n",
    "# split validation set\n",
    "balanced_trainset_labels = labels[train_indices_balanced]\n",
    "train_indices, valid_indices = split_train_test_indices(X= train_indices_balanced,\n",
    "                                                        y = balanced_trainset_labels, test_size = 0.2,\n",
    "                                                       random_seed = random_seed)\n",
    "\n",
    "valid_set_balanced = torch.utils.data.Subset(meal_data, valid_indices)\n",
    "valid_loader = torch.utils.data.DataLoader(valid_set_balanced,batch_size=batch_size, shuffle=True,num_workers=2)\n",
    "\n",
    "# train model\n",
    "input_shape = (train_set_balanced[0][0].shape[0], train_set_balanced[0][0].shape[1])\n",
    "model_1 = Discriminator_ResNet( ngpu=1, input_shape =input_shape , out_fea = 1)\n",
    "_ = model_1(torch.rand((1, input_shape[0],input_shape[1])))\n",
    "model_1.to(device)\n",
    "criterion_1 = nn.BCEWithLogitsLoss()\n",
    "optimizer_1 = optim.Adam(model_1.parameters(),lr=0.01,  weight_decay=0.1)\n",
    "lrscheduler_1 = optim.lr_scheduler.ReduceLROnPlateau(optimizer_1, mode='min',patience= 2, factor = 0.1,threshold=0.01)\n",
    "dataloader = (train_loader, valid_loader)\n",
    "model_1, best_model_1,val_score_1,loss_ls_1, train_acc_ls_1, valid_acc_ls_1 = train_model(model_1,dataloader, optimizer_1, \n",
    "                                                                    criterion_1, lrscheduler_1, device= device,\n",
    "                                                                    n_epochs=50, patience = 5, l1_enabled=False,\n",
    "                                                                    checkpoint_name =\"../models/shaurya_models/checkpoint_model_resnet.pt\" )"
   ]
  },
  {
   "cell_type": "code",
   "execution_count": 12,
   "metadata": {},
   "outputs": [
    {
     "name": "stdout",
     "output_type": "stream",
     "text": [
      "Test Accuracy: 71.34204654128148\n"
     ]
    }
   ],
   "source": [
    "best_model_1.eval()\n",
    "acc, recall = eval_model(best_model_1, test_loader,device)\n",
    "print(\"Test Accuracy:\", acc)"
   ]
  },
  {
   "cell_type": "code",
   "execution_count": 8,
   "metadata": {},
   "outputs": [],
   "source": [
    "# Test to check if random generated indices can be reproducted\n",
    "# ls = balance_data_indices(traininglabels,mode=\"under\", shuffle=True,random_state = random_seed)\n",
    "# ls ==train_shuffledUnderSampledBalancedIndices"
   ]
  },
  {
   "cell_type": "code",
   "execution_count": 15,
   "metadata": {},
   "outputs": [],
   "source": []
  },
  {
   "cell_type": "code",
   "execution_count": null,
   "metadata": {},
   "outputs": [],
   "source": []
  }
 ],
 "metadata": {
  "kernelspec": {
   "display_name": "Python3.8 mlenv",
   "language": "python",
   "name": "mlenv"
  },
  "language_info": {
   "codemirror_mode": {
    "name": "ipython",
    "version": 3
   },
   "file_extension": ".py",
   "mimetype": "text/x-python",
   "name": "python",
   "nbconvert_exporter": "python",
   "pygments_lexer": "ipython3",
   "version": "3.8.5"
  }
 },
 "nbformat": 4,
 "nbformat_minor": 4
}
